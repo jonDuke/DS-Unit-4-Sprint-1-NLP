{
 "cells": [
  {
   "cell_type": "markdown",
   "metadata": {},
   "source": [
    "<img align=\"left\" src=\"https://lever-client-logos.s3.amazonaws.com/864372b1-534c-480e-acd5-9711f850815c-1524247202159.png\" width=200>\n",
    "<br></br>\n",
    "<br></br>\n",
    "\n",
    "# Topic Modeling\n",
    "## *Data Science Unit 4 Sprint 1 Assignment 4*\n",
    "\n",
    "Analyze a corpus of Amazon reviews from Unit 4 Sprint 1 Module 1's lecture using topic modeling: \n",
    "\n",
    "- Fit a Gensim LDA topic model on Amazon Reviews\n",
    "- Select appropriate number of topics\n",
    "- Create some dope visualization of the topics\n",
    "- Write a few bullets on your findings in markdown at the end\n",
    "- **Note**: You don't *have* to use generators for this assignment"
   ]
  },
  {
   "cell_type": "markdown",
   "metadata": {},
   "source": [
    "### Load the data"
   ]
  },
  {
   "cell_type": "code",
   "execution_count": 1,
   "metadata": {},
   "outputs": [
    {
     "data": {
      "text/plain": [
       "'C:\\\\Users\\\\thedo\\\\lambda_u4\\\\DS-Unit-4-Sprint-1-NLP\\\\module4-topic-modeling'"
      ]
     },
     "execution_count": 1,
     "metadata": {},
     "output_type": "execute_result"
    }
   ],
   "source": [
    "%pwd"
   ]
  },
  {
   "cell_type": "code",
   "execution_count": 2,
   "metadata": {},
   "outputs": [
    {
     "data": {
      "text/plain": [
       "(28332, 24)"
      ]
     },
     "execution_count": 2,
     "metadata": {},
     "output_type": "execute_result"
    }
   ],
   "source": [
    "import pandas as pd\n",
    "df = pd.read_csv('../module1-text-data/data/Datafiniti_Amazon_Consumer_Reviews_of_Amazon_Products_May19.csv')\n",
    "df.shape"
   ]
  },
  {
   "cell_type": "code",
   "execution_count": 3,
   "metadata": {},
   "outputs": [
    {
     "data": {
      "text/plain": [
       "Index(['id', 'dateAdded', 'dateUpdated', 'name', 'asins', 'brand',\n",
       "       'categories', 'primaryCategories', 'imageURLs', 'keys', 'manufacturer',\n",
       "       'manufacturerNumber', 'reviews.date', 'reviews.dateSeen',\n",
       "       'reviews.didPurchase', 'reviews.doRecommend', 'reviews.id',\n",
       "       'reviews.numHelpful', 'reviews.rating', 'reviews.sourceURLs',\n",
       "       'reviews.text', 'reviews.title', 'reviews.username', 'sourceURLs'],\n",
       "      dtype='object')"
      ]
     },
     "execution_count": 3,
     "metadata": {},
     "output_type": "execute_result"
    }
   ],
   "source": [
    "df.columns"
   ]
  },
  {
   "cell_type": "code",
   "execution_count": 4,
   "metadata": {},
   "outputs": [
    {
     "data": {
      "text/plain": [
       "Electronics                    13995\n",
       "Health & Beauty                12071\n",
       "Toys & Games,Electronics        1676\n",
       "Office Supplies,Electronics      386\n",
       "Electronics,Media                185\n",
       "Office Supplies                    9\n",
       "Animals & Pet Supplies             6\n",
       "Home & Garden                      2\n",
       "Electronics,Furniture              2\n",
       "Name: primaryCategories, dtype: int64"
      ]
     },
     "execution_count": 4,
     "metadata": {},
     "output_type": "execute_result"
    }
   ],
   "source": [
    "df['primaryCategories'].value_counts()"
   ]
  },
  {
   "cell_type": "code",
   "execution_count": 370,
   "metadata": {},
   "outputs": [
    {
     "data": {
      "text/plain": [
       "(13995, 24)"
      ]
     },
     "execution_count": 370,
     "metadata": {},
     "output_type": "execute_result"
    }
   ],
   "source": [
    "electronics = df[df['primaryCategories'] == 'Electronics'].copy()\n",
    "electronics.shape"
   ]
  },
  {
   "cell_type": "markdown",
   "metadata": {},
   "source": [
    "### Get tokens"
   ]
  },
  {
   "cell_type": "code",
   "execution_count": 6,
   "metadata": {},
   "outputs": [],
   "source": [
    "# define tokenize function\n",
    "from gensim.utils import simple_preprocess\n",
    "from gensim.parsing.preprocessing import STOPWORDS\n",
    "\n",
    "def tokenize(text):\n",
    "    return [token for token in simple_preprocess(text) if token not in STOPWORDS]"
   ]
  },
  {
   "cell_type": "code",
   "execution_count": 8,
   "metadata": {},
   "outputs": [
    {
     "data": {
      "text/plain": [
       "8343    [great, case, place, husband, love, holds, lot...\n",
       "8344    [discarding, getting, rid, broken, cd, cases, ...\n",
       "8345                        [dollars, boycotting, amazon]\n",
       "8346    [initial, impression, good, material, nicer, s...\n",
       "8347    [pros, standard, echo, cons, older, generation...\n",
       "Name: reviews.text, dtype: object"
      ]
     },
     "execution_count": 8,
     "metadata": {},
     "output_type": "execute_result"
    }
   ],
   "source": [
    "review_tokens = electronics['reviews.text'].apply(tokenize)\n",
    "review_tokens[:5]"
   ]
  },
  {
   "cell_type": "markdown",
   "metadata": {},
   "source": [
    "### Create the id2word dictionary\n",
    "\n",
    "https://radimrehurek.com/gensim/corpora/dictionary.html"
   ]
  },
  {
   "cell_type": "code",
   "execution_count": 64,
   "metadata": {},
   "outputs": [],
   "source": [
    "from gensim import corpora\n",
    "\n",
    "id2word = corpora.Dictionary(review_tokens)"
   ]
  },
  {
   "cell_type": "code",
   "execution_count": 11,
   "metadata": {},
   "outputs": [
    {
     "data": {
      "text/plain": [
       "13995"
      ]
     },
     "execution_count": 11,
     "metadata": {},
     "output_type": "execute_result"
    }
   ],
   "source": [
    "# number of documents processed (should equal the number of electronics reviews)\n",
    "id2word.num_docs"
   ]
  },
  {
   "cell_type": "code",
   "execution_count": 12,
   "metadata": {},
   "outputs": [
    {
     "data": {
      "text/plain": [
       "186194"
      ]
     },
     "execution_count": 12,
     "metadata": {},
     "output_type": "execute_result"
    }
   ],
   "source": [
    "# number of total words in all documents\n",
    "id2word.num_pos"
   ]
  },
  {
   "cell_type": "code",
   "execution_count": 13,
   "metadata": {},
   "outputs": [
    {
     "data": {
      "text/plain": [
       "7012"
      ]
     },
     "execution_count": 13,
     "metadata": {},
     "output_type": "execute_result"
    }
   ],
   "source": [
    "# number of unique words\n",
    "len(id2word)\n",
    "\n",
    "# same thing\n",
    "#len(id2word.keys())"
   ]
  },
  {
   "cell_type": "code",
   "execution_count": 15,
   "metadata": {},
   "outputs": [
    {
     "data": {
      "text/plain": [
       "759"
      ]
     },
     "execution_count": 15,
     "metadata": {},
     "output_type": "execute_result"
    }
   ],
   "source": [
    "# id of a particular word\n",
    "id2word.token2id['tablet']"
   ]
  },
  {
   "cell_type": "code",
   "execution_count": 16,
   "metadata": {},
   "outputs": [
    {
     "data": {
      "text/plain": [
       "5908"
      ]
     },
     "execution_count": 16,
     "metadata": {},
     "output_type": "execute_result"
    }
   ],
   "source": [
    "# number of times that word appears in all documents (collection frequency)\n",
    "id2word.cfs[759]"
   ]
  },
  {
   "cell_type": "code",
   "execution_count": 17,
   "metadata": {},
   "outputs": [
    {
     "data": {
      "text/plain": [
       "4622"
      ]
     },
     "execution_count": 17,
     "metadata": {},
     "output_type": "execute_result"
    }
   ],
   "source": [
    "# number of documents that contain that word (document frequency)\n",
    "id2word.dfs[759]"
   ]
  },
  {
   "cell_type": "code",
   "execution_count": 66,
   "metadata": {},
   "outputs": [
    {
     "name": "stdout",
     "output_type": "stream",
     "text": [
      "Number of words before filtering: 7012\n",
      "Number of words after filtering: 2613\n"
     ]
    }
   ],
   "source": [
    "# filter outliers, most and least common words\n",
    "\n",
    "# library defaults:\n",
    "# no_below=5    removes any words appearing in less than 5 documents (this filters WAY more words than no_above does)\n",
    "# no_above=.5   removes any words appearing in more than 50% of documents \n",
    "\n",
    "# note: filtering the top 5% of documents ignores all words appearing in more than 700 documents.  (.05 * 13995 = 699.75) \n",
    "\n",
    "id2word = corpora.Dictionary(review_tokens) # running this again here so the cell can be re-ran on its own\n",
    "print(\"Number of words before filtering:\", len(id2word))\n",
    "id2word.filter_extremes(no_below=5, no_above=0.95)\n",
    "print(\"Number of words after filtering:\", len(id2word))"
   ]
  },
  {
   "cell_type": "markdown",
   "metadata": {},
   "source": [
    "### Run LDA once\n",
    "\n",
    "https://radimrehurek.com/gensim/models/ldamulticore.html"
   ]
  },
  {
   "cell_type": "code",
   "execution_count": 41,
   "metadata": {},
   "outputs": [],
   "source": [
    "# create a bag of words representation of our corpus\n",
    "corpus = [id2word.doc2bow(text) for text in review_tokens]"
   ]
  },
  {
   "cell_type": "code",
   "execution_count": 42,
   "metadata": {},
   "outputs": [
    {
     "data": {
      "text/plain": [
       "[(0, 1), (1, 1), (2, 1), (3, 1), (4, 1), (5, 1), (6, 1)]"
      ]
     },
     "execution_count": 42,
     "metadata": {},
     "output_type": "execute_result"
    }
   ],
   "source": [
    "# tokens in the first review (after the filter_extremes method)\n",
    "corpus[0]"
   ]
  },
  {
   "cell_type": "code",
   "execution_count": 43,
   "metadata": {},
   "outputs": [],
   "source": [
    "# actually run LDA\n",
    "from gensim.models.ldamulticore import LdaMulticore\n",
    "lda = LdaMulticore(corpus=corpus,\n",
    "                   id2word=id2word,\n",
    "                   random_state=42,\n",
    "                   num_topics = 10,\n",
    "                   passes=10,\n",
    "                   workers=5  # documentation recommends number of real cores minus 1\n",
    "                  )"
   ]
  },
  {
   "cell_type": "code",
   "execution_count": 44,
   "metadata": {},
   "outputs": [
    {
     "data": {
      "text/plain": [
       "[(0,\n",
       "  '0.040*\"tablet\" + 0.025*\"great\" + 0.024*\"best\" + 0.021*\"buy\" + 0.020*\"battery\" + 0.017*\"good\" + 0.016*\"little\" + 0.014*\"screen\" + 0.014*\"life\" + 0.013*\"nice\"'),\n",
       " (1,\n",
       "  '0.071*\"kindle\" + 0.020*\"read\" + 0.018*\"books\" + 0.016*\"better\" + 0.016*\"new\" + 0.016*\"reading\" + 0.016*\"screen\" + 0.014*\"love\" + 0.014*\"like\" + 0.014*\"bought\"'),\n",
       " (2,\n",
       "  '0.028*\"tablet\" + 0.018*\"bought\" + 0.016*\"price\" + 0.014*\"ipad\" + 0.014*\"card\" + 0.014*\"pretty\" + 0.012*\"buy\" + 0.012*\"keyboard\" + 0.012*\"needs\" + 0.011*\"gb\"'),\n",
       " (3,\n",
       "  '0.023*\"great\" + 0.018*\"amazon\" + 0.017*\"screen\" + 0.016*\"alexa\" + 0.016*\"like\" + 0.015*\"sound\" + 0.014*\"love\" + 0.014*\"device\" + 0.013*\"size\" + 0.012*\"tap\"'),\n",
       " (4,\n",
       "  '0.033*\"product\" + 0.024*\"great\" + 0.023*\"tablet\" + 0.019*\"good\" + 0.018*\"buy\" + 0.015*\"charging\" + 0.014*\"charge\" + 0.012*\"time\" + 0.010*\"best\" + 0.009*\"purchased\"'),\n",
       " (5,\n",
       "  '0.078*\"easy\" + 0.065*\"great\" + 0.061*\"use\" + 0.043*\"tablet\" + 0.026*\"old\" + 0.025*\"loves\" + 0.023*\"love\" + 0.019*\"bought\" + 0.019*\"recommend\" + 0.015*\"perfect\"'),\n",
       " (6,\n",
       "  '0.076*\"great\" + 0.038*\"tablet\" + 0.027*\"price\" + 0.024*\"love\" + 0.024*\"books\" + 0.021*\"reading\" + 0.019*\"use\" + 0.017*\"movies\" + 0.017*\"good\" + 0.015*\"games\"'),\n",
       " (7,\n",
       "  '0.043*\"tablet\" + 0.040*\"kids\" + 0.024*\"games\" + 0.022*\"apps\" + 0.021*\"use\" + 0.021*\"love\" + 0.019*\"year\" + 0.017*\"great\" + 0.015*\"old\" + 0.014*\"play\"'),\n",
       " (8,\n",
       "  '0.070*\"loves\" + 0.044*\"bought\" + 0.035*\"gift\" + 0.035*\"old\" + 0.032*\"christmas\" + 0.030*\"year\" + 0.021*\"love\" + 0.021*\"purchased\" + 0.021*\"games\" + 0.021*\"son\"'),\n",
       " (9,\n",
       "  '0.062*\"tablet\" + 0.039*\"amazon\" + 0.026*\"good\" + 0.020*\"price\" + 0.019*\"apps\" + 0.018*\"great\" + 0.014*\"store\" + 0.014*\"google\" + 0.011*\"play\" + 0.010*\"android\"')]"
      ]
     },
     "execution_count": 44,
     "metadata": {},
     "output_type": "execute_result"
    }
   ],
   "source": [
    "# simple print_topics\n",
    "lda.print_topics()"
   ]
  },
  {
   "cell_type": "code",
   "execution_count": 45,
   "metadata": {},
   "outputs": [
    {
     "name": "stdout",
     "output_type": "stream",
     "text": [
      "------ Topic 0 ------\n",
      "tablet great best buy battery\n",
      "\n",
      "------ Topic 1 ------\n",
      "kindle read books better new\n",
      "\n",
      "------ Topic 2 ------\n",
      "tablet bought price ipad card\n",
      "\n",
      "------ Topic 3 ------\n",
      "great amazon screen alexa like\n",
      "\n",
      "------ Topic 4 ------\n",
      "product great tablet good buy\n",
      "\n",
      "------ Topic 5 ------\n",
      "easy great use tablet old\n",
      "\n",
      "------ Topic 6 ------\n",
      "great tablet price love books\n",
      "\n",
      "------ Topic 7 ------\n",
      "tablet kids games apps use\n",
      "\n",
      "------ Topic 8 ------\n",
      "loves bought gift old christmas\n",
      "\n",
      "------ Topic 9 ------\n",
      "tablet amazon good price apps\n",
      "\n"
     ]
    }
   ],
   "source": [
    "# using regular expressions to clean that up\n",
    "import re\n",
    "\n",
    "words = [re.findall(r'\"([^\"]*)\"',t[1]) for t in lda.print_topics()]\n",
    "topics = [' '.join(t[0:5]) for t in words]\n",
    "for id, t in enumerate(topics): \n",
    "    print(f\"------ Topic {id} ------\")\n",
    "    print(t, end=\"\\n\\n\")"
   ]
  },
  {
   "cell_type": "code",
   "execution_count": 46,
   "metadata": {},
   "outputs": [],
   "source": [
    "# fancy visualizer\n",
    "import pyLDAvis.gensim\n",
    "pyLDAvis.enable_notebook()"
   ]
  },
  {
   "cell_type": "code",
   "execution_count": 47,
   "metadata": {},
   "outputs": [
    {
     "data": {
      "text/html": [
       "\n",
       "<link rel=\"stylesheet\" type=\"text/css\" href=\"https://cdn.rawgit.com/bmabey/pyLDAvis/files/ldavis.v1.0.0.css\">\n",
       "\n",
       "\n",
       "<div id=\"ldavis_el7446825437361918805158004951\"></div>\n",
       "<script type=\"text/javascript\">\n",
       "\n",
       "var ldavis_el7446825437361918805158004951_data = {\"mdsDat\": {\"x\": [-0.12983179453522095, 0.06942288099759444, -0.055651001714017614, -0.019591412752046698, -0.15541961704829743, 0.15570927269930737, 0.25417822308477694, -0.020491237443674714, -0.04476872602018913, -0.05355658726823291], \"y\": [0.0074403943532518465, -0.03991706874441007, -0.038836871839748544, -0.12340057775811965, -0.10090601815983015, -0.07532281588692595, 0.04157006543866002, 0.03555204333258798, 0.1254324900955785, 0.16838835916895573], \"topics\": [1, 2, 3, 4, 5, 6, 7, 8, 9, 10], \"cluster\": [1, 1, 1, 1, 1, 1, 1, 1, 1, 1], \"Freq\": [14.874754905700684, 13.57579231262207, 12.670988082885742, 10.868230819702148, 10.552824974060059, 9.51854419708252, 9.082862854003906, 7.519159317016602, 6.056515216827393, 5.280324459075928]}, \"tinfo\": {\"Term\": [\"loves\", \"easy\", \"kindle\", \"great\", \"gift\", \"use\", \"old\", \"year\", \"tablet\", \"christmas\", \"kids\", \"product\", \"bought\", \"books\", \"games\", \"daughter\", \"amazon\", \"buy\", \"reading\", \"price\", \"battery\", \"love\", \"alexa\", \"son\", \"best\", \"movies\", \"grandson\", \"read\", \"google\", \"sound\", \"ecosystem\", \"chrome\", \"android\", \"invested\", \"playstore\", \"ram\", \"refurbished\", \"snappy\", \"reboot\", \"kinda\", \"hdmi\", \"horrible\", \"registered\", \"rooting\", \"fraction\", \"scrolling\", \"common\", \"modest\", \"website\", \"tvs\", \"booting\", \"stored\", \"willing\", \"mad\", \"stumbled\", \"barnes\", \"paperweight\", \"task\", \"macbook\", \"wouldnt\", \"google\", \"cut\", \"adapter\", \"galaxy\", \"os\", \"lag\", \"beginners\", \"install\", \"boot\", \"slower\", \"installing\", \"store\", \"samsung\", \"browser\", \"didnt\", \"expect\", \"high\", \"amazon\", \"limited\", \"operating\", \"basic\", \"cheap\", \"tried\", \"app\", \"tablet\", \"apple\", \"end\", \"prime\", \"good\", \"apps\", \"ok\", \"price\", \"available\", \"play\", \"returned\", \"tablets\", \"slow\", \"work\", \"want\", \"need\", \"works\", \"great\", \"fast\", \"quality\", \"looking\", \"like\", \"screen\", \"hd\", \"nice\", \"value\", \"use\", \"better\", \"best\", \"ipad\", \"interested\", \"contents\", \"teach\", \"abc\", \"profile\", \"suppose\", \"customize\", \"al\", \"entertain\", \"puts\", \"mouse\", \"responsibility\", \"subscription\", \"minute\", \"mb\", \"prob\", \"cartoons\", \"initial\", \"everytime\", \"stopping\", \"throwing\", \"dinner\", \"limiting\", \"hrs\", \"finds\", \"gps\", \"dauther\", \"trial\", \"section\", \"preschool\", \"appropriate\", \"safe\", \"edition\", \"limits\", \"protect\", \"pre\", \"separate\", \"free\", \"kids\", \"preloaded\", \"content\", \"olds\", \"comes\", \"age\", \"warranty\", \"games\", \"installed\", \"settings\", \"children\", \"adult\", \"apps\", \"parental\", \"watch\", \"download\", \"case\", \"year\", \"play\", \"child\", \"shows\", \"set\", \"access\", \"kid\", \"tablet\", \"videos\", \"love\", \"time\", \"use\", \"old\", \"app\", \"books\", \"easy\", \"like\", \"great\", \"amazon\", \"good\", \"bought\", \"movies\", \"device\", \"clearer\", \"iphones\", \"preferred\", \"vision\", \"strain\", \"systems\", \"textbooks\", \"dog\", \"repairs\", \"heavier\", \"tutorials\", \"exclusively\", \"semester\", \"sharper\", \"clearly\", \"vocabulary\", \"led\", \"glass\", \"sensitive\", \"lighter\", \"department\", \"paperback\", \"release\", \"contrast\", \"clutter\", \"lte\", \"sturdier\", \"understands\", \"ds\", \"wonders\", \"lug\", \"processing\", \"original\", \"bigger\", \"junk\", \"quicker\", \"eyes\", \"kindle\", \"generation\", \"easier\", \"paperwhite\", \"voyage\", \"faster\", \"previous\", \"ago\", \"backlight\", \"upgrade\", \"improvement\", \"read\", \"new\", \"book\", \"model\", \"larger\", \"inch\", \"better\", \"nook\", \"reader\", \"reading\", \"books\", \"version\", \"upgraded\", \"hd\", \"years\", \"older\", \"screen\", \"kindles\", \"like\", \"battery\", \"bought\", \"love\", \"ipad\", \"old\", \"use\", \"life\", \"way\", \"light\", \"far\", \"tablet\", \"good\", \"price\", \"amazon\", \"social\", \"fingertips\", \"checking\", \"itunes\", \"reccomend\", \"replaces\", \"event\", \"east\", \"bulky\", \"informative\", \"controlling\", \"catching\", \"novice\", \"coffee\", \"allowing\", \"therapy\", \"fabulous\", \"amd\", \"surfing\", \"materials\", \"medium\", \"instance\", \"satisfy\", \"student\", \"icon\", \"friday\", \"reasonably\", \"boost\", \"net\", \"slowly\", \"email\", \"surf\", \"web\", \"media\", \"black\", \"deal\", \"met\", \"movies\", \"emails\", \"priced\", \"beat\", \"tool\", \"reading\", \"browsing\", \"great\", \"books\", \"check\", \"wonderful\", \"price\", \"facebook\", \"inexpensive\", \"watching\", \"product\", \"love\", \"games\", \"tablet\", \"watch\", \"internet\", \"use\", \"good\", \"kids\", \"money\", \"read\", \"awesome\", \"easy\", \"amazon\", \"screen\", \"music\", \"features\", \"works\", \"apps\", \"got\", \"bought\", \"speaker\", \"tap\", \"echo\", \"voice\", \"dot\", \"louder\", \"press\", \"radio\", \"incredible\", \"activate\", \"resource\", \"logic\", \"pandora\", \"alexa\", \"swipe\", \"assistant\", \"manually\", \"slide\", \"bluetooth\", \"sounding\", \"hotspot\", \"mommy\", \"wireless\", \"button\", \"pushing\", \"streams\", \"sports\", \"dots\", \"usability\", \"events\", \"shade\", \"sounds\", \"portable\", \"commands\", \"page\", \"purse\", \"sound\", \"auto\", \"portability\", \"weather\", \"home\", \"hand\", \"answer\", \"wi\", \"connect\", \"hands\", \"small\", \"buttons\", \"music\", \"fits\", \"room\", \"device\", \"turn\", \"size\", \"screen\", \"like\", \"nice\", \"amazon\", \"great\", \"light\", \"love\", \"quality\", \"good\", \"use\", \"price\", \"better\", \"need\", \"little\", \"works\", \"easy\", \"teenage\", \"busy\", \"clubhouse\", \"mickey\", \"transfer\", \"alphabet\", \"assume\", \"neat\", \"intermediate\", \"group\", \"entertaining\", \"anybody\", \"kiddos\", \"tells\", \"types\", \"translations\", \"whistles\", \"bells\", \"worries\", \"personnel\", \"advanced\", \"ages\", \"citizen\", \"gifts\", \"correctly\", \"extent\", \"hospital\", \"nervous\", \"yr\", \"insisted\", \"kiddo\", \"easy\", \"holidays\", \"ordering\", \"highly\", \"keeps\", \"recommend\", \"class\", \"grandson\", \"use\", \"navigate\", \"beginner\", \"great\", \"parental\", \"perfect\", \"learning\", \"controls\", \"old\", \"children\", \"loves\", \"durable\", \"thanks\", \"simple\", \"operate\", \"age\", \"works\", \"tablet\", \"set\", \"love\", \"bought\", \"son\", \"year\", \"product\", \"gift\", \"kids\", \"daughter\", \"price\", \"apps\", \"kindle\", \"size\", \"good\", \"present\", \"birthday\", \"nephew\", \"grandmother\", \"girlfriend\", \"birthdays\", \"challenged\", \"aunt\", \"niece\", \"compromise\", \"prefect\", \"plays\", \"characters\", \"timers\", \"grandkids\", \"grandparents\", \"sisters\", \"hasn\", \"thumbs\", \"recipient\", \"mothers\", \"grandma\", \"law\", \"christmas\", \"likes\", \"mother\", \"toy\", \"assignments\", \"environments\", \"mom\", \"grandaughter\", \"gift\", \"loves\", \"enjoys\", \"granddaughter\", \"uses\", \"wife\", \"absolutely\", \"sister\", \"son\", \"learn\", \"daughter\", \"user\", \"year\", \"bought\", \"friendly\", \"purchased\", \"old\", \"got\", \"grandson\", \"loved\", \"games\", \"love\", \"time\", \"tablet\", \"great\", \"play\", \"traded\", \"grows\", \"fianc\", \"saver\", \"curfew\", \"throws\", \"purple\", \"shell\", \"cute\", \"grade\", \"handheld\", \"stops\", \"teaching\", \"term\", \"anyways\", \"neice\", \"whim\", \"touches\", \"potential\", \"smoother\", \"comics\", \"permission\", \"deliver\", \"damaged\", \"nephews\", \"progress\", \"fingers\", \"driver\", \"employees\", \"american\", \"stock\", \"reached\", \"regret\", \"grow\", \"bubble\", \"dropped\", \"pink\", \"life\", \"lock\", \"battery\", \"best\", \"picture\", \"clumsy\", \"ads\", \"buy\", \"little\", \"cracked\", \"haven\", \"decided\", \"stuff\", \"daughter\", \"nice\", \"handy\", \"tablet\", \"believe\", \"case\", \"long\", \"far\", \"screen\", \"real\", \"child\", \"good\", \"great\", \"durable\", \"features\", \"kids\", \"loves\", \"bought\", \"times\", \"like\", \"love\", \"product\", \"quality\", \"price\", \"time\", \"size\", \"hd\", \"perfect\", \"use\", \"refund\", \"visuals\", \"win\", \"sitting\", \"pen\", \"plug\", \"laggy\", \"exact\", \"cord\", \"port\", \"moved\", \"sooo\", \"ample\", \"explained\", \"wasnt\", \"contact\", \"metal\", \"angle\", \"electrical\", \"killer\", \"season\", \"viber\", \"hardly\", \"pricing\", \"visiting\", \"refused\", \"worn\", \"father\", \"buyer\", \"uncomfortable\", \"charging\", \"shortly\", \"helpful\", \"service\", \"usb\", \"loose\", \"stand\", \"quickly\", \"lap\", \"charge\", \"totally\", \"customer\", \"cable\", \"bestbuy\", \"speedy\", \"product\", \"remove\", \"unit\", \"person\", \"holds\", \"downloads\", \"enjoyed\", \"buy\", \"replaced\", \"thank\", \"everyday\", \"friendly\", \"user\", \"good\", \"time\", \"great\", \"tablet\", \"best\", \"purchased\", \"fast\", \"recommend\", \"slow\", \"like\", \"price\", \"kid\", \"quality\", \"use\", \"bought\", \"perfect\", \"son\", \"darn\", \"sufficient\", \"stepkids\", \"padded\", \"overpriced\", \"input\", \"caveat\", \"generic\", \"material\", \"mines\", \"beginning\", \"crystal\", \"friend\", \"squad\", \"lil\", \"spouse\", \"dream\", \"unaware\", \"practically\", \"printed\", \"layout\", \"laptops\", \"keys\", \"zippers\", \"padding\", \"slip\", \"compares\", \"nursing\", \"staff\", \"luv\", \"geek\", \"savvy\", \"figured\", \"keyboard\", \"suggest\", \"caught\", \"toys\", \"meets\", \"rough\", \"credit\", \"card\", \"key\", \"related\", \"certainly\", \"pretty\", \"sd\", \"needs\", \"laptop\", \"gb\", \"satisfied\", \"add\", \"update\", \"surprised\", \"wrong\", \"ipad\", \"heavy\", \"tech\", \"case\", \"buy\", \"bought\", \"travel\", \"tablet\", \"price\", \"decent\", \"memory\", \"item\", \"hd\", \"gift\", \"good\", \"purchased\", \"amazon\", \"kindle\", \"perfect\", \"product\", \"year\", \"device\", \"best\", \"got\"], \"Freq\": [1804.0, 2149.0, 2352.0, 4863.0, 813.0, 2818.0, 1741.0, 1370.0, 5748.0, 675.0, 1819.0, 1134.0, 2237.0, 1189.0, 1394.0, 763.0, 2139.0, 940.0, 920.0, 1885.0, 644.0, 2474.0, 323.0, 752.0, 901.0, 592.0, 428.0, 865.0, 426.0, 346.0, 29.651050567626953, 20.510845184326172, 269.1357116699219, 16.67765998840332, 20.232566833496094, 34.108131408691406, 22.74901580810547, 13.769105911254883, 12.601487159729004, 11.221720695495605, 10.15239143371582, 10.043981552124023, 9.788249969482422, 12.951773643493652, 21.142932891845703, 8.56947135925293, 8.947606086730957, 8.031814575195312, 8.606623649597168, 8.20688247680664, 7.471698760986328, 9.083794593811035, 7.462112903594971, 7.445501804351807, 7.4349470138549805, 9.122246742248535, 8.887078285217285, 7.423987865447998, 6.851400375366211, 6.824707984924316, 366.0740051269531, 8.252121925354004, 31.894193649291992, 50.58053207397461, 67.17582702636719, 29.602689743041992, 28.074007034301758, 75.14364624023438, 13.09730339050293, 19.4543514251709, 17.23664665222168, 369.50054931640625, 100.48362731933594, 50.025962829589844, 23.46689796447754, 63.78749465942383, 70.92516326904297, 1017.9695434570312, 75.09319305419922, 38.514503479003906, 106.8785629272461, 100.72038269042969, 67.61691284179688, 215.0159149169922, 1632.41845703125, 88.05528259277344, 59.80131912231445, 186.03004455566406, 681.0524291992188, 496.6790466308594, 79.72651672363281, 528.6884765625, 120.00764465332031, 287.0330810546875, 61.84626007080078, 215.37310791015625, 110.02240753173828, 160.84234619140625, 154.69122314453125, 164.78268432617188, 232.38746643066406, 462.4845275878906, 131.84042358398438, 153.31607055664062, 122.4963150024414, 218.38232421875, 201.8602752685547, 146.48129272460938, 143.1414031982422, 105.98278045654297, 194.6819610595703, 137.13308715820312, 135.42929077148438, 119.55265808105469, 27.042821884155273, 10.491657257080078, 12.817512512207031, 9.606127738952637, 60.84353256225586, 9.14962387084961, 9.298644065856934, 7.693821430206299, 7.6800618171691895, 7.876084327697754, 12.446434020996094, 6.878525257110596, 47.67559051513672, 6.068831920623779, 6.365937232971191, 5.880745887756348, 12.912559509277344, 6.14396333694458, 5.8739423751831055, 5.486142635345459, 5.483394622802734, 5.484743595123291, 5.587166786193848, 5.574305057525635, 10.285970687866211, 6.178879737854004, 4.99810791015625, 5.340479850769043, 6.828214168548584, 4.598913669586182, 77.9187240600586, 56.25954055786133, 78.89427947998047, 62.47743606567383, 17.635440826416016, 49.857322692871094, 19.859407424926758, 271.4153747558594, 953.9315795898438, 27.15971565246582, 109.68115997314453, 19.261661529541016, 137.33685302734375, 101.57110595703125, 126.87824249267578, 573.6953125, 49.690467834472656, 47.655521392822266, 157.45480346679688, 43.06707000732422, 523.5614624023438, 156.2508087158203, 176.60079956054688, 168.46591186523438, 238.7408905029297, 450.7326965332031, 326.0631408691406, 168.05856323242188, 80.89765930175781, 216.7755126953125, 143.2457275390625, 155.08274841308594, 1037.3052978515625, 146.1427001953125, 507.3988037109375, 269.68829345703125, 513.552978515625, 352.03631591796875, 144.7572479248047, 229.55758666992188, 296.0063781738281, 242.47084045410156, 399.8466491699219, 250.3769073486328, 250.7859649658203, 212.1395263671875, 147.33416748046875, 146.1912384033203, 17.413814544677734, 16.62593650817871, 19.6970272064209, 14.060023307800293, 12.775943756103516, 18.87327766418457, 13.312222480773926, 9.267861366271973, 11.432275772094727, 8.108541488647461, 7.613731384277344, 7.51133394241333, 7.495644569396973, 7.221123695373535, 7.75012731552124, 7.417206764221191, 7.0842413902282715, 11.44944953918457, 22.424758911132812, 50.53607940673828, 10.502755165100098, 6.477422714233398, 6.507026672363281, 7.052128791809082, 5.941633701324463, 5.9388017654418945, 5.936156272888184, 5.932760715484619, 5.924781799316406, 5.920304298400879, 11.339739799499512, 31.759309768676758, 110.39581298828125, 127.38742065429688, 24.03900909423828, 11.538070678710938, 62.808135986328125, 1607.0255126953125, 66.73548889160156, 173.79539489746094, 71.12334442138672, 89.38313293457031, 143.2373809814453, 106.13227844238281, 64.86800384521484, 20.07267951965332, 113.19742584228516, 40.75741195678711, 444.3642883300781, 359.0613708496094, 142.14466857910156, 105.4234848022461, 94.37384796142578, 93.20721435546875, 361.0457763671875, 62.35813522338867, 168.76637268066406, 350.0264892578125, 409.8883972167969, 123.52596282958984, 52.83680725097656, 248.2601776123047, 157.13449096679688, 114.4512939453125, 349.7095031738281, 86.2143325805664, 304.8211975097656, 175.1892852783203, 303.9851989746094, 312.2308349609375, 167.38467407226562, 248.69972229003906, 273.18511962890625, 124.26934051513672, 118.03658294677734, 121.46050262451172, 124.07772064208984, 155.86656188964844, 129.07321166992188, 127.4834976196289, 115.82792663574219, 45.00711441040039, 15.345381736755371, 48.39484405517578, 10.981511116027832, 10.544502258300781, 12.517577171325684, 10.28759479522705, 8.391834259033203, 24.497116088867188, 7.774483680725098, 6.578592300415039, 8.445841789245605, 6.573796272277832, 6.891909599304199, 13.015250205993652, 5.695187091827393, 5.572260856628418, 5.529942989349365, 105.1946029663086, 9.025588035583496, 7.072246551513672, 8.239721298217773, 6.0767598152160645, 11.112043380737305, 7.2198967933654785, 170.88916015625, 25.225526809692383, 5.627392768859863, 20.68313980102539, 4.95950984954834, 122.57624816894531, 49.64883804321289, 186.85635375976562, 61.56142807006836, 169.0479736328125, 156.452392578125, 29.677661895751953, 333.9731140136719, 52.54191970825195, 32.770206451416016, 116.76628112792969, 65.97382354736328, 396.644775390625, 70.83134460449219, 1474.5247802734375, 456.9734802246094, 62.169525146484375, 55.8151741027832, 513.364501953125, 64.6208724975586, 65.49235534667969, 115.19498443603516, 275.571044921875, 461.9096984863281, 298.8699035644531, 730.1221923828125, 127.52617645263672, 127.25601959228516, 374.3959655761719, 328.32598876953125, 276.7465515136719, 110.82707977294922, 168.00595092773438, 105.68243408203125, 252.24264526367188, 230.67369079589844, 192.68341064453125, 117.37067413330078, 114.80030059814453, 133.4418487548828, 149.12767028808594, 120.03516387939453, 122.19580841064453, 208.48597717285156, 230.4120330810547, 220.39170837402344, 71.13554382324219, 48.125457763671875, 27.749094009399414, 47.40810012817383, 31.391828536987305, 19.779003143310547, 24.834014892578125, 15.339761734008789, 15.293862342834473, 14.414725303649902, 301.03826904296875, 34.074588775634766, 12.277560234069824, 12.240766525268555, 11.318644523620605, 119.48748779296875, 10.321903228759766, 10.893997192382812, 10.165791511535645, 39.250553131103516, 131.95860290527344, 9.485587120056152, 8.736580848693848, 8.55539321899414, 8.460344314575195, 8.122593879699707, 8.510769844055176, 15.984090805053711, 24.957359313964844, 148.8629913330078, 24.971696853637695, 132.3173065185547, 64.21124267578125, 278.1836853027344, 21.94678497314453, 39.22600173950195, 32.369083404541016, 169.90126037597656, 84.51202392578125, 20.444339752197266, 35.606971740722656, 64.85797119140625, 81.75746154785156, 183.40203857421875, 58.26969528198242, 226.73764038085938, 74.6928482055664, 53.21894836425781, 257.2794189453125, 83.53802490234375, 237.87921142578125, 324.3522644042969, 294.22308349609375, 197.38865661621094, 328.3153381347656, 438.3688659667969, 115.97769165039062, 268.7552795410156, 123.82274627685547, 198.2187042236328, 192.58966064453125, 147.7560577392578, 118.90265655517578, 104.04971313476562, 99.46662139892578, 98.40800476074219, 98.68475341796875, 14.718899726867676, 58.64762878417969, 8.463682174682617, 8.463409423828125, 19.450763702392578, 7.000946521759033, 6.4813666343688965, 5.9322662353515625, 5.559532165527344, 11.915047645568848, 25.4991397857666, 8.330222129821777, 9.609288215637207, 5.206068992614746, 4.989755153656006, 4.524733066558838, 6.891918659210205, 6.891761302947998, 11.66176986694336, 3.2036283016204834, 8.8248291015625, 54.109230041503906, 4.4937615394592285, 49.043209075927734, 5.510977268218994, 4.02825403213501, 2.4937355518341064, 2.4772379398345947, 201.7467041015625, 3.8029775619506836, 9.747747421264648, 1313.60986328125, 15.976393699645996, 14.775958061218262, 114.55254364013672, 105.291748046875, 327.4327392578125, 15.089098930358887, 205.41053771972656, 1033.9083251953125, 103.672119140625, 31.373687744140625, 1095.6544189453125, 133.8380584716797, 247.7767333984375, 138.92919921875, 97.95075988769531, 441.7961120605469, 120.03278350830078, 424.0672607421875, 99.63082885742188, 47.10795974731445, 68.14563751220703, 37.67094421386719, 67.6642074584961, 207.5848388671875, 729.72265625, 151.29205322265625, 391.3487854003906, 329.019775390625, 165.857666015625, 232.7641143798828, 183.07371520996094, 150.2848358154297, 219.7078399658203, 138.8687286376953, 200.94309997558594, 178.33859252929688, 163.29408264160156, 115.65555572509766, 117.3686752319336, 141.48939514160156, 136.3336944580078, 124.1974105834961, 12.554089546203613, 10.503790855407715, 7.84633731842041, 8.54666805267334, 14.025529861450195, 133.8279571533203, 5.390690326690674, 4.7278666496276855, 109.39337921142578, 6.421243190765381, 8.662213325500488, 122.60093688964844, 6.401334285736084, 7.006338119506836, 31.680479049682617, 5.711640357971191, 15.949481010437012, 3.1329450607299805, 16.91728401184082, 55.180419921875, 514.4678955078125, 124.730224609375, 115.56166076660156, 15.772231101989746, 2.622586488723755, 2.619176149368286, 145.44964599609375, 14.139997482299805, 569.682373046875, 1122.122802734375, 91.44801330566406, 218.7345428466797, 172.0694122314453, 188.96517944335938, 122.1755599975586, 52.71890640258789, 335.9505920410156, 84.28726196289062, 316.25396728515625, 139.36627197265625, 485.25982666015625, 717.1261596679688, 158.40283203125, 339.2852783203125, 561.0296630859375, 295.5107116699219, 176.3071746826172, 130.0066375732422, 338.5037841796875, 345.776611328125, 203.7233123779297, 335.2862243652344, 261.2922668457031, 150.4517364501953, 9.288324356079102, 8.950709342956543, 8.855335235595703, 8.935054779052734, 8.324053764343262, 15.263762474060059, 9.79147720336914, 6.180959701538086, 8.232488632202148, 5.902628421783447, 5.600712776184082, 5.1137495040893555, 17.082351684570312, 5.388171195983887, 5.392272472381592, 4.735273838043213, 4.609626293182373, 4.693869590759277, 9.809626579284668, 3.861961603164673, 4.044748306274414, 4.252994537353516, 3.8538615703582764, 20.007715225219727, 11.738357543945312, 6.57073450088501, 10.75275993347168, 5.00857400894165, 13.862727165222168, 3.3628008365631104, 30.86009407043457, 10.679839134216309, 11.009927749633789, 17.990623474121094, 5.883576393127441, 69.7193603515625, 34.169490814208984, 181.77352905273438, 36.728267669677734, 261.4651184082031, 315.3862609863281, 93.22064208984375, 12.64334487915039, 57.33233642578125, 282.257568359375, 214.25135803222656, 22.55620765686035, 52.42123794555664, 63.88026809692383, 48.995704650878906, 176.7095489501953, 177.05953979492188, 30.594905853271484, 534.8737182617188, 29.946182250976562, 123.80364227294922, 92.08861541748047, 101.17524719238281, 190.31980895996094, 30.49021339416504, 84.21527862548828, 229.1884307861328, 329.84515380859375, 63.72679901123047, 78.33592987060547, 148.41700744628906, 143.3657684326172, 153.1534881591797, 52.21595001220703, 110.02202606201172, 128.89031982421875, 97.48815155029297, 72.6209487915039, 103.30250549316406, 85.76708984375, 75.19991302490234, 71.2829818725586, 70.20429229736328, 72.55508422851562, 15.684521675109863, 14.11861515045166, 30.153030395507812, 10.470081329345703, 10.335805892944336, 62.753379821777344, 8.412757873535156, 7.4089155197143555, 52.78368377685547, 82.92411041259766, 10.809563636779785, 6.6466264724731445, 6.5795578956604, 7.820963382720947, 6.251633167266846, 7.181248664855957, 5.798541069030762, 7.264071464538574, 5.792275428771973, 10.297711372375488, 7.631818771362305, 5.276053428649902, 5.622464179992676, 5.375846862792969, 5.6644062995910645, 8.149341583251953, 4.796093940734863, 42.89938735961914, 4.313175201416016, 7.023192882537842, 158.79698181152344, 9.71803092956543, 53.76227951049805, 79.58953857421875, 37.77553939819336, 26.668699264526367, 34.133853912353516, 78.26170349121094, 15.726360321044922, 154.14549255371094, 23.86224365234375, 35.234439849853516, 45.39047622680664, 17.537599563598633, 16.493614196777344, 354.5516662597656, 32.78457260131836, 54.87670135498047, 40.25313186645508, 36.94974899291992, 28.86065673828125, 47.173561096191406, 194.25050354003906, 38.68653869628906, 29.46352767944336, 34.04194641113281, 80.1285629272461, 69.31815338134766, 202.6703643798828, 124.20806121826172, 256.1130065917969, 242.6481170654297, 104.729248046875, 101.8873519897461, 64.30419921875, 74.88057708740234, 52.50537109375, 81.25773620605469, 84.18472290039062, 56.78938293457031, 61.88999557495117, 84.37251281738281, 69.72020721435547, 58.02317810058594, 53.79092025756836, 26.706836700439453, 16.554304122924805, 12.822997093200684, 20.637685775756836, 14.144354820251465, 10.923816680908203, 10.370031356811523, 13.9052152633667, 34.93256378173828, 7.833248138427734, 9.091686248779297, 18.148557662963867, 83.8689956665039, 35.3858528137207, 14.554423332214355, 6.073077201843262, 6.907678127288818, 5.437803745269775, 5.28449010848999, 5.333174228668213, 8.363937377929688, 4.7993950843811035, 21.773923873901367, 5.267366409301758, 4.239849090576172, 13.44730281829834, 3.8922300338745117, 3.8794620037078857, 8.930826187133789, 6.558573246002197, 40.02372360229492, 32.71031951904297, 30.572052001953125, 114.96865844726562, 12.555438995361328, 11.633601188659668, 19.49410057067871, 25.78150177001953, 34.14542007446289, 24.06590461730957, 129.81842041015625, 22.44904899597168, 18.572364807128906, 13.787129402160645, 129.22865295410156, 74.60015106201172, 114.68438720703125, 78.92198181152344, 102.16376495361328, 54.07406234741211, 64.42952728271484, 41.338165283203125, 35.31770324707031, 44.99922561645508, 135.44479370117188, 28.221973419189453, 38.13184356689453, 98.49163818359375, 115.6165771484375, 173.13327026367188, 42.959163665771484, 258.5631103515625, 145.54354858398438, 50.072933197021484, 60.14939498901367, 53.268310546875, 66.64373016357422, 68.16926574707031, 84.48027801513672, 64.5858154296875, 77.28339385986328, 77.27488708496094, 61.655094146728516, 61.64044952392578, 61.95680236816406, 54.09590148925781, 53.50028610229492, 52.38813400268555], \"Total\": [1804.0, 2149.0, 2352.0, 4863.0, 813.0, 2818.0, 1741.0, 1370.0, 5748.0, 675.0, 1819.0, 1134.0, 2237.0, 1189.0, 1394.0, 763.0, 2139.0, 940.0, 920.0, 1885.0, 644.0, 2474.0, 323.0, 752.0, 901.0, 592.0, 428.0, 865.0, 426.0, 346.0, 30.642410278320312, 21.51105499267578, 283.9483337402344, 17.610139846801758, 21.41041374206543, 36.16851043701172, 24.166440963745117, 14.742374420166016, 13.56872844696045, 12.236021995544434, 11.105077743530273, 11.026068687438965, 10.75342082977295, 14.239864349365234, 23.34412956237793, 9.494064331054688, 9.920860290527344, 8.94954776763916, 9.595635414123535, 9.187562942504883, 8.39002799987793, 10.204046249389648, 8.38900089263916, 8.379700660705566, 8.378168106079102, 10.295945167541504, 10.044295310974121, 8.406490325927734, 7.777890682220459, 7.747687816619873, 426.0988464355469, 9.37548542022705, 36.82316589355469, 59.54635238647461, 80.30127716064453, 34.74275207519531, 33.35006332397461, 93.10455322265625, 15.11582088470459, 23.066495895385742, 20.35643768310547, 555.5147705078125, 136.77044677734375, 65.10488891601562, 28.703134536743164, 89.44908905029297, 101.40372467041016, 2139.474853515625, 109.05131530761719, 51.207977294921875, 170.53140258789062, 164.01406860351562, 104.37541961669922, 435.9775085449219, 5748.79052734375, 149.9259490966797, 94.48961639404297, 406.49188232421875, 2285.882568359375, 1522.025634765625, 137.34275817871094, 1885.332763671875, 256.0624084472656, 922.0667114257812, 100.8678207397461, 636.2987060546875, 239.4639892578125, 445.6806335449219, 434.3189697265625, 484.7471618652344, 899.5181884765625, 4863.24365234375, 406.4460144042969, 573.8259887695312, 358.0342712402344, 1394.536376953125, 1429.0775146484375, 690.8746337890625, 780.78125, 287.7225341796875, 2818.86083984375, 820.0590209960938, 901.3468627929688, 704.8544921875, 29.24315071105957, 11.43669605255127, 14.029595375061035, 10.566341400146484, 67.18168640136719, 10.180797576904297, 10.376341819763184, 8.64758586883545, 8.648603439331055, 8.891314506530762, 14.0947847366333, 7.829941272735596, 55.04308319091797, 7.022190093994141, 7.367427349090576, 6.828021049499512, 15.032051086425781, 7.153646469116211, 6.84245491027832, 6.4258222579956055, 6.425614356994629, 6.4279327392578125, 6.549388408660889, 6.55403470993042, 12.146615982055664, 7.366505146026611, 5.960124492645264, 6.408681392669678, 8.200881004333496, 5.55506706237793, 94.256103515625, 72.07012939453125, 107.12566375732422, 86.18119812011719, 22.454368591308594, 68.60326385498047, 25.529191970825195, 439.0235290527344, 1819.5589599609375, 37.41631317138672, 177.6027069091797, 26.094648361206055, 245.36819458007812, 178.0075225830078, 238.20654296875, 1394.3909912109375, 80.55389404296875, 77.21998596191406, 333.67230224609375, 69.1390151977539, 1522.025634765625, 348.7127380371094, 410.0041809082031, 388.6480407714844, 605.7482299804688, 1370.0457763671875, 922.0667114257812, 402.1213684082031, 159.92124938964844, 594.5560913085938, 344.8899841308594, 394.7353210449219, 5748.79052734375, 391.5865783691406, 2474.73388671875, 1007.1502685546875, 2818.86083984375, 1741.850341796875, 435.9775085449219, 1189.508544921875, 2149.853515625, 1394.536376953125, 4863.24365234375, 2139.474853515625, 2285.882568359375, 2237.369384765625, 592.9298706054688, 793.1632690429688, 18.35466766357422, 17.604286193847656, 20.981599807739258, 14.977347373962402, 13.77316665649414, 20.416034698486328, 14.439447402954102, 10.301955223083496, 12.729925155639648, 9.047131538391113, 8.518423080444336, 8.414941787719727, 8.400489807128906, 8.14055061340332, 8.751235008239746, 8.395086288452148, 8.026569366455078, 12.996703147888184, 25.46123504638672, 57.45001983642578, 11.994088172912598, 7.416674613952637, 7.4517645835876465, 8.112995147705078, 6.842362403869629, 6.839262962341309, 6.841383934020996, 6.84437370300293, 6.835331439971924, 6.832347393035889, 13.09006118774414, 37.13365936279297, 131.64559936523438, 158.40939331054688, 28.60064697265625, 13.538561820983887, 78.8116683959961, 2352.49072265625, 84.92558288574219, 232.95437622070312, 96.79045867919922, 125.21243286132812, 210.83267211914062, 155.81907653808594, 90.97653198242188, 25.217971801757812, 177.32974243164062, 56.460079193115234, 865.0618286132812, 695.1401977539062, 249.47727966308594, 176.07301330566406, 156.1390380859375, 155.36622619628906, 820.0590209960938, 96.51224517822266, 348.64312744140625, 920.6903686523438, 1189.508544921875, 256.58990478515625, 82.43538665771484, 690.8746337890625, 376.0656433105469, 260.4309997558594, 1429.0775146484375, 171.30467224121094, 1394.536376953125, 644.0557861328125, 2237.369384765625, 2474.73388671875, 704.8544921875, 1741.850341796875, 2818.86083984375, 404.0651550292969, 355.27886962890625, 400.4576416015625, 476.4258728027344, 5748.79052734375, 2285.882568359375, 1885.332763671875, 2139.474853515625, 46.403038024902344, 16.30864906311035, 51.545326232910156, 11.908940315246582, 11.474462509155273, 13.664554595947266, 11.308379173278809, 9.359442710876465, 27.587472915649414, 8.781425476074219, 7.5023040771484375, 9.651463508605957, 7.515086650848389, 7.882016181945801, 15.117781639099121, 6.62641716003418, 6.484516143798828, 6.461071014404297, 124.3910140991211, 10.7481689453125, 8.466933250427246, 9.946133613586426, 7.483168601989746, 14.004386901855469, 9.175752639770508, 219.44363403320312, 32.56845474243164, 7.401570796966553, 27.232545852661133, 6.550235748291016, 162.21888732910156, 65.7214584350586, 260.4945068359375, 86.72813415527344, 256.0785217285156, 242.51083374023438, 40.760459899902344, 592.9298706054688, 76.76223754882812, 46.16212844848633, 202.1615753173828, 108.9002914428711, 920.6903686523438, 123.44453430175781, 4863.24365234375, 1189.508544921875, 107.35615539550781, 99.42566680908203, 1885.332763671875, 124.20951843261719, 126.94488525390625, 285.34576416015625, 1134.130859375, 2474.73388671875, 1394.3909912109375, 5748.79052734375, 410.0041809082031, 419.98492431640625, 2818.86083984375, 2285.882568359375, 1819.5589599609375, 352.03106689453125, 865.0618286132812, 327.8938293457031, 2149.853515625, 2139.474853515625, 1429.0775146484375, 439.14166259765625, 485.3296203613281, 899.5181884765625, 1522.025634765625, 843.39453125, 2237.369384765625, 209.96343994140625, 233.4685516357422, 223.36143493652344, 72.43680572509766, 49.67257308959961, 28.669301986694336, 49.01388168334961, 32.93557357788086, 20.795827865600586, 26.21267318725586, 16.257509231567383, 16.23267364501953, 15.415867805480957, 323.7178039550781, 36.75840759277344, 13.250753402709961, 13.213446617126465, 12.273984909057617, 129.64056396484375, 11.217706680297852, 11.841415405273438, 11.049928665161133, 42.721580505371094, 144.29440307617188, 10.430035591125488, 9.653554916381836, 9.460525512695312, 9.383476257324219, 9.015934944152832, 9.447798728942871, 17.753002166748047, 28.00558853149414, 171.927001953125, 28.08049964904785, 155.9576416015625, 74.22559356689453, 346.8700866699219, 24.81368064880371, 46.2155647277832, 38.22804260253906, 235.07936096191406, 111.30101776123047, 23.32318878173828, 43.253822326660156, 87.64008331298828, 117.00167846679688, 324.90313720703125, 82.00264739990234, 439.14166259765625, 113.0484390258789, 77.59137725830078, 793.1632690429688, 152.72186279296875, 740.5671997070312, 1429.0775146484375, 1394.536376953125, 780.78125, 2139.474853515625, 4863.24365234375, 400.4576416015625, 2474.73388671875, 573.8259887695312, 2285.882568359375, 2818.86083984375, 1885.332763671875, 820.0590209960938, 484.7471618652344, 664.169189453125, 899.5181884765625, 2149.853515625, 16.108600616455078, 65.38732147216797, 9.469036102294922, 9.469061851501465, 22.007966995239258, 7.935434341430664, 7.423585414886475, 6.9079060554504395, 6.5013556480407715, 13.966691017150879, 29.934633255004883, 9.794598579406738, 11.329025268554688, 6.147668838500977, 5.933088779449463, 5.453940391540527, 8.45940113067627, 8.45946216583252, 14.91761589050293, 4.13122034072876, 11.45946216583252, 70.40083312988281, 5.86788272857666, 64.6104736328125, 7.419296741485596, 5.507810115814209, 3.42802357673645, 3.4062979221343994, 284.61749267578125, 5.4786858558654785, 14.236166000366211, 2149.853515625, 23.70958137512207, 21.989160537719727, 196.0687713623047, 188.0716094970703, 687.27099609375, 22.51962661743164, 428.87322998046875, 2818.86083984375, 205.54222106933594, 53.126930236816406, 4863.24365234375, 348.7127380371094, 799.222412109375, 382.6973876953125, 246.2100830078125, 1741.850341796875, 333.67230224609375, 1804.490966796875, 276.311767578125, 101.76475524902344, 177.34019470214844, 77.17829895019531, 178.0075225830078, 899.5181884765625, 5748.79052734375, 594.5560913085938, 2474.73388671875, 2237.369384765625, 752.7442626953125, 1370.0457763671875, 1134.130859375, 813.0142211914062, 1819.5589599609375, 763.5074462890625, 1885.332763671875, 1522.025634765625, 2352.49072265625, 740.5671997070312, 2285.882568359375, 147.1461639404297, 146.56515502929688, 134.61268615722656, 13.744699478149414, 11.501035690307617, 8.778265953063965, 9.632426261901855, 15.913558006286621, 152.86000061035156, 6.380712509155273, 5.656853199005127, 131.3849334716797, 7.753453731536865, 10.461520195007324, 148.97686767578125, 7.8644537925720215, 8.646573066711426, 39.6903076171875, 7.159925937652588, 20.529470443725586, 4.06367301940918, 22.04128074645996, 72.06500244140625, 675.4298706054688, 163.78208923339844, 152.3993377685547, 21.093116760253906, 3.5504496097564697, 3.5488741397857666, 198.2047576904297, 19.35433006286621, 813.0142211914062, 1804.490966796875, 133.54379272460938, 335.2300109863281, 267.0267028808594, 343.04925537109375, 221.10092163085938, 85.68212127685547, 752.7442626953125, 154.87904357910156, 763.5074462890625, 293.4991455078125, 1370.0457763671875, 2237.369384765625, 347.5499572753906, 915.7017211914062, 1741.850341796875, 843.39453125, 428.87322998046875, 325.9736022949219, 1394.3909912109375, 2474.73388671875, 1007.1502685546875, 5748.79052734375, 4863.24365234375, 922.0667114257812, 10.240110397338867, 9.875753402709961, 9.837362289428711, 9.957664489746094, 9.28567886352539, 17.335161209106445, 11.283000946044922, 7.128165245056152, 9.57691478729248, 6.895798206329346, 6.552181243896484, 6.041871070861816, 20.21843147277832, 6.396082401275635, 6.405058860778809, 5.658708572387695, 5.533601760864258, 5.680145740509033, 11.955138206481934, 4.797147274017334, 5.025789737701416, 5.295522689819336, 4.801595211029053, 24.98943328857422, 14.708459854125977, 8.240707397460938, 13.49295425415039, 6.303896903991699, 17.586830139160156, 4.291069030761719, 39.71516799926758, 14.13677978515625, 14.768342971801758, 25.308834075927734, 7.575234889984131, 118.34379577636719, 56.035491943359375, 404.0651550292969, 62.96921157836914, 644.0557861328125, 901.3468627929688, 204.99136352539062, 18.212005615234375, 118.68231964111328, 940.0586547851562, 664.169189453125, 40.88176345825195, 128.50448608398438, 168.5397186279297, 121.43012237548828, 763.5074462890625, 780.78125, 64.43621826171875, 5748.79052734375, 65.30280303955078, 605.7482299804688, 392.38018798828125, 476.4258728027344, 1429.0775146484375, 71.97467803955078, 402.1213684082031, 2285.882568359375, 4863.24365234375, 276.311767578125, 485.3296203613281, 1819.5589599609375, 1804.490966796875, 2237.369384765625, 214.89540100097656, 1394.536376953125, 2474.73388671875, 1134.130859375, 573.8259887695312, 1885.332763671875, 1007.1502685546875, 740.5671997070312, 690.8746337890625, 799.222412109375, 2818.86083984375, 16.646629333496094, 15.115105628967285, 33.11598587036133, 11.50766372680664, 11.379264831542969, 69.65461730957031, 9.363283157348633, 8.378092765808105, 59.70401382446289, 94.00061798095703, 12.310419082641602, 7.5726752281188965, 7.512269496917725, 8.930571556091309, 7.178155899047852, 8.306937217712402, 6.723736763000488, 8.470850944519043, 6.764431953430176, 12.030508041381836, 8.945106506347656, 6.1954216957092285, 6.605559825897217, 6.351179122924805, 6.744003772735596, 9.745969772338867, 5.778671741485596, 51.79351806640625, 5.228780746459961, 8.518414497375488, 194.2396697998047, 12.038782119750977, 79.69227600097656, 124.46165466308594, 54.80574417114258, 37.286476135253906, 50.3866081237793, 136.1221923828125, 21.354774475097656, 335.87872314453125, 35.666873931884766, 58.02309036254883, 79.8708724975586, 24.92069435119629, 23.352720260620117, 1134.130859375, 57.194671630859375, 110.77489471435547, 74.57122802734375, 70.88691711425781, 52.22161102294922, 109.2885971069336, 940.0586547851562, 87.95838165283203, 59.39644241333008, 75.53105926513672, 347.5499572753906, 293.4991455078125, 2285.882568359375, 1007.1502685546875, 4863.24365234375, 5748.79052734375, 901.3468627929688, 915.7017211914062, 406.4460144042969, 687.27099609375, 239.4639892578125, 1394.536376953125, 1885.332763671875, 394.7353210449219, 573.8259887695312, 2818.86083984375, 2237.369384765625, 799.222412109375, 752.7442626953125, 27.630828857421875, 17.582401275634766, 13.733144760131836, 22.16991424560547, 15.277986526489258, 11.8765230178833, 11.286022186279297, 15.24527359008789, 38.484619140625, 8.752996444702148, 10.200650215148926, 20.384737014770508, 94.60812377929688, 40.38811492919922, 16.712390899658203, 6.996732711791992, 8.060302734375, 6.413124084472656, 6.247375965118408, 6.320175647735596, 9.982179641723633, 5.772721767425537, 26.34341812133789, 6.377875328063965, 5.169662952423096, 16.464942932128906, 4.805210113525391, 4.811311721801758, 11.076606750488281, 8.135017395019531, 50.0914192199707, 43.125736236572266, 41.183929443359375, 171.72140502929688, 16.26964569091797, 15.007072448730469, 26.91363525390625, 37.20631790161133, 51.205482482910156, 34.66637420654297, 252.9657440185547, 32.36033248901367, 26.231266021728516, 18.509248733520508, 318.6654052734375, 157.665771484375, 279.42279052734375, 179.47718811035156, 253.97406005859375, 111.81822204589844, 163.7022247314453, 88.18434143066406, 72.85816955566406, 109.47904968261719, 704.8544921875, 54.70692825317383, 96.0579605102539, 605.7482299804688, 940.0586547851562, 2237.369384765625, 125.37152099609375, 5748.79052734375, 1885.332763671875, 180.977294921875, 284.450927734375, 232.24278259277344, 690.8746337890625, 813.0142211914062, 2285.882568359375, 915.7017211914062, 2139.474853515625, 2352.49072265625, 799.222412109375, 1134.130859375, 1370.0457763671875, 793.1632690429688, 901.3468627929688, 843.39453125], \"Category\": [\"Default\", \"Default\", \"Default\", \"Default\", \"Default\", \"Default\", \"Default\", \"Default\", \"Default\", \"Default\", \"Default\", \"Default\", \"Default\", \"Default\", \"Default\", \"Default\", \"Default\", \"Default\", \"Default\", \"Default\", \"Default\", \"Default\", \"Default\", \"Default\", \"Default\", \"Default\", \"Default\", \"Default\", \"Default\", \"Default\", \"Topic1\", \"Topic1\", \"Topic1\", \"Topic1\", \"Topic1\", \"Topic1\", \"Topic1\", \"Topic1\", \"Topic1\", \"Topic1\", \"Topic1\", \"Topic1\", \"Topic1\", \"Topic1\", \"Topic1\", \"Topic1\", \"Topic1\", \"Topic1\", \"Topic1\", \"Topic1\", \"Topic1\", \"Topic1\", \"Topic1\", \"Topic1\", \"Topic1\", \"Topic1\", \"Topic1\", \"Topic1\", \"Topic1\", \"Topic1\", \"Topic1\", \"Topic1\", \"Topic1\", \"Topic1\", \"Topic1\", \"Topic1\", \"Topic1\", \"Topic1\", \"Topic1\", \"Topic1\", \"Topic1\", \"Topic1\", \"Topic1\", \"Topic1\", \"Topic1\", \"Topic1\", \"Topic1\", \"Topic1\", \"Topic1\", \"Topic1\", \"Topic1\", \"Topic1\", \"Topic1\", \"Topic1\", \"Topic1\", \"Topic1\", \"Topic1\", \"Topic1\", \"Topic1\", \"Topic1\", \"Topic1\", \"Topic1\", \"Topic1\", \"Topic1\", \"Topic1\", \"Topic1\", \"Topic1\", \"Topic1\", \"Topic1\", \"Topic1\", \"Topic1\", \"Topic1\", \"Topic1\", \"Topic1\", \"Topic1\", \"Topic1\", \"Topic1\", \"Topic1\", \"Topic1\", \"Topic1\", \"Topic1\", \"Topic1\", \"Topic1\", \"Topic1\", \"Topic2\", \"Topic2\", \"Topic2\", \"Topic2\", \"Topic2\", \"Topic2\", \"Topic2\", \"Topic2\", \"Topic2\", \"Topic2\", \"Topic2\", \"Topic2\", \"Topic2\", \"Topic2\", \"Topic2\", \"Topic2\", \"Topic2\", \"Topic2\", \"Topic2\", \"Topic2\", \"Topic2\", \"Topic2\", \"Topic2\", \"Topic2\", \"Topic2\", \"Topic2\", \"Topic2\", \"Topic2\", \"Topic2\", \"Topic2\", \"Topic2\", \"Topic2\", \"Topic2\", \"Topic2\", \"Topic2\", \"Topic2\", \"Topic2\", \"Topic2\", \"Topic2\", \"Topic2\", \"Topic2\", \"Topic2\", \"Topic2\", \"Topic2\", \"Topic2\", \"Topic2\", \"Topic2\", \"Topic2\", \"Topic2\", \"Topic2\", \"Topic2\", \"Topic2\", \"Topic2\", \"Topic2\", \"Topic2\", \"Topic2\", \"Topic2\", \"Topic2\", \"Topic2\", \"Topic2\", \"Topic2\", \"Topic2\", \"Topic2\", \"Topic2\", \"Topic2\", \"Topic2\", \"Topic2\", \"Topic2\", \"Topic2\", \"Topic2\", \"Topic2\", \"Topic2\", \"Topic2\", \"Topic2\", \"Topic2\", \"Topic2\", \"Topic2\", \"Topic2\", \"Topic3\", \"Topic3\", \"Topic3\", \"Topic3\", \"Topic3\", \"Topic3\", \"Topic3\", \"Topic3\", \"Topic3\", \"Topic3\", \"Topic3\", \"Topic3\", \"Topic3\", \"Topic3\", \"Topic3\", \"Topic3\", \"Topic3\", \"Topic3\", \"Topic3\", \"Topic3\", \"Topic3\", \"Topic3\", \"Topic3\", \"Topic3\", \"Topic3\", \"Topic3\", \"Topic3\", \"Topic3\", \"Topic3\", \"Topic3\", \"Topic3\", \"Topic3\", \"Topic3\", \"Topic3\", \"Topic3\", \"Topic3\", \"Topic3\", \"Topic3\", \"Topic3\", \"Topic3\", \"Topic3\", \"Topic3\", \"Topic3\", \"Topic3\", \"Topic3\", \"Topic3\", \"Topic3\", \"Topic3\", \"Topic3\", \"Topic3\", \"Topic3\", \"Topic3\", \"Topic3\", \"Topic3\", \"Topic3\", \"Topic3\", \"Topic3\", \"Topic3\", \"Topic3\", \"Topic3\", \"Topic3\", \"Topic3\", \"Topic3\", \"Topic3\", \"Topic3\", \"Topic3\", \"Topic3\", \"Topic3\", \"Topic3\", \"Topic3\", \"Topic3\", \"Topic3\", \"Topic3\", \"Topic3\", \"Topic3\", \"Topic3\", \"Topic3\", \"Topic3\", \"Topic3\", \"Topic3\", \"Topic3\", \"Topic4\", \"Topic4\", \"Topic4\", \"Topic4\", \"Topic4\", \"Topic4\", \"Topic4\", \"Topic4\", \"Topic4\", \"Topic4\", \"Topic4\", \"Topic4\", \"Topic4\", \"Topic4\", \"Topic4\", \"Topic4\", \"Topic4\", \"Topic4\", \"Topic4\", \"Topic4\", \"Topic4\", \"Topic4\", \"Topic4\", \"Topic4\", \"Topic4\", \"Topic4\", \"Topic4\", \"Topic4\", \"Topic4\", \"Topic4\", \"Topic4\", \"Topic4\", \"Topic4\", \"Topic4\", \"Topic4\", \"Topic4\", \"Topic4\", \"Topic4\", \"Topic4\", \"Topic4\", \"Topic4\", \"Topic4\", \"Topic4\", \"Topic4\", \"Topic4\", \"Topic4\", \"Topic4\", \"Topic4\", \"Topic4\", \"Topic4\", \"Topic4\", \"Topic4\", \"Topic4\", \"Topic4\", \"Topic4\", \"Topic4\", \"Topic4\", \"Topic4\", \"Topic4\", \"Topic4\", \"Topic4\", \"Topic4\", \"Topic4\", \"Topic4\", \"Topic4\", \"Topic4\", \"Topic4\", \"Topic4\", \"Topic4\", \"Topic4\", \"Topic4\", \"Topic4\", \"Topic4\", \"Topic5\", \"Topic5\", \"Topic5\", \"Topic5\", \"Topic5\", \"Topic5\", \"Topic5\", \"Topic5\", \"Topic5\", \"Topic5\", \"Topic5\", \"Topic5\", \"Topic5\", \"Topic5\", \"Topic5\", \"Topic5\", \"Topic5\", \"Topic5\", \"Topic5\", \"Topic5\", \"Topic5\", \"Topic5\", \"Topic5\", \"Topic5\", \"Topic5\", \"Topic5\", \"Topic5\", \"Topic5\", \"Topic5\", \"Topic5\", \"Topic5\", \"Topic5\", \"Topic5\", \"Topic5\", \"Topic5\", \"Topic5\", \"Topic5\", \"Topic5\", \"Topic5\", \"Topic5\", \"Topic5\", \"Topic5\", \"Topic5\", \"Topic5\", \"Topic5\", \"Topic5\", \"Topic5\", \"Topic5\", \"Topic5\", \"Topic5\", \"Topic5\", \"Topic5\", \"Topic5\", \"Topic5\", \"Topic5\", \"Topic5\", \"Topic5\", \"Topic5\", \"Topic5\", \"Topic5\", \"Topic5\", \"Topic5\", \"Topic5\", \"Topic5\", \"Topic5\", \"Topic5\", \"Topic5\", \"Topic5\", \"Topic5\", \"Topic5\", \"Topic6\", \"Topic6\", \"Topic6\", \"Topic6\", \"Topic6\", \"Topic6\", \"Topic6\", \"Topic6\", \"Topic6\", \"Topic6\", \"Topic6\", \"Topic6\", \"Topic6\", \"Topic6\", \"Topic6\", \"Topic6\", \"Topic6\", \"Topic6\", \"Topic6\", \"Topic6\", \"Topic6\", \"Topic6\", \"Topic6\", \"Topic6\", \"Topic6\", \"Topic6\", \"Topic6\", \"Topic6\", \"Topic6\", \"Topic6\", \"Topic6\", \"Topic6\", \"Topic6\", \"Topic6\", \"Topic6\", \"Topic6\", \"Topic6\", \"Topic6\", \"Topic6\", \"Topic6\", \"Topic6\", \"Topic6\", \"Topic6\", \"Topic6\", \"Topic6\", \"Topic6\", \"Topic6\", \"Topic6\", \"Topic6\", \"Topic6\", \"Topic6\", \"Topic6\", \"Topic6\", \"Topic6\", \"Topic6\", \"Topic6\", \"Topic6\", \"Topic6\", \"Topic6\", \"Topic6\", \"Topic6\", \"Topic6\", \"Topic6\", \"Topic6\", \"Topic6\", \"Topic6\", \"Topic6\", \"Topic6\", \"Topic6\", \"Topic6\", \"Topic6\", \"Topic7\", \"Topic7\", \"Topic7\", \"Topic7\", \"Topic7\", \"Topic7\", \"Topic7\", \"Topic7\", \"Topic7\", \"Topic7\", \"Topic7\", \"Topic7\", \"Topic7\", \"Topic7\", \"Topic7\", \"Topic7\", \"Topic7\", \"Topic7\", \"Topic7\", \"Topic7\", \"Topic7\", \"Topic7\", \"Topic7\", \"Topic7\", \"Topic7\", \"Topic7\", \"Topic7\", \"Topic7\", \"Topic7\", \"Topic7\", \"Topic7\", \"Topic7\", \"Topic7\", \"Topic7\", \"Topic7\", \"Topic7\", \"Topic7\", \"Topic7\", \"Topic7\", \"Topic7\", \"Topic7\", \"Topic7\", \"Topic7\", \"Topic7\", \"Topic7\", \"Topic7\", \"Topic7\", \"Topic7\", \"Topic7\", \"Topic7\", \"Topic7\", \"Topic7\", \"Topic7\", \"Topic7\", \"Topic7\", \"Topic7\", \"Topic7\", \"Topic8\", \"Topic8\", \"Topic8\", \"Topic8\", \"Topic8\", \"Topic8\", \"Topic8\", \"Topic8\", \"Topic8\", \"Topic8\", \"Topic8\", \"Topic8\", \"Topic8\", \"Topic8\", \"Topic8\", \"Topic8\", \"Topic8\", \"Topic8\", \"Topic8\", \"Topic8\", \"Topic8\", \"Topic8\", \"Topic8\", \"Topic8\", \"Topic8\", \"Topic8\", \"Topic8\", \"Topic8\", \"Topic8\", \"Topic8\", \"Topic8\", \"Topic8\", \"Topic8\", \"Topic8\", \"Topic8\", \"Topic8\", \"Topic8\", \"Topic8\", \"Topic8\", \"Topic8\", \"Topic8\", \"Topic8\", \"Topic8\", \"Topic8\", \"Topic8\", \"Topic8\", \"Topic8\", \"Topic8\", \"Topic8\", \"Topic8\", \"Topic8\", \"Topic8\", \"Topic8\", \"Topic8\", \"Topic8\", \"Topic8\", \"Topic8\", \"Topic8\", \"Topic8\", \"Topic8\", \"Topic8\", \"Topic8\", \"Topic8\", \"Topic8\", \"Topic8\", \"Topic8\", \"Topic8\", \"Topic8\", \"Topic8\", \"Topic8\", \"Topic8\", \"Topic8\", \"Topic8\", \"Topic8\", \"Topic8\", \"Topic8\", \"Topic8\", \"Topic8\", \"Topic8\", \"Topic9\", \"Topic9\", \"Topic9\", \"Topic9\", \"Topic9\", \"Topic9\", \"Topic9\", \"Topic9\", \"Topic9\", \"Topic9\", \"Topic9\", \"Topic9\", \"Topic9\", \"Topic9\", \"Topic9\", \"Topic9\", \"Topic9\", \"Topic9\", \"Topic9\", \"Topic9\", \"Topic9\", \"Topic9\", \"Topic9\", \"Topic9\", \"Topic9\", \"Topic9\", \"Topic9\", \"Topic9\", \"Topic9\", \"Topic9\", \"Topic9\", \"Topic9\", \"Topic9\", \"Topic9\", \"Topic9\", \"Topic9\", \"Topic9\", \"Topic9\", \"Topic9\", \"Topic9\", \"Topic9\", \"Topic9\", \"Topic9\", \"Topic9\", \"Topic9\", \"Topic9\", \"Topic9\", \"Topic9\", \"Topic9\", \"Topic9\", \"Topic9\", \"Topic9\", \"Topic9\", \"Topic9\", \"Topic9\", \"Topic9\", \"Topic9\", \"Topic9\", \"Topic9\", \"Topic9\", \"Topic9\", \"Topic9\", \"Topic9\", \"Topic9\", \"Topic9\", \"Topic9\", \"Topic9\", \"Topic9\", \"Topic9\", \"Topic9\", \"Topic9\", \"Topic9\", \"Topic9\", \"Topic9\", \"Topic9\", \"Topic10\", \"Topic10\", \"Topic10\", \"Topic10\", \"Topic10\", \"Topic10\", \"Topic10\", \"Topic10\", \"Topic10\", \"Topic10\", \"Topic10\", \"Topic10\", \"Topic10\", \"Topic10\", \"Topic10\", \"Topic10\", \"Topic10\", \"Topic10\", \"Topic10\", \"Topic10\", \"Topic10\", \"Topic10\", \"Topic10\", \"Topic10\", \"Topic10\", \"Topic10\", \"Topic10\", \"Topic10\", \"Topic10\", \"Topic10\", \"Topic10\", \"Topic10\", \"Topic10\", \"Topic10\", \"Topic10\", \"Topic10\", \"Topic10\", \"Topic10\", \"Topic10\", \"Topic10\", \"Topic10\", \"Topic10\", \"Topic10\", \"Topic10\", \"Topic10\", \"Topic10\", \"Topic10\", \"Topic10\", \"Topic10\", \"Topic10\", \"Topic10\", \"Topic10\", \"Topic10\", \"Topic10\", \"Topic10\", \"Topic10\", \"Topic10\", \"Topic10\", \"Topic10\", \"Topic10\", \"Topic10\", \"Topic10\", \"Topic10\", \"Topic10\", \"Topic10\", \"Topic10\", \"Topic10\", \"Topic10\", \"Topic10\", \"Topic10\", \"Topic10\", \"Topic10\", \"Topic10\", \"Topic10\", \"Topic10\", \"Topic10\", \"Topic10\", \"Topic10\"], \"logprob\": [30.0, 29.0, 28.0, 27.0, 26.0, 25.0, 24.0, 23.0, 22.0, 21.0, 20.0, 19.0, 18.0, 17.0, 16.0, 15.0, 14.0, 13.0, 12.0, 11.0, 10.0, 9.0, 8.0, 7.0, 6.0, 5.0, 4.0, 3.0, 2.0, 1.0, -6.792300224304199, -7.160900115966797, -4.586599826812744, -7.367800235748291, -7.174600124359131, -6.652299880981445, -7.057300090789795, -7.5594000816345215, -7.6479997634887695, -7.763999938964844, -7.864099979400635, -7.874899864196777, -7.900700092315674, -7.62060022354126, -7.130499839782715, -8.033599853515625, -7.990499973297119, -8.098400115966797, -8.02929973602295, -8.076899528503418, -8.170700073242188, -7.975399971008301, -8.17199993133545, -8.174200057983398, -8.175700187683105, -7.971099853515625, -7.997200012207031, -8.17710018157959, -8.257399559020996, -8.261300086975098, -4.2789998054504395, -8.071399688720703, -6.719399929046631, -6.258299827575684, -5.9745001792907715, -6.794000148773193, -6.8470001220703125, -5.862400054931641, -7.609399795532227, -7.213799953460693, -7.334799766540527, -4.269700050354004, -5.571899890899658, -6.2692999839782715, -7.026299953460693, -6.026299953460693, -5.920199871063232, -3.2562999725341797, -5.863100051879883, -6.530799865722656, -5.510200023651123, -5.569499969482422, -5.9679999351501465, -4.811100006103516, -2.7839999198913574, -5.70389986038208, -6.090799808502197, -4.955900192260742, -3.6582000255584717, -3.973900079727173, -5.803199768066406, -3.911400079727173, -5.3942999839782715, -4.522200107574463, -6.057199954986572, -4.809500217437744, -5.481200218200684, -5.101399898529053, -5.140399932861328, -5.077199935913086, -4.733399868011475, -4.045199871063232, -5.300300121307373, -5.1493000984191895, -5.373799800872803, -4.795599937438965, -4.874300003051758, -5.194900035858154, -5.2179999351501465, -5.518599987030029, -4.9105000495910645, -5.260900020599365, -5.273399829864502, -5.398099899291992, -6.793000221252441, -7.7399001121521, -7.539700031280518, -7.828100204467773, -5.9822001457214355, -7.876800060272217, -7.860599994659424, -8.050100326538086, -8.051799774169922, -8.026599884033203, -7.568999767303467, -8.162099838256836, -6.22599983215332, -8.287300109863281, -8.239500045776367, -8.31879997253418, -7.532299995422363, -8.274999618530273, -8.319899559020996, -8.388199806213379, -8.388699531555176, -8.388500213623047, -8.369999885559082, -8.372300148010254, -7.759699821472168, -8.26930046081543, -8.481399536132812, -8.415200233459473, -8.169400215148926, -8.564599990844727, -5.734799861907959, -6.060500144958496, -5.722400188446045, -5.955699920654297, -7.220600128173828, -6.181300163269043, -7.101799964904785, -4.486800193786621, -3.2298998832702637, -6.788700103759766, -5.392899990081787, -7.132400035858154, -5.168000221252441, -5.469699859619141, -5.247200012207031, -3.7383999824523926, -6.184700012207031, -6.226500034332275, -5.031300067901611, -6.327700138092041, -3.8297998905181885, -5.039000034332275, -4.916600227355957, -4.963699817657471, -4.615099906921387, -3.979599952697754, -4.303400039672852, -4.96619987487793, -5.697299957275391, -4.711599826812744, -5.125899791717529, -5.046500205993652, -3.1461000442504883, -5.105899810791016, -3.8612000942230225, -4.493199825286865, -3.849100112915039, -4.2266998291015625, -5.1153998374938965, -4.654300212860107, -4.400100231170654, -4.599599838256836, -4.099400043487549, -4.567500114440918, -4.565899848937988, -4.7332000732421875, -5.097799777984619, -5.105599880218506, -7.1641998291015625, -7.2104997634887695, -7.040999889373779, -7.378200054168701, -7.473899841308594, -7.083700180053711, -7.432799816131592, -7.794899940490723, -7.585100173950195, -7.928599834442139, -7.991499900817871, -8.00510025024414, -8.007200241088867, -8.044500350952148, -7.973800182342529, -8.0177001953125, -8.063599586486816, -7.583600044250488, -6.911300182342529, -6.098800182342529, -7.669899940490723, -8.153200149536133, -8.148599624633789, -8.06820011138916, -8.239500045776367, -8.239999771118164, -8.240400314331055, -8.241000175476074, -8.242400169372559, -8.2431001663208, -7.593200206756592, -6.563300132751465, -5.317399978637695, -5.174300193786621, -6.841800212860107, -7.575799942016602, -5.881400108337402, -2.639400005340576, -5.820799827575684, -4.86359977722168, -5.7571001052856445, -5.528600215911865, -5.057000160217285, -5.356800079345703, -5.849100112915039, -7.02209997177124, -5.292399883270264, -6.313899993896484, -3.9249000549316406, -4.138000011444092, -5.064599990844727, -5.363500118255615, -5.4741997718811035, -5.486700057983398, -4.132500171661377, -5.888599872589111, -4.89300012588501, -4.16349983215332, -4.0055999755859375, -5.204999923706055, -6.054299831390381, -4.506999969482422, -4.964399814605713, -5.281300067901611, -4.164400100708008, -5.564700126647949, -4.301799774169922, -4.855599880218506, -4.304500102996826, -4.2778000831604, -4.901199817657471, -4.505199909210205, -4.411300182342529, -5.198999881744385, -5.250500202178955, -5.22189998626709, -5.2006001472473145, -4.972499847412109, -5.161099910736084, -5.173500061035156, -5.269400119781494, -6.061200141906738, -7.137199878692627, -5.98859977722168, -7.471799850463867, -7.512400150299072, -7.34089994430542, -7.537099838256836, -7.740799903869629, -6.66949987411499, -7.817200183868408, -7.9842000007629395, -7.734399795532227, -7.984899997711182, -7.937699794769287, -7.3018999099731445, -8.128399848937988, -8.150199890136719, -8.15779972076416, -5.212200164794922, -7.668000221252441, -7.911799907684326, -7.759099960327148, -8.063599586486816, -7.460000038146973, -7.891200065612793, -4.7270002365112305, -6.640200138092041, -8.140399932861328, -6.838699817657471, -8.26669979095459, -5.059299945831299, -5.9629998207092285, -4.637700080871582, -5.748000144958496, -4.737800121307373, -4.815299987792969, -6.47760009765625, -4.057000160217285, -5.906400203704834, -6.378499984741211, -5.107800006866455, -5.678800106048584, -3.884999990463257, -5.607699871063232, -2.571899890899658, -3.7434000968933105, -5.7382001876831055, -5.8460001945495605, -3.627000093460083, -5.69950008392334, -5.686100006103516, -5.121399879455566, -4.249199867248535, -3.7327001094818115, -4.168000221252441, -3.2748000621795654, -5.019700050354004, -5.0218000411987305, -3.942699909210205, -4.073999881744385, -4.244900226593018, -5.160099983215332, -4.74399995803833, -5.207600116729736, -4.337600231170654, -4.427000045776367, -4.60699987411499, -5.102700233459473, -5.124800205230713, -4.974400043487549, -4.8632001876831055, -5.0802001953125, -5.062399864196777, -4.498700141906738, -4.39870023727417, -4.44320011138916, -5.573999881744385, -5.964799880981445, -6.515399932861328, -5.979800224304199, -6.392000198364258, -6.854000091552734, -6.626399993896484, -7.108099937438965, -7.111100196838379, -7.170300006866455, -4.13129997253418, -6.309999942779541, -7.3308000564575195, -7.333799839019775, -7.412099838256836, -5.0553998947143555, -7.504300117492676, -7.450399875640869, -7.519499778747559, -6.168600082397461, -4.956099987030029, -7.588799953460693, -7.67110013961792, -7.691999912261963, -7.703199863433838, -7.743899822235107, -7.697199821472168, -7.066999912261963, -6.621399879455566, -4.8354997634887695, -6.620800018310547, -4.953400135040283, -5.676400184631348, -4.210299968719482, -6.75, -6.1691999435424805, -6.361400127410889, -4.703400135040283, -5.401700019836426, -6.820899963378906, -6.265999794006348, -5.666399955749512, -5.434800148010254, -4.6269001960754395, -5.773499965667725, -4.41480016708374, -5.525199890136719, -5.864200115203857, -4.288400173187256, -5.413300037384033, -4.366799831390381, -4.056700229644775, -4.154200077056885, -4.553400039672852, -4.044600009918213, -3.755500078201294, -5.08519983291626, -4.244800090789795, -5.019700050354004, -4.549200057983398, -4.578000068664551, -4.8429999351501465, -5.060299873352051, -5.193699836730957, -5.238800048828125, -5.249499797821045, -5.246600151062012, -7.046299934387207, -5.663899898529053, -7.599599838256836, -7.599699974060059, -6.767499923706055, -7.789400100708008, -7.866499900817871, -7.954999923706055, -8.01990032196045, -7.257599830627441, -6.496799945831299, -7.615499973297119, -7.472700119018555, -8.085599899291992, -8.128000259399414, -8.225899696350098, -7.805099964141846, -7.805099964141846, -7.279099941253662, -8.571100234985352, -7.5578999519348145, -5.7444000244140625, -8.23270034790039, -5.842700004577637, -8.02869987487793, -8.342100143432617, -8.821599960327148, -8.828300476074219, -4.428400039672852, -8.3996000289917, -7.458399772644043, -2.5548999309539795, -6.964300155639648, -7.042399883270264, -4.9944000244140625, -5.078700065612793, -3.9440999031066895, -7.021399974822998, -4.410399913787842, -2.794300079345703, -5.094200134277344, -6.2895002365112305, -2.736299991607666, -4.838799953460693, -4.222899913787842, -4.801499843597412, -5.151000022888184, -3.6445999145507812, -4.947700023651123, -3.685499906539917, -5.133999824523926, -5.882999897003174, -5.513800144195557, -6.106500148773193, -5.520899772644043, -4.399899959564209, -3.1428000926971436, -4.71619987487793, -3.7657999992370605, -3.939300060272217, -4.624300003051758, -4.285399913787842, -4.5254998207092285, -4.722899913787842, -4.343100070953369, -4.8018999099731445, -4.432400226593018, -4.551700115203857, -4.639900207519531, -4.984799861907959, -4.970099925994873, -4.736299991607666, -4.773499965667725, -4.866700172424316, -7.1585001945495605, -7.3368000984191895, -7.628499984741211, -7.543000221252441, -7.047699928283691, -4.791999816894531, -8.003899574279785, -8.135100364685059, -4.993599891662598, -7.828999996185303, -7.529600143432617, -4.8796000480651855, -7.832099914550781, -7.741799831390381, -6.232900142669678, -7.946100234985352, -6.919099807739258, -8.546600341796875, -6.860199928283691, -5.677999973297119, -3.4453999996185303, -4.862400054931641, -4.938799858093262, -6.930300235748291, -8.72439956665039, -8.725700378417969, -4.708700180053711, -7.039599895477295, -3.3434998989105225, -2.665600061416626, -5.172800064086914, -4.3007001876831055, -4.5406999588012695, -4.447000026702881, -4.8831000328063965, -5.723599910736084, -3.8715999126434326, -5.254300117492676, -3.931999921798706, -4.751500129699707, -3.5039000511169434, -3.113300085067749, -4.6234002113342285, -3.8617000579833984, -3.358799934387207, -3.9999001026153564, -4.516300201416016, -4.821000099182129, -3.864000082015991, -3.8427999019622803, -4.371799945831299, -3.8736000061035156, -4.122900009155273, -4.674900054931641, -7.270899772644043, -7.3078999519348145, -7.318600177764893, -7.309700012207031, -7.380499839782715, -6.774199962615967, -7.218100070953369, -7.678199768066406, -7.391499996185303, -7.7241997718811035, -7.776700019836426, -7.867700099945068, -6.661600112915039, -7.815400123596191, -7.814700126647949, -7.9446001052856445, -7.971499919891357, -7.953400135040283, -7.216300010681152, -8.148500442504883, -8.10219955444336, -8.052000045776367, -8.15060043334961, -6.503499984741211, -7.036799907684326, -7.617000102996826, -7.124499797821045, -7.888500213623047, -6.8703999519348145, -8.28689956665039, -6.070199966430664, -7.13129997253418, -7.100800037384033, -6.609799861907959, -7.727499961853027, -5.255199909210205, -5.968299865722656, -4.296899795532227, -5.896100044250488, -3.933300018310547, -3.745800018310547, -4.964700222015381, -6.962500095367432, -5.450799942016602, -3.856800079345703, -4.132500171661377, -6.383600234985352, -5.540299892425537, -5.342599868774414, -5.607900142669678, -4.325099945068359, -4.3231000900268555, -6.078800201416016, -3.217600107192993, -6.100200176239014, -4.6809000968933105, -4.976900100708008, -4.882800102233887, -4.250899791717529, -6.082200050354004, -5.066299915313721, -4.065100193023682, -3.7009999752044678, -5.34499979019165, -5.138599872589111, -4.499599933624268, -4.534200191497803, -4.468200206756592, -5.5441999435424805, -4.798999786376953, -4.640699863433838, -4.919899940490723, -5.214399814605713, -4.861999988555908, -5.047999858856201, -5.179500102996826, -5.232999801635742, -5.248199939727783, -5.2153000831604, -6.530600070953369, -6.635799884796143, -5.876999855041504, -6.934800148010254, -6.947700023651123, -5.144100189208984, -7.153600215911865, -7.280600070953369, -5.3171000480651855, -4.8653998374938965, -6.902900218963623, -7.389200210571289, -7.3993000984191895, -7.226500034332275, -7.450500011444092, -7.311800003051758, -7.525700092315674, -7.3003997802734375, -7.526800155639648, -6.951399803161621, -7.250999927520752, -7.620100021362305, -7.55649995803833, -7.601399898529053, -7.549099922180176, -7.185400009155273, -7.7154998779296875, -5.524499893188477, -7.821599960327148, -7.334099769592285, -4.215700149536133, -7.009300231933594, -5.298699855804443, -4.906400203704834, -5.651700019836426, -5.999800205230713, -5.752999782562256, -4.923299789428711, -6.5279998779296875, -4.2453999519348145, -6.111000061035156, -5.72130012512207, -5.4679999351501465, -6.419000148773193, -6.480299949645996, -3.4124999046325684, -5.793399810791016, -5.278200149536133, -5.588099956512451, -5.673799991607666, -5.92080020904541, -5.429500102996826, -4.014200210571289, -5.627799987792969, -5.900199890136719, -5.75570011138916, -4.899700164794922, -5.044600009918213, -3.9716999530792236, -4.461400032043457, -3.7376999855041504, -3.7916998863220215, -4.631899833679199, -4.65939998626709, -5.119699954986572, -4.967400074005127, -5.322400093078613, -4.885700225830078, -4.850299835205078, -5.24399995803833, -5.1579999923706055, -4.848100185394287, -5.03879976272583, -5.222499847412109, -5.2982001304626465, -5.861199855804443, -6.3394999504089355, -6.594900131225586, -6.11899995803833, -6.4969000816345215, -6.755199909210205, -6.807199954986572, -6.513899803161621, -5.592700004577637, -7.087800025939941, -6.938799858093262, -6.247600078582764, -4.716899871826172, -5.579899787902832, -6.468299865722656, -7.342299938201904, -7.213500022888184, -7.4527997970581055, -7.481400012969971, -7.4721999168396, -7.022200107574463, -7.577700138092041, -6.065499782562256, -7.484600067138672, -7.701600074768066, -6.547399997711182, -7.787199974060059, -7.790500164031982, -6.956699848175049, -7.265399932861328, -5.456699848175049, -5.6585001945495605, -5.726099967956543, -4.401500225067139, -6.616000175476074, -6.692299842834473, -6.17609977722168, -5.896500110626221, -5.615499973297119, -5.965400218963623, -4.28000020980835, -6.034900188446045, -6.2245001792907715, -6.52239990234375, -4.284599781036377, -4.834000110626221, -4.4039998054504395, -4.777699947357178, -4.519599914550781, -5.155799865722656, -4.980599880218506, -5.4243998527526855, -5.5817999839782715, -5.3394999504089355, -4.237599849700928, -5.806099891662598, -5.505099773406982, -4.55620002746582, -4.395899772644043, -3.9921000003814697, -5.385900020599365, -3.5910000801086426, -4.1656999588012695, -5.232699871063232, -5.049300193786621, -5.17080020904541, -4.946800231933594, -4.924200057983398, -4.70959997177124, -4.9781999588012695, -4.798699855804443, -4.798799991607666, -5.024600028991699, -5.024799823760986, -5.019700050354004, -5.155399799346924, -5.166500091552734, -5.1875], \"loglift\": [30.0, 29.0, 28.0, 27.0, 26.0, 25.0, 24.0, 23.0, 22.0, 21.0, 20.0, 19.0, 18.0, 17.0, 16.0, 15.0, 14.0, 13.0, 12.0, 11.0, 10.0, 9.0, 8.0, 7.0, 6.0, 5.0, 4.0, 3.0, 2.0, 1.0, 1.8725999593734741, 1.8579000234603882, 1.8518999814987183, 1.851099967956543, 1.8488999605178833, 1.8468999862670898, 1.8451000452041626, 1.8372000455856323, 1.8315999507904053, 1.819000005722046, 1.8157999515533447, 1.8121999502182007, 1.8114999532699585, 1.8107000589370728, 1.80649995803833, 1.8029999732971191, 1.802299976348877, 1.7972999811172485, 1.7967000007629395, 1.7926000356674194, 1.7896000146865845, 1.789199948310852, 1.7884000539779663, 1.7872999906539917, 1.7861000299453735, 1.784500002861023, 1.7831000089645386, 1.7812000513076782, 1.7786999940872192, 1.7786999940872192, 1.7537000179290771, 1.777899980545044, 1.7618000507354736, 1.742300033569336, 1.7269999980926514, 1.7453999519348145, 1.733299970626831, 1.6912000179290771, 1.7621999979019165, 1.735200047492981, 1.7390999794006348, 1.4977999925613403, 1.5972000360488892, 1.6419999599456787, 1.7041000127792358, 1.5673999786376953, 1.5479999780654907, 1.1627999544143677, 1.5324000120162964, 1.6205999851226807, 1.4383000135421753, 1.4178999662399292, 1.4714000225067139, 1.1986000537872314, 0.6466000080108643, 1.3732999563217163, 1.4479999542236328, 1.1238000392913818, 0.694599986076355, 0.7857000231742859, 1.3616000413894653, 0.6340000033378601, 1.1476000547409058, 0.7384999990463257, 1.4163000583648682, 0.8222000002861023, 1.1277999877929688, 0.8863000273704529, 0.873199999332428, 0.8264999985694885, 0.5521000027656555, -0.447299987077713, 0.7796000242233276, 0.5856999754905701, 0.8330000042915344, 0.05139999836683273, -0.05169999971985817, 0.35440000891685486, 0.20900000631809235, 0.9067999720573425, -0.7671999931335449, 0.11710000038146973, 0.010099999606609344, 0.13130000233650208, 1.9186999797821045, 1.910599946975708, 1.906499981880188, 1.9016000032424927, 1.8977999687194824, 1.8901000022888184, 1.8871999979019165, 1.8799999952316284, 1.878100037574768, 1.875599980354309, 1.872499942779541, 1.867300033569336, 1.8531999588012695, 1.8509999513626099, 1.8508000373840332, 1.847499966621399, 1.8449000120162964, 1.8446999788284302, 1.8443000316619873, 1.8387999534606934, 1.8382999897003174, 1.8381999731063843, 1.8380000591278076, 1.8350000381469727, 1.8306000232696533, 1.8210999965667725, 1.8207999467849731, 1.8144999742507935, 1.8136999607086182, 1.8079999685287476, 1.80649995803833, 1.7491999864578247, 1.690999984741211, 1.6751999855041504, 1.7553000450134277, 1.6777000427246094, 1.7457000017166138, 1.5160000324249268, 1.351099967956543, 1.6764999628067017, 1.5148999691009521, 1.6933000087738037, 1.416599988937378, 1.4357999563217163, 1.3669999837875366, 1.1088000535964966, 1.513800024986267, 1.51419997215271, 1.24590003490448, 1.5234999656677246, 0.9297000169754028, 1.194100022315979, 1.1546000242233276, 1.1608999967575073, 1.0657999515533447, 0.885200023651123, 0.9574000239372253, 1.124400019645691, 1.3154000043869019, 0.9879000186920166, 1.1181999444961548, 1.062600016593933, 0.28450000286102295, 1.011299967765808, 0.4122999906539917, 0.6793000102043152, 0.29409998655319214, 0.3978999853134155, 0.8942999839782715, 0.3517000079154968, 0.014100000262260437, 0.24740000069141388, -0.5015000104904175, -0.148499995470047, -0.21299999952316284, -0.3589000105857849, 0.6044999957084656, 0.3057999908924103, 2.013200044631958, 2.008699893951416, 2.002700090408325, 2.002700090408325, 1.9907000064849854, 1.9873000383377075, 1.9845999479293823, 1.9601000547409058, 1.958299994468689, 1.9563000202178955, 1.9536000490188599, 1.952299952507019, 1.9519000053405762, 1.9459999799728394, 1.9443999528884888, 1.9420000314712524, 1.940999984741211, 1.9391000270843506, 1.9388999938964844, 1.937600016593933, 1.9330999851226807, 1.930400013923645, 1.930299997329712, 1.9256999492645264, 1.9247000217437744, 1.9247000217437744, 1.9239000082015991, 1.9228999614715576, 1.9228999614715576, 1.9226000308990479, 1.9222999811172485, 1.909500002861023, 1.889799952507019, 1.8479000329971313, 1.8920999765396118, 1.906000018119812, 1.8388999700546265, 1.6848000288009644, 1.8248000144958496, 1.7728999853134155, 1.757699966430664, 1.7288000583648682, 1.6792999505996704, 1.6818000078201294, 1.7275999784469604, 1.8377000093460083, 1.6169999837875366, 1.7400000095367432, 1.3997000455856323, 1.4052000045776367, 1.5032999515533447, 1.552899956703186, 1.562399983406067, 1.554900050163269, 1.2454999685287476, 1.62909996509552, 1.3402999639511108, 1.0987000465393066, 1.0003999471664429, 1.3348000049591064, 1.621000051498413, 1.0424000024795532, 1.1931999921798706, 1.2437000274658203, 0.6582000255584717, 1.3791999816894531, 0.5453000068664551, 0.7638999819755554, 0.0697999969124794, -0.00430000014603138, 0.6281999945640564, 0.11940000206232071, -0.26809999346733093, 0.8866999745368958, 0.9639000296592712, 0.8727999925613403, 0.7204999923706055, -1.5419000387191772, -0.8083000183105469, -0.628000020980835, -0.8503999710083008, 2.188800096511841, 2.158400058746338, 2.1563000679016113, 2.138200044631958, 2.1347999572753906, 2.131700038909912, 2.1247000694274902, 2.1101999282836914, 2.1005001068115234, 2.0975000858306885, 2.087899923324585, 2.085900068283081, 2.0855000019073486, 2.085099935531616, 2.0696001052856445, 2.0678999423980713, 2.067699909210205, 2.063699960708618, 2.0517001152038574, 2.0446999073028564, 2.039299964904785, 2.031100034713745, 2.0111000537872314, 1.9880000352859497, 1.979599952697754, 1.9692000150680542, 1.9637999534606934, 1.9452999830245972, 1.944200038909912, 1.941100001335144, 1.9391000270843506, 1.9388999938964844, 1.8870999813079834, 1.8766000270843506, 1.8040000200271606, 1.781000018119812, 1.9019999504089355, 1.645300030708313, 1.8401999473571777, 1.8767000436782837, 1.6704000234603882, 1.7181999683380127, 1.3772000074386597, 1.6638000011444092, 1.0260000228881836, 1.2626999616622925, 1.6729999780654907, 1.6419999599456787, 0.9185000061988831, 1.5658999681472778, 1.5575000047683716, 1.3122999668121338, 0.8044999837875366, 0.5407999753952026, 0.679099977016449, 0.155799999833107, 1.0514999628067017, 1.0253000259399414, 0.20059999823570251, 0.27880001068115234, 0.3361000120639801, 1.063599944114685, 0.5805000066757202, 1.0871000289916992, 0.07660000026226044, -0.00800000037997961, 0.21559999883174896, 0.8998000025749207, 0.7777000069618225, 0.3111000061035156, -0.10369999706745148, 0.26969999074935913, -0.6880999803543091, 2.2416999340057373, 2.235599994659424, 2.2353999614715576, 2.230600118637085, 2.217099905014038, 2.216200113296509, 2.2155001163482666, 2.2007999420166016, 2.1986000537872314, 2.194700002670288, 2.190700054168701, 2.189199924468994, 2.1816000938415527, 2.176100015640259, 2.1730000972747803, 2.172499895095825, 2.172300100326538, 2.1677000522613525, 2.1672000885009766, 2.165600061416626, 2.1654000282287598, 2.1654000282287598, 2.1640000343322754, 2.15939998626709, 2.153899908065796, 2.1489999294281006, 2.148200035095215, 2.14520001411438, 2.144399881362915, 2.1442999839782715, 2.1438000202178955, 2.133500099182129, 2.1047000885009766, 2.1314001083374023, 2.084399938583374, 2.103800058364868, 2.02810001373291, 2.125999927520752, 2.0848000049591064, 2.08240008354187, 1.9241000413894653, 1.9733999967575073, 2.117000102996826, 2.0541999340057373, 1.947700023651123, 1.8903000354766846, 1.676900029182434, 1.907099962234497, 1.5877000093460083, 1.8343000411987305, 1.8717000484466553, 1.1229000091552734, 1.6454999446868896, 1.1131000518798828, 0.7657999992370605, 0.692799985408783, 0.8737000226974487, 0.37439998984336853, -0.15760000050067902, 1.009600043296814, 0.028699999675154686, 0.7153000235557556, -0.1964000016450882, -0.43470001220703125, -0.29750001430511475, 0.31769999861717224, 0.7099999785423279, 0.35010001063346863, 0.035999998450279236, -0.8324000239372253, 2.261699914932251, 2.2430999279022217, 2.2397000789642334, 2.2397000789642334, 2.2283999919891357, 2.226599931716919, 2.216200113296509, 2.199700117111206, 2.1953999996185303, 2.1930999755859375, 2.1916000843048096, 2.190000057220459, 2.187299966812134, 2.185699939727783, 2.178800106048584, 2.16510009765625, 2.1470000743865967, 2.1470000743865967, 2.1057000160217285, 2.097599983215332, 2.0906999111175537, 2.08870005607605, 2.085099935531616, 2.0762999057769775, 2.0546000003814697, 2.039099931716919, 2.0336999893188477, 2.033400058746338, 2.0078001022338867, 1.986799955368042, 1.9731999635696411, 1.8593000173568726, 1.957200050354004, 1.9543999433517456, 1.8144999742507935, 1.7718000411987305, 1.6104999780654907, 1.9515000581741333, 1.6158000230789185, 1.3488999605178833, 1.6675000190734863, 1.8251999616622925, 0.8615999817848206, 1.3942999839782715, 1.180799961090088, 1.3386000394821167, 1.4301999807357788, 0.9800999760627747, 1.3294999599456787, 0.9038000106811523, 1.3319000005722046, 1.5816999673843384, 1.3954999446868896, 1.6346999406814575, 1.3846999406814575, 0.8855999708175659, 0.28780001401901245, 0.983299970626831, 0.5076000094413757, 0.4350000023841858, 0.8392999768257141, 0.5794000029563904, 0.5281999707221985, 0.6636999845504761, 0.2379000037908554, 0.6474999785423279, 0.11309999972581863, 0.2078000009059906, -0.3156999945640564, 0.4950999915599823, -0.6172999739646912, 2.359600067138672, 2.3264000415802, 2.3183000087738037, 2.308199882507324, 2.3080999851226807, 2.2864999771118164, 2.2792000770568848, 2.2725000381469727, 2.2657999992370605, 2.2302000522613525, 2.219399929046631, 2.21560001373291, 2.2102999687194824, 2.2100000381469727, 2.203900098800659, 2.1928999423980713, 2.1884000301361084, 2.1733999252319336, 2.172800064086914, 2.1463000774383545, 2.138700008392334, 2.134200096130371, 2.1317999362945557, 2.1266000270843506, 2.1263999938964844, 2.1221001148223877, 2.108099937438965, 2.095900058746338, 2.0950000286102295, 2.0892999172210693, 2.08489990234375, 2.043100118637085, 1.923699975013733, 2.0201001167297363, 1.9717999696731567, 1.9593000411987305, 1.8025000095367432, 1.8056000471115112, 1.913100004196167, 1.5920000076293945, 1.7904000282287598, 1.5174000263214111, 1.6540000438690186, 1.3609000444412231, 1.2610000371932983, 1.6130000352859497, 1.405900001525879, 1.2659000158309937, 1.350100040435791, 1.5097999572753906, 1.4795000553131104, 0.9830999970436096, 0.43070000410079956, 0.8007000088691711, -0.4429999887943268, -0.5249999761581421, 0.5857999920845032, 2.4902000427246094, 2.4893999099731445, 2.4825000762939453, 2.4793999195098877, 2.4783999919891357, 2.4605000019073486, 2.4458999633789062, 2.4451000690460205, 2.4363999366760254, 2.4321999549865723, 2.430799961090088, 2.4209001064300537, 2.4191999435424805, 2.4161999225616455, 2.415600061416626, 2.409600019454956, 2.4049999713897705, 2.3970000743865967, 2.389899969100952, 2.3708999156951904, 2.3705999851226807, 2.368499994277954, 2.367799997329712, 2.3654000759124756, 2.3622000217437744, 2.361299991607666, 2.3606998920440674, 2.3577001094818115, 2.3498001098632812, 2.3440001010894775, 2.335400104522705, 2.307300090789795, 2.2939999103546143, 2.2464001178741455, 2.3350000381469727, 2.0585999488830566, 2.093100070953369, 1.7889000177383423, 2.0485999584198, 1.6862000226974487, 1.537600040435791, 1.7997000217437744, 2.2228000164031982, 1.8601000308990479, 1.384600043296814, 1.4563000202178955, 1.9930000305175781, 1.691100001335144, 1.6175999641418457, 1.6800999641418457, 1.1243000030517578, 1.1038999557495117, 1.842900037765503, 0.21299999952316284, 1.8080999851226807, 0.9998999834060669, 1.138200044631958, 1.0383000373840332, 0.5716000199317932, 1.7288000583648682, 1.0242999792099, 0.28780001401901245, -0.1031000018119812, 1.1208000183105469, 0.7638999819755554, 0.08139999955892563, 0.05510000139474869, -0.09390000253915787, 1.1729999780654907, 0.04809999838471413, -0.36719998717308044, 0.13379999995231628, 0.5206000208854675, -0.3165000081062317, 0.12449999898672104, 0.3003999888896942, 0.3163999915122986, 0.15549999475479126, -1.0720000267028809, 2.744499921798706, 2.73580002784729, 2.7102999687194824, 2.7095000743865967, 2.707900047302246, 2.699700117111206, 2.697000026702881, 2.6810998916625977, 2.680799961090088, 2.6786999702453613, 2.6740000247955322, 2.6735999584198, 2.6714999675750732, 2.6714000701904297, 2.665800094604492, 2.658400058746338, 2.6559998989105225, 2.6503000259399414, 2.648900032043457, 2.6484999656677246, 2.6452999114990234, 2.643399953842163, 2.642899990081787, 2.6373000144958496, 2.6296000480651855, 2.6250998973846436, 2.6177000999450684, 2.615600109100342, 2.6115000247955322, 2.6110000610351562, 2.60260009765625, 2.589900016784668, 2.410399913787842, 2.3568999767303467, 2.4319000244140625, 2.468899965286255, 2.414599895477295, 2.250499963760376, 2.4981000423431396, 2.0251998901367188, 2.402100086212158, 2.3052000999450684, 2.2388999462127686, 2.452699899673462, 2.4563000202178955, 1.6412999629974365, 2.247499942779541, 2.101599931716919, 2.1875, 2.1524999141693115, 2.2109999656677246, 1.9638999700546265, 1.2272000312805176, 1.982699990272522, 2.1029999256134033, 2.0071001052856445, 1.3367999792099, 1.3609000444412231, 0.38109999895095825, 0.7110999822616577, -0.13979999721050262, -0.3610999882221222, 0.6514999866485596, 0.6082000136375427, 0.9602000117301941, 0.5871999859809875, 1.2864999771118164, -0.03869999945163727, -0.30480000376701355, 0.8651999831199646, 0.5770999789237976, -0.704800009727478, -0.6644999980926514, 0.18119999766349792, 0.16539999842643738, 2.9072000980377197, 2.8808999061584473, 2.8726000785827637, 2.8696000576019287, 2.8640999794006348, 2.857599973678589, 2.8564999103546143, 2.8492000102996826, 2.8443000316619873, 2.830199956893921, 2.8261001110076904, 2.825000047683716, 2.82069993019104, 2.809000015258789, 2.8029000759124756, 2.7995998859405518, 2.786900043487549, 2.77620005607605, 2.7737998962402344, 2.771399974822998, 2.7643001079559326, 2.756500005722046, 2.750699996948242, 2.7499001026153564, 2.7428998947143555, 2.7386999130249023, 2.7304999828338623, 2.7258999347686768, 2.7258999347686768, 2.725800037384033, 2.7167999744415283, 2.664799928665161, 2.643199920654297, 2.5399999618530273, 2.681999921798706, 2.6865999698638916, 2.6187000274658203, 2.574399948120117, 2.5360000133514404, 2.576200008392334, 2.2741000652313232, 2.575500011444092, 2.595900058746338, 2.6466000080108643, 2.038599967956543, 2.1928000450134277, 2.050600051879883, 2.1196000576019287, 2.0304999351501465, 2.2146999835968018, 2.008699893951416, 2.183500051498413, 2.217099905014038, 2.0520999431610107, 1.2918000221252441, 2.2792999744415283, 2.0172998905181885, 1.1246999502182007, 0.8454999923706055, 0.3822000026702881, 1.8702000379562378, -0.16040000319480896, 0.3797999918460846, 1.6562999486923218, 1.3875000476837158, 1.4687000513076782, 0.6025999784469604, 0.46239998936653137, -0.35679998993873596, 0.28949999809265137, -0.3797000050544739, -0.474700003862381, 0.3790999948978424, 0.02889999933540821, -0.1550000011920929, 0.25589999556541443, 0.11699999868869781, 0.1624000072479248]}, \"token.table\": {\"Topic\": [2, 1, 3, 4, 5, 6, 7, 8, 1, 2, 3, 4, 5, 6, 8, 10, 2, 5, 1, 5, 10, 1, 2, 3, 4, 5, 7, 9, 10, 1, 2, 3, 5, 8, 9, 1, 2, 4, 6, 7, 8, 1, 6, 8, 2, 6, 8, 10, 2, 3, 4, 6, 7, 8, 1, 3, 5, 8, 9, 10, 2, 1, 3, 4, 5, 8, 10, 2, 4, 6, 1, 2, 3, 4, 5, 6, 7, 8, 9, 10, 4, 8, 9, 1, 2, 3, 4, 5, 8, 9, 5, 8, 5, 6, 8, 1, 2, 3, 4, 5, 6, 7, 8, 9, 1, 2, 3, 4, 5, 8, 9, 10, 2, 6, 8, 1, 2, 3, 4, 5, 6, 7, 8, 9, 10, 7, 5, 6, 1, 7, 5, 8, 1, 2, 3, 5, 6, 7, 10, 1, 2, 3, 4, 5, 6, 7, 8, 9, 3, 6, 1, 1, 2, 3, 4, 7, 8, 9, 10, 1, 2, 3, 4, 5, 6, 7, 8, 9, 1, 2, 3, 4, 5, 6, 9, 10, 2, 6, 9, 1, 2, 10, 1, 2, 3, 6, 8, 2, 6, 1, 2, 3, 4, 5, 6, 7, 8, 9, 10, 5, 9, 10, 1, 2, 3, 4, 5, 6, 7, 8, 9, 10, 1, 2, 3, 4, 5, 6, 7, 8, 2, 3, 6, 7, 8, 10, 7, 1, 3, 4, 5, 6, 8, 9, 10, 5, 10, 1, 2, 3, 4, 5, 6, 7, 8, 9, 1, 2, 3, 4, 5, 6, 7, 8, 9, 10, 4, 5, 1, 5, 1, 1, 2, 3, 4, 5, 6, 7, 8, 9, 10, 1, 2, 3, 5, 8, 1, 2, 3, 4, 7, 9, 2, 8, 4, 10, 2, 6, 1, 2, 3, 5, 8, 9, 1, 2, 3, 4, 5, 1, 2, 3, 4, 5, 6, 7, 8, 9, 10, 9, 1, 2, 3, 6, 9, 10, 1, 2, 3, 4, 5, 9, 10, 2, 4, 1, 2, 3, 4, 5, 6, 7, 8, 9, 10, 4, 9, 10, 10, 9, 10, 7, 7, 1, 2, 3, 4, 5, 6, 7, 9, 10, 1, 2, 3, 5, 8, 9, 10, 1, 2, 4, 5, 7, 8, 9, 1, 3, 4, 5, 7, 9, 10, 1, 4, 1, 2, 3, 4, 6, 7, 8, 9, 10, 1, 2, 3, 4, 5, 6, 9, 10, 1, 2, 3, 4, 5, 6, 7, 8, 9, 10, 1, 6, 2, 6, 10, 3, 3, 6, 1, 5, 8, 3, 4, 1, 2, 3, 4, 5, 6, 8, 9, 10, 8, 5, 7, 1, 10, 7, 1, 2, 3, 4, 5, 8, 9, 10, 9, 1, 2, 3, 4, 5, 6, 7, 8, 9, 10, 2, 3, 4, 1, 2, 6, 7, 8, 1, 8, 9, 10, 6, 8, 1, 2, 3, 8, 1, 2, 10, 8, 10, 8, 1, 5, 9, 2, 1, 5, 8, 8, 9, 10, 1, 2, 3, 5, 6, 7, 8, 9, 2, 1, 2, 3, 4, 5, 7, 8, 9, 1, 2, 3, 4, 5, 9, 10, 1, 2, 3, 4, 5, 7, 8, 9, 8, 3, 10, 1, 2, 3, 4, 5, 6, 7, 8, 9, 10, 1, 2, 6, 2, 3, 5, 9, 5, 1, 2, 3, 4, 5, 6, 7, 8, 10, 1, 2, 6, 8, 9, 10, 8, 1, 2, 3, 6, 8, 9, 10, 3, 1, 2, 3, 4, 5, 6, 7, 8, 9, 10, 1, 2, 3, 4, 5, 6, 8, 9, 4, 1, 2, 3, 4, 5, 6, 7, 8, 9, 10, 5, 9, 1, 1, 2, 3, 4, 6, 7, 8, 9, 1, 2, 3, 4, 5, 7, 1, 2, 3, 4, 6, 8, 9, 1, 2, 3, 5, 8, 10, 1, 2, 3, 4, 5, 6, 7, 9, 4, 6, 7, 9, 2, 4, 6, 7, 4, 5, 2, 3, 4, 5, 6, 7, 8, 9, 2, 9, 3, 1, 3, 8, 10, 9, 1, 6, 1, 2, 3, 5, 6, 7, 4, 1, 2, 3, 4, 5, 10, 1, 2, 3, 4, 5, 6, 7, 8, 9, 10, 1, 2, 3, 4, 5, 6, 7, 8, 9, 10, 1, 3, 4, 5, 7, 8, 9, 10, 6, 9, 10, 1, 2, 3, 4, 5, 6, 7, 8, 9, 10, 8, 3, 10, 2, 3, 8, 9, 4, 1, 2, 3, 5, 6, 7, 10, 1, 3, 1, 2, 3, 4, 5, 6, 8, 9, 10, 1, 3, 4, 5, 6, 8, 9, 10, 1, 3, 5, 6, 10, 1, 2, 3, 4, 5, 6, 7, 8, 9, 1, 3, 7, 1, 2, 3, 4, 5, 6, 7, 8, 9, 10, 1, 2, 3, 4, 6, 9, 10, 1, 4, 8, 10, 3, 5, 7, 8, 9, 10, 10, 1, 2, 3, 4, 5, 6, 7, 9, 10, 1, 3, 5, 6, 8, 7, 3, 5, 1, 2, 3, 4, 5, 6, 7, 8, 9, 10, 1, 2, 3, 4, 5, 8, 9, 10, 1, 2, 3, 4, 5, 6, 7, 8, 9, 10, 2, 8, 2, 7, 2, 3, 6, 7, 8, 10, 2, 3, 4, 6, 7, 9, 10, 7, 9, 10, 7, 7, 1, 2, 3, 6, 7, 8, 9, 10, 1, 2, 3, 4, 5, 6, 7, 8, 9, 10, 6, 7, 2, 8, 8, 1, 2, 4, 5, 6, 8, 8, 1, 2, 5, 7, 8, 1, 2, 3, 4, 5, 8, 10, 9, 1, 3, 6, 7, 8, 1, 2, 3, 4, 5, 7, 8, 9, 1, 2, 3, 4, 5, 6, 7, 8, 9, 10, 1, 3, 2, 3, 7, 8, 10, 1, 2, 3, 5, 6, 8, 9, 1, 2, 3, 5, 7, 8, 9, 1, 2, 3, 4, 5, 6, 8, 9, 10, 2, 3, 5, 6, 9, 10, 2, 4, 6, 7, 1, 2, 3, 5, 6, 7, 8, 9, 10, 1, 6, 5, 2, 3, 4, 1, 3, 4, 1, 3, 5, 8, 9, 10, 5, 1, 2, 3, 4, 5, 7, 8, 9, 10, 4, 2, 10, 6, 8, 1, 2, 4, 1, 2, 3, 4, 6, 8, 1, 9, 4, 5, 2, 3, 6, 1, 2, 3, 4, 5, 6, 7, 8, 10, 1, 1, 2, 3, 4, 5, 6, 7, 8, 9, 10, 3, 1, 2, 3, 4, 5, 6, 7, 8, 9, 10, 4, 3, 10, 1, 2, 4, 5, 6, 9, 10, 1, 2, 6, 9, 10, 1, 2, 3, 5, 8, 10, 2, 5, 10, 1, 2, 4, 5, 6, 7, 8, 9, 10, 3, 6, 5, 6, 1, 2, 3, 4, 5, 6, 7, 8, 9, 10, 3, 9, 1, 1, 2, 3, 4, 5, 6, 7, 8, 9, 10, 1, 2, 3, 4, 5, 7, 8, 9, 10, 1, 2, 7, 9, 5, 9, 1, 2, 3, 4, 5, 6, 8, 9, 10, 10, 1, 2, 3, 4, 5, 7, 8, 9, 10, 5, 7, 9, 1, 10, 2, 3, 4, 6, 7, 9, 2, 3, 4, 6, 7, 8, 3, 1, 2, 3, 4, 5, 6, 7, 8, 9, 1, 2, 3, 4, 5, 6, 7, 8, 10, 3, 5, 7, 10, 1, 2, 3, 4, 5, 6, 7, 8, 9, 10, 2, 3, 7, 8, 9, 10, 2, 10, 1, 2, 3, 4, 5, 7, 8, 9, 2, 2, 4, 7, 8, 9, 1, 2, 3, 4, 5, 6, 7, 8, 10, 1, 2, 8, 5, 1, 2, 3, 4, 5, 6, 7, 8, 9, 1, 2, 3, 4, 5, 6, 7, 8, 9, 10, 2, 4, 9, 10, 5, 1, 2, 3, 4, 5, 6, 7, 8, 9, 10, 1, 2, 3, 5, 6, 7, 8, 9, 10, 1, 2, 3, 4, 5, 6, 7, 8, 9, 10, 3, 3, 5, 2, 10, 1, 1, 5, 3, 7, 10, 4, 5, 2, 1, 2, 4, 9, 4, 1, 3, 10, 1, 2, 3, 4, 5, 6, 7, 8, 9, 10, 1, 3, 4, 9, 9, 6, 10, 2, 1, 3, 4, 5, 8, 9, 10, 1, 1, 2, 3, 4, 6, 7, 8, 10, 5, 1, 2, 3, 4, 5, 6, 7, 8, 9, 10, 2, 3, 4, 6, 7, 9, 7, 2, 10, 9, 1, 2, 3, 4, 5, 6, 8, 1, 2, 3, 4, 5, 6, 7, 8, 9, 1, 2, 3, 4, 5, 6, 7, 8, 9, 6, 1, 2, 3, 4, 5, 6, 7, 8, 9, 10, 1, 2, 3, 4, 5, 6, 8, 9, 10, 8, 1, 2, 6, 7, 8, 5, 8, 6, 1, 4, 1, 2, 3, 4, 5, 6, 7, 8, 9, 10, 1, 2, 3, 4, 5, 6, 7, 8, 9, 10, 2, 6, 7, 1, 3, 4, 5, 7, 8, 4, 10, 1, 2, 3, 5, 7, 8, 9, 1, 2, 3, 4, 5, 6, 7, 8, 9, 10, 1, 2, 3, 4, 5, 6, 7, 8, 9, 10, 2, 3, 8, 2, 3, 5, 6, 7, 9, 10, 1, 2, 3, 5, 6, 6, 8, 1, 3, 5, 6, 7, 8, 1, 2, 3, 4, 8, 10, 10, 10, 1, 3, 5, 6, 5, 3, 1, 3, 5, 1, 2, 4, 6, 7, 8, 10, 9, 1, 2, 3, 4, 5, 6, 7, 8, 9, 10, 8, 1, 3, 6, 7, 8, 9, 6, 1, 3, 4, 5, 6, 8, 10, 2, 8, 1, 2, 3, 4, 5, 6, 7, 8, 9, 10, 1, 2, 3, 5, 6, 7, 1, 5, 8, 9, 1, 8, 9, 10, 4, 5, 7, 9, 2, 3, 5, 8, 9, 10, 5, 8, 10, 2, 3, 5, 6, 8, 9, 7, 3, 2, 7, 2, 1, 3, 7, 10, 5, 1, 2, 3, 4, 5, 6, 7, 8, 9, 10, 1, 2, 3, 4, 5, 7, 9, 10, 1, 2, 3, 4, 5, 6, 7, 8, 9, 10, 1, 2, 3, 4, 5, 6, 9, 1, 2, 3, 4, 5, 6, 8, 10, 2, 1, 3, 1, 2, 3, 4, 5, 6, 7, 8, 9, 10, 1, 2, 8, 2, 8, 2, 9, 10, 1, 2, 3, 4, 5, 6, 7, 8, 9, 10, 5, 8, 3, 5, 5, 2, 1, 2, 3, 4, 5, 6, 8, 9, 10, 1, 3, 1, 2, 3, 4, 5, 7, 8, 9, 10, 5, 1, 2, 2, 8, 1, 2, 3, 4, 5, 6, 7, 8, 9, 1, 2, 3, 4, 5, 6, 7, 8, 9, 10, 1, 2, 3, 4, 5, 6, 7, 8, 9, 1, 2, 3, 4, 5, 8, 10, 2, 4, 8, 1, 4, 7, 8, 1, 2, 3, 4, 5, 6, 7, 8, 9, 10, 9, 1, 5, 3, 9, 1, 5, 6, 8, 1, 8, 10, 3, 1, 2, 3, 8, 9, 3, 1, 2, 3, 4, 8, 9, 10, 4, 5, 2, 1, 3, 4, 7, 8, 9, 10, 2, 3, 4, 5, 6, 7, 9, 1, 2, 7, 8, 10, 2, 3, 6, 7, 10, 1, 2, 3, 7, 8, 9, 2, 3, 5, 6, 7, 8, 9, 10, 4, 9, 8, 5, 7, 9, 10, 1, 2, 3, 4, 5, 6, 7, 8, 9, 10, 1, 1, 2, 3, 4, 9, 10, 9, 2, 4, 3, 3, 10, 2, 5, 10, 1, 2, 3, 4, 5, 8, 9, 10, 1, 2, 3, 4, 5, 6, 7, 8, 10, 1, 2, 3, 4, 6, 8, 9, 10, 5, 6, 3, 8, 1, 4, 9, 1, 2, 3, 4, 5, 6, 7, 8, 10, 1, 2, 3, 4, 5, 6, 7, 8, 9, 10, 3, 4, 6, 7, 8, 9, 10, 2, 7, 9, 1, 2, 3, 4, 5, 6, 7, 8, 9, 10, 5, 1, 5, 10, 1, 2, 3, 4, 5, 8, 9, 10, 1, 3, 9, 1, 4, 1, 2, 4, 5, 6, 7, 8, 9, 10, 8, 1, 4, 1, 2, 3, 4, 6, 7, 8, 9, 10, 9, 1, 2, 3, 4, 5, 6, 7, 8, 9, 10, 5, 5, 9, 5, 4, 9, 5, 10, 8, 10, 5, 10, 2, 5, 9, 10, 10, 1, 8, 2, 8, 1, 2, 3, 4, 5, 8, 9, 10, 1, 3, 5, 1, 4, 1, 2, 3, 4, 5, 7, 8, 1, 3, 1, 2, 5, 10, 2, 3, 10, 2, 1, 2, 3, 4, 1, 3, 4, 1, 2, 3, 4, 5, 6, 8, 10, 2, 5, 1, 3, 1, 2, 3, 4, 5, 6, 7, 8, 9, 10, 1, 2, 3, 4, 5, 6, 7, 8, 9, 10, 4, 5, 9, 1, 2, 8, 10, 1, 2, 3, 5, 7, 9, 10, 3, 6, 6, 8, 3, 2, 3, 5, 7, 8, 9, 1, 2, 4, 5, 6, 7, 9, 4, 2, 3, 8, 6, 7, 1, 2, 3, 4, 5, 6, 7, 8, 9, 10, 4, 7, 1, 2, 3, 4, 5, 7, 8, 9, 10, 2, 4, 6, 8, 9, 10, 8, 1, 5, 7, 2, 6, 10, 8, 2, 6, 6, 2, 3, 5, 6, 8, 10, 2, 1, 2, 3, 5, 6, 8, 9, 10, 1, 2, 3, 5, 7, 8, 9, 3, 1, 6, 10, 6, 9, 3, 1, 2, 3, 4, 5, 7, 8, 9, 10, 1, 3, 4, 5, 7, 9, 10, 1, 3, 4, 5, 7, 10, 1, 3, 5, 6, 7, 9, 5, 1, 8, 9, 1, 2, 3, 4, 5, 6, 7, 8, 9, 10, 1, 2, 3, 4, 5, 6, 7, 8, 9, 10, 1, 2, 3, 4, 7, 8, 9, 1, 2, 3, 4, 5, 6, 7, 8, 9, 10, 1, 2, 3, 4, 5, 7, 8, 9, 9, 1, 2, 3, 4, 5, 6, 7, 8, 10, 3, 9, 9, 3, 5, 1, 3, 5, 6, 1, 2, 3, 4, 5, 6, 7, 8, 9, 10, 1, 2, 3, 4, 6, 7, 8, 9, 10, 9, 1, 2, 3, 4, 5, 6, 7, 8, 9, 10, 1, 2, 3, 4, 5, 8, 9, 10, 1, 2, 3, 4, 5, 6, 7, 8, 9, 10, 4, 5, 1, 2, 3, 4, 5, 7, 10, 1, 8, 2, 6, 2, 5, 10, 1, 2, 3, 5, 6, 7, 8, 9, 10, 1, 1, 9, 2, 3, 5, 9, 1, 2, 3, 4, 5, 6, 7, 10, 3, 1, 2, 3, 4, 5, 6, 7, 8, 9, 10, 1, 2, 3, 4, 5, 6, 7, 8, 9, 10, 9, 2, 6, 1, 1, 2, 3, 5, 6, 8, 10, 1, 2, 3, 4, 5, 6, 7, 8, 9, 10, 1, 2, 3, 4, 5, 6, 7, 8, 9, 10, 2, 3, 4, 6, 8, 9, 10], \"Freq\": [0.9464013576507568, 0.018091285601258278, 0.03165975213050842, 0.0045228214003145695, 0.03165975213050842, 0.27589210867881775, 0.5517842173576355, 0.0859336107969284, 0.16527009010314941, 0.414624959230423, 0.03769318014383316, 0.21746064722537994, 0.12467744201421738, 0.017396852374076843, 0.01449737697839737, 0.005798950791358948, 0.03814948722720146, 0.9537371397018433, 0.8690181374549866, 0.05431363359093666, 0.05431363359093666, 0.14049901068210602, 0.2015855312347412, 0.04886921867728233, 0.06719517707824707, 0.09773843735456467, 0.006108652334660292, 0.04886921867728233, 0.39095374941825867, 0.2106463760137558, 0.05055512860417366, 0.07583269476890564, 0.01685171015560627, 0.4802737236022949, 0.1685170978307724, 0.02892722748219967, 0.6219353675842285, 0.08678168058395386, 0.11570890992879868, 0.07231806963682175, 0.05785445496439934, 0.08726412802934647, 0.7853771448135376, 0.08726412802934647, 0.5730094909667969, 0.38200631737709045, 0.016853220760822296, 0.022470960393548012, 0.028408754616975784, 0.014204377308487892, 0.0994306430220604, 0.7670363783836365, 0.07102188467979431, 0.014204377308487892, 0.032975535839796066, 0.7144699692726135, 0.010991845279932022, 0.07694292068481445, 0.13190214335918427, 0.021983690559864044, 0.9251136779785156, 0.006178220734000206, 0.012356441468000412, 0.024712882936000824, 0.9298222064971924, 0.003089110367000103, 0.018534662202000618, 0.06614726781845093, 0.8599145412445068, 0.8821192979812622, 0.4758177101612091, 0.11685110628604889, 0.05421891435980797, 0.10797042399644852, 0.15330864489078522, 0.005608852952718735, 0.0018696177285164595, 0.029446478933095932, 0.018696175888180733, 0.035990141332149506, 0.9286386370658875, 0.6991264820098877, 0.9318089485168457, 0.9473554491996765, 0.010565302334725857, 0.007043534889817238, 0.003521767444908619, 0.010565302334725857, 0.021130604669451714, 0.8263632655143738, 0.8575156927108765, 0.08575157076120377, 0.10209708660840988, 0.816776692867279, 0.7806329727172852, 0.493144690990448, 0.3325859606266022, 0.016055874526500702, 0.029818052425980568, 0.0665171891450882, 0.0045873927883803844, 0.006881088949739933, 0.027524355798959732, 0.020643265917897224, 0.5869564414024353, 0.03334979712963104, 0.06002963334321976, 0.08003951609134674, 0.05335967615246773, 0.11338931322097778, 0.05335967615246773, 0.020009879022836685, 0.8275325894355774, 0.12731270492076874, 0.031828176230192184, 0.3265385329723358, 0.3442780375480652, 0.011169325560331345, 0.09789585322141647, 0.01971057429909706, 0.1169494092464447, 0.02628076635301113, 0.013797402381896973, 0.01576845906674862, 0.027594804763793945, 0.8449634313583374, 0.9056088924407959, 0.8082348108291626, 0.06283950060606003, 0.8797529935836792, 0.8866077065467834, 0.08060070127248764, 0.46863576769828796, 0.10544304549694061, 0.08982185274362564, 0.12496953457593918, 0.13278013467788696, 0.03514768183231354, 0.042958278208971024, 0.05794558674097061, 0.20738419890403748, 0.01829860545694828, 0.3232753872871399, 0.10674186795949936, 0.08844326436519623, 0.045746516436338425, 0.06709489226341248, 0.0853934958577156, 0.7930852174758911, 0.1586170345544815, 0.8741305470466614, 0.6274504065513611, 0.05277620255947113, 0.011728045530617237, 0.09968838095664978, 0.0058640227653086185, 0.06450425088405609, 0.017592066898941994, 0.1231444776058197, 0.10868623852729797, 0.03571119159460068, 0.27171558141708374, 0.01242128387093544, 0.09471229463815689, 0.00465798145160079, 0.00155266048386693, 0.4052444100379944, 0.06521174311637878, 0.24238038063049316, 0.014839615672826767, 0.009893076494336128, 0.5787450075149536, 0.014839615672826767, 0.024732692167162895, 0.019786152988672256, 0.09893076866865158, 0.2446969896554947, 0.5835081934928894, 0.131759911775589, 0.8395786285400391, 0.11993980407714844, 0.8822966814041138, 0.24501244723796844, 0.12250622361898422, 0.15313278138637543, 0.015313277952373028, 0.4593983590602875, 0.1182108223438263, 0.8274757862091064, 0.14977586269378662, 0.024407917633652687, 0.08875606209039688, 0.04992528632283211, 0.08098991215229034, 0.02218901552259922, 0.05769143998622894, 0.34947699308395386, 0.11649233102798462, 0.05991034209728241, 0.08025458455085754, 0.7222912907600403, 0.1605091691017151, 0.16706115007400513, 0.03658273443579674, 0.440212219953537, 0.07316546887159348, 0.14511150121688843, 0.001219424419105053, 0.03536330908536911, 0.02316906489431858, 0.025607913732528687, 0.0524352490901947, 0.037876542657613754, 0.04418930038809776, 0.801720142364502, 0.006312756799161434, 0.037876542657613754, 0.012625513598322868, 0.006312756799161434, 0.05050205439329147, 0.006822904106229544, 0.04093742370605469, 0.006822904106229544, 0.9279149770736694, 0.006822904106229544, 0.006822904106229544, 0.9113417267799377, 0.08981619775295258, 0.0741959884762764, 0.6599538326263428, 0.007810104638338089, 0.0039050523191690445, 0.03514546900987625, 0.0741959884762764, 0.05076567828655243, 0.9179225564002991, 0.06170907989144325, 0.012025143019855022, 0.01603352464735508, 0.5691900849342346, 0.1843855232000351, 0.11223466694355011, 0.05210895463824272, 0.012025143019855022, 0.012025143019855022, 0.028058666735887527, 0.006725466810166836, 0.1933571696281433, 0.34468016028404236, 0.3841922879219055, 0.004203416407108307, 0.010088199749588966, 0.04791894927620888, 0.008406832814216614, 0.0008406833512708545, 0.0008406833512708545, 0.8106387257575989, 0.13510645925998688, 0.8600260615348816, 0.06615585088729858, 0.8343238234519958, 0.04603620618581772, 0.09475413709878922, 0.13587385416030884, 0.05452832207083702, 0.023688534274697304, 0.14704768359661102, 0.320465624332428, 0.06838387995958328, 0.03128674253821373, 0.07732295244932175, 0.7679914832115173, 0.015359829179942608, 0.10751880705356598, 0.07679914683103561, 0.015359829179942608, 0.3321329653263092, 0.016201607882976532, 0.05670562759041786, 0.575157105922699, 0.008100803941488266, 0.008100803941488266, 0.1320091038942337, 0.7920546531677246, 0.8699600696563721, 0.0724966749548912, 0.07646742463111877, 0.902315616607666, 0.01386055164039135, 0.006930275820195675, 0.006930275820195675, 0.9147964119911194, 0.006930275820195675, 0.04851192981004715, 0.0609736405313015, 0.01219472847878933, 0.20731037855148315, 0.01219472847878933, 0.707294225692749, 0.08722859621047974, 0.04893311858177185, 0.037231720983982086, 0.038295481353998184, 0.0670170933008194, 0.031912900507450104, 0.05957075208425522, 0.2999812960624695, 0.20637010037899017, 0.12339655309915543, 0.7649967074394226, 0.3130052089691162, 0.012520208954811096, 0.025040417909622192, 0.012520208954811096, 0.5634093880653381, 0.050080835819244385, 0.1502179652452469, 0.22928005456924438, 0.003953104373067617, 0.035577937960624695, 0.003953104373067617, 0.06324966996908188, 0.5139035582542419, 0.8648187518119812, 0.06652452051639557, 0.014857658185064793, 0.39455336332321167, 0.00825425423681736, 0.01320680696517229, 0.12711551785469055, 0.028064465150237083, 0.01815935969352722, 0.20470550656318665, 0.03136616572737694, 0.1617833822965622, 0.8288898468017578, 0.19990573823451996, 0.7996229529380798, 0.8860517740249634, 0.21610817313194275, 0.7563785910606384, 0.9343440532684326, 0.7738487124443054, 0.16672684252262115, 0.044658977538347244, 0.25009027123451233, 0.008931795135140419, 0.03870444744825363, 0.02381812036037445, 0.0029772650450468063, 0.45849883556365967, 0.008931795135140419, 0.07722418755292892, 0.010296558029949665, 0.0051482790149748325, 0.07722418755292892, 0.0051482790149748325, 0.8185763359069824, 0.0051482790149748325, 0.6158008575439453, 0.018291113898158073, 0.20729929208755493, 0.006097037810832262, 0.006097037810832262, 0.060970380902290344, 0.08535853028297424, 0.10246268659830093, 0.1862957924604416, 0.5775169730186462, 0.009314789436757565, 0.009314789436757565, 0.06520352512598038, 0.0465739481151104, 0.03880080208182335, 0.931219220161438, 0.0024868114851415157, 0.41778430342674255, 0.0024868114851415157, 0.0024868114851415157, 0.057196661829948425, 0.08455158770084381, 0.20889215171337128, 0.1168801337480545, 0.10693289339542389, 0.020978666841983795, 0.4705215096473694, 0.026972571387887, 0.017981713637709618, 0.04195733368396759, 0.35963428020477295, 0.020978666841983795, 0.035963427275419235, 0.008883231319487095, 0.01184430904686451, 0.01332484744489193, 0.005922154523432255, 0.0014805386308580637, 0.12140416353940964, 0.7609968185424805, 0.03109131008386612, 0.02368861809372902, 0.02072754129767418, 0.9762422442436218, 0.6816768646240234, 0.04440570995211601, 0.6660856604576111, 0.2664342522621155, 0.9261949062347412, 0.9141566753387451, 0.8448589444160461, 0.054908834397792816, 0.21963533759117126, 0.7138148546218872, 0.8768901228904724, 0.8880976438522339, 0.04483058676123619, 0.5583446025848389, 0.0040755076333880424, 0.0040755076333880424, 0.0692836344242096, 0.052981600165367126, 0.08558566123247147, 0.11003871262073517, 0.0692836344242096, 0.7958948016166687, 0.890297532081604, 0.07122380286455154, 0.9071794152259827, 0.8324297666549683, 0.783611536026001, 0.011410304345190525, 0.03423091396689415, 0.03423091396689415, 0.011410304345190525, 0.741669774055481, 0.02282060869038105, 0.011410304345190525, 0.1369236558675766, 0.8426691889762878, 0.04504435881972313, 0.6193599104881287, 0.005630544852465391, 0.03378326818346977, 0.028152724727988243, 0.08445817232131958, 0.011261089704930782, 0.028152724727988243, 0.04504435881972313, 0.10134980827569962, 0.8743783831596375, 0.8628132939338684, 0.9330466985702515, 0.004061572253704071, 0.3939724862575531, 0.39803406596183777, 0.19495545327663422, 0.004061572253704071, 0.05024787783622742, 0.05024787783622742, 0.8877125382423401, 0.016749292612075806, 0.8087019920349121, 0.13478367030620575, 0.02446078509092331, 0.09784314036369324, 0.31799018383026123, 0.5625980496406555, 0.11538559198379517, 0.17307838797569275, 0.692313551902771, 0.04905631020665169, 0.8830136060714722, 0.861541748046875, 0.34469035267829895, 0.034469034522771835, 0.6032081246376038, 0.8673577308654785, 0.8532891273498535, 0.10441776365041733, 0.8353421092033386, 0.8003382682800293, 0.16006766259670258, 0.977169394493103, 0.010477959178388119, 0.14538168907165527, 0.003929234575480223, 0.005238979589194059, 0.1820545494556427, 0.41387939453125, 0.2318248450756073, 0.006548724602907896, 0.8389086723327637, 0.1443234533071518, 0.016494108363986015, 0.08247054368257523, 0.6432702541351318, 0.03298821672797203, 0.004123527090996504, 0.004123527090996504, 0.06597643345594406, 0.32048219442367554, 0.04420443996787071, 0.09945999085903168, 0.07183221727609634, 0.13813887536525726, 0.04420443996787071, 0.2762777507305145, 0.11273307353258133, 0.011866639368236065, 0.34413254261016846, 0.011866639368236065, 0.05339987576007843, 0.06526651233434677, 0.3797324597835541, 0.02373327873647213, 0.8330564498901367, 0.917118489742279, 0.08337441086769104, 0.12229512631893158, 0.1840730756521225, 0.06934259831905365, 0.05925640091300011, 0.32401904463768005, 0.049170203506946564, 0.04412710666656494, 0.04664865508675575, 0.03278013691306114, 0.0680818185210228, 0.8013061881065369, 0.03483939915895462, 0.10451820492744446, 0.7778550386428833, 0.8736205697059631, 0.9663280248641968, 0.020131833851337433, 0.8525624871253967, 0.22127990424633026, 0.4322677254676819, 0.07204461842775345, 0.2315719872713089, 0.0025730221532285213, 0.005146044306457043, 0.010292088612914085, 0.01286511030048132, 0.010292088612914085, 0.019149160012602806, 0.22978992760181427, 0.05744748190045357, 0.1340441256761551, 0.5553256273269653, 0.8684537410736084, 0.7931602001190186, 0.016899913549423218, 0.07604961097240448, 0.05069974437355995, 0.12674935162067413, 0.591497004032135, 0.042249783873558044, 0.1013994887471199, 0.8777921199798584, 0.0072382004000246525, 0.1700977087020874, 0.0036191002000123262, 0.04342920333147049, 0.025333702564239502, 0.36191001534461975, 0.13028761744499207, 0.23162241280078888, 0.0072382004000246525, 0.018095500767230988, 0.021463429555296898, 0.05580491945147514, 0.7469273805618286, 0.042926859110593796, 0.11590252071619034, 0.004292686004191637, 0.004292686004191637, 0.008585372008383274, 0.8547517657279968, 0.005116627551615238, 0.13768379390239716, 0.04372391104698181, 0.1172172874212265, 0.04604965075850487, 0.6112044453620911, 0.004651479888707399, 0.01907106675207615, 0.004651479888707399, 0.010698403231799603, 0.9849507212638855, 0.008954097516834736, 0.9790352582931519, 0.00933483149856329, 0.7374516725540161, 0.046674154698848724, 0.03733932599425316, 0.046674154698848724, 0.028004493564367294, 0.08401348441839218, 0.8869924545288086, 0.04315157234668732, 0.0184935312718153, 0.16027726233005524, 0.7582347393035889, 0.0184935312718153, 0.006164510268718004, 0.01302723865956068, 0.01302723865956068, 0.22146305441856384, 0.6904436349868774, 0.05210895463824272, 0.7960501909255981, 0.17058219015598297, 0.634990394115448, 0.22224664688110352, 0.021166346967220306, 0.04233269393444061, 0.04233269393444061, 0.03174952045083046, 0.009150085039436817, 0.10065093636512756, 0.33855316042900085, 0.009150085039436817, 0.009150085039436817, 0.10065093636512756, 0.009150085039436817, 0.4300540089607239, 0.014976360835134983, 0.14976359903812408, 0.6814243793487549, 0.13478724658489227, 0.9250048398971558, 0.13362447917461395, 0.8351530432701111, 0.8453385233879089, 0.8843000531196594, 0.9526028633117676, 0.013239586725831032, 0.039718758314847946, 0.039718758314847946, 0.013239586725831032, 0.10591669380664825, 0.33098965883255005, 0.013239586725831032, 0.4501459300518036, 0.8768782615661621, 0.8355123400688171, 0.9506898522377014, 0.7154908180236816, 0.1341545283794403, 0.05589772015810013, 0.07825680822134018, 0.8957993388175964, 0.18156036734580994, 0.7262414693832397, 0.012688476592302322, 0.025376953184604645, 0.7993740439414978, 0.012688476592302322, 0.1141962856054306, 0.025376953184604645, 0.9252810478210449, 0.12881460785865784, 0.008050912991166115, 0.09661095589399338, 0.5233093500137329, 0.14491643011569977, 0.08856003731489182, 0.17421388626098633, 0.09025538712739944, 0.2602713406085968, 0.0020989624317735434, 0.008395849727094173, 0.008395849727094173, 0.13643255829811096, 0.2119951993227005, 0.025187548249959946, 0.08395849913358688, 0.3247663676738739, 0.019682811573147774, 0.04920702800154686, 0.0787312462925911, 0.03444492071866989, 0.17222459614276886, 0.0049207028932869434, 0.08857265114784241, 0.1574624925851822, 0.07135018706321716, 0.19446700811386108, 0.6782630085945129, 0.07114646583795547, 0.01897239126265049, 0.0047430978156626225, 0.0047430978156626225, 0.023715488612651825, 0.0047430978156626225, 0.11584461480379105, 0.8302197456359863, 0.038614869117736816, 0.08241821080446243, 0.030906829982995987, 0.18338052928447723, 0.23695236444473267, 0.1607155203819275, 0.09684140235185623, 0.008241821080446243, 0.1607155203819275, 0.02884637378156185, 0.012362731620669365, 0.9148793816566467, 0.21853184700012207, 0.7527207732200623, 0.823274552822113, 0.0823274552822113, 0.8152403235435486, 0.14822550117969513, 0.9197573661804199, 0.008845766074955463, 0.026537297293543816, 0.12384071946144104, 0.6634324193000793, 0.07076612859964371, 0.008845766074955463, 0.08845765888690948, 0.8995837569236755, 0.042837321758270264, 0.09566685557365417, 0.6172789931297302, 0.02733338624238968, 0.10250020027160645, 0.056944556534290314, 0.0022777821868658066, 0.04555564373731613, 0.018222257494926453, 0.03188895061612129, 0.08202561736106873, 0.018227916210889816, 0.7792434096336365, 0.004556979052722454, 0.004556979052722454, 0.018227916210889816, 0.06379770487546921, 0.031898852437734604, 0.010569917038083076, 0.021139834076166153, 0.06341949850320816, 0.010569917038083076, 0.8878729939460754, 0.0028772843070328236, 0.1755143404006958, 0.0028772843070328236, 0.020140988752245903, 0.008631852455437183, 0.034527409821748734, 0.4546109139919281, 0.0719321072101593, 0.2301827371120453, 0.8564756512641907, 0.08396819978952408, 0.05038091912865639, 0.048766810446977615, 0.41164925694465637, 0.014343179762363434, 0.2144305258989334, 0.0007171589531935751, 0.04661533236503601, 0.24311688542366028, 0.007888748310506344, 0.0007171589531935751, 0.012191702611744404, 0.34255465865135193, 0.09449783712625504, 0.08662302047014236, 0.003937410190701485, 0.027561869472265244, 0.03937409818172455, 0.40161582827568054, 0.019963499158620834, 0.09981749206781387, 0.07985399663448334, 0.798539936542511, 0.7889260053634644, 0.05887507274746895, 0.01177501492202282, 0.09420011937618256, 0.02355002984404564, 0.01177501492202282, 0.9183173775672913, 0.0012299907393753529, 0.0049199629575014114, 0.0012299907393753529, 0.006149953696876764, 0.0012299907393753529, 0.1844986230134964, 0.7010947465896606, 0.01598988100886345, 0.08363937586545944, 0.07738683372735977, 0.06190946698188782, 0.015477366745471954, 0.7583909630775452, 0.06190946698188782, 0.9564356207847595, 0.8463684916496277, 0.07694259285926819, 0.29791557788848877, 0.1098044142127037, 0.05643334612250328, 0.14348943531513214, 0.08661862462759018, 0.051183730363845825, 0.02843540720641613, 0.10018012672662735, 0.08880595862865448, 0.036747295409440994, 0.8589556217193604, 0.06336557865142822, 0.0023468732833862305, 0.04459059238433838, 0.014081239700317383, 0.0023468732833862305, 0.014081239700317383, 0.0023468732833862305, 0.07706950604915619, 0.08418361097574234, 0.09248340874910355, 0.1422821581363678, 0.037941910326480865, 0.0652126595377922, 0.35096266865730286, 0.04624170437455177, 0.04149896651506424, 0.06165560334920883, 0.8144974708557129, 0.8700950741767883, 0.20667210221290588, 0.7233523726463318, 0.1461682915687561, 0.005966052878648043, 0.1610834300518036, 0.6532828211784363, 0.011932105757296085, 0.020881185308098793, 0.06712451577186584, 0.013424903154373169, 0.03356225788593292, 0.0067124515771865845, 0.8256315588951111, 0.04027470946311951, 0.0067124515771865845, 0.77128005027771, 0.1814776510000229, 0.04536941275000572, 0.9458191394805908, 0.762926459312439, 0.0023316913284361362, 0.0046633826568722725, 0.0023316913284361362, 0.47799673676490784, 0.4103776812553406, 0.05129721015691757, 0.03730706125497818, 0.013990147970616817, 0.0949983224272728, 0.08224963396787643, 0.019328663125634193, 0.3032955229282379, 0.09006334841251373, 0.22536398470401764, 0.053667884320020676, 0.06785594671964645, 0.05263976380228996, 0.010486828163266182, 0.8591870665550232, 0.07159891724586487, 0.23707136511802673, 0.7112141251564026, 0.9113228917121887, 0.008984643965959549, 0.035938575863838196, 0.06289250403642654, 0.763694703578949, 0.07187715172767639, 0.053907863795757294, 0.915725588798523, 0.025640657171607018, 0.08546885848045349, 0.7008446455001831, 0.008546886034309864, 0.17093771696090698, 0.09311533719301224, 0.12415377795696259, 0.015519222244620323, 0.21726910769939423, 0.04655766859650612, 0.4810958802700043, 0.031038444489240646, 0.908325731754303, 0.02519506774842739, 0.10078027099370956, 0.02519506774842739, 0.8062421679496765, 0.05039013549685478, 0.15563659369945526, 0.007781829684972763, 0.007781829684972763, 0.10894561558961868, 0.22567304968833923, 0.05447280779480934, 0.4046551287174225, 0.038909148424863815, 0.21132633090019226, 0.004342321772128344, 0.35896527767181396, 0.11145292967557907, 0.05210786312818527, 0.02171160839498043, 0.01592184603214264, 0.10276827961206436, 0.02171160839498043, 0.09697852283716202, 0.9004889726638794, 0.8842581510543823, 0.2559090852737427, 0.12795454263687134, 0.018279220908880234, 0.07311688363552094, 0.5118181705474854, 0.025096535682678223, 0.012548267841339111, 0.15057921409606934, 0.012548267841339111, 0.012548267841339111, 0.1254826784133911, 0.677606463432312, 0.7001715302467346, 0.02958471141755581, 0.019723141565918922, 0.18736983835697174, 0.02958471141755581, 0.019723141565918922, 0.019723141565918922, 0.15300753712654114, 0.015300753526389599, 0.025501256808638573, 0.04590225964784622, 0.06630326807498932, 0.5865288972854614, 0.0204010047018528, 0.07650376856327057, 0.0102005023509264, 0.04232092574238777, 0.0987488254904747, 0.05642790347337723, 0.14106975495815277, 0.5219581127166748, 0.1269627809524536, 0.04217704012989998, 0.16870816051959991, 0.6748326420783997, 0.08435408025979996, 0.012761647813022137, 0.08082377165555954, 0.008507764898240566, 0.7231600284576416, 0.021269412711262703, 0.05955435708165169, 0.012761647813022137, 0.012761647813022137, 0.06806211918592453, 0.9069415926933289, 0.5834265351295471, 0.9289429783821106, 0.9154666066169739, 0.1089828833937645, 0.7628802061080933, 0.2479628175497055, 0.7261767983436584, 0.01771163009107113, 0.3218202590942383, 0.5985856652259827, 0.038618430495262146, 0.01287281047552824, 0.00643640523776412, 0.019309215247631073, 0.9617313742637634, 0.19693586230278015, 0.03150973841547966, 0.01575486920773983, 0.512033224105835, 0.0787743404507637, 0.06301947683095932, 0.07089690864086151, 0.007877434603869915, 0.02363230288028717, 0.9110138416290283, 0.8387330770492554, 0.9261969923973083, 0.7301020622253418, 0.18252551555633545, 0.8055459856987, 0.16110919415950775, 0.0214812271296978, 0.2234528809785843, 0.6207024455070496, 0.012414049357175827, 0.03724214807152748, 0.012414049357175827, 0.09931239485740662, 0.8351166248321533, 0.09824901819229126, 0.8043326735496521, 0.10054158419370651, 0.9232931137084961, 0.03419604152441025, 0.922884464263916, 0.09047944098711014, 0.23572275042533875, 0.19048303365707397, 0.30239179730415344, 0.06428802013397217, 0.05952594801783562, 0.021429341286420822, 0.0023810379207134247, 0.03095349110662937, 0.9653529524803162, 0.1702478975057602, 0.15889804065227509, 0.236928328871727, 0.10214874148368835, 0.0028374651446938515, 0.009931127540767193, 0.0028374651446938515, 0.07093662768602371, 0.052493102848529816, 0.19152888655662537, 0.9656739234924316, 0.03444671258330345, 0.04736422747373581, 0.021529193967580795, 0.0904226154088974, 0.04305838793516159, 0.12056348472833633, 0.2066802680492401, 0.12056348472833633, 0.08181093633174896, 0.2282094657421112, 0.9236757755279541, 0.839141845703125, 0.1398569792509079, 0.005317123606801033, 0.2552219331264496, 0.0638054832816124, 0.010634247213602066, 0.5582979917526245, 0.08507397770881653, 0.021268494427204132, 0.030902031809091568, 0.15451015532016754, 0.030902031809091568, 0.0927060917019844, 0.6798446774482727, 0.017470156773924828, 0.017470156773924828, 0.005823385901749134, 0.27952250838279724, 0.011646771803498268, 0.6696893572807312, 0.11388044059276581, 0.03796014562249184, 0.8351232409477234, 0.012666715309023857, 0.3926681876182556, 0.007600029464811087, 0.002533343154937029, 0.05320020392537117, 0.1950674206018448, 0.1165337860584259, 0.14440055191516876, 0.07853363454341888, 0.28097453713417053, 0.7024363279342651, 0.08826884627342224, 0.8826884627342224, 0.019235430285334587, 0.5243028998374939, 0.0043966700322926044, 0.15223468840122223, 0.006045421119779348, 0.12090842425823212, 0.042317945510149, 0.08133839070796967, 0.022532932460308075, 0.02747918665409088, 0.08312200754880905, 0.8312200903892517, 0.898984968662262, 0.024654719978570938, 0.02252931334078312, 0.6831057667732239, 0.04633387178182602, 0.03528175503015518, 0.06928826123476028, 0.04548370838165283, 0.024229638278484344, 0.016153091564774513, 0.03273126482963562, 0.04670041799545288, 0.12258859723806381, 0.5020294785499573, 0.01167510449886322, 0.00583755224943161, 0.11091349273920059, 0.01751265674829483, 0.07588817924261093, 0.09923838824033737, 0.8634894490242004, 0.1151319295167923, 0.028782982379198074, 0.854401171207428, 0.23413968086242676, 0.7492469549179077, 0.21172606945037842, 0.03343043103814125, 0.07243259996175766, 0.10586303472518921, 0.005571738816797733, 0.055717386305332184, 0.005571738816797733, 0.08357608318328857, 0.4401673674583435, 0.8661425709724426, 0.0640454813838005, 0.019213644787669182, 0.6020275354385376, 0.006404548417776823, 0.025618193671107292, 0.051236387342214584, 0.10887732356786728, 0.11528186500072479, 0.006404548417776823, 0.027752721682190895, 0.7631998658180237, 0.194269061088562, 0.10017852485179901, 0.8014281988143921, 0.12913303077220917, 0.07102316617965698, 0.09684976935386658, 0.11621972918510437, 0.5423586964607239, 0.03873990848660469, 0.15939487516880035, 0.07316485792398453, 0.20904244482517242, 0.3632112443447113, 0.15939487516880035, 0.03396939858794212, 0.8721035718917847, 0.14354120194911957, 0.01979878731071949, 0.3068811893463135, 0.017323939129710197, 0.05692151188850403, 0.0024748484138399363, 0.0024748484138399363, 0.45042240619659424, 0.0024748484138399363, 0.029965715482831, 0.09239429235458374, 0.3021543025970459, 0.09239429235458374, 0.28966858983039856, 0.16980572044849396, 0.00998857244849205, 0.00749142887070775, 0.004994286224246025, 0.8877281546592712, 0.05221930146217346, 0.017406433820724487, 0.034812867641448975, 0.1563243567943573, 0.17353437840938568, 0.21871067583560944, 0.025815030559897423, 0.21082276105880737, 0.03585420921444893, 0.021512525156140327, 0.07887925952672958, 0.05808382108807564, 0.020078357309103012, 0.05495106428861618, 0.07937376201152802, 0.7632092237472534, 0.006105673499405384, 0.0671624094247818, 0.030528368428349495, 0.05983584374189377, 0.8975376486778259, 0.6877496242523193, 0.0825299546122551, 0.03667997941374779, 0.04584997519850731, 0.018339989706873894, 0.027509983628988266, 0.05501996725797653, 0.03667997941374779, 0.9161160588264465, 0.719414472579956, 0.16244842112064362, 0.023206917569041252, 0.034810375422239304, 0.034810375422239304, 0.13550764322280884, 0.10087791085243225, 0.04516921192407608, 0.1129230335354805, 0.14905840158462524, 0.0511917769908905, 0.03011280857026577, 0.3222070634365082, 0.054203055799007416, 0.09528466314077377, 0.3017347753047943, 0.5875887274742126, 0.924062192440033, 0.08410210907459259, 0.21407808363437653, 0.17839840054512024, 0.002548548625782132, 0.06371371448040009, 0.07390791177749634, 0.028034035116434097, 0.23446647822856903, 0.11978178471326828, 0.34074950218200684, 0.005586057435721159, 0.13965143263339996, 0.13685840368270874, 0.05306754633784294, 0.06144663318991661, 0.01675817184150219, 0.08937691897153854, 0.047481488436460495, 0.10334206372499466, 0.1877356320619583, 0.053638752549886703, 0.7241231203079224, 0.026819376274943352, 0.9766544103622437, 0.002020419342443347, 0.20487050712108612, 0.1260741651058197, 0.18668673932552338, 0.10869855433702469, 0.1579967886209488, 0.13981300592422485, 0.052126817405223846, 0.01091026421636343, 0.01091026421636343, 0.05828692764043808, 0.003067733021453023, 0.15645438432693481, 0.006135466042906046, 0.25462183356285095, 0.39880529046058655, 0.03681279718875885, 0.006135466042906046, 0.0766933262348175, 0.0016625187126919627, 0.03768375888466835, 0.021058570593595505, 0.0016625187126919627, 0.0011083458084613085, 0.23496931791305542, 0.6217820048332214, 0.07924672216176987, 0.0005541729042306542, 0.0005541729042306542, 0.8772875070571899, 0.8403322100639343, 0.07639383524656296, 0.12292536348104477, 0.8604775667190552, 0.8999869227409363, 0.8353520631790161, 0.9081657528877258, 0.02598440647125244, 0.05196881294250488, 0.9094542264938354, 0.83735191822052, 0.09303910285234451, 0.814395546913147, 0.23060567677021027, 0.023060567677021027, 0.7148776054382324, 0.011530283838510513, 0.8267456293106079, 0.21501724421977997, 0.08063146471977234, 0.6988060474395752, 0.1898394227027893, 0.24960368871688843, 0.07734198868274689, 0.17226170003414154, 0.010546634905040264, 0.010546634905040264, 0.007031089626252651, 0.038670994341373444, 0.03163990378379822, 0.2109326869249344, 0.024533579126000404, 0.07360073924064636, 0.7360073924064636, 0.14720147848129272, 0.8923609256744385, 0.8448566794395447, 0.9139727354049683, 0.8544343113899231, 0.045435696840286255, 0.5963435173034668, 0.0624740831553936, 0.03975623473525047, 0.05679462105035782, 0.17038385570049286, 0.022717848420143127, 0.8938999176025391, 0.01009057555347681, 0.060543451458215714, 0.005045287776738405, 0.02018115110695362, 0.13117747008800507, 0.7315667271614075, 0.005045287776738405, 0.030271725729107857, 0.9049832224845886, 0.28690651059150696, 0.04829119145870209, 0.025565925985574722, 0.31531307101249695, 0.051131851971149445, 0.0028406584169715643, 0.11646699160337448, 0.09942304342985153, 0.02840658463537693, 0.025565925985574722, 0.07217878848314285, 0.05249366536736488, 0.032808542251586914, 0.05905537307262421, 0.7611581683158875, 0.01968512497842312, 0.738248348236084, 0.8513787388801575, 0.07094822824001312, 0.8935520052909851, 0.08432700484991074, 0.2479213923215866, 0.048909664154052734, 0.5633043646812439, 0.011805780231952667, 0.003373080166056752, 0.038790423423051834, 0.0728694275021553, 0.04326622188091278, 0.05237489938735962, 0.2664288282394409, 0.5169174671173096, 0.006831508595496416, 0.027326034381985664, 0.009108678437769413, 0.006831508595496416, 0.00973036140203476, 0.2627197504043579, 0.11189915239810944, 0.00486518070101738, 0.014595541171729565, 0.5059787631034851, 0.00486518070101738, 0.05351698398590088, 0.03405626490712166, 0.8685700297355652, 0.3403836190700531, 0.12171293795108795, 0.11758707463741302, 0.024755172431468964, 0.21454483270645142, 0.03300689905881882, 0.03506982699036598, 0.024755172431468964, 0.02269224263727665, 0.07013965398073196, 0.10020656883716583, 0.03578806295990944, 0.050103284418582916, 0.0608397051692009, 0.13599462807178497, 0.16820389032363892, 0.03578806295990944, 0.0035788060631603003, 0.4115627110004425, 0.8835938572883606, 0.014857440255582333, 0.007428720127791166, 0.029714880511164665, 0.9211612939834595, 0.02228616178035736, 0.1359761655330658, 0.8158569931983948, 0.5871477127075195, 0.22032460570335388, 0.7711361050605774, 0.15248721837997437, 0.020139822736382484, 0.516442596912384, 0.031648293137550354, 0.10789190232753754, 0.06617370247840881, 0.04459531977772713, 0.038841087371110916, 0.012947028502821922, 0.010069911368191242, 0.18314988911151886, 0.015369221568107605, 0.03714228421449661, 0.10758455097675323, 0.2523113787174225, 0.07428456842899323, 0.021773064509034157, 0.22669601440429688, 0.044826894998550415, 0.03714228421449661, 0.013083867728710175, 0.1046709418296814, 0.8766191005706787, 0.08289103955030441, 0.6424055099487305, 0.03108413890004158, 0.03108413890004158, 0.14505931735038757, 0.051806896924972534, 0.9314596652984619, 0.8313741087913513, 0.5824843049049377, 0.1310589611530304, 0.12377791106700897, 0.05096737667918205, 0.021843161433935165, 0.03640526905655861, 0.05096737667918205, 0.006315123289823532, 0.20208394527435303, 0.14295142889022827, 0.009759736247360706, 0.001148204319179058, 0.2537531554698944, 0.32207128405570984, 0.03789073973894119, 0.008611531928181648, 0.01664896123111248, 0.046077463775873184, 0.049917250871658325, 0.437735915184021, 0.030718309804797173, 0.0038397887255996466, 0.08447535336017609, 0.007679577451199293, 0.13823239505290985, 0.046077463775873184, 0.15359154343605042, 0.7281186580657959, 0.07664407044649124, 0.15328814089298248, 0.2720972001552582, 0.025914020836353302, 0.11661309003829956, 0.49236637353897095, 0.06478504836559296, 0.012957010418176651, 0.012957010418176651, 0.7616000771522522, 0.07811283320188522, 0.03905641660094261, 0.09764103591442108, 0.019528208300471306, 0.6821542978286743, 0.2728617191314697, 0.022788455709815025, 0.8355767130851746, 0.06836537271738052, 0.037980761379003525, 0.01519230380654335, 0.007596151903271675, 0.8343578577041626, 0.012453102506697178, 0.012453102506697178, 0.11207792162895203, 0.024906205013394356, 0.9163511395454407, 0.9472296237945557, 0.7737448215484619, 0.032059986144304276, 0.1090039536356926, 0.8463836908340454, 0.006411997601389885, 0.9081551432609558, 0.8089879155158997, 0.8960310220718384, 0.7335433959960938, 0.24795833230018616, 0.002867689821869135, 0.4473596215248108, 0.002867689821869135, 0.38427045941352844, 0.15485525131225586, 0.002867689821869135, 0.00573537964373827, 0.8787913918495178, 0.043792564421892166, 0.15264837443828583, 0.008758513256907463, 0.1313776969909668, 0.07757540047168732, 0.31030160188674927, 0.03878770023584366, 0.08758512884378433, 0.07257054001092911, 0.07757540047168732, 0.7553550601005554, 0.04022999480366707, 0.13409997522830963, 0.05363998934626579, 0.09386998414993286, 0.13409997522830963, 0.5363999009132385, 0.7261776924133301, 0.04878254234790802, 0.009756508283317089, 0.039026033133268356, 0.23415620625019073, 0.17561715841293335, 0.4536776542663574, 0.039026033133268356, 0.37476247549057007, 0.6067582964897156, 0.3112573027610779, 0.3535535931587219, 0.018436843529343605, 0.09760682284832001, 0.04663436859846115, 0.002169040497392416, 0.16267803311347961, 0.005422601010650396, 0.001084520248696208, 0.001084520248696208, 0.03044489026069641, 0.05327855795621872, 0.015222445130348206, 0.06088978052139282, 0.007611222565174103, 0.829623281955719, 0.9341248869895935, 0.057426199316978455, 0.014356549829244614, 0.9044626355171204, 0.07446759194135666, 0.03191468492150307, 0.8829728960990906, 0.010638227686285973, 0.08655092865228653, 0.843871533870697, 0.021637732163071632, 0.021637732163071632, 0.005816421937197447, 0.05816422030329704, 0.8666468858718872, 0.02908211015164852, 0.02908211015164852, 0.011632843874394894, 0.08364604413509369, 0.8364604115486145, 0.8003360033035278, 0.7288283109664917, 0.04372969642281532, 0.07288283109664917, 0.058306265622377396, 0.014576566405594349, 0.07288283109664917, 0.8838836550712585, 0.9532161355018616, 0.7216103672981262, 0.24053679406642914, 0.9000791311264038, 0.006795963738113642, 0.006795963738113642, 0.9582309126853943, 0.013591927476227283, 0.9589120149612427, 0.10983306914567947, 0.11924733221530914, 0.1004188060760498, 0.01882852613925934, 0.06276175379753113, 0.00941426306962967, 0.04079513996839523, 0.1004188060760498, 0.02510470151901245, 0.40481331944465637, 0.1668601781129837, 0.025670798495411873, 0.6802761554718018, 0.006417699623852968, 0.019253097474575043, 0.019253097474575043, 0.044923897832632065, 0.038506194949150085, 0.2805870771408081, 0.008486565202474594, 0.06736211478710175, 0.2721005082130432, 0.07850073277950287, 0.10661248117685318, 0.009547386318445206, 0.054632265120744705, 0.044554468244314194, 0.07743991166353226, 0.08665111660957336, 0.04332555830478668, 0.02166277915239334, 0.7148717045783997, 0.06498833745718002, 0.08665111660957336, 0.7872554063796997, 0.45757371187210083, 0.04428132623434067, 0.022140663117170334, 0.2607678174972534, 0.2017260491847992, 0.0024600736796855927, 0.00984029471874237, 0.791117250919342, 0.878731906414032, 0.10771898180246353, 0.8617518544197083, 0.05466741323471069, 0.032624099403619766, 0.021161578595638275, 0.24335816502571106, 0.01675291731953621, 0.16135704517364502, 0.017634648829698563, 0.08552804589271545, 0.31301501393318176, 0.05466741323471069, 0.0148850092664361, 0.9079855680465698, 0.0595400370657444, 0.1213488057255745, 0.849441647529602, 0.8016257286071777, 0.04453476518392563, 0.1336042881011963, 0.07098381221294403, 0.11138998717069626, 0.11029792577028275, 0.03494587913155556, 0.005460293497890234, 0.062247343361377716, 0.37020787596702576, 0.0535108745098114, 0.11138998717069626, 0.07098381221294403, 0.08862890303134918, 0.8862890601158142, 0.12125197798013687, 0.8622362613677979, 0.8628925681114197, 0.8997544646263123, 0.2666313648223877, 0.019169574603438377, 0.029625706374645233, 0.12024550884962082, 0.21609339118003845, 0.0331110842525959, 0.12721626460552216, 0.10804669559001923, 0.08016367256641388, 0.07386308908462524, 0.8863570690155029, 0.0881560891866684, 0.08080974966287613, 0.0073463404551148415, 0.014692680910229683, 0.132234126329422, 0.014692680910229683, 0.014692680910229683, 0.5730145573616028, 0.066117063164711, 0.9412315487861633, 0.9400442242622375, 0.027648359537124634, 0.21221239864826202, 0.7781121134757996, 0.028899667784571648, 0.08438703417778015, 0.5132580995559692, 0.19420577585697174, 0.01965177431702614, 0.08901097625494003, 0.062423285096883774, 0.0034679602831602097, 0.005779933650046587, 0.01434131246060133, 0.03441914916038513, 0.4847363531589508, 0.14341312646865845, 0.07744308561086655, 0.08604787290096283, 0.06310177594423294, 0.048760462552309036, 0.045892201364040375, 0.0028682625852525234, 0.022808970883488655, 0.018464405089616776, 0.3801495134830475, 0.4311981797218323, 0.01629212312400341, 0.030411960557103157, 0.06842691451311111, 0.021722828969359398, 0.009775273501873016, 0.027787551283836365, 0.027787551283836365, 0.0833626538515091, 0.09725642949342728, 0.19451285898685455, 0.4168132543563843, 0.13893775641918182, 0.0307045578956604, 0.76761394739151, 0.1842273473739624, 0.9580853581428528, 0.9586505889892578, 0.7793673872947693, 0.14613138139247894, 0.13531780242919922, 0.020370421931147575, 0.05092605575919151, 0.04801599308848381, 0.04656096547842026, 0.47579485177993774, 0.017460361123085022, 0.084391750395298, 0.10912726074457169, 0.010185210965573788, 0.9611555337905884, 0.9517330527305603, 0.04137969762086868, 0.10260651260614395, 0.8208521008491516, 0.9299366474151611, 0.06771240383386612, 0.13542480766773224, 0.7448364496231079, 0.19061222672462463, 0.07624489068984985, 0.7243264317512512, 0.9393748044967651, 0.24477805197238922, 0.052452437579631805, 0.052452437579631805, 0.052452437579631805, 0.5769768357276917, 0.8641056418418884, 0.04547605291008949, 0.034107040613889694, 0.28422531485557556, 0.06821408122777939, 0.034107040613889694, 0.44339150190353394, 0.09095210582017899, 0.9513665437698364, 0.9226505756378174, 0.8940041661262512, 0.6146658062934875, 0.06939775496721268, 0.009913964197039604, 0.009913964197039604, 0.09913964569568634, 0.1487094610929489, 0.03965585678815842, 0.012888030149042606, 0.051552120596170425, 0.012888030149042606, 0.6830655932426453, 0.11599227041006088, 0.012888030149042606, 0.10310424119234085, 0.9129300713539124, 0.11717495322227478, 0.1562332659959793, 0.03905831649899483, 0.663991391658783, 0.7770209312438965, 0.0693768709897995, 0.05550149455666542, 0.0693768709897995, 0.013875373639166355, 0.7311521172523499, 0.0511806458234787, 0.02924608439207077, 0.043869126588106155, 0.021934563294053078, 0.10967281460762024, 0.008943086490035057, 0.2772356867790222, 0.044715430587530136, 0.044715430587530136, 0.017886172980070114, 0.044715430587530136, 0.08048777282238007, 0.4829266667366028, 0.8017994165420532, 0.13363322615623474, 0.9038264155387878, 0.09275203943252563, 0.04637601971626282, 0.09275203943252563, 0.7652043104171753, 0.1413499265909195, 0.06087843328714371, 0.2449132353067398, 0.1350521594285965, 0.2267196774482727, 0.021692315116524696, 0.002799008507281542, 0.13295289874076843, 0.022392068058252335, 0.011895786039531231, 0.9479607343673706, 0.06342530995607376, 0.26004377007484436, 0.012685061432421207, 0.03171265497803688, 0.1522207409143448, 0.4756897985935211, 0.8943437337875366, 0.8535668253898621, 0.12193811684846878, 0.8332847356796265, 0.8640586137771606, 0.078550785779953, 0.7834168672561646, 0.15668337047100067, 0.03917084261775017, 0.19283047318458557, 0.008034602738916874, 0.008034602738916874, 0.07231143116950989, 0.016069205477833748, 0.040173016488552094, 0.6427682638168335, 0.024103809148073196, 0.0033638542518019676, 0.36497819423675537, 0.05213974043726921, 0.13287223875522614, 0.05213974043726921, 0.2539709806442261, 0.08073250204324722, 0.0470939576625824, 0.010091562755405903, 0.012950015254318714, 0.6216007471084595, 0.03885004669427872, 0.03885004669427872, 0.07770009338855743, 0.05180006101727486, 0.07770009338855743, 0.09065010398626328, 0.9012560248374939, 0.05632850155234337, 0.8598926663398743, 0.8417313098907471, 0.08306488394737244, 0.08306488394737244, 0.8306487798690796, 0.05627769976854324, 0.5064992904663086, 0.14382079243659973, 0.19384540617465973, 0.006253077648580074, 0.018759233877062798, 0.018759233877062798, 0.037518467754125595, 0.018759233877062798, 0.11277759075164795, 0.12405534833669662, 0.05074991658329964, 0.17480526864528656, 0.033833276480436325, 0.38344380259513855, 0.005638879723846912, 0.02255551889538765, 0.028194397687911987, 0.056388795375823975, 0.046684183180332184, 0.023342091590166092, 0.03501313924789429, 0.6185654401779175, 0.011671045795083046, 0.011671045795083046, 0.24509197473526, 0.11565275490283966, 0.8095692992210388, 0.8689861297607422, 0.04456043988466263, 0.037808857858181, 0.11477688699960709, 0.12828005850315094, 0.3213752806186676, 0.15663670003414154, 0.00945221446454525, 0.10127372294664383, 0.0661654993891716, 0.0189044289290905, 0.8962044715881348, 0.060735102742910385, 0.060735102742910385, 0.7895563244819641, 0.4593592584133148, 0.08769585937261581, 0.09604784101247787, 0.025055959820747375, 0.020879965275526047, 0.06681589037179947, 0.22132764756679535, 0.020879965275526047, 0.8237054944038391, 0.08670584112405777, 0.043352920562028885, 0.15266625583171844, 0.7633312940597534, 0.003077840432524681, 0.07386817038059235, 0.10156873613595963, 0.5632448196411133, 0.14158065617084503, 0.003077840432524681, 0.0492454469203949, 0.03077840432524681, 0.03385624289512634, 0.833828866481781, 0.9496434926986694, 0.9697641134262085, 0.062438204884529114, 0.10229237377643585, 0.030554866418242455, 0.04649653658270836, 0.22052642703056335, 0.44636672735214233, 0.014613197185099125, 0.07173751294612885, 0.003985417075455189, 0.9243761301040649, 0.08648771047592163, 0.002882923698052764, 0.005765847396105528, 0.002882923698052764, 0.8014528155326843, 0.005765847396105528, 0.002882923698052764, 0.06630724668502808, 0.002882923698052764, 0.02306338958442211, 0.8914477825164795, 0.89267897605896, 0.07141431421041489, 0.9906486868858337, 0.2569293677806854, 0.6851450204849243, 0.9513213634490967, 0.8575431108474731, 0.09903904050588608, 0.8665915727615356, 0.09028035402297974, 0.8125231862068176, 0.019846543669700623, 0.2778516113758087, 0.6747824549674988, 0.019846543669700623, 0.9466149210929871, 0.17625507712364197, 0.7805582284927368, 0.7781105637550354, 0.8275582194328308, 0.6660488843917847, 0.06300462782382965, 0.08100594580173492, 0.036002643406391144, 0.005400396417826414, 0.07200528681278229, 0.06660488992929459, 0.010800792835652828, 0.8820030689239502, 0.9438642859458923, 0.932299017906189, 0.14281238615512848, 0.7854681611061096, 0.28823161125183105, 0.13999821245670319, 0.11529264599084854, 0.024705566465854645, 0.008235189132392406, 0.016470378264784813, 0.403524249792099, 0.8355048298835754, 0.8770155310630798, 0.09083793312311172, 0.8720441460609436, 0.03633517399430275, 0.9668759107589722, 0.06146415323019028, 0.12292830646038055, 0.7990339994430542, 0.8840171694755554, 0.12172584235668182, 0.030431460589170456, 0.07607865333557129, 0.7607865333557129, 0.12058749049901962, 0.024117497727274895, 0.8441123962402344, 0.13725297152996063, 0.04117589071393013, 0.17842885851860046, 0.013725296594202518, 0.08235178142786026, 0.013725296594202518, 0.054901186376810074, 0.4803853929042816, 0.054409321397542953, 0.9249584674835205, 0.04898110777139664, 0.9306410551071167, 0.28388580679893494, 0.1803857684135437, 0.027136143296957016, 0.12698322534561157, 0.01600336655974388, 0.12698322534561157, 0.05827312543988228, 0.09306305646896362, 0.0422697588801384, 0.04505295306444168, 0.3378916084766388, 0.11629758030176163, 0.1665884256362915, 0.138299822807312, 0.020430656149983406, 0.04086131229996681, 0.06757832318544388, 0.05029084533452988, 0.06129196658730507, 0.0015715889167040586, 0.004283232148736715, 0.9851433634757996, 0.004283232148736715, 0.8326899409294128, 0.9266126155853271, 0.8408169746398926, 0.09891964495182037, 0.02082076296210289, 0.010410381481051445, 0.07287266850471497, 0.14574533700942993, 0.23943877220153809, 0.11451419442892075, 0.3955944776535034, 0.06207863986492157, 0.9311795830726624, 0.8133164048194885, 0.7817285060882568, 0.9003114700317383, 0.016836024820804596, 0.21886833012104034, 0.06734409928321838, 0.13468819856643677, 0.05050807446241379, 0.4882447421550751, 0.029479755088686943, 0.029479755088686943, 0.058959510177373886, 0.009826584719121456, 0.46184948086738586, 0.1277455985546112, 0.2751443684101105, 0.9054666757583618, 0.7781357169151306, 0.057686224579811096, 0.8652933835983276, 0.13966624438762665, 0.8379974961280823, 0.07148883491754532, 0.2680831253528595, 0.10127585381269455, 0.059574030339717865, 0.06056693196296692, 0.0019858009181916714, 0.2025517076253891, 0.08538944274187088, 0.12311965972185135, 0.02680831402540207, 0.09558840095996857, 0.8602955937385559, 0.18148364126682281, 0.24663162231445312, 0.013960280455648899, 0.018613707274198532, 0.060494545847177505, 0.037227414548397064, 0.24197818338871002, 0.19544392824172974, 0.004653426818549633, 0.009182712063193321, 0.6060589551925659, 0.3764911890029907, 0.056074440479278564, 0.6728932857513428, 0.22429776191711426, 0.880259096622467, 0.14222648739814758, 0.047408830374479294, 0.7585412859916687, 0.11146765947341919, 0.14862355589866638, 0.7059618830680847, 0.8788967728614807, 0.09087618440389633, 0.8633237481117249, 0.9167683720588684, 0.17547844350337982, 0.007976293563842773, 0.06381034851074219, 0.3270280063152313, 0.07976292818784714, 0.34298059344291687, 0.7801917195320129, 0.6514943838119507, 0.02874239906668663, 0.009580799378454685, 0.07664639502763748, 0.03832319751381874, 0.01916159875690937, 0.07664639502763748, 0.0958079993724823, 0.052382808178663254, 0.07202636450529099, 0.09166991710662842, 0.5500195026397705, 0.013095702044665813, 0.052382808178663254, 0.17024412751197815, 0.9391409754753113, 0.8707423210144043, 0.8427313566207886, 0.7796512246131897, 0.11739274114370346, 0.8217491507530212, 0.8766324520111084, 0.01805463247001171, 0.054163895547389984, 0.12638242542743683, 0.027081947773694992, 0.15346437692642212, 0.009027316235005856, 0.07221852988004684, 0.4965023994445801, 0.04513658210635185, 0.03401964530348778, 0.09071905165910721, 0.045359525829553604, 0.3401964604854584, 0.022679762914776802, 0.011339881457388401, 0.46493515372276306, 0.0338352732360363, 0.6372309327125549, 0.1353410929441452, 0.0563921183347702, 0.0507529079914093, 0.0789489671587944, 0.08491498976945877, 0.6429277658462524, 0.09704570472240448, 0.1213071271777153, 0.01213071309030056, 0.03639213740825653, 0.8873178362846375, 0.2554476857185364, 0.03649252653121948, 0.6933580040931702, 0.06917688250541687, 0.18234315514564514, 0.09684763103723526, 0.13267770409584045, 0.06846737116575241, 0.36681485176086426, 0.025896986946463585, 0.025896986946463585, 0.029799271374940872, 0.0024832726921886206, 0.05110747367143631, 0.09199345111846924, 0.013628659769892693, 0.06814330071210861, 0.017035825178027153, 0.020442990586161613, 0.47359591722488403, 0.023850154131650925, 0.23509438335895538, 0.003407164942473173, 0.014979775063693523, 0.029959550127387047, 0.041194383054971695, 0.134817972779274, 0.6441303491592407, 0.10860337316989899, 0.022469662129878998, 0.36841049790382385, 0.010426712222397327, 0.05560912936925888, 0.30585020780563354, 0.020853424444794655, 0.06603584438562393, 0.048657990992069244, 0.06256027519702911, 0.010426712222397327, 0.05213356018066406, 0.3429597020149231, 0.01948634721338749, 0.4832614064216614, 0.011691808700561523, 0.0506645031273365, 0.007794538978487253, 0.011691808700561523, 0.07404811680316925, 0.8070475459098816, 0.1659913957118988, 0.3728421926498413, 0.09193369001150131, 0.1991896629333496, 0.007661140989512205, 0.007661140989512205, 0.0995948314666748, 0.05362798646092415, 0.0025537137407809496, 0.9347449541091919, 0.8896791934967041, 0.9262257218360901, 0.8338211178779602, 0.9801647067070007, 0.007986427284777164, 0.710792064666748, 0.26355209946632385, 0.007986427284777164, 0.3568805754184723, 0.14735713601112366, 0.13814730942249298, 0.07367856800556183, 0.13123995065689087, 0.036839284002780914, 0.004604910500347614, 0.011512276716530323, 0.013814731501042843, 0.08519084751605988, 0.0755646750330925, 0.5331507921218872, 0.01679215021431446, 0.04198037460446358, 0.05457448586821556, 0.11334700882434845, 0.012594112195074558, 0.05457448586821556, 0.10075289756059647, 0.8358692526817322, 0.1146329790353775, 0.4317029118537903, 0.07073098421096802, 0.3121919333934784, 0.00243899947963655, 0.029267994686961174, 0.0048779989592731, 0.03414599224925041, 0.00243899947963655, 0.00243899947963655, 0.11564916372299194, 0.10864012688398361, 0.23480285704135895, 0.40301981568336487, 0.02803616225719452, 0.09812656790018082, 0.00700904056429863, 0.00700904056429863, 0.14917859435081482, 0.17169611155986786, 0.3321334719657898, 0.053479116410017014, 0.11258761584758759, 0.036590974777936935, 0.036590974777936935, 0.005629380699247122, 0.042220354080200195, 0.06192318722605705, 0.13079403340816498, 0.8370818495750427, 0.23417000472545624, 0.0038388525135815144, 0.02303311601281166, 0.7178654074668884, 0.007677705027163029, 0.007677705027163029, 0.0038388525135815144, 0.9379264116287231, 0.9035706520080566, 0.11821167916059494, 0.827481746673584, 0.09247737377882004, 0.8322963714599609, 0.04623868688941002, 0.014575166627764702, 0.008745099417865276, 0.2827582359313965, 0.005830066744238138, 0.09328106790781021, 0.5509412884712219, 0.005830066744238138, 0.005830066744238138, 0.034980397671461105, 0.8344259262084961, 0.060393791645765305, 0.9059069156646729, 0.02340737357735634, 0.02340737357735634, 0.9128875732421875, 0.02340737357735634, 0.030173296108841896, 0.20115530490875244, 0.05028882622718811, 0.5632348656654358, 0.05028882622718811, 0.07040435820817947, 0.020115530118346214, 0.010057765059173107, 0.8781754970550537, 0.36124521493911743, 0.053850218653678894, 0.03590014576911926, 0.04038766399025917, 0.10770043730735779, 0.1705256998538971, 0.056093979626894, 0.08750660717487335, 0.04711894318461418, 0.04038766399025917, 0.2579158544540405, 0.055585313588380814, 0.08893650025129318, 0.1478569358587265, 0.10894721001386642, 0.23123490810394287, 0.004446825012564659, 0.03890971839427948, 0.032239481806755066, 0.03335118666291237, 0.8652507662773132, 0.13406968116760254, 0.8044180870056152, 0.9034953713417053, 0.23748835921287537, 0.036536671221256256, 0.10961001366376877, 0.018268335610628128, 0.07307334244251251, 0.11874417960643768, 0.41103753447532654, 0.0014598052948713303, 0.3291860818862915, 0.031385812908411026, 0.008758831769227982, 0.0007299026474356651, 0.17006731033325195, 0.35400277376174927, 0.04671376943588257, 0.011678442358970642, 0.04525396227836609, 0.018613772466778755, 0.11965996026992798, 0.41748031973838806, 0.007977331057190895, 0.005318220239132643, 0.09838707745075226, 0.12231907248497009, 0.07977330684661865, 0.07711419463157654, 0.053182203322649, 0.18972831964492798, 0.035134874284267426, 0.028107900172472, 0.709724485874176, 0.010540462099015713, 0.021080924198031425, 0.7839601635932922], \"Term\": [\"abc\", \"absolutely\", \"absolutely\", \"absolutely\", \"absolutely\", \"absolutely\", \"absolutely\", \"absolutely\", \"access\", \"access\", \"access\", \"access\", \"access\", \"access\", \"access\", \"access\", \"activate\", \"activate\", \"adapter\", \"adapter\", \"adapter\", \"add\", \"add\", \"add\", \"add\", \"add\", \"add\", \"add\", \"add\", \"ads\", \"ads\", \"ads\", \"ads\", \"ads\", \"ads\", \"adult\", \"adult\", \"adult\", \"adult\", \"adult\", \"adult\", \"advanced\", \"advanced\", \"advanced\", \"age\", \"age\", \"age\", \"age\", \"ages\", \"ages\", \"ages\", \"ages\", \"ages\", \"ages\", \"ago\", \"ago\", \"ago\", \"ago\", \"ago\", \"ago\", \"al\", \"alexa\", \"alexa\", \"alexa\", \"alexa\", \"alexa\", \"alexa\", \"allowing\", \"allowing\", \"alphabet\", \"amazon\", \"amazon\", \"amazon\", \"amazon\", \"amazon\", \"amazon\", \"amazon\", \"amazon\", \"amazon\", \"amazon\", \"amd\", \"american\", \"ample\", \"android\", \"android\", \"android\", \"android\", \"android\", \"android\", \"angle\", \"answer\", \"answer\", \"anybody\", \"anybody\", \"anyways\", \"app\", \"app\", \"app\", \"app\", \"app\", \"app\", \"app\", \"app\", \"app\", \"apple\", \"apple\", \"apple\", \"apple\", \"apple\", \"apple\", \"apple\", \"apple\", \"appropriate\", \"appropriate\", \"appropriate\", \"apps\", \"apps\", \"apps\", \"apps\", \"apps\", \"apps\", \"apps\", \"apps\", \"apps\", \"apps\", \"assignments\", \"assistant\", \"assume\", \"aunt\", \"aunt\", \"auto\", \"auto\", \"available\", \"available\", \"available\", \"available\", \"available\", \"available\", \"available\", \"awesome\", \"awesome\", \"awesome\", \"awesome\", \"awesome\", \"awesome\", \"awesome\", \"awesome\", \"awesome\", \"backlight\", \"backlight\", \"barnes\", \"basic\", \"basic\", \"basic\", \"basic\", \"basic\", \"basic\", \"basic\", \"basic\", \"battery\", \"battery\", \"battery\", \"battery\", \"battery\", \"battery\", \"battery\", \"battery\", \"battery\", \"beat\", \"beat\", \"beat\", \"beat\", \"beat\", \"beat\", \"beat\", \"beat\", \"beginner\", \"beginner\", \"beginner\", \"beginners\", \"beginners\", \"beginning\", \"believe\", \"believe\", \"believe\", \"believe\", \"believe\", \"bells\", \"bells\", \"best\", \"best\", \"best\", \"best\", \"best\", \"best\", \"best\", \"best\", \"best\", \"best\", \"bestbuy\", \"bestbuy\", \"bestbuy\", \"better\", \"better\", \"better\", \"better\", \"better\", \"better\", \"better\", \"better\", \"better\", \"better\", \"bigger\", \"bigger\", \"bigger\", \"bigger\", \"bigger\", \"bigger\", \"bigger\", \"bigger\", \"birthday\", \"birthday\", \"birthday\", \"birthday\", \"birthday\", \"birthday\", \"birthdays\", \"black\", \"black\", \"black\", \"black\", \"black\", \"black\", \"black\", \"black\", \"bluetooth\", \"bluetooth\", \"book\", \"book\", \"book\", \"book\", \"book\", \"book\", \"book\", \"book\", \"book\", \"books\", \"books\", \"books\", \"books\", \"books\", \"books\", \"books\", \"books\", \"books\", \"books\", \"boost\", \"boost\", \"boot\", \"boot\", \"booting\", \"bought\", \"bought\", \"bought\", \"bought\", \"bought\", \"bought\", \"bought\", \"bought\", \"bought\", \"bought\", \"browser\", \"browser\", \"browser\", \"browser\", \"browser\", \"browsing\", \"browsing\", \"browsing\", \"browsing\", \"browsing\", \"browsing\", \"bubble\", \"bubble\", \"bulky\", \"bulky\", \"busy\", \"busy\", \"button\", \"button\", \"button\", \"button\", \"button\", \"button\", \"buttons\", \"buttons\", \"buttons\", \"buttons\", \"buttons\", \"buy\", \"buy\", \"buy\", \"buy\", \"buy\", \"buy\", \"buy\", \"buy\", \"buy\", \"buy\", \"buyer\", \"cable\", \"cable\", \"cable\", \"cable\", \"cable\", \"cable\", \"card\", \"card\", \"card\", \"card\", \"card\", \"card\", \"card\", \"cartoons\", \"cartoons\", \"case\", \"case\", \"case\", \"case\", \"case\", \"case\", \"case\", \"case\", \"case\", \"case\", \"catching\", \"caught\", \"caught\", \"caveat\", \"certainly\", \"certainly\", \"challenged\", \"characters\", \"charge\", \"charge\", \"charge\", \"charge\", \"charge\", \"charge\", \"charge\", \"charge\", \"charge\", \"charging\", \"charging\", \"charging\", \"charging\", \"charging\", \"charging\", \"charging\", \"cheap\", \"cheap\", \"cheap\", \"cheap\", \"cheap\", \"cheap\", \"cheap\", \"check\", \"check\", \"check\", \"check\", \"check\", \"check\", \"check\", \"checking\", \"checking\", \"child\", \"child\", \"child\", \"child\", \"child\", \"child\", \"child\", \"child\", \"child\", \"children\", \"children\", \"children\", \"children\", \"children\", \"children\", \"children\", \"children\", \"christmas\", \"christmas\", \"christmas\", \"christmas\", \"christmas\", \"christmas\", \"christmas\", \"christmas\", \"christmas\", \"christmas\", \"chrome\", \"citizen\", \"class\", \"class\", \"class\", \"clearer\", \"clearly\", \"clubhouse\", \"clumsy\", \"clumsy\", \"clumsy\", \"clutter\", \"coffee\", \"comes\", \"comes\", \"comes\", \"comes\", \"comes\", \"comes\", \"comes\", \"comes\", \"comes\", \"comics\", \"commands\", \"commands\", \"common\", \"compares\", \"compromise\", \"connect\", \"connect\", \"connect\", \"connect\", \"connect\", \"connect\", \"connect\", \"connect\", \"contact\", \"content\", \"content\", \"content\", \"content\", \"content\", \"content\", \"content\", \"content\", \"content\", \"content\", \"contents\", \"contrast\", \"controlling\", \"controls\", \"controls\", \"controls\", \"controls\", \"controls\", \"cord\", \"cord\", \"cord\", \"cord\", \"correctly\", \"correctly\", \"cracked\", \"cracked\", \"cracked\", \"cracked\", \"credit\", \"credit\", \"credit\", \"crystal\", \"crystal\", \"curfew\", \"customer\", \"customer\", \"customer\", \"customize\", \"cut\", \"cute\", \"cute\", \"damaged\", \"damaged\", \"darn\", \"daughter\", \"daughter\", \"daughter\", \"daughter\", \"daughter\", \"daughter\", \"daughter\", \"daughter\", \"dauther\", \"deal\", \"deal\", \"deal\", \"deal\", \"deal\", \"deal\", \"deal\", \"deal\", \"decent\", \"decent\", \"decent\", \"decent\", \"decent\", \"decent\", \"decent\", \"decided\", \"decided\", \"decided\", \"decided\", \"decided\", \"decided\", \"decided\", \"decided\", \"deliver\", \"department\", \"department\", \"device\", \"device\", \"device\", \"device\", \"device\", \"device\", \"device\", \"device\", \"device\", \"device\", \"didnt\", \"didnt\", \"didnt\", \"dinner\", \"dog\", \"dot\", \"dot\", \"dots\", \"download\", \"download\", \"download\", \"download\", \"download\", \"download\", \"download\", \"download\", \"download\", \"downloads\", \"downloads\", \"downloads\", \"downloads\", \"downloads\", \"dream\", \"driver\", \"dropped\", \"dropped\", \"dropped\", \"dropped\", \"dropped\", \"dropped\", \"dropped\", \"ds\", \"durable\", \"durable\", \"durable\", \"durable\", \"durable\", \"durable\", \"durable\", \"durable\", \"durable\", \"durable\", \"easier\", \"easier\", \"easier\", \"easier\", \"easier\", \"easier\", \"easier\", \"easier\", \"east\", \"easy\", \"easy\", \"easy\", \"easy\", \"easy\", \"easy\", \"easy\", \"easy\", \"easy\", \"easy\", \"echo\", \"echo\", \"ecosystem\", \"edition\", \"edition\", \"edition\", \"edition\", \"edition\", \"edition\", \"edition\", \"electrical\", \"email\", \"email\", \"email\", \"email\", \"email\", \"email\", \"emails\", \"emails\", \"emails\", \"emails\", \"emails\", \"employees\", \"employees\", \"end\", \"end\", \"end\", \"end\", \"end\", \"end\", \"enjoyed\", \"enjoyed\", \"enjoyed\", \"enjoyed\", \"enjoyed\", \"enjoyed\", \"enjoyed\", \"enjoyed\", \"enjoys\", \"enjoys\", \"enjoys\", \"enjoys\", \"entertain\", \"entertaining\", \"entertaining\", \"environments\", \"event\", \"events\", \"everyday\", \"everyday\", \"everyday\", \"everyday\", \"everyday\", \"everyday\", \"everyday\", \"everyday\", \"everytime\", \"exact\", \"exclusively\", \"expect\", \"expect\", \"expect\", \"expect\", \"explained\", \"extent\", \"extent\", \"eyes\", \"eyes\", \"eyes\", \"eyes\", \"eyes\", \"eyes\", \"fabulous\", \"facebook\", \"facebook\", \"facebook\", \"facebook\", \"facebook\", \"facebook\", \"far\", \"far\", \"far\", \"far\", \"far\", \"far\", \"far\", \"far\", \"far\", \"far\", \"fast\", \"fast\", \"fast\", \"fast\", \"fast\", \"fast\", \"fast\", \"fast\", \"fast\", \"fast\", \"faster\", \"faster\", \"faster\", \"faster\", \"faster\", \"faster\", \"faster\", \"faster\", \"father\", \"father\", \"father\", \"features\", \"features\", \"features\", \"features\", \"features\", \"features\", \"features\", \"features\", \"features\", \"features\", \"fianc\", \"figured\", \"figured\", \"finds\", \"finds\", \"fingers\", \"fingers\", \"fingertips\", \"fits\", \"fits\", \"fits\", \"fits\", \"fits\", \"fits\", \"fits\", \"fraction\", \"fraction\", \"free\", \"free\", \"free\", \"free\", \"free\", \"free\", \"free\", \"free\", \"free\", \"friday\", \"friday\", \"friday\", \"friday\", \"friday\", \"friday\", \"friday\", \"friday\", \"friend\", \"friend\", \"friend\", \"friend\", \"friend\", \"friendly\", \"friendly\", \"friendly\", \"friendly\", \"friendly\", \"friendly\", \"friendly\", \"friendly\", \"friendly\", \"galaxy\", \"galaxy\", \"galaxy\", \"games\", \"games\", \"games\", \"games\", \"games\", \"games\", \"games\", \"games\", \"games\", \"games\", \"gb\", \"gb\", \"gb\", \"gb\", \"gb\", \"gb\", \"gb\", \"geek\", \"geek\", \"geek\", \"geek\", \"generation\", \"generation\", \"generation\", \"generation\", \"generation\", \"generation\", \"generic\", \"gift\", \"gift\", \"gift\", \"gift\", \"gift\", \"gift\", \"gift\", \"gift\", \"gift\", \"gifts\", \"gifts\", \"gifts\", \"gifts\", \"gifts\", \"girlfriend\", \"glass\", \"glass\", \"good\", \"good\", \"good\", \"good\", \"good\", \"good\", \"good\", \"good\", \"good\", \"good\", \"google\", \"google\", \"google\", \"google\", \"google\", \"google\", \"google\", \"google\", \"got\", \"got\", \"got\", \"got\", \"got\", \"got\", \"got\", \"got\", \"got\", \"got\", \"gps\", \"grade\", \"grandaughter\", \"grandaughter\", \"granddaughter\", \"granddaughter\", \"granddaughter\", \"granddaughter\", \"granddaughter\", \"granddaughter\", \"grandkids\", \"grandkids\", \"grandkids\", \"grandkids\", \"grandkids\", \"grandkids\", \"grandkids\", \"grandma\", \"grandma\", \"grandma\", \"grandmother\", \"grandparents\", \"grandson\", \"grandson\", \"grandson\", \"grandson\", \"grandson\", \"grandson\", \"grandson\", \"grandson\", \"great\", \"great\", \"great\", \"great\", \"great\", \"great\", \"great\", \"great\", \"great\", \"great\", \"group\", \"group\", \"grow\", \"grow\", \"grows\", \"hand\", \"hand\", \"hand\", \"hand\", \"hand\", \"hand\", \"handheld\", \"hands\", \"hands\", \"hands\", \"hands\", \"hands\", \"handy\", \"handy\", \"handy\", \"handy\", \"handy\", \"handy\", \"handy\", \"hardly\", \"hasn\", \"hasn\", \"hasn\", \"hasn\", \"hasn\", \"haven\", \"haven\", \"haven\", \"haven\", \"haven\", \"haven\", \"haven\", \"haven\", \"hd\", \"hd\", \"hd\", \"hd\", \"hd\", \"hd\", \"hd\", \"hd\", \"hd\", \"hd\", \"hdmi\", \"heavier\", \"heavy\", \"heavy\", \"heavy\", \"heavy\", \"heavy\", \"helpful\", \"helpful\", \"helpful\", \"helpful\", \"helpful\", \"helpful\", \"helpful\", \"high\", \"high\", \"high\", \"high\", \"high\", \"high\", \"high\", \"highly\", \"highly\", \"highly\", \"highly\", \"highly\", \"highly\", \"highly\", \"highly\", \"highly\", \"holds\", \"holds\", \"holds\", \"holds\", \"holds\", \"holds\", \"holidays\", \"holidays\", \"holidays\", \"holidays\", \"home\", \"home\", \"home\", \"home\", \"home\", \"home\", \"home\", \"home\", \"home\", \"horrible\", \"hospital\", \"hotspot\", \"hrs\", \"icon\", \"icon\", \"improvement\", \"improvement\", \"improvement\", \"inch\", \"inch\", \"inch\", \"inch\", \"inch\", \"inch\", \"incredible\", \"inexpensive\", \"inexpensive\", \"inexpensive\", \"inexpensive\", \"inexpensive\", \"inexpensive\", \"inexpensive\", \"inexpensive\", \"inexpensive\", \"informative\", \"initial\", \"input\", \"insisted\", \"insisted\", \"install\", \"install\", \"install\", \"installed\", \"installed\", \"installed\", \"installed\", \"installed\", \"installed\", \"installing\", \"installing\", \"instance\", \"instance\", \"interested\", \"interested\", \"intermediate\", \"internet\", \"internet\", \"internet\", \"internet\", \"internet\", \"internet\", \"internet\", \"internet\", \"internet\", \"invested\", \"ipad\", \"ipad\", \"ipad\", \"ipad\", \"ipad\", \"ipad\", \"ipad\", \"ipad\", \"ipad\", \"ipad\", \"iphones\", \"item\", \"item\", \"item\", \"item\", \"item\", \"item\", \"item\", \"item\", \"item\", \"item\", \"itunes\", \"junk\", \"junk\", \"keeps\", \"keeps\", \"keeps\", \"keeps\", \"keeps\", \"keeps\", \"keeps\", \"key\", \"key\", \"key\", \"key\", \"key\", \"keyboard\", \"keyboard\", \"keyboard\", \"keyboard\", \"keyboard\", \"keyboard\", \"keys\", \"keys\", \"keys\", \"kid\", \"kid\", \"kid\", \"kid\", \"kid\", \"kid\", \"kid\", \"kid\", \"kid\", \"kiddo\", \"kiddo\", \"kiddos\", \"kiddos\", \"kids\", \"kids\", \"kids\", \"kids\", \"kids\", \"kids\", \"kids\", \"kids\", \"kids\", \"kids\", \"killer\", \"killer\", \"kinda\", \"kindle\", \"kindle\", \"kindle\", \"kindle\", \"kindle\", \"kindle\", \"kindle\", \"kindle\", \"kindle\", \"kindle\", \"kindles\", \"kindles\", \"kindles\", \"kindles\", \"kindles\", \"kindles\", \"kindles\", \"kindles\", \"kindles\", \"lag\", \"lag\", \"lag\", \"laggy\", \"lap\", \"lap\", \"laptop\", \"laptop\", \"laptop\", \"laptop\", \"laptop\", \"laptop\", \"laptop\", \"laptop\", \"laptop\", \"laptops\", \"larger\", \"larger\", \"larger\", \"larger\", \"larger\", \"larger\", \"larger\", \"larger\", \"larger\", \"law\", \"law\", \"law\", \"layout\", \"layout\", \"learn\", \"learn\", \"learn\", \"learn\", \"learn\", \"learn\", \"learning\", \"learning\", \"learning\", \"learning\", \"learning\", \"learning\", \"led\", \"life\", \"life\", \"life\", \"life\", \"life\", \"life\", \"life\", \"life\", \"life\", \"light\", \"light\", \"light\", \"light\", \"light\", \"light\", \"light\", \"light\", \"light\", \"lighter\", \"lighter\", \"lighter\", \"lighter\", \"like\", \"like\", \"like\", \"like\", \"like\", \"like\", \"like\", \"like\", \"like\", \"like\", \"likes\", \"likes\", \"likes\", \"likes\", \"likes\", \"likes\", \"lil\", \"lil\", \"limited\", \"limited\", \"limited\", \"limited\", \"limited\", \"limited\", \"limited\", \"limited\", \"limiting\", \"limits\", \"limits\", \"limits\", \"limits\", \"limits\", \"little\", \"little\", \"little\", \"little\", \"little\", \"little\", \"little\", \"little\", \"little\", \"lock\", \"lock\", \"lock\", \"logic\", \"long\", \"long\", \"long\", \"long\", \"long\", \"long\", \"long\", \"long\", \"long\", \"looking\", \"looking\", \"looking\", \"looking\", \"looking\", \"looking\", \"looking\", \"looking\", \"looking\", \"looking\", \"loose\", \"loose\", \"loose\", \"loose\", \"louder\", \"love\", \"love\", \"love\", \"love\", \"love\", \"love\", \"love\", \"love\", \"love\", \"love\", \"loved\", \"loved\", \"loved\", \"loved\", \"loved\", \"loved\", \"loved\", \"loved\", \"loved\", \"loves\", \"loves\", \"loves\", \"loves\", \"loves\", \"loves\", \"loves\", \"loves\", \"loves\", \"loves\", \"lte\", \"lug\", \"lug\", \"luv\", \"luv\", \"macbook\", \"mad\", \"manually\", \"material\", \"material\", \"material\", \"materials\", \"materials\", \"mb\", \"media\", \"media\", \"media\", \"media\", \"medium\", \"meets\", \"meets\", \"meets\", \"memory\", \"memory\", \"memory\", \"memory\", \"memory\", \"memory\", \"memory\", \"memory\", \"memory\", \"memory\", \"met\", \"met\", \"met\", \"met\", \"metal\", \"mickey\", \"mines\", \"minute\", \"model\", \"model\", \"model\", \"model\", \"model\", \"model\", \"model\", \"modest\", \"mom\", \"mom\", \"mom\", \"mom\", \"mom\", \"mom\", \"mom\", \"mom\", \"mommy\", \"money\", \"money\", \"money\", \"money\", \"money\", \"money\", \"money\", \"money\", \"money\", \"money\", \"mother\", \"mother\", \"mother\", \"mother\", \"mother\", \"mother\", \"mothers\", \"mouse\", \"mouse\", \"moved\", \"movies\", \"movies\", \"movies\", \"movies\", \"movies\", \"movies\", \"movies\", \"music\", \"music\", \"music\", \"music\", \"music\", \"music\", \"music\", \"music\", \"music\", \"navigate\", \"navigate\", \"navigate\", \"navigate\", \"navigate\", \"navigate\", \"navigate\", \"navigate\", \"navigate\", \"neat\", \"need\", \"need\", \"need\", \"need\", \"need\", \"need\", \"need\", \"need\", \"need\", \"need\", \"needs\", \"needs\", \"needs\", \"needs\", \"needs\", \"needs\", \"needs\", \"needs\", \"needs\", \"neice\", \"nephew\", \"nephew\", \"nephew\", \"nephew\", \"nephew\", \"nephews\", \"nephews\", \"nervous\", \"net\", \"net\", \"new\", \"new\", \"new\", \"new\", \"new\", \"new\", \"new\", \"new\", \"new\", \"new\", \"nice\", \"nice\", \"nice\", \"nice\", \"nice\", \"nice\", \"nice\", \"nice\", \"nice\", \"nice\", \"niece\", \"niece\", \"niece\", \"nook\", \"nook\", \"nook\", \"nook\", \"nook\", \"nook\", \"novice\", \"nursing\", \"ok\", \"ok\", \"ok\", \"ok\", \"ok\", \"ok\", \"ok\", \"old\", \"old\", \"old\", \"old\", \"old\", \"old\", \"old\", \"old\", \"old\", \"old\", \"older\", \"older\", \"older\", \"older\", \"older\", \"older\", \"older\", \"older\", \"older\", \"older\", \"olds\", \"olds\", \"olds\", \"operate\", \"operate\", \"operate\", \"operate\", \"operate\", \"operate\", \"operate\", \"operating\", \"operating\", \"operating\", \"operating\", \"operating\", \"ordering\", \"ordering\", \"original\", \"original\", \"original\", \"original\", \"original\", \"original\", \"os\", \"os\", \"os\", \"os\", \"os\", \"overpriced\", \"padded\", \"padding\", \"page\", \"page\", \"page\", \"page\", \"pandora\", \"paperback\", \"paperweight\", \"paperwhite\", \"paperwhite\", \"parental\", \"parental\", \"parental\", \"parental\", \"parental\", \"parental\", \"parental\", \"pen\", \"perfect\", \"perfect\", \"perfect\", \"perfect\", \"perfect\", \"perfect\", \"perfect\", \"perfect\", \"perfect\", \"perfect\", \"permission\", \"person\", \"person\", \"person\", \"person\", \"person\", \"person\", \"personnel\", \"picture\", \"picture\", \"picture\", \"picture\", \"picture\", \"picture\", \"picture\", \"pink\", \"pink\", \"play\", \"play\", \"play\", \"play\", \"play\", \"play\", \"play\", \"play\", \"play\", \"play\", \"plays\", \"plays\", \"plays\", \"plays\", \"plays\", \"plays\", \"playstore\", \"plug\", \"plug\", \"plug\", \"port\", \"port\", \"port\", \"port\", \"portability\", \"portability\", \"portability\", \"portability\", \"portable\", \"portable\", \"portable\", \"portable\", \"portable\", \"portable\", \"potential\", \"potential\", \"practically\", \"pre\", \"pre\", \"pre\", \"pre\", \"pre\", \"pre\", \"prefect\", \"preferred\", \"preloaded\", \"preloaded\", \"preschool\", \"present\", \"present\", \"present\", \"present\", \"press\", \"pretty\", \"pretty\", \"pretty\", \"pretty\", \"pretty\", \"pretty\", \"pretty\", \"pretty\", \"pretty\", \"pretty\", \"previous\", \"previous\", \"previous\", \"previous\", \"previous\", \"previous\", \"previous\", \"previous\", \"price\", \"price\", \"price\", \"price\", \"price\", \"price\", \"price\", \"price\", \"price\", \"price\", \"priced\", \"priced\", \"priced\", \"priced\", \"priced\", \"priced\", \"pricing\", \"prime\", \"prime\", \"prime\", \"prime\", \"prime\", \"prime\", \"prime\", \"printed\", \"prob\", \"processing\", \"processing\", \"product\", \"product\", \"product\", \"product\", \"product\", \"product\", \"product\", \"product\", \"product\", \"product\", \"profile\", \"profile\", \"profile\", \"progress\", \"progress\", \"protect\", \"protect\", \"protect\", \"purchased\", \"purchased\", \"purchased\", \"purchased\", \"purchased\", \"purchased\", \"purchased\", \"purchased\", \"purchased\", \"purchased\", \"purple\", \"purple\", \"purse\", \"purse\", \"pushing\", \"puts\", \"quality\", \"quality\", \"quality\", \"quality\", \"quality\", \"quality\", \"quality\", \"quality\", \"quality\", \"quicker\", \"quicker\", \"quickly\", \"quickly\", \"quickly\", \"quickly\", \"quickly\", \"quickly\", \"quickly\", \"quickly\", \"quickly\", \"radio\", \"ram\", \"ram\", \"reached\", \"reached\", \"read\", \"read\", \"read\", \"read\", \"read\", \"read\", \"read\", \"read\", \"read\", \"reader\", \"reader\", \"reader\", \"reader\", \"reader\", \"reader\", \"reader\", \"reader\", \"reader\", \"reader\", \"reading\", \"reading\", \"reading\", \"reading\", \"reading\", \"reading\", \"reading\", \"reading\", \"reading\", \"real\", \"real\", \"real\", \"real\", \"real\", \"real\", \"real\", \"reasonably\", \"reasonably\", \"reasonably\", \"reboot\", \"reccomend\", \"recipient\", \"recipient\", \"recommend\", \"recommend\", \"recommend\", \"recommend\", \"recommend\", \"recommend\", \"recommend\", \"recommend\", \"recommend\", \"recommend\", \"refund\", \"refurbished\", \"refurbished\", \"refused\", \"refused\", \"registered\", \"regret\", \"regret\", \"regret\", \"related\", \"related\", \"related\", \"release\", \"remove\", \"remove\", \"remove\", \"remove\", \"remove\", \"repairs\", \"replaced\", \"replaced\", \"replaced\", \"replaced\", \"replaced\", \"replaced\", \"replaced\", \"replaces\", \"resource\", \"responsibility\", \"returned\", \"returned\", \"returned\", \"returned\", \"returned\", \"returned\", \"returned\", \"room\", \"room\", \"room\", \"room\", \"room\", \"room\", \"room\", \"rooting\", \"rough\", \"rough\", \"rough\", \"rough\", \"safe\", \"safe\", \"safe\", \"safe\", \"safe\", \"samsung\", \"samsung\", \"samsung\", \"samsung\", \"samsung\", \"samsung\", \"satisfied\", \"satisfied\", \"satisfied\", \"satisfied\", \"satisfied\", \"satisfied\", \"satisfied\", \"satisfied\", \"satisfy\", \"satisfy\", \"saver\", \"savvy\", \"savvy\", \"savvy\", \"savvy\", \"screen\", \"screen\", \"screen\", \"screen\", \"screen\", \"screen\", \"screen\", \"screen\", \"screen\", \"screen\", \"scrolling\", \"sd\", \"sd\", \"sd\", \"sd\", \"sd\", \"sd\", \"season\", \"section\", \"section\", \"semester\", \"sensitive\", \"sensitive\", \"separate\", \"separate\", \"separate\", \"service\", \"service\", \"service\", \"service\", \"service\", \"service\", \"service\", \"service\", \"set\", \"set\", \"set\", \"set\", \"set\", \"set\", \"set\", \"set\", \"set\", \"settings\", \"settings\", \"settings\", \"settings\", \"settings\", \"settings\", \"settings\", \"settings\", \"shade\", \"shade\", \"sharper\", \"shell\", \"shortly\", \"shortly\", \"shortly\", \"shows\", \"shows\", \"shows\", \"shows\", \"shows\", \"shows\", \"shows\", \"shows\", \"shows\", \"simple\", \"simple\", \"simple\", \"simple\", \"simple\", \"simple\", \"simple\", \"simple\", \"simple\", \"simple\", \"sister\", \"sister\", \"sister\", \"sister\", \"sister\", \"sister\", \"sister\", \"sisters\", \"sisters\", \"sitting\", \"size\", \"size\", \"size\", \"size\", \"size\", \"size\", \"size\", \"size\", \"size\", \"size\", \"slide\", \"slip\", \"slip\", \"slip\", \"slow\", \"slow\", \"slow\", \"slow\", \"slow\", \"slow\", \"slow\", \"slow\", \"slower\", \"slower\", \"slower\", \"slowly\", \"slowly\", \"small\", \"small\", \"small\", \"small\", \"small\", \"small\", \"small\", \"small\", \"small\", \"smoother\", \"snappy\", \"social\", \"son\", \"son\", \"son\", \"son\", \"son\", \"son\", \"son\", \"son\", \"son\", \"sooo\", \"sound\", \"sound\", \"sound\", \"sound\", \"sound\", \"sound\", \"sound\", \"sound\", \"sound\", \"sound\", \"sounding\", \"sounds\", \"sounds\", \"speaker\", \"speedy\", \"speedy\", \"sports\", \"spouse\", \"squad\", \"squad\", \"staff\", \"staff\", \"stand\", \"stand\", \"stand\", \"stand\", \"stepkids\", \"stock\", \"stock\", \"stopping\", \"stops\", \"store\", \"store\", \"store\", \"store\", \"store\", \"store\", \"store\", \"store\", \"stored\", \"strain\", \"streams\", \"student\", \"student\", \"stuff\", \"stuff\", \"stuff\", \"stuff\", \"stuff\", \"stuff\", \"stuff\", \"stumbled\", \"sturdier\", \"subscription\", \"subscription\", \"subscription\", \"sufficient\", \"suggest\", \"suggest\", \"suggest\", \"suppose\", \"surf\", \"surf\", \"surf\", \"surf\", \"surfing\", \"surfing\", \"surfing\", \"surprised\", \"surprised\", \"surprised\", \"surprised\", \"surprised\", \"surprised\", \"surprised\", \"surprised\", \"swipe\", \"swipe\", \"systems\", \"systems\", \"tablet\", \"tablet\", \"tablet\", \"tablet\", \"tablet\", \"tablet\", \"tablet\", \"tablet\", \"tablet\", \"tablet\", \"tablets\", \"tablets\", \"tablets\", \"tablets\", \"tablets\", \"tablets\", \"tablets\", \"tablets\", \"tablets\", \"tablets\", \"tap\", \"tap\", \"tap\", \"task\", \"teach\", \"teaching\", \"teaching\", \"tech\", \"tech\", \"tech\", \"tech\", \"tech\", \"tech\", \"tech\", \"teenage\", \"teenage\", \"tells\", \"term\", \"textbooks\", \"thank\", \"thank\", \"thank\", \"thank\", \"thank\", \"thank\", \"thanks\", \"thanks\", \"thanks\", \"thanks\", \"thanks\", \"thanks\", \"thanks\", \"therapy\", \"throwing\", \"throws\", \"throws\", \"thumbs\", \"thumbs\", \"time\", \"time\", \"time\", \"time\", \"time\", \"time\", \"time\", \"time\", \"time\", \"time\", \"timers\", \"timers\", \"times\", \"times\", \"times\", \"times\", \"times\", \"times\", \"times\", \"times\", \"times\", \"tool\", \"tool\", \"tool\", \"totally\", \"totally\", \"totally\", \"touches\", \"toy\", \"toy\", \"toy\", \"toys\", \"toys\", \"toys\", \"traded\", \"transfer\", \"transfer\", \"translations\", \"travel\", \"travel\", \"travel\", \"travel\", \"travel\", \"travel\", \"trial\", \"tried\", \"tried\", \"tried\", \"tried\", \"tried\", \"tried\", \"tried\", \"tried\", \"turn\", \"turn\", \"turn\", \"turn\", \"turn\", \"turn\", \"turn\", \"tutorials\", \"tvs\", \"types\", \"unaware\", \"uncomfortable\", \"uncomfortable\", \"understands\", \"unit\", \"unit\", \"unit\", \"unit\", \"unit\", \"unit\", \"unit\", \"unit\", \"unit\", \"update\", \"update\", \"update\", \"update\", \"update\", \"update\", \"update\", \"upgrade\", \"upgrade\", \"upgrade\", \"upgrade\", \"upgrade\", \"upgrade\", \"upgraded\", \"upgraded\", \"upgraded\", \"upgraded\", \"upgraded\", \"upgraded\", \"usability\", \"usb\", \"usb\", \"usb\", \"use\", \"use\", \"use\", \"use\", \"use\", \"use\", \"use\", \"use\", \"use\", \"use\", \"user\", \"user\", \"user\", \"user\", \"user\", \"user\", \"user\", \"user\", \"user\", \"user\", \"uses\", \"uses\", \"uses\", \"uses\", \"uses\", \"uses\", \"uses\", \"value\", \"value\", \"value\", \"value\", \"value\", \"value\", \"value\", \"value\", \"value\", \"value\", \"version\", \"version\", \"version\", \"version\", \"version\", \"version\", \"version\", \"version\", \"viber\", \"videos\", \"videos\", \"videos\", \"videos\", \"videos\", \"videos\", \"videos\", \"videos\", \"videos\", \"vision\", \"visiting\", \"visuals\", \"vocabulary\", \"voice\", \"voyage\", \"voyage\", \"voyage\", \"voyage\", \"want\", \"want\", \"want\", \"want\", \"want\", \"want\", \"want\", \"want\", \"want\", \"want\", \"warranty\", \"warranty\", \"warranty\", \"warranty\", \"warranty\", \"warranty\", \"warranty\", \"warranty\", \"warranty\", \"wasnt\", \"watch\", \"watch\", \"watch\", \"watch\", \"watch\", \"watch\", \"watch\", \"watch\", \"watch\", \"watch\", \"watching\", \"watching\", \"watching\", \"watching\", \"watching\", \"watching\", \"watching\", \"watching\", \"way\", \"way\", \"way\", \"way\", \"way\", \"way\", \"way\", \"way\", \"way\", \"way\", \"weather\", \"weather\", \"web\", \"web\", \"web\", \"web\", \"web\", \"web\", \"web\", \"website\", \"whim\", \"whistles\", \"whistles\", \"wi\", \"wi\", \"wi\", \"wife\", \"wife\", \"wife\", \"wife\", \"wife\", \"wife\", \"wife\", \"wife\", \"wife\", \"willing\", \"win\", \"win\", \"wireless\", \"wireless\", \"wireless\", \"wireless\", \"wonderful\", \"wonderful\", \"wonderful\", \"wonderful\", \"wonderful\", \"wonderful\", \"wonderful\", \"wonderful\", \"wonders\", \"work\", \"work\", \"work\", \"work\", \"work\", \"work\", \"work\", \"work\", \"work\", \"work\", \"works\", \"works\", \"works\", \"works\", \"works\", \"works\", \"works\", \"works\", \"works\", \"works\", \"worn\", \"worries\", \"worries\", \"wouldnt\", \"wrong\", \"wrong\", \"wrong\", \"wrong\", \"wrong\", \"wrong\", \"wrong\", \"year\", \"year\", \"year\", \"year\", \"year\", \"year\", \"year\", \"year\", \"year\", \"year\", \"years\", \"years\", \"years\", \"years\", \"years\", \"years\", \"years\", \"years\", \"years\", \"years\", \"yr\", \"yr\", \"yr\", \"yr\", \"yr\", \"yr\", \"zippers\"]}, \"R\": 30, \"lambda.step\": 0.01, \"plot.opts\": {\"xlab\": \"PC1\", \"ylab\": \"PC2\"}, \"topic.order\": [10, 8, 2, 7, 4, 6, 9, 1, 5, 3]};\n",
       "\n",
       "function LDAvis_load_lib(url, callback){\n",
       "  var s = document.createElement('script');\n",
       "  s.src = url;\n",
       "  s.async = true;\n",
       "  s.onreadystatechange = s.onload = callback;\n",
       "  s.onerror = function(){console.warn(\"failed to load library \" + url);};\n",
       "  document.getElementsByTagName(\"head\")[0].appendChild(s);\n",
       "}\n",
       "\n",
       "if(typeof(LDAvis) !== \"undefined\"){\n",
       "   // already loaded: just create the visualization\n",
       "   !function(LDAvis){\n",
       "       new LDAvis(\"#\" + \"ldavis_el7446825437361918805158004951\", ldavis_el7446825437361918805158004951_data);\n",
       "   }(LDAvis);\n",
       "}else if(typeof define === \"function\" && define.amd){\n",
       "   // require.js is available: use it to load d3/LDAvis\n",
       "   require.config({paths: {d3: \"https://cdnjs.cloudflare.com/ajax/libs/d3/3.5.5/d3.min\"}});\n",
       "   require([\"d3\"], function(d3){\n",
       "      window.d3 = d3;\n",
       "      LDAvis_load_lib(\"https://cdn.rawgit.com/bmabey/pyLDAvis/files/ldavis.v1.0.0.js\", function(){\n",
       "        new LDAvis(\"#\" + \"ldavis_el7446825437361918805158004951\", ldavis_el7446825437361918805158004951_data);\n",
       "      });\n",
       "    });\n",
       "}else{\n",
       "    // require.js not available: dynamically load d3 & LDAvis\n",
       "    LDAvis_load_lib(\"https://cdnjs.cloudflare.com/ajax/libs/d3/3.5.5/d3.min.js\", function(){\n",
       "         LDAvis_load_lib(\"https://cdn.rawgit.com/bmabey/pyLDAvis/files/ldavis.v1.0.0.js\", function(){\n",
       "                 new LDAvis(\"#\" + \"ldavis_el7446825437361918805158004951\", ldavis_el7446825437361918805158004951_data);\n",
       "            })\n",
       "         });\n",
       "}\n",
       "</script>"
      ],
      "text/plain": [
       "PreparedData(topic_coordinates=              x         y  topics  cluster       Freq\n",
       "topic                                                \n",
       "9     -0.129832  0.007440       1        1  14.874755\n",
       "7      0.069423 -0.039917       2        1  13.575792\n",
       "1     -0.055651 -0.038837       3        1  12.670988\n",
       "6     -0.019591 -0.123401       4        1  10.868231\n",
       "3     -0.155420 -0.100906       5        1  10.552825\n",
       "5      0.155709 -0.075323       6        1   9.518544\n",
       "8      0.254178  0.041570       7        1   9.082863\n",
       "0     -0.020491  0.035552       8        1   7.519159\n",
       "4     -0.044769  0.125432       9        1   6.056515\n",
       "2     -0.053557  0.168388      10        1   5.280324, topic_info=        Term         Freq        Total Category  logprob  loglift\n",
       "792    loves  1804.000000  1804.000000  Default  30.0000  30.0000\n",
       "61      easy  2149.000000  2149.000000  Default  29.0000  29.0000\n",
       "760   kindle  2352.000000  2352.000000  Default  28.0000  28.0000\n",
       "1      great  4863.000000  4863.000000  Default  27.0000  27.0000\n",
       "688     gift   813.000000   813.000000  Default  26.0000  26.0000\n",
       "..       ...          ...          ...      ...      ...      ...\n",
       "90   product    61.640450  1134.130859  Topic10  -5.0248   0.0289\n",
       "105     year    61.956802  1370.045776  Topic10  -5.0197  -0.1550\n",
       "149   device    54.095901   793.163269  Topic10  -5.1554   0.2559\n",
       "192     best    53.500286   901.346863  Topic10  -5.1665   0.1170\n",
       "118      got    52.388134   843.394531  Topic10  -5.1875   0.1624\n",
       "\n",
       "[776 rows x 6 columns], token_table=      Topic      Freq        Term\n",
       "term                             \n",
       "2521      2  0.946401         abc\n",
       "881       1  0.018091  absolutely\n",
       "881       3  0.031660  absolutely\n",
       "881       4  0.004523  absolutely\n",
       "881       5  0.031660  absolutely\n",
       "...     ...       ...         ...\n",
       "1182      4  0.028108          yr\n",
       "1182      6  0.709724          yr\n",
       "1182      8  0.010540          yr\n",
       "1182      9  0.021081          yr\n",
       "450      10  0.783960     zippers\n",
       "\n",
       "[2413 rows x 3 columns], R=30, lambda_step=0.01, plot_opts={'xlab': 'PC1', 'ylab': 'PC2'}, topic_order=[10, 8, 2, 7, 4, 6, 9, 1, 5, 3])"
      ]
     },
     "execution_count": 47,
     "metadata": {},
     "output_type": "execute_result"
    }
   ],
   "source": [
    "pyLDAvis.gensim.prepare(lda, corpus, id2word)"
   ]
  },
  {
   "cell_type": "markdown",
   "metadata": {},
   "source": [
    "### Selecting number of topics\n",
    "\n",
    "Runs LDA multiple times"
   ]
  },
  {
   "cell_type": "code",
   "execution_count": 67,
   "metadata": {},
   "outputs": [],
   "source": [
    "from gensim.models.coherencemodel import CoherenceModel\n",
    "\n",
    "def compute_coherence_values(dictionary, corpus, limit, start=2, step=3, passes=5):\n",
    "    \"\"\"\n",
    "    Compute c_v coherence for various number of topics\n",
    "\n",
    "    Parameters:\n",
    "    ----------\n",
    "    dictionary : Gensim dictionary\n",
    "    corpus : Gensim corpus\n",
    "    limit : Max num of topics\n",
    "    passes: the number of times the entire lda model & coherence values are calculated\n",
    "\n",
    "    Returns:\n",
    "    -------\n",
    "    coherence_values : Coherence values corresponding to the LDA model with respective number of topics\n",
    "    \"\"\"\n",
    "    \n",
    "    coherence_values = []\n",
    "    \n",
    "    for iter_ in range(passes):\n",
    "        for num_topics in range(start, limit, step):\n",
    "            model = LdaMulticore(corpus=corpus, num_topics=num_topics, id2word=dictionary, workers=5)\n",
    "            coherencemodel = CoherenceModel(model=model,dictionary=dictionary,corpus=corpus, coherence='u_mass')\n",
    "            coherence_values.append({'pass': iter_, \n",
    "                                     'num_topics': num_topics, \n",
    "                                     'coherence_score': coherencemodel.get_coherence()\n",
    "                                    })\n",
    "\n",
    "    return coherence_values"
   ]
  },
  {
   "cell_type": "code",
   "execution_count": 68,
   "metadata": {},
   "outputs": [
    {
     "name": "stdout",
     "output_type": "stream",
     "text": [
      "Wall time: 15min\n"
     ]
    }
   ],
   "source": [
    "%%time\n",
    "# Can take a long time to run.\n",
    "coherence_values = compute_coherence_values(dictionary=id2word, \n",
    "                                            corpus=corpus,\n",
    "                                            start=2, \n",
    "                                            limit=20, \n",
    "                                            step=1,\n",
    "                                            passes=10)"
   ]
  },
  {
   "cell_type": "code",
   "execution_count": 69,
   "metadata": {},
   "outputs": [
    {
     "data": {
      "text/html": [
       "<div>\n",
       "<style scoped>\n",
       "    .dataframe tbody tr th:only-of-type {\n",
       "        vertical-align: middle;\n",
       "    }\n",
       "\n",
       "    .dataframe tbody tr th {\n",
       "        vertical-align: top;\n",
       "    }\n",
       "\n",
       "    .dataframe thead th {\n",
       "        text-align: right;\n",
       "    }\n",
       "</style>\n",
       "<table border=\"1\" class=\"dataframe\">\n",
       "  <thead>\n",
       "    <tr style=\"text-align: right;\">\n",
       "      <th></th>\n",
       "      <th>pass</th>\n",
       "      <th>num_topics</th>\n",
       "      <th>coherence_score</th>\n",
       "    </tr>\n",
       "  </thead>\n",
       "  <tbody>\n",
       "    <tr>\n",
       "      <th>0</th>\n",
       "      <td>0</td>\n",
       "      <td>2</td>\n",
       "      <td>-2.219304</td>\n",
       "    </tr>\n",
       "    <tr>\n",
       "      <th>1</th>\n",
       "      <td>0</td>\n",
       "      <td>3</td>\n",
       "      <td>-2.272762</td>\n",
       "    </tr>\n",
       "    <tr>\n",
       "      <th>2</th>\n",
       "      <td>0</td>\n",
       "      <td>4</td>\n",
       "      <td>-2.268592</td>\n",
       "    </tr>\n",
       "    <tr>\n",
       "      <th>3</th>\n",
       "      <td>0</td>\n",
       "      <td>5</td>\n",
       "      <td>-2.269893</td>\n",
       "    </tr>\n",
       "    <tr>\n",
       "      <th>4</th>\n",
       "      <td>0</td>\n",
       "      <td>6</td>\n",
       "      <td>-2.296123</td>\n",
       "    </tr>\n",
       "  </tbody>\n",
       "</table>\n",
       "</div>"
      ],
      "text/plain": [
       "   pass  num_topics  coherence_score\n",
       "0     0           2        -2.219304\n",
       "1     0           3        -2.272762\n",
       "2     0           4        -2.268592\n",
       "3     0           5        -2.269893\n",
       "4     0           6        -2.296123"
      ]
     },
     "execution_count": 69,
     "metadata": {},
     "output_type": "execute_result"
    }
   ],
   "source": [
    "topic_coherence = pd.DataFrame.from_records(coherence_values)\n",
    "topic_coherence.head()"
   ]
  },
  {
   "cell_type": "code",
   "execution_count": 70,
   "metadata": {},
   "outputs": [
    {
     "data": {
      "image/png": "[encoded data removed]",
      "text/plain": [
       "<Figure size 432x288 with 1 Axes>"
      ]
     },
     "metadata": {
      "needs_background": "light"
     },
     "output_type": "display_data"
    }
   ],
   "source": [
    "import seaborn as sns\n",
    "\n",
    "ax = sns.lineplot(x=\"num_topics\", y=\"coherence_score\", data=topic_coherence)"
   ]
  },
  {
   "cell_type": "code",
   "execution_count": 71,
   "metadata": {},
   "outputs": [
    {
     "data": {
      "text/html": [
       "<div>\n",
       "<style scoped>\n",
       "    .dataframe tbody tr th:only-of-type {\n",
       "        vertical-align: middle;\n",
       "    }\n",
       "\n",
       "    .dataframe tbody tr th {\n",
       "        vertical-align: top;\n",
       "    }\n",
       "\n",
       "    .dataframe thead th {\n",
       "        text-align: right;\n",
       "    }\n",
       "</style>\n",
       "<table border=\"1\" class=\"dataframe\">\n",
       "  <thead>\n",
       "    <tr style=\"text-align: right;\">\n",
       "      <th></th>\n",
       "      <th>pass</th>\n",
       "      <th>coherence_score</th>\n",
       "    </tr>\n",
       "    <tr>\n",
       "      <th>num_topics</th>\n",
       "      <th></th>\n",
       "      <th></th>\n",
       "    </tr>\n",
       "  </thead>\n",
       "  <tbody>\n",
       "    <tr>\n",
       "      <th>2</th>\n",
       "      <td>4.5</td>\n",
       "      <td>-2.268397</td>\n",
       "    </tr>\n",
       "    <tr>\n",
       "      <th>3</th>\n",
       "      <td>4.5</td>\n",
       "      <td>-2.285859</td>\n",
       "    </tr>\n",
       "    <tr>\n",
       "      <th>4</th>\n",
       "      <td>4.5</td>\n",
       "      <td>-2.309502</td>\n",
       "    </tr>\n",
       "    <tr>\n",
       "      <th>5</th>\n",
       "      <td>4.5</td>\n",
       "      <td>-2.325238</td>\n",
       "    </tr>\n",
       "    <tr>\n",
       "      <th>6</th>\n",
       "      <td>4.5</td>\n",
       "      <td>-2.326244</td>\n",
       "    </tr>\n",
       "    <tr>\n",
       "      <th>7</th>\n",
       "      <td>4.5</td>\n",
       "      <td>-2.342035</td>\n",
       "    </tr>\n",
       "    <tr>\n",
       "      <th>8</th>\n",
       "      <td>4.5</td>\n",
       "      <td>-2.345717</td>\n",
       "    </tr>\n",
       "    <tr>\n",
       "      <th>9</th>\n",
       "      <td>4.5</td>\n",
       "      <td>-2.346309</td>\n",
       "    </tr>\n",
       "    <tr>\n",
       "      <th>10</th>\n",
       "      <td>4.5</td>\n",
       "      <td>-2.334997</td>\n",
       "    </tr>\n",
       "    <tr>\n",
       "      <th>11</th>\n",
       "      <td>4.5</td>\n",
       "      <td>-2.365326</td>\n",
       "    </tr>\n",
       "    <tr>\n",
       "      <th>12</th>\n",
       "      <td>4.5</td>\n",
       "      <td>-2.347910</td>\n",
       "    </tr>\n",
       "    <tr>\n",
       "      <th>13</th>\n",
       "      <td>4.5</td>\n",
       "      <td>-2.361568</td>\n",
       "    </tr>\n",
       "    <tr>\n",
       "      <th>14</th>\n",
       "      <td>4.5</td>\n",
       "      <td>-2.352086</td>\n",
       "    </tr>\n",
       "    <tr>\n",
       "      <th>15</th>\n",
       "      <td>4.5</td>\n",
       "      <td>-2.360771</td>\n",
       "    </tr>\n",
       "    <tr>\n",
       "      <th>16</th>\n",
       "      <td>4.5</td>\n",
       "      <td>-2.355798</td>\n",
       "    </tr>\n",
       "    <tr>\n",
       "      <th>17</th>\n",
       "      <td>4.5</td>\n",
       "      <td>-2.364312</td>\n",
       "    </tr>\n",
       "    <tr>\n",
       "      <th>18</th>\n",
       "      <td>4.5</td>\n",
       "      <td>-2.365767</td>\n",
       "    </tr>\n",
       "    <tr>\n",
       "      <th>19</th>\n",
       "      <td>4.5</td>\n",
       "      <td>-2.346903</td>\n",
       "    </tr>\n",
       "  </tbody>\n",
       "</table>\n",
       "</div>"
      ],
      "text/plain": [
       "            pass  coherence_score\n",
       "num_topics                       \n",
       "2            4.5        -2.268397\n",
       "3            4.5        -2.285859\n",
       "4            4.5        -2.309502\n",
       "5            4.5        -2.325238\n",
       "6            4.5        -2.326244\n",
       "7            4.5        -2.342035\n",
       "8            4.5        -2.345717\n",
       "9            4.5        -2.346309\n",
       "10           4.5        -2.334997\n",
       "11           4.5        -2.365326\n",
       "12           4.5        -2.347910\n",
       "13           4.5        -2.361568\n",
       "14           4.5        -2.352086\n",
       "15           4.5        -2.360771\n",
       "16           4.5        -2.355798\n",
       "17           4.5        -2.364312\n",
       "18           4.5        -2.365767\n",
       "19           4.5        -2.346903"
      ]
     },
     "execution_count": 71,
     "metadata": {},
     "output_type": "execute_result"
    }
   ],
   "source": [
    "# Print the average coherence scores for each num_topics\n",
    "topic_coherence.groupby('num_topics').mean()"
   ]
  },
  {
   "cell_type": "markdown",
   "metadata": {},
   "source": [
    "### Run LDA once again with the chosen number of topics\n",
    "\n",
    "All of the coherence scores are between 2.26 and 2.36, I'm not sure how much variation that actually is.\n",
    "\n",
    "I'm going to run it with 5 topics so I have a bit of variation in later analysis."
   ]
  },
  {
   "cell_type": "code",
   "execution_count": 73,
   "metadata": {},
   "outputs": [],
   "source": [
    "lda = LdaMulticore(corpus=corpus,\n",
    "                   id2word=id2word,\n",
    "                   random_state=42,\n",
    "                   num_topics = 5,\n",
    "                   passes=50,\n",
    "                   workers=5)"
   ]
  },
  {
   "cell_type": "code",
   "execution_count": 121,
   "metadata": {},
   "outputs": [
    {
     "name": "stdout",
     "output_type": "stream",
     "text": [
      "------ Topic 0 ------\n",
      "loves tablet kids old year bought games love great use\n",
      "\n",
      "------ Topic 1 ------\n",
      "kindle books reading read love use screen new great bought\n",
      "\n",
      "------ Topic 2 ------\n",
      "tablet price great ipad amazon good best bought buy tablets\n",
      "\n",
      "------ Topic 3 ------\n",
      "amazon apps screen tablet great use like device google store\n",
      "\n",
      "------ Topic 4 ------\n",
      "great tablet good product use gift easy price recommend buy\n",
      "\n"
     ]
    }
   ],
   "source": [
    "words = [re.findall(r'\"([^\"]*)\"',t[1]) for t in lda.print_topics()]\n",
    "topics = [' '.join(t[0:10]) for t in words]\n",
    "for id, t in enumerate(topics): \n",
    "    print(f\"------ Topic {id} ------\")\n",
    "    print(t, end=\"\\n\\n\")"
   ]
  },
  {
   "cell_type": "code",
   "execution_count": 75,
   "metadata": {},
   "outputs": [
    {
     "data": {
      "text/html": [
       "\n",
       "<link rel=\"stylesheet\" type=\"text/css\" href=\"https://cdn.rawgit.com/bmabey/pyLDAvis/files/ldavis.v1.0.0.css\">\n",
       "\n",
       "\n",
       "<div id=\"ldavis_el74468254374892634467053244\"></div>\n",
       "<script type=\"text/javascript\">\n",
       "\n",
       "var ldavis_el74468254374892634467053244_data = {\"mdsDat\": {\"x\": [-0.2311651598618406, -0.031794285993370745, 0.12152979476200275, 0.15776431693060372, -0.016334665837395217], \"y\": [0.0158548871305911, -0.15764495968846062, -0.132158205798404, 0.1102183452756352, 0.16372993308063843], \"topics\": [1, 2, 3, 4, 5], \"cluster\": [1, 1, 1, 1, 1], \"Freq\": [22.74728012084961, 21.314374923706055, 21.268125534057617, 18.018583297729492, 16.651641845703125]}, \"tinfo\": {\"Term\": [\"kindle\", \"loves\", \"product\", \"price\", \"year\", \"old\", \"gift\", \"reading\", \"kids\", \"read\", \"great\", \"books\", \"good\", \"games\", \"tablet\", \"daughter\", \"ipad\", \"easy\", \"google\", \"screen\", \"son\", \"amazon\", \"love\", \"use\", \"apps\", \"music\", \"recommend\", \"bought\", \"reader\", \"buy\", \"daughter\", \"grandson\", \"parental\", \"granddaughter\", \"yr\", \"controls\", \"educational\", \"age\", \"year\", \"loves\", \"niece\", \"grand\", \"appropriate\", \"entertained\", \"kid\", \"parent\", \"drops\", \"bumper\", \"busy\", \"limit\", \"grandchildren\", \"protected\", \"daughters\", \"proof\", \"profiles\", \"boys\", \"activities\", \"homework\", \"freetime\", \"yo\", \"learning\", \"durable\", \"child\", \"old\", \"kids\", \"son\", \"birthday\", \"games\", \"plays\", \"keeps\", \"set\", \"warranty\", \"case\", \"bought\", \"love\", \"christmas\", \"tablet\", \"children\", \"time\", \"play\", \"easy\", \"apps\", \"use\", \"great\", \"got\", \"purchased\", \"perfect\", \"read\", \"reading\", \"kindle\", \"bigger\", \"reader\", \"original\", \"nook\", \"upgrade\", \"paperwhite\", \"generation\", \"book\", \"upgraded\", \"lighter\", \"improvement\", \"newer\", \"checking\", \"voyage\", \"processing\", \"improved\", \"paper\", \"backlight\", \"ordering\", \"fires\", \"replacing\", \"transfer\", \"ebook\", \"face\", \"sunlight\", \"breeze\", \"impossible\", \"previous\", \"enjoyed\", \"longer\", \"larger\", \"model\", \"library\", \"eyes\", \"wife\", \"books\", \"easier\", \"email\", \"ebooks\", \"new\", \"hd\", \"faster\", \"surfing\", \"older\", \"web\", \"better\", \"light\", \"internet\", \"screen\", \"love\", \"version\", \"use\", \"like\", \"bought\", \"easy\", \"size\", \"games\", \"great\", \"battery\", \"tablet\", \"life\", \"old\", \"movies\", \"wanted\", \"amazon\", \"google\", \"sound\", \"alexa\", \"tap\", \"home\", \"echo\", \"speaker\", \"picture\", \"turn\", \"button\", \"bluetooth\", \"install\", \"hand\", \"connect\", \"annoying\", \"listening\", \"voice\", \"purse\", \"crisp\", \"hands\", \"open\", \"dot\", \"downside\", \"menu\", \"press\", \"os\", \"talk\", \"magazine\", \"weather\", \"automatically\", \"music\", \"keyboard\", \"portable\", \"app\", \"wifi\", \"touch\", \"android\", \"small\", \"store\", \"account\", \"prime\", \"amazon\", \"device\", \"apps\", \"screen\", \"play\", \"like\", \"size\", \"little\", \"use\", \"great\", \"tablet\", \"good\", \"nice\", \"access\", \"movies\", \"easy\", \"love\", \"card\", \"gb\", \"friday\", \"beat\", \"basic\", \"sd\", \"black\", \"cost\", \"alternative\", \"expensive\", \"special\", \"place\", \"pro\", \"\\u00e4\\u00f4t\", \"rough\", \"slot\", \"reasonable\", \"happier\", \"lag\", \"pass\", \"bucks\", \"credit\", \"backpack\", \"sites\", \"deal\", \"sold\", \"exchange\", \"meets\", \"internal\", \"standard\", \"needs\", \"memory\", \"micro\", \"sale\", \"plan\", \"ipad\", \"mini\", \"low\", \"budget\", \"laptop\", \"price\", \"worth\", \"extra\", \"inexpensive\", \"money\", \"cheap\", \"best\", \"need\", \"wrong\", \"tablet\", \"ones\", \"tablets\", \"buy\", \"amazon\", \"good\", \"better\", \"great\", \"bought\", \"looking\", \"got\", \"little\", \"apps\", \"hd\", \"nice\", \"product\", \"tech\", \"law\", \"friend\", \"customer\", \"beginner\", \"cord\", \"gift\", \"savvy\", \"rear\", \"youngest\", \"receive\", \"described\", \"restart\", \"granddaughters\", \"calls\", \"lap\", \"visuals\", \"senior\", \"failed\", \"teach\", \"delivered\", \"savy\", \"dead\", \"instruction\", \"pen\", \"substitute\", \"randomly\", \"sitting\", \"usual\", \"highly\", \"service\", \"recommended\", \"gave\", \"holidays\", \"port\", \"charging\", \"thoroughly\", \"hardware\", \"family\", \"recommend\", \"thanks\", \"social\", \"person\", \"good\", \"great\", \"mother\", \"complaints\", \"multiple\", \"fast\", \"affordable\", \"price\", \"buy\", \"easy\", \"use\", \"camera\", \"quality\", \"happy\", \"works\", \"tablet\", \"purchase\", \"christmas\", \"overall\", \"battery\", \"item\", \"nice\", \"value\", \"best\", \"purchased\", \"love\", \"bought\", \"size\", \"kids\", \"perfect\", \"features\", \"amazon\"], \"Freq\": [2343.0, 1631.0, 1108.0, 1973.0, 1231.0, 1612.0, 883.0, 962.0, 1710.0, 911.0, 4877.0, 1249.0, 2387.0, 1381.0, 5964.0, 688.0, 736.0, 2296.0, 484.0, 1456.0, 690.0, 2233.0, 2453.0, 3051.0, 1599.0, 440.0, 712.0, 2230.0, 370.0, 938.0, 687.5482177734375, 359.2382507324219, 322.4999694824219, 285.1628723144531, 249.60061645507812, 230.4022216796875, 172.20962524414062, 163.457275390625, 1225.4664306640625, 1621.5706787109375, 127.26314544677734, 111.13079071044922, 86.21432495117188, 83.46672821044922, 342.8426208496094, 60.282718658447266, 59.206417083740234, 53.95638656616211, 52.7451171875, 74.03387451171875, 49.55326843261719, 38.68040466308594, 37.66804504394531, 35.843711853027344, 35.90292739868164, 35.196170806884766, 34.68780517578125, 33.162742614746094, 64.59517669677734, 30.821725845336914, 302.6829528808594, 223.38377380371094, 333.1165771484375, 1347.507568359375, 1385.5704345703125, 584.833984375, 125.8730697631836, 1032.4154052734375, 106.84553527832031, 145.01556396484375, 420.9186096191406, 172.21664428710938, 347.42022705078125, 1066.4000244140625, 1006.9000244140625, 373.46875, 1611.3509521484375, 209.47337341308594, 450.8506774902344, 450.7909851074219, 770.8402099609375, 561.8914184570312, 817.284423828125, 1002.1204833984375, 354.4503173828125, 334.4119873046875, 291.0850830078125, 910.3614501953125, 959.7894897460938, 2334.68310546875, 158.61337280273438, 368.59136962890625, 129.07180786132812, 94.59539031982422, 181.24090576171875, 97.61595153808594, 85.1813735961914, 249.5869140625, 80.1439437866211, 60.206756591796875, 56.295623779296875, 48.027523040771484, 47.94414520263672, 123.07508850097656, 33.272056579589844, 32.38025665283203, 40.50221252441406, 25.52080726623535, 25.590496063232422, 25.13536262512207, 24.332090377807617, 24.318456649780273, 23.088773727416992, 24.35356903076172, 21.952009201049805, 21.04917335510254, 20.45173454284668, 148.7220001220703, 105.5601577758789, 117.90071105957031, 140.2113494873047, 162.84954833984375, 131.580322265625, 73.04281616210938, 350.8645324707031, 1033.96923828125, 198.70310974121094, 144.99107360839844, 73.83800506591797, 507.81182861328125, 455.3976745605469, 155.4259490966797, 110.63410949707031, 181.20248413085938, 190.18704223632812, 417.73040771484375, 255.01377868652344, 268.6476745605469, 601.8563232421875, 839.1475219726562, 176.82333374023438, 661.981689453125, 420.6728515625, 479.8758239746094, 465.9991455078125, 274.01348876953125, 321.2275085449219, 497.8936462402344, 242.27940368652344, 459.03076171875, 197.76641845703125, 263.90997314453125, 207.6818084716797, 192.99754333496094, 203.61813354492188, 483.97308349609375, 326.7088317871094, 285.5528259277344, 213.54281616210938, 217.18539428710938, 206.32945251464844, 189.18275451660156, 229.66856384277344, 140.6642303466797, 122.78422546386719, 108.89747619628906, 103.9340591430664, 104.57628631591797, 78.24166870117188, 70.8668441772461, 70.06023406982422, 66.12472534179688, 66.97189331054688, 57.93612289428711, 106.4427490234375, 58.26123046875, 44.28441619873047, 43.15480422973633, 39.54050827026367, 38.94361114501953, 89.1357650756836, 36.55677032470703, 35.53889083862305, 34.81658172607422, 34.29985809326172, 425.3617248535156, 125.37263488769531, 148.26065063476562, 398.75531005859375, 210.55831909179688, 127.00414276123047, 254.6002960205078, 252.2554473876953, 433.3589172363281, 159.0932159423828, 291.5035095214844, 1126.160400390625, 491.5628662109375, 759.9271240234375, 699.3511962890625, 426.220458984375, 527.8948364257812, 310.2631530761719, 267.2510986328125, 548.324951171875, 630.00439453125, 657.5447387695312, 428.06060791015625, 242.8667449951172, 190.40866088867188, 201.17227172851562, 264.6658630371094, 222.5489501953125, 270.0611267089844, 265.4930114746094, 225.0202178955078, 210.1580810546875, 186.325439453125, 173.67465209960938, 267.71099853515625, 139.3345947265625, 63.09959411621094, 166.81553649902344, 51.08708572387695, 49.52653121948242, 49.10627365112305, 47.429508209228516, 39.848358154296875, 40.93870544433594, 50.18914794921875, 35.76795959472656, 37.003700256347656, 33.82921600341797, 31.86787986755371, 30.600584030151367, 29.4268798828125, 29.34732437133789, 228.8880157470703, 28.650524139404297, 27.965415954589844, 34.282371520996094, 27.481746673583984, 26.966094970703125, 263.43359375, 281.6221618652344, 66.0990982055664, 195.9173126220703, 54.83698654174805, 600.8324584960938, 101.76036834716797, 165.02911376953125, 59.32535171508789, 150.65065002441406, 1125.2158203125, 183.91592407226562, 112.97457122802734, 108.59858703613281, 229.09922790527344, 130.08030700683594, 459.96063232421875, 292.4472961425781, 84.61678314208984, 1799.24951171875, 91.59223937988281, 304.6292419433594, 358.41497802734375, 595.2373046875, 575.7400512695312, 291.4781494140625, 692.810791015625, 364.1489562988281, 168.00289916992188, 226.6559600830078, 197.3936309814453, 220.33770751953125, 182.4847412109375, 171.22801208496094, 1101.0645751953125, 99.7894287109375, 83.03417205810547, 89.15350341796875, 60.0732307434082, 56.61528778076172, 51.401546478271484, 868.0831298828125, 43.770652770996094, 28.816932678222656, 28.120222091674805, 22.61408042907715, 22.635061264038086, 21.817899703979492, 20.72380256652832, 19.44297981262207, 17.711528778076172, 15.710355758666992, 13.239018440246582, 13.302932739257812, 13.133580207824707, 12.692782402038574, 12.613022804260254, 12.677778244018555, 12.605751037597656, 12.675506591796875, 12.601937294006348, 12.648963928222656, 12.212862014770508, 11.992127418518066, 189.4157257080078, 110.63795471191406, 79.51426696777344, 128.33157348632812, 25.025327682495117, 67.36666107177734, 147.4158172607422, 21.418787002563477, 17.66257667541504, 143.6051025390625, 505.9491271972656, 74.45569610595703, 43.181480407714844, 66.6731948852539, 1182.388671875, 2054.89013671875, 118.41466522216797, 57.05690383911133, 48.175262451171875, 246.6038055419922, 91.3083267211914, 765.645751953125, 415.5472412109375, 794.8807983398438, 954.9042358398438, 160.58184814453125, 272.65966796875, 248.4665069580078, 380.460205078125, 1437.551025390625, 231.34518432617188, 275.9573669433594, 158.72509765625, 266.86566162109375, 132.9715576171875, 272.3611755371094, 153.81072998046875, 258.44573974609375, 253.7989044189453, 362.5086364746094, 311.6589050292969, 211.9868621826172, 221.33761596679688, 172.4768524169922, 161.5829620361328, 161.37037658691406], \"Total\": [2343.0, 1631.0, 1108.0, 1973.0, 1231.0, 1612.0, 883.0, 962.0, 1710.0, 911.0, 4877.0, 1249.0, 2387.0, 1381.0, 5964.0, 688.0, 736.0, 2296.0, 484.0, 1456.0, 690.0, 2233.0, 2453.0, 3051.0, 1599.0, 440.0, 712.0, 2230.0, 370.0, 938.0, 688.3743286132812, 360.0621032714844, 323.32183837890625, 285.98712158203125, 250.42579650878906, 231.2265625, 173.03013610839844, 164.28097534179688, 1231.90625, 1631.045654296875, 128.0977783203125, 111.95275115966797, 87.03607940673828, 84.28829956054688, 346.6605529785156, 61.105857849121094, 60.088314056396484, 54.778900146484375, 53.56553268432617, 75.24726104736328, 50.43682861328125, 39.501861572265625, 38.49356460571289, 36.6645393371582, 36.74037170410156, 36.02360916137695, 35.512996673583984, 33.99074172973633, 66.22320556640625, 31.64556312561035, 317.34234619140625, 236.70291137695312, 356.5433349609375, 1612.2432861328125, 1710.2872314453125, 690.232421875, 140.1934051513672, 1381.70458984375, 119.21843719482422, 168.8185272216797, 576.5799560546875, 206.59054565429688, 542.8494873046875, 2230.19921875, 2453.3603515625, 671.5146484375, 5964.7265625, 311.954833984375, 949.7138671875, 983.533447265625, 2296.635986328125, 1599.8314208984375, 3051.31396484375, 4877.7197265625, 850.7733154296875, 926.2184448242188, 824.8285522460938, 911.3910522460938, 962.2103271484375, 2343.617919921875, 159.47764587402344, 370.73876953125, 130.1053466796875, 95.3924560546875, 182.93185424804688, 98.53860473632812, 85.99581909179688, 252.01651000976562, 80.94439697265625, 61.001495361328125, 57.09267044067383, 48.82753372192383, 48.745452880859375, 126.02086639404297, 34.07322692871094, 33.17835235595703, 41.64458084106445, 26.315893173217773, 26.396535873413086, 25.935903549194336, 25.1270694732666, 25.117286682128906, 23.8848934173584, 25.231172561645508, 22.747520446777344, 21.863677978515625, 21.265897750854492, 158.11541748046875, 111.63349914550781, 125.0117416381836, 149.83248901367188, 174.6532440185547, 141.572509765625, 77.97406005859375, 394.72613525390625, 1249.890869140625, 232.31944274902344, 170.6038360595703, 81.62187194824219, 684.6586303710938, 723.401611328125, 202.81918334960938, 134.7508087158203, 253.3282470703125, 279.9893493652344, 799.8489379882812, 416.31085205078125, 453.5535888671875, 1456.0953369140625, 2453.3603515625, 259.6702575683594, 3051.31396484375, 1415.0467529296875, 2230.19921875, 2296.635986328125, 796.9122924804688, 1381.70458984375, 4877.7197265625, 674.5413818359375, 5964.7265625, 431.1409912109375, 1612.2432861328125, 600.5466918945312, 422.63018798828125, 2233.3271484375, 484.90972900390625, 327.4974060058594, 286.3388671875, 214.32411193847656, 218.00067138671875, 207.11123657226562, 189.96546936035156, 230.94503784179688, 141.45944213867188, 123.56657409667969, 109.68177032470703, 104.72236633300781, 105.38195037841797, 79.029296875, 71.65719604492188, 70.84907531738281, 66.90625762939453, 67.76506042480469, 58.725040435791016, 108.00028991699219, 59.284000396728516, 45.06597900390625, 43.943763732910156, 40.32440948486328, 39.72639465332031, 90.95639038085938, 37.34766387939453, 36.324462890625, 35.600624084472656, 35.08403015136719, 440.0673522949219, 128.98886108398438, 160.6275177001953, 481.4986267089844, 245.30821228027344, 142.995361328125, 304.5848388671875, 318.11199951171875, 594.5458374023438, 198.07656860351562, 417.7850646972656, 2233.3271484375, 801.8777465820312, 1599.8314208984375, 1456.0953369140625, 983.533447265625, 1415.0467529296875, 796.9122924804688, 664.2423706054688, 3051.31396484375, 4877.7197265625, 5964.7265625, 2387.231689453125, 802.1820068359375, 368.7580261230469, 600.5466918945312, 2296.635986328125, 2453.3603515625, 270.875244140625, 266.3707580566406, 225.82955932617188, 210.9732208251953, 187.20184326171875, 174.5032501220703, 269.2592468261719, 140.28883361816406, 63.91322326660156, 169.04156494140625, 51.89098358154297, 50.339622497558594, 49.927494049072266, 48.23713684082031, 40.66489028930664, 41.77794647216797, 51.30068588256836, 36.57441711425781, 37.85021209716797, 34.6343879699707, 32.67270278930664, 31.40842056274414, 30.22942352294922, 30.157804489135742, 235.2340087890625, 29.45911407470703, 28.773359298706055, 35.27308654785156, 28.299846649169922, 27.775314331054688, 272.5865173339844, 295.2509765625, 69.61949920654297, 216.94432067871094, 58.10454177856445, 736.5225219726562, 113.11509704589844, 191.67787170410156, 64.36723327636719, 190.41360473632812, 1973.1453857421875, 248.6591033935547, 142.56591796875, 137.78262329101562, 354.3802185058594, 173.78306579589844, 916.2665405273438, 514.6520385742188, 101.87335205078125, 5964.7265625, 114.40225219726562, 631.2977905273438, 938.826171875, 2233.3271484375, 2387.231689453125, 799.8489379882812, 4877.7197265625, 2230.19921875, 359.6025085449219, 850.7733154296875, 664.2423706054688, 1599.8314208984375, 723.401611328125, 802.1820068359375, 1108.736572265625, 100.6650161743164, 83.84144592285156, 90.23431396484375, 60.88487243652344, 57.46215057373047, 52.21554946899414, 883.8419799804688, 44.579593658447266, 29.636962890625, 28.927080154418945, 23.43233871459961, 23.475337982177734, 22.634021759033203, 21.5330867767334, 20.257749557495117, 18.51810073852539, 16.5207462310791, 14.047457695007324, 14.11668586730957, 13.948820114135742, 13.499752044677734, 13.416315078735352, 13.485353469848633, 13.413130760192871, 13.495963096618652, 13.41859245300293, 13.47000789642334, 13.03410530090332, 12.799726486206055, 203.89065551757812, 119.28118896484375, 87.20138549804688, 146.14059448242188, 27.094667434692383, 76.85889434814453, 174.8828887939453, 23.350006103515625, 19.063243865966797, 182.20689392089844, 712.0020751953125, 90.46186828613281, 50.33976364135742, 82.36796569824219, 2387.231689453125, 4877.7197265625, 171.18841552734375, 72.54337310791016, 59.38258361816406, 433.9034423828125, 131.84950256347656, 1973.1453857421875, 938.826171875, 2296.635986328125, 3051.31396484375, 284.32122802734375, 576.4716796875, 512.2806396484375, 925.3919677734375, 5964.7265625, 509.2337951660156, 671.5146484375, 289.84423828125, 674.5413818359375, 226.88352966308594, 802.1820068359375, 297.60528564453125, 916.2665405273438, 926.2184448242188, 2453.3603515625, 2230.19921875, 796.9122924804688, 1710.2872314453125, 824.8285522460938, 483.14385986328125, 2233.3271484375], \"Category\": [\"Default\", \"Default\", \"Default\", \"Default\", \"Default\", \"Default\", \"Default\", \"Default\", \"Default\", \"Default\", \"Default\", \"Default\", \"Default\", \"Default\", \"Default\", \"Default\", \"Default\", \"Default\", \"Default\", \"Default\", \"Default\", \"Default\", \"Default\", \"Default\", \"Default\", \"Default\", \"Default\", \"Default\", \"Default\", \"Default\", \"Topic1\", \"Topic1\", \"Topic1\", \"Topic1\", \"Topic1\", \"Topic1\", \"Topic1\", \"Topic1\", \"Topic1\", \"Topic1\", \"Topic1\", \"Topic1\", \"Topic1\", \"Topic1\", \"Topic1\", \"Topic1\", \"Topic1\", \"Topic1\", \"Topic1\", \"Topic1\", \"Topic1\", \"Topic1\", \"Topic1\", \"Topic1\", \"Topic1\", \"Topic1\", \"Topic1\", \"Topic1\", \"Topic1\", \"Topic1\", \"Topic1\", \"Topic1\", \"Topic1\", \"Topic1\", \"Topic1\", \"Topic1\", \"Topic1\", \"Topic1\", \"Topic1\", \"Topic1\", \"Topic1\", \"Topic1\", \"Topic1\", \"Topic1\", \"Topic1\", \"Topic1\", \"Topic1\", \"Topic1\", \"Topic1\", \"Topic1\", \"Topic1\", \"Topic1\", \"Topic1\", \"Topic1\", \"Topic1\", \"Topic1\", \"Topic1\", \"Topic2\", \"Topic2\", \"Topic2\", \"Topic2\", \"Topic2\", \"Topic2\", \"Topic2\", \"Topic2\", \"Topic2\", \"Topic2\", \"Topic2\", \"Topic2\", \"Topic2\", \"Topic2\", \"Topic2\", \"Topic2\", \"Topic2\", \"Topic2\", \"Topic2\", \"Topic2\", \"Topic2\", \"Topic2\", \"Topic2\", \"Topic2\", \"Topic2\", \"Topic2\", \"Topic2\", \"Topic2\", \"Topic2\", \"Topic2\", \"Topic2\", \"Topic2\", \"Topic2\", \"Topic2\", \"Topic2\", \"Topic2\", \"Topic2\", \"Topic2\", \"Topic2\", \"Topic2\", \"Topic2\", \"Topic2\", \"Topic2\", \"Topic2\", \"Topic2\", \"Topic2\", \"Topic2\", \"Topic2\", \"Topic2\", \"Topic2\", \"Topic2\", \"Topic2\", \"Topic2\", \"Topic2\", \"Topic2\", \"Topic2\", \"Topic2\", \"Topic2\", \"Topic2\", \"Topic2\", \"Topic2\", \"Topic2\", \"Topic2\", \"Topic2\", \"Topic2\", \"Topic2\", \"Topic2\", \"Topic2\", \"Topic3\", \"Topic3\", \"Topic3\", \"Topic3\", \"Topic3\", \"Topic3\", \"Topic3\", \"Topic3\", \"Topic3\", \"Topic3\", \"Topic3\", \"Topic3\", \"Topic3\", \"Topic3\", \"Topic3\", \"Topic3\", \"Topic3\", \"Topic3\", \"Topic3\", \"Topic3\", \"Topic3\", \"Topic3\", \"Topic3\", \"Topic3\", \"Topic3\", \"Topic3\", \"Topic3\", \"Topic3\", \"Topic3\", \"Topic3\", \"Topic3\", \"Topic3\", \"Topic3\", \"Topic3\", \"Topic3\", \"Topic3\", \"Topic3\", \"Topic3\", \"Topic3\", \"Topic3\", \"Topic3\", \"Topic3\", \"Topic3\", \"Topic3\", \"Topic3\", \"Topic3\", \"Topic3\", \"Topic3\", \"Topic3\", \"Topic3\", \"Topic3\", \"Topic3\", \"Topic3\", \"Topic3\", \"Topic3\", \"Topic3\", \"Topic3\", \"Topic3\", \"Topic4\", \"Topic4\", \"Topic4\", \"Topic4\", \"Topic4\", \"Topic4\", \"Topic4\", \"Topic4\", \"Topic4\", \"Topic4\", \"Topic4\", \"Topic4\", \"Topic4\", \"Topic4\", \"Topic4\", \"Topic4\", \"Topic4\", \"Topic4\", \"Topic4\", \"Topic4\", \"Topic4\", \"Topic4\", \"Topic4\", \"Topic4\", \"Topic4\", \"Topic4\", \"Topic4\", \"Topic4\", \"Topic4\", \"Topic4\", \"Topic4\", \"Topic4\", \"Topic4\", \"Topic4\", \"Topic4\", \"Topic4\", \"Topic4\", \"Topic4\", \"Topic4\", \"Topic4\", \"Topic4\", \"Topic4\", \"Topic4\", \"Topic4\", \"Topic4\", \"Topic4\", \"Topic4\", \"Topic4\", \"Topic4\", \"Topic4\", \"Topic4\", \"Topic4\", \"Topic4\", \"Topic4\", \"Topic4\", \"Topic4\", \"Topic4\", \"Topic4\", \"Topic4\", \"Topic4\", \"Topic4\", \"Topic4\", \"Topic4\", \"Topic4\", \"Topic5\", \"Topic5\", \"Topic5\", \"Topic5\", \"Topic5\", \"Topic5\", \"Topic5\", \"Topic5\", \"Topic5\", \"Topic5\", \"Topic5\", \"Topic5\", \"Topic5\", \"Topic5\", \"Topic5\", \"Topic5\", \"Topic5\", \"Topic5\", \"Topic5\", \"Topic5\", \"Topic5\", \"Topic5\", \"Topic5\", \"Topic5\", \"Topic5\", \"Topic5\", \"Topic5\", \"Topic5\", \"Topic5\", \"Topic5\", \"Topic5\", \"Topic5\", \"Topic5\", \"Topic5\", \"Topic5\", \"Topic5\", \"Topic5\", \"Topic5\", \"Topic5\", \"Topic5\", \"Topic5\", \"Topic5\", \"Topic5\", \"Topic5\", \"Topic5\", \"Topic5\", \"Topic5\", \"Topic5\", \"Topic5\", \"Topic5\", \"Topic5\", \"Topic5\", \"Topic5\", \"Topic5\", \"Topic5\", \"Topic5\", \"Topic5\", \"Topic5\", \"Topic5\", \"Topic5\", \"Topic5\", \"Topic5\", \"Topic5\", \"Topic5\", \"Topic5\", \"Topic5\", \"Topic5\", \"Topic5\", \"Topic5\", \"Topic5\", \"Topic5\", \"Topic5\", \"Topic5\", \"Topic5\", \"Topic5\", \"Topic5\"], \"logprob\": [30.0, 29.0, 28.0, 27.0, 26.0, 25.0, 24.0, 23.0, 22.0, 21.0, 20.0, 19.0, 18.0, 17.0, 16.0, 15.0, 14.0, 13.0, 12.0, 11.0, 10.0, 9.0, 8.0, 7.0, 6.0, 5.0, 4.0, 3.0, 2.0, 1.0, -4.073500156402588, -4.722599983215332, -4.83050012588501, -4.953499794006348, -5.086699962615967, -5.166800022125244, -5.457900047302246, -5.510000228881836, -3.495500087738037, -3.215399980545044, -5.760300159454346, -5.895899772644043, -6.149799823760986, -6.18209981918335, -4.7692999839782715, -6.507500171661377, -6.525599956512451, -6.6184000968933105, -6.64109992980957, -6.30210018157959, -6.703499794006348, -6.951300144195557, -6.977799892425537, -7.027400016784668, -7.0258002281188965, -7.0457000732421875, -7.060200214385986, -7.105199813842773, -6.438499927520752, -7.178400039672852, -4.893899917602539, -5.197700023651123, -4.798099994659424, -3.400599956512451, -3.3726999759674072, -4.235300064086914, -5.771299839019775, -3.6668999195098877, -5.935200214385986, -5.629799842834473, -4.564199924468994, -5.457799911499023, -4.756100177764893, -3.634500026702881, -3.691999912261963, -4.683800220489502, -3.2218000888824463, -5.26200008392334, -4.495500087738037, -4.49560022354126, -3.9591000080108643, -4.275300025939941, -3.900599956512451, -3.696700096130371, -4.736000061035156, -4.7941999435424805, -4.933000087738037, -3.7276999950408936, -3.674799919128418, -2.785900115966797, -5.475100040435791, -4.631800174713135, -5.68120002746582, -5.9918999671936035, -5.341700077056885, -5.9604997634887695, -6.096700191497803, -5.021699905395508, -6.157700061798096, -6.443699836730957, -6.510900020599365, -6.6697998046875, -6.671500205993652, -5.728700160980225, -7.036799907684326, -7.064000129699707, -6.840199947357178, -7.302000045776367, -7.299300193786621, -7.317299842834473, -7.349699974060059, -7.350299835205078, -7.402200222015381, -7.348800182342529, -7.452700138092041, -7.494699954986572, -7.523499965667725, -5.539400100708008, -5.882199764251709, -5.771699905395508, -5.598400115966797, -5.448699951171875, -5.661900043487549, -6.250500202178955, -4.681099891662598, -3.600399971008301, -5.24970006942749, -5.564899921417236, -6.239699840545654, -4.311399936676025, -4.420400142669678, -5.4953999519348145, -5.835299968719482, -5.341899871826172, -5.293499946594238, -4.506700038909912, -5.000199794769287, -4.9481000900268555, -4.141499996185303, -3.8090999126434326, -5.366399765014648, -4.046299934387207, -4.49970006942749, -4.368000030517578, -4.397299766540527, -4.928400039672852, -4.769400119781494, -4.331099987030029, -5.051400184631348, -4.412399768829346, -5.25439977645874, -4.96589994430542, -5.20550012588501, -5.278800010681152, -5.225299835205078, -4.3572998046875, -4.75029993057251, -4.884900093078613, -5.17549991607666, -5.158599853515625, -5.20989990234375, -5.296599864959717, -5.102700233459473, -5.5929999351501465, -5.728899955749512, -5.848899841308594, -5.895599842071533, -5.889400005340576, -6.179599761962891, -6.278600215911865, -6.289999961853027, -6.347799777984619, -6.335100173950195, -6.480000019073486, -5.871699810028076, -6.474400043487549, -6.748700141906738, -6.774600028991699, -6.861999988555908, -6.877200126647949, -6.049200057983398, -6.940499782562256, -6.968699932098389, -6.989299774169922, -7.004199981689453, -4.486400127410889, -5.708099842071533, -5.54040002822876, -4.551000118255615, -5.189599990844727, -5.695099830627441, -4.99970006942749, -5.008900165557861, -4.467800140380859, -5.469900131225586, -4.864299774169922, -3.5127999782562256, -4.341800212860107, -3.906100034713745, -3.9892001152038574, -4.484399795532227, -4.270500183105469, -4.8018999099731445, -4.951200008392334, -4.232500076293945, -4.093599796295166, -4.05079984664917, -4.480100154876709, -5.046800136566162, -5.290200233459473, -5.235199928283691, -4.960899829864502, -5.134200096130371, -4.774899959564209, -4.791999816894531, -4.957399845123291, -5.025700092315674, -5.146100044250488, -5.216400146484375, -4.783599853515625, -5.436699867248535, -6.228799819946289, -5.256700038909912, -6.440000057220459, -6.4710001945495605, -6.479599952697754, -6.5142998695373535, -6.688499927520752, -6.661499977111816, -6.457799911499023, -6.796500205993652, -6.762499809265137, -6.852200031280518, -6.9120001792907715, -6.952499866485596, -6.991600036621094, -6.99429988861084, -4.940299987792969, -7.018400192260742, -7.042600154876709, -6.838900089263916, -7.059999942779541, -7.078999996185303, -4.799699783325195, -4.732999801635742, -6.182400226593018, -5.095900058746338, -6.369200229644775, -3.9751999378204346, -5.750899791717529, -5.267399787902832, -6.290500164031982, -5.35860013961792, -3.3478000164031982, -5.15910005569458, -5.646399974822998, -5.6859002113342285, -4.9394001960754395, -5.50540018081665, -4.242400169372559, -4.695300102233887, -5.935400009155273, -2.8784000873565674, -5.856200218200684, -4.6545000076293945, -4.4918999671936035, -3.984600067138672, -4.017899990081787, -4.698599815368652, -3.8327999114990234, -4.47599983215332, -5.249599933624268, -4.950099945068359, -5.0883002281188965, -4.978400230407715, -5.166900157928467, -5.230599880218506, -3.290600061416626, -5.6915998458862305, -5.875400066375732, -5.804299831390381, -6.199100017547607, -6.258399963378906, -6.355000019073486, -3.52839994430542, -6.515699863433838, -6.933700084686279, -6.958199977874756, -7.17609977722168, -7.17519998550415, -7.211900234222412, -7.263400077819824, -7.327199935913086, -7.420400142669678, -7.540299892425537, -7.71150016784668, -7.706699848175049, -7.7195000648498535, -7.753600120544434, -7.759900093078613, -7.754799842834473, -7.760499954223633, -7.755000114440918, -7.760799884796143, -7.7571001052856445, -7.792200088500977, -7.810400009155273, -5.0507001876831055, -5.588399887084961, -5.918700218200684, -5.440000057220459, -7.07480001449585, -6.084499835968018, -5.301400184631348, -7.230400085449219, -7.4232001304626465, -5.327600002288818, -4.06820011138916, -5.984399795532227, -6.529200077056885, -6.094900131225586, -3.219399929046631, -2.6666998863220215, -5.520500183105469, -6.2505998611450195, -6.4197998046875, -4.786900043487549, -5.780399799346924, -3.653899908065796, -4.265100002288818, -3.616499900817871, -3.433000087738037, -5.21589994430542, -4.686399936676025, -4.779300212860107, -4.353300094604492, -3.0239999294281006, -4.8506999015808105, -4.6743998527526855, -5.227499961853027, -4.707900047302246, -5.4045000076293945, -4.6875, -5.258900165557861, -4.739999771118164, -4.7581000328063965, -4.401599884033203, -4.552700042724609, -4.9380998611450195, -4.894999980926514, -5.144400119781494, -5.20959997177124, -5.210999965667725], \"loglift\": [30.0, 29.0, 28.0, 27.0, 26.0, 25.0, 24.0, 23.0, 22.0, 21.0, 20.0, 19.0, 18.0, 17.0, 16.0, 15.0, 14.0, 13.0, 12.0, 11.0, 10.0, 9.0, 8.0, 7.0, 6.0, 5.0, 4.0, 3.0, 2.0, 1.0, 1.4795000553131104, 1.4783999919891357, 1.4781999588012695, 1.4778000116348267, 1.4773999452590942, 1.4772000312805176, 1.4759999513626099, 1.4757000207901, 1.4754999876022339, 1.4749000072479248, 1.4742000102996826, 1.4733999967575073, 1.4711999893188477, 1.470900058746338, 1.4696999788284302, 1.4672000408172607, 1.46589994430542, 1.4656000137329102, 1.4652999639511108, 1.4644999504089355, 1.4630999565124512, 1.4596999883651733, 1.4589999914169312, 1.4580999612808228, 1.4577000141143799, 1.4574999809265137, 1.457200050354004, 1.4560999870300293, 1.4558000564575195, 1.454300045967102, 1.43340003490448, 1.4227999448776245, 1.4127999544143677, 1.3013999462127686, 1.2702000141143799, 1.315000057220459, 1.3730000257492065, 1.1892999410629272, 1.3711999654769897, 1.3286999464035034, 1.166100025177002, 1.298699975013733, 1.0343999862670898, 0.742900013923645, 0.5900999903678894, 0.8939999938011169, 0.17190000414848328, 1.0824999809265137, 0.7357000112533569, 0.7006000280380249, 0.3889999985694885, 0.4343999922275543, 0.16339999437332153, -0.10180000215768814, 0.6050999760627747, 0.4620000123977661, 0.4392000138759613, 1.544700026512146, 1.5433000326156616, 1.5420000553131104, 1.5404000282287598, 1.5399999618530273, 1.5377999544143677, 1.5374000072479248, 1.5364999771118164, 1.5363999605178833, 1.5362999439239502, 1.5361000299453735, 1.5358999967575073, 1.5326999425888062, 1.5317000150680542, 1.5292999744415283, 1.5291999578475952, 1.5220999717712402, 1.5219999551773071, 1.521399974822998, 1.5180000066757202, 1.5151000022888184, 1.514799952507019, 1.5144000053405762, 1.5135999917984009, 1.5134999752044678, 1.5118999481201172, 1.5104000568389893, 1.510200023651123, 1.5077999830245972, 1.5068000555038452, 1.4845000505447388, 1.489799976348877, 1.4872000217437744, 1.4794000387191772, 1.4758000373840332, 1.472599983215332, 1.4804999828338623, 1.4279999732971191, 1.3560999631881714, 1.3895000219345093, 1.3831000328063965, 1.4456000328063965, 1.246999979019165, 1.0829999446868896, 1.2796000242233276, 1.3486000299453735, 1.2107000350952148, 1.159000039100647, 0.8962000012397766, 1.0556999444961548, 1.0220999717712402, 0.6622999906539917, 0.4729999899864197, 1.1614999771118164, 0.01769999973475933, 0.3327000141143799, 0.009499999694526196, -0.04919999837875366, 0.4781999886035919, 0.0869000032544136, -0.736299991607666, 0.5217999815940857, -1.0187000036239624, 0.7663999795913696, -0.2639999985694885, 0.48399999737739563, 0.7620000243186951, -0.8492000102996826, 1.5460000038146973, 1.5456000566482544, 1.545199990272522, 1.5442999601364136, 1.5441999435424805, 1.5441999435424805, 1.5437999963760376, 1.5424000024795532, 1.5422999858856201, 1.541599988937378, 1.5407999753952026, 1.5404000282287598, 1.5403000116348267, 1.5378999710083008, 1.5369000434875488, 1.5368000268936157, 1.5362000465393066, 1.5362000465393066, 1.5343999862670898, 1.533400058746338, 1.5305999517440796, 1.530500054359436, 1.5298000574111938, 1.5283000469207764, 1.5281000137329102, 1.5276999473571777, 1.5266000032424927, 1.5261000394821167, 1.5256999731063843, 1.5254000425338745, 1.5140000581741333, 1.5195000171661377, 1.4678000211715698, 1.3594000339508057, 1.3952000141143799, 1.4293999671936035, 1.3687000274658203, 1.315999984741211, 1.2316999435424805, 1.3287999629974365, 1.187999963760376, 0.8633000254631042, 1.0585999488830566, 0.8034999966621399, 0.8145999908447266, 0.7117999792098999, 0.5619000196456909, 0.6046000123023987, 0.637499988079071, -0.16850000619888306, -0.49869999289512634, -0.6571000218391418, -0.17069999873638153, 0.3531000018119812, 0.8870000243186951, 0.4542999863624573, -0.6128000020980835, -0.8521000146865845, 1.710800051689148, 1.7105000019073486, 1.7101999521255493, 1.7099000215530396, 1.7091000080108643, 1.7089999914169312, 1.7079999446868896, 1.7069000005722046, 1.7009999752044678, 1.7005000114440918, 1.698199987411499, 1.6974999904632568, 1.6971999406814575, 1.6969000101089478, 1.69350004196167, 1.69350004196167, 1.6919000148773193, 1.691499948501587, 1.691100001335144, 1.6901999711990356, 1.6887999773025513, 1.6877000331878662, 1.686900019645691, 1.6864999532699585, 1.686400055885315, 1.6858999729156494, 1.6852999925613403, 1.6852999925613403, 1.684399962425232, 1.6842000484466553, 1.6796000003814697, 1.6664999723434448, 1.6619000434875488, 1.611799955368042, 1.655900001525879, 1.51010000705719, 1.6080000400543213, 1.5641000270843506, 1.632200002670288, 1.4795000553131104, 1.1520999670028687, 1.4121999740600586, 1.4810999631881714, 1.4757000207901, 1.2776000499725342, 1.4241000413894653, 1.0246000289916992, 1.1485999822616577, 1.5282000303268433, 0.5152999758720398, 1.4914000034332275, 0.9850999712944031, 0.7508000135421753, 0.39149999618530273, 0.2915000021457672, 0.7042999863624573, -0.2379000037908554, -0.09849999845027924, 0.9527000188827515, 0.3910999894142151, 0.5002999901771545, -0.2687000036239624, 0.33649998903274536, 0.16940000653266907, 1.7856999635696411, 1.7839000225067139, 1.7829999923706055, 1.7805999517440796, 1.7791999578475952, 1.7777999639511108, 1.776900053024292, 1.7747000455856323, 1.7742999792099, 1.7646000385284424, 1.7644000053405762, 1.757099986076355, 1.7561999559402466, 1.7559000253677368, 1.7544000148773193, 1.7516000270843506, 1.7481000423431396, 1.742400050163269, 1.7333999872207642, 1.733299970626831, 1.7323999404907227, 1.7309999465942383, 1.7309000492095947, 1.7309000492095947, 1.7305999994277954, 1.7299000024795532, 1.7299000024795532, 1.7297999858856201, 1.7275999784469604, 1.7274999618530273, 1.718999981880188, 1.7173999547958374, 1.7003999948501587, 1.6627000570297241, 1.7131999731063843, 1.6607999801635742, 1.6217999458312988, 1.7063000202178955, 1.7163000106811523, 1.5546000003814697, 1.4509999752044678, 1.5979000329971313, 1.639299988746643, 1.5813000202178955, 1.0901000499725342, 0.9282000064849854, 1.4241000413894653, 1.5525000095367432, 1.5835000276565552, 1.2275999784469604, 1.4251999855041504, 0.8460000157356262, 0.9775999784469604, 0.7317000031471252, 0.6309000253677368, 1.2214000225067139, 1.0440000295639038, 1.069100022315979, 0.9038000106811523, 0.36970001459121704, 1.0037000179290771, 0.9034000039100647, 1.190500020980835, 0.8654000163078308, 1.2583999633789062, 0.7124999761581421, 1.132599949836731, 0.5270000100135803, 0.49810001254081726, -0.11949999630451202, -0.1753000020980835, 0.4684000015258789, -0.25209999084472656, 0.22769999504089355, 0.6973999738693237, -0.8349000215530396]}, \"token.table\": {\"Topic\": [1, 2, 3, 4, 1, 3, 5, 1, 1, 4, 5, 1, 3, 4, 1, 2, 3, 4, 5, 3, 4, 3, 1, 2, 3, 5, 1, 1, 2, 3, 4, 5, 3, 2, 4, 4, 1, 2, 3, 5, 4, 5, 1, 2, 3, 4, 5, 2, 3, 4, 5, 2, 1, 2, 5, 2, 4, 3, 2, 3, 5, 1, 2, 3, 1, 2, 3, 4, 5, 1, 2, 4, 1, 4, 1, 1, 3, 1, 2, 3, 4, 5, 5, 1, 2, 3, 5, 4, 1, 3, 4, 3, 4, 5, 4, 5, 2, 1, 5, 1, 5, 1, 2, 4, 5, 4, 5, 3, 1, 5, 4, 4, 3, 5, 1, 1, 5, 2, 4, 5, 5, 5, 1, 2, 3, 4, 5, 3, 3, 1, 1, 4, 2, 3, 1, 2, 3, 5, 2, 2, 3, 5, 3, 1, 2, 4, 2, 4, 1, 4, 3, 4, 2, 3, 4, 5, 2, 3, 5, 2, 5, 2, 3, 5, 2, 3, 4, 5, 2, 3, 4, 1, 2, 3, 4, 5, 2, 1, 4, 4, 5, 1, 2, 3, 4, 5, 1, 4, 5, 4, 2, 1, 4, 5, 1, 2, 3, 4, 5, 3, 1, 2, 3, 4, 5, 1, 1, 1, 5, 1, 1, 2, 3, 4, 5, 3, 1, 3, 4, 1, 2, 4, 5, 3, 5, 2, 3, 4, 5, 2, 3, 5, 4, 5, 3, 1, 2, 2, 2, 3, 4, 5, 3, 5, 4, 1, 2, 3, 4, 5, 1, 2, 4, 1, 3, 4, 5, 1, 5, 3, 4, 1, 4, 5, 1, 4, 5, 2, 3, 4, 4, 5, 2, 3, 4, 5, 2, 4, 5, 1, 2, 2, 3, 1, 2, 3, 5, 1, 2, 3, 4, 2, 1, 2, 3, 4, 5, 1, 3, 3, 1, 2, 3, 4, 5, 1, 2, 2, 3, 4, 5, 1, 2, 3, 4, 5, 1, 2, 2, 3, 4, 3, 4, 3, 4, 3, 4, 5, 2, 4, 2, 3, 4, 5, 1, 2, 4, 5, 1, 2, 5, 1, 2, 3, 4, 3, 5, 2, 3, 2, 3, 4, 3, 4, 1, 2, 3, 4, 5, 2, 1, 2, 3, 4, 5, 1, 2, 1, 2, 1, 2, 4, 5, 1, 4, 3, 2, 2, 2, 3, 1, 2, 3, 4, 5, 2, 3, 2, 1, 1, 4, 5, 1, 2, 3, 4, 5, 3, 5, 3, 4, 4, 4, 5, 1, 2, 3, 4, 1, 3, 4, 5, 2, 3, 3, 2, 3, 4, 2, 3, 4, 5, 2, 3, 4, 4, 2, 1, 2, 5, 1, 1, 1, 1, 2, 3, 4, 5, 1, 2, 3, 4, 5, 3, 2, 3, 4, 5, 5, 2, 2, 3, 2, 3, 5, 3, 4, 5, 1, 2, 3, 4, 5, 3, 5, 2, 5, 4, 2, 3, 4, 5, 5, 1, 2, 3, 4, 5, 4, 5, 4, 5, 1, 2, 3, 4, 5, 4, 5, 2, 3, 5, 4, 3, 4, 5, 4, 5, 4, 1, 2, 5, 3, 3, 4, 4, 1, 2, 3, 4, 5, 5, 2, 2, 4, 1, 2, 3, 4, 5, 1, 2, 3, 4, 5, 3, 3, 5, 5, 1, 5, 2, 5, 1, 2, 3, 4, 5, 2, 3, 5, 2, 3, 2, 4, 2, 1, 2, 3, 4, 5, 5, 3, 4, 5, 2, 3, 4, 5, 3, 2, 3, 1, 2, 3, 4, 5, 1, 3, 4, 5, 3, 2, 3, 4, 1, 2, 1, 2, 3, 1, 2, 3, 4, 5, 1, 2, 3, 4, 5, 3, 4, 1, 3, 1, 5, 1, 4], \"Freq\": [0.2793159484863281, 0.17897915840148926, 0.5152429938316345, 0.024406248703598976, 0.1666022390127182, 0.8027198910713196, 0.025242764502763748, 0.9855546951293945, 0.03033761866390705, 0.2730385661125183, 0.6901808381080627, 0.9922025203704834, 0.9988165497779846, 0.9857115149497986, 0.0658210813999176, 0.09134353697299957, 0.5041804909706116, 0.2664186358451843, 0.07208975404500961, 0.837205171585083, 0.16087472438812256, 0.9908286333084106, 0.1682247817516327, 0.0020768491085618734, 0.8286628127098083, 0.0020768491085618734, 0.9880959987640381, 0.35128700733184814, 0.01937704160809517, 0.47505006194114685, 0.13751448690891266, 0.01687677763402462, 0.9691019058227539, 0.9879961013793945, 0.9593302607536316, 0.9935799837112427, 0.007412443868815899, 0.358762264251709, 0.23719820380210876, 0.39582449197769165, 0.9953870177268982, 0.9919573068618774, 0.05456927418708801, 0.12441794574260712, 0.03710710629820824, 0.5020373463630676, 0.281577467918396, 0.5225986838340759, 0.11252124607563019, 0.3638187050819397, 0.0012502360623329878, 0.9970049262046814, 0.8987584114074707, 0.09272903949022293, 0.007133003324270248, 0.00371389277279377, 0.9953233003616333, 0.9937841296195984, 0.9919984936714172, 0.003967993892729282, 0.003967993892729282, 0.1424124389886856, 0.8272722363471985, 0.0304026547819376, 0.4779841899871826, 0.215227410197258, 0.0035871234722435474, 0.16321411728858948, 0.13989782333374023, 0.9715850353240967, 0.9604971408843994, 0.9794108867645264, 0.062143418937921524, 0.9166154265403748, 0.9857810139656067, 0.9894422292709351, 0.9954148530960083, 0.10225535184144974, 0.04367155581712723, 0.028759317472577095, 0.38132724165916443, 0.4431065320968628, 0.93791264295578, 0.0035171485505998135, 0.23213180899620056, 0.19696031510829926, 0.5662609338760376, 0.9967688322067261, 0.6392195224761963, 0.14921262860298157, 0.21000295877456665, 0.13723470270633698, 0.017154337838292122, 0.8405625224113464, 0.748059093952179, 0.24743492901325226, 0.984707236289978, 0.9339678287506104, 0.06450828909873962, 0.6699687838554382, 0.3269703984260559, 0.5554606914520264, 0.005956683307886124, 0.026805074885487556, 0.41101112961769104, 0.2067728489637375, 0.7857368588447571, 0.9869757294654846, 0.9946954250335693, 0.9767205715179443, 0.9908130168914795, 0.9869964718818665, 0.9876536130905151, 0.985466480255127, 0.9994562268257141, 0.9871779680252075, 0.9640088677406311, 0.00425108615309, 0.9734987020492554, 0.021255429834127426, 0.9629806280136108, 0.9797515869140625, 0.07731851935386658, 0.119718998670578, 0.6135598421096802, 0.12221314013004303, 0.06734193861484528, 0.9763462543487549, 0.9785233736038208, 0.9818881154060364, 0.942109227180481, 0.054921165108680725, 0.8565791845321655, 0.142045795917511, 0.3357084095478058, 0.20290546119213104, 0.11538615822792053, 0.3461584746837616, 0.9629517793655396, 0.9066197276115417, 0.049006473273038864, 0.049006473273038864, 0.9946345686912537, 0.9940465092658997, 0.8499222993850708, 0.14653831720352173, 0.9495357871055603, 0.04478942230343819, 0.9847155809402466, 0.9731223583221436, 0.01183140929788351, 0.987922728061676, 0.1192430853843689, 0.04910009354352951, 0.7926158308982849, 0.03507149592041969, 0.9362087845802307, 0.012824777513742447, 0.05129911005496979, 0.9512042999267578, 0.920896053314209, 0.20306585729122162, 0.0054882667027413845, 0.7903103828430176, 0.10601437091827393, 0.1129283532500267, 0.21202874183654785, 0.5692510604858398, 0.7642275094985962, 0.019721999764442444, 0.21201150119304657, 0.09107018262147903, 0.3332340717315674, 0.13039594888687134, 0.10969817638397217, 0.3353038430213928, 0.9639147520065308, 0.9815290570259094, 0.015100446529686451, 0.9963266253471375, 0.9863210320472717, 0.7469034790992737, 0.23232172429561615, 0.009408668614923954, 0.008684924803674221, 0.0014474873896688223, 0.08211270719766617, 0.034213628619909286, 0.8758689165115356, 0.9948539733886719, 0.9884201288223267, 0.015839936211705208, 0.00113142398186028, 0.9820759892463684, 0.046497371047735214, 0.03770057111978531, 0.1792871654033661, 0.24128365516662598, 0.495134174823761, 0.9981239438056946, 0.41609203815460205, 0.1751347780227661, 0.0011754012666642666, 0.26681607961654663, 0.1410481482744217, 0.9914897084236145, 0.9913390874862671, 0.9965483546257019, 0.9752433896064758, 0.9970502257347107, 0.20542386174201965, 0.10209688544273376, 0.12915870547294617, 0.1420745849609375, 0.4213034212589264, 0.996375560760498, 0.009259234182536602, 0.9814788699150085, 0.984294593334198, 0.13469178974628448, 0.27719181776046753, 0.10345891863107681, 0.48410964012145996, 0.052456967532634735, 0.9442254304885864, 0.6289728879928589, 0.03870602324604988, 0.2515891492366791, 0.07879440486431122, 0.004904589615762234, 0.06375966221094131, 0.926967442035675, 0.036907631903886795, 0.9226908087730408, 0.9954097867012024, 0.9708526134490967, 0.9404729008674622, 0.9644842743873596, 0.980861485004425, 0.1524139940738678, 0.7911012172698975, 0.05080466344952583, 0.9931020736694336, 0.969199538230896, 0.9540687799453735, 0.08819244801998138, 0.5930941700935364, 0.18299932777881622, 0.12567423284053802, 0.008819244801998138, 0.019008243456482887, 0.1642855405807495, 0.8159967660903931, 0.11459624022245407, 0.03966793045401573, 0.2600453197956085, 0.5862038731575012, 0.8589104413986206, 0.13624097406864166, 0.9690759181976318, 0.023257821798324585, 0.9894405007362366, 0.0028846662025898695, 0.008653998374938965, 0.8103901743888855, 0.06022380292415619, 0.12921805679798126, 0.9963228106498718, 0.0029868350829929113, 0.0008533814107067883, 0.9775374531745911, 0.9720219373703003, 0.15230004489421844, 0.04726552963256836, 0.7930105924606323, 0.010503451339900494, 0.9343767762184143, 0.060067079961299896, 0.9899638295173645, 0.9548048377037048, 0.044116392731666565, 0.9323844313621521, 0.06357166171073914, 0.004638853948563337, 0.45924651622772217, 0.19251243770122528, 0.34327518939971924, 0.05524718016386032, 0.612523078918457, 0.24020512402057648, 0.09127794951200485, 0.9835824370384216, 0.1540585160255432, 0.29751667380332947, 0.3731325566768646, 0.07490918785333633, 0.1003500446677208, 0.9834244847297668, 0.013289520516991615, 0.9880157113075256, 0.20775549113750458, 0.09032847732305527, 0.40196171402931213, 0.2965784966945648, 0.003010949119925499, 0.047995492815971375, 0.9439113140106201, 0.1807551383972168, 0.09732969105243683, 0.4671825170516968, 0.25305718183517456, 0.41045743227005005, 0.3419799208641052, 0.09089573472738266, 0.008967292495071888, 0.14796032011508942, 0.9944540858268738, 0.005517932586371899, 0.06260503828525543, 0.073039211332798, 0.8608192205429077, 0.99106764793396, 0.9639077186584473, 0.044030338525772095, 0.9551196098327637, 0.9919549822807312, 0.948010265827179, 0.04309137538075447, 0.09724608063697815, 0.9017363786697388, 0.9332778453826904, 0.005725631024688482, 0.0572563074529171, 0.005725631024688482, 0.002821828005835414, 0.008465483784675598, 0.646198570728302, 0.34144118428230286, 0.19277004897594452, 0.11098881810903549, 0.6892989873886108, 0.24311181902885437, 0.34635108709335327, 0.334695041179657, 0.07493172585964203, 0.1852394938468933, 0.8083178400993347, 0.03181331232190132, 0.9657612442970276, 0.10103914141654968, 0.3303202688694, 0.5673736333847046, 0.03301703929901123, 0.9648312926292419, 0.07448967546224594, 0.7419756054878235, 0.11684655398130417, 0.0014605819014832377, 0.06718676537275314, 0.9830518960952759, 0.036151397973299026, 0.10720758885145187, 0.3029237687587738, 0.21316857635974884, 0.3390751779079437, 0.9914301633834839, 0.9958859086036682, 0.8361021280288696, 0.16374699771404266, 0.18947748839855194, 0.7144880294799805, 0.035527028143405914, 0.055264268070459366, 0.19230391085147858, 0.8041799664497375, 0.9783415198326111, 0.9849777221679688, 0.9915041923522949, 0.010994279757142067, 0.9784908890724182, 0.03795141726732254, 0.03795141726732254, 0.23460876941680908, 0.1414552927017212, 0.5485705137252808, 0.9845218658447266, 0.024012727662920952, 0.9945340752601624, 0.9819025993347168, 0.995911717414856, 0.9816833138465881, 0.963250994682312, 0.352800577878952, 0.16124562919139862, 0.13821053504943848, 0.13942290842533112, 0.20852819085121155, 0.18210963904857635, 0.8134230375289917, 0.9959079623222351, 0.004330034367740154, 0.9932533502578735, 0.9465697407722473, 0.05163107439875603, 0.45855075120925903, 0.10269096493721008, 0.43313220143318176, 0.006100453436374664, 0.8975121974945068, 0.10065557062625885, 0.11709770560264587, 0.8717273473739624, 0.07470700144767761, 0.9213863611221313, 0.9817150831222534, 0.9423496127128601, 0.031622469425201416, 0.025297975167632103, 0.004054440185427666, 0.037503570318222046, 0.570155680179596, 0.388212651014328, 0.0047871507704257965, 0.6989240050315857, 0.2968033254146576, 0.9814231991767883, 0.9685023427009583, 0.005411564838141203, 0.0009019274730235338, 0.9930221438407898, 0.9798485636711121, 0.9818751215934753, 0.9872952699661255, 0.11586033552885056, 0.2101195901632309, 0.005891203880310059, 0.21404705941677094, 0.4536226689815521, 0.3606060743331909, 0.20297586917877197, 0.02267283760011196, 0.13927599787712097, 0.2742333710193634, 0.9887101054191589, 0.005204071756452322, 0.3209177553653717, 0.19948941469192505, 0.4735705256462097, 0.9651070833206177, 0.9984737038612366, 0.9953100085258484, 0.005394633859395981, 0.9977028369903564, 0.0020785476081073284, 0.9785078167915344, 0.019492916762828827, 0.9746458530426025, 0.9815495014190674, 0.11235922574996948, 0.07443798333406448, 0.051966141909360886, 0.05056165158748627, 0.7106720805168152, 0.08027395606040955, 0.9174166321754456, 0.9551451802253723, 0.9719880819320679, 0.9836495518684387, 0.09218955039978027, 0.004609477706253529, 0.9034576416015625, 0.9869986772537231, 0.968969464302063, 0.0006867682095617056, 0.4134344756603241, 0.4800509810447693, 0.07279743254184723, 0.03296487405896187, 0.9971160888671875, 0.9254343509674072, 0.06706841289997101, 0.9305742383003235, 0.73016756772995, 0.07978077977895737, 0.16996775567531586, 0.001734364777803421, 0.01907801255583763, 0.9616084694862366, 0.9206615686416626, 0.3438270390033722, 0.38900139927864075, 0.2660267651081085, 0.9813790321350098, 0.7921738028526306, 0.17603862285614014, 0.028291922062635422, 0.13905508816242218, 0.8541955351829529, 0.9844152331352234, 0.8475406169891357, 0.0028975747991353273, 0.14922510087490082, 0.9984812140464783, 0.994917631149292, 0.9828296899795532, 0.9720861911773682, 0.0016819561133161187, 0.05550455302000046, 0.7282869815826416, 0.16314974427223206, 0.05045868456363678, 0.9688050150871277, 0.9671383500099182, 0.8237427473068237, 0.17810653150081635, 0.2700878083705902, 0.07695239782333374, 0.11031519621610641, 0.3016064465045929, 0.24108397960662842, 0.18850058317184448, 0.1235550045967102, 0.07286576926708221, 0.4831317365169525, 0.13305923342704773, 0.9906911253929138, 0.9984877705574036, 0.9319784641265869, 0.9933937788009644, 0.16581572592258453, 0.818024218082428, 0.042826540768146515, 0.8993573784828186, 0.4748798608779907, 0.20006026327610016, 0.13056564331054688, 0.042117949575185776, 0.15267756581306458, 0.013986467383801937, 0.8881406784057617, 0.09091203659772873, 0.9555172324180603, 0.996752142906189, 0.9894394874572754, 0.005466516595333815, 0.9883327484130859, 0.2677535116672516, 0.21695572137832642, 0.1795947551727295, 0.02261320874094963, 0.31297990679740906, 0.9375200271606445, 0.03024139814078808, 0.453620970249176, 0.5174639225006104, 0.681633710861206, 0.2580195367336273, 0.06161660701036453, 0.9684792757034302, 0.9864548444747925, 0.9760288596153259, 0.015870386734604836, 0.07808244973421097, 0.4566640257835388, 0.14670035243034363, 0.1608971655368805, 0.15853102505207062, 0.8325647115707397, 0.04840492457151413, 0.07260739058256149, 0.04840492457151413, 0.9831288456916809, 0.6785972118377686, 0.06428816169500351, 0.25358107686042786, 0.10893628746271133, 0.889224112033844, 0.03261203318834305, 0.10598911345005035, 0.8601424098014832, 0.07780487090349197, 0.13831976056098938, 0.21072152256965637, 0.16101285815238953, 0.4106368124485016, 0.048258841037750244, 0.12064710259437561, 0.08445297181606293, 0.7399688959121704, 0.012064710259437561, 0.16687387228012085, 0.8343693017959595, 0.9943938255310059, 0.004870500415563583, 0.979600191116333, 0.9679511189460754, 0.9982997179031372, 0.974353015422821], \"Term\": [\"access\", \"access\", \"access\", \"access\", \"account\", \"account\", \"account\", \"activities\", \"affordable\", \"affordable\", \"affordable\", \"age\", \"alexa\", \"alternative\", \"amazon\", \"amazon\", \"amazon\", \"amazon\", \"amazon\", \"android\", \"android\", \"annoying\", \"app\", \"app\", \"app\", \"app\", \"appropriate\", \"apps\", \"apps\", \"apps\", \"apps\", \"apps\", \"automatically\", \"backlight\", \"backpack\", \"basic\", \"battery\", \"battery\", \"battery\", \"battery\", \"beat\", \"beginner\", \"best\", \"best\", \"best\", \"best\", \"best\", \"better\", \"better\", \"better\", \"better\", \"bigger\", \"birthday\", \"birthday\", \"birthday\", \"black\", \"black\", \"bluetooth\", \"book\", \"book\", \"book\", \"books\", \"books\", \"books\", \"bought\", \"bought\", \"bought\", \"bought\", \"bought\", \"boys\", \"breeze\", \"bucks\", \"budget\", \"budget\", \"bumper\", \"busy\", \"button\", \"buy\", \"buy\", \"buy\", \"buy\", \"buy\", \"calls\", \"camera\", \"camera\", \"camera\", \"camera\", \"card\", \"case\", \"case\", \"case\", \"charging\", \"charging\", \"charging\", \"cheap\", \"cheap\", \"checking\", \"child\", \"child\", \"children\", \"children\", \"christmas\", \"christmas\", \"christmas\", \"christmas\", \"complaints\", \"complaints\", \"connect\", \"controls\", \"cord\", \"cost\", \"credit\", \"crisp\", \"customer\", \"daughter\", \"daughters\", \"dead\", \"deal\", \"deal\", \"deal\", \"delivered\", \"described\", \"device\", \"device\", \"device\", \"device\", \"device\", \"dot\", \"downside\", \"drops\", \"durable\", \"durable\", \"easier\", \"easier\", \"easy\", \"easy\", \"easy\", \"easy\", \"ebook\", \"ebooks\", \"ebooks\", \"ebooks\", \"echo\", \"educational\", \"email\", \"email\", \"enjoyed\", \"enjoyed\", \"entertained\", \"exchange\", \"expensive\", \"expensive\", \"extra\", \"extra\", \"extra\", \"extra\", \"eyes\", \"eyes\", \"eyes\", \"face\", \"failed\", \"family\", \"family\", \"family\", \"fast\", \"fast\", \"fast\", \"fast\", \"faster\", \"faster\", \"faster\", \"features\", \"features\", \"features\", \"features\", \"features\", \"fires\", \"freetime\", \"freetime\", \"friday\", \"friend\", \"games\", \"games\", \"games\", \"games\", \"games\", \"gave\", \"gave\", \"gave\", \"gb\", \"generation\", \"gift\", \"gift\", \"gift\", \"good\", \"good\", \"good\", \"good\", \"good\", \"google\", \"got\", \"got\", \"got\", \"got\", \"got\", \"grand\", \"grandchildren\", \"granddaughter\", \"granddaughters\", \"grandson\", \"great\", \"great\", \"great\", \"great\", \"great\", \"hand\", \"hands\", \"hands\", \"happier\", \"happy\", \"happy\", \"happy\", \"happy\", \"hardware\", \"hardware\", \"hd\", \"hd\", \"hd\", \"hd\", \"highly\", \"highly\", \"highly\", \"holidays\", \"holidays\", \"home\", \"homework\", \"impossible\", \"improved\", \"improvement\", \"inexpensive\", \"inexpensive\", \"inexpensive\", \"install\", \"instruction\", \"internal\", \"internet\", \"internet\", \"internet\", \"internet\", \"internet\", \"ipad\", \"ipad\", \"ipad\", \"item\", \"item\", \"item\", \"item\", \"keeps\", \"keeps\", \"keyboard\", \"keyboard\", \"kid\", \"kid\", \"kid\", \"kids\", \"kids\", \"kids\", \"kindle\", \"kindle\", \"kindle\", \"lag\", \"lap\", \"laptop\", \"laptop\", \"laptop\", \"laptop\", \"larger\", \"larger\", \"law\", \"learning\", \"learning\", \"library\", \"library\", \"life\", \"life\", \"life\", \"life\", \"light\", \"light\", \"light\", \"light\", \"lighter\", \"like\", \"like\", \"like\", \"like\", \"like\", \"limit\", \"limit\", \"listening\", \"little\", \"little\", \"little\", \"little\", \"little\", \"longer\", \"longer\", \"looking\", \"looking\", \"looking\", \"looking\", \"love\", \"love\", \"love\", \"love\", \"love\", \"loves\", \"loves\", \"low\", \"low\", \"low\", \"magazine\", \"meets\", \"memory\", \"memory\", \"menu\", \"micro\", \"micro\", \"mini\", \"mini\", \"model\", \"model\", \"model\", \"model\", \"money\", \"money\", \"money\", \"money\", \"mother\", \"mother\", \"mother\", \"movies\", \"movies\", \"movies\", \"movies\", \"multiple\", \"multiple\", \"music\", \"music\", \"need\", \"need\", \"need\", \"needs\", \"needs\", \"new\", \"new\", \"new\", \"new\", \"new\", \"newer\", \"nice\", \"nice\", \"nice\", \"nice\", \"nice\", \"niece\", \"nook\", \"old\", \"old\", \"older\", \"older\", \"older\", \"older\", \"ones\", \"ones\", \"open\", \"ordering\", \"original\", \"os\", \"os\", \"overall\", \"overall\", \"overall\", \"overall\", \"overall\", \"paper\", \"paper\", \"paperwhite\", \"parent\", \"parental\", \"pass\", \"pen\", \"perfect\", \"perfect\", \"perfect\", \"perfect\", \"perfect\", \"person\", \"person\", \"picture\", \"picture\", \"place\", \"plan\", \"plan\", \"play\", \"play\", \"play\", \"play\", \"plays\", \"plays\", \"port\", \"port\", \"portable\", \"portable\", \"press\", \"previous\", \"previous\", \"previous\", \"price\", \"price\", \"price\", \"price\", \"prime\", \"prime\", \"prime\", \"pro\", \"processing\", \"product\", \"product\", \"product\", \"profiles\", \"proof\", \"protected\", \"purchase\", \"purchase\", \"purchase\", \"purchase\", \"purchase\", \"purchased\", \"purchased\", \"purchased\", \"purchased\", \"purchased\", \"purse\", \"quality\", \"quality\", \"quality\", \"quality\", \"randomly\", \"read\", \"reader\", \"reader\", \"reading\", \"reading\", \"rear\", \"reasonable\", \"reasonable\", \"receive\", \"recommend\", \"recommend\", \"recommend\", \"recommend\", \"recommend\", \"recommended\", \"recommended\", \"replacing\", \"restart\", \"rough\", \"sale\", \"sale\", \"sale\", \"savvy\", \"savy\", \"screen\", \"screen\", \"screen\", \"screen\", \"screen\", \"sd\", \"senior\", \"service\", \"service\", \"set\", \"set\", \"set\", \"set\", \"set\", \"sites\", \"sitting\", \"size\", \"size\", \"size\", \"slot\", \"small\", \"small\", \"small\", \"social\", \"social\", \"sold\", \"son\", \"son\", \"son\", \"sound\", \"speaker\", \"special\", \"standard\", \"store\", \"store\", \"store\", \"store\", \"store\", \"substitute\", \"sunlight\", \"surfing\", \"surfing\", \"tablet\", \"tablet\", \"tablet\", \"tablet\", \"tablet\", \"tablets\", \"tablets\", \"tablets\", \"tablets\", \"tablets\", \"talk\", \"tap\", \"teach\", \"tech\", \"thanks\", \"thanks\", \"thoroughly\", \"thoroughly\", \"time\", \"time\", \"time\", \"time\", \"time\", \"touch\", \"touch\", \"touch\", \"transfer\", \"turn\", \"upgrade\", \"upgrade\", \"upgraded\", \"use\", \"use\", \"use\", \"use\", \"use\", \"usual\", \"value\", \"value\", \"value\", \"version\", \"version\", \"version\", \"visuals\", \"voice\", \"voyage\", \"voyage\", \"wanted\", \"wanted\", \"wanted\", \"wanted\", \"wanted\", \"warranty\", \"warranty\", \"warranty\", \"warranty\", \"weather\", \"web\", \"web\", \"web\", \"wife\", \"wife\", \"wifi\", \"wifi\", \"wifi\", \"works\", \"works\", \"works\", \"works\", \"works\", \"worth\", \"worth\", \"worth\", \"worth\", \"worth\", \"wrong\", \"wrong\", \"year\", \"year\", \"yo\", \"youngest\", \"yr\", \"\\u00e4\\u00f4t\"]}, \"R\": 30, \"lambda.step\": 0.01, \"plot.opts\": {\"xlab\": \"PC1\", \"ylab\": \"PC2\"}, \"topic.order\": [1, 2, 4, 3, 5]};\n",
       "\n",
       "function LDAvis_load_lib(url, callback){\n",
       "  var s = document.createElement('script');\n",
       "  s.src = url;\n",
       "  s.async = true;\n",
       "  s.onreadystatechange = s.onload = callback;\n",
       "  s.onerror = function(){console.warn(\"failed to load library \" + url);};\n",
       "  document.getElementsByTagName(\"head\")[0].appendChild(s);\n",
       "}\n",
       "\n",
       "if(typeof(LDAvis) !== \"undefined\"){\n",
       "   // already loaded: just create the visualization\n",
       "   !function(LDAvis){\n",
       "       new LDAvis(\"#\" + \"ldavis_el74468254374892634467053244\", ldavis_el74468254374892634467053244_data);\n",
       "   }(LDAvis);\n",
       "}else if(typeof define === \"function\" && define.amd){\n",
       "   // require.js is available: use it to load d3/LDAvis\n",
       "   require.config({paths: {d3: \"https://cdnjs.cloudflare.com/ajax/libs/d3/3.5.5/d3.min\"}});\n",
       "   require([\"d3\"], function(d3){\n",
       "      window.d3 = d3;\n",
       "      LDAvis_load_lib(\"https://cdn.rawgit.com/bmabey/pyLDAvis/files/ldavis.v1.0.0.js\", function(){\n",
       "        new LDAvis(\"#\" + \"ldavis_el74468254374892634467053244\", ldavis_el74468254374892634467053244_data);\n",
       "      });\n",
       "    });\n",
       "}else{\n",
       "    // require.js not available: dynamically load d3 & LDAvis\n",
       "    LDAvis_load_lib(\"https://cdnjs.cloudflare.com/ajax/libs/d3/3.5.5/d3.min.js\", function(){\n",
       "         LDAvis_load_lib(\"https://cdn.rawgit.com/bmabey/pyLDAvis/files/ldavis.v1.0.0.js\", function(){\n",
       "                 new LDAvis(\"#\" + \"ldavis_el74468254374892634467053244\", ldavis_el74468254374892634467053244_data);\n",
       "            })\n",
       "         });\n",
       "}\n",
       "</script>"
      ],
      "text/plain": [
       "PreparedData(topic_coordinates=              x         y  topics  cluster       Freq\n",
       "topic                                                \n",
       "0     -0.231165  0.015855       1        1  22.747280\n",
       "1     -0.031794 -0.157645       2        1  21.314375\n",
       "3      0.121530 -0.132158       3        1  21.268126\n",
       "2      0.157764  0.110218       4        1  18.018583\n",
       "4     -0.016335  0.163730       5        1  16.651642, topic_info=          Term         Freq        Total Category  logprob  loglift\n",
       "760     kindle  2343.000000  2343.000000  Default  30.0000  30.0000\n",
       "792      loves  1631.000000  1631.000000  Default  29.0000  29.0000\n",
       "90     product  1108.000000  1108.000000  Default  28.0000  28.0000\n",
       "87       price  1973.000000  1973.000000  Default  27.0000  27.0000\n",
       "105       year  1231.000000  1231.000000  Default  26.0000  26.0000\n",
       "...        ...          ...          ...      ...      ...      ...\n",
       "289       size   211.986862   796.912292   Topic5  -4.9381   0.4684\n",
       "1049      kids   221.337616  1710.287231   Topic5  -4.8950  -0.2521\n",
       "276    perfect   172.476852   824.828552   Topic5  -5.1444   0.2277\n",
       "699   features   161.582962   483.143860   Topic5  -5.2096   0.6974\n",
       "46      amazon   161.370377  2233.327148   Topic5  -5.2110  -0.8349\n",
       "\n",
       "[353 rows x 6 columns], token_table=      Topic      Freq      Term\n",
       "term                           \n",
       "180       1  0.279316    access\n",
       "180       2  0.178979    access\n",
       "180       3  0.515243    access\n",
       "180       4  0.024406    access\n",
       "1204      1  0.166602   account\n",
       "...     ...       ...       ...\n",
       "105       3  0.004871      year\n",
       "528       1  0.979600        yo\n",
       "2278      5  0.967951  youngest\n",
       "1182      1  0.998300        yr\n",
       "1562      4  0.974353       äôt\n",
       "\n",
       "[598 rows x 3 columns], R=30, lambda_step=0.01, plot_opts={'xlab': 'PC1', 'ylab': 'PC2'}, topic_order=[1, 2, 4, 3, 5])"
      ]
     },
     "execution_count": 75,
     "metadata": {},
     "output_type": "execute_result"
    }
   ],
   "source": [
    "# visualize it\n",
    "pyLDAvis.gensim.prepare(lda, corpus, id2word)"
   ]
  },
  {
   "cell_type": "markdown",
   "metadata": {},
   "source": [
    "### Analyzing/Explaining topics\n",
    "\n",
    "By moving the lambda slider to zero in the above visualization, you can get the list of words sorted by how unique they are to that topic.  That makes it a bit easier to tell them apart, since the top words should all be unique.  Unfortunately I could not find anything in the LDA documentation about getting the list of words in that order, so I would have to redo those calculations myself to get that list programatically.\n",
    "\n",
    "https://radimrehurek.com/gensim/models/ldamodel.html#gensim.models.ldamodel.LdaModel\n",
    "\n"
   ]
  },
  {
   "cell_type": "markdown",
   "metadata": {},
   "source": [
    "### Check topic correlations"
   ]
  },
  {
   "cell_type": "code",
   "execution_count": 354,
   "metadata": {},
   "outputs": [
    {
     "name": "stdout",
     "output_type": "stream",
     "text": [
      "Wall time: 4 s\n"
     ]
    },
    {
     "data": {
      "text/html": [
       "<div>\n",
       "<style scoped>\n",
       "    .dataframe tbody tr th:only-of-type {\n",
       "        vertical-align: middle;\n",
       "    }\n",
       "\n",
       "    .dataframe tbody tr th {\n",
       "        vertical-align: top;\n",
       "    }\n",
       "\n",
       "    .dataframe thead th {\n",
       "        text-align: right;\n",
       "    }\n",
       "</style>\n",
       "<table border=\"1\" class=\"dataframe\">\n",
       "  <thead>\n",
       "    <tr style=\"text-align: right;\">\n",
       "      <th></th>\n",
       "      <th>0</th>\n",
       "      <th>1</th>\n",
       "      <th>2</th>\n",
       "      <th>3</th>\n",
       "      <th>4</th>\n",
       "    </tr>\n",
       "  </thead>\n",
       "  <tbody>\n",
       "    <tr>\n",
       "      <th>0</th>\n",
       "      <td>0.026350</td>\n",
       "      <td>0.026193</td>\n",
       "      <td>0.467646</td>\n",
       "      <td>0.025337</td>\n",
       "      <td>0.454473</td>\n",
       "    </tr>\n",
       "    <tr>\n",
       "      <th>1</th>\n",
       "      <td>0.000000</td>\n",
       "      <td>0.064200</td>\n",
       "      <td>0.470137</td>\n",
       "      <td>0.457372</td>\n",
       "      <td>0.000000</td>\n",
       "    </tr>\n",
       "    <tr>\n",
       "      <th>2</th>\n",
       "      <td>0.066862</td>\n",
       "      <td>0.066957</td>\n",
       "      <td>0.730543</td>\n",
       "      <td>0.068498</td>\n",
       "      <td>0.067140</td>\n",
       "    </tr>\n",
       "    <tr>\n",
       "      <th>3</th>\n",
       "      <td>0.079138</td>\n",
       "      <td>0.099502</td>\n",
       "      <td>0.352791</td>\n",
       "      <td>0.419629</td>\n",
       "      <td>0.048940</td>\n",
       "    </tr>\n",
       "    <tr>\n",
       "      <th>4</th>\n",
       "      <td>0.015640</td>\n",
       "      <td>0.254875</td>\n",
       "      <td>0.257955</td>\n",
       "      <td>0.455809</td>\n",
       "      <td>0.015722</td>\n",
       "    </tr>\n",
       "  </tbody>\n",
       "</table>\n",
       "</div>"
      ],
      "text/plain": [
       "          0         1         2         3         4\n",
       "0  0.026350  0.026193  0.467646  0.025337  0.454473\n",
       "1  0.000000  0.064200  0.470137  0.457372  0.000000\n",
       "2  0.066862  0.066957  0.730543  0.068498  0.067140\n",
       "3  0.079138  0.099502  0.352791  0.419629  0.048940\n",
       "4  0.015640  0.254875  0.257955  0.455809  0.015722"
      ]
     },
     "execution_count": 354,
     "metadata": {},
     "output_type": "execute_result"
    }
   ],
   "source": [
    "# Start with getting the distributions of each topic for each review (document)\n",
    "\n",
    "# Method from the lecture notebook\n",
    "distro = [lda[d] for d in corpus]\n",
    "num_topics = 5\n",
    "\n",
    "def update(doc):\n",
    "        d_dist = {k:0 for k in range(0,num_topics)}\n",
    "        for topic in doc:\n",
    "            # Topic is Tuple where the first part is the topic id\n",
    "            # the second part is the topic distribution in that doc\n",
    "            d_dist[topic[0]] = topic[1]\n",
    "        return d_dist\n",
    "    \n",
    "new_distro = [update(d) for d in distro]\n",
    "\n",
    "topics = pd.DataFrame.from_records(new_distro)\n",
    "topics.head()"
   ]
  },
  {
   "cell_type": "code",
   "execution_count": 357,
   "metadata": {},
   "outputs": [
    {
     "data": {
      "text/plain": [
       "[(0, 0.0041647297),\n",
       " (1, 0.06419974),\n",
       " (2, 0.47013763),\n",
       " (3, 0.45737216),\n",
       " (4, 0.004125764)]"
      ]
     },
     "execution_count": 357,
     "metadata": {},
     "output_type": "execute_result"
    }
   ],
   "source": [
    "# Alternate method I found (differences are due to floating point errors)\n",
    "lda.get_document_topics(corpus[1], minimum_probability=0)"
   ]
  },
  {
   "cell_type": "code",
   "execution_count": 355,
   "metadata": {},
   "outputs": [
    {
     "data": {
      "text/html": [
       "<div>\n",
       "<style scoped>\n",
       "    .dataframe tbody tr th:only-of-type {\n",
       "        vertical-align: middle;\n",
       "    }\n",
       "\n",
       "    .dataframe tbody tr th {\n",
       "        vertical-align: top;\n",
       "    }\n",
       "\n",
       "    .dataframe thead th {\n",
       "        text-align: right;\n",
       "    }\n",
       "</style>\n",
       "<table border=\"1\" class=\"dataframe\">\n",
       "  <thead>\n",
       "    <tr style=\"text-align: right;\">\n",
       "      <th></th>\n",
       "      <th>0</th>\n",
       "      <th>1</th>\n",
       "      <th>2</th>\n",
       "      <th>3</th>\n",
       "      <th>4</th>\n",
       "    </tr>\n",
       "  </thead>\n",
       "  <tbody>\n",
       "    <tr>\n",
       "      <th>0</th>\n",
       "      <td>0.026359</td>\n",
       "      <td>0.026195</td>\n",
       "      <td>0.467685</td>\n",
       "      <td>0.025337</td>\n",
       "      <td>0.454425</td>\n",
       "    </tr>\n",
       "    <tr>\n",
       "      <th>1</th>\n",
       "      <td>0.004165</td>\n",
       "      <td>0.064221</td>\n",
       "      <td>0.470121</td>\n",
       "      <td>0.457368</td>\n",
       "      <td>0.004126</td>\n",
       "    </tr>\n",
       "    <tr>\n",
       "      <th>2</th>\n",
       "      <td>0.066862</td>\n",
       "      <td>0.066957</td>\n",
       "      <td>0.730520</td>\n",
       "      <td>0.068520</td>\n",
       "      <td>0.067140</td>\n",
       "    </tr>\n",
       "    <tr>\n",
       "      <th>3</th>\n",
       "      <td>0.079138</td>\n",
       "      <td>0.099508</td>\n",
       "      <td>0.352786</td>\n",
       "      <td>0.419624</td>\n",
       "      <td>0.048944</td>\n",
       "    </tr>\n",
       "    <tr>\n",
       "      <th>4</th>\n",
       "      <td>0.015640</td>\n",
       "      <td>0.254870</td>\n",
       "      <td>0.257930</td>\n",
       "      <td>0.455838</td>\n",
       "      <td>0.015722</td>\n",
       "    </tr>\n",
       "  </tbody>\n",
       "</table>\n",
       "</div>"
      ],
      "text/plain": [
       "          0         1         2         3         4\n",
       "0  0.026359  0.026195  0.467685  0.025337  0.454425\n",
       "1  0.004165  0.064221  0.470121  0.457368  0.004126\n",
       "2  0.066862  0.066957  0.730520  0.068520  0.067140\n",
       "3  0.079138  0.099508  0.352786  0.419624  0.048944\n",
       "4  0.015640  0.254870  0.257930  0.455838  0.015722"
      ]
     },
     "execution_count": 355,
     "metadata": {},
     "output_type": "execute_result"
    }
   ],
   "source": [
    "topics = []\n",
    "for doc in corpus:\n",
    "    row = []\n",
    "    for topic, prob in lda.get_document_topics(doc, minimum_probability=0):\n",
    "        row.append(prob)\n",
    "    topics.append(row)\n",
    "\n",
    "topics = pd.DataFrame(topics)\n",
    "topics.head()"
   ]
  },
  {
   "cell_type": "code",
   "execution_count": 351,
   "metadata": {},
   "outputs": [
    {
     "data": {
      "text/plain": [
       "0    0\n",
       "1    0\n",
       "2    0\n",
       "3    0\n",
       "4    0\n",
       "dtype: int64"
      ]
     },
     "execution_count": 351,
     "metadata": {},
     "output_type": "execute_result"
    }
   ],
   "source": [
    "# proving this avoids the issue of lda[] not returning 0 values\n",
    "topics.isnull().sum()"
   ]
  },
  {
   "cell_type": "code",
   "execution_count": 373,
   "metadata": {},
   "outputs": [
    {
     "data": {
      "text/plain": [
       "(13995, 5)"
      ]
     },
     "execution_count": 373,
     "metadata": {},
     "output_type": "execute_result"
    }
   ],
   "source": [
    "topics.shape"
   ]
  },
  {
   "cell_type": "code",
   "execution_count": 87,
   "metadata": {},
   "outputs": [
    {
     "data": {
      "text/plain": [
       "Index(['id', 'dateAdded', 'dateUpdated', 'name', 'asins', 'brand',\n",
       "       'categories', 'primaryCategories', 'imageURLs', 'keys', 'manufacturer',\n",
       "       'manufacturerNumber', 'reviews.date', 'reviews.dateSeen',\n",
       "       'reviews.didPurchase', 'reviews.doRecommend', 'reviews.id',\n",
       "       'reviews.numHelpful', 'reviews.rating', 'reviews.sourceURLs',\n",
       "       'reviews.text', 'reviews.title', 'reviews.username', 'sourceURLs',\n",
       "       'primaryTopic'],\n",
       "      dtype='object')"
      ]
     },
     "execution_count": 87,
     "metadata": {},
     "output_type": "execute_result"
    }
   ],
   "source": [
    "electronics.columns"
   ]
  },
  {
   "cell_type": "code",
   "execution_count": 374,
   "metadata": {},
   "outputs": [],
   "source": [
    "# reset index so that the topics dataframe matches the original reviews\n",
    "electronics = electronics.reset_index()"
   ]
  },
  {
   "cell_type": "code",
   "execution_count": 375,
   "metadata": {},
   "outputs": [],
   "source": [
    "# for each review, find the topic with the highest score\n",
    "electronics['primaryTopic'] = topics.idxmax(axis=1)"
   ]
  },
  {
   "cell_type": "code",
   "execution_count": 376,
   "metadata": {},
   "outputs": [
    {
     "data": {
      "text/html": [
       "<div>\n",
       "<style scoped>\n",
       "    .dataframe tbody tr th:only-of-type {\n",
       "        vertical-align: middle;\n",
       "    }\n",
       "\n",
       "    .dataframe tbody tr th {\n",
       "        vertical-align: top;\n",
       "    }\n",
       "\n",
       "    .dataframe thead tr th {\n",
       "        text-align: left;\n",
       "    }\n",
       "\n",
       "    .dataframe thead tr:last-of-type th {\n",
       "        text-align: right;\n",
       "    }\n",
       "</style>\n",
       "<table border=\"1\" class=\"dataframe\">\n",
       "  <thead>\n",
       "    <tr>\n",
       "      <th></th>\n",
       "      <th colspan=\"8\" halign=\"left\">reviews.rating</th>\n",
       "    </tr>\n",
       "    <tr>\n",
       "      <th></th>\n",
       "      <th>count</th>\n",
       "      <th>mean</th>\n",
       "      <th>std</th>\n",
       "      <th>min</th>\n",
       "      <th>25%</th>\n",
       "      <th>50%</th>\n",
       "      <th>75%</th>\n",
       "      <th>max</th>\n",
       "    </tr>\n",
       "    <tr>\n",
       "      <th>primaryTopic</th>\n",
       "      <th></th>\n",
       "      <th></th>\n",
       "      <th></th>\n",
       "      <th></th>\n",
       "      <th></th>\n",
       "      <th></th>\n",
       "      <th></th>\n",
       "      <th></th>\n",
       "    </tr>\n",
       "  </thead>\n",
       "  <tbody>\n",
       "    <tr>\n",
       "      <th>0</th>\n",
       "      <td>4002.0</td>\n",
       "      <td>4.698151</td>\n",
       "      <td>0.578583</td>\n",
       "      <td>1.0</td>\n",
       "      <td>4.0</td>\n",
       "      <td>5.0</td>\n",
       "      <td>5.0</td>\n",
       "      <td>5.0</td>\n",
       "    </tr>\n",
       "    <tr>\n",
       "      <th>1</th>\n",
       "      <td>2821.0</td>\n",
       "      <td>4.655796</td>\n",
       "      <td>0.682813</td>\n",
       "      <td>1.0</td>\n",
       "      <td>4.0</td>\n",
       "      <td>5.0</td>\n",
       "      <td>5.0</td>\n",
       "      <td>5.0</td>\n",
       "    </tr>\n",
       "    <tr>\n",
       "      <th>2</th>\n",
       "      <td>2113.0</td>\n",
       "      <td>4.411737</td>\n",
       "      <td>0.874131</td>\n",
       "      <td>1.0</td>\n",
       "      <td>4.0</td>\n",
       "      <td>5.0</td>\n",
       "      <td>5.0</td>\n",
       "      <td>5.0</td>\n",
       "    </tr>\n",
       "    <tr>\n",
       "      <th>3</th>\n",
       "      <td>2091.0</td>\n",
       "      <td>4.342898</td>\n",
       "      <td>0.897935</td>\n",
       "      <td>1.0</td>\n",
       "      <td>4.0</td>\n",
       "      <td>5.0</td>\n",
       "      <td>5.0</td>\n",
       "      <td>5.0</td>\n",
       "    </tr>\n",
       "    <tr>\n",
       "      <th>4</th>\n",
       "      <td>2968.0</td>\n",
       "      <td>4.559973</td>\n",
       "      <td>0.753673</td>\n",
       "      <td>1.0</td>\n",
       "      <td>4.0</td>\n",
       "      <td>5.0</td>\n",
       "      <td>5.0</td>\n",
       "      <td>5.0</td>\n",
       "    </tr>\n",
       "  </tbody>\n",
       "</table>\n",
       "</div>"
      ],
      "text/plain": [
       "             reviews.rating                                             \n",
       "                      count      mean       std  min  25%  50%  75%  max\n",
       "primaryTopic                                                            \n",
       "0                    4002.0  4.698151  0.578583  1.0  4.0  5.0  5.0  5.0\n",
       "1                    2821.0  4.655796  0.682813  1.0  4.0  5.0  5.0  5.0\n",
       "2                    2113.0  4.411737  0.874131  1.0  4.0  5.0  5.0  5.0\n",
       "3                    2091.0  4.342898  0.897935  1.0  4.0  5.0  5.0  5.0\n",
       "4                    2968.0  4.559973  0.753673  1.0  4.0  5.0  5.0  5.0"
      ]
     },
     "execution_count": 376,
     "metadata": {},
     "output_type": "execute_result"
    }
   ],
   "source": [
    "electronics[['primaryTopic', 'reviews.rating']].groupby('primaryTopic').describe()"
   ]
  },
  {
   "cell_type": "markdown",
   "metadata": {},
   "source": [
    "- Count: the number of documents having that primary topic\n",
    "- Mean: the average review score for that primary topic\n",
    "\n",
    "Remember though, most of the reviews are either 4 or 5 anyway."
   ]
  },
  {
   "cell_type": "code",
   "execution_count": 377,
   "metadata": {},
   "outputs": [
    {
     "data": {
      "text/plain": [
       "5    9371\n",
       "4    3703\n",
       "3     551\n",
       "1     187\n",
       "2     183\n",
       "Name: reviews.rating, dtype: int64"
      ]
     },
     "execution_count": 377,
     "metadata": {},
     "output_type": "execute_result"
    }
   ],
   "source": [
    "electronics['reviews.rating'].value_counts()"
   ]
  },
  {
   "cell_type": "code",
   "execution_count": 87,
   "metadata": {},
   "outputs": [
    {
     "data": {
      "text/plain": [
       "Index(['id', 'dateAdded', 'dateUpdated', 'name', 'asins', 'brand',\n",
       "       'categories', 'primaryCategories', 'imageURLs', 'keys', 'manufacturer',\n",
       "       'manufacturerNumber', 'reviews.date', 'reviews.dateSeen',\n",
       "       'reviews.didPurchase', 'reviews.doRecommend', 'reviews.id',\n",
       "       'reviews.numHelpful', 'reviews.rating', 'reviews.sourceURLs',\n",
       "       'reviews.text', 'reviews.title', 'reviews.username', 'sourceURLs',\n",
       "       'primaryTopic'],\n",
       "      dtype='object')"
      ]
     },
     "execution_count": 87,
     "metadata": {},
     "output_type": "execute_result"
    }
   ],
   "source": [
    "electronics.columns"
   ]
  },
  {
   "cell_type": "code",
   "execution_count": 378,
   "metadata": {},
   "outputs": [
    {
     "data": {
      "image/png": "[encoded data removed]",
      "text/plain": [
       "<Figure size 432x288 with 1 Axes>"
      ]
     },
     "metadata": {
      "needs_background": "light"
     },
     "output_type": "display_data"
    }
   ],
   "source": [
    "# Box plot of the number of helpful votes each topic gets \n",
    "# (filtered outliers and kept vote counts between 5 and 100)\n",
    "sns.boxplot(x='primaryTopic', y='reviews.numHelpful', \n",
    "            data=electronics[(electronics['reviews.numHelpful'] > 5) & \n",
    "                             (electronics['reviews.numHelpful'] < 100)]\n",
    "           );"
   ]
  },
  {
   "cell_type": "code",
   "execution_count": 380,
   "metadata": {},
   "outputs": [
    {
     "data": {
      "text/html": [
       "<div>\n",
       "<style scoped>\n",
       "    .dataframe tbody tr th:only-of-type {\n",
       "        vertical-align: middle;\n",
       "    }\n",
       "\n",
       "    .dataframe tbody tr th {\n",
       "        vertical-align: top;\n",
       "    }\n",
       "\n",
       "    .dataframe thead th {\n",
       "        text-align: right;\n",
       "    }\n",
       "</style>\n",
       "<table border=\"1\" class=\"dataframe\">\n",
       "  <thead>\n",
       "    <tr style=\"text-align: right;\">\n",
       "      <th></th>\n",
       "      <th>primaryTopic</th>\n",
       "      <th>primaryTopicStrength</th>\n",
       "    </tr>\n",
       "  </thead>\n",
       "  <tbody>\n",
       "    <tr>\n",
       "      <th>0</th>\n",
       "      <td>2</td>\n",
       "      <td>0.467685</td>\n",
       "    </tr>\n",
       "    <tr>\n",
       "      <th>1</th>\n",
       "      <td>2</td>\n",
       "      <td>0.470121</td>\n",
       "    </tr>\n",
       "    <tr>\n",
       "      <th>2</th>\n",
       "      <td>2</td>\n",
       "      <td>0.730520</td>\n",
       "    </tr>\n",
       "    <tr>\n",
       "      <th>3</th>\n",
       "      <td>3</td>\n",
       "      <td>0.419624</td>\n",
       "    </tr>\n",
       "    <tr>\n",
       "      <th>4</th>\n",
       "      <td>3</td>\n",
       "      <td>0.455838</td>\n",
       "    </tr>\n",
       "  </tbody>\n",
       "</table>\n",
       "</div>"
      ],
      "text/plain": [
       "   primaryTopic  primaryTopicStrength\n",
       "0             2              0.467685\n",
       "1             2              0.470121\n",
       "2             2              0.730520\n",
       "3             3              0.419624\n",
       "4             3              0.455838"
      ]
     },
     "execution_count": 380,
     "metadata": {},
     "output_type": "execute_result"
    }
   ],
   "source": [
    "electronics['primaryTopicStrength'] = topics.max(axis=1)\n",
    "electronics[['primaryTopic', 'primaryTopicStrength']].head()"
   ]
  },
  {
   "cell_type": "code",
   "execution_count": 382,
   "metadata": {},
   "outputs": [
    {
     "data": {
      "image/png": "[encoded data removed]",
      "text/plain": [
       "<Figure size 432x288 with 1 Axes>"
      ]
     },
     "metadata": {
      "needs_background": "light"
     },
     "output_type": "display_data"
    }
   ],
   "source": [
    "# distribution of primary topic strengths\n",
    "sns.distplot(electronics['primaryTopicStrength']);"
   ]
  },
  {
   "cell_type": "code",
   "execution_count": 383,
   "metadata": {},
   "outputs": [
    {
     "data": {
      "text/plain": [
       "1501"
      ]
     },
     "execution_count": 383,
     "metadata": {},
     "output_type": "execute_result"
    }
   ],
   "source": [
    "# 1501 / 13995 reviews have a primary topic strength over 90%\n",
    "len(electronics[electronics['primaryTopicStrength'] > .9])"
   ]
  },
  {
   "cell_type": "code",
   "execution_count": 394,
   "metadata": {},
   "outputs": [
    {
     "data": {
      "image/png": "[encoded data removed]",
      "text/plain": [
       "<Figure size 432x288 with 1 Axes>"
      ]
     },
     "metadata": {
      "needs_background": "light"
     },
     "output_type": "display_data"
    }
   ],
   "source": [
    "# from those strong topics...\n",
    "df_slice = electronics[electronics['primaryTopicStrength'] > .9]\n",
    "\n",
    "# view distribution of non-zero numHelpful counts\n",
    "sns.boxplot(x='primaryTopic', y='reviews.numHelpful', \n",
    "            data=df_slice[(df_slice['reviews.numHelpful'] > 0)]\n",
    "           );"
   ]
  },
  {
   "cell_type": "markdown",
   "metadata": {},
   "source": [
    "## Stretch Goals\n",
    "\n",
    "* Incorporate Named Entity Recognition in your analysis\n",
    "* Incorporate some custom pre-processing from our previous lessons (like spacy lemmatization)\n",
    "* Analyze a dataset of interest to you with topic modeling"
   ]
  }
 ],
 "metadata": {
  "kernelspec": {
   "display_name": "U4-S1-NLP (Python3)",
   "language": "python",
   "name": "u4-s1-nlp"
  },
  "language_info": {
   "codemirror_mode": {
    "name": "ipython",
    "version": 3
   },
   "file_extension": ".py",
   "mimetype": "text/x-python",
   "name": "python",
   "nbconvert_exporter": "python",
   "pygments_lexer": "ipython3",
   "version": "3.7.0"
  }
 },
 "nbformat": 4,
 "nbformat_minor": 4
}
