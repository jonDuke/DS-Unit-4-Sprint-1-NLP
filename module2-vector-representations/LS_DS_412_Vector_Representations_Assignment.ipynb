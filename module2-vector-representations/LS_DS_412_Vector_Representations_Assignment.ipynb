{
 "cells": [
  {
   "cell_type": "markdown",
   "metadata": {},
   "source": [
    "<img align=\"left\" src=\"https://lever-client-logos.s3.amazonaws.com/864372b1-534c-480e-acd5-9711f850815c-1524247202159.png\" width=200>\n",
    "<br></br>\n",
    "\n",
    "# Vector Representations\n",
    "## *Data Science Unit 4 Sprint 2 Assignment 2*"
   ]
  },
  {
   "cell_type": "code",
   "execution_count": 1,
   "metadata": {
    "colab": {
     "base_uri": "https://localhost:8080/",
     "height": 159
    },
    "colab_type": "code",
    "id": "hyj-f9FDcVFp",
    "outputId": "5dd045fe-6e4c-458c-e2fc-253c3da9c805"
   },
   "outputs": [],
   "source": [
    "import re\n",
    "import string\n",
    "\n",
    "from sklearn.feature_extraction.text import CountVectorizer, TfidfVectorizer\n",
    "import matplotlib.pyplot as plt\n",
    "import pandas as pd\n",
    "import numpy as np\n",
    "import spacy\n",
    "\n",
    "from bs4 import BeautifulSoup"
   ]
  },
  {
   "cell_type": "code",
   "execution_count": 32,
   "metadata": {},
   "outputs": [
    {
     "data": {
      "text/html": [
       "<div>\n",
       "<style scoped>\n",
       "    .dataframe tbody tr th:only-of-type {\n",
       "        vertical-align: middle;\n",
       "    }\n",
       "\n",
       "    .dataframe tbody tr th {\n",
       "        vertical-align: top;\n",
       "    }\n",
       "\n",
       "    .dataframe thead th {\n",
       "        text-align: right;\n",
       "    }\n",
       "</style>\n",
       "<table border=\"1\" class=\"dataframe\">\n",
       "  <thead>\n",
       "    <tr style=\"text-align: right;\">\n",
       "      <th></th>\n",
       "      <th>description</th>\n",
       "      <th>title</th>\n",
       "    </tr>\n",
       "  </thead>\n",
       "  <tbody>\n",
       "    <tr>\n",
       "      <th>0</th>\n",
       "      <td>b\"&lt;div&gt;&lt;div&gt;Job Requirements:&lt;/div&gt;&lt;ul&gt;&lt;li&gt;&lt;p&gt;...</td>\n",
       "      <td>Data scientist</td>\n",
       "    </tr>\n",
       "    <tr>\n",
       "      <th>1</th>\n",
       "      <td>b'&lt;div&gt;Job Description&lt;br/&gt;\\n&lt;br/&gt;\\n&lt;p&gt;As a Da...</td>\n",
       "      <td>Data Scientist I</td>\n",
       "    </tr>\n",
       "    <tr>\n",
       "      <th>2</th>\n",
       "      <td>b'&lt;div&gt;&lt;p&gt;As a Data Scientist you will be work...</td>\n",
       "      <td>Data Scientist - Entry Level</td>\n",
       "    </tr>\n",
       "    <tr>\n",
       "      <th>3</th>\n",
       "      <td>b'&lt;div class=\"jobsearch-JobMetadataHeader icl-...</td>\n",
       "      <td>Data Scientist</td>\n",
       "    </tr>\n",
       "    <tr>\n",
       "      <th>4</th>\n",
       "      <td>b'&lt;ul&gt;&lt;li&gt;Location: USA \\xe2\\x80\\x93 multiple ...</td>\n",
       "      <td>Data Scientist</td>\n",
       "    </tr>\n",
       "  </tbody>\n",
       "</table>\n",
       "</div>"
      ],
      "text/plain": [
       "                                         description  \\\n",
       "0  b\"<div><div>Job Requirements:</div><ul><li><p>...   \n",
       "1  b'<div>Job Description<br/>\\n<br/>\\n<p>As a Da...   \n",
       "2  b'<div><p>As a Data Scientist you will be work...   \n",
       "3  b'<div class=\"jobsearch-JobMetadataHeader icl-...   \n",
       "4  b'<ul><li>Location: USA \\xe2\\x80\\x93 multiple ...   \n",
       "\n",
       "                          title  \n",
       "0               Data scientist   \n",
       "1              Data Scientist I  \n",
       "2  Data Scientist - Entry Level  \n",
       "3                Data Scientist  \n",
       "4                Data Scientist  "
      ]
     },
     "execution_count": 32,
     "metadata": {},
     "output_type": "execute_result"
    }
   ],
   "source": [
    "import pandas as pd\n",
    "df = pd.read_csv('./data/job_listings.csv', index_col=0)\n",
    "df.head()"
   ]
  },
  {
   "cell_type": "code",
   "execution_count": 33,
   "metadata": {},
   "outputs": [
    {
     "data": {
      "text/plain": [
       "(426, 2)"
      ]
     },
     "execution_count": 33,
     "metadata": {},
     "output_type": "execute_result"
    }
   ],
   "source": [
    "df.shape"
   ]
  },
  {
   "cell_type": "code",
   "execution_count": 68,
   "metadata": {},
   "outputs": [
    {
     "data": {
      "text/plain": [
       "'b\"<div><div>Job Requirements:</div><ul><li><p>\\\\nConceptual understanding in Machine Learning models like Nai\\\\xc2\\\\xa8ve Bayes, K-Means, SVM, Apriori, Linear/ Logistic Regression, Neural, Random Forests, Decision Trees, K-NN along with hands-on experience in at least 2 of them</p>\\\\n</li><li><p>Intermediate to expert level coding skills in Python/R. (Ability to write functions, clean and efficient data manipulation are mandatory for this role)</p>\\\\n</li><li><p>Exposure to packages like NumPy, SciPy, Pandas, Matplotlib etc in Python or GGPlot2, dplyr, tidyR in R</p>\\\\n</li><li><p>Ability to communicate Model findings to both Technical and Non-Technical stake holders</p>\\\\n</li><li><p>Hands on experience in SQL/Hive or similar programming language</p>\\\\n</li><li><p>Must show past work via GitHub, Kaggle or any other published article</p>\\\\n</li><li><p>Master\\'s degree in Statistics/Mathematics/Computer Science or any other quant specific field.</p></li></ul><div><div><div><div><div><div>\\\\nApply Now</div></div></div></div></div></div></div><div></div>\"'"
      ]
     },
     "execution_count": 68,
     "metadata": {},
     "output_type": "execute_result"
    }
   ],
   "source": [
    "df.at[0, 'description']"
   ]
  },
  {
   "cell_type": "markdown",
   "metadata": {
    "colab_type": "text",
    "id": "M7bcmqfGXrFG"
   },
   "source": [
    "## 1) *Clean:* Job Listings from indeed.com that contain the title \"Data Scientist\" \n",
    "\n",
    "You have `job_listings.csv` in the data folder for this module. The text data in the description column is still messy - full of html tags. Use the [BeautifulSoup](https://www.crummy.com/software/BeautifulSoup/bs4/doc/) library to clean up this column. You will need to read through the documentation to accomplish this task. "
   ]
  },
  {
   "cell_type": "code",
   "execution_count": 153,
   "metadata": {
    "colab": {},
    "colab_type": "code",
    "id": "KcYlc1URXhlC"
   },
   "outputs": [],
   "source": [
    "from bs4 import BeautifulSoup\n",
    "import requests\n",
    "import re\n",
    "\n",
    "def clean_description(desc):\n",
    "    soup_text = BeautifulSoup(desc[2:-1]).get_text()  # remove b\"...\" from the ends\n",
    "    soup_text = re.sub('\\\\\\\\n', ' ', soup_text)  # replace new line characters with whitespace\n",
    "    soup_text = re.sub('\\\\\\\\x..', '', soup_text)  # remove unrecognized unicode hex characters\n",
    "    return soup_text.lower()  # make sure case doesn't matter\n",
    "\n",
    "df['clean_desc'] = df['description'].apply(clean_description)"
   ]
  },
  {
   "cell_type": "code",
   "execution_count": 154,
   "metadata": {},
   "outputs": [
    {
     "data": {
      "text/plain": [
       "\"job requirements: conceptual understanding in machine learning models like naive bayes, k-means, svm, apriori, linear/ logistic regression, neural, random forests, decision trees, k-nn along with hands-on experience in at least 2 of them intermediate to expert level coding skills in python/r. (ability to write functions, clean and efficient data manipulation are mandatory for this role) exposure to packages like numpy, scipy, pandas, matplotlib etc in python or ggplot2, dplyr, tidyr in r ability to communicate model findings to both technical and non-technical stake holders hands on experience in sql/hive or similar programming language must show past work via github, kaggle or any other published article master's degree in statistics/mathematics/computer science or any other quant specific field. apply now\""
      ]
     },
     "execution_count": 154,
     "metadata": {},
     "output_type": "execute_result"
    }
   ],
   "source": [
    "df.at[0, 'clean_desc']"
   ]
  },
  {
   "cell_type": "markdown",
   "metadata": {
    "colab_type": "text",
    "id": "5C4xFZNtX1m2"
   },
   "source": [
    "## 2) Use Spacy to tokenize the listings "
   ]
  },
  {
   "cell_type": "code",
   "execution_count": 156,
   "metadata": {},
   "outputs": [],
   "source": [
    "import spacy\n",
    "from spacy.tokenizer import Tokenizer\n",
    "\n",
    "nlp = spacy.load(\"en_core_web_lg\")\n",
    "tokenizer = Tokenizer(nlp.vocab)\n",
    "\n",
    "def get_tokens(doc_array):\n",
    "    tokens = []\n",
    "    for doc in tokenizer.pipe(doc_array, batch_size=500):\n",
    "        tokens.append([token.text for token in doc])\n",
    "    return tokens"
   ]
  },
  {
   "cell_type": "code",
   "execution_count": 157,
   "metadata": {},
   "outputs": [
    {
     "data": {
      "text/plain": [
       "['job',\n",
       " 'requirements:',\n",
       " 'conceptual',\n",
       " 'understanding',\n",
       " 'in',\n",
       " 'machine',\n",
       " 'learning',\n",
       " 'models',\n",
       " 'like',\n",
       " 'naive',\n",
       " 'bayes,',\n",
       " 'k-means,',\n",
       " 'svm,',\n",
       " 'apriori,',\n",
       " 'linear/']"
      ]
     },
     "execution_count": 157,
     "metadata": {},
     "output_type": "execute_result"
    }
   ],
   "source": [
    "df['desc_tokens'] = get_tokens(df['clean_desc'])\n",
    "df.at[0, 'desc_tokens'][:15]"
   ]
  },
  {
   "cell_type": "markdown",
   "metadata": {
    "colab_type": "text",
    "id": "-lgCZNL_YycP"
   },
   "source": [
    "## 3) Use Scikit-Learn's CountVectorizer to get word counts for each listing."
   ]
  },
  {
   "cell_type": "code",
   "execution_count": 158,
   "metadata": {
    "colab": {},
    "colab_type": "code",
    "id": "X2PZ8Pj_YxcF"
   },
   "outputs": [],
   "source": [
    "from sklearn.feature_extraction.text import CountVectorizer\n",
    "\n",
    "vectorizer = CountVectorizer()\n",
    "vectorizer.fit(df['clean_desc'])\n",
    "\n",
    "word_counts = vectorizer.transform(df['clean_desc'])\n",
    "word_counts = pd.DataFrame(word_counts.todense(), columns=vectorizer.get_feature_names())"
   ]
  },
  {
   "cell_type": "code",
   "execution_count": 159,
   "metadata": {},
   "outputs": [
    {
     "data": {
      "text/html": [
       "<div>\n",
       "<style scoped>\n",
       "    .dataframe tbody tr th:only-of-type {\n",
       "        vertical-align: middle;\n",
       "    }\n",
       "\n",
       "    .dataframe tbody tr th {\n",
       "        vertical-align: top;\n",
       "    }\n",
       "\n",
       "    .dataframe thead th {\n",
       "        text-align: right;\n",
       "    }\n",
       "</style>\n",
       "<table border=\"1\" class=\"dataframe\">\n",
       "  <thead>\n",
       "    <tr style=\"text-align: right;\">\n",
       "      <th></th>\n",
       "      <th>00</th>\n",
       "      <th>000</th>\n",
       "      <th>02115</th>\n",
       "      <th>03</th>\n",
       "      <th>0305</th>\n",
       "      <th>0356</th>\n",
       "      <th>04</th>\n",
       "      <th>062</th>\n",
       "      <th>06366</th>\n",
       "      <th>08</th>\n",
       "      <th>...</th>\n",
       "      <th>zf</th>\n",
       "      <th>zfs</th>\n",
       "      <th>zheng</th>\n",
       "      <th>zillow</th>\n",
       "      <th>zogsports</th>\n",
       "      <th>zones</th>\n",
       "      <th>zoom</th>\n",
       "      <th>zuckerberg</th>\n",
       "      <th>zurich</th>\n",
       "      <th>zurichs</th>\n",
       "    </tr>\n",
       "  </thead>\n",
       "  <tbody>\n",
       "    <tr>\n",
       "      <th>0</th>\n",
       "      <td>0</td>\n",
       "      <td>0</td>\n",
       "      <td>0</td>\n",
       "      <td>0</td>\n",
       "      <td>0</td>\n",
       "      <td>0</td>\n",
       "      <td>0</td>\n",
       "      <td>0</td>\n",
       "      <td>0</td>\n",
       "      <td>0</td>\n",
       "      <td>...</td>\n",
       "      <td>0</td>\n",
       "      <td>0</td>\n",
       "      <td>0</td>\n",
       "      <td>0</td>\n",
       "      <td>0</td>\n",
       "      <td>0</td>\n",
       "      <td>0</td>\n",
       "      <td>0</td>\n",
       "      <td>0</td>\n",
       "      <td>0</td>\n",
       "    </tr>\n",
       "    <tr>\n",
       "      <th>1</th>\n",
       "      <td>0</td>\n",
       "      <td>0</td>\n",
       "      <td>0</td>\n",
       "      <td>0</td>\n",
       "      <td>0</td>\n",
       "      <td>0</td>\n",
       "      <td>0</td>\n",
       "      <td>0</td>\n",
       "      <td>0</td>\n",
       "      <td>0</td>\n",
       "      <td>...</td>\n",
       "      <td>0</td>\n",
       "      <td>0</td>\n",
       "      <td>0</td>\n",
       "      <td>0</td>\n",
       "      <td>0</td>\n",
       "      <td>0</td>\n",
       "      <td>0</td>\n",
       "      <td>0</td>\n",
       "      <td>0</td>\n",
       "      <td>0</td>\n",
       "    </tr>\n",
       "    <tr>\n",
       "      <th>2</th>\n",
       "      <td>0</td>\n",
       "      <td>0</td>\n",
       "      <td>0</td>\n",
       "      <td>0</td>\n",
       "      <td>0</td>\n",
       "      <td>0</td>\n",
       "      <td>0</td>\n",
       "      <td>0</td>\n",
       "      <td>0</td>\n",
       "      <td>0</td>\n",
       "      <td>...</td>\n",
       "      <td>0</td>\n",
       "      <td>0</td>\n",
       "      <td>0</td>\n",
       "      <td>0</td>\n",
       "      <td>0</td>\n",
       "      <td>0</td>\n",
       "      <td>0</td>\n",
       "      <td>0</td>\n",
       "      <td>0</td>\n",
       "      <td>0</td>\n",
       "    </tr>\n",
       "    <tr>\n",
       "      <th>3</th>\n",
       "      <td>0</td>\n",
       "      <td>0</td>\n",
       "      <td>0</td>\n",
       "      <td>0</td>\n",
       "      <td>0</td>\n",
       "      <td>0</td>\n",
       "      <td>0</td>\n",
       "      <td>0</td>\n",
       "      <td>0</td>\n",
       "      <td>0</td>\n",
       "      <td>...</td>\n",
       "      <td>0</td>\n",
       "      <td>0</td>\n",
       "      <td>1</td>\n",
       "      <td>0</td>\n",
       "      <td>0</td>\n",
       "      <td>0</td>\n",
       "      <td>0</td>\n",
       "      <td>0</td>\n",
       "      <td>0</td>\n",
       "      <td>0</td>\n",
       "    </tr>\n",
       "    <tr>\n",
       "      <th>4</th>\n",
       "      <td>0</td>\n",
       "      <td>0</td>\n",
       "      <td>0</td>\n",
       "      <td>0</td>\n",
       "      <td>0</td>\n",
       "      <td>0</td>\n",
       "      <td>0</td>\n",
       "      <td>0</td>\n",
       "      <td>0</td>\n",
       "      <td>0</td>\n",
       "      <td>...</td>\n",
       "      <td>0</td>\n",
       "      <td>0</td>\n",
       "      <td>0</td>\n",
       "      <td>0</td>\n",
       "      <td>0</td>\n",
       "      <td>0</td>\n",
       "      <td>0</td>\n",
       "      <td>0</td>\n",
       "      <td>0</td>\n",
       "      <td>0</td>\n",
       "    </tr>\n",
       "  </tbody>\n",
       "</table>\n",
       "<p>5 rows × 8786 columns</p>\n",
       "</div>"
      ],
      "text/plain": [
       "   00  000  02115  03  0305  0356  04  062  06366  08  ...  zf  zfs  zheng  \\\n",
       "0   0    0      0   0     0     0   0    0      0   0  ...   0    0      0   \n",
       "1   0    0      0   0     0     0   0    0      0   0  ...   0    0      0   \n",
       "2   0    0      0   0     0     0   0    0      0   0  ...   0    0      0   \n",
       "3   0    0      0   0     0     0   0    0      0   0  ...   0    0      1   \n",
       "4   0    0      0   0     0     0   0    0      0   0  ...   0    0      0   \n",
       "\n",
       "   zillow  zogsports  zones  zoom  zuckerberg  zurich  zurichs  \n",
       "0       0          0      0     0           0       0        0  \n",
       "1       0          0      0     0           0       0        0  \n",
       "2       0          0      0     0           0       0        0  \n",
       "3       0          0      0     0           0       0        0  \n",
       "4       0          0      0     0           0       0        0  \n",
       "\n",
       "[5 rows x 8786 columns]"
      ]
     },
     "execution_count": 159,
     "metadata": {},
     "output_type": "execute_result"
    }
   ],
   "source": [
    "word_counts.head()"
   ]
  },
  {
   "cell_type": "markdown",
   "metadata": {
    "colab_type": "text",
    "id": "Zo1iH_UeY7_n"
   },
   "source": [
    "## 4) Visualize the most common word counts"
   ]
  },
  {
   "cell_type": "code",
   "execution_count": 160,
   "metadata": {
    "colab": {},
    "colab_type": "code",
    "id": "M5LB00uyZKV5"
   },
   "outputs": [
    {
     "data": {
      "text/plain": [
       "and            11754\n",
       "to              6942\n",
       "the             5550\n",
       "of              4614\n",
       "data            4466\n",
       "               ...  \n",
       "orchestra          1\n",
       "orchestrate        1\n",
       "designpac          1\n",
       "orcle              1\n",
       "zurichs            1\n",
       "Length: 8786, dtype: int64"
      ]
     },
     "execution_count": 160,
     "metadata": {},
     "output_type": "execute_result"
    }
   ],
   "source": [
    "# counts all occurences of each word\n",
    "word_counts.sum().sort_values(ascending=False)"
   ]
  },
  {
   "cell_type": "code",
   "execution_count": 161,
   "metadata": {},
   "outputs": [],
   "source": [
    "import squarify\n",
    "import matplotlib.pyplot as plt\n",
    "\n",
    "def visualize_common_words(word_counts, num_words=20, remove_stops=True):\n",
    "    \"\"\" Takes a dataframe of word counts and visualizes the most common words \"\"\"\n",
    "    \n",
    "    # get a descending list of the most common words\n",
    "    totals = word_counts.sum().sort_values(ascending=False)\n",
    "    word_count = totals.sum()\n",
    "    \n",
    "    top_words = [[],[]]\n",
    "    if(remove_stops):\n",
    "        for i in range(len(totals)):\n",
    "            # check if each word is a stop word before adding it\n",
    "            if (totals.index[i] not in nlp.Defaults.stop_words):\n",
    "                # append word and normalized count\n",
    "                top_words[0].append(totals.index[i])\n",
    "                top_words[1].append(totals[i]/word_count)\n",
    "                \n",
    "            # break loop once enough words have been found\n",
    "            if len(top_words[0]) >= num_words:\n",
    "                break\n",
    "    else:\n",
    "        # no need to remove any, just take a slice\n",
    "        top_words[0] = totals.index[:num_words]\n",
    "        top_words[1] = totals.values[:num_words]\n",
    "    \n",
    "    squarify.plot(sizes=top_words[1], label=top_words[0], alpha=.8)\n",
    "    plt.axis('off')\n",
    "    plt.show()"
   ]
  },
  {
   "cell_type": "code",
   "execution_count": 162,
   "metadata": {},
   "outputs": [
    {
     "data": {
      "image/png": "[encoded data removed]",
      "text/plain": [
       "<Figure size 432x288 with 1 Axes>"
      ]
     },
     "metadata": {
      "needs_background": "light"
     },
     "output_type": "display_data"
    }
   ],
   "source": [
    "visualize_common_words(word_counts)"
   ]
  },
  {
   "cell_type": "code",
   "execution_count": 163,
   "metadata": {},
   "outputs": [
    {
     "data": {
      "image/png": "[encoded data removed]",
      "text/plain": [
       "<Figure size 432x288 with 1 Axes>"
      ]
     },
     "metadata": {
      "needs_background": "light"
     },
     "output_type": "display_data"
    }
   ],
   "source": [
    "visualize_common_words(word_counts, remove_stops=False)"
   ]
  },
  {
   "cell_type": "markdown",
   "metadata": {
    "colab_type": "text",
    "id": "bwFsTqrVZMYi"
   },
   "source": [
    "## 5) Use Scikit-Learn's tfidfVectorizer to get a TF-IDF feature matrix"
   ]
  },
  {
   "cell_type": "code",
   "execution_count": 164,
   "metadata": {
    "colab": {},
    "colab_type": "code",
    "id": "-gx2gZCbl5Np"
   },
   "outputs": [],
   "source": [
    "from sklearn.feature_extraction.text import TfidfVectorizer\n",
    "\n",
    "vectorizer = TfidfVectorizer(stop_words=\"english\")\n",
    "vectorizer.fit(df['clean_desc'])\n",
    "\n",
    "tf_idf = vectorizer.transform(df['clean_desc'])\n",
    "tf_idf = pd.DataFrame(tf_idf.todense(), columns=vectorizer.get_feature_names())"
   ]
  },
  {
   "cell_type": "code",
   "execution_count": 165,
   "metadata": {},
   "outputs": [
    {
     "data": {
      "text/html": [
       "<div>\n",
       "<style scoped>\n",
       "    .dataframe tbody tr th:only-of-type {\n",
       "        vertical-align: middle;\n",
       "    }\n",
       "\n",
       "    .dataframe tbody tr th {\n",
       "        vertical-align: top;\n",
       "    }\n",
       "\n",
       "    .dataframe thead th {\n",
       "        text-align: right;\n",
       "    }\n",
       "</style>\n",
       "<table border=\"1\" class=\"dataframe\">\n",
       "  <thead>\n",
       "    <tr style=\"text-align: right;\">\n",
       "      <th></th>\n",
       "      <th>00</th>\n",
       "      <th>000</th>\n",
       "      <th>02115</th>\n",
       "      <th>03</th>\n",
       "      <th>0305</th>\n",
       "      <th>0356</th>\n",
       "      <th>04</th>\n",
       "      <th>062</th>\n",
       "      <th>06366</th>\n",
       "      <th>08</th>\n",
       "      <th>...</th>\n",
       "      <th>zf</th>\n",
       "      <th>zfs</th>\n",
       "      <th>zheng</th>\n",
       "      <th>zillow</th>\n",
       "      <th>zogsports</th>\n",
       "      <th>zones</th>\n",
       "      <th>zoom</th>\n",
       "      <th>zuckerberg</th>\n",
       "      <th>zurich</th>\n",
       "      <th>zurichs</th>\n",
       "    </tr>\n",
       "  </thead>\n",
       "  <tbody>\n",
       "    <tr>\n",
       "      <th>0</th>\n",
       "      <td>0.0</td>\n",
       "      <td>0.0</td>\n",
       "      <td>0.0</td>\n",
       "      <td>0.0</td>\n",
       "      <td>0.0</td>\n",
       "      <td>0.0</td>\n",
       "      <td>0.0</td>\n",
       "      <td>0.0</td>\n",
       "      <td>0.0</td>\n",
       "      <td>0.0</td>\n",
       "      <td>...</td>\n",
       "      <td>0.0</td>\n",
       "      <td>0.0</td>\n",
       "      <td>0.000000</td>\n",
       "      <td>0.0</td>\n",
       "      <td>0.0</td>\n",
       "      <td>0.0</td>\n",
       "      <td>0.0</td>\n",
       "      <td>0.0</td>\n",
       "      <td>0.0</td>\n",
       "      <td>0.0</td>\n",
       "    </tr>\n",
       "    <tr>\n",
       "      <th>1</th>\n",
       "      <td>0.0</td>\n",
       "      <td>0.0</td>\n",
       "      <td>0.0</td>\n",
       "      <td>0.0</td>\n",
       "      <td>0.0</td>\n",
       "      <td>0.0</td>\n",
       "      <td>0.0</td>\n",
       "      <td>0.0</td>\n",
       "      <td>0.0</td>\n",
       "      <td>0.0</td>\n",
       "      <td>...</td>\n",
       "      <td>0.0</td>\n",
       "      <td>0.0</td>\n",
       "      <td>0.000000</td>\n",
       "      <td>0.0</td>\n",
       "      <td>0.0</td>\n",
       "      <td>0.0</td>\n",
       "      <td>0.0</td>\n",
       "      <td>0.0</td>\n",
       "      <td>0.0</td>\n",
       "      <td>0.0</td>\n",
       "    </tr>\n",
       "    <tr>\n",
       "      <th>2</th>\n",
       "      <td>0.0</td>\n",
       "      <td>0.0</td>\n",
       "      <td>0.0</td>\n",
       "      <td>0.0</td>\n",
       "      <td>0.0</td>\n",
       "      <td>0.0</td>\n",
       "      <td>0.0</td>\n",
       "      <td>0.0</td>\n",
       "      <td>0.0</td>\n",
       "      <td>0.0</td>\n",
       "      <td>...</td>\n",
       "      <td>0.0</td>\n",
       "      <td>0.0</td>\n",
       "      <td>0.000000</td>\n",
       "      <td>0.0</td>\n",
       "      <td>0.0</td>\n",
       "      <td>0.0</td>\n",
       "      <td>0.0</td>\n",
       "      <td>0.0</td>\n",
       "      <td>0.0</td>\n",
       "      <td>0.0</td>\n",
       "    </tr>\n",
       "    <tr>\n",
       "      <th>3</th>\n",
       "      <td>0.0</td>\n",
       "      <td>0.0</td>\n",
       "      <td>0.0</td>\n",
       "      <td>0.0</td>\n",
       "      <td>0.0</td>\n",
       "      <td>0.0</td>\n",
       "      <td>0.0</td>\n",
       "      <td>0.0</td>\n",
       "      <td>0.0</td>\n",
       "      <td>0.0</td>\n",
       "      <td>...</td>\n",
       "      <td>0.0</td>\n",
       "      <td>0.0</td>\n",
       "      <td>0.106247</td>\n",
       "      <td>0.0</td>\n",
       "      <td>0.0</td>\n",
       "      <td>0.0</td>\n",
       "      <td>0.0</td>\n",
       "      <td>0.0</td>\n",
       "      <td>0.0</td>\n",
       "      <td>0.0</td>\n",
       "    </tr>\n",
       "    <tr>\n",
       "      <th>4</th>\n",
       "      <td>0.0</td>\n",
       "      <td>0.0</td>\n",
       "      <td>0.0</td>\n",
       "      <td>0.0</td>\n",
       "      <td>0.0</td>\n",
       "      <td>0.0</td>\n",
       "      <td>0.0</td>\n",
       "      <td>0.0</td>\n",
       "      <td>0.0</td>\n",
       "      <td>0.0</td>\n",
       "      <td>...</td>\n",
       "      <td>0.0</td>\n",
       "      <td>0.0</td>\n",
       "      <td>0.000000</td>\n",
       "      <td>0.0</td>\n",
       "      <td>0.0</td>\n",
       "      <td>0.0</td>\n",
       "      <td>0.0</td>\n",
       "      <td>0.0</td>\n",
       "      <td>0.0</td>\n",
       "      <td>0.0</td>\n",
       "    </tr>\n",
       "  </tbody>\n",
       "</table>\n",
       "<p>5 rows × 8529 columns</p>\n",
       "</div>"
      ],
      "text/plain": [
       "    00  000  02115   03  0305  0356   04  062  06366   08  ...   zf  zfs  \\\n",
       "0  0.0  0.0    0.0  0.0   0.0   0.0  0.0  0.0    0.0  0.0  ...  0.0  0.0   \n",
       "1  0.0  0.0    0.0  0.0   0.0   0.0  0.0  0.0    0.0  0.0  ...  0.0  0.0   \n",
       "2  0.0  0.0    0.0  0.0   0.0   0.0  0.0  0.0    0.0  0.0  ...  0.0  0.0   \n",
       "3  0.0  0.0    0.0  0.0   0.0   0.0  0.0  0.0    0.0  0.0  ...  0.0  0.0   \n",
       "4  0.0  0.0    0.0  0.0   0.0   0.0  0.0  0.0    0.0  0.0  ...  0.0  0.0   \n",
       "\n",
       "      zheng  zillow  zogsports  zones  zoom  zuckerberg  zurich  zurichs  \n",
       "0  0.000000     0.0        0.0    0.0   0.0         0.0     0.0      0.0  \n",
       "1  0.000000     0.0        0.0    0.0   0.0         0.0     0.0      0.0  \n",
       "2  0.000000     0.0        0.0    0.0   0.0         0.0     0.0      0.0  \n",
       "3  0.106247     0.0        0.0    0.0   0.0         0.0     0.0      0.0  \n",
       "4  0.000000     0.0        0.0    0.0   0.0         0.0     0.0      0.0  \n",
       "\n",
       "[5 rows x 8529 columns]"
      ]
     },
     "execution_count": 165,
     "metadata": {},
     "output_type": "execute_result"
    }
   ],
   "source": [
    "tf_idf.head()"
   ]
  },
  {
   "cell_type": "markdown",
   "metadata": {},
   "source": [
    "## 6) Create a NearestNeighbor Model. Write the description of your ideal datascience job and query your job listings. "
   ]
  },
  {
   "cell_type": "code",
   "execution_count": 118,
   "metadata": {
    "collapsed": false,
    "inputHidden": false,
    "jupyter": {
     "outputs_hidden": false
    },
    "outputHidden": false
   },
   "outputs": [
    {
     "data": {
      "text/plain": [
       "NearestNeighbors(algorithm='kd_tree', leaf_size=30, metric='minkowski',\n",
       "                 metric_params=None, n_jobs=None, n_neighbors=5, p=2,\n",
       "                 radius=1.0)"
      ]
     },
     "execution_count": 118,
     "metadata": {},
     "output_type": "execute_result"
    }
   ],
   "source": [
    "from sklearn.neighbors import NearestNeighbors\n",
    "\n",
    "# Fit on DTM\n",
    "nn = NearestNeighbors(n_neighbors=5, algorithm='kd_tree')\n",
    "nn.fit(tf_idf)"
   ]
  },
  {
   "cell_type": "code",
   "execution_count": 125,
   "metadata": {},
   "outputs": [
    {
     "data": {
      "text/plain": [
       "(array([[1.32120096, 1.32786079, 1.33330708, 1.33887997, 1.33887997]]),\n",
       " array([[ 89, 346, 399,  77, 214]], dtype=int64))"
      ]
     },
     "execution_count": 125,
     "metadata": {},
     "output_type": "execute_result"
    }
   ],
   "source": [
    "my_listing = \"I want to use Neural Networks to create new things\"\n",
    "nn.kneighbors(vectorizer.transform([my_listing]).todense())"
   ]
  },
  {
   "cell_type": "code",
   "execution_count": 126,
   "metadata": {},
   "outputs": [
    {
     "data": {
      "text/plain": [
       "\"About Uber Were changing the way people think about transportation. Not that long ago we were just an app to request premium black cars in a few metropolitan areas. Now were a part of the logistical fabric of more than 600 cities around the world. Whether its a ride, a sandwich, or a package, we use technology to give people what they want, when they want it.  For the people who drive with Uber, our app represents a flexible new way to earn money. For cities, we help strengthen local economies, improve access to transportation, and make streets safer.  And thats just what were doing today. Were thinking about the future, too. With teams working on autonomous trucking and self-driving cars, were in for the long haul. Were reimagining how people and things move from one place to the next. About the Role  We are looking for data scientists with strong backgrounds in statistics, machine learning, computer science, etc to join the core product team at Uber. In this role, you will embed in an area such as Rider or Driver and be responsible for deriving insights and building models used to optimize our users experiences. What You'll Do Leverage data to perform intensive analysis across all areas of our business to catalyze product development Design experiments and interpret the results to draw detailed and actionable conclusions Build cutting-edge machine learning models to make our product intelligent (NLP, OCR, neural network, etc) Perform time-series analyses, hypothesis testing, and causal analyses to statistically assess relative impact and extract trends Create models to enhance understanding of user behavior and predict future performance of cohorts Collaborate with cross-functional teams across disciplines such as product, engineering, operations, and marketing  What You'll Need Masters or PhD (with anticipated graduation in 2019) in Statistics, Computer Science, Economics, Math or another technical field Experience with common analysis tools - SQL, R, and Python. Demonstrable familiarity with code and programming concepts A product mindset - you ask and address the most important analytical questions with a view on enhancing product impact Self-driven with the ability to work in a self-guided manner Superb communication and organizational skills\""
      ]
     },
     "execution_count": 126,
     "metadata": {},
     "output_type": "execute_result"
    }
   ],
   "source": [
    "df.at[89, 'clean_desc']"
   ]
  },
  {
   "cell_type": "code",
   "execution_count": 189,
   "metadata": {},
   "outputs": [],
   "source": [
    "def show_similar_listings(listing, max_length=None):\n",
    "    \"\"\"\n",
    "    Prints the 5 most similar job listings to the given listing\n",
    "    \n",
    "    If max_length is specified, it will print that many characters of each listing\n",
    "    \"\"\"\n",
    "    \n",
    "    listing = listing.lower()\n",
    "    transformed_listing = vectorizer.transform([listing]).todense()\n",
    "    results = nn.kneighbors(transformed_listing)\n",
    "    strengths = results[0][0]\n",
    "    similar_listings = results[1][0]\n",
    "    \n",
    "    for i in range(5):\n",
    "        print(f\"Listing {similar_listings[i]}, Title: {df.at[similar_listings[i], 'title']}, Similarity: {strengths[i]}\")\n",
    "        if max_length is None:\n",
    "            print(df.at[similar_listings[i], 'clean_desc'], '\\n')\n",
    "        else:\n",
    "            text = df.at[similar_listings[i], 'clean_desc']\n",
    "            if len(text) > max_length:\n",
    "                print(df.at[similar_listings[i], 'clean_desc'][:max_length] + '...', '\\n')\n",
    "            else:\n",
    "                print(df.at[similar_listings[i], 'clean_desc'], '\\n')"
   ]
  },
  {
   "cell_type": "code",
   "execution_count": 190,
   "metadata": {},
   "outputs": [
    {
     "name": "stdout",
     "output_type": "stream",
     "text": [
      "Listing 90, Title: Data Scientist (Multiple levels), Similarity: 1.331947960290444\n",
      "data scientist (multiple levels)-19000c1k   no visa sponsorship is available for this position.  preferred qualifications  preferred qualifications  within the ai apps team at oracle we develop and deploy data science solutions at scale and throughout all of oracle's existing products and services, and are seeking to grow the team with brilliant and diverse individuals with well-crafted technical ability. this is an exciting and challenging role that will stretch your knowledge and curiosity, offering the opportunity to learn new skills and work within an unusually talented, global community at oracle.   you will encounter a wide variety of data types, from retail and financial transactions to free text, images and video. ai apps are required to solve business challenges ranging from recommendation systems and dynamic discounting, management of the flow of goods and services, transportation logistics and movement and storage of materials and inventory, accounting and procurement, project management, manufacturing, staff recruiting, handling and optimizing the hr of an organization   this is a hands-on position where you will be empowered to be creative, ambitious and bold, to solve challenging problems and have the potential to directly impact oracles future. the role requires that you have a solid background in machine learning and know how to invent and modify advanced innovative algorithms, applying them to large data sets. you will be a great teammate who is eager to both teach and learn every day, that is enthusiastic and self-motivated to solve useful problems.   more specifically, you will help us solve business and technical problems with robust and statistically sound use of rigorous scientific methodologies and creative use of algorithms using ai, machine (deep, reinforcement) learning and predictive modelling techniques. you should be comfortable in an environment that combines clear problem specifications with sometimes unpredictable situations, carrying... \n",
      "\n",
      "Listing 50, Title: Data Scientist (Multiple levels), Similarity: 1.331947960290444\n",
      "data scientist (multiple levels)-19000c1k   no visa sponsorship is available for this position.  preferred qualifications  preferred qualifications  within the ai apps team at oracle we develop and deploy data science solutions at scale and throughout all of oracle's existing products and services, and are seeking to grow the team with brilliant and diverse individuals with well-crafted technical ability. this is an exciting and challenging role that will stretch your knowledge and curiosity, offering the opportunity to learn new skills and work within an unusually talented, global community at oracle.   you will encounter a wide variety of data types, from retail and financial transactions to free text, images and video. ai apps are required to solve business challenges ranging from recommendation systems and dynamic discounting, management of the flow of goods and services, transportation logistics and movement and storage of materials and inventory, accounting and procurement, project management, manufacturing, staff recruiting, handling and optimizing the hr of an organization   this is a hands-on position where you will be empowered to be creative, ambitious and bold, to solve challenging problems and have the potential to directly impact oracles future. the role requires that you have a solid background in machine learning and know how to invent and modify advanced innovative algorithms, applying them to large data sets. you will be a great teammate who is eager to both teach and learn every day, that is enthusiastic and self-motivated to solve useful problems.   more specifically, you will help us solve business and technical problems with robust and statistically sound use of rigorous scientific methodologies and creative use of algorithms using ai, machine (deep, reinforcement) learning and predictive modelling techniques. you should be comfortable in an environment that combines clear problem specifications with sometimes unpredictable situations, carrying... \n",
      "\n",
      "Listing 121, Title: Artificial Intelligence (AI) Data Scientist, Similarity: 1.3345867861971041\n",
      "part-timethe nittany artificial intelligence (ai) alliance at the pennsylvania state university (psu) is looking for a talented and highly motivated undergraduate intern to work on ai-related projects, gaining hands-on experience that enhances their learning at penn state, while also gaining highly marketable development experience. selected candidates will be members of a software development team and assist with the development of prototypes leveraging artificial intelligence and the design and configuration of cognitive modules within existing cognitive agents. we are looking for a data science intern to join our team beginning summer 2019. as a data science intern, you will collaborate with the other software development team members to do meaningful work while also growing your expertise. strong consideration will be given to candidates who can present a successful project in machine learning that demonstrates the ability to create and train end-to-end solutions combining data preparation, advanced analysis, and useful outputs. responsibilities include working within an agile development environment with other software developers, a scrum master, and product owners to develop and deliver quality solutions. specifically, the data science intern will perform the following: research state-of-the-art algorithms in machine learning to identify viable approaches to significant unsolved challenges for nittany ai alliance projects. design solution prototypes that connect data sources through the selected algorithms to a concrete use case. develop code to implement the algorithms, and test their efficacy and efficiency against real-world data. requirements: proficiency with a modern programming language appropriate for machine learning prototyping. python is required, and skill in another language such as javascript or r would be beneficial. knowledge of data structures and data management methods, and the ability to analyze a problem and determine an efficient structur... \n",
      "\n",
      "Listing 286, Title: Data Scientist, Similarity: 1.3421550612218913\n",
      "about us blueshift empowers leading digital brands like udacity, lendingtree, iac and paypal to automate customer engagement marketing using latest innovations in distributed data systems and ai. the company is co-founded by repeat entrepreneurs who previously built mertado (acquired by groupon), and was part of the founding team behind kosmix (acquired by walmart to become @walmartlabs). blueshift is backed by top tier silicon valley vcs like storm ventures, nexus venture partners and nea and is based in san francisco.  data scientist blueshift is looking for bold and self motivated data scientists to join the team. you will have a chance to work on all aspects of designing and implementing novel algorithms, cutting edge learning architectures and statistical analysis.  responsibilities   be a self motivated, bold thinker, innovator and builder of scalable ai/ml systems end to end and embrace full stack data science. you will design and develop techniques to power cutting edge ai algorithms over petabytes of data. you will work along side experienced technical and product teams with proven entrepreneurial success.  requirements   expert level knowledge on different classes of learning algorithms, optimization and statistical analysis. working proficiency with distributed systems like spark, kafka, hdfs, cassandra, hive and hbase. masters/phd in computer science or related disciplines. strong proficiency with open source ai/ml software libraries. a real passion for thinking from first principles and building from ground up.  perks  generous equity grants in fast growing startup. full health/vision/dental insurance, catered lunches and competitive benefits proximity to public transportation (bart / muni / caltrain) visa transfers (h1b, tn etc).   \n",
      "\n",
      "Listing 53, Title: Data Scientist – Intern (Summer 2019), Similarity: 1.3427289175477823\n",
      "temporary, internshipc3 is a leading enterprise ai software provider for accelerating digital transformation. the comprehensive and proven c3 ai suite uses a model-driven abstraction layer to enable organizations to develop, deploy, and operate enterprise scale ai applications 10x to 100x faster than alternative approaches.  we are looking for data science interns to join us during our summer 2019 internship program. as a data science intern, you will participate in the definition of new analytics capabilities able to provide our customers with the information they need to make proper decisions to support our customers in operating the internet of things (iot). in addition, you will help find the appropriate machine learning / data mining algorithms to answer these questions. finally, you will be responsible for implementing this into the product and making it available to our customers.  qualified candidates will have an in-depth knowledge of most common machine learning techniques and their application. you will also understand the limitations of these algorithms and how to tweak them or derive from them to achieve similar results at large-scale.  your responsibilities:  driving adoption of deep learning models into next-generation of c3 products. designing and deploying machine learning algorithms for industrial applications such as fraud detection and predictive maintenance. collaborating with data and subject matter experts from c3 and its customer teams to seek, understand, validate, interpret, and correctly use new data elements.  requirements:  pursuing a ms or phd in computer science, electrical engineering, statistics, or equivalent fields. applied machine learning experience (regression and classification, supervised and unsupervised learning). strong mathematical background (linear algebra, calculus, probability and statistics). experience with scalable ml (mapreduce, streaming). ability to drive a project and work both independently and in a team. smart... \n",
      "\n"
     ]
    }
   ],
   "source": [
    "new_listing = \"generative generate machine learning ai\"\n",
    "show_similar_listings(new_listing, max_length=2000)"
   ]
  },
  {
   "cell_type": "markdown",
   "metadata": {
    "colab_type": "text",
    "id": "FiDfTWceoRkH"
   },
   "source": [
    "## Stretch Goals\n",
    "\n",
    " - Try different visualizations for words and frequencies - what story do you want to tell with the data?\n",
    " - Scrape Job Listings for the job title \"Data Analyst\". How do these differ from Data Scientist Job Listings\n",
    " - Try and identify requirements for experience specific technologies that are asked for in the job listings. How are those distributed among the job listings?\n",
    " - Use a clustering algorithm to cluster documents by their most important terms. Do the clusters reveal any common themes?\n",
    "  - **Hint:** K-means might not be the best algorithm for this. Do a little bit of research to see what might be good for this. Also, remember that algorithms that depend on Euclidean distance break down with high dimensional data.\n",
    " - Create a labeled dataset - which jobs will you apply for? Train a model to select the jobs you are most likely to apply for. :) "
   ]
  }
 ],
 "metadata": {
  "colab": {
   "collapsed_sections": [],
   "name": "LS_DS_422_BOW_Assignment.ipynb",
   "provenance": [],
   "version": "0.3.2"
  },
  "kernel_info": {
   "name": "python3"
  },
  "kernelspec": {
   "display_name": "U4-S1-NLP (Python3)",
   "language": "python",
   "name": "u4-s1-nlp"
  },
  "language_info": {
   "codemirror_mode": {
    "name": "ipython",
    "version": 3
   },
   "file_extension": ".py",
   "mimetype": "text/x-python",
   "name": "python",
   "nbconvert_exporter": "python",
   "pygments_lexer": "ipython3",
   "version": "3.7.0"
  },
  "nteract": {
   "version": "0.14.3"
  }
 },
 "nbformat": 4,
 "nbformat_minor": 4
}
