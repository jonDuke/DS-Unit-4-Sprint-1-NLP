{
 "cells": [
  {
   "cell_type": "markdown",
   "metadata": {},
   "source": [
    "<img align=\"left\" src=\"https://lever-client-logos.s3.amazonaws.com/864372b1-534c-480e-acd5-9711f850815c-1524247202159.png\" width=200>\n",
    "<br></br>\n",
    "<br></br>\n",
    "\n",
    "# Natural Language Processing (NLP)\n",
    "## *Data Science Unit 4 Sprint 1 Assignment 1*\n",
    "\n",
    "Your goal in this assignment: find the attributes of the best & worst coffee shops in the dataset. The text is fairly raw: dates in the review, extra words in the `star_rating` column, etc. You'll probably want to clean that stuff up for a better analysis. \n",
    "\n",
    "Analyze the corpus of text using text visualizations of token frequency. Try cleaning the data as much as possible. Try the following techniques: \n",
    "- Lemmatization\n",
    "- Custom stopword removal\n",
    "\n",
    "Keep in mind the attributes of good tokens. Once you have a solid baseline, layer in the star rating in your visualization(s). Key part of this assignment - produce a write-up of the attributes of the best and worst coffee shops. Based on your analysis, what makes the best the best and the worst the worst. Use graphs and numbesr from your analysis to support your conclusions. There should be plenty of markdown cells! :coffee:"
   ]
  },
  {
   "cell_type": "code",
   "execution_count": 1,
   "metadata": {},
   "outputs": [
    {
     "data": {
      "image/jpeg": "[encoded data removed]",
      "text/html": [
       "\n",
       "        <iframe\n",
       "            width=\"400\"\n",
       "            height=\"300\"\n",
       "            src=\"https://www.youtube.com/embed/Jml7NVYm8cs\"\n",
       "            frameborder=\"0\"\n",
       "            allowfullscreen\n",
       "        ></iframe>\n",
       "        "
      ],
      "text/plain": [
       "<IPython.lib.display.YouTubeVideo at 0x1ea1ee4ae80>"
      ]
     },
     "execution_count": 1,
     "metadata": {},
     "output_type": "execute_result"
    }
   ],
   "source": [
    "from IPython.display import YouTubeVideo\n",
    "\n",
    "YouTubeVideo('Jml7NVYm8cs')"
   ]
  },
  {
   "cell_type": "code",
   "execution_count": 2,
   "metadata": {},
   "outputs": [
    {
     "data": {
      "text/plain": [
       "'C:\\\\Users\\\\thedo\\\\lambda_u4\\\\NLP\\\\module1-text-data'"
      ]
     },
     "execution_count": 2,
     "metadata": {},
     "output_type": "execute_result"
    }
   ],
   "source": [
    "%pwd"
   ]
  },
  {
   "cell_type": "code",
   "execution_count": 47,
   "metadata": {},
   "outputs": [
    {
     "data": {
      "text/html": [
       "<div>\n",
       "<style scoped>\n",
       "    .dataframe tbody tr th:only-of-type {\n",
       "        vertical-align: middle;\n",
       "    }\n",
       "\n",
       "    .dataframe tbody tr th {\n",
       "        vertical-align: top;\n",
       "    }\n",
       "\n",
       "    .dataframe thead th {\n",
       "        text-align: right;\n",
       "    }\n",
       "</style>\n",
       "<table border=\"1\" class=\"dataframe\">\n",
       "  <thead>\n",
       "    <tr style=\"text-align: right;\">\n",
       "      <th></th>\n",
       "      <th>coffee_shop_name</th>\n",
       "      <th>full_review_text</th>\n",
       "      <th>star_rating</th>\n",
       "    </tr>\n",
       "  </thead>\n",
       "  <tbody>\n",
       "    <tr>\n",
       "      <th>0</th>\n",
       "      <td>The Factory - Cafe With a Soul</td>\n",
       "      <td>11/25/2016 1 check-in Love love loved the atm...</td>\n",
       "      <td>5.0 star rating</td>\n",
       "    </tr>\n",
       "    <tr>\n",
       "      <th>1</th>\n",
       "      <td>The Factory - Cafe With a Soul</td>\n",
       "      <td>12/2/2016 Listed in Date Night: Austin, Ambia...</td>\n",
       "      <td>4.0 star rating</td>\n",
       "    </tr>\n",
       "    <tr>\n",
       "      <th>2</th>\n",
       "      <td>The Factory - Cafe With a Soul</td>\n",
       "      <td>11/30/2016 1 check-in Listed in Brunch Spots ...</td>\n",
       "      <td>4.0 star rating</td>\n",
       "    </tr>\n",
       "    <tr>\n",
       "      <th>3</th>\n",
       "      <td>The Factory - Cafe With a Soul</td>\n",
       "      <td>11/25/2016 Very cool decor! Good drinks Nice ...</td>\n",
       "      <td>2.0 star rating</td>\n",
       "    </tr>\n",
       "    <tr>\n",
       "      <th>4</th>\n",
       "      <td>The Factory - Cafe With a Soul</td>\n",
       "      <td>12/3/2016 1 check-in They are located within ...</td>\n",
       "      <td>4.0 star rating</td>\n",
       "    </tr>\n",
       "  </tbody>\n",
       "</table>\n",
       "</div>"
      ],
      "text/plain": [
       "                  coffee_shop_name  \\\n",
       "0  The Factory - Cafe With a Soul    \n",
       "1  The Factory - Cafe With a Soul    \n",
       "2  The Factory - Cafe With a Soul    \n",
       "3  The Factory - Cafe With a Soul    \n",
       "4  The Factory - Cafe With a Soul    \n",
       "\n",
       "                                    full_review_text        star_rating  \n",
       "0   11/25/2016 1 check-in Love love loved the atm...   5.0 star rating   \n",
       "1   12/2/2016 Listed in Date Night: Austin, Ambia...   4.0 star rating   \n",
       "2   11/30/2016 1 check-in Listed in Brunch Spots ...   4.0 star rating   \n",
       "3   11/25/2016 Very cool decor! Good drinks Nice ...   2.0 star rating   \n",
       "4   12/3/2016 1 check-in They are located within ...   4.0 star rating   "
      ]
     },
     "execution_count": 47,
     "metadata": {},
     "output_type": "execute_result"
    }
   ],
   "source": [
    "import pandas as pd\n",
    "\n",
    "#url = \"https://raw.githubusercontent.com/LambdaSchool/DS-Unit-4-Sprint-1-NLP/master/module1-text-data/data/yelp_coffeeshop_review_data.csv\"\n",
    "url = './data/yelp_coffeeshop_review_data.csv'\n",
    "\n",
    "shops = pd.read_csv(url)\n",
    "shops.head()"
   ]
  },
  {
   "cell_type": "markdown",
   "metadata": {},
   "source": [
    "## Cleaning and pre-processing "
   ]
  },
  {
   "cell_type": "code",
   "execution_count": 48,
   "metadata": {},
   "outputs": [],
   "source": [
    "def clean_coffee_reviews(df):\n",
    "    \"\"\" Clean and return the dataframe \"\"\"\n",
    "    \n",
    "    # clean the rating column\n",
    "    df['star_rating'] = df['star_rating'].apply(lambda x: int(x[1]))\n",
    "    \n",
    "    # separate date from the review text\n",
    "    df['review_date'] = df['full_review_text'].apply(lambda x: x.split()[0])\n",
    "    df['review_date'] = pd.to_datetime(df['review_date'])\n",
    "    \n",
    "    # remove date and any leading/trailing whitespace from the review text\n",
    "    df['full_review_text'] = df['full_review_text'].apply(lambda x: x[x.index(' ', 1):].strip())\n",
    "    \n",
    "    return df"
   ]
  },
  {
   "cell_type": "code",
   "execution_count": 49,
   "metadata": {},
   "outputs": [
    {
     "data": {
      "text/html": [
       "<div>\n",
       "<style scoped>\n",
       "    .dataframe tbody tr th:only-of-type {\n",
       "        vertical-align: middle;\n",
       "    }\n",
       "\n",
       "    .dataframe tbody tr th {\n",
       "        vertical-align: top;\n",
       "    }\n",
       "\n",
       "    .dataframe thead th {\n",
       "        text-align: right;\n",
       "    }\n",
       "</style>\n",
       "<table border=\"1\" class=\"dataframe\">\n",
       "  <thead>\n",
       "    <tr style=\"text-align: right;\">\n",
       "      <th></th>\n",
       "      <th>coffee_shop_name</th>\n",
       "      <th>full_review_text</th>\n",
       "      <th>star_rating</th>\n",
       "      <th>review_date</th>\n",
       "    </tr>\n",
       "  </thead>\n",
       "  <tbody>\n",
       "    <tr>\n",
       "      <th>0</th>\n",
       "      <td>The Factory - Cafe With a Soul</td>\n",
       "      <td>1 check-in Love love loved the atmosphere! Eve...</td>\n",
       "      <td>5</td>\n",
       "      <td>2016-11-25</td>\n",
       "    </tr>\n",
       "    <tr>\n",
       "      <th>1</th>\n",
       "      <td>The Factory - Cafe With a Soul</td>\n",
       "      <td>Listed in Date Night: Austin, Ambiance in Aust...</td>\n",
       "      <td>4</td>\n",
       "      <td>2016-12-02</td>\n",
       "    </tr>\n",
       "    <tr>\n",
       "      <th>2</th>\n",
       "      <td>The Factory - Cafe With a Soul</td>\n",
       "      <td>1 check-in Listed in Brunch Spots I loved the ...</td>\n",
       "      <td>4</td>\n",
       "      <td>2016-11-30</td>\n",
       "    </tr>\n",
       "    <tr>\n",
       "      <th>3</th>\n",
       "      <td>The Factory - Cafe With a Soul</td>\n",
       "      <td>Very cool decor! Good drinks Nice seating  How...</td>\n",
       "      <td>2</td>\n",
       "      <td>2016-11-25</td>\n",
       "    </tr>\n",
       "    <tr>\n",
       "      <th>4</th>\n",
       "      <td>The Factory - Cafe With a Soul</td>\n",
       "      <td>1 check-in They are located within the Northcr...</td>\n",
       "      <td>4</td>\n",
       "      <td>2016-12-03</td>\n",
       "    </tr>\n",
       "  </tbody>\n",
       "</table>\n",
       "</div>"
      ],
      "text/plain": [
       "                  coffee_shop_name  \\\n",
       "0  The Factory - Cafe With a Soul    \n",
       "1  The Factory - Cafe With a Soul    \n",
       "2  The Factory - Cafe With a Soul    \n",
       "3  The Factory - Cafe With a Soul    \n",
       "4  The Factory - Cafe With a Soul    \n",
       "\n",
       "                                    full_review_text  star_rating review_date  \n",
       "0  1 check-in Love love loved the atmosphere! Eve...            5  2016-11-25  \n",
       "1  Listed in Date Night: Austin, Ambiance in Aust...            4  2016-12-02  \n",
       "2  1 check-in Listed in Brunch Spots I loved the ...            4  2016-11-30  \n",
       "3  Very cool decor! Good drinks Nice seating  How...            2  2016-11-25  \n",
       "4  1 check-in They are located within the Northcr...            4  2016-12-03  "
      ]
     },
     "execution_count": 49,
     "metadata": {},
     "output_type": "execute_result"
    }
   ],
   "source": [
    "shops = clean_coffee_reviews(shops)\n",
    "shops.head()"
   ]
  },
  {
   "cell_type": "code",
   "execution_count": 36,
   "metadata": {},
   "outputs": [
    {
     "data": {
      "text/plain": [
       "(7616, 4)"
      ]
     },
     "execution_count": 36,
     "metadata": {},
     "output_type": "execute_result"
    }
   ],
   "source": [
    "shops.shape"
   ]
  },
  {
   "cell_type": "code",
   "execution_count": 27,
   "metadata": {},
   "outputs": [
    {
     "data": {
      "text/plain": [
       "5    3780\n",
       "4    2360\n",
       "3     738\n",
       "2     460\n",
       "1     278\n",
       "Name: star_rating, dtype: int64"
      ]
     },
     "execution_count": 27,
     "metadata": {},
     "output_type": "execute_result"
    }
   ],
   "source": [
    "shops['star_rating'].value_counts()"
   ]
  },
  {
   "cell_type": "code",
   "execution_count": 30,
   "metadata": {},
   "outputs": [
    {
     "data": {
      "text/plain": [
       "79"
      ]
     },
     "execution_count": 30,
     "metadata": {},
     "output_type": "execute_result"
    }
   ],
   "source": [
    "# number of coffee shops in this data\n",
    "len(shops['coffee_shop_name'].unique())"
   ]
  },
  {
   "cell_type": "markdown",
   "metadata": {},
   "source": [
    "## How do we want to analyze these coffee shop tokens? \n",
    "\n",
    "- Overall Word / Token Count\n",
    "- View Counts by Rating \n",
    "- *Hint:* a 'bad' coffee shops has a rating betweeen 1 & 3 based on the distribution of ratings. A 'good' coffee shop is a 4 or 5. \n",
    "\n",
    "First, let's get the tokens themselves"
   ]
  },
  {
   "cell_type": "code",
   "execution_count": 31,
   "metadata": {},
   "outputs": [],
   "source": [
    "# set up spacey\n",
    "import spacy\n",
    "from spacy.tokenizer import Tokenizer\n",
    "\n",
    "nlp = spacy.load(\"en_core_web_lg\")\n",
    "\n",
    "# Tokenizer\n",
    "tokenizer = Tokenizer(nlp.vocab)"
   ]
  },
  {
   "cell_type": "code",
   "execution_count": 50,
   "metadata": {},
   "outputs": [],
   "source": [
    "# create a column for the review tokens\n",
    "tokens = []\n",
    "\n",
    "for doc in tokenizer.pipe(shops['full_review_text'], batch_size=500):\n",
    "    doc_tokens = [token.text for token in doc]\n",
    "    tokens.append(doc_tokens)\n",
    "\n",
    "shops['review_tokens'] = tokens"
   ]
  },
  {
   "cell_type": "code",
   "execution_count": 51,
   "metadata": {},
   "outputs": [
    {
     "data": {
      "text/plain": [
       "0    [1, check-in, Love, love, loved, the, atmosphe...\n",
       "1    [Listed, in, Date, Night:, Austin,, Ambiance, ...\n",
       "2    [1, check-in, Listed, in, Brunch, Spots, I, lo...\n",
       "3    [Very, cool, decor!, Good, drinks, Nice, seati...\n",
       "4    [1, check-in, They, are, located, within, the,...\n",
       "Name: review_tokens, dtype: object"
      ]
     },
     "execution_count": 51,
     "metadata": {},
     "output_type": "execute_result"
    }
   ],
   "source": [
    "shops['review_tokens'].head()"
   ]
  },
  {
   "cell_type": "code",
   "execution_count": 52,
   "metadata": {},
   "outputs": [],
   "source": [
    "# Using this from the lecture because it's pretty handy\n",
    "from collections import Counter\n",
    "def count(docs):\n",
    "\n",
    "        word_counts = Counter()\n",
    "        appears_in = Counter()\n",
    "        \n",
    "        total_docs = len(docs)\n",
    "\n",
    "        for doc in docs:\n",
    "            word_counts.update(doc)\n",
    "            appears_in.update(set(doc))\n",
    "\n",
    "        temp = zip(word_counts.keys(), word_counts.values())\n",
    "        \n",
    "        wc = pd.DataFrame(temp, columns = ['word', 'count'])\n",
    "\n",
    "        wc['rank'] = wc['count'].rank(method='first', ascending=False)\n",
    "        total = wc['count'].sum()\n",
    "\n",
    "        wc['pct_total'] = wc['count'].apply(lambda x: x / total)\n",
    "        \n",
    "        wc = wc.sort_values(by='rank')\n",
    "        wc['cul_pct_total'] = wc['pct_total'].cumsum()\n",
    "\n",
    "        t2 = zip(appears_in.keys(), appears_in.values())\n",
    "        ac = pd.DataFrame(t2, columns=['word', 'appears_in'])\n",
    "        wc = ac.merge(wc, on='word')\n",
    "\n",
    "        wc['appears_in_pct'] = wc['appears_in'].apply(lambda x: x / total_docs)\n",
    "        \n",
    "        return wc.sort_values(by='rank')"
   ]
  },
  {
   "cell_type": "code",
   "execution_count": 53,
   "metadata": {},
   "outputs": [
    {
     "data": {
      "text/html": [
       "<div>\n",
       "<style scoped>\n",
       "    .dataframe tbody tr th:only-of-type {\n",
       "        vertical-align: middle;\n",
       "    }\n",
       "\n",
       "    .dataframe tbody tr th {\n",
       "        vertical-align: top;\n",
       "    }\n",
       "\n",
       "    .dataframe thead th {\n",
       "        text-align: right;\n",
       "    }\n",
       "</style>\n",
       "<table border=\"1\" class=\"dataframe\">\n",
       "  <thead>\n",
       "    <tr style=\"text-align: right;\">\n",
       "      <th></th>\n",
       "      <th>word</th>\n",
       "      <th>appears_in</th>\n",
       "      <th>count</th>\n",
       "      <th>rank</th>\n",
       "      <th>pct_total</th>\n",
       "      <th>cul_pct_total</th>\n",
       "      <th>appears_in_pct</th>\n",
       "    </tr>\n",
       "  </thead>\n",
       "  <tbody>\n",
       "    <tr>\n",
       "      <th>2</th>\n",
       "      <td>the</td>\n",
       "      <td>6520</td>\n",
       "      <td>27779</td>\n",
       "      <td>1.0</td>\n",
       "      <td>0.034993</td>\n",
       "      <td>0.034993</td>\n",
       "      <td>0.856092</td>\n",
       "    </tr>\n",
       "    <tr>\n",
       "      <th>1</th>\n",
       "      <td>and</td>\n",
       "      <td>6804</td>\n",
       "      <td>25748</td>\n",
       "      <td>2.0</td>\n",
       "      <td>0.032434</td>\n",
       "      <td>0.067427</td>\n",
       "      <td>0.893382</td>\n",
       "    </tr>\n",
       "    <tr>\n",
       "      <th>51</th>\n",
       "      <td>a</td>\n",
       "      <td>6181</td>\n",
       "      <td>22085</td>\n",
       "      <td>3.0</td>\n",
       "      <td>0.027820</td>\n",
       "      <td>0.095247</td>\n",
       "      <td>0.811581</td>\n",
       "    </tr>\n",
       "    <tr>\n",
       "      <th>50</th>\n",
       "      <td>I</td>\n",
       "      <td>5469</td>\n",
       "      <td>19780</td>\n",
       "      <td>4.0</td>\n",
       "      <td>0.024916</td>\n",
       "      <td>0.120163</td>\n",
       "      <td>0.718093</td>\n",
       "    </tr>\n",
       "    <tr>\n",
       "      <th>22</th>\n",
       "      <td>to</td>\n",
       "      <td>5631</td>\n",
       "      <td>16904</td>\n",
       "      <td>5.0</td>\n",
       "      <td>0.021294</td>\n",
       "      <td>0.141457</td>\n",
       "      <td>0.739364</td>\n",
       "    </tr>\n",
       "  </tbody>\n",
       "</table>\n",
       "</div>"
      ],
      "text/plain": [
       "   word  appears_in  count  rank  pct_total  cul_pct_total  appears_in_pct\n",
       "2   the        6520  27779   1.0   0.034993       0.034993        0.856092\n",
       "1   and        6804  25748   2.0   0.032434       0.067427        0.893382\n",
       "51    a        6181  22085   3.0   0.027820       0.095247        0.811581\n",
       "50    I        5469  19780   4.0   0.024916       0.120163        0.718093\n",
       "22   to        5631  16904   5.0   0.021294       0.141457        0.739364"
      ]
     },
     "execution_count": 53,
     "metadata": {},
     "output_type": "execute_result"
    }
   ],
   "source": [
    "wc = count(shops['review_tokens'])\n",
    "wc.head()"
   ]
  },
  {
   "cell_type": "markdown",
   "metadata": {},
   "source": [
    "### We will want to remove stop-words.  Let's remove the defaults and see what is left over."
   ]
  },
  {
   "cell_type": "code",
   "execution_count": 54,
   "metadata": {},
   "outputs": [],
   "source": [
    "tokens = []\n",
    "\n",
    "\"\"\" Update those tokens w/o stopwords\"\"\"\n",
    "for doc in tokenizer.pipe(shops['full_review_text'], batch_size=500):\n",
    "    \n",
    "    doc_tokens = []\n",
    "    \n",
    "    for token in doc:\n",
    "        if (token.is_stop == False):\n",
    "            doc_tokens.append(token.text.lower())\n",
    "\n",
    "    tokens.append(doc_tokens)\n",
    "\n",
    "shops['review_tokens'] = tokens"
   ]
  },
  {
   "cell_type": "code",
   "execution_count": 56,
   "metadata": {},
   "outputs": [
    {
     "data": {
      "text/html": [
       "<div>\n",
       "<style scoped>\n",
       "    .dataframe tbody tr th:only-of-type {\n",
       "        vertical-align: middle;\n",
       "    }\n",
       "\n",
       "    .dataframe tbody tr th {\n",
       "        vertical-align: top;\n",
       "    }\n",
       "\n",
       "    .dataframe thead th {\n",
       "        text-align: right;\n",
       "    }\n",
       "</style>\n",
       "<table border=\"1\" class=\"dataframe\">\n",
       "  <thead>\n",
       "    <tr style=\"text-align: right;\">\n",
       "      <th></th>\n",
       "      <th>word</th>\n",
       "      <th>appears_in</th>\n",
       "      <th>count</th>\n",
       "      <th>rank</th>\n",
       "      <th>pct_total</th>\n",
       "      <th>cul_pct_total</th>\n",
       "      <th>appears_in_pct</th>\n",
       "    </tr>\n",
       "  </thead>\n",
       "  <tbody>\n",
       "    <tr>\n",
       "      <th>31</th>\n",
       "      <td></td>\n",
       "      <td>4343</td>\n",
       "      <td>14990</td>\n",
       "      <td>1.0</td>\n",
       "      <td>0.036535</td>\n",
       "      <td>0.036535</td>\n",
       "      <td>0.570247</td>\n",
       "    </tr>\n",
       "    <tr>\n",
       "      <th>9</th>\n",
       "      <td>coffee</td>\n",
       "      <td>4210</td>\n",
       "      <td>8058</td>\n",
       "      <td>2.0</td>\n",
       "      <td>0.019640</td>\n",
       "      <td>0.056175</td>\n",
       "      <td>0.552784</td>\n",
       "    </tr>\n",
       "    <tr>\n",
       "      <th>113</th>\n",
       "      <td>place</td>\n",
       "      <td>3029</td>\n",
       "      <td>4264</td>\n",
       "      <td>3.0</td>\n",
       "      <td>0.010393</td>\n",
       "      <td>0.066568</td>\n",
       "      <td>0.397715</td>\n",
       "    </tr>\n",
       "    <tr>\n",
       "      <th>130</th>\n",
       "      <td>great</td>\n",
       "      <td>2438</td>\n",
       "      <td>3250</td>\n",
       "      <td>4.0</td>\n",
       "      <td>0.007921</td>\n",
       "      <td>0.074489</td>\n",
       "      <td>0.320116</td>\n",
       "    </tr>\n",
       "    <tr>\n",
       "      <th>252</th>\n",
       "      <td>it's</td>\n",
       "      <td>2061</td>\n",
       "      <td>3117</td>\n",
       "      <td>5.0</td>\n",
       "      <td>0.007597</td>\n",
       "      <td>0.082086</td>\n",
       "      <td>0.270614</td>\n",
       "    </tr>\n",
       "  </tbody>\n",
       "</table>\n",
       "</div>"
      ],
      "text/plain": [
       "       word  appears_in  count  rank  pct_total  cul_pct_total  appears_in_pct\n",
       "31                 4343  14990   1.0   0.036535       0.036535        0.570247\n",
       "9    coffee        4210   8058   2.0   0.019640       0.056175        0.552784\n",
       "113   place        3029   4264   3.0   0.010393       0.066568        0.397715\n",
       "130   great        2438   3250   4.0   0.007921       0.074489        0.320116\n",
       "252    it's        2061   3117   5.0   0.007597       0.082086        0.270614"
      ]
     },
     "execution_count": 56,
     "metadata": {},
     "output_type": "execute_result"
    }
   ],
   "source": [
    "wc = count(shops['review_tokens'])\n",
    "wc.head()"
   ]
  },
  {
   "cell_type": "code",
   "execution_count": 59,
   "metadata": {},
   "outputs": [
    {
     "data": {
      "text/plain": [
       "' '"
      ]
     },
     "execution_count": 59,
     "metadata": {},
     "output_type": "execute_result"
    }
   ],
   "source": [
    "# interesting, I had thought tokenizer would get rid of these\n",
    "wc['word'][31]"
   ]
  },
  {
   "cell_type": "code",
   "execution_count": 63,
   "metadata": {},
   "outputs": [
    {
     "data": {
      "text/plain": [
       "31                \n",
       "9           coffee\n",
       "113          place\n",
       "130          great\n",
       "252           it's\n",
       "171           like\n",
       "167           good\n",
       "10               1\n",
       "11        check-in\n",
       "39            love\n",
       "348            i'm\n",
       "96               -\n",
       "370           i've\n",
       "793         little\n",
       "379          don't\n",
       "162           nice\n",
       "409           food\n",
       "636           time\n",
       "2           pretty\n",
       "7              got\n",
       "950         people\n",
       "538           come\n",
       "48          austin\n",
       "467           best\n",
       "53      definitely\n",
       "228       friendly\n",
       "20           latte\n",
       "41            shop\n",
       "755        coffee.\n",
       "1016          iced\n",
       "Name: word, dtype: object"
      ]
     },
     "execution_count": 63,
     "metadata": {},
     "output_type": "execute_result"
    }
   ],
   "source": [
    "wc['word'].head(30)"
   ]
  },
  {
   "cell_type": "markdown",
   "metadata": {},
   "source": [
    "### That gives me a few words I can remove myself"
   ]
  },
  {
   "cell_type": "code",
   "execution_count": 97,
   "metadata": {},
   "outputs": [],
   "source": [
    "STOP_WORDS = nlp.Defaults.stop_words.union([' ', 'coffee','coffee.', 'place', \"it's\", 'i', \"i'm\", \"i've\", '1', \n",
    "                                            '2', '3', '-', 'check-in', 'check-ins', 'got', 'come', 'austin', 'latte'])\n",
    "\n",
    "# I actually want to keep \"not\" and see what happens\n",
    "STOP_WORDS.remove('not')"
   ]
  },
  {
   "cell_type": "code",
   "execution_count": 98,
   "metadata": {},
   "outputs": [],
   "source": [
    "tokens = []\n",
    "\n",
    "\"\"\" Update those tokens w/o stopwords\"\"\"\n",
    "for doc in tokenizer.pipe(shops['full_review_text'], batch_size=500):\n",
    "    \n",
    "    doc_tokens = []\n",
    "    \n",
    "    for token in doc:\n",
    "        if token.text.lower() not in STOP_WORDS:\n",
    "            doc_tokens.append(token.text.lower())\n",
    "\n",
    "    tokens.append(doc_tokens)\n",
    "\n",
    "shops['review_tokens'] = tokens"
   ]
  },
  {
   "cell_type": "code",
   "execution_count": 103,
   "metadata": {},
   "outputs": [
    {
     "data": {
      "text/html": [
       "<div>\n",
       "<style scoped>\n",
       "    .dataframe tbody tr th:only-of-type {\n",
       "        vertical-align: middle;\n",
       "    }\n",
       "\n",
       "    .dataframe tbody tr th {\n",
       "        vertical-align: top;\n",
       "    }\n",
       "\n",
       "    .dataframe thead th {\n",
       "        text-align: right;\n",
       "    }\n",
       "</style>\n",
       "<table border=\"1\" class=\"dataframe\">\n",
       "  <thead>\n",
       "    <tr style=\"text-align: right;\">\n",
       "      <th></th>\n",
       "      <th>word</th>\n",
       "      <th>appears_in</th>\n",
       "      <th>count</th>\n",
       "      <th>rank</th>\n",
       "      <th>pct_total</th>\n",
       "      <th>cul_pct_total</th>\n",
       "      <th>appears_in_pct</th>\n",
       "    </tr>\n",
       "  </thead>\n",
       "  <tbody>\n",
       "    <tr>\n",
       "      <th>245</th>\n",
       "      <td>not</td>\n",
       "      <td>2712</td>\n",
       "      <td>4037</td>\n",
       "      <td>1.0</td>\n",
       "      <td>0.011002</td>\n",
       "      <td>0.011002</td>\n",
       "      <td>0.356092</td>\n",
       "    </tr>\n",
       "    <tr>\n",
       "      <th>121</th>\n",
       "      <td>great</td>\n",
       "      <td>2438</td>\n",
       "      <td>3250</td>\n",
       "      <td>2.0</td>\n",
       "      <td>0.008857</td>\n",
       "      <td>0.019859</td>\n",
       "      <td>0.320116</td>\n",
       "    </tr>\n",
       "    <tr>\n",
       "      <th>162</th>\n",
       "      <td>like</td>\n",
       "      <td>2034</td>\n",
       "      <td>2902</td>\n",
       "      <td>3.0</td>\n",
       "      <td>0.007909</td>\n",
       "      <td>0.027768</td>\n",
       "      <td>0.267069</td>\n",
       "    </tr>\n",
       "    <tr>\n",
       "      <th>158</th>\n",
       "      <td>good</td>\n",
       "      <td>2084</td>\n",
       "      <td>2779</td>\n",
       "      <td>4.0</td>\n",
       "      <td>0.007573</td>\n",
       "      <td>0.035341</td>\n",
       "      <td>0.273634</td>\n",
       "    </tr>\n",
       "    <tr>\n",
       "      <th>33</th>\n",
       "      <td>love</td>\n",
       "      <td>1434</td>\n",
       "      <td>1806</td>\n",
       "      <td>5.0</td>\n",
       "      <td>0.004922</td>\n",
       "      <td>0.040263</td>\n",
       "      <td>0.188288</td>\n",
       "    </tr>\n",
       "    <tr>\n",
       "      <th>777</th>\n",
       "      <td>little</td>\n",
       "      <td>1230</td>\n",
       "      <td>1479</td>\n",
       "      <td>6.0</td>\n",
       "      <td>0.004031</td>\n",
       "      <td>0.044293</td>\n",
       "      <td>0.161502</td>\n",
       "    </tr>\n",
       "    <tr>\n",
       "      <th>365</th>\n",
       "      <td>don't</td>\n",
       "      <td>1133</td>\n",
       "      <td>1395</td>\n",
       "      <td>7.0</td>\n",
       "      <td>0.003802</td>\n",
       "      <td>0.048095</td>\n",
       "      <td>0.148766</td>\n",
       "    </tr>\n",
       "    <tr>\n",
       "      <th>153</th>\n",
       "      <td>nice</td>\n",
       "      <td>1188</td>\n",
       "      <td>1368</td>\n",
       "      <td>8.0</td>\n",
       "      <td>0.003728</td>\n",
       "      <td>0.051823</td>\n",
       "      <td>0.155987</td>\n",
       "    </tr>\n",
       "    <tr>\n",
       "      <th>395</th>\n",
       "      <td>food</td>\n",
       "      <td>1092</td>\n",
       "      <td>1363</td>\n",
       "      <td>9.0</td>\n",
       "      <td>0.003715</td>\n",
       "      <td>0.055538</td>\n",
       "      <td>0.143382</td>\n",
       "    </tr>\n",
       "    <tr>\n",
       "      <th>621</th>\n",
       "      <td>time</td>\n",
       "      <td>1099</td>\n",
       "      <td>1345</td>\n",
       "      <td>10.0</td>\n",
       "      <td>0.003665</td>\n",
       "      <td>0.059203</td>\n",
       "      <td>0.144301</td>\n",
       "    </tr>\n",
       "  </tbody>\n",
       "</table>\n",
       "</div>"
      ],
      "text/plain": [
       "       word  appears_in  count  rank  pct_total  cul_pct_total  appears_in_pct\n",
       "245     not        2712   4037   1.0   0.011002       0.011002        0.356092\n",
       "121   great        2438   3250   2.0   0.008857       0.019859        0.320116\n",
       "162    like        2034   2902   3.0   0.007909       0.027768        0.267069\n",
       "158    good        2084   2779   4.0   0.007573       0.035341        0.273634\n",
       "33     love        1434   1806   5.0   0.004922       0.040263        0.188288\n",
       "777  little        1230   1479   6.0   0.004031       0.044293        0.161502\n",
       "365   don't        1133   1395   7.0   0.003802       0.048095        0.148766\n",
       "153    nice        1188   1368   8.0   0.003728       0.051823        0.155987\n",
       "395    food        1092   1363   9.0   0.003715       0.055538        0.143382\n",
       "621    time        1099   1345  10.0   0.003665       0.059203        0.144301"
      ]
     },
     "execution_count": 103,
     "metadata": {},
     "output_type": "execute_result"
    }
   ],
   "source": [
    "wc = count(shops['review_tokens'])\n",
    "wc.head(10)"
   ]
  },
  {
   "cell_type": "markdown",
   "metadata": {},
   "source": [
    "## Can we visualize the words with the greatest difference in counts between 'good' & 'bad'?\n",
    "\n",
    "Couple Notes: \n",
    "- Rel. freq. instead of absolute counts b/c of different numbers of reviews\n",
    "- Only look at the top 5-10 words with the greatest differences\n"
   ]
  },
  {
   "cell_type": "code",
   "execution_count": 100,
   "metadata": {},
   "outputs": [],
   "source": [
    "# split between good and bad reviews\n",
    "good_reviews = shops[shops['star_rating'] >= 4]\n",
    "wc_good = count(good_reviews['review_tokens'])\n",
    "\n",
    "bad_reviews = shops[shops['star_rating'] <= 3]\n",
    "wc_bad = count(bad_reviews['review_tokens'])"
   ]
  },
  {
   "cell_type": "code",
   "execution_count": 101,
   "metadata": {},
   "outputs": [
    {
     "data": {
      "image/png": "[encoded data removed]",
      "text/plain": [
       "<Figure size 864x360 with 2 Axes>"
      ]
     },
     "metadata": {
      "needs_background": "light"
     },
     "output_type": "display_data"
    }
   ],
   "source": [
    "import squarify\n",
    "import matplotlib.pyplot as plt\n",
    "\n",
    "# plotting them side by side\n",
    "fig, ax = plt.subplots(1, 2)\n",
    "fig.set_size_inches(12,5)\n",
    "\n",
    "# words in good reviews\n",
    "squarify.plot(sizes=wc_good['pct_total'][:20], label=wc_good['word'][:20], alpha=.8, ax=ax[0])\n",
    "ax[0].axis('off')\n",
    "ax[0].set_title('Common words in good reveiws', size='xx-large')\n",
    "\n",
    "# words in bad reviews\n",
    "squarify.plot(sizes=wc_bad['pct_total'][:20], label=wc_bad['word'][:20], alpha=.8, ax=ax[1])\n",
    "ax[1].axis('off')\n",
    "ax[1].set_title('Common words in bad reveiws', size='xx-large')\n",
    "\n",
    "plt.show()"
   ]
  },
  {
   "cell_type": "code",
   "execution_count": 104,
   "metadata": {},
   "outputs": [
    {
     "data": {
      "text/html": [
       "<div>\n",
       "<style scoped>\n",
       "    .dataframe tbody tr th:only-of-type {\n",
       "        vertical-align: middle;\n",
       "    }\n",
       "\n",
       "    .dataframe tbody tr th {\n",
       "        vertical-align: top;\n",
       "    }\n",
       "\n",
       "    .dataframe thead th {\n",
       "        text-align: right;\n",
       "    }\n",
       "</style>\n",
       "<table border=\"1\" class=\"dataframe\">\n",
       "  <thead>\n",
       "    <tr style=\"text-align: right;\">\n",
       "      <th></th>\n",
       "      <th>word</th>\n",
       "      <th>pct_total_good</th>\n",
       "      <th>pct_total_bad</th>\n",
       "      <th>appears_in_pct_good</th>\n",
       "      <th>appears_in_pct_bad</th>\n",
       "      <th>pct_total_diff</th>\n",
       "      <th>appears_in_diff</th>\n",
       "    </tr>\n",
       "  </thead>\n",
       "  <tbody>\n",
       "    <tr>\n",
       "      <th>0</th>\n",
       "      <td>great</td>\n",
       "      <td>0.010197</td>\n",
       "      <td>0.004227</td>\n",
       "      <td>0.354072</td>\n",
       "      <td>0.178862</td>\n",
       "      <td>0.005970</td>\n",
       "      <td>0.175210</td>\n",
       "    </tr>\n",
       "    <tr>\n",
       "      <th>1</th>\n",
       "      <td>not</td>\n",
       "      <td>0.009424</td>\n",
       "      <td>0.016458</td>\n",
       "      <td>0.312704</td>\n",
       "      <td>0.536585</td>\n",
       "      <td>-0.007034</td>\n",
       "      <td>-0.223882</td>\n",
       "    </tr>\n",
       "    <tr>\n",
       "      <th>2</th>\n",
       "      <td>good</td>\n",
       "      <td>0.007660</td>\n",
       "      <td>0.007275</td>\n",
       "      <td>0.267590</td>\n",
       "      <td>0.298780</td>\n",
       "      <td>0.000384</td>\n",
       "      <td>-0.031191</td>\n",
       "    </tr>\n",
       "    <tr>\n",
       "      <th>3</th>\n",
       "      <td>like</td>\n",
       "      <td>0.007266</td>\n",
       "      <td>0.010130</td>\n",
       "      <td>0.242020</td>\n",
       "      <td>0.371274</td>\n",
       "      <td>-0.002864</td>\n",
       "      <td>-0.129254</td>\n",
       "    </tr>\n",
       "    <tr>\n",
       "      <th>4</th>\n",
       "      <td>love</td>\n",
       "      <td>0.005636</td>\n",
       "      <td>0.002453</td>\n",
       "      <td>0.205700</td>\n",
       "      <td>0.115854</td>\n",
       "      <td>0.003182</td>\n",
       "      <td>0.089847</td>\n",
       "    </tr>\n",
       "  </tbody>\n",
       "</table>\n",
       "</div>"
      ],
      "text/plain": [
       "    word  pct_total_good  pct_total_bad  appears_in_pct_good  \\\n",
       "0  great        0.010197       0.004227             0.354072   \n",
       "1    not        0.009424       0.016458             0.312704   \n",
       "2   good        0.007660       0.007275             0.267590   \n",
       "3   like        0.007266       0.010130             0.242020   \n",
       "4   love        0.005636       0.002453             0.205700   \n",
       "\n",
       "   appears_in_pct_bad  pct_total_diff  appears_in_diff  \n",
       "0            0.178862        0.005970         0.175210  \n",
       "1            0.536585       -0.007034        -0.223882  \n",
       "2            0.298780        0.000384        -0.031191  \n",
       "3            0.371274       -0.002864        -0.129254  \n",
       "4            0.115854        0.003182         0.089847  "
      ]
     },
     "execution_count": 104,
     "metadata": {},
     "output_type": "execute_result"
    }
   ],
   "source": [
    "# combine the data to analyze differences\n",
    "wc_combined = wc_good.merge(wc_bad, on='word', suffixes=('_good', '_bad'))\n",
    "wc_combined = wc_combined[['word', 'pct_total_good', 'pct_total_bad', 'appears_in_pct_good', 'appears_in_pct_bad']]\n",
    "wc_combined['pct_total_diff'] = wc_combined['pct_total_good'] - wc_combined['pct_total_bad']\n",
    "wc_combined['appears_in_diff'] = wc_combined['appears_in_pct_good'] - wc_combined['appears_in_pct_bad']\n",
    "wc_combined.head()"
   ]
  },
  {
   "cell_type": "code",
   "execution_count": 105,
   "metadata": {},
   "outputs": [
    {
     "data": {
      "text/html": [
       "<div>\n",
       "<style scoped>\n",
       "    .dataframe tbody tr th:only-of-type {\n",
       "        vertical-align: middle;\n",
       "    }\n",
       "\n",
       "    .dataframe tbody tr th {\n",
       "        vertical-align: top;\n",
       "    }\n",
       "\n",
       "    .dataframe thead th {\n",
       "        text-align: right;\n",
       "    }\n",
       "</style>\n",
       "<table border=\"1\" class=\"dataframe\">\n",
       "  <thead>\n",
       "    <tr style=\"text-align: right;\">\n",
       "      <th></th>\n",
       "      <th>word</th>\n",
       "      <th>pct_total_diff</th>\n",
       "    </tr>\n",
       "  </thead>\n",
       "  <tbody>\n",
       "    <tr>\n",
       "      <th>1</th>\n",
       "      <td>not</td>\n",
       "      <td>-0.007034</td>\n",
       "    </tr>\n",
       "    <tr>\n",
       "      <th>3</th>\n",
       "      <td>like</td>\n",
       "      <td>-0.002864</td>\n",
       "    </tr>\n",
       "    <tr>\n",
       "      <th>371</th>\n",
       "      <td>asked</td>\n",
       "      <td>-0.001928</td>\n",
       "    </tr>\n",
       "    <tr>\n",
       "      <th>59</th>\n",
       "      <td>didn't</td>\n",
       "      <td>-0.001853</td>\n",
       "    </tr>\n",
       "    <tr>\n",
       "      <th>13</th>\n",
       "      <td>don't</td>\n",
       "      <td>-0.001832</td>\n",
       "    </tr>\n",
       "    <tr>\n",
       "      <th>...</th>\n",
       "      <td>...</td>\n",
       "      <td>...</td>\n",
       "    </tr>\n",
       "    <tr>\n",
       "      <th>26</th>\n",
       "      <td>delicious</td>\n",
       "      <td>0.001920</td>\n",
       "    </tr>\n",
       "    <tr>\n",
       "      <th>8</th>\n",
       "      <td>friendly</td>\n",
       "      <td>0.001972</td>\n",
       "    </tr>\n",
       "    <tr>\n",
       "      <th>7</th>\n",
       "      <td>best</td>\n",
       "      <td>0.002966</td>\n",
       "    </tr>\n",
       "    <tr>\n",
       "      <th>4</th>\n",
       "      <td>love</td>\n",
       "      <td>0.003182</td>\n",
       "    </tr>\n",
       "    <tr>\n",
       "      <th>0</th>\n",
       "      <td>great</td>\n",
       "      <td>0.005970</td>\n",
       "    </tr>\n",
       "  </tbody>\n",
       "</table>\n",
       "<p>9582 rows × 2 columns</p>\n",
       "</div>"
      ],
      "text/plain": [
       "          word  pct_total_diff\n",
       "1          not       -0.007034\n",
       "3         like       -0.002864\n",
       "371      asked       -0.001928\n",
       "59      didn't       -0.001853\n",
       "13       don't       -0.001832\n",
       "..         ...             ...\n",
       "26   delicious        0.001920\n",
       "8     friendly        0.001972\n",
       "7         best        0.002966\n",
       "4         love        0.003182\n",
       "0        great        0.005970\n",
       "\n",
       "[9582 rows x 2 columns]"
      ]
     },
     "execution_count": 105,
     "metadata": {},
     "output_type": "execute_result"
    }
   ],
   "source": [
    "# biggest differences in pct_total,\n",
    "# positive values mean the word is more common in good reviews than bad ones\n",
    "wc_combined[['word', 'pct_total_diff']].sort_values('pct_total_diff')"
   ]
  },
  {
   "cell_type": "code",
   "execution_count": 106,
   "metadata": {},
   "outputs": [
    {
     "data": {
      "text/html": [
       "<div>\n",
       "<style scoped>\n",
       "    .dataframe tbody tr th:only-of-type {\n",
       "        vertical-align: middle;\n",
       "    }\n",
       "\n",
       "    .dataframe tbody tr th {\n",
       "        vertical-align: top;\n",
       "    }\n",
       "\n",
       "    .dataframe thead th {\n",
       "        text-align: right;\n",
       "    }\n",
       "</style>\n",
       "<table border=\"1\" class=\"dataframe\">\n",
       "  <thead>\n",
       "    <tr style=\"text-align: right;\">\n",
       "      <th></th>\n",
       "      <th>word</th>\n",
       "      <th>appears_in_diff</th>\n",
       "    </tr>\n",
       "  </thead>\n",
       "  <tbody>\n",
       "    <tr>\n",
       "      <th>1</th>\n",
       "      <td>not</td>\n",
       "      <td>-0.223882</td>\n",
       "    </tr>\n",
       "    <tr>\n",
       "      <th>3</th>\n",
       "      <td>like</td>\n",
       "      <td>-0.129254</td>\n",
       "    </tr>\n",
       "    <tr>\n",
       "      <th>13</th>\n",
       "      <td>don't</td>\n",
       "      <td>-0.101199</td>\n",
       "    </tr>\n",
       "    <tr>\n",
       "      <th>31</th>\n",
       "      <td>service</td>\n",
       "      <td>-0.082855</td>\n",
       "    </tr>\n",
       "    <tr>\n",
       "      <th>59</th>\n",
       "      <td>didn't</td>\n",
       "      <td>-0.081514</td>\n",
       "    </tr>\n",
       "    <tr>\n",
       "      <th>...</th>\n",
       "      <td>...</td>\n",
       "      <td>...</td>\n",
       "    </tr>\n",
       "    <tr>\n",
       "      <th>26</th>\n",
       "      <td>delicious</td>\n",
       "      <td>0.079408</td>\n",
       "    </tr>\n",
       "    <tr>\n",
       "      <th>8</th>\n",
       "      <td>friendly</td>\n",
       "      <td>0.079963</td>\n",
       "    </tr>\n",
       "    <tr>\n",
       "      <th>4</th>\n",
       "      <td>love</td>\n",
       "      <td>0.089847</td>\n",
       "    </tr>\n",
       "    <tr>\n",
       "      <th>7</th>\n",
       "      <td>best</td>\n",
       "      <td>0.111526</td>\n",
       "    </tr>\n",
       "    <tr>\n",
       "      <th>0</th>\n",
       "      <td>great</td>\n",
       "      <td>0.175210</td>\n",
       "    </tr>\n",
       "  </tbody>\n",
       "</table>\n",
       "<p>9582 rows × 2 columns</p>\n",
       "</div>"
      ],
      "text/plain": [
       "         word  appears_in_diff\n",
       "1         not        -0.223882\n",
       "3        like        -0.129254\n",
       "13      don't        -0.101199\n",
       "31    service        -0.082855\n",
       "59     didn't        -0.081514\n",
       "..        ...              ...\n",
       "26  delicious         0.079408\n",
       "8    friendly         0.079963\n",
       "4        love         0.089847\n",
       "7        best         0.111526\n",
       "0       great         0.175210\n",
       "\n",
       "[9582 rows x 2 columns]"
      ]
     },
     "execution_count": 106,
     "metadata": {},
     "output_type": "execute_result"
    }
   ],
   "source": [
    "# biggest differences in appears_in\n",
    "wc_combined[['word', 'appears_in_diff']].sort_values('appears_in_diff')"
   ]
  },
  {
   "cell_type": "code",
   "execution_count": 109,
   "metadata": {},
   "outputs": [
    {
     "data": {
      "image/png": "[encoded data removed]",
      "text/plain": [
       "<Figure size 432x288 with 1 Axes>"
      ]
     },
     "metadata": {
      "needs_background": "light"
     },
     "output_type": "display_data"
    }
   ],
   "source": [
    "plt.plot(range(len(wc_combined)), wc_combined['appears_in_diff'].sort_values())\n",
    "plt.title('Difference in percentage of reviews each word appears in')\n",
    "plt.show()"
   ]
  },
  {
   "cell_type": "markdown",
   "metadata": {},
   "source": [
    "The above graph isn't so easy to understand right away.  It displays the difference in percentage of good vs bad reviews that each word appears in.  The main takeaway is that the vast majority of the ~9500 words have a value close to 0, which means they are about equally likely to appear in either a good or bad review.  This also means that we can get a much shorter list of words that appear in each type of review."
   ]
  },
  {
   "cell_type": "code",
   "execution_count": 121,
   "metadata": {},
   "outputs": [
    {
     "name": "stdout",
     "output_type": "stream",
     "text": [
      "With a cutoff of 0.045, there are 8 positive words and 23 negative words\n"
     ]
    }
   ],
   "source": [
    "# Let's get those differentiating words\n",
    "cutoff_pct = .045\n",
    "\n",
    "temp = wc_combined[['word', 'appears_in_diff']].sort_values('appears_in_diff')\n",
    "good_words = temp[temp['appears_in_diff'] >= cutoff_pct]\n",
    "bad_words = temp[temp['appears_in_diff'] <= -cutoff_pct]\n",
    "\n",
    "print(f\"With a cutoff of {cutoff_pct}, there are {len(good_words)} positive words and {len(bad_words)} negative words\")"
   ]
  },
  {
   "cell_type": "code",
   "execution_count": 122,
   "metadata": {},
   "outputs": [
    {
     "data": {
      "text/html": [
       "<div>\n",
       "<style scoped>\n",
       "    .dataframe tbody tr th:only-of-type {\n",
       "        vertical-align: middle;\n",
       "    }\n",
       "\n",
       "    .dataframe tbody tr th {\n",
       "        vertical-align: top;\n",
       "    }\n",
       "\n",
       "    .dataframe thead th {\n",
       "        text-align: right;\n",
       "    }\n",
       "</style>\n",
       "<table border=\"1\" class=\"dataframe\">\n",
       "  <thead>\n",
       "    <tr style=\"text-align: right;\">\n",
       "      <th></th>\n",
       "      <th>word</th>\n",
       "      <th>appears_in_diff</th>\n",
       "    </tr>\n",
       "  </thead>\n",
       "  <tbody>\n",
       "    <tr>\n",
       "      <th>28</th>\n",
       "      <td>favorite</td>\n",
       "      <td>0.060444</td>\n",
       "    </tr>\n",
       "    <tr>\n",
       "      <th>40</th>\n",
       "      <td>perfect</td>\n",
       "      <td>0.061759</td>\n",
       "    </tr>\n",
       "    <tr>\n",
       "      <th>9</th>\n",
       "      <td>definitely</td>\n",
       "      <td>0.062132</td>\n",
       "    </tr>\n",
       "    <tr>\n",
       "      <th>26</th>\n",
       "      <td>delicious</td>\n",
       "      <td>0.079408</td>\n",
       "    </tr>\n",
       "    <tr>\n",
       "      <th>8</th>\n",
       "      <td>friendly</td>\n",
       "      <td>0.079963</td>\n",
       "    </tr>\n",
       "    <tr>\n",
       "      <th>4</th>\n",
       "      <td>love</td>\n",
       "      <td>0.089847</td>\n",
       "    </tr>\n",
       "    <tr>\n",
       "      <th>7</th>\n",
       "      <td>best</td>\n",
       "      <td>0.111526</td>\n",
       "    </tr>\n",
       "    <tr>\n",
       "      <th>0</th>\n",
       "      <td>great</td>\n",
       "      <td>0.175210</td>\n",
       "    </tr>\n",
       "    <tr>\n",
       "      <th>1</th>\n",
       "      <td>not</td>\n",
       "      <td>-0.223882</td>\n",
       "    </tr>\n",
       "    <tr>\n",
       "      <th>3</th>\n",
       "      <td>like</td>\n",
       "      <td>-0.129254</td>\n",
       "    </tr>\n",
       "    <tr>\n",
       "      <th>13</th>\n",
       "      <td>don't</td>\n",
       "      <td>-0.101199</td>\n",
       "    </tr>\n",
       "    <tr>\n",
       "      <th>31</th>\n",
       "      <td>service</td>\n",
       "      <td>-0.082855</td>\n",
       "    </tr>\n",
       "    <tr>\n",
       "      <th>59</th>\n",
       "      <td>didn't</td>\n",
       "      <td>-0.081514</td>\n",
       "    </tr>\n",
       "    <tr>\n",
       "      <th>371</th>\n",
       "      <td>asked</td>\n",
       "      <td>-0.080023</td>\n",
       "    </tr>\n",
       "    <tr>\n",
       "      <th>33</th>\n",
       "      <td>ordered</td>\n",
       "      <td>-0.079540</td>\n",
       "    </tr>\n",
       "    <tr>\n",
       "      <th>140</th>\n",
       "      <td>wasn't</td>\n",
       "      <td>-0.071287</td>\n",
       "    </tr>\n",
       "    <tr>\n",
       "      <th>224</th>\n",
       "      <td>maybe</td>\n",
       "      <td>-0.071092</td>\n",
       "    </tr>\n",
       "    <tr>\n",
       "      <th>12</th>\n",
       "      <td>pretty</td>\n",
       "      <td>-0.060008</td>\n",
       "    </tr>\n",
       "    <tr>\n",
       "      <th>102</th>\n",
       "      <td>better</td>\n",
       "      <td>-0.057339</td>\n",
       "    </tr>\n",
       "    <tr>\n",
       "      <th>285</th>\n",
       "      <td>customer</td>\n",
       "      <td>-0.055164</td>\n",
       "    </tr>\n",
       "    <tr>\n",
       "      <th>262</th>\n",
       "      <td>said</td>\n",
       "      <td>-0.054675</td>\n",
       "    </tr>\n",
       "    <tr>\n",
       "      <th>157</th>\n",
       "      <td>barista</td>\n",
       "      <td>-0.049991</td>\n",
       "    </tr>\n",
       "    <tr>\n",
       "      <th>52</th>\n",
       "      <td>order</td>\n",
       "      <td>-0.049482</td>\n",
       "    </tr>\n",
       "    <tr>\n",
       "      <th>389</th>\n",
       "      <td>won't</td>\n",
       "      <td>-0.048995</td>\n",
       "    </tr>\n",
       "    <tr>\n",
       "      <th>257</th>\n",
       "      <td>tasted</td>\n",
       "      <td>-0.047112</td>\n",
       "    </tr>\n",
       "    <tr>\n",
       "      <th>344</th>\n",
       "      <td>minutes</td>\n",
       "      <td>-0.046715</td>\n",
       "    </tr>\n",
       "    <tr>\n",
       "      <th>29</th>\n",
       "      <td>it.</td>\n",
       "      <td>-0.046003</td>\n",
       "    </tr>\n",
       "    <tr>\n",
       "      <th>238</th>\n",
       "      <td>wanted</td>\n",
       "      <td>-0.045972</td>\n",
       "    </tr>\n",
       "    <tr>\n",
       "      <th>10</th>\n",
       "      <td>food</td>\n",
       "      <td>-0.045689</td>\n",
       "    </tr>\n",
       "    <tr>\n",
       "      <th>43</th>\n",
       "      <td>came</td>\n",
       "      <td>-0.045593</td>\n",
       "    </tr>\n",
       "    <tr>\n",
       "      <th>281</th>\n",
       "      <td>bad</td>\n",
       "      <td>-0.045379</td>\n",
       "    </tr>\n",
       "  </tbody>\n",
       "</table>\n",
       "</div>"
      ],
      "text/plain": [
       "           word  appears_in_diff\n",
       "28     favorite         0.060444\n",
       "40      perfect         0.061759\n",
       "9    definitely         0.062132\n",
       "26    delicious         0.079408\n",
       "8      friendly         0.079963\n",
       "4          love         0.089847\n",
       "7          best         0.111526\n",
       "0         great         0.175210\n",
       "1           not        -0.223882\n",
       "3          like        -0.129254\n",
       "13        don't        -0.101199\n",
       "31      service        -0.082855\n",
       "59       didn't        -0.081514\n",
       "371       asked        -0.080023\n",
       "33      ordered        -0.079540\n",
       "140      wasn't        -0.071287\n",
       "224       maybe        -0.071092\n",
       "12       pretty        -0.060008\n",
       "102      better        -0.057339\n",
       "285    customer        -0.055164\n",
       "262        said        -0.054675\n",
       "157     barista        -0.049991\n",
       "52        order        -0.049482\n",
       "389       won't        -0.048995\n",
       "257      tasted        -0.047112\n",
       "344     minutes        -0.046715\n",
       "29          it.        -0.046003\n",
       "238      wanted        -0.045972\n",
       "10         food        -0.045689\n",
       "43         came        -0.045593\n",
       "281         bad        -0.045379"
      ]
     },
     "execution_count": 122,
     "metadata": {},
     "output_type": "execute_result"
    }
   ],
   "source": [
    "good_words.append(bad_words)"
   ]
  },
  {
   "cell_type": "code",
   "execution_count": 124,
   "metadata": {},
   "outputs": [
    {
     "data": {
      "image/png": "[encoded data removed]",
      "text/plain": [
       "<Figure size 864x360 with 2 Axes>"
      ]
     },
     "metadata": {
      "needs_background": "light"
     },
     "output_type": "display_data"
    }
   ],
   "source": [
    "# let's show it in the square plot again\n",
    "fig, ax = plt.subplots(1, 2)\n",
    "fig.set_size_inches(12,5)\n",
    "\n",
    "# words in good reviews\n",
    "squarify.plot(sizes=good_words['appears_in_diff'], label=good_words['word'], alpha=.8, ax=ax[0])\n",
    "ax[0].axis('off')\n",
    "ax[0].set_title('More common in positive reviews', size='xx-large')\n",
    "\n",
    "# words in bad reviews\n",
    "squarify.plot(sizes=bad_words['appears_in_diff'], label=bad_words['word'], alpha=.8, ax=ax[1])\n",
    "ax[1].axis('off')\n",
    "ax[1].set_title('More common in negative reviews', size='xx-large')\n",
    "\n",
    "plt.show()"
   ]
  },
  {
   "cell_type": "markdown",
   "metadata": {},
   "source": [
    "And there we have it.  A graphical representation of which words are more likely to appear in each kind of review.\n",
    "\n",
    "Some interesting notes:\n",
    "\n",
    "- Since I used the \"appears_in\" column, this visualization is based off the percentage of reviews each word appeared in at least once.  Duplicate words in each review are not counted this way.\n",
    "- There was more variation in the negative words than positive ones.  Perhaps this is due to how many more positive reviews there are than negative?  The fewer reviews there are in total, the more an outlier word would show up.\n",
    "- \"Not\" is a default stop-word, but it actually had the biggest difference in appearance rate of any of the words.  Using this method of comparing appearance rates and not counting duplicates, it might not actually be necessary to remove stop-words at all."
   ]
  },
  {
   "cell_type": "markdown",
   "metadata": {},
   "source": [
    "### Lemmatization\n",
    "\n",
    "I did not apply lemmatization at all to the above graphic, so let's do that here"
   ]
  },
  {
   "cell_type": "code",
   "execution_count": 134,
   "metadata": {},
   "outputs": [],
   "source": [
    "# A function for getting lemma tokens from review text\n",
    "def get_lemmas(text):\n",
    "\n",
    "    lemmas = []    \n",
    "    doc = nlp(text)\n",
    "    \n",
    "    for token in doc: \n",
    "        if (token.text.lower() not in STOP_WORDS) and (token.is_punct == False) and (token.pos_ != 'PRON'):\n",
    "            lemmas.append(token.lemma_.lower())\n",
    "    \n",
    "    return lemmas"
   ]
  },
  {
   "cell_type": "code",
   "execution_count": 135,
   "metadata": {},
   "outputs": [],
   "source": [
    "shops['lemmas'] = shops['full_review_text'].apply(get_lemmas)"
   ]
  },
  {
   "cell_type": "code",
   "execution_count": 136,
   "metadata": {},
   "outputs": [
    {
     "data": {
      "text/plain": [
       "0    [check, love, love, love, atmosphere, corner, ...\n",
       "1    [list, date, night, ambiance, beautiful, love,...\n",
       "2    [check, list, brunch, spots, love, eclectic, h...\n",
       "3    [cool, decor, good, drink, nice, seating, over...\n",
       "4    [check, locate, northcross, mall, shopping, ce...\n",
       "Name: lemmas, dtype: object"
      ]
     },
     "execution_count": 136,
     "metadata": {},
     "output_type": "execute_result"
    }
   ],
   "source": [
    "shops['lemmas'].head()"
   ]
  },
  {
   "cell_type": "code",
   "execution_count": 145,
   "metadata": {},
   "outputs": [
    {
     "data": {
      "text/html": [
       "<div>\n",
       "<style scoped>\n",
       "    .dataframe tbody tr th:only-of-type {\n",
       "        vertical-align: middle;\n",
       "    }\n",
       "\n",
       "    .dataframe tbody tr th {\n",
       "        vertical-align: top;\n",
       "    }\n",
       "\n",
       "    .dataframe thead th {\n",
       "        text-align: right;\n",
       "    }\n",
       "</style>\n",
       "<table border=\"1\" class=\"dataframe\">\n",
       "  <thead>\n",
       "    <tr style=\"text-align: right;\">\n",
       "      <th></th>\n",
       "      <th>word</th>\n",
       "      <th>pct_total_good</th>\n",
       "      <th>pct_total_bad</th>\n",
       "      <th>appears_in_pct_good</th>\n",
       "      <th>appears_in_pct_bad</th>\n",
       "      <th>pct_total_diff</th>\n",
       "      <th>appears_in_diff</th>\n",
       "    </tr>\n",
       "  </thead>\n",
       "  <tbody>\n",
       "    <tr>\n",
       "      <th>2</th>\n",
       "      <td>not</td>\n",
       "      <td>0.011102</td>\n",
       "      <td>0.019696</td>\n",
       "      <td>0.333876</td>\n",
       "      <td>0.552846</td>\n",
       "      <td>-0.008594</td>\n",
       "      <td>-0.218969</td>\n",
       "    </tr>\n",
       "    <tr>\n",
       "      <th>14</th>\n",
       "      <td>order</td>\n",
       "      <td>0.005168</td>\n",
       "      <td>0.010053</td>\n",
       "      <td>0.165472</td>\n",
       "      <td>0.291328</td>\n",
       "      <td>-0.004885</td>\n",
       "      <td>-0.125856</td>\n",
       "    </tr>\n",
       "    <tr>\n",
       "      <th>4</th>\n",
       "      <td>like</td>\n",
       "      <td>0.009182</td>\n",
       "      <td>0.012517</td>\n",
       "      <td>0.273127</td>\n",
       "      <td>0.403794</td>\n",
       "      <td>-0.003335</td>\n",
       "      <td>-0.130667</td>\n",
       "    </tr>\n",
       "    <tr>\n",
       "      <th>140</th>\n",
       "      <td>ask</td>\n",
       "      <td>0.001305</td>\n",
       "      <td>0.004305</td>\n",
       "      <td>0.050651</td>\n",
       "      <td>0.149051</td>\n",
       "      <td>-0.003000</td>\n",
       "      <td>-0.098400</td>\n",
       "    </tr>\n",
       "    <tr>\n",
       "      <th>84</th>\n",
       "      <td>$</td>\n",
       "      <td>0.002086</td>\n",
       "      <td>0.005047</td>\n",
       "      <td>0.064169</td>\n",
       "      <td>0.147696</td>\n",
       "      <td>-0.002960</td>\n",
       "      <td>-0.083527</td>\n",
       "    </tr>\n",
       "    <tr>\n",
       "      <th>...</th>\n",
       "      <td>...</td>\n",
       "      <td>...</td>\n",
       "      <td>...</td>\n",
       "      <td>...</td>\n",
       "      <td>...</td>\n",
       "      <td>...</td>\n",
       "      <td>...</td>\n",
       "    </tr>\n",
       "    <tr>\n",
       "      <th>0</th>\n",
       "      <td>good</td>\n",
       "      <td>0.016440</td>\n",
       "      <td>0.013299</td>\n",
       "      <td>0.477362</td>\n",
       "      <td>0.439024</td>\n",
       "      <td>0.003142</td>\n",
       "      <td>0.038337</td>\n",
       "    </tr>\n",
       "    <tr>\n",
       "      <th>15</th>\n",
       "      <td>delicious</td>\n",
       "      <td>0.004965</td>\n",
       "      <td>0.001192</td>\n",
       "      <td>0.192182</td>\n",
       "      <td>0.057588</td>\n",
       "      <td>0.003772</td>\n",
       "      <td>0.134594</td>\n",
       "    </tr>\n",
       "    <tr>\n",
       "      <th>3</th>\n",
       "      <td>check</td>\n",
       "      <td>0.011098</td>\n",
       "      <td>0.006967</td>\n",
       "      <td>0.437459</td>\n",
       "      <td>0.330623</td>\n",
       "      <td>0.004131</td>\n",
       "      <td>0.106836</td>\n",
       "    </tr>\n",
       "    <tr>\n",
       "      <th>5</th>\n",
       "      <td>love</td>\n",
       "      <td>0.008043</td>\n",
       "      <td>0.003351</td>\n",
       "      <td>0.262215</td>\n",
       "      <td>0.141599</td>\n",
       "      <td>0.004692</td>\n",
       "      <td>0.120616</td>\n",
       "    </tr>\n",
       "    <tr>\n",
       "      <th>1</th>\n",
       "      <td>great</td>\n",
       "      <td>0.013154</td>\n",
       "      <td>0.006252</td>\n",
       "      <td>0.408958</td>\n",
       "      <td>0.235772</td>\n",
       "      <td>0.006903</td>\n",
       "      <td>0.173185</td>\n",
       "    </tr>\n",
       "  </tbody>\n",
       "</table>\n",
       "<p>5167 rows × 7 columns</p>\n",
       "</div>"
      ],
      "text/plain": [
       "          word  pct_total_good  pct_total_bad  appears_in_pct_good  \\\n",
       "2          not        0.011102       0.019696             0.333876   \n",
       "14       order        0.005168       0.010053             0.165472   \n",
       "4         like        0.009182       0.012517             0.273127   \n",
       "140        ask        0.001305       0.004305             0.050651   \n",
       "84           $        0.002086       0.005047             0.064169   \n",
       "..         ...             ...            ...                  ...   \n",
       "0         good        0.016440       0.013299             0.477362   \n",
       "15   delicious        0.004965       0.001192             0.192182   \n",
       "3        check        0.011098       0.006967             0.437459   \n",
       "5         love        0.008043       0.003351             0.262215   \n",
       "1        great        0.013154       0.006252             0.408958   \n",
       "\n",
       "     appears_in_pct_bad  pct_total_diff  appears_in_diff  \n",
       "2              0.552846       -0.008594        -0.218969  \n",
       "14             0.291328       -0.004885        -0.125856  \n",
       "4              0.403794       -0.003335        -0.130667  \n",
       "140            0.149051       -0.003000        -0.098400  \n",
       "84             0.147696       -0.002960        -0.083527  \n",
       "..                  ...             ...              ...  \n",
       "0              0.439024        0.003142         0.038337  \n",
       "15             0.057588        0.003772         0.134594  \n",
       "3              0.330623        0.004131         0.106836  \n",
       "5              0.141599        0.004692         0.120616  \n",
       "1              0.235772        0.006903         0.173185  \n",
       "\n",
       "[5167 rows x 7 columns]"
      ]
     },
     "execution_count": 145,
     "metadata": {},
     "output_type": "execute_result"
    }
   ],
   "source": [
    "# same analysis as before\n",
    "\n",
    "# Get lemma statistics split by good and bad reviews\n",
    "lemma_good = count(shops[shops['star_rating'] >= 4]['lemmas'])\n",
    "lemma_bad = count(shops[shops['star_rating'] <= 3]['lemmas'])\n",
    "\n",
    "# combine the data to analyze differences\n",
    "lemma_combined = lemma_good.merge(lemma_bad, on='word', suffixes=('_good', '_bad'))\n",
    "lemma_combined = lemma_combined[['word', 'pct_total_good', 'pct_total_bad', 'appears_in_pct_good', 'appears_in_pct_bad']]\n",
    "lemma_combined['pct_total_diff'] = lemma_combined['pct_total_good'] - lemma_combined['pct_total_bad']\n",
    "lemma_combined['appears_in_diff'] = lemma_combined['appears_in_pct_good'] - lemma_combined['appears_in_pct_bad']\n",
    "lemma_combined.sort_values('pct_total_diff')"
   ]
  },
  {
   "cell_type": "markdown",
   "metadata": {},
   "source": [
    "So lemmatization took us from 9582 unique tokens down to 5167, not bad."
   ]
  },
  {
   "cell_type": "code",
   "execution_count": 153,
   "metadata": {},
   "outputs": [
    {
     "name": "stdout",
     "output_type": "stream",
     "text": [
      "With a cutoff of 0.05, there are 12 positive words and 30 negative words\n"
     ]
    }
   ],
   "source": [
    "# Get the most different words\n",
    "cutoff_pct = .05\n",
    "\n",
    "temp = lemma_combined[['word', 'appears_in_diff']].sort_values('appears_in_diff', ascending=False)\n",
    "good_lemmas = temp[temp['appears_in_diff'] >= cutoff_pct]\n",
    "bad_lemmas = temp[temp['appears_in_diff'] <= -cutoff_pct]\n",
    "\n",
    "print(f\"With a cutoff of {cutoff_pct}, there are {len(good_lemmas)} positive words and {len(bad_lemmas)} negative words\")"
   ]
  },
  {
   "cell_type": "code",
   "execution_count": 154,
   "metadata": {},
   "outputs": [
    {
     "data": {
      "image/png": "[encoded data removed]",
      "text/plain": [
       "<Figure size 864x360 with 2 Axes>"
      ]
     },
     "metadata": {
      "needs_background": "light"
     },
     "output_type": "display_data"
    }
   ],
   "source": [
    "# Show the visualization after lemmitization\n",
    "fig, ax = plt.subplots(1, 2)\n",
    "fig.set_size_inches(12,5)\n",
    "\n",
    "# words in good reviews\n",
    "squarify.plot(sizes=good_lemmas['appears_in_diff'], label=good_lemmas['word'], alpha=.8, ax=ax[0])\n",
    "ax[0].axis('off')\n",
    "ax[0].set_title('More common in positive reviews', size='xx-large')\n",
    "\n",
    "# words in bad reviews\n",
    "squarify.plot(sizes=bad_lemmas['appears_in_diff'], label=bad_lemmas['word'], alpha=.8, ax=ax[1])\n",
    "ax[1].axis('off')\n",
    "ax[1].set_title('More common in negative reviews', size='xx-large')\n",
    "\n",
    "plt.show()"
   ]
  },
  {
   "cell_type": "code",
   "execution_count": 155,
   "metadata": {},
   "outputs": [
    {
     "data": {
      "text/html": [
       "<div>\n",
       "<style scoped>\n",
       "    .dataframe tbody tr th:only-of-type {\n",
       "        vertical-align: middle;\n",
       "    }\n",
       "\n",
       "    .dataframe tbody tr th {\n",
       "        vertical-align: top;\n",
       "    }\n",
       "\n",
       "    .dataframe thead th {\n",
       "        text-align: right;\n",
       "    }\n",
       "</style>\n",
       "<table border=\"1\" class=\"dataframe\">\n",
       "  <thead>\n",
       "    <tr style=\"text-align: right;\">\n",
       "      <th></th>\n",
       "      <th>word</th>\n",
       "      <th>appears_in_diff</th>\n",
       "    </tr>\n",
       "  </thead>\n",
       "  <tbody>\n",
       "    <tr>\n",
       "      <th>1</th>\n",
       "      <td>great</td>\n",
       "      <td>0.173185</td>\n",
       "    </tr>\n",
       "    <tr>\n",
       "      <th>15</th>\n",
       "      <td>delicious</td>\n",
       "      <td>0.134594</td>\n",
       "    </tr>\n",
       "    <tr>\n",
       "      <th>5</th>\n",
       "      <td>love</td>\n",
       "      <td>0.120616</td>\n",
       "    </tr>\n",
       "    <tr>\n",
       "      <th>10</th>\n",
       "      <td>friendly</td>\n",
       "      <td>0.108296</td>\n",
       "    </tr>\n",
       "    <tr>\n",
       "      <th>3</th>\n",
       "      <td>check</td>\n",
       "      <td>0.106836</td>\n",
       "    </tr>\n",
       "  </tbody>\n",
       "</table>\n",
       "</div>"
      ],
      "text/plain": [
       "         word  appears_in_diff\n",
       "1       great         0.173185\n",
       "15  delicious         0.134594\n",
       "5        love         0.120616\n",
       "10   friendly         0.108296\n",
       "3       check         0.106836"
      ]
     },
     "execution_count": 155,
     "metadata": {},
     "output_type": "execute_result"
    }
   ],
   "source": [
    "good_lemmas.head()"
   ]
  },
  {
   "cell_type": "code",
   "execution_count": 157,
   "metadata": {},
   "outputs": [
    {
     "data": {
      "text/html": [
       "<div>\n",
       "<style scoped>\n",
       "    .dataframe tbody tr th:only-of-type {\n",
       "        vertical-align: middle;\n",
       "    }\n",
       "\n",
       "    .dataframe tbody tr th {\n",
       "        vertical-align: top;\n",
       "    }\n",
       "\n",
       "    .dataframe thead th {\n",
       "        text-align: right;\n",
       "    }\n",
       "</style>\n",
       "<table border=\"1\" class=\"dataframe\">\n",
       "  <thead>\n",
       "    <tr style=\"text-align: right;\">\n",
       "      <th></th>\n",
       "      <th>word</th>\n",
       "      <th>appears_in_diff</th>\n",
       "    </tr>\n",
       "  </thead>\n",
       "  <tbody>\n",
       "    <tr>\n",
       "      <th>202</th>\n",
       "      <td>bad</td>\n",
       "      <td>-0.094003</td>\n",
       "    </tr>\n",
       "    <tr>\n",
       "      <th>140</th>\n",
       "      <td>ask</td>\n",
       "      <td>-0.098400</td>\n",
       "    </tr>\n",
       "    <tr>\n",
       "      <th>14</th>\n",
       "      <td>order</td>\n",
       "      <td>-0.125856</td>\n",
       "    </tr>\n",
       "    <tr>\n",
       "      <th>4</th>\n",
       "      <td>like</td>\n",
       "      <td>-0.130667</td>\n",
       "    </tr>\n",
       "    <tr>\n",
       "      <th>2</th>\n",
       "      <td>not</td>\n",
       "      <td>-0.218969</td>\n",
       "    </tr>\n",
       "  </tbody>\n",
       "</table>\n",
       "</div>"
      ],
      "text/plain": [
       "      word  appears_in_diff\n",
       "202    bad        -0.094003\n",
       "140    ask        -0.098400\n",
       "14   order        -0.125856\n",
       "4     like        -0.130667\n",
       "2      not        -0.218969"
      ]
     },
     "execution_count": 157,
     "metadata": {},
     "output_type": "execute_result"
    }
   ],
   "source": [
    "bad_lemmas.tail()"
   ]
  },
  {
   "cell_type": "markdown",
   "metadata": {},
   "source": [
    "So lemmitization cut the number of unique tokens almost in half, and got us a bit more variation in the most differentiating words.  Mostly the same words on each side of the graph, but it's still interesting.  I hadn't meant to include the $, but it makes sense that negative reviews might complain about price while positive ones might not mention it."
   ]
  },
  {
   "cell_type": "markdown",
   "metadata": {
    "colab_type": "text",
    "id": "1dCb1q8XphcP",
    "toc-hr-collapsed": true
   },
   "source": [
    "## Stretch Goals\n",
    "\n",
    "* Analyze another corpus of documents - such as Indeed.com job listings ;).\n",
    "* Play with the Spacy API to\n",
    " - Extract Named Entities\n",
    " - Extracting 'noun chunks'\n",
    " - Attempt Document Classification with just Spacy\n",
    " - *Note:* This [course](https://course.spacy.io/) will be of interesting in helping you with these stretch goals. \n",
    "* Try to build a plotly dash app with your text data \n",
    "\n"
   ]
  },
  {
   "cell_type": "markdown",
   "metadata": {},
   "source": [
    "### Compare my results back to the original ratings\n",
    "\n",
    "I threw a lot of numbers out there, but I wonder if I can compare it back to the star rating?\n",
    "\n",
    "To find out, I'm going to sum up the total of the 'appears_in_diff' value for each token in a review, and save that as a new column that I can analyze.  It will be interesting if I can get a single value that relates back to the star rating."
   ]
  },
  {
   "cell_type": "code",
   "execution_count": null,
   "metadata": {
    "scrolled": true
   },
   "outputs": [],
   "source": [
    "# using these values\n",
    "lemma_mappings = lemma_combined[['word', 'appears_in_diff']].set_index('word').to_dict()['appears_in_diff']\n",
    "lemma_mappings"
   ]
  },
  {
   "cell_type": "code",
   "execution_count": 177,
   "metadata": {},
   "outputs": [],
   "source": [
    "# Define a function that maps lemmas to those values then sums them\n",
    "def sum_lemmas(lemmas):\n",
    "    return pd.Series(lemmas).map(lemma_mappings).sum()"
   ]
  },
  {
   "cell_type": "code",
   "execution_count": null,
   "metadata": {},
   "outputs": [],
   "source": [
    "# Create a new column and apply the function to it\n",
    "shops['lemma_value'] = shops['lemmas'].apply(sum_lemmas)\n",
    "\n",
    "# Also get the average value to normalize between longer and shorter reviews\n",
    "shops['lemma_avg'] = [0.0] * len(shops)\n",
    "for i in range(len(shops)):\n",
    "    shops.at[i, 'lemma_avg'] = shops.at[i, 'lemma_value'] / len(shops.at[i, 'lemmas'])"
   ]
  },
  {
   "cell_type": "code",
   "execution_count": 186,
   "metadata": {
    "scrolled": true
   },
   "outputs": [
    {
     "data": {
      "text/html": [
       "<div>\n",
       "<style scoped>\n",
       "    .dataframe tbody tr th:only-of-type {\n",
       "        vertical-align: middle;\n",
       "    }\n",
       "\n",
       "    .dataframe tbody tr th {\n",
       "        vertical-align: top;\n",
       "    }\n",
       "\n",
       "    .dataframe thead th {\n",
       "        text-align: right;\n",
       "    }\n",
       "</style>\n",
       "<table border=\"1\" class=\"dataframe\">\n",
       "  <thead>\n",
       "    <tr style=\"text-align: right;\">\n",
       "      <th></th>\n",
       "      <th>coffee_shop_name</th>\n",
       "      <th>full_review_text</th>\n",
       "      <th>star_rating</th>\n",
       "      <th>review_date</th>\n",
       "      <th>review_tokens</th>\n",
       "      <th>lemmas</th>\n",
       "      <th>lemma_value</th>\n",
       "      <th>lemma_avg</th>\n",
       "    </tr>\n",
       "  </thead>\n",
       "  <tbody>\n",
       "    <tr>\n",
       "      <th>0</th>\n",
       "      <td>The Factory - Cafe With a Soul</td>\n",
       "      <td>1 check-in Love love loved the atmosphere! Eve...</td>\n",
       "      <td>5</td>\n",
       "      <td>2016-11-25</td>\n",
       "      <td>[love, love, loved, atmosphere!, corner, shop,...</td>\n",
       "      <td>[check, love, love, love, atmosphere, corner, ...</td>\n",
       "      <td>-0.021065</td>\n",
       "      <td>-0.000527</td>\n",
       "    </tr>\n",
       "    <tr>\n",
       "      <th>1</th>\n",
       "      <td>The Factory - Cafe With a Soul</td>\n",
       "      <td>Listed in Date Night: Austin, Ambiance in Aust...</td>\n",
       "      <td>4</td>\n",
       "      <td>2016-12-02</td>\n",
       "      <td>[listed, date, night:, austin,, ambiance, beau...</td>\n",
       "      <td>[list, date, night, ambiance, beautiful, love,...</td>\n",
       "      <td>-0.218795</td>\n",
       "      <td>-0.008415</td>\n",
       "    </tr>\n",
       "    <tr>\n",
       "      <th>2</th>\n",
       "      <td>The Factory - Cafe With a Soul</td>\n",
       "      <td>1 check-in Listed in Brunch Spots I loved the ...</td>\n",
       "      <td>4</td>\n",
       "      <td>2016-11-30</td>\n",
       "      <td>[listed, brunch, spots, loved, eclectic, homey...</td>\n",
       "      <td>[check, list, brunch, spots, love, eclectic, h...</td>\n",
       "      <td>0.304124</td>\n",
       "      <td>0.003168</td>\n",
       "    </tr>\n",
       "    <tr>\n",
       "      <th>3</th>\n",
       "      <td>The Factory - Cafe With a Soul</td>\n",
       "      <td>Very cool decor! Good drinks Nice seating  How...</td>\n",
       "      <td>2</td>\n",
       "      <td>2016-11-25</td>\n",
       "      <td>[cool, decor!, good, drinks, nice, seating, ho...</td>\n",
       "      <td>[cool, decor, good, drink, nice, seating, over...</td>\n",
       "      <td>-0.552242</td>\n",
       "      <td>-0.015778</td>\n",
       "    </tr>\n",
       "    <tr>\n",
       "      <th>4</th>\n",
       "      <td>The Factory - Cafe With a Soul</td>\n",
       "      <td>1 check-in They are located within the Northcr...</td>\n",
       "      <td>4</td>\n",
       "      <td>2016-12-03</td>\n",
       "      <td>[located, northcross, mall, shopping, center, ...</td>\n",
       "      <td>[check, locate, northcross, mall, shopping, ce...</td>\n",
       "      <td>0.117634</td>\n",
       "      <td>0.001928</td>\n",
       "    </tr>\n",
       "  </tbody>\n",
       "</table>\n",
       "</div>"
      ],
      "text/plain": [
       "                  coffee_shop_name  \\\n",
       "0  The Factory - Cafe With a Soul    \n",
       "1  The Factory - Cafe With a Soul    \n",
       "2  The Factory - Cafe With a Soul    \n",
       "3  The Factory - Cafe With a Soul    \n",
       "4  The Factory - Cafe With a Soul    \n",
       "\n",
       "                                    full_review_text  star_rating review_date  \\\n",
       "0  1 check-in Love love loved the atmosphere! Eve...            5  2016-11-25   \n",
       "1  Listed in Date Night: Austin, Ambiance in Aust...            4  2016-12-02   \n",
       "2  1 check-in Listed in Brunch Spots I loved the ...            4  2016-11-30   \n",
       "3  Very cool decor! Good drinks Nice seating  How...            2  2016-11-25   \n",
       "4  1 check-in They are located within the Northcr...            4  2016-12-03   \n",
       "\n",
       "                                       review_tokens  \\\n",
       "0  [love, love, loved, atmosphere!, corner, shop,...   \n",
       "1  [listed, date, night:, austin,, ambiance, beau...   \n",
       "2  [listed, brunch, spots, loved, eclectic, homey...   \n",
       "3  [cool, decor!, good, drinks, nice, seating, ho...   \n",
       "4  [located, northcross, mall, shopping, center, ...   \n",
       "\n",
       "                                              lemmas  lemma_value  lemma_avg  \n",
       "0  [check, love, love, love, atmosphere, corner, ...    -0.021065  -0.000527  \n",
       "1  [list, date, night, ambiance, beautiful, love,...    -0.218795  -0.008415  \n",
       "2  [check, list, brunch, spots, love, eclectic, h...     0.304124   0.003168  \n",
       "3  [cool, decor, good, drink, nice, seating, over...    -0.552242  -0.015778  \n",
       "4  [check, locate, northcross, mall, shopping, ce...     0.117634   0.001928  "
      ]
     },
     "execution_count": 186,
     "metadata": {},
     "output_type": "execute_result"
    }
   ],
   "source": [
    "shops.head()"
   ]
  },
  {
   "cell_type": "code",
   "execution_count": 196,
   "metadata": {},
   "outputs": [
    {
     "data": {
      "image/png": "[encoded data removed]",
      "text/plain": [
       "<Figure size 432x288 with 1 Axes>"
      ]
     },
     "metadata": {
      "needs_background": "light"
     },
     "output_type": "display_data"
    }
   ],
   "source": [
    "# Now we can plot those and visually see how good of a representation it is\n",
    "plt.scatter(shops['lemma_value'], shops['star_rating'], alpha=.2)\n",
    "plt.title('Star rating vs total lemma value')\n",
    "plt.yticks(range(1,6), range(1,6))\n",
    "plt.show()"
   ]
  },
  {
   "cell_type": "code",
   "execution_count": 197,
   "metadata": {},
   "outputs": [
    {
     "data": {
      "image/png": "[encoded data removed]",
      "text/plain": [
       "<Figure size 432x288 with 1 Axes>"
      ]
     },
     "metadata": {
      "needs_background": "light"
     },
     "output_type": "display_data"
    }
   ],
   "source": [
    "plt.scatter(shops['lemma_avg'], shops['star_rating'], alpha=.2)\n",
    "plt.title('Star rating vs average lemma value')\n",
    "plt.yticks(range(1,6), range(1,6))\n",
    "plt.show()"
   ]
  },
  {
   "cell_type": "markdown",
   "metadata": {},
   "source": [
    "Ok, so that single value doesn't predict very well what the star rating is on it's own.  That's ok, just means that any predictive models would need to use more than that one feature."
   ]
  }
 ],
 "metadata": {
  "colab": {
   "collapsed_sections": [],
   "name": "LS_DS_421_Text_Data_Assignment.ipynb",
   "provenance": [],
   "version": "0.3.2"
  },
  "kernelspec": {
   "display_name": "U4-S1-NLP (Python3)",
   "language": "python",
   "name": "u4-s1-nlp"
  },
  "language_info": {
   "codemirror_mode": {
    "name": "ipython",
    "version": 3
   },
   "file_extension": ".py",
   "mimetype": "text/x-python",
   "name": "python",
   "nbconvert_exporter": "python",
   "pygments_lexer": "ipython3",
   "version": "3.7.0"
  },
  "toc-autonumbering": false
 },
 "nbformat": 4,
 "nbformat_minor": 4
}
