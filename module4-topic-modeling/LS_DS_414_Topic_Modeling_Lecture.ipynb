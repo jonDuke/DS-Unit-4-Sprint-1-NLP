{
 "cells": [
  {
   "cell_type": "markdown",
   "metadata": {},
   "source": [
    "Lambda School Data Science\n",
    "\n",
    "*Unit 4, Sprint 1, Module 4*\n",
    "\n",
    "---"
   ]
  },
  {
   "cell_type": "markdown",
   "metadata": {},
   "source": [
    "# Topic Modeling (Prepare)\n",
    "\n",
    "On Monday we talked about summarizing your documents using just token counts. Today, we're going to learn about a much more sophisticated approach - learning 'topics' from documents. Topics are a latent structure. They are not directly observable in the data, but we know they're there by reading them.\n",
    "\n",
    "> **latent**: existing but not yet developed or manifest; hidden or concealed.\n",
    "\n",
    "## Use Cases\n",
    "Primary use case: what the hell are your documents about? Who might want to know that in industry - \n",
    "* Identifying common themes in customer reviews\n",
    "* Discovering the needle in a haystack \n",
    "* Monitoring communications (Email - State Department) \n",
    "\n",
    "## Learning Objectives\n",
    "*At the end of the lesson you should be able to:*\n",
    "* <a href=\"#p1\">Part 1</a>: Describe how an LDA Model works\n",
    "* <a href=\"#p2\">Part 2</a>: Estimate a LDA Model with Gensim\n",
    "* <a href=\"#p3\">Part 3</a>: Interpret LDA results\n",
    "* <a href=\"#p4\">Part 4</a>: Select the appropriate number of topics\n"
   ]
  },
  {
   "cell_type": "markdown",
   "metadata": {},
   "source": [
    "# Latent Dirchilet Allocation Models (Learn)\n",
    "<a id=\"#p1\"></a>"
   ]
  },
  {
   "cell_type": "markdown",
   "metadata": {},
   "source": [
    "## Overview\n",
    "LDA is a \"generative probabilistic model\". \n",
    "\n",
    "Let's play with a model available [here](https://lettier.com/projects/lda-topic-modeling/)"
   ]
  },
  {
   "cell_type": "markdown",
   "metadata": {},
   "source": [
    "## Follow Along"
   ]
  },
  {
   "cell_type": "markdown",
   "metadata": {},
   "source": [
    "## Challenge "
   ]
  },
  {
   "cell_type": "markdown",
   "metadata": {},
   "source": [
    "# Estimating LDA Models with Gensim (Learn)\n",
    "<a id=\"#p1\"></a>"
   ]
  },
  {
   "cell_type": "markdown",
   "metadata": {
    "toc-hr-collapsed": true
   },
   "source": [
    "## Overview\n",
    "### A Literary Introduction: *Jane Austen V. Charlotte Bronte*\n",
    "Despite being born nearly forty years apart, modern fans often pit Jane Austen & Charlotte Bronte against one another in a battle for literary  supremacy. The battle centers around the topics of education for women, courting, and marriage. The authors' similar backgrounds naturally draw comparisons, but the modern fascination is probably due to novelty of British women publishing novels during the early 19th century. \n",
    "\n",
    "Can we help close a literary battle for supremacy and simply acknowledge that the authors addressed different topics and deserve to be acknowledged as excellent authors each in their own right?\n",
    "\n",
    "We're going to apply Latent Dirichlet Allocation a machine learning algorithm for topic modeling to each of the author's novels to compare the distribution of topics in their novels."
   ]
  },
  {
   "cell_type": "code",
   "execution_count": 1,
   "metadata": {},
   "outputs": [],
   "source": [
    "import numpy as np\n",
    "import gensim\n",
    "import os\n",
    "import re\n",
    "\n",
    "from gensim.utils import simple_preprocess\n",
    "from gensim.parsing.preprocessing import STOPWORDS\n",
    "from gensim import corpora\n",
    "\n",
    "from gensim.models.ldamulticore import LdaMulticore\n",
    "\n",
    "import pandas as pd"
   ]
  },
  {
   "cell_type": "code",
   "execution_count": 2,
   "metadata": {},
   "outputs": [
    {
     "data": {
      "text/plain": [
       "'3.8.1'"
      ]
     },
     "execution_count": 2,
     "metadata": {},
     "output_type": "execute_result"
    }
   ],
   "source": [
    "gensim.__version__"
   ]
  },
  {
   "cell_type": "markdown",
   "metadata": {},
   "source": [
    "### Novel Data\n",
    "I grabbed the novel data pre-split into a bunch of smaller chunks"
   ]
  },
  {
   "cell_type": "code",
   "execution_count": 3,
   "metadata": {},
   "outputs": [],
   "source": [
    "path = './data/austen-brontë-split'"
   ]
  },
  {
   "cell_type": "markdown",
   "metadata": {},
   "source": [
    "### Text Preprocessing\n",
    "**Activity**: update the function `tokenize` with any technique you have learned so far this week. "
   ]
  },
  {
   "cell_type": "code",
   "execution_count": 4,
   "metadata": {},
   "outputs": [],
   "source": [
    "# 1) Plain Python - ''.split command\n",
    "# 2) Spacy - just the lemmas from the document\n",
    "# 3) Gensim - simple_preprocess\n",
    "\n",
    "STOPWORDS = set(STOPWORDS).union(set(['said', 'mr', 'mrs']))\n",
    "\n",
    "def tokenize(text):\n",
    "    return [token for token in simple_preprocess(text) if token not in STOPWORDS]"
   ]
  },
  {
   "cell_type": "code",
   "execution_count": 5,
   "metadata": {},
   "outputs": [],
   "source": [
    "import os\n",
    "\n",
    "def gather_data(path_to_data): \n",
    "    data = []\n",
    "    for f in os.listdir(path):\n",
    "        if os.path.isdir(f) == False:\n",
    "            if f[-3:] == 'txt':\n",
    "                with open(os.path.join(path,f)) as t:\n",
    "                    text = t.read().strip('\\n')\n",
    "                    data.append(tokenize(str(text)))       \n",
    "    return data"
   ]
  },
  {
   "cell_type": "code",
   "execution_count": 6,
   "metadata": {},
   "outputs": [],
   "source": [
    "tokens = gather_data(path)"
   ]
  },
  {
   "cell_type": "code",
   "execution_count": 7,
   "metadata": {},
   "outputs": [
    {
     "data": {
      "text/plain": [
       "['emma',\n",
       " 'jane',\n",
       " 'austen',\n",
       " 'volume',\n",
       " 'chapter',\n",
       " 'emma',\n",
       " 'woodhouse',\n",
       " 'handsome',\n",
       " 'clever',\n",
       " 'rich']"
      ]
     },
     "execution_count": 7,
     "metadata": {},
     "output_type": "execute_result"
    }
   ],
   "source": [
    "tokens[0][0:10]"
   ]
  },
  {
   "cell_type": "code",
   "execution_count": 9,
   "metadata": {},
   "outputs": [
    {
     "data": {
      "text/plain": [
       "'this is a sample string with a  newline character'"
      ]
     },
     "execution_count": 9,
     "metadata": {},
     "output_type": "execute_result"
    }
   ],
   "source": [
    "\"this is a sample string with a \\n newline character\".replace('\\n', '')"
   ]
  },
  {
   "cell_type": "markdown",
   "metadata": {
    "toc-hr-collapsed": true
   },
   "source": [
    "## Follow Along"
   ]
  },
  {
   "cell_type": "code",
   "execution_count": 10,
   "metadata": {},
   "outputs": [],
   "source": [
    "titles = [t[:-4] for t in os.listdir(path) if os.path.isdir(t) == False]"
   ]
  },
  {
   "cell_type": "code",
   "execution_count": 11,
   "metadata": {},
   "outputs": [
    {
     "data": {
      "text/plain": [
       "813"
      ]
     },
     "execution_count": 11,
     "metadata": {},
     "output_type": "execute_result"
    }
   ],
   "source": [
    "len(titles)"
   ]
  },
  {
   "cell_type": "code",
   "execution_count": 12,
   "metadata": {},
   "outputs": [
    {
     "data": {
      "text/plain": [
       "813"
      ]
     },
     "execution_count": 12,
     "metadata": {},
     "output_type": "execute_result"
    }
   ],
   "source": [
    "len(tokens)"
   ]
  },
  {
   "cell_type": "markdown",
   "metadata": {},
   "source": [
    "### Author DataFrame\n"
   ]
  },
  {
   "cell_type": "code",
   "execution_count": 13,
   "metadata": {},
   "outputs": [],
   "source": [
    "df = pd.DataFrame(index=titles, data={'tokens':tokens})"
   ]
  },
  {
   "cell_type": "code",
   "execution_count": 14,
   "metadata": {},
   "outputs": [
    {
     "data": {
      "text/html": [
       "<div>\n",
       "<style scoped>\n",
       "    .dataframe tbody tr th:only-of-type {\n",
       "        vertical-align: middle;\n",
       "    }\n",
       "\n",
       "    .dataframe tbody tr th {\n",
       "        vertical-align: top;\n",
       "    }\n",
       "\n",
       "    .dataframe thead th {\n",
       "        text-align: right;\n",
       "    }\n",
       "</style>\n",
       "<table border=\"1\" class=\"dataframe\">\n",
       "  <thead>\n",
       "    <tr style=\"text-align: right;\">\n",
       "      <th></th>\n",
       "      <th>tokens</th>\n",
       "    </tr>\n",
       "  </thead>\n",
       "  <tbody>\n",
       "    <tr>\n",
       "      <th>Austen_Emma0000</th>\n",
       "      <td>[emma, jane, austen, volume, chapter, emma, wo...</td>\n",
       "    </tr>\n",
       "    <tr>\n",
       "      <th>Austen_Emma0001</th>\n",
       "      <td>[taylor, wish, pity, weston, thought, agree, p...</td>\n",
       "    </tr>\n",
       "    <tr>\n",
       "      <th>Austen_Emma0002</th>\n",
       "      <td>[behaved, charmingly, body, punctual, body, be...</td>\n",
       "    </tr>\n",
       "    <tr>\n",
       "      <th>Austen_Emma0003</th>\n",
       "      <td>[native, highbury, born, respectable, family, ...</td>\n",
       "    </tr>\n",
       "    <tr>\n",
       "      <th>Austen_Emma0004</th>\n",
       "      <td>[mention, handsome, letter, weston, received, ...</td>\n",
       "    </tr>\n",
       "  </tbody>\n",
       "</table>\n",
       "</div>"
      ],
      "text/plain": [
       "                                                            tokens\n",
       "Austen_Emma0000  [emma, jane, austen, volume, chapter, emma, wo...\n",
       "Austen_Emma0001  [taylor, wish, pity, weston, thought, agree, p...\n",
       "Austen_Emma0002  [behaved, charmingly, body, punctual, body, be...\n",
       "Austen_Emma0003  [native, highbury, born, respectable, family, ...\n",
       "Austen_Emma0004  [mention, handsome, letter, weston, received, ..."
      ]
     },
     "execution_count": 14,
     "metadata": {},
     "output_type": "execute_result"
    }
   ],
   "source": [
    "df.head()"
   ]
  },
  {
   "cell_type": "code",
   "execution_count": 15,
   "metadata": {},
   "outputs": [],
   "source": [
    "df['author'] = df.reset_index()['index'].apply(lambda x: x.split('_')[0]).tolist()\n",
    "df['book'] = df.reset_index()['index'].apply(lambda x: x.split('_')[1][:-4]).tolist()\n",
    "df['section'] = df.reset_index()['index'].apply(lambda x: x[-4:]).tolist()\n",
    "df['section'] = df['section'].astype('int')"
   ]
  },
  {
   "cell_type": "code",
   "execution_count": 16,
   "metadata": {},
   "outputs": [],
   "source": [
    "df['author'] = df['author'].map({'Austen':1, 'CBronte':0})"
   ]
  },
  {
   "cell_type": "code",
   "execution_count": 17,
   "metadata": {},
   "outputs": [
    {
     "data": {
      "text/plain": [
       "0    441\n",
       "1    372\n",
       "Name: author, dtype: int64"
      ]
     },
     "execution_count": 17,
     "metadata": {},
     "output_type": "execute_result"
    }
   ],
   "source": [
    "df.author.value_counts()"
   ]
  },
  {
   "cell_type": "code",
   "execution_count": 18,
   "metadata": {},
   "outputs": [
    {
     "data": {
      "text/html": [
       "<div>\n",
       "<style scoped>\n",
       "    .dataframe tbody tr th:only-of-type {\n",
       "        vertical-align: middle;\n",
       "    }\n",
       "\n",
       "    .dataframe tbody tr th {\n",
       "        vertical-align: top;\n",
       "    }\n",
       "\n",
       "    .dataframe thead th {\n",
       "        text-align: right;\n",
       "    }\n",
       "</style>\n",
       "<table border=\"1\" class=\"dataframe\">\n",
       "  <thead>\n",
       "    <tr style=\"text-align: right;\">\n",
       "      <th></th>\n",
       "      <th>tokens</th>\n",
       "      <th>author</th>\n",
       "      <th>book</th>\n",
       "      <th>section</th>\n",
       "    </tr>\n",
       "  </thead>\n",
       "  <tbody>\n",
       "    <tr>\n",
       "      <th>Austen_Emma0000</th>\n",
       "      <td>[emma, jane, austen, volume, chapter, emma, wo...</td>\n",
       "      <td>1</td>\n",
       "      <td>Emma</td>\n",
       "      <td>0</td>\n",
       "    </tr>\n",
       "    <tr>\n",
       "      <th>Austen_Emma0001</th>\n",
       "      <td>[taylor, wish, pity, weston, thought, agree, p...</td>\n",
       "      <td>1</td>\n",
       "      <td>Emma</td>\n",
       "      <td>1</td>\n",
       "    </tr>\n",
       "    <tr>\n",
       "      <th>Austen_Emma0002</th>\n",
       "      <td>[behaved, charmingly, body, punctual, body, be...</td>\n",
       "      <td>1</td>\n",
       "      <td>Emma</td>\n",
       "      <td>2</td>\n",
       "    </tr>\n",
       "    <tr>\n",
       "      <th>Austen_Emma0003</th>\n",
       "      <td>[native, highbury, born, respectable, family, ...</td>\n",
       "      <td>1</td>\n",
       "      <td>Emma</td>\n",
       "      <td>3</td>\n",
       "    </tr>\n",
       "    <tr>\n",
       "      <th>Austen_Emma0004</th>\n",
       "      <td>[mention, handsome, letter, weston, received, ...</td>\n",
       "      <td>1</td>\n",
       "      <td>Emma</td>\n",
       "      <td>4</td>\n",
       "    </tr>\n",
       "  </tbody>\n",
       "</table>\n",
       "</div>"
      ],
      "text/plain": [
       "                                                            tokens  author  \\\n",
       "Austen_Emma0000  [emma, jane, austen, volume, chapter, emma, wo...       1   \n",
       "Austen_Emma0001  [taylor, wish, pity, weston, thought, agree, p...       1   \n",
       "Austen_Emma0002  [behaved, charmingly, body, punctual, body, be...       1   \n",
       "Austen_Emma0003  [native, highbury, born, respectable, family, ...       1   \n",
       "Austen_Emma0004  [mention, handsome, letter, weston, received, ...       1   \n",
       "\n",
       "                 book  section  \n",
       "Austen_Emma0000  Emma        0  \n",
       "Austen_Emma0001  Emma        1  \n",
       "Austen_Emma0002  Emma        2  \n",
       "Austen_Emma0003  Emma        3  \n",
       "Austen_Emma0004  Emma        4  "
      ]
     },
     "execution_count": 18,
     "metadata": {},
     "output_type": "execute_result"
    }
   ],
   "source": [
    "df.head()"
   ]
  },
  {
   "cell_type": "markdown",
   "metadata": {},
   "source": [
    "### Streaming Documents\n",
    "Here we use a new pythonic thingy: the `yield` statement in our function. This allows us to iterate over a bunch of documents without actually reading them into memory. You can see how we use this function later on. "
   ]
  },
  {
   "cell_type": "code",
   "execution_count": 19,
   "metadata": {},
   "outputs": [],
   "source": [
    "def doc_stream(path):\n",
    "    for f in os.listdir(path):\n",
    "        if os.path.isdir(f) == False:\n",
    "            if f[-3:] == 'txt':\n",
    "                with open(os.path.join(path,f)) as t:\n",
    "                    text = t.read().strip('\\n')\n",
    "                    tokens = tokenize(text)\n",
    "                yield tokens"
   ]
  },
  {
   "cell_type": "code",
   "execution_count": 20,
   "metadata": {},
   "outputs": [],
   "source": [
    "streaming_data = doc_stream(path)"
   ]
  },
  {
   "cell_type": "code",
   "execution_count": 21,
   "metadata": {},
   "outputs": [
    {
     "data": {
      "text/plain": [
       "generator"
      ]
     },
     "execution_count": 21,
     "metadata": {},
     "output_type": "execute_result"
    }
   ],
   "source": [
    "type(streaming_data)"
   ]
  },
  {
   "cell_type": "code",
   "execution_count": null,
   "metadata": {},
   "outputs": [],
   "source": [
    "# gather_data => returns a list\n",
    "# doc_stream => returns a generator"
   ]
  },
  {
   "cell_type": "code",
   "execution_count": 22,
   "metadata": {},
   "outputs": [
    {
     "data": {
      "text/plain": [
       "['emma',\n",
       " 'jane',\n",
       " 'austen',\n",
       " 'volume',\n",
       " 'chapter',\n",
       " 'emma',\n",
       " 'woodhouse',\n",
       " 'handsome',\n",
       " 'clever',\n",
       " 'rich']"
      ]
     },
     "execution_count": 22,
     "metadata": {},
     "output_type": "execute_result"
    }
   ],
   "source": [
    "next(streaming_data)[:10] # Returns one document at a time from the generator"
   ]
  },
  {
   "cell_type": "markdown",
   "metadata": {},
   "source": [
    "### Gensim LDA Topic Modeling"
   ]
  },
  {
   "cell_type": "code",
   "execution_count": 23,
   "metadata": {},
   "outputs": [],
   "source": [
    "# A Dictionary Representation of all the words in our corpus\n",
    "id2word = corpora.Dictionary(doc_stream(path))"
   ]
  },
  {
   "cell_type": "code",
   "execution_count": 24,
   "metadata": {},
   "outputs": [
    {
     "data": {
      "text/plain": [
       "3986"
      ]
     },
     "execution_count": 24,
     "metadata": {},
     "output_type": "execute_result"
    }
   ],
   "source": [
    "id2word.token2id['england']"
   ]
  },
  {
   "cell_type": "code",
   "execution_count": 25,
   "metadata": {},
   "outputs": [
    {
     "data": {
      "text/plain": [
       "[(2753, 1), (3986, 3), (6601, 1), (6818, 1)]"
      ]
     },
     "execution_count": 25,
     "metadata": {},
     "output_type": "execute_result"
    }
   ],
   "source": [
    "id2word.doc2bow(tokenize(\"This is a sample message Darcy England England England\"))"
   ]
  },
  {
   "cell_type": "code",
   "execution_count": 26,
   "metadata": {},
   "outputs": [
    {
     "name": "stdout",
     "output_type": "stream",
     "text": [
      "56\n",
      "7056\n"
     ]
    }
   ],
   "source": [
    "import sys\n",
    "print(sys.getsizeof(id2word))\n",
    "print(sys.getsizeof(tokens))"
   ]
  },
  {
   "cell_type": "code",
   "execution_count": 27,
   "metadata": {},
   "outputs": [
    {
     "data": {
      "text/plain": [
       "22095"
      ]
     },
     "execution_count": 27,
     "metadata": {},
     "output_type": "execute_result"
    }
   ],
   "source": [
    "len(id2word.keys())"
   ]
  },
  {
   "cell_type": "code",
   "execution_count": 28,
   "metadata": {},
   "outputs": [],
   "source": [
    "# Let's remove extreme values from the dataset\n",
    "id2word.filter_extremes(no_below=5, no_above=0.95)"
   ]
  },
  {
   "cell_type": "code",
   "execution_count": 29,
   "metadata": {},
   "outputs": [
    {
     "data": {
      "text/plain": [
       "8102"
      ]
     },
     "execution_count": 29,
     "metadata": {},
     "output_type": "execute_result"
    }
   ],
   "source": [
    "len(id2word.keys())"
   ]
  },
  {
   "cell_type": "code",
   "execution_count": 30,
   "metadata": {},
   "outputs": [],
   "source": [
    "# a bag of words(bow) representation of our corpus\n",
    "# Note: we haven't actually read any text into memory here\n",
    "# Although abstracted away - tokenization IS happening in the doc_stream f(x)\n",
    "corpus = [id2word.doc2bow(text) for text in doc_stream(path)]"
   ]
  },
  {
   "cell_type": "code",
   "execution_count": 31,
   "metadata": {},
   "outputs": [
    {
     "data": {
      "text/plain": [
       "[(0, 1),\n",
       " (2, 1),\n",
       " (11, 1),\n",
       " (21, 2),\n",
       " (32, 1),\n",
       " (34, 1),\n",
       " (35, 1),\n",
       " (37, 1),\n",
       " (53, 1),\n",
       " (54, 1)]"
      ]
     },
     "execution_count": 31,
     "metadata": {},
     "output_type": "execute_result"
    }
   ],
   "source": [
    "corpus[345][:10]"
   ]
  },
  {
   "cell_type": "code",
   "execution_count": 32,
   "metadata": {},
   "outputs": [],
   "source": [
    "lda = LdaMulticore(corpus=corpus,\n",
    "                   id2word=id2word,\n",
    "                   random_state=723812,\n",
    "                   num_topics = 15,\n",
    "                   passes=10,\n",
    "                   workers=10\n",
    "                  )"
   ]
  },
  {
   "cell_type": "code",
   "execution_count": 33,
   "metadata": {},
   "outputs": [
    {
     "data": {
      "text/plain": [
       "[(0,\n",
       "  '0.016*\"harriet\" + 0.015*\"emma\" + 0.009*\"weston\" + 0.008*\"elton\" + 0.008*\"good\" + 0.008*\"think\" + 0.008*\"man\" + 0.007*\"miss\" + 0.007*\"knightley\" + 0.006*\"know\"'),\n",
       " (1,\n",
       "  '0.006*\"like\" + 0.006*\"sir\" + 0.006*\"jane\" + 0.006*\"thought\" + 0.005*\"little\" + 0.005*\"good\" + 0.005*\"love\" + 0.004*\"old\" + 0.004*\"poor\" + 0.004*\"man\"'),\n",
       " (2,\n",
       "  '0.011*\"elinor\" + 0.009*\"marianne\" + 0.008*\"elizabeth\" + 0.007*\"sister\" + 0.007*\"miss\" + 0.005*\"time\" + 0.005*\"darcy\" + 0.005*\"mother\" + 0.005*\"soon\" + 0.005*\"lady\"'),\n",
       " (3,\n",
       "  '0.005*\"hand\" + 0.005*\"eyes\" + 0.005*\"john\" + 0.004*\"like\" + 0.004*\"saw\" + 0.004*\"asked\" + 0.004*\"little\" + 0.003*\"time\" + 0.003*\"know\" + 0.003*\"sir\"'),\n",
       " (4,\n",
       "  '0.014*\"miss\" + 0.011*\"jane\" + 0.008*\"emma\" + 0.008*\"know\" + 0.007*\"thing\" + 0.007*\"think\" + 0.006*\"good\" + 0.006*\"little\" + 0.006*\"shall\" + 0.006*\"dear\"'),\n",
       " (5,\n",
       "  '0.007*\"jane\" + 0.006*\"elizabeth\" + 0.006*\"darcy\" + 0.006*\"know\" + 0.005*\"wickham\" + 0.005*\"think\" + 0.004*\"miss\" + 0.004*\"good\" + 0.004*\"love\" + 0.004*\"letter\"'),\n",
       " (6,\n",
       "  '0.007*\"hunsden\" + 0.005*\"miss\" + 0.005*\"helen\" + 0.005*\"temple\" + 0.004*\"bread\" + 0.004*\"tea\" + 0.004*\"come\" + 0.004*\"tyrant\" + 0.004*\"having\" + 0.004*\"little\"'),\n",
       " (7,\n",
       "  '0.010*\"little\" + 0.005*\"madame\" + 0.005*\"like\" + 0.005*\"monsieur\" + 0.004*\"vous\" + 0.004*\"paul\" + 0.004*\"est\" + 0.004*\"bessie\" + 0.003*\"room\" + 0.003*\"think\"'),\n",
       " (8,\n",
       "  '0.005*\"burns\" + 0.005*\"thought\" + 0.005*\"like\" + 0.005*\"scatcherd\" + 0.004*\"miss\" + 0.004*\"day\" + 0.004*\"face\" + 0.004*\"girl\" + 0.003*\"little\" + 0.003*\"dr\"'),\n",
       " (9,\n",
       "  '0.009*\"man\" + 0.007*\"bennet\" + 0.007*\"young\" + 0.007*\"elizabeth\" + 0.006*\"collins\" + 0.006*\"time\" + 0.006*\"father\" + 0.005*\"darcy\" + 0.004*\"thought\" + 0.004*\"longbourn\"'),\n",
       " (10,\n",
       "  '0.006*\"like\" + 0.005*\"little\" + 0.004*\"thought\" + 0.004*\"long\" + 0.004*\"good\" + 0.004*\"know\" + 0.004*\"time\" + 0.004*\"day\" + 0.003*\"night\" + 0.003*\"hand\"'),\n",
       " (11,\n",
       "  '0.021*\"emma\" + 0.010*\"miss\" + 0.009*\"knightley\" + 0.009*\"harriet\" + 0.007*\"thing\" + 0.007*\"little\" + 0.007*\"fairfax\" + 0.006*\"woodhouse\" + 0.006*\"think\" + 0.006*\"elton\"'),\n",
       " (12,\n",
       "  '0.008*\"bretton\" + 0.007*\"know\" + 0.007*\"dr\" + 0.006*\"little\" + 0.005*\"lucy\" + 0.005*\"thought\" + 0.005*\"miss\" + 0.005*\"ginevra\" + 0.005*\"good\" + 0.005*\"graham\"'),\n",
       " (13,\n",
       "  '0.007*\"thousand\" + 0.006*\"mason\" + 0.005*\"like\" + 0.005*\"know\" + 0.004*\"sisters\" + 0.004*\"diana\" + 0.004*\"justice\" + 0.004*\"shall\" + 0.004*\"thought\" + 0.004*\"pounds\"'),\n",
       " (14,\n",
       "  '0.016*\"lydia\" + 0.010*\"mother\" + 0.010*\"wickham\" + 0.010*\"father\" + 0.007*\"uncle\" + 0.007*\"pounds\" + 0.006*\"dashwood\" + 0.006*\"thousand\" + 0.005*\"sure\" + 0.005*\"elizabeth\"')]"
      ]
     },
     "execution_count": 33,
     "metadata": {},
     "output_type": "execute_result"
    }
   ],
   "source": [
    "lda.print_topics()"
   ]
  },
  {
   "cell_type": "code",
   "execution_count": null,
   "metadata": {},
   "outputs": [],
   "source": []
  },
  {
   "cell_type": "code",
   "execution_count": 34,
   "metadata": {},
   "outputs": [],
   "source": [
    "words = [re.findall(r'\"([^\"]*)\"',t[1]) for t in lda.print_topics()]"
   ]
  },
  {
   "cell_type": "code",
   "execution_count": 35,
   "metadata": {},
   "outputs": [],
   "source": [
    "topics = [' '.join(t[0:5]) for t in words]"
   ]
  },
  {
   "cell_type": "code",
   "execution_count": 36,
   "metadata": {},
   "outputs": [
    {
     "name": "stdout",
     "output_type": "stream",
     "text": [
      "------ Topic 0 ------\n",
      "harriet emma weston elton good\n",
      "\n",
      "------ Topic 1 ------\n",
      "like sir jane thought little\n",
      "\n",
      "------ Topic 2 ------\n",
      "elinor marianne elizabeth sister miss\n",
      "\n",
      "------ Topic 3 ------\n",
      "hand eyes john like saw\n",
      "\n",
      "------ Topic 4 ------\n",
      "miss jane emma know thing\n",
      "\n",
      "------ Topic 5 ------\n",
      "jane elizabeth darcy know wickham\n",
      "\n",
      "------ Topic 6 ------\n",
      "hunsden miss helen temple bread\n",
      "\n",
      "------ Topic 7 ------\n",
      "little madame like monsieur vous\n",
      "\n",
      "------ Topic 8 ------\n",
      "burns thought like scatcherd miss\n",
      "\n",
      "------ Topic 9 ------\n",
      "man bennet young elizabeth collins\n",
      "\n",
      "------ Topic 10 ------\n",
      "like little thought long good\n",
      "\n",
      "------ Topic 11 ------\n",
      "emma miss knightley harriet thing\n",
      "\n",
      "------ Topic 12 ------\n",
      "bretton know dr little lucy\n",
      "\n",
      "------ Topic 13 ------\n",
      "thousand mason like know sisters\n",
      "\n",
      "------ Topic 14 ------\n",
      "lydia mother wickham father uncle\n",
      "\n"
     ]
    }
   ],
   "source": [
    "for id, t in enumerate(topics): \n",
    "    print(f\"------ Topic {id} ------\")\n",
    "    print(t, end=\"\\n\\n\")"
   ]
  },
  {
   "cell_type": "markdown",
   "metadata": {},
   "source": [
    "## Challenge \n",
    "\n",
    "You will apply an LDA model to a customer review dataset to practice the fitting and estimation of LDA. "
   ]
  },
  {
   "cell_type": "markdown",
   "metadata": {},
   "source": [
    "# Interpret LDA Results (Learn)\n",
    "<a id=\"#p3\"></a>"
   ]
  },
  {
   "cell_type": "markdown",
   "metadata": {},
   "source": [
    "## Overview"
   ]
  },
  {
   "cell_type": "markdown",
   "metadata": {
    "toc-hr-collapsed": true
   },
   "source": [
    "## Follow Along"
   ]
  },
  {
   "cell_type": "markdown",
   "metadata": {},
   "source": [
    "### Topic Distance Visualization"
   ]
  },
  {
   "cell_type": "code",
   "execution_count": 37,
   "metadata": {},
   "outputs": [],
   "source": [
    "import pyLDAvis.gensim\n",
    "\n",
    "pyLDAvis.enable_notebook()"
   ]
  },
  {
   "cell_type": "code",
   "execution_count": 38,
   "metadata": {},
   "outputs": [
    {
     "data": {
      "text/html": [
       "\n",
       "<link rel=\"stylesheet\" type=\"text/css\" href=\"https://cdn.rawgit.com/bmabey/pyLDAvis/files/ldavis.v1.0.0.css\">\n",
       "\n",
       "\n",
       "<div id=\"ldavis_el7075627959366466322151211260\"></div>\n",
       "<script type=\"text/javascript\">\n",
       "\n",
       "var ldavis_el7075627959366466322151211260_data = {\"mdsDat\": {\"x\": [-0.08610943254254184, 0.09610646638779058, 0.06937879350077755, -0.12373225970424999, 0.11320834547568452, 0.10309678109602306, 0.1143848633628715, 0.10391768199956852, -0.011588483383271547, -0.09703936595920544, -0.1428861923053681, 0.073180196633915, -0.028001507321017846, -0.10265811572982675, -0.08125777151114935], \"y\": [-0.006008052146167584, 0.014837756849107321, -0.0642665033912537, -0.0574204683141461, -0.08478319316809127, -0.09114245369284817, 0.0184102595268705, 0.10625105968332818, 0.029207912356858427, -0.021387952704413366, 0.006039962313470051, 0.10452275326653336, -0.05661080914985225, 0.0249243614817525, 0.0774253670888521], \"topics\": [1, 2, 3, 4, 5, 6, 7, 8, 9, 10, 11, 12, 13, 14, 15], \"cluster\": [1, 1, 1, 1, 1, 1, 1, 1, 1, 1, 1, 1, 1, 1, 1], \"Freq\": [41.97673416137695, 19.396455764770508, 11.418595314025879, 8.034629821777344, 4.911840438842773, 4.0279154777526855, 3.9942686557769775, 1.4895734786987305, 1.0135176181793213, 0.9994547963142395, 0.7705587148666382, 0.7670978903770447, 0.6460212469100952, 0.297358900308609, 0.25597766041755676]}, \"tinfo\": {\"Term\": [\"like\", \"little\", \"miss\", \"know\", \"emma\", \"thought\", \"good\", \"elizabeth\", \"time\", \"jane\", \"think\", \"man\", \"elinor\", \"shall\", \"mother\", \"harriet\", \"eyes\", \"john\", \"soon\", \"hand\", \"come\", \"day\", \"saw\", \"sir\", \"young\", \"house\", \"darcy\", \"father\", \"heart\", \"bennet\", \"henri\", \"glorious\", \"brussels\", \"india\", \"vandenhuten\", \"francs\", \"oliver\", \"serene\", \"scholars\", \"hell\", \"europe\", \"sophie\", \"stool\", \"veil\", \"vocation\", \"seacombe\", \"frances\", \"briggs\", \"slip\", \"belgium\", \"swiss\", \"natures\", \"stile\", \"kneeling\", \"sunset\", \"wicket\", \"vale\", \"marchmont\", \"wardrobe\", \"practical\", \"godmother\", \"sustained\", \"stooped\", \"burning\", \"seal\", \"thornfield\", \"moon\", \"diana\", \"hunsden\", \"rochester\", \"crimsworth\", \"hannah\", \"lonely\", \"god\", \"rue\", \"blood\", \"flesh\", \"french\", \"rivers\", \"candle\", \"adele\", \"st\", \"ll\", \"english\", \"night\", \"dark\", \"hall\", \"black\", \"mdlle\", \"bright\", \"white\", \"face\", \"rose\", \"light\", \"ere\", \"strange\", \"like\", \"hand\", \"eye\", \"deep\", \"life\", \"stood\", \"eyes\", \"looked\", \"door\", \"long\", \"thought\", \"madame\", \"little\", \"saw\", \"old\", \"heart\", \"day\", \"house\", \"look\", \"come\", \"time\", \"good\", \"know\", \"room\", \"went\", \"took\", \"came\", \"left\", \"man\", \"way\", \"think\", \"shall\", \"felt\", \"jennings\", \"marianne\", \"willoughby\", \"margaret\", \"elinor\", \"steele\", \"berkeley\", \"cleveland\", \"middleton\", \"brandon\", \"charlotte\", \"dashwoods\", \"hurst\", \"middletons\", \"harley\", \"steeles\", \"palmers\", \"beaux\", \"lucas\", \"barton\", \"hunsford\", \"catherine\", \"rosings\", \"bingley\", \"thoughtfulness\", \"rapturous\", \"unwillingly\", \"magna\", \"salutation\", \"invariable\", \"ladyship\", \"collins\", \"netherfield\", \"delaford\", \"ferrars\", \"bourgh\", \"dashwood\", \"bennet\", \"elizabeth\", \"edward\", \"sister\", \"darcy\", \"palmer\", \"colonel\", \"lady\", \"mother\", \"behaviour\", \"family\", \"lucy\", \"town\", \"soon\", \"miss\", \"time\", \"replied\", \"think\", \"know\", \"great\", \"house\", \"good\", \"day\", \"little\", \"room\", \"away\", \"shall\", \"man\", \"ford\", \"patty\", \"grandmama\", \"cox\", \"friday\", \"pitcher\", \"vouchsafe\", \"harp\", \"undone\", \"longstaple\", \"rivet\", \"naivete\", \"butler\", \"charade\", \"cole\", \"larkins\", \"butcher\", \"significantly\", \"detaining\", \"banker\", \"pleasanter\", \"overtaken\", \"airing\", \"triumphantly\", \"shoot\", \"richard\", \"inequality\", \"pretending\", \"bates\", \"precise\", \"dixon\", \"campbells\", \"pianoforte\", \"crown\", \"smith\", \"campbell\", \"fairfax\", \"jane\", \"apples\", \"weston\", \"elton\", \"frank\", \"emma\", \"miss\", \"news\", \"thing\", \"perry\", \"oh\", \"dear\", \"churchill\", \"woodhouse\", \"knightley\", \"sir\", \"sure\", \"dancing\", \"shall\", \"going\", \"think\", \"know\", \"come\", \"harriet\", \"hear\", \"room\", \"great\", \"body\", \"soon\", \"good\", \"yes\", \"little\", \"heard\", \"time\", \"like\", \"came\", \"thought\", \"day\", \"away\", \"peu\", \"abbot\", \"avez\", \"grec\", \"votre\", \"athenee\", \"dans\", \"violets\", \"cholmondeley\", \"opaque\", \"assez\", \"une\", \"professors\", \"etre\", \"je\", \"tableau\", \"pens\", \"impromptu\", \"allez\", \"mal\", \"vous\", \"elle\", \"dire\", \"reflex\", \"paletot\", \"garcon\", \"isidore\", \"bourgeois\", \"ce\", \"que\", \"est\", \"cela\", \"zelie\", \"pas\", \"pierre\", \"bouquet\", \"qu\", \"bessie\", \"les\", \"ne\", \"et\", \"la\", \"comme\", \"estrade\", \"ginevra\", \"bien\", \"paul\", \"monsieur\", \"reed\", \"madame\", \"fanshawe\", \"mademoiselle\", \"emanuel\", \"dr\", \"little\", \"beck\", \"like\", \"school\", \"work\", \"door\", \"polly\", \"room\", \"bretton\", \"hand\", \"lucy\", \"eyes\", \"thought\", \"think\", \"good\", \"half\", \"day\", \"miss\", \"time\", \"know\", \"took\", \"john\", \"knew\", \"came\", \"selina\", \"knightleys\", \"approving\", \"gentility\", \"martin\", \"blindness\", \"nash\", \"surry\", \"bristol\", \"abbey\", \"farmer\", \"bath\", \"maple\", \"disgraced\", \"elegantly\", \"suckling\", \"westons\", \"resources\", \"intimately\", \"goddard\", \"jokes\", \"gross\", \"matches\", \"enscombe\", \"harriet\", \"inferred\", \"negligent\", \"grove\", \"connexion\", \"protest\", \"vicarage\", \"taylor\", \"elton\", \"weston\", \"churchills\", \"woodhouse\", \"emma\", \"knightley\", \"body\", \"hartfield\", \"highbury\", \"churchill\", \"friend\", \"man\", \"frank\", \"thing\", \"marry\", \"good\", \"young\", \"think\", \"assure\", \"people\", \"woman\", \"miss\", \"know\", \"ought\", \"little\", \"great\", \"father\", \"sure\", \"dear\", \"better\", \"like\", \"time\", \"thought\", \"mind\", \"shall\", \"isabella\", \"philosophic\", \"eltons\", \"hawkins\", \"regards\", \"saucy\", \"ostensible\", \"richmond\", \"grandmother\", \"supplying\", \"benefactress\", \"promoted\", \"bathing\", \"feelingly\", \"taylor\", \"secresy\", \"unexceptionable\", \"comprehending\", \"deceit\", \"beer\", \"windsor\", \"cooler\", \"amiss\", \"martins\", \"campbell\", \"hartfield\", \"competent\", \"dulness\", \"charmingly\", \"unfair\", \"emma\", \"knightley\", \"henry\", \"woodhouse\", \"highbury\", \"fairfax\", \"dixon\", \"harriet\", \"randalls\", \"elton\", \"perry\", \"shew\", \"weston\", \"bates\", \"poor\", \"body\", \"chuse\", \"churchill\", \"thing\", \"father\", \"miss\", \"children\", \"having\", \"home\", \"friend\", \"jane\", \"think\", \"little\", \"time\", \"dear\", \"soon\", \"good\", \"thought\", \"know\", \"shall\", \"man\", \"day\", \"great\", \"like\", \"yorkshire\", \"infamous\", \"lambton\", \"assertions\", \"create\", \"occurrences\", \"bewitching\", \"stating\", \"wilfully\", \"misconduct\", \"militia\", \"elopement\", \"inexpressibly\", \"reconciliation\", \"alluding\", \"blameless\", \"foresaw\", \"disadvantage\", \"creditable\", \"misunderstood\", \"indolence\", \"scotland\", \"unfair\", \"forwarded\", \"acquit\", \"inconveniences\", \"respectability\", \"liberally\", \"exercising\", \"deplorable\", \"involved\", \"churchills\", \"wickham\", \"gardiner\", \"fitzwilliam\", \"imprudent\", \"secrecy\", \"conduct\", \"supposing\", \"injured\", \"darcy\", \"pemberley\", \"robert\", \"elizabeth\", \"wishes\", \"aunt\", \"attachment\", \"churchill\", \"letter\", \"jane\", \"lydia\", \"engagement\", \"known\", \"particulars\", \"love\", \"affection\", \"hope\", \"marriage\", \"happiness\", \"marry\", \"know\", \"think\", \"family\", \"having\", \"frank\", \"feelings\", \"man\", \"present\", \"good\", \"miss\", \"time\", \"father\", \"soon\", \"little\", \"thought\", \"believe\", \"sister\", \"day\", \"felt\", \"brighton\", \"forster\", \"prevailing\", \"expenses\", \"lydia\", \"regiment\", \"sum\", \"gracechurch\", \"norland\", \"debts\", \"favourites\", \"despaired\", \"housekeeping\", \"pounds\", \"pledged\", \"settlement\", \"lamentations\", \"supplication\", \"disposal\", \"legal\", \"sixpence\", \"distresses\", \"denny\", \"pratt\", \"answerable\", \"accommodate\", \"cheap\", \"extravagant\", \"expressively\", \"prohibited\", \"wickham\", \"kitty\", \"uncle\", \"thousand\", \"gardiner\", \"income\", \"law\", \"dashwood\", \"longbourn\", \"father\", \"money\", \"estate\", \"mother\", \"addition\", \"ignorant\", \"married\", \"daughters\", \"assistance\", \"niece\", \"fortune\", \"bennet\", \"sure\", \"daughter\", \"elizabeth\", \"years\", \"sister\", \"soon\", \"house\", \"dear\", \"family\", \"know\", \"think\", \"great\", \"letter\", \"good\", \"time\", \"little\", \"stick\", \"eyelid\", \"rob\", \"irritating\", \"philanthropist\", \"lloyd\", \"reproaching\", \"mystic\", \"memories\", \"partners\", \"infirm\", \"henceforth\", \"establish\", \"staff\", \"vanishing\", \"lowered\", \"mud\", \"saucy\", \"acquitted\", \"grieving\", \"anecdote\", \"orphan\", \"stair\", \"flakes\", \"affianced\", \"enounced\", \"sacrificing\", \"restoration\", \"external\", \"abhorred\", \"prejudices\", \"severely\", \"merits\", \"aged\", \"tap\", \"flatter\", \"ruin\", \"pelet\", \"sisters\", \"walravens\", \"died\", \"sir\", \"poor\", \"old\", \"jane\", \"love\", \"thought\", \"like\", \"grief\", \"marie\", \"good\", \"little\", \"man\", \"false\", \"half\", \"sense\", \"lizzy\", \"bessie\", \"father\", \"oh\", \"character\", \"children\", \"mother\", \"time\", \"people\", \"think\", \"place\", \"child\", \"leave\", \"eyes\", \"young\", \"know\", \"heart\", \"shall\", \"house\", \"saw\", \"scatcherd\", \"burns\", \"doctrine\", \"tract\", \"knoll\", \"walnut\", \"reproaching\", \"print\", \"stem\", \"impunity\", \"mischievous\", \"contrasts\", \"amounted\", \"bunch\", \"bundle\", \"blossoms\", \"matched\", \"projected\", \"desiree\", \"spots\", \"pious\", \"bigben\", \"glove\", \"packing\", \"quickening\", \"scenery\", \"aimed\", \"borders\", \"brush\", \"slice\", \"infection\", \"lowood\", \"patient\", \"helen\", \"coffee\", \"dr\", \"firmness\", \"bible\", \"parents\", \"girl\", \"fully\", \"bearing\", \"madame\", \"face\", \"liked\", \"thought\", \"kept\", \"day\", \"like\", \"miss\", \"clock\", \"half\", \"chose\", \"man\", \"place\", \"long\", \"hunsden\", \"think\", \"little\", \"hand\", \"heart\", \"know\", \"time\", \"life\", \"john\", \"eyes\", \"morning\", \"victor\", \"scrutinised\", \"yorke\", \"georgette\", \"rests\", \"tints\", \"grisette\", \"portfolio\", \"sans\", \"clouded\", \"trop\", \"inquisitive\", \"nest\", \"infallibly\", \"apron\", \"rosine\", \"rien\", \"tasks\", \"puts\", \"quel\", \"fidelity\", \"scrupled\", \"bracelet\", \"walnut\", \"expanse\", \"combine\", \"elements\", \"wheeled\", \"roved\", \"obviously\", \"burdened\", \"indicated\", \"appetite\", \"midsummer\", \"doctor\", \"pictures\", \"incapacity\", \"pas\", \"hunsden\", \"hand\", \"eyes\", \"john\", \"asked\", \"dr\", \"st\", \"table\", \"saw\", \"sir\", \"like\", \"frances\", \"closed\", \"came\", \"till\", \"forehead\", \"near\", \"time\", \"heart\", \"know\", \"little\", \"kind\", \"head\", \"good\", \"face\", \"night\", \"days\", \"answer\", \"thought\", \"tell\", \"better\", \"reject\", \"prepossession\", \"pompous\", \"sanctioned\", \"supplanted\", \"refusal\", \"apologise\", \"privately\", \"affording\", \"estates\", \"proposals\", \"corps\", \"atonement\", \"assiduous\", \"forgiveness\", \"humility\", \"fare\", \"gracechurch\", \"denny\", \"cruelly\", \"uniformly\", \"disregarded\", \"olive\", \"rascal\", \"despaired\", \"philosophic\", \"clapped\", \"injurious\", \"inattentive\", \"treasured\", \"extravagance\", \"likelihood\", \"unguarded\", \"lucases\", \"conscientious\", \"falls\", \"procured\", \"nieces\", \"longbourn\", \"collins\", \"lizzy\", \"cousin\", \"bennet\", \"profession\", \"gardiner\", \"relations\", \"catherine\", \"thousand\", \"robert\", \"man\", \"young\", \"father\", \"elizabeth\", \"darcy\", \"pride\", \"living\", \"pounds\", \"daughters\", \"marriage\", \"time\", \"motive\", \"certain\", \"amiable\", \"cried\", \"friend\", \"wickham\", \"thought\", \"family\", \"letter\", \"lady\", \"given\", \"shall\", \"good\", \"house\", \"having\", \"soon\", \"jane\", \"cooled\", \"crack\", \"raving\", \"restlessly\", \"unfit\", \"softest\", \"displeasing\", \"harmless\", \"practising\", \"recur\", \"spending\", \"quadrille\", \"chicken\", \"wanderings\", \"iii\", \"encumbrance\", \"jenkinson\", \"disown\", \"gifted\", \"cake\", \"unequivocal\", \"bracelet\", \"survive\", \"wouldn\", \"beef\", \"combine\", \"fight\", \"graces\", \"verbal\", \"delirious\", \"dumb\", \"causes\", \"averted\", \"ginevra\", \"wholesome\", \"snowe\", \"bretton\", \"dr\", \"mamma\", \"fanshawe\", \"graham\", \"lucy\", \"liking\", \"know\", \"evening\", \"preferred\", \"john\", \"little\", \"thought\", \"tea\", \"old\", \"saw\", \"ladies\", \"miss\", \"acquaintance\", \"good\", \"friends\", \"seen\", \"mother\", \"certainly\", \"boy\", \"think\", \"lady\", \"knew\", \"tell\", \"thing\", \"way\", \"young\", \"like\", \"toast\", \"famished\", \"portfolio\", \"generation\", \"tyrant\", \"scent\", \"needful\", \"villain\", \"deviation\", \"rascal\", \"beef\", \"wheeled\", \"lloyd\", \"weekly\", \"unlocked\", \"petit\", \"fervid\", \"feasted\", \"hostess\", \"spurned\", \"harass\", \"sprain\", \"frigid\", \"supplication\", \"liberally\", \"fragrant\", \"strikingly\", \"statement\", \"brutal\", \"pencilled\", \"meat\", \"discerned\", \"helen\", \"tray\", \"butter\", \"cups\", \"temple\", \"irritated\", \"bread\", \"hunsden\", \"tea\", \"crimsworth\", \"depth\", \"owing\", \"adele\", \"dirty\", \"property\", \"rang\", \"salary\", \"servant\", \"burns\", \"live\", \"bell\", \"table\", \"having\", \"miss\", \"nature\", \"come\", \"suppose\", \"little\", \"taken\", \"family\", \"heart\", \"eyes\", \"shall\", \"soon\", \"good\", \"looking\", \"till\", \"felt\", \"think\", \"impediment\", \"whitcross\", \"earthquake\", \"misunderstand\", \"insuperable\", \"scenery\", \"moors\", \"solve\", \"winning\", \"brightening\", \"aghast\", \"abandon\", \"surmises\", \"misty\", \"beckoned\", \"ornamented\", \"hazardous\", \"superfluous\", \"wondrous\", \"traverse\", \"visitation\", \"accorded\", \"monitor\", \"craving\", \"musings\", \"bands\", \"aspirations\", \"argue\", \"contemplate\", \"strangeness\", \"mason\", \"lawyer\", \"coach\", \"thousand\", \"moor\", \"diana\", \"justice\", \"pounds\", \"thornfield\", \"inn\", \"sisters\", \"marry\", \"explained\", \"mary\", \"journey\", \"repeat\", \"shook\", \"free\", \"labour\", \"st\", \"sign\", \"like\", \"recalled\", \"home\", \"want\", \"asked\", \"mere\", \"know\", \"shall\", \"thought\", \"yes\", \"john\", \"tell\", \"brother\", \"rochester\", \"jane\", \"heard\", \"soon\", \"house\", \"doubt\"], \"Freq\": [1327.0, 1716.0, 1508.0, 1421.0, 819.0, 1130.0, 1344.0, 648.0, 1311.0, 907.0, 1298.0, 896.0, 700.0, 918.0, 668.0, 499.0, 640.0, 622.0, 922.0, 618.0, 829.0, 1062.0, 779.0, 591.0, 655.0, 758.0, 415.0, 495.0, 654.0, 321.0, 54.53596496582031, 29.84257698059082, 36.509639739990234, 21.046539306640625, 20.973758697509766, 22.896602630615234, 29.23739242553711, 20.947296142578125, 16.14948272705078, 18.02289581298828, 21.8388614654541, 26.593347549438477, 25.620595932006836, 37.87220764160156, 15.102385520935059, 16.94516372680664, 111.97386169433594, 15.05099105834961, 20.644121170043945, 15.043288230895996, 14.087693214416504, 14.084285736083984, 14.088644027709961, 15.9534273147583, 14.073838233947754, 15.009276390075684, 13.120201110839844, 14.054708480834961, 15.94975471496582, 25.039182662963867, 28.896852493286133, 21.585723876953125, 17.786361694335938, 40.31825256347656, 22.252473831176758, 87.81649780273438, 69.84840393066406, 66.15185546875, 125.28338623046875, 297.1669006347656, 86.2901611328125, 37.93431091308594, 33.66554641723633, 189.8901824951172, 65.54524230957031, 77.76664733886719, 45.74702453613281, 135.1251678466797, 52.00223922729492, 55.85556411743164, 112.58739471435547, 157.9796142578125, 124.19287109375, 183.99575805664062, 451.5639343261719, 181.5953369140625, 139.7900390625, 146.232666015625, 95.31800842285156, 93.10021209716797, 182.5990753173828, 349.50726318359375, 177.1149444580078, 224.1393280029297, 109.6292495727539, 187.88119506835938, 768.475830078125, 397.12689208984375, 273.809814453125, 138.8924560546875, 353.5329284667969, 218.69403076171875, 371.2162780761719, 396.5845031738281, 321.6060485839844, 485.417724609375, 545.5166625976562, 251.98399353027344, 705.6258544921875, 392.111083984375, 275.6460876464844, 340.2174072265625, 467.6486511230469, 358.1512451171875, 316.69854736328125, 369.26226806640625, 470.8907775878906, 475.43585205078125, 473.4078674316406, 361.09735107421875, 267.1224365234375, 264.5807800292969, 298.85052490234375, 268.9557800292969, 322.9659423828125, 289.8627014160156, 336.0151062011719, 307.6461486816406, 282.3098449707031, 228.85406494140625, 559.9850463867188, 211.98643493652344, 35.73817825317383, 662.900390625, 37.598331451416016, 17.21971893310547, 26.867351531982422, 98.9807357788086, 139.2081756591797, 108.96571350097656, 35.12141418457031, 35.26935958862305, 18.94802474975586, 16.012792587280273, 29.236909866333008, 10.28244686126709, 11.036660194396973, 65.6920394897461, 82.91060638427734, 23.603776931762695, 117.843017578125, 45.489437103271484, 276.2682800292969, 7.116519451141357, 7.084895610809326, 6.1830949783325195, 10.680730819702148, 7.054123401641846, 6.142849922180176, 49.33258819580078, 154.6065216064453, 65.02477264404297, 27.257564544677734, 111.786376953125, 34.62191390991211, 211.4974365234375, 259.12701416015625, 503.59002685546875, 255.0483856201172, 449.21942138671875, 313.3110656738281, 64.93729400634766, 198.07504272460938, 300.2398681640625, 311.06109619140625, 94.260986328125, 177.44168090820312, 176.64382934570312, 127.61405181884766, 303.6673583984375, 411.9339294433594, 331.52642822265625, 151.7277374267578, 281.2278137207031, 286.9252624511719, 214.31578063964844, 205.4921112060547, 248.785888671875, 220.99578857421875, 241.95266723632812, 197.18032836914062, 172.29022216796875, 180.55007934570312, 172.46353149414062, 14.73266887664795, 11.199938774108887, 11.965855598449707, 7.516307353973389, 6.541846752166748, 6.485589504241943, 4.679770469665527, 5.459130764007568, 4.371615886688232, 6.537996768951416, 6.577116012573242, 5.592837810516357, 5.591805458068848, 16.755029678344727, 43.159793853759766, 9.51623249053955, 4.70438289642334, 4.681515693664551, 5.385443210601807, 3.7717506885528564, 5.952559471130371, 3.762544631958008, 4.5203728675842285, 3.8245980739593506, 4.4555511474609375, 7.468205451965332, 3.799243688583374, 4.958193302154541, 95.84483337402344, 4.711614608764648, 27.832460403442383, 16.649351119995117, 20.843128204345703, 25.02104377746582, 60.73191452026367, 29.055253982543945, 176.8529052734375, 380.4447021484375, 15.12795352935791, 175.67567443847656, 156.56414794921875, 103.44438934326172, 300.6669006347656, 495.1179504394531, 51.15771484375, 268.2789001464844, 38.89262771606445, 194.55142211914062, 200.10272216796875, 88.89605712890625, 110.2326431274414, 130.26473999023438, 182.5867919921875, 176.49269104003906, 34.353904724121094, 217.25253295898438, 114.11003875732422, 268.1007385253906, 283.477783203125, 178.86141967773438, 127.65357971191406, 111.13892364501953, 182.26329040527344, 171.86004638671875, 85.22058868408203, 179.88406372070312, 222.65478515625, 136.3636016845703, 217.29954528808594, 132.37127685546875, 178.6270294189453, 140.63592529296875, 121.85749816894531, 130.99603271484375, 128.78109741210938, 119.06129455566406, 11.600321769714355, 22.949851989746094, 10.636553764343262, 13.11169147491455, 11.381386756896973, 8.71077823638916, 10.369866371154785, 8.529939651489258, 20.512842178344727, 5.849186897277832, 5.860097408294678, 33.27214813232422, 6.685337066650391, 5.8356194496154785, 62.055747985839844, 6.666386127471924, 7.340310573577881, 6.582053184509277, 5.736110687255859, 4.873752117156982, 99.80806732177734, 22.0638484954834, 4.871986389160156, 5.666839122772217, 16.79862403869629, 4.835782051086426, 20.358261108398438, 8.142026901245117, 42.97426986694336, 52.99187469482422, 92.0791244506836, 16.21234703063965, 14.716750144958496, 48.71925735473633, 25.258079528808594, 11.306396484375, 24.748008728027344, 91.55137634277344, 29.957494735717773, 27.445650100708008, 59.29253005981445, 70.24671173095703, 18.16935920715332, 26.838348388671875, 62.76127624511719, 32.21590805053711, 92.51233673095703, 127.04965209960938, 62.08964920043945, 138.39456176757812, 45.23076248168945, 57.02738571166992, 51.30609893798828, 83.85205078125, 240.4928741455078, 51.43330383300781, 137.2365264892578, 57.86917495727539, 57.0858154296875, 75.92758178710938, 35.781986236572266, 87.68396759033203, 53.82476806640625, 74.21942138671875, 61.630794525146484, 72.27445983886719, 84.72966766357422, 85.497802734375, 83.58773040771484, 68.36135864257812, 75.07508850097656, 76.7919692993164, 74.99913024902344, 70.83447265625, 62.50571060180664, 62.19453048706055, 60.05913162231445, 59.5040168762207, 9.019207954406738, 6.349325180053711, 4.557529926300049, 6.8478899002075195, 65.89739227294922, 6.802107810974121, 10.117074966430664, 6.501327991485596, 6.541026592254639, 19.620315551757812, 8.593938827514648, 14.826397895812988, 18.995182037353516, 3.8349785804748535, 3.428341865539551, 7.745111465454102, 6.073800563812256, 10.174066543579102, 4.929040908813477, 29.177949905395508, 3.840069532394409, 3.352799892425537, 4.208990097045898, 17.587421417236328, 248.94979858398438, 3.7920732498168945, 4.075657844543457, 18.949512481689453, 9.606472969055176, 6.379466533660889, 8.16226863861084, 22.316997528076172, 129.6289825439453, 138.0428924560547, 7.125397205352783, 97.30538940429688, 223.86837768554688, 103.25460052490234, 78.27738952636719, 48.15681838989258, 32.74248504638672, 49.494449615478516, 72.46583557128906, 115.76022338867188, 47.17270278930664, 93.697021484375, 40.78803253173828, 127.56672668457031, 82.28510284423828, 121.256591796875, 34.55147933959961, 52.00476837158203, 61.20631790161133, 104.45362091064453, 99.2049331665039, 44.18992233276367, 97.99754333496094, 69.3665542602539, 56.12732696533203, 56.48902893066406, 54.369606018066406, 54.453617095947266, 67.1281509399414, 66.4847183227539, 61.11648178100586, 52.095096588134766, 48.34806442260742, 41.71673583984375, 2.824859857559204, 11.072311401367188, 9.599892616271973, 2.719249963760376, 2.88590931892395, 2.8222124576568604, 6.501335144042969, 6.45882511138916, 2.9467530250549316, 4.760522365570068, 3.778303384780884, 3.6198554039001465, 2.828317165374756, 20.484683990478516, 2.782747507095337, 3.1311874389648438, 2.8190219402313232, 3.589336633682251, 4.306591033935547, 2.6243526935577393, 3.8243520259857178, 4.163474082946777, 5.129339218139648, 18.85318946838379, 58.49652862548828, 2.888744354248047, 2.552799940109253, 2.867452621459961, 2.091371536254883, 263.4810485839844, 118.04508972167969, 10.316819190979004, 81.4632339477539, 33.620506286621094, 85.93900299072266, 13.471893310546875, 108.17707824707031, 24.04155921936035, 76.45063781738281, 20.9364013671875, 11.109199523925781, 74.09532165527344, 29.265522003173828, 56.58795166015625, 43.61723327636719, 9.222818374633789, 36.24748229980469, 88.40475463867188, 59.4379997253418, 123.5702133178711, 30.37961196899414, 52.68295669555664, 48.4812126159668, 43.365055084228516, 63.89094543457031, 76.67721557617188, 87.4357681274414, 71.68081665039062, 47.278419494628906, 55.0944938659668, 62.55249786376953, 54.41404724121094, 57.986412048339844, 50.54987716674805, 47.753013610839844, 45.577362060546875, 43.4698371887207, 43.070465087890625, 6.493567943572998, 6.47334623336792, 7.677846908569336, 3.854771137237549, 3.6761908531188965, 4.668123722076416, 3.4468960762023926, 4.374286651611328, 3.8197948932647705, 5.953694820404053, 4.75611686706543, 5.854452610015869, 3.6383726596832275, 5.027524471282959, 3.4710464477539062, 4.249517440795898, 2.9192044734954834, 5.170970439910889, 2.699672222137451, 6.043350696563721, 2.7517402172088623, 6.154066562652588, 2.6572086811065674, 2.626230478286743, 5.884562015533447, 3.6573233604431152, 4.443273067474365, 2.7732625007629395, 2.3207151889801025, 2.8604698181152344, 7.925945281982422, 6.506940841674805, 68.85411834716797, 34.589637756347656, 14.253422737121582, 9.077733039855957, 10.320902824401855, 32.86785888671875, 13.753040313720703, 9.827324867248535, 75.24396514892578, 15.848732948303223, 19.7817325592041, 80.57054138183594, 24.588308334350586, 33.57710647583008, 25.651866912841797, 37.00038146972656, 54.05813217163086, 83.00196838378906, 28.862180709838867, 23.30582618713379, 38.875450134277344, 15.470263481140137, 54.6320915222168, 34.74200439453125, 49.90497589111328, 28.02397918701172, 34.78166198730469, 27.44346046447754, 73.73793029785156, 68.38815307617188, 37.3565559387207, 41.23308181762695, 28.32575798034668, 34.606746673583984, 48.848976135253906, 35.06521987915039, 54.76118087768555, 55.34003829956055, 50.07632064819336, 36.63264083862305, 41.816627502441406, 47.55405044555664, 42.85078430175781, 33.986515045166016, 34.76140594482422, 35.963233947753906, 33.801292419433594, 19.33824348449707, 21.87580680847168, 2.6758265495300293, 6.3384199142456055, 73.64590454101562, 11.07066535949707, 11.49794864654541, 3.496065378189087, 19.058523178100586, 7.0617876052856445, 1.786358118057251, 1.7896676063537598, 2.1935923099517822, 30.77956771850586, 1.817703127861023, 1.7211462259292603, 2.268174409866333, 1.7307661771774292, 2.717027187347412, 2.589418649673462, 1.8172940015792847, 2.0995123386383057, 3.30155086517334, 3.1256048679351807, 1.6394277811050415, 2.423762798309326, 1.5844823122024536, 3.0285308361053467, 1.5806702375411987, 1.6923317909240723, 46.58442687988281, 17.930068969726562, 33.286319732666016, 27.25011444091797, 18.62047576904297, 10.09853458404541, 14.897101402282715, 29.940608978271484, 13.264426231384277, 44.71828842163086, 16.618919372558594, 8.98199462890625, 48.90841293334961, 7.200000762939453, 8.3756103515625, 22.780790328979492, 12.615560531616211, 7.846711158752441, 7.493445873260498, 15.523111343383789, 22.229049682617188, 25.5618839263916, 17.198116302490234, 25.367103576660156, 18.02958106994629, 21.302705764770508, 23.472719192504883, 21.566308975219727, 19.45619773864746, 17.324249267578125, 23.47428321838379, 21.351600646972656, 18.834362030029297, 16.952138900756836, 18.310598373413086, 18.089740753173828, 18.055757522583008, 3.4243152141571045, 2.0741240978240967, 2.5710701942443848, 1.8357659578323364, 1.9755746126174927, 3.4786999225616455, 1.414797306060791, 2.117155075073242, 1.824103593826294, 1.5263817310333252, 1.4241663217544556, 2.078077793121338, 2.0095958709716797, 2.0580575466156006, 1.5518296957015991, 1.9705671072006226, 1.297377586364746, 1.4082874059677124, 1.404044508934021, 1.943845272064209, 1.419183611869812, 4.414977550506592, 2.732408285140991, 1.1567944288253784, 1.2306829690933228, 1.2124537229537964, 1.3203314542770386, 1.3457400798797607, 2.114286184310913, 2.740856170654297, 2.0748043060302734, 2.3432412147521973, 3.589390277862549, 2.1481566429138184, 1.6412216424942017, 4.151084899902344, 3.459609031677246, 7.936453819274902, 10.785650253295898, 3.1859259605407715, 5.486714839935303, 19.229963302612305, 13.7429838180542, 14.125, 18.880884170532227, 14.416516304016113, 18.2318058013916, 19.270488739013672, 4.6631388664245605, 3.4769928455352783, 16.826335906982422, 17.155149459838867, 12.865961074829102, 4.242936611175537, 10.197574615478516, 7.545128345489502, 5.117180824279785, 5.565731048583984, 8.696084022521973, 8.429017066955566, 6.810325622558594, 6.190141677856445, 8.379859924316406, 9.973992347717285, 6.921640396118164, 9.688289642333984, 7.522453308105469, 6.689373016357422, 6.942749500274658, 7.6374430656433105, 7.600366592407227, 8.56087589263916, 7.518462181091309, 7.779312610626221, 7.527346134185791, 6.842809200286865, 14.15180778503418, 14.740253448486328, 3.0904862880706787, 3.067596673965454, 2.014514684677124, 1.638230562210083, 1.4859203100204468, 2.7199738025665283, 2.1275086402893066, 2.3836734294891357, 1.5268959999084473, 1.5241496562957764, 1.465267300605774, 1.4774781465530396, 1.455160140991211, 1.4324324131011963, 1.874563217163086, 1.5229592323303223, 4.375802993774414, 1.3445284366607666, 1.5569634437561035, 1.5618553161621094, 1.5213623046875, 1.5243890285491943, 1.5371928215026855, 1.1933084726333618, 2.092892646789551, 2.1588423252105713, 2.157194137573242, 2.2481021881103516, 2.2665035724639893, 7.842052936553955, 7.125587463378906, 7.391203880310059, 6.226095676422119, 10.602872848510742, 3.1215529441833496, 2.4867920875549316, 4.621741771697998, 11.117382049560547, 4.934187889099121, 4.095058441162109, 10.486444473266602, 11.348064422607422, 7.187652587890625, 14.454724311828613, 7.314091205596924, 13.247827529907227, 14.152819633483887, 13.987521171569824, 5.633753776550293, 9.117534637451172, 3.922276258468628, 9.936593055725098, 8.160317420959473, 9.889885902404785, 5.347319602966309, 9.984212875366211, 10.73598861694336, 7.922615051269531, 7.8237738609313965, 9.326517105102539, 8.708904266357422, 7.119662761688232, 6.944108009338379, 6.89149808883667, 6.505784034729004, 7.8105788230896, 1.6028988361358643, 3.5761404037475586, 4.061629295349121, 1.6545000076293945, 2.454024314880371, 2.451606035232544, 1.650855541229248, 1.6531962156295776, 1.6502447128295898, 1.6540179252624512, 1.647231936454773, 1.6469674110412598, 1.6513925790786743, 3.2483932971954346, 7.248445987701416, 1.6495178937911987, 1.647263526916504, 1.6560741662979126, 1.6503853797912598, 1.6530146598815918, 0.8518809080123901, 1.6519968509674072, 0.8562732934951782, 0.8541603684425354, 0.8536481857299805, 1.6563763618469238, 0.8456568121910095, 0.8522597551345825, 0.8526069521903992, 1.642604947090149, 2.4551937580108643, 3.2528419494628906, 1.6529717445373535, 5.666454792022705, 5.008981227874756, 1.652259349822998, 4.944042205810547, 7.187690734863281, 13.215619087219238, 12.498154640197754, 11.488210678100586, 8.986153602600098, 6.536546230316162, 5.726912498474121, 5.913418292999268, 9.375693321228027, 8.150511741638184, 10.22071361541748, 4.342369079589844, 4.182365417480469, 7.375028610229492, 6.693469047546387, 3.3884918689727783, 5.841536521911621, 8.422171592712402, 6.744548320770264, 8.414488792419434, 8.72139835357666, 5.832053184509277, 5.827060699462891, 7.602680683135986, 5.818061351776123, 5.779513359069824, 4.992373943328857, 4.928629398345947, 5.263084411621094, 5.0559916496276855, 5.032890796661377, 2.3518283367156982, 1.57844078540802, 1.5769171714782715, 1.5727709531784058, 1.3601493835449219, 3.7637569904327393, 1.7801722288131714, 1.5643435716629028, 1.5215014219284058, 1.34127676486969, 3.354149103164673, 1.5654582977294922, 1.371256709098816, 1.3604865074157715, 2.286813974380493, 2.9887397289276123, 1.574203372001648, 1.5792999267578125, 2.1364574432373047, 2.0821690559387207, 1.291088581085205, 1.5435922145843506, 2.336296558380127, 0.8122157454490662, 0.8160510659217834, 0.8230282664299011, 0.8172799944877625, 0.7835965752601624, 0.8147082924842834, 0.8012846112251282, 2.1662988662719727, 1.5870307683944702, 1.4043574333190918, 2.0007996559143066, 1.5757575035095215, 1.5841213464736938, 3.037710428237915, 1.7676297426223755, 8.521072387695312, 15.35096263885498, 8.204841613769531, 7.186821937561035, 16.91475486755371, 3.5348291397094727, 6.552972793579102, 5.175312042236328, 7.96159029006958, 7.615902423858643, 5.333974838256836, 20.725685119628906, 16.447324752807617, 14.158736228942871, 16.154621124267578, 11.7920560836792, 6.185494899749756, 7.145079612731934, 5.326220989227295, 5.606364727020264, 7.044090270996094, 14.938461303710938, 3.7719476222991943, 8.26807975769043, 5.1175737380981445, 7.647397994995117, 8.040122032165527, 5.980443477630615, 10.431846618652344, 7.366921901702881, 7.4810404777526855, 7.879663944244385, 6.4809489250183105, 7.705541133880615, 7.562197685241699, 7.034961223602295, 6.532864093780518, 6.842095375061035, 6.598115921020508, 1.4892914295196533, 1.380849003791809, 1.4844410419464111, 1.305832862854004, 2.390017032623291, 1.2110308408737183, 1.1904937028884888, 1.4362300634384155, 1.4851222038269043, 1.280074119567871, 2.874481439590454, 1.362163782119751, 1.4827946424484253, 1.4884394407272339, 1.4743273258209229, 0.7456661462783813, 1.6132533550262451, 1.4881495237350464, 1.1592845916748047, 4.081018447875977, 0.7643201947212219, 1.4776966571807861, 0.7707639336585999, 1.529849886894226, 0.7663978338241577, 0.7691163420677185, 1.3229930400848389, 2.214747905731201, 0.7701064348220825, 1.4811301231384277, 2.376594305038452, 1.610063910484314, 1.260306477546692, 10.471713066101074, 2.210974931716919, 6.05861234664917, 15.502731323242188, 14.791318893432617, 5.765196800231934, 5.553134918212891, 9.282868385314941, 10.939506530761719, 2.112200975418091, 15.045422554016113, 8.897149085998535, 2.621824264526367, 8.854863166809082, 13.137686729431152, 10.885212898254395, 4.582927227020264, 7.299905300140381, 8.658350944519043, 5.752514839172363, 10.864485740661621, 5.469751358032227, 10.2037353515625, 5.843800067901611, 6.3910698890686035, 7.248631954193115, 5.660093784332275, 3.328458547592163, 7.80096435546875, 6.292857646942139, 5.76320219039917, 5.633907794952393, 6.0189385414123535, 5.730944633483887, 5.6855549812316895, 5.734296798706055, 2.456942319869995, 1.7638298273086548, 1.8222366571426392, 1.2479087114334106, 3.6661508083343506, 1.2480041980743408, 1.856169581413269, 1.2486926317214966, 0.6431474089622498, 0.6458884477615356, 0.6445121765136719, 0.6434122920036316, 1.2503154277801514, 0.645149827003479, 0.6436237096786499, 0.6342751383781433, 0.6455296874046326, 0.6451103687286377, 0.643062949180603, 0.6417647004127502, 0.6307791471481323, 0.6061460971832275, 0.6025786399841309, 0.6440330743789673, 0.6458369493484497, 0.6444219350814819, 0.6375668048858643, 0.6429715752601624, 0.6473361253738403, 0.6457645893096924, 1.9499759674072266, 1.2480926513671875, 4.449406147003174, 1.8546128273010254, 1.3379936218261719, 1.249507188796997, 4.3352885246276855, 1.8565033674240112, 3.773456335067749, 6.203200817108154, 3.7592055797576904, 3.134448289871216, 1.1933910846710205, 1.223400354385376, 3.0941905975341797, 1.24990975856781, 1.7172026634216309, 1.740051507949829, 1.2513453960418701, 2.472168207168579, 1.3143080472946167, 3.112323760986328, 2.3325390815734863, 2.968667984008789, 3.6016106605529785, 4.8528852462768555, 2.8892505168914795, 3.7544808387756348, 2.5376601219177246, 3.308211088180542, 2.270946741104126, 2.4161179065704346, 2.570937156677246, 2.557302951812744, 2.595808744430542, 2.5056209564208984, 2.472689151763916, 2.223240375518799, 2.220615863800049, 2.0425362586975098, 2.0223734378814697, 2.2846484184265137, 2.341402530670166, 1.088029384613037, 1.1821177005767822, 1.0001949071884155, 0.6088310480117798, 1.1832470893859863, 0.609415590763092, 0.6107819080352783, 0.6098072528839111, 0.6081453561782837, 0.6111775636672974, 0.6038870811462402, 0.6100746393203735, 0.6059116721153259, 0.5907612442970276, 0.610623836517334, 0.6097664833068848, 0.6137139797210693, 0.6102253198623657, 0.6098097562789917, 0.6092517375946045, 0.6094737648963928, 0.6086680293083191, 0.6062833666801453, 0.6082196831703186, 0.6080017685890198, 0.6090295314788818, 0.6106545329093933, 0.607427716255188, 4.609457492828369, 0.8260289430618286, 2.9129550457000732, 5.897149562835693, 1.7574740648269653, 3.483792543411255, 3.4796650409698486, 3.0256497859954834, 2.9785609245300293, 1.7651844024658203, 3.5108351707458496, 2.9461283683776855, 1.4977519512176514, 2.3476123809814453, 1.7657800912857056, 1.2618807554244995, 1.7715672254562378, 1.7725774049758911, 1.1891605854034424, 2.35125470161438, 1.1911914348602295, 4.2898688316345215, 1.1819384098052979, 2.979945182800293, 2.5547592639923096, 2.6931214332580566, 1.7829731702804565, 3.864964246749878, 3.146986722946167, 3.1000688076019287, 2.553884983062744, 2.519146680831909, 2.385199785232544, 2.070657253265381, 2.0312390327453613, 1.9642002582550049, 1.8993855714797974, 1.8749819993972778, 1.8637043237686157, 1.8219776153564453], \"Total\": [1327.0, 1716.0, 1508.0, 1421.0, 819.0, 1130.0, 1344.0, 648.0, 1311.0, 907.0, 1298.0, 896.0, 700.0, 918.0, 668.0, 499.0, 640.0, 622.0, 922.0, 618.0, 829.0, 1062.0, 779.0, 591.0, 655.0, 758.0, 415.0, 495.0, 654.0, 321.0, 56.220821380615234, 31.115446090698242, 38.159934997558594, 22.023534774780273, 21.986902236938477, 24.022615432739258, 30.707664489746094, 22.030630111694336, 16.994691848754883, 19.00176239013672, 23.032150268554688, 28.049274444580078, 27.043231964111328, 40.00208282470703, 15.978679656982422, 17.945451736450195, 118.69877624511719, 15.961443901062012, 21.895004272460938, 15.9550199508667, 14.953001976013184, 14.96132755279541, 14.967338562011719, 16.9606990814209, 14.967538833618164, 15.9632568359375, 13.960916519165039, 14.959519386291504, 16.982566833496094, 26.671598434448242, 30.87984848022461, 23.021299362182617, 18.982738494873047, 43.931331634521484, 23.94306755065918, 98.66453552246094, 78.12387084960938, 74.16185760498047, 145.58551025390625, 362.9298400878906, 98.78334045410156, 41.8732795715332, 36.96645736694336, 230.24671936035156, 74.69512939453125, 89.99324035644531, 51.207950592041016, 163.14688110351562, 58.904014587402344, 63.629547119140625, 135.3750457763672, 196.42214965820312, 151.22532653808594, 233.0753936767578, 626.948486328125, 230.73712158203125, 174.2211151123047, 185.47482299804688, 115.30770874023438, 112.5272216796875, 237.90859985351562, 502.4186096191406, 235.68942260742188, 309.6044616699219, 137.51341247558594, 256.2809143066406, 1327.8973388671875, 618.9458618164062, 402.9644775390625, 184.42604064941406, 585.0200805664062, 327.2780456542969, 640.6217651367188, 706.0275268554688, 540.8344116210938, 943.9385986328125, 1130.95361328125, 410.1954650878906, 1716.65478515625, 779.0611572265625, 478.0030517578125, 654.9918823242188, 1062.10302734375, 758.74609375, 643.1605834960938, 829.0584106445312, 1311.2822265625, 1344.4161376953125, 1421.55908203125, 890.5030517578125, 498.082763671875, 498.4913330078125, 687.4264526367188, 541.0235595703125, 896.0872802734375, 690.5780639648438, 1298.873779296875, 918.640380859375, 670.2935791015625, 236.78787231445312, 579.8826904296875, 221.3058624267578, 37.599609375, 700.369873046875, 39.7983512878418, 18.30203628540039, 28.561044692993164, 105.23600006103516, 148.0206756591797, 116.4993896484375, 37.608211517333984, 37.777462005615234, 20.33448600769043, 17.2611141204834, 31.599515914916992, 11.126197814941406, 12.131322860717773, 72.32280731201172, 91.34022521972656, 26.087265014648438, 131.4795684814453, 50.89175033569336, 311.14239501953125, 8.020278930664062, 8.011713027954102, 7.003514766693115, 12.111533164978027, 8.01717472076416, 7.00018835067749, 56.4084358215332, 179.00294494628906, 74.77879333496094, 31.090673446655273, 131.2284698486328, 39.78145980834961, 253.12974548339844, 321.76800537109375, 648.150634765625, 322.2576599121094, 598.0224609375, 415.8788146972656, 78.90967559814453, 308.33721923828125, 628.1258544921875, 668.0474243164062, 145.387939453125, 379.61016845703125, 379.804931640625, 240.18292236328125, 922.4473266601562, 1508.1014404296875, 1311.2822265625, 347.3627014160156, 1298.873779296875, 1421.55908203125, 820.7723388671875, 758.74609375, 1344.4161376953125, 1062.10302734375, 1716.65478515625, 890.5030517578125, 679.4650268554688, 918.640380859375, 896.0872802734375, 15.828306198120117, 12.077406883239746, 13.01844310760498, 8.33176326751709, 7.386725902557373, 7.348408222198486, 5.494277477264404, 6.4481587409973145, 5.515331745147705, 8.249711990356445, 8.353225708007812, 7.287137985229492, 7.3875346183776855, 22.456459045410156, 58.199275970458984, 13.044512748718262, 6.4882307052612305, 6.477089881896973, 7.451401233673096, 5.257206916809082, 8.376248359680176, 5.316323280334473, 6.394195079803467, 5.4965434074401855, 6.435950756072998, 10.843867301940918, 5.561961650848389, 7.376840591430664, 142.91102600097656, 7.087895393371582, 42.24456024169922, 25.311513900756836, 32.45197296142578, 40.888057708740234, 108.41593933105469, 48.89215850830078, 360.08331298828125, 907.8052368164062, 24.507375717163086, 417.43084716796875, 366.5570373535156, 227.96868896484375, 819.6845092773438, 1508.1014404296875, 104.28547668457031, 769.9445190429688, 76.35819244384766, 549.5059204101562, 579.9481201171875, 213.00662231445312, 296.63433837890625, 369.02996826171875, 591.0790405273438, 609.2367553710938, 69.01805877685547, 918.640380859375, 378.698974609375, 1298.873779296875, 1421.55908203125, 829.0584106445312, 499.2796936035156, 405.543701171875, 890.5030517578125, 820.7723388671875, 268.7886047363281, 922.4473266601562, 1344.4161376953125, 592.4487915039062, 1716.65478515625, 621.6403198242188, 1311.2822265625, 1327.8973388671875, 687.4264526367188, 1130.95361328125, 1062.10302734375, 679.4650268554688, 12.597087860107422, 25.06015396118164, 11.620373725891113, 14.49755859375, 12.611549377441406, 9.65866756439209, 11.574262619018555, 9.663084983825684, 23.439311981201172, 6.7025370597839355, 6.719436168670654, 38.17859649658203, 7.690423011779785, 6.715014934539795, 71.51701354980469, 7.695194721221924, 8.536407470703125, 7.69351053237915, 6.716303825378418, 5.723796844482422, 117.3321762084961, 25.975217819213867, 5.737252712249756, 6.721428394317627, 19.936853408813477, 5.739302158355713, 24.179990768432617, 9.679306983947754, 51.093788146972656, 63.087398529052734, 109.74592590332031, 19.321317672729492, 17.55189323425293, 59.44404602050781, 31.37845802307129, 13.618952751159668, 31.18608283996582, 127.15189361572266, 39.29076385498047, 36.1566276550293, 85.04657745361328, 105.82591247558594, 23.506319046020508, 38.18716049194336, 107.93840789794922, 48.11982727050781, 184.15579223632812, 283.7614440917969, 128.0244598388672, 410.1954650878906, 85.12503814697266, 120.7913589477539, 107.99839782714844, 227.35169982910156, 1716.65478515625, 166.20651245117188, 1327.8973388671875, 247.43838500976562, 257.2970886230469, 540.8344116210938, 80.4115219116211, 890.5030517578125, 239.33651733398438, 618.9458618164062, 379.804931640625, 640.6217651367188, 1130.95361328125, 1298.873779296875, 1344.4161376953125, 585.3157958984375, 1062.10302734375, 1508.1014404296875, 1311.2822265625, 1421.55908203125, 498.4913330078125, 622.1372680664062, 547.0236206054688, 687.4264526367188, 10.409871101379395, 7.5342326164245605, 5.629938125610352, 8.498696327209473, 81.95214080810547, 8.490276336669922, 13.243820190429688, 9.441840171813965, 9.526496887207031, 30.357349395751953, 13.485837936401367, 23.666112899780273, 30.353052139282227, 6.241579532623291, 5.6723222732543945, 14.136513710021973, 11.260791778564453, 19.354412078857422, 9.442464828491211, 55.95612716674805, 7.517096996307373, 6.564720153808594, 8.382855415344238, 35.08579635620117, 499.2796936035156, 7.627162933349609, 8.242700576782227, 39.13091278076172, 19.91682243347168, 13.241798400878906, 17.018102645874023, 48.49158477783203, 366.5570373535156, 417.43084716796875, 15.164754867553711, 296.63433837890625, 819.6845092773438, 369.02996826171875, 268.7886047363281, 152.29969787597656, 118.6058120727539, 213.00662231445312, 430.93170166015625, 896.0872802734375, 227.96868896484375, 769.9445190429688, 199.9854736328125, 1344.4161376953125, 655.4852905273438, 1298.873779296875, 151.8978271484375, 336.3882141113281, 470.6174011230469, 1508.1014404296875, 1421.55908203125, 268.84906005859375, 1716.65478515625, 820.7723388671875, 495.85235595703125, 609.2367553710938, 579.9481201171875, 608.6251220703125, 1327.8973388671875, 1311.2822265625, 1130.95361328125, 575.1913452148438, 918.640380859375, 66.54865264892578, 5.3994526863098145, 21.68561553955078, 18.86005973815918, 5.39548921585083, 5.8060102462768555, 5.681623458862305, 13.128748893737793, 13.155743598937988, 6.079166412353516, 10.568497657775879, 8.60828685760498, 8.368549346923828, 6.546314239501953, 48.49158477783203, 6.5968241691589355, 7.432544708251953, 6.709609031677246, 8.584175109863281, 10.65678882598877, 6.520545959472656, 9.622570037841797, 10.529870986938477, 13.208622932434082, 48.89215850830078, 152.29969787597656, 7.5743255615234375, 6.699281692504883, 7.534691333770752, 5.593514442443848, 819.6845092773438, 369.02996826171875, 30.018999099731445, 296.63433837890625, 118.6058120727539, 360.08331298828125, 42.24456024169922, 499.2796936035156, 85.60087585449219, 366.5570373535156, 76.35819244384766, 36.020057678222656, 417.43084716796875, 142.91102600097656, 380.79144287109375, 268.7886047363281, 30.179725646972656, 213.00662231445312, 769.9445190429688, 495.85235595703125, 1508.1014404296875, 207.6063690185547, 533.9417114257812, 489.468017578125, 430.93170166015625, 907.8052368164062, 1298.873779296875, 1716.65478515625, 1311.2822265625, 579.9481201171875, 922.4473266601562, 1344.4161376953125, 1130.95361328125, 1421.55908203125, 918.640380859375, 896.0872802734375, 1062.10302734375, 820.7723388671875, 1327.8973388671875, 8.447918891906738, 8.451096534729004, 10.518917083740234, 5.593409061431885, 5.562870025634766, 7.491086959838867, 5.56301212310791, 7.327043533325195, 6.628945827484131, 10.391361236572266, 8.448822975158691, 10.56924057006836, 6.661203384399414, 9.580277442932129, 6.6431097984313965, 8.297792434692383, 5.754852771759033, 10.383052825927734, 5.526837348937988, 12.491283416748047, 5.706023693084717, 12.926289558410645, 5.593514442443848, 5.535550117492676, 12.452605247497559, 7.741301536560059, 9.615062713623047, 6.027859687805176, 5.225772857666016, 6.447444915771484, 18.288305282592773, 15.164754867553711, 184.51832580566406, 90.81181335449219, 36.75079345703125, 22.82904052734375, 27.870819091796875, 117.4201889038086, 39.94668960571289, 27.545005798339844, 415.8788146972656, 53.55934524536133, 75.47627258300781, 648.150634765625, 110.70230102539062, 177.86012268066406, 120.12325286865234, 213.00662231445312, 425.16839599609375, 907.8052368164062, 160.9236602783203, 115.33526611328125, 273.3508605957031, 59.626136779785156, 567.33740234375, 261.47772216796875, 503.1771545410156, 182.12046813964844, 277.1391296386719, 199.9854736328125, 1421.55908203125, 1298.873779296875, 379.61016845703125, 533.9417114257812, 227.96868896484375, 379.35406494140625, 896.0872802734375, 410.9888610839844, 1344.4161376953125, 1508.1014404296875, 1311.2822265625, 495.85235595703125, 922.4473266601562, 1716.65478515625, 1130.95361328125, 455.9934997558594, 598.0224609375, 1062.10302734375, 670.2935791015625, 22.33136558532715, 36.50428771972656, 5.278636455535889, 12.866395950317383, 160.9236602783203, 24.942230224609375, 28.238853454589844, 8.75912857055664, 51.82023239135742, 19.81524658203125, 5.303014278411865, 5.339351177215576, 6.5798845291137695, 93.6190185546875, 5.56632137298584, 5.631653308868408, 7.559007167816162, 5.992221355438232, 9.626667022705078, 9.248388290405273, 6.4984235763549805, 7.544089317321777, 11.863377571105957, 11.254999160766602, 6.032119274139404, 8.947365760803223, 5.938446998596191, 11.372581481933594, 5.954563140869141, 6.565364360809326, 184.51832580566406, 71.1103286743164, 149.89071655273438, 129.6597442626953, 90.81181335449219, 49.632755279541016, 88.3187484741211, 253.12974548339844, 85.50394439697266, 495.85235595703125, 131.62281799316406, 54.80318832397461, 668.0474243164062, 41.04411315917969, 52.768184661865234, 243.69688415527344, 106.05032348632812, 50.746734619140625, 47.40557861328125, 168.99871826171875, 321.76800537109375, 609.2367553710938, 272.2884521484375, 648.150634765625, 314.25048828125, 598.0224609375, 922.4473266601562, 758.74609375, 579.9481201171875, 379.61016845703125, 1421.55908203125, 1298.873779296875, 820.7723388671875, 425.16839599609375, 1344.4161376953125, 1311.2822265625, 1716.65478515625, 4.245899200439453, 4.869729518890381, 6.625203609466553, 5.021385192871094, 5.75551176071167, 10.400949478149414, 4.615609645843506, 6.927191257476807, 6.0427656173706055, 5.1017680168151855, 5.207884311676025, 7.872546195983887, 7.659282207489014, 7.933813571929932, 6.104990482330322, 7.827926158905029, 5.181759834289551, 5.8060102462768555, 5.838831901550293, 8.08918571472168, 5.926295280456543, 18.57755470275879, 11.65536117553711, 4.969524383544922, 5.322945594787598, 5.303811073303223, 5.919745445251465, 6.049388885498047, 9.505643844604492, 12.339277267456055, 9.883843421936035, 11.585063934326172, 21.055274963378906, 10.939618110656738, 7.837928771972656, 28.95319175720215, 25.952394485473633, 106.97376251220703, 183.2522735595703, 23.533809661865234, 61.94147491455078, 591.0790405273438, 380.79144287109375, 478.0030517578125, 907.8052368164062, 567.33740234375, 1130.95361328125, 1327.8973388671875, 58.8204345703125, 29.433870315551758, 1344.4161376953125, 1716.65478515625, 896.0872802734375, 53.28329849243164, 585.3157958984375, 276.0196228027344, 92.61305236816406, 127.15189361572266, 495.85235595703125, 549.5059204101562, 289.2513732910156, 207.6063690185547, 668.0474243164062, 1311.2822265625, 336.3882141113281, 1298.873779296875, 504.4638671875, 297.7602233886719, 383.2619323730469, 640.6217651367188, 655.4852905273438, 1421.55908203125, 654.9918823242188, 918.640380859375, 758.74609375, 779.0611572265625, 18.94200897216797, 26.938358306884766, 8.803988456726074, 8.756858825683594, 6.124789237976074, 5.064199447631836, 4.615609645843506, 8.957183837890625, 7.099930286407471, 7.9859137535095215, 5.267695903778076, 5.34230899810791, 5.233818531036377, 5.310474395751953, 5.348547458648682, 5.328616619110107, 7.167239665985107, 5.92958402633667, 17.44646644592285, 5.386656284332275, 6.2853684425354, 6.316904544830322, 6.231956481933594, 6.258339881896973, 6.341614246368408, 4.974616050720215, 8.742768287658691, 9.11009407043457, 9.146796226501465, 9.73621654510498, 9.957454681396484, 53.23244857788086, 53.581199645996094, 58.38972854614258, 48.52731704711914, 227.35169982910156, 22.90166473388672, 14.967470169067383, 51.69268798828125, 304.95703125, 62.690155029296875, 44.87485885620117, 410.1954650878906, 502.4186096191406, 193.5060272216797, 1130.95361328125, 209.7267303466797, 1062.10302734375, 1327.8973388671875, 1508.1014404296875, 133.14291381835938, 585.3157958984375, 51.83298873901367, 896.0872802734375, 504.4638671875, 943.9385986328125, 145.58551025390625, 1298.873779296875, 1716.65478515625, 618.9458618164062, 654.9918823242188, 1421.55908203125, 1311.2822265625, 585.0200805664062, 622.1372680664062, 640.6217651367188, 511.1727294921875, 21.521347045898438, 5.100595951080322, 12.731842994689941, 15.168309211730957, 6.473484039306641, 9.869048118591309, 10.230998992919922, 7.133516788482666, 7.145661354064941, 7.16115140914917, 7.351264476776123, 7.416750907897949, 7.434519290924072, 7.47178840637207, 15.153548240661621, 35.154022216796875, 8.324496269226074, 9.239104270935059, 9.309013366699219, 9.341225624084473, 9.461332321166992, 4.916009902954102, 9.67358112335205, 5.064199447631836, 5.087327003479004, 5.1935038566589355, 10.227642059326172, 5.234015464782715, 5.278252124786377, 5.326349258422852, 10.510201454162598, 16.307106018066406, 24.02008628845215, 11.213658332824707, 48.45170593261719, 43.46184158325195, 11.357291221618652, 59.44404602050781, 145.58551025390625, 618.9458618164062, 640.6217651367188, 622.1372680664062, 397.85223388671875, 227.35169982910156, 196.42214965820312, 236.355712890625, 779.0611572265625, 591.0790405273438, 1327.8973388671875, 118.69877624511719, 115.41854858398438, 687.4264526367188, 516.418701171875, 63.78567886352539, 362.5654296875, 1311.2822265625, 654.9918823242188, 1421.55908203125, 1716.65478515625, 407.0177001953125, 411.2628173828125, 1344.4161376953125, 502.4186096191406, 626.948486328125, 288.9593811035156, 349.78851318359375, 1130.95361328125, 540.1327514648438, 608.6251220703125, 7.101405143737793, 5.238375663757324, 5.337002277374268, 5.397220134735107, 5.256354808807373, 14.61575984954834, 7.970470905303955, 7.236703872680664, 7.19814920425415, 6.35276985168457, 16.116865158081055, 8.0916166305542, 7.2002692222595215, 7.286888599395752, 12.338347434997559, 16.442581176757812, 8.728813171386719, 8.75912857055664, 11.863377571105957, 12.08523941040039, 7.51439094543457, 9.196742057800293, 13.953676223754883, 5.062577247619629, 5.339351177215576, 5.3994526863098145, 5.367542743682861, 5.152284145355225, 5.397068500518799, 5.334381580352783, 14.893621444702148, 10.825407981872559, 9.531904220581055, 14.570103645324707, 11.143339157104492, 11.263265609741211, 23.775497436523438, 12.83400821685791, 85.50394439697266, 179.00294494628906, 92.61305236816406, 90.98853302001953, 321.76800537109375, 34.65151596069336, 90.81181335449219, 64.5835952758789, 131.4795684814453, 129.6597442626953, 75.47627258300781, 896.0872802734375, 655.4852905273438, 495.85235595703125, 648.150634765625, 415.8788146972656, 124.79930114746094, 171.6833038330078, 93.6190185546875, 106.05032348632812, 182.12046813964844, 1311.2822265625, 45.173927307128906, 340.2828063964844, 102.67188262939453, 367.1297302246094, 430.93170166015625, 184.51832580566406, 1130.95361328125, 379.61016845703125, 425.16839599609375, 628.1258544921875, 329.46929931640625, 918.640380859375, 1344.4161376953125, 758.74609375, 533.9417114257812, 922.4473266601562, 907.8052368164062, 5.245935916900635, 5.32190465927124, 5.956666946411133, 5.36514139175415, 9.995148658752441, 5.330905914306641, 5.329710960388184, 6.828140735626221, 7.140888214111328, 6.25731086730957, 14.835482597351074, 7.377805709838867, 8.071062088012695, 8.131143569946289, 8.124528884887695, 4.14381217956543, 9.444267272949219, 9.343164443969727, 7.397739410400391, 26.160400390625, 4.958077430725098, 9.67358112335205, 5.079685688018799, 10.202750205993652, 5.113978385925293, 5.1935038566589355, 9.112266540527344, 15.351289749145508, 5.377077102661133, 10.355180740356445, 16.65201187133789, 11.744206428527832, 8.97191047668457, 107.93840789794922, 17.352590560913086, 58.220157623291016, 239.33651733398438, 227.35169982910156, 66.53671264648438, 85.12503814697266, 222.8219451904297, 379.804931640625, 19.613679885864258, 1421.55908203125, 487.5943603515625, 32.98317337036133, 622.1372680664062, 1716.65478515625, 1130.95361328125, 134.2610321044922, 478.0030517578125, 779.0611572265625, 266.771240234375, 1508.1014404296875, 242.4590301513672, 1344.4161376953125, 309.30645751953125, 446.6365966796875, 668.0474243164062, 331.67724609375, 66.84110260009766, 1298.873779296875, 628.1258544921875, 547.0236206054688, 540.1327514648438, 769.9445190429688, 690.5780639648438, 655.4852905273438, 1327.8973388671875, 7.262420177459717, 6.36690092086792, 7.133516788482666, 5.643270492553711, 17.40837287902832, 6.775889873504639, 11.533483505249023, 7.982423782348633, 5.02248477935791, 5.062577247619629, 5.113978385925293, 5.234015464782715, 10.400949478149414, 5.411639213562012, 5.405584335327148, 5.355616569519043, 5.469651699066162, 5.472434043884277, 5.4819793701171875, 5.484295845031738, 5.390499591827393, 5.462623596191406, 5.465061187744141, 5.992221355438232, 6.027859687805176, 6.1849799156188965, 6.148742198944092, 6.302148342132568, 6.390880584716797, 6.399012088775635, 19.477380752563477, 12.670696258544922, 58.38972854614258, 21.68868637084961, 14.822525978088379, 13.968860626220703, 72.29340362548828, 24.83247184753418, 71.47955322265625, 145.58551025390625, 134.2610321044922, 98.78334045410156, 18.18008041381836, 19.85711669921875, 135.3750457763672, 22.145442962646484, 44.809600830078125, 51.02969741821289, 23.8372802734375, 120.94004821777344, 26.938358306884766, 212.2681427001953, 108.19692993164062, 236.355712890625, 533.9417114257812, 1508.1014404296875, 310.1358642578125, 829.0584106445312, 341.9652099609375, 1716.65478515625, 251.48158264160156, 379.61016845703125, 654.9918823242188, 640.6217651367188, 918.640380859375, 922.4473266601562, 1344.4161376953125, 375.177734375, 516.418701171875, 670.2935791015625, 1298.873779296875, 6.9969801902771, 9.12116527557373, 5.067221164703369, 6.905549049377441, 6.055014610290527, 4.974616050720215, 10.052072525024414, 5.199024677276611, 5.322145462036133, 5.350742340087891, 5.384557247161865, 5.425996780395508, 5.3669257164001465, 5.433419227600098, 5.444824695587158, 5.39118766784668, 6.180394649505615, 6.228760242462158, 6.353501319885254, 6.424166679382324, 6.424143314361572, 6.445631980895996, 6.452675819396973, 6.44597053527832, 6.42075252532959, 6.450091361999512, 6.449970245361328, 7.171926498413086, 7.317907810211182, 7.331373691558838, 56.884883880615234, 10.123534202575684, 40.55570983886719, 129.6597442626953, 27.763092041015625, 74.16185760498047, 86.37464904785156, 93.6190185546875, 98.66453552246094, 43.183631896972656, 183.2522735595703, 199.9854736328125, 45.041831970214844, 149.41567993164062, 78.7696533203125, 34.438480377197266, 85.91011047363281, 87.5706787109375, 31.219846725463867, 196.42214965820312, 33.39339065551758, 1327.8973388671875, 33.58162307739258, 489.468017578125, 321.7312316894531, 397.85223388671875, 116.1331787109375, 1421.55908203125, 918.640380859375, 1130.95361328125, 592.4487915039062, 622.1372680664062, 540.1327514648438, 284.6666259765625, 362.9298400878906, 907.8052368164062, 621.6403198242188, 922.4473266601562, 758.74609375, 313.7326965332031], \"Category\": [\"Default\", \"Default\", \"Default\", \"Default\", \"Default\", \"Default\", \"Default\", \"Default\", \"Default\", \"Default\", \"Default\", \"Default\", \"Default\", \"Default\", \"Default\", \"Default\", \"Default\", \"Default\", \"Default\", \"Default\", \"Default\", \"Default\", \"Default\", \"Default\", \"Default\", \"Default\", \"Default\", \"Default\", \"Default\", \"Default\", \"Topic1\", \"Topic1\", \"Topic1\", \"Topic1\", \"Topic1\", \"Topic1\", \"Topic1\", \"Topic1\", \"Topic1\", \"Topic1\", \"Topic1\", \"Topic1\", \"Topic1\", \"Topic1\", \"Topic1\", \"Topic1\", \"Topic1\", \"Topic1\", \"Topic1\", \"Topic1\", \"Topic1\", \"Topic1\", \"Topic1\", \"Topic1\", \"Topic1\", \"Topic1\", \"Topic1\", \"Topic1\", \"Topic1\", \"Topic1\", \"Topic1\", \"Topic1\", \"Topic1\", \"Topic1\", \"Topic1\", \"Topic1\", \"Topic1\", \"Topic1\", \"Topic1\", \"Topic1\", \"Topic1\", \"Topic1\", \"Topic1\", \"Topic1\", \"Topic1\", \"Topic1\", \"Topic1\", \"Topic1\", \"Topic1\", \"Topic1\", \"Topic1\", \"Topic1\", \"Topic1\", \"Topic1\", \"Topic1\", \"Topic1\", \"Topic1\", \"Topic1\", \"Topic1\", \"Topic1\", \"Topic1\", \"Topic1\", \"Topic1\", \"Topic1\", \"Topic1\", \"Topic1\", \"Topic1\", \"Topic1\", \"Topic1\", \"Topic1\", \"Topic1\", \"Topic1\", \"Topic1\", \"Topic1\", \"Topic1\", \"Topic1\", \"Topic1\", \"Topic1\", \"Topic1\", \"Topic1\", \"Topic1\", \"Topic1\", \"Topic1\", \"Topic1\", \"Topic1\", \"Topic1\", \"Topic1\", \"Topic1\", \"Topic1\", \"Topic1\", \"Topic1\", \"Topic1\", \"Topic1\", \"Topic1\", \"Topic1\", \"Topic1\", \"Topic1\", \"Topic1\", \"Topic1\", \"Topic2\", \"Topic2\", \"Topic2\", \"Topic2\", \"Topic2\", \"Topic2\", \"Topic2\", \"Topic2\", \"Topic2\", \"Topic2\", \"Topic2\", \"Topic2\", \"Topic2\", \"Topic2\", \"Topic2\", \"Topic2\", \"Topic2\", \"Topic2\", \"Topic2\", \"Topic2\", \"Topic2\", \"Topic2\", \"Topic2\", \"Topic2\", \"Topic2\", \"Topic2\", \"Topic2\", \"Topic2\", \"Topic2\", \"Topic2\", \"Topic2\", \"Topic2\", \"Topic2\", \"Topic2\", \"Topic2\", \"Topic2\", \"Topic2\", \"Topic2\", \"Topic2\", \"Topic2\", \"Topic2\", \"Topic2\", \"Topic2\", \"Topic2\", \"Topic2\", \"Topic2\", \"Topic2\", \"Topic2\", \"Topic2\", \"Topic2\", \"Topic2\", \"Topic2\", \"Topic2\", \"Topic2\", \"Topic2\", \"Topic2\", \"Topic2\", \"Topic2\", \"Topic2\", \"Topic2\", \"Topic2\", \"Topic2\", \"Topic2\", \"Topic2\", \"Topic2\", \"Topic3\", \"Topic3\", \"Topic3\", \"Topic3\", \"Topic3\", \"Topic3\", \"Topic3\", \"Topic3\", \"Topic3\", \"Topic3\", \"Topic3\", \"Topic3\", \"Topic3\", \"Topic3\", \"Topic3\", \"Topic3\", \"Topic3\", \"Topic3\", \"Topic3\", \"Topic3\", \"Topic3\", \"Topic3\", \"Topic3\", \"Topic3\", \"Topic3\", \"Topic3\", \"Topic3\", \"Topic3\", \"Topic3\", \"Topic3\", \"Topic3\", \"Topic3\", \"Topic3\", \"Topic3\", \"Topic3\", \"Topic3\", \"Topic3\", \"Topic3\", \"Topic3\", \"Topic3\", \"Topic3\", \"Topic3\", \"Topic3\", \"Topic3\", \"Topic3\", \"Topic3\", \"Topic3\", \"Topic3\", \"Topic3\", \"Topic3\", \"Topic3\", \"Topic3\", \"Topic3\", \"Topic3\", \"Topic3\", \"Topic3\", \"Topic3\", \"Topic3\", \"Topic3\", \"Topic3\", \"Topic3\", \"Topic3\", \"Topic3\", \"Topic3\", \"Topic3\", \"Topic3\", \"Topic3\", \"Topic3\", \"Topic3\", \"Topic3\", \"Topic3\", \"Topic3\", \"Topic3\", \"Topic3\", \"Topic3\", \"Topic3\", \"Topic4\", \"Topic4\", \"Topic4\", \"Topic4\", \"Topic4\", \"Topic4\", \"Topic4\", \"Topic4\", \"Topic4\", \"Topic4\", \"Topic4\", \"Topic4\", \"Topic4\", \"Topic4\", \"Topic4\", \"Topic4\", \"Topic4\", \"Topic4\", \"Topic4\", \"Topic4\", \"Topic4\", \"Topic4\", \"Topic4\", \"Topic4\", \"Topic4\", \"Topic4\", \"Topic4\", \"Topic4\", \"Topic4\", \"Topic4\", \"Topic4\", \"Topic4\", \"Topic4\", \"Topic4\", \"Topic4\", \"Topic4\", \"Topic4\", \"Topic4\", \"Topic4\", \"Topic4\", \"Topic4\", \"Topic4\", \"Topic4\", \"Topic4\", \"Topic4\", \"Topic4\", \"Topic4\", \"Topic4\", \"Topic4\", \"Topic4\", \"Topic4\", \"Topic4\", \"Topic4\", \"Topic4\", \"Topic4\", \"Topic4\", \"Topic4\", \"Topic4\", \"Topic4\", \"Topic4\", \"Topic4\", \"Topic4\", \"Topic4\", \"Topic4\", \"Topic4\", \"Topic4\", \"Topic4\", \"Topic4\", \"Topic4\", \"Topic4\", \"Topic4\", \"Topic4\", \"Topic4\", \"Topic4\", \"Topic4\", \"Topic4\", \"Topic4\", \"Topic4\", \"Topic5\", \"Topic5\", \"Topic5\", \"Topic5\", \"Topic5\", \"Topic5\", \"Topic5\", \"Topic5\", \"Topic5\", \"Topic5\", \"Topic5\", \"Topic5\", \"Topic5\", \"Topic5\", \"Topic5\", \"Topic5\", \"Topic5\", \"Topic5\", \"Topic5\", \"Topic5\", \"Topic5\", \"Topic5\", \"Topic5\", \"Topic5\", \"Topic5\", \"Topic5\", \"Topic5\", \"Topic5\", \"Topic5\", \"Topic5\", \"Topic5\", \"Topic5\", \"Topic5\", \"Topic5\", \"Topic5\", \"Topic5\", \"Topic5\", \"Topic5\", \"Topic5\", \"Topic5\", \"Topic5\", \"Topic5\", \"Topic5\", \"Topic5\", \"Topic5\", \"Topic5\", \"Topic5\", \"Topic5\", \"Topic5\", \"Topic5\", \"Topic5\", \"Topic5\", \"Topic5\", \"Topic5\", \"Topic5\", \"Topic5\", \"Topic5\", \"Topic5\", \"Topic5\", \"Topic5\", \"Topic5\", \"Topic5\", \"Topic5\", \"Topic5\", \"Topic5\", \"Topic5\", \"Topic5\", \"Topic6\", \"Topic6\", \"Topic6\", \"Topic6\", \"Topic6\", \"Topic6\", \"Topic6\", \"Topic6\", \"Topic6\", \"Topic6\", \"Topic6\", \"Topic6\", \"Topic6\", \"Topic6\", \"Topic6\", \"Topic6\", \"Topic6\", \"Topic6\", \"Topic6\", \"Topic6\", \"Topic6\", \"Topic6\", \"Topic6\", \"Topic6\", \"Topic6\", \"Topic6\", \"Topic6\", \"Topic6\", \"Topic6\", \"Topic6\", \"Topic6\", \"Topic6\", \"Topic6\", \"Topic6\", \"Topic6\", \"Topic6\", \"Topic6\", \"Topic6\", \"Topic6\", \"Topic6\", \"Topic6\", \"Topic6\", \"Topic6\", \"Topic6\", \"Topic6\", \"Topic6\", \"Topic6\", \"Topic6\", \"Topic6\", \"Topic6\", \"Topic6\", \"Topic6\", \"Topic6\", \"Topic6\", \"Topic6\", \"Topic6\", \"Topic6\", \"Topic6\", \"Topic6\", \"Topic6\", \"Topic6\", \"Topic6\", \"Topic6\", \"Topic6\", \"Topic6\", \"Topic6\", \"Topic6\", \"Topic6\", \"Topic6\", \"Topic7\", \"Topic7\", \"Topic7\", \"Topic7\", \"Topic7\", \"Topic7\", \"Topic7\", \"Topic7\", \"Topic7\", \"Topic7\", \"Topic7\", \"Topic7\", \"Topic7\", \"Topic7\", \"Topic7\", \"Topic7\", \"Topic7\", \"Topic7\", \"Topic7\", \"Topic7\", \"Topic7\", \"Topic7\", \"Topic7\", \"Topic7\", \"Topic7\", \"Topic7\", \"Topic7\", \"Topic7\", \"Topic7\", \"Topic7\", \"Topic7\", \"Topic7\", \"Topic7\", \"Topic7\", \"Topic7\", \"Topic7\", \"Topic7\", \"Topic7\", \"Topic7\", \"Topic7\", \"Topic7\", \"Topic7\", \"Topic7\", \"Topic7\", \"Topic7\", \"Topic7\", \"Topic7\", \"Topic7\", \"Topic7\", \"Topic7\", \"Topic7\", \"Topic7\", \"Topic7\", \"Topic7\", \"Topic7\", \"Topic7\", \"Topic7\", \"Topic7\", \"Topic7\", \"Topic7\", \"Topic7\", \"Topic7\", \"Topic7\", \"Topic7\", \"Topic7\", \"Topic7\", \"Topic7\", \"Topic7\", \"Topic7\", \"Topic7\", \"Topic7\", \"Topic7\", \"Topic7\", \"Topic7\", \"Topic7\", \"Topic7\", \"Topic7\", \"Topic7\", \"Topic7\", \"Topic8\", \"Topic8\", \"Topic8\", \"Topic8\", \"Topic8\", \"Topic8\", \"Topic8\", \"Topic8\", \"Topic8\", \"Topic8\", \"Topic8\", \"Topic8\", \"Topic8\", \"Topic8\", \"Topic8\", \"Topic8\", \"Topic8\", \"Topic8\", \"Topic8\", \"Topic8\", \"Topic8\", \"Topic8\", \"Topic8\", \"Topic8\", \"Topic8\", \"Topic8\", \"Topic8\", \"Topic8\", \"Topic8\", \"Topic8\", \"Topic8\", \"Topic8\", \"Topic8\", \"Topic8\", \"Topic8\", \"Topic8\", \"Topic8\", \"Topic8\", \"Topic8\", \"Topic8\", \"Topic8\", \"Topic8\", \"Topic8\", \"Topic8\", \"Topic8\", \"Topic8\", \"Topic8\", \"Topic8\", \"Topic8\", \"Topic8\", \"Topic8\", \"Topic8\", \"Topic8\", \"Topic8\", \"Topic8\", \"Topic8\", \"Topic8\", \"Topic8\", \"Topic8\", \"Topic8\", \"Topic8\", \"Topic8\", \"Topic8\", \"Topic8\", \"Topic8\", \"Topic8\", \"Topic8\", \"Topic9\", \"Topic9\", \"Topic9\", \"Topic9\", \"Topic9\", \"Topic9\", \"Topic9\", \"Topic9\", \"Topic9\", \"Topic9\", \"Topic9\", \"Topic9\", \"Topic9\", \"Topic9\", \"Topic9\", \"Topic9\", \"Topic9\", \"Topic9\", \"Topic9\", \"Topic9\", \"Topic9\", \"Topic9\", \"Topic9\", \"Topic9\", \"Topic9\", \"Topic9\", \"Topic9\", \"Topic9\", \"Topic9\", \"Topic9\", \"Topic9\", \"Topic9\", \"Topic9\", \"Topic9\", \"Topic9\", \"Topic9\", \"Topic9\", \"Topic9\", \"Topic9\", \"Topic9\", \"Topic9\", \"Topic9\", \"Topic9\", \"Topic9\", \"Topic9\", \"Topic9\", \"Topic9\", \"Topic9\", \"Topic9\", \"Topic9\", \"Topic9\", \"Topic9\", \"Topic9\", \"Topic9\", \"Topic9\", \"Topic9\", \"Topic9\", \"Topic9\", \"Topic9\", \"Topic9\", \"Topic9\", \"Topic9\", \"Topic9\", \"Topic9\", \"Topic9\", \"Topic9\", \"Topic9\", \"Topic9\", \"Topic9\", \"Topic9\", \"Topic9\", \"Topic9\", \"Topic9\", \"Topic9\", \"Topic9\", \"Topic9\", \"Topic10\", \"Topic10\", \"Topic10\", \"Topic10\", \"Topic10\", \"Topic10\", \"Topic10\", \"Topic10\", \"Topic10\", \"Topic10\", \"Topic10\", \"Topic10\", \"Topic10\", \"Topic10\", \"Topic10\", \"Topic10\", \"Topic10\", \"Topic10\", \"Topic10\", \"Topic10\", \"Topic10\", \"Topic10\", \"Topic10\", \"Topic10\", \"Topic10\", \"Topic10\", \"Topic10\", \"Topic10\", \"Topic10\", \"Topic10\", \"Topic10\", \"Topic10\", \"Topic10\", \"Topic10\", \"Topic10\", \"Topic10\", \"Topic10\", \"Topic10\", \"Topic10\", \"Topic10\", \"Topic10\", \"Topic10\", \"Topic10\", \"Topic10\", \"Topic10\", \"Topic10\", \"Topic10\", \"Topic10\", \"Topic10\", \"Topic10\", \"Topic10\", \"Topic10\", \"Topic10\", \"Topic10\", \"Topic10\", \"Topic10\", \"Topic10\", \"Topic10\", \"Topic10\", \"Topic10\", \"Topic10\", \"Topic10\", \"Topic10\", \"Topic10\", \"Topic10\", \"Topic10\", \"Topic10\", \"Topic11\", \"Topic11\", \"Topic11\", \"Topic11\", \"Topic11\", \"Topic11\", \"Topic11\", \"Topic11\", \"Topic11\", \"Topic11\", \"Topic11\", \"Topic11\", \"Topic11\", \"Topic11\", \"Topic11\", \"Topic11\", \"Topic11\", \"Topic11\", \"Topic11\", \"Topic11\", \"Topic11\", \"Topic11\", \"Topic11\", \"Topic11\", \"Topic11\", \"Topic11\", \"Topic11\", \"Topic11\", \"Topic11\", \"Topic11\", \"Topic11\", \"Topic11\", \"Topic11\", \"Topic11\", \"Topic11\", \"Topic11\", \"Topic11\", \"Topic11\", \"Topic11\", \"Topic11\", \"Topic11\", \"Topic11\", \"Topic11\", \"Topic11\", \"Topic11\", \"Topic11\", \"Topic11\", \"Topic11\", \"Topic11\", \"Topic11\", \"Topic11\", \"Topic11\", \"Topic11\", \"Topic11\", \"Topic11\", \"Topic11\", \"Topic11\", \"Topic11\", \"Topic11\", \"Topic11\", \"Topic11\", \"Topic11\", \"Topic11\", \"Topic11\", \"Topic11\", \"Topic11\", \"Topic11\", \"Topic11\", \"Topic11\", \"Topic12\", \"Topic12\", \"Topic12\", \"Topic12\", \"Topic12\", \"Topic12\", \"Topic12\", \"Topic12\", \"Topic12\", \"Topic12\", \"Topic12\", \"Topic12\", \"Topic12\", \"Topic12\", \"Topic12\", \"Topic12\", \"Topic12\", \"Topic12\", \"Topic12\", \"Topic12\", \"Topic12\", \"Topic12\", \"Topic12\", \"Topic12\", \"Topic12\", \"Topic12\", \"Topic12\", \"Topic12\", \"Topic12\", \"Topic12\", \"Topic12\", \"Topic12\", \"Topic12\", \"Topic12\", \"Topic12\", \"Topic12\", \"Topic12\", \"Topic12\", \"Topic12\", \"Topic12\", \"Topic12\", \"Topic12\", \"Topic12\", \"Topic12\", \"Topic12\", \"Topic12\", \"Topic12\", \"Topic12\", \"Topic12\", \"Topic12\", \"Topic12\", \"Topic12\", \"Topic12\", \"Topic12\", \"Topic12\", \"Topic12\", \"Topic12\", \"Topic12\", \"Topic12\", \"Topic12\", \"Topic12\", \"Topic12\", \"Topic12\", \"Topic12\", \"Topic12\", \"Topic12\", \"Topic12\", \"Topic12\", \"Topic12\", \"Topic12\", \"Topic12\", \"Topic12\", \"Topic12\", \"Topic12\", \"Topic12\", \"Topic12\", \"Topic12\", \"Topic13\", \"Topic13\", \"Topic13\", \"Topic13\", \"Topic13\", \"Topic13\", \"Topic13\", \"Topic13\", \"Topic13\", \"Topic13\", \"Topic13\", \"Topic13\", \"Topic13\", \"Topic13\", \"Topic13\", \"Topic13\", \"Topic13\", \"Topic13\", \"Topic13\", \"Topic13\", \"Topic13\", \"Topic13\", \"Topic13\", \"Topic13\", \"Topic13\", \"Topic13\", \"Topic13\", \"Topic13\", \"Topic13\", \"Topic13\", \"Topic13\", \"Topic13\", \"Topic13\", \"Topic13\", \"Topic13\", \"Topic13\", \"Topic13\", \"Topic13\", \"Topic13\", \"Topic13\", \"Topic13\", \"Topic13\", \"Topic13\", \"Topic13\", \"Topic13\", \"Topic13\", \"Topic13\", \"Topic13\", \"Topic13\", \"Topic13\", \"Topic13\", \"Topic13\", \"Topic13\", \"Topic13\", \"Topic13\", \"Topic13\", \"Topic13\", \"Topic13\", \"Topic13\", \"Topic13\", \"Topic13\", \"Topic13\", \"Topic13\", \"Topic13\", \"Topic13\", \"Topic13\", \"Topic13\", \"Topic13\", \"Topic13\", \"Topic14\", \"Topic14\", \"Topic14\", \"Topic14\", \"Topic14\", \"Topic14\", \"Topic14\", \"Topic14\", \"Topic14\", \"Topic14\", \"Topic14\", \"Topic14\", \"Topic14\", \"Topic14\", \"Topic14\", \"Topic14\", \"Topic14\", \"Topic14\", \"Topic14\", \"Topic14\", \"Topic14\", \"Topic14\", \"Topic14\", \"Topic14\", \"Topic14\", \"Topic14\", \"Topic14\", \"Topic14\", \"Topic14\", \"Topic14\", \"Topic14\", \"Topic14\", \"Topic14\", \"Topic14\", \"Topic14\", \"Topic14\", \"Topic14\", \"Topic14\", \"Topic14\", \"Topic14\", \"Topic14\", \"Topic14\", \"Topic14\", \"Topic14\", \"Topic14\", \"Topic14\", \"Topic14\", \"Topic14\", \"Topic14\", \"Topic14\", \"Topic14\", \"Topic14\", \"Topic14\", \"Topic14\", \"Topic14\", \"Topic14\", \"Topic14\", \"Topic14\", \"Topic14\", \"Topic14\", \"Topic14\", \"Topic14\", \"Topic14\", \"Topic14\", \"Topic14\", \"Topic14\", \"Topic14\", \"Topic14\", \"Topic14\", \"Topic14\", \"Topic14\", \"Topic15\", \"Topic15\", \"Topic15\", \"Topic15\", \"Topic15\", \"Topic15\", \"Topic15\", \"Topic15\", \"Topic15\", \"Topic15\", \"Topic15\", \"Topic15\", \"Topic15\", \"Topic15\", \"Topic15\", \"Topic15\", \"Topic15\", \"Topic15\", \"Topic15\", \"Topic15\", \"Topic15\", \"Topic15\", \"Topic15\", \"Topic15\", \"Topic15\", \"Topic15\", \"Topic15\", \"Topic15\", \"Topic15\", \"Topic15\", \"Topic15\", \"Topic15\", \"Topic15\", \"Topic15\", \"Topic15\", \"Topic15\", \"Topic15\", \"Topic15\", \"Topic15\", \"Topic15\", \"Topic15\", \"Topic15\", \"Topic15\", \"Topic15\", \"Topic15\", \"Topic15\", \"Topic15\", \"Topic15\", \"Topic15\", \"Topic15\", \"Topic15\", \"Topic15\", \"Topic15\", \"Topic15\", \"Topic15\", \"Topic15\", \"Topic15\", \"Topic15\", \"Topic15\", \"Topic15\", \"Topic15\", \"Topic15\", \"Topic15\", \"Topic15\", \"Topic15\", \"Topic15\", \"Topic15\", \"Topic15\", \"Topic15\", \"Topic15\"], \"logprob\": [30.0, 29.0, 28.0, 27.0, 26.0, 25.0, 24.0, 23.0, 22.0, 21.0, 20.0, 19.0, 18.0, 17.0, 16.0, 15.0, 14.0, 13.0, 12.0, 11.0, 10.0, 9.0, 8.0, 7.0, 6.0, 5.0, 4.0, 3.0, 2.0, 1.0, -7.788400173187256, -8.391400337219238, -8.18970012664795, -8.740599632263184, -8.744000434875488, -8.656299591064453, -8.411800384521484, -8.74530029296875, -9.005399703979492, -8.895700454711914, -8.70359992980957, -8.506600379943848, -8.543899536132812, -8.15310001373291, -9.072400093078613, -8.957300186157227, -7.068999767303467, -9.075900077819824, -8.759900093078613, -9.076399803161621, -9.142000198364258, -9.142200469970703, -9.141900062561035, -9.017600059509277, -9.142999649047852, -9.07859992980957, -9.21310043334961, -9.14430046081543, -9.017900466918945, -8.566900253295898, -8.423600196838379, -8.715299606323242, -8.908900260925293, -8.090499877929688, -8.684800148010254, -7.311999797821045, -7.540999889373779, -7.595300197601318, -6.956699848175049, -6.0929999351501465, -7.329599857330322, -8.151399612426758, -8.27079963684082, -6.540900230407715, -7.604599952697754, -7.433599948883057, -7.964200019836426, -6.881100177764893, -7.835999965667725, -7.764500141143799, -7.063600063323975, -6.724800109863281, -6.9654998779296875, -6.572400093078613, -5.674600124359131, -6.5854997634887695, -6.8471999168396, -6.80210018157959, -7.230100154876709, -7.253600120544434, -6.579999923706055, -5.930799961090088, -6.610499858856201, -6.375, -7.090199947357178, -6.551499843597412, -5.142899990081787, -5.802999973297119, -6.174900054931641, -6.853600025177002, -5.919300079345703, -6.399600028991699, -5.870500087738037, -5.8043999671936035, -6.013999938964844, -5.60230016708374, -5.485599994659424, -6.257900238037109, -5.2281999588012695, -5.815800189971924, -6.1682000160217285, -5.957699775695801, -5.639599800109863, -5.906300067901611, -6.029300212860107, -5.875800132751465, -5.632699966430664, -5.6230998039245605, -5.627299785614014, -5.898200035095215, -6.1996002197265625, -6.209199905395508, -6.087399959564209, -6.192800045013428, -6.009799957275391, -6.1178998947143555, -5.970099925994873, -6.058300018310547, -6.1442999839782715, -5.582200050354004, -4.687399864196777, -5.65880012512207, -7.4390997886657715, -4.518599987030029, -7.388299942016602, -8.16919994354248, -7.724400043487549, -6.420300006866455, -6.0792999267578125, -6.32420015335083, -7.456500053405762, -7.452300071716309, -8.073599815368652, -8.241900444030762, -7.639800071716309, -8.684800148010254, -8.614100456237793, -6.8302998542785645, -6.597499847412109, -7.853899955749512, -6.2459001541137695, -7.197800159454346, -5.393899917602539, -9.052900314331055, -9.057299613952637, -9.193499565124512, -8.64680004119873, -9.061699867248535, -9.199999809265137, -7.116700172424316, -5.974400043487549, -6.8404998779296875, -7.70989990234375, -6.298699855804443, -7.470799922943115, -5.661099910736084, -5.458000183105469, -4.793499946594238, -5.473800182342529, -4.907800197601318, -5.268099784851074, -6.841899871826172, -5.726600170135498, -5.310699939727783, -5.275300025939941, -6.469200134277344, -5.836599826812744, -5.841100215911865, -6.166299819946289, -5.299300193786621, -4.9944000244140625, -5.211599826812744, -5.993199825286865, -5.376100063323975, -5.356100082397461, -5.647799968719482, -5.689899921417236, -5.498700141906738, -5.617099761962891, -5.526500225067139, -5.731200218200684, -5.866099834442139, -5.819300174713135, -5.865099906921387, -7.795400142669678, -8.069499969482422, -8.003399848937988, -8.468400001525879, -8.607199668884277, -8.615799903869629, -8.94219970703125, -8.788100242614746, -9.010299682617188, -8.607799530029297, -8.601799964904785, -8.763899803161621, -8.764100074768066, -7.6666998863220215, -6.7204999923706055, -8.232399940490723, -8.93690013885498, -8.941800117492676, -8.8016996383667, -9.157899856567383, -8.701600074768066, -9.160300254821777, -8.976799964904785, -9.144000053405762, -8.991299629211426, -8.474800109863281, -9.15060043334961, -8.884400367736816, -5.922699928283691, -8.935400009155273, -7.159200191497803, -7.673099994659424, -7.448400020599365, -7.265699863433838, -6.379000186920166, -7.116199970245361, -5.310100078582764, -4.544099807739258, -7.768899917602539, -5.316800117492676, -5.432000160217285, -5.846399784088135, -4.779399871826172, -4.280600070953369, -6.55049991607666, -4.893400192260742, -6.8246002197265625, -5.214700222015381, -5.186600208282471, -5.998000144958496, -5.782800197601318, -5.615900039672852, -5.278200149536133, -5.312099933624268, -6.948699951171875, -5.104400157928467, -5.748300075531006, -4.894100189208984, -4.8383002281188965, -5.298799991607666, -5.636099815368652, -5.774600028991699, -5.28000020980835, -5.338699817657471, -6.040200233459473, -5.293099880218506, -5.079800128936768, -5.570099830627441, -5.104100227355957, -5.599800109863281, -5.300099849700928, -5.539299964904785, -5.682600021362305, -5.610300064086914, -5.627299785614014, -5.7058000564575195, -7.6828999519348145, -7.0005998611450195, -7.769599914550781, -7.560400009155273, -7.702000141143799, -7.969399929046631, -7.795000076293945, -7.9903998374938965, -7.1128997802734375, -8.367600440979004, -8.365799903869629, -6.629199981689453, -8.234000205993652, -8.369999885559082, -6.005899906158447, -8.236900329589844, -8.140600204467773, -8.249600410461426, -8.387200355529785, -8.550100326538086, -5.530700206756592, -7.039999961853027, -8.550399780273438, -8.399299621582031, -7.312600135803223, -8.557900428771973, -7.120500087738037, -8.03689956665039, -6.373300075531006, -6.16379976272583, -5.611299991607666, -7.348199844360352, -7.445000171661377, -6.247900009155273, -6.904799938201904, -7.708600044250488, -6.92519998550415, -5.617000102996826, -6.7342000007629395, -6.821700096130371, -6.051499843597412, -5.881899833679199, -7.2342000007629395, -6.844099998474121, -5.99459981918335, -6.661499977111816, -5.606599807739258, -5.289400100708008, -6.00540018081665, -5.203800201416016, -6.322199821472168, -6.090400218963623, -6.196100234985352, -5.704899787902832, -4.651299953460693, -6.193699836730957, -5.212200164794922, -6.075799942016602, -6.089399814605713, -5.804200172424316, -6.55649995803833, -5.660200119018555, -6.148200035095215, -5.826900005340576, -6.012800216674805, -5.853499889373779, -5.694499969482422, -5.685500144958496, -5.708000183105469, -5.90910005569458, -5.815499782562256, -5.792799949645996, -5.816500186920166, -5.873600006103516, -5.998700141906738, -6.003699779510498, -6.038599967956543, -6.047900199890137, -7.442500114440918, -7.793499946594238, -8.125100135803223, -7.717899799346924, -5.453700065612793, -7.724599838256836, -7.327600002288818, -7.769800186157227, -7.763700008392334, -6.665299892425537, -7.490799903869629, -6.945400238037109, -6.6975998878479, -8.297699928283691, -8.409799575805664, -7.594799995422363, -7.837800025939941, -7.322000026702881, -8.046699523925781, -6.268400192260742, -8.296299934387207, -8.432000160217285, -8.20460033416748, -6.774600028991699, -4.124599933624268, -8.308899879455566, -8.236800193786621, -6.700099945068359, -7.37939977645874, -7.788700103759766, -7.542300224304199, -6.536499977111816, -4.777200222015381, -4.714300155639648, -7.678199768066406, -5.064000129699707, -4.230800151824951, -5.0046000480651855, -5.281599998474121, -5.767399787902832, -6.153200149536133, -5.739999771118164, -5.358699798583984, -4.8902997970581055, -5.788000106811523, -5.101799964904785, -5.9334001541137695, -4.7932000160217285, -5.231599807739258, -4.843900203704834, -6.099400043487549, -5.690499782562256, -5.527599811553955, -4.993100166320801, -5.044600009918213, -5.853300094604492, -5.0569000244140625, -5.402400016784668, -5.614200115203857, -5.607800006866455, -5.645999908447266, -5.644499778747559, -5.435200214385986, -5.444900035858154, -5.5289998054504395, -5.688799858093262, -5.763400077819824, -5.712500095367432, -8.404999732971191, -7.039000034332275, -7.181700229644775, -8.443099975585938, -8.383600234985352, -8.405900001525879, -7.571400165557861, -7.578000068664551, -8.362700462341309, -7.8831000328063965, -8.1141996383667, -8.156999588012695, -8.40369987487793, -6.423799991607666, -8.420000076293945, -8.302000045776367, -8.406999588012695, -8.165499687194824, -7.98330020904541, -8.478599548339844, -8.10200023651123, -8.01710033416748, -7.808499813079834, -6.506700038909912, -5.374499797821045, -8.382599830627441, -8.506199836730957, -8.390000343322754, -8.705599784851074, -3.8694000244140625, -4.672399997711182, -7.1097002029418945, -5.043300151824951, -5.928299903869629, -4.989799976348877, -6.842800140380859, -4.759699821472168, -6.263599872589111, -5.106800079345703, -6.401899814605713, -7.035699844360352, -5.1381001472473145, -6.066999912261963, -5.407599925994873, -5.668000221252441, -7.221799850463867, -5.853099822998047, -4.96150016784668, -5.358500003814697, -4.6265997886657715, -6.029699802398682, -5.479100227355957, -5.562300205230713, -5.673799991607666, -5.286300182342529, -5.103799819946289, -4.972499847412109, -5.171199798583984, -5.587399959564209, -5.4344000816345215, -5.307400226593018, -5.446800231933594, -5.383200168609619, -5.520500183105469, -5.577400207519531, -5.624000072479248, -5.67140007019043, -5.680600166320801, -7.564199924468994, -7.567399978637695, -7.396699905395508, -8.085700035095215, -8.133199691772461, -7.8942999839782715, -8.197600364685059, -7.9593000411987305, -8.094799995422363, -7.651000022888184, -7.8755998611450195, -7.667799949645996, -8.143500328063965, -7.820099830627441, -8.190600395202637, -7.9882001876831055, -8.363699913024902, -7.791999816894531, -8.441900253295898, -7.636099815368652, -8.422800064086914, -7.6178998947143555, -8.457799911499023, -8.469499588012695, -7.662700176239014, -8.138299942016602, -7.943699836730957, -8.414999961853027, -8.593199729919434, -8.384099960327148, -7.3649001121521, -7.56220006942749, -5.203100204467773, -5.891499996185303, -6.7779998779296875, -7.2291998863220215, -7.100900173187256, -5.942500114440918, -6.813799858093262, -7.149899959564209, -5.114299774169922, -6.671999931335449, -6.450300216674805, -5.045899868011475, -6.232800006866455, -5.921199798583984, -6.190400123596191, -5.824100017547607, -5.445000171661377, -5.016200065612793, -6.072500228881836, -6.286300182342529, -5.774700164794922, -6.696100234985352, -5.4344000816345215, -5.8871002197265625, -5.524899959564209, -6.1020002365112305, -5.886000156402588, -6.122900009155273, -5.134500026702881, -5.209799766540527, -5.814499855041504, -5.715799808502197, -6.091300010681152, -5.890999794006348, -5.546299934387207, -5.877799987792969, -5.43209981918335, -5.421500205993652, -5.521500110626221, -5.834099769592285, -5.701700210571289, -5.573200225830078, -5.677299976348877, -5.90910005569458, -5.886499881744385, -5.852499961853027, -5.9145002365112305, -5.486599922180176, -5.36329984664917, -7.464399814605713, -6.6020002365112305, -4.149400234222412, -6.044400215148926, -6.006499767303467, -7.197000026702881, -5.501200199127197, -6.49399995803833, -7.868500232696533, -7.866600036621094, -7.663099765777588, -5.0218000411987305, -7.851099967956543, -7.905700206756592, -7.629700183868408, -7.900100231170654, -7.449100017547607, -7.497200012207031, -7.85129976272583, -7.706999778747559, -7.254300117492676, -7.309000015258789, -7.9542999267578125, -7.563399791717529, -7.988399982452393, -7.34060001373291, -7.990799903869629, -7.922599792480469, -4.607399940490723, -5.56220006942749, -4.94350004196167, -5.143599987030029, -5.524400234222412, -6.136300086975098, -5.747499942779541, -5.049499988555908, -5.86359977722168, -4.6483001708984375, -5.6381001472473145, -6.253499984741211, -4.558700084686279, -6.474599838256836, -6.323299884796143, -5.322800159454346, -5.913700103759766, -6.388599872589111, -6.434599876403809, -5.706299781799316, -5.347300052642822, -5.207600116729736, -5.603899955749512, -5.215199947357178, -5.556700229644775, -5.389800071716309, -5.292799949645996, -5.377500057220459, -5.480500221252441, -5.59660005569458, -5.292799949645996, -5.387499809265137, -5.513000011444092, -5.618299961090088, -5.541200160980225, -5.553299903869629, -5.555200099945068, -6.832699775695801, -7.334099769592285, -7.11929988861084, -7.456099987030029, -7.382800102233887, -6.816999912261963, -7.716599941253662, -7.313499927520752, -7.462500095367432, -7.640699863433838, -7.710000038146973, -7.332200050354004, -7.365699768066406, -7.341800212860107, -7.624199867248535, -7.385300159454346, -7.803299903869629, -7.721199989318848, -7.724299907684326, -7.398900032043457, -7.713500022888184, -6.57859992980957, -7.0584001541137695, -7.918000221252441, -7.855999946594238, -7.870999813079834, -7.785699844360352, -7.76669979095459, -7.314899921417236, -7.055300235748291, -7.333700180053711, -7.212100028991699, -6.785600185394287, -7.298999786376953, -7.56820011138916, -6.640200138092041, -6.822500228881836, -5.992099761962891, -5.685400009155273, -6.904900074005127, -6.361299991607666, -5.107100009918213, -5.4430999755859375, -5.4156999588012695, -5.125500202178955, -5.395199775695801, -5.160399913787842, -5.105000019073486, -6.523900032043457, -6.817399978637695, -5.240699768066406, -5.22130012512207, -5.508999824523926, -6.6184000968933105, -5.741499900817871, -6.042699813842773, -6.431000232696533, -6.3470001220703125, -5.900700092315674, -5.9319000244140625, -6.145199775695801, -6.240699768066406, -5.93779993057251, -5.763599872589111, -6.129000186920166, -5.792699813842773, -6.0457000732421875, -6.163099765777588, -6.125899791717529, -6.0304999351501465, -6.035399913787842, -5.916399955749512, -6.046199798583984, -6.0121002197265625, -6.045100212097168, -6.140399932861328, -5.399799823760986, -5.359099864959717, -6.921299934387207, -6.928699970245361, -7.349299907684326, -7.556000232696533, -7.653600215911865, -7.048999786376953, -7.2947001457214355, -7.181000232696533, -7.626399993896484, -7.628200054168701, -7.667600154876709, -7.659299850463867, -7.674499988555908, -7.690299987792969, -7.421299934387207, -7.629000186920166, -6.573500156402588, -7.753600120544434, -7.606900215148926, -7.603799819946289, -7.630000114440918, -7.627999782562256, -7.619699954986572, -7.872900009155273, -7.311100006103516, -7.280099868774414, -7.280799865722656, -7.23960018157959, -7.231400012969971, -5.990099906921387, -6.085899829864502, -6.049300193786621, -6.220900058746338, -5.688499927520752, -6.911300182342529, -7.138599872589111, -6.518899917602539, -5.64109992980957, -6.453400135040283, -6.639900207519531, -5.6996002197265625, -5.62060022354126, -6.077300071716309, -5.378600120544434, -6.059800148010254, -5.465799808502197, -5.399700164794922, -5.411499977111816, -6.320899963378906, -5.839399814605713, -6.683000087738037, -5.753399848937988, -5.950399875640869, -5.7581000328063965, -6.373000144958496, -5.748600006103516, -5.676000118255615, -5.979899883270264, -5.992499828338623, -5.816800117492676, -5.885300159454346, -6.0868000984191895, -6.111700057983398, -6.11929988861084, -6.1768999099731445, -5.734099864959717, -7.317699909210205, -6.5152997970581055, -6.388000011444092, -7.285999774932861, -6.8917999267578125, -6.8927998542785645, -7.2881999015808105, -7.286799907684326, -7.288599967956543, -7.286300182342529, -7.29040002822876, -7.290599822998047, -7.287899971008301, -6.611400127410889, -5.808800220489502, -7.289100170135498, -7.29040002822876, -7.285099983215332, -7.28849983215332, -7.286900043487549, -7.949900150299072, -7.287600040435791, -7.944699764251709, -7.947199821472168, -7.947800159454346, -7.284900188446045, -7.957200050354004, -7.949399948120117, -7.948999881744385, -7.293300151824951, -6.891300201416016, -6.610000133514404, -7.2870001792907715, -6.054999828338623, -6.178299903869629, -7.287399768829346, -6.191400051116943, -5.817200183868408, -5.208099842071533, -5.263999938964844, -5.348199844360352, -5.593900203704834, -5.912099838256836, -6.044400215148926, -6.01230001449585, -5.551400184631348, -5.691500186920166, -5.465099811553955, -6.321100234985352, -6.358699798583984, -5.791399955749512, -5.888400077819824, -6.569200038909912, -6.024499893188477, -5.658699989318848, -5.880799770355225, -5.659599781036377, -5.623799800872803, -6.026199817657471, -6.0269999504089355, -5.761000156402588, -6.028600215911865, -6.035200119018555, -6.181600093841553, -6.194499969482422, -6.128799915313721, -6.169000148773193, -6.173500061035156, -6.929800033569336, -7.32859992980957, -7.329599857330322, -7.332200050354004, -7.477399826049805, -6.45959997177124, -7.2083001136779785, -7.337600231170654, -7.365300178527832, -7.491399765014648, -6.57480001449585, -7.336900234222412, -7.469299793243408, -7.477200031280518, -6.957900047302246, -6.690199851989746, -7.331299781799316, -7.328100204467773, -7.025899887084961, -7.051599979400635, -7.529600143432617, -7.350900173187256, -6.936500072479248, -7.993000030517578, -7.98829984664917, -7.979800224304199, -7.986800193786621, -8.028900146484375, -7.989999771118164, -8.006600379943848, -7.01200008392334, -7.323200225830078, -7.445499897003174, -7.0914998054504395, -7.3302998542785645, -7.324999809265137, -6.673900127410889, -7.215400218963623, -5.642499923706055, -5.053899765014648, -5.680300235748291, -5.81279993057251, -4.956900119781494, -6.52239990234375, -5.905099868774414, -6.14109992980957, -5.710400104522705, -5.754799842834473, -6.110899925231934, -4.753699779510498, -4.984899997711182, -5.134699821472168, -5.002799987792969, -5.317599773406982, -5.962800025939941, -5.818600177764893, -6.112400054931641, -6.061100006103516, -5.832900047302246, -5.081099987030029, -6.457499980926514, -5.672599792480469, -6.152400016784668, -5.750699996948242, -5.7006001472473145, -5.996500015258789, -5.440199851989746, -5.788000106811523, -5.77269983291626, -5.720799922943115, -5.916200160980225, -5.743100166320801, -5.761899948120117, -5.834099769592285, -5.908199787139893, -5.8618998527526855, -5.8983001708984375, -7.215000152587891, -7.290599822998047, -7.218200206756592, -7.346399784088135, -6.742000102996826, -7.421800136566162, -7.438899993896484, -7.251200199127197, -7.217800140380859, -7.366300106048584, -6.557400226593018, -7.304200172424316, -7.219299793243408, -7.2154998779296875, -7.225100040435791, -7.906700134277344, -7.135000228881836, -7.215700149536133, -7.4654998779296875, -6.206900119781494, -7.881999969482422, -7.222799777984619, -7.873600006103516, -7.1880998611450195, -7.879300117492676, -7.875800132751465, -7.333399772644043, -6.8180999755859375, -7.874499797821045, -7.2204999923706055, -6.747600078582764, -7.13700008392334, -7.381899833679199, -5.264599800109863, -6.819799900054932, -5.811800003051758, -4.872200012207031, -4.9191999435424805, -5.861400127410889, -5.898900032043457, -5.3850998878479, -5.220900058746338, -6.865499973297119, -4.902200222015381, -5.427499771118164, -6.649400234222412, -5.432300090789795, -5.037799835205078, -5.225900173187256, -6.09089994430542, -5.625400066375732, -5.454699993133545, -5.86359977722168, -5.227799892425537, -5.914000034332275, -5.290500164031982, -5.847899913787842, -5.758399963378906, -5.632400035858154, -5.879799842834473, -6.410799980163574, -5.559000015258789, -5.773799896240234, -5.861800193786621, -5.884500026702881, -5.818299770355225, -5.867400169372559, -5.87529993057251, -5.866799831390381, -5.938399791717529, -6.269899845123291, -6.237299919128418, -6.615900039672852, -5.5381999015808105, -6.615799903869629, -6.218900203704834, -6.615300178527832, -7.27869987487793, -7.274499893188477, -7.276599884033203, -7.278299808502197, -6.613999843597412, -7.275599956512451, -7.2779998779296875, -7.292600154876709, -7.275100231170654, -7.275700092315674, -7.278900146484375, -7.280900001525879, -7.2982001304626465, -7.3379998207092285, -7.343900203704834, -7.277400016784668, -7.274600028991699, -7.276800155639648, -7.287499904632568, -7.2789998054504395, -7.272299766540527, -7.274700164794922, -6.169600009918213, -6.615799903869629, -5.344600200653076, -6.219699859619141, -6.546199798583984, -6.61460018157959, -5.37060022354126, -6.218699932098389, -5.509399890899658, -5.01230001449585, -5.513199806213379, -5.694900035858154, -6.660600185394287, -6.635700225830078, -5.707799911499023, -6.614299774169922, -6.2967000007629395, -6.2835001945495605, -6.613100051879883, -5.932300090789795, -6.5640997886657715, -5.702000141143799, -5.9903998374938965, -5.749300003051758, -5.556000232696533, -5.257800102233887, -5.776400089263916, -5.514400005340576, -5.906099796295166, -5.640999794006348, -6.017199993133545, -5.9552001953125, -5.893099784851074, -5.898399829864502, -5.883500099182129, -5.918799877166748, -5.93209981918335, -6.038400173187256, -6.039599895477295, -6.123199939727783, -6.1331000328063965, -5.861299991607666, -5.8368000984191895, -6.603099822998047, -6.520199775695801, -6.687300205230713, -7.183700084686279, -6.5192999839782715, -7.182799816131592, -7.180500030517578, -7.18209981918335, -7.184899806976318, -7.179900169372559, -7.19189977645874, -7.181700229644775, -7.188499927520752, -7.213900089263916, -7.180799961090088, -7.182199954986572, -7.1757001876831055, -7.181399822235107, -7.18209981918335, -7.183000087738037, -7.182700157165527, -7.184000015258789, -7.187900066375732, -7.184700012207031, -7.185100078582764, -7.1834001541137695, -7.180699825286865, -7.185999870300293, -5.15939998626709, -6.878600120544434, -5.618299961090088, -4.913000106811523, -6.123600006103516, -5.4394001960754395, -5.4405999183654785, -5.580399990081787, -5.596099853515625, -6.11929988861084, -5.431700229644775, -5.60699987411499, -6.283599853515625, -5.834099769592285, -6.118899822235107, -6.454899787902832, -6.115699768066406, -6.115099906921387, -6.5142998695373535, -5.832600116729736, -6.512599945068359, -5.231299877166748, -6.520400047302246, -5.595600128173828, -5.749599933624268, -5.696800231933594, -6.1092000007629395, -5.335599899291992, -5.541100025177002, -5.556099891662598, -5.749899864196777, -5.763599872589111, -5.81820011138916, -5.959700107574463, -5.978899955749512, -6.012400150299072, -6.046000003814697, -6.058899879455566, -6.065000057220459, -6.087600231170654], \"loglift\": [30.0, 29.0, 28.0, 27.0, 26.0, 25.0, 24.0, 23.0, 22.0, 21.0, 20.0, 19.0, 18.0, 17.0, 16.0, 15.0, 14.0, 13.0, 12.0, 11.0, 10.0, 9.0, 8.0, 7.0, 6.0, 5.0, 4.0, 3.0, 2.0, 1.0, 0.8375999927520752, 0.8263000249862671, 0.8238000273704529, 0.822700023651123, 0.820900022983551, 0.8199999928474426, 0.8190000057220459, 0.8176000118255615, 0.8169999718666077, 0.8151999711990356, 0.8148999810218811, 0.8148000240325928, 0.8140000104904175, 0.8133000135421753, 0.8116999864578247, 0.810699999332428, 0.8097000122070312, 0.8093000054359436, 0.8091999888420105, 0.8091999888420105, 0.8083999752998352, 0.8076000213623047, 0.8076000213623047, 0.8068000078201294, 0.8065000176429749, 0.8064000010490417, 0.805899977684021, 0.8057000041007996, 0.8052999973297119, 0.8048999905586243, 0.8016999959945679, 0.8036999702453613, 0.8029999732971191, 0.7821999788284302, 0.7947999835014343, 0.7516000270843506, 0.7560999989509583, 0.7537999749183655, 0.7178999781608582, 0.6680999994277954, 0.7328000068664551, 0.7692999839782715, 0.7745000123977661, 0.6753000020980835, 0.7373999953269958, 0.722000002861023, 0.755299985408783, 0.6796000003814697, 0.743399977684021, 0.7376999855041504, 0.6837000250816345, 0.6503000259399414, 0.6711000204086304, 0.631600022315979, 0.539900004863739, 0.628600001335144, 0.6478999853134155, 0.630299985408783, 0.6776999831199646, 0.6784999966621399, 0.6035000085830688, 0.5051000118255615, 0.5823000073432922, 0.5450000166893005, 0.6413999795913696, 0.5576000213623047, 0.32109999656677246, 0.4242999851703644, 0.48159998655319214, 0.5845000147819519, 0.3643999993801117, 0.4648999869823456, 0.3224000036716461, 0.2912999987602234, 0.3483000099658966, 0.2029999941587448, 0.13899999856948853, 0.3808000087738037, -0.020999999716877937, 0.18150000274181366, 0.3176000118255615, 0.21299999952316284, 0.04780000075697899, 0.11729999631643295, 0.15960000455379486, 0.059300001710653305, -0.15610000491142273, -0.17139999568462372, -0.23149999976158142, -0.03460000082850456, 0.24500000476837158, 0.2345999926328659, 0.03500000014901161, 0.16910000145435333, -0.15240000188350677, -9.999999747378752e-05, -0.48399999737739563, -0.22589999437332153, 0.0032999999821186066, 1.6059999465942383, 1.6052000522613525, 1.597100019454956, 1.5893000364303589, 1.5851000547409058, 1.5831999778747559, 1.5791000127792358, 1.5788999795913696, 1.5787999629974365, 1.5786999464035034, 1.573199987411499, 1.5716999769210815, 1.5714000463485718, 1.5694999694824219, 1.565000057220459, 1.562399983406067, 1.5612000226974487, 1.5455000400543213, 1.5439000129699707, 1.5433000326156616, 1.5399999618530273, 1.5305999517440796, 1.527899980545044, 1.5211999416351318, 1.5204999446868896, 1.5170999765396118, 1.5154999494552612, 1.5144000053405762, 1.5120999813079834, 1.5094000101089478, 1.50600004196167, 1.4936000108718872, 1.5003000497817993, 1.5084999799728394, 1.479699969291687, 1.5011999607086182, 1.4603999853134155, 1.4235999584197998, 1.3876999616622925, 1.4062000513076782, 1.3539999723434448, 1.3568999767303467, 1.445199966430664, 1.1974999904632568, 0.9018999934196472, 0.8756999969482422, 1.2066999673843384, 0.8795999884605408, 0.8745999932289124, 1.007699966430664, 0.5289999842643738, 0.3422999978065491, 0.26499998569488525, 0.8118000030517578, 0.10999999940395355, 0.039799999445676804, 0.2973000109195709, 0.33379998803138733, -0.04699999839067459, 0.07020000368356705, -0.31929999589920044, 0.1324000060558319, 0.2680000066757202, 0.013199999928474426, -0.007799999788403511, 2.0982000827789307, 2.0945000648498535, 2.085599899291992, 2.0669000148773193, 2.0485000610351562, 2.0450000762939453, 2.009500026702881, 2.0034000873565674, 1.9375, 1.937399983406067, 1.930899977684021, 1.9053000211715698, 1.8913999795913696, 1.8769999742507935, 1.871000051498413, 1.854599952697754, 1.8483999967575073, 1.8452999591827393, 1.8451999425888062, 1.8379000425338745, 1.8282999992370605, 1.8242000341415405, 1.823099970817566, 1.8072999715805054, 1.8021999597549438, 1.7970000505447388, 1.7888000011444092, 1.7726000547409058, 1.770400047302246, 1.7616000175476074, 1.7526999711990356, 1.7510000467300415, 1.7272000312805176, 1.6787999868392944, 1.590399980545044, 1.6495000123977661, 1.458899974822998, 1.3001999855041504, 1.6875, 1.3043999671936035, 1.319200038909912, 1.3797999620437622, 1.1670000553131104, 1.0561000108718872, 1.4577000141143799, 1.1155999898910522, 1.495300054550171, 1.131600022315979, 1.1058000326156616, 1.2961000204086304, 1.1799999475479126, 1.128600001335144, 0.995199978351593, 0.9309999942779541, 1.4723000526428223, 0.7281000018119812, 0.970300018787384, 0.5920000076293945, 0.5576000213623047, 0.6362000107765198, 0.8061000108718872, 0.8755000233650208, 0.5835999846458435, 0.6064000129699707, 1.0211999416351318, 0.5351999998092651, 0.3718000054359436, 0.7009999752044678, 0.1031000018119812, 0.623199999332428, 0.17649999260902405, -0.07530000060796738, 0.4397999942302704, 0.014299999922513962, 0.05999999865889549, 0.42829999327659607, 2.438999891281128, 2.4333999156951904, 2.4328999519348145, 2.4209001064300537, 2.418800115585327, 2.418100118637085, 2.4114999771118164, 2.396699905395508, 2.388000011444092, 2.385200023651123, 2.3845999240875244, 2.3838999271392822, 2.3814001083374023, 2.38100004196167, 2.379499912261963, 2.3778998851776123, 2.3703999519348145, 2.3654000759124756, 2.3636999130249023, 2.360599994659424, 2.359600067138672, 2.3582000732421875, 2.3578999042510986, 2.3506999015808105, 2.350100040435791, 2.350100040435791, 2.349400043487549, 2.3485000133514404, 2.348299980163574, 2.3469998836517334, 2.345900058746338, 2.3459999561309814, 2.3452000617980957, 2.3224000930786133, 2.3043999671936035, 2.3352999687194824, 2.2901999950408936, 2.1928999423980713, 2.250200033187866, 2.245800018310547, 2.1607000827789307, 2.111599922180176, 2.2639000415802, 2.1686999797821045, 1.979200005531311, 2.1201999187469482, 1.8329999446868896, 1.717900037765503, 1.7977999448776245, 1.4349000453948975, 1.8890999555587769, 1.770900011062622, 1.7770999670028687, 1.5240000486373901, 0.5559999942779541, 1.3485000133514404, 0.251800000667572, 1.0684000253677368, 1.0156999826431274, 0.5580999851226807, 1.7116999626159668, 0.20340000092983246, 1.0292999744415283, 0.4004000127315521, 0.7028999924659729, 0.3393999934196472, -0.06989999860525131, -0.19939999282360077, -0.2563999891281128, 0.374099999666214, -0.12809999287128448, -0.4560999870300293, -0.3398999869823456, -0.47780001163482666, 0.44510000944137573, 0.21850000321865082, 0.31220000982284546, 0.07450000196695328, 2.8701000213623047, 2.842400074005127, 2.8022000789642334, 2.797499895095825, 2.7955000400543213, 2.791800022125244, 2.7441999912261963, 2.640399932861328, 2.637500047683716, 2.5769999027252197, 2.5629000663757324, 2.5459001064300537, 2.544800043106079, 2.5264999866485596, 2.509999990463257, 2.411799907684326, 2.396199941635132, 2.3703999519348145, 2.3633999824523926, 2.3624000549316406, 2.3417999744415283, 2.341599941253662, 2.3245999813079834, 2.3229000568389893, 2.3176000118255615, 2.31469988822937, 2.3092000484466553, 2.2883999347686768, 2.28439998626709, 2.2832000255584717, 2.2788000106811523, 2.237499952316284, 1.9739999771118164, 1.906999945640564, 2.25819993019104, 1.898900032043457, 1.7157000303268433, 1.739799976348877, 1.7798999547958374, 1.8621000051498413, 1.7264000177383423, 1.5541000366210938, 1.2307000160217285, 0.9670000076293945, 1.438099980354309, 0.9072999954223633, 1.423699975013733, 0.6583999991416931, 0.9383000135421753, 0.6421999931335449, 1.5327999591827393, 1.1466000080108643, 0.9736999869346619, 0.34369999170303345, 0.35120001435279846, 1.207900047302246, 0.15029999613761902, 0.5426999926567078, 0.8349000215530396, 0.6353999972343445, 0.646399974822998, 0.5996999740600586, 0.02879999950528145, 0.031700000166893005, 0.09549999982118607, 0.6118999719619751, 0.06909999996423721, 2.7448999881744385, 2.5641000270843506, 2.5397000312805176, 2.536600112915039, 2.526700019836426, 2.5129001140594482, 2.512200117111206, 2.5090999603271484, 2.500499963760376, 2.487799882888794, 2.414400100708008, 2.3884999752044678, 2.3738999366760254, 2.3726999759674072, 2.3501999378204346, 2.34879994392395, 2.3475000858306885, 2.3447999954223633, 2.3399999141693115, 2.3059000968933105, 2.301800012588501, 2.2892000675201416, 2.28410005569458, 2.2660000324249268, 2.259000062942505, 2.255000114440918, 2.247999906539917, 2.2471001148223877, 2.245800018310547, 2.228100061416626, 2.0769999027252197, 2.0720999240875244, 2.143899917602539, 1.919600009918213, 1.951300024986267, 1.7791999578475952, 2.0690999031066895, 1.6825000047683716, 1.9420000314712524, 1.6444000005722046, 1.9179999828338623, 2.035599946975708, 1.483199954032898, 1.626099944114685, 1.3055000305175781, 1.393399953842163, 2.026400089263916, 1.440999984741211, 1.0475000143051147, 1.0906000137329102, 0.710099995136261, 1.2899999618530273, 0.8959000110626221, 0.8998000025749207, 0.9156000018119812, 0.5580999851226807, 0.3822999894618988, 0.23469999432563782, 0.305400013923645, 0.7049999833106995, 0.3939000070095062, 0.14419999718666077, 0.1776999980211258, 0.012600000016391277, 0.31200000643730164, 0.2799000144004822, 0.0632999986410141, 0.2736999988555908, -0.21660000085830688, 2.957200050354004, 2.953700065612793, 2.9054999351501465, 2.8480000495910645, 2.8060998916625977, 2.7474000453948975, 2.7416000366210938, 2.7044999599456787, 2.669100046157837, 2.663300037384033, 2.645699977874756, 2.6296000480651855, 2.615499973297119, 2.575500011444092, 2.571199893951416, 2.551100015640259, 2.541599988937378, 2.523200035095215, 2.5037999153137207, 2.4941999912261963, 2.490999937057495, 2.4781999588012695, 2.4760000705718994, 2.4746999740600586, 2.4707000255584717, 2.4704999923706055, 2.4484000205993652, 2.4439001083374023, 2.408600091934204, 2.407599925994873, 2.384200096130371, 2.3742001056671143, 2.234600067138672, 2.2551000118255615, 2.273099899291992, 2.298099994659424, 2.226900100708008, 1.9470000267028809, 2.1540000438690186, 2.18969988822937, 1.510699987411499, 2.0025999546051025, 1.8812999725341797, 1.1353000402450562, 1.7157000303268433, 1.5532000064849854, 1.6763999462127686, 1.4699000120162964, 1.1578999757766724, 0.8281000256538391, 1.5018999576568604, 1.6211999654769897, 1.2698999643325806, 1.8710999488830566, 0.8799999952316284, 1.2019000053405762, 0.909500002861023, 1.3487000465393066, 1.1448999643325806, 1.2342000007629395, 0.2612999975681305, 0.27630001306533813, 0.9017000198364258, 0.6593000292778015, 1.1348999738693237, 0.8259000182151794, 0.3109999895095825, 0.7590000033378601, 0.019600000232458115, -0.08479999750852585, -0.04490000009536743, 0.6150000095367432, 0.1265999972820282, -0.3659999966621399, -0.052799999713897705, 0.6237999796867371, 0.3752000033855438, -0.16519999504089355, 0.23309999704360962, 4.06279993057251, 3.6946001052856445, 3.5272998809814453, 3.498699903488159, 3.424999952316284, 3.394399881362915, 3.308199882507324, 3.2881999015808105, 3.206399917602539, 3.1749000549316406, 3.1185998916625977, 3.113600015640259, 3.1082000732421875, 3.0943000316619873, 3.0875000953674316, 3.0213000774383545, 3.0028998851776123, 2.9647998809814453, 2.941699981689453, 2.9337000846862793, 2.932499885559082, 2.9275999069213867, 2.9275999069213867, 2.92549991607666, 2.903899908065796, 2.900599956512451, 2.885499954223633, 2.8835999965667725, 2.8803999423980713, 2.8510000705718994, 2.830199956893921, 2.828900098800659, 2.701900005340576, 2.6468000411987305, 2.6222000122070312, 2.6143999099731445, 2.4268999099731445, 2.072000026702881, 2.3431999683380127, 1.8007999658584595, 2.1373000144958496, 2.398200035095215, 1.5923000574111938, 2.466099977493286, 2.3661000728607178, 1.8366999626159668, 2.077699899673462, 2.339900016784668, 2.361999988555908, 1.819100022315979, 1.5341999530792236, 1.035599946975708, 1.444599986076355, 0.9660000205039978, 1.3485000133514404, 0.8719000220298767, 0.5354999899864197, 0.6460999846458435, 0.8119000196456909, 1.1196000576019287, 0.1031000018119812, 0.09860000014305115, 0.43209999799728394, 0.9846000075340271, -0.08959999680519104, -0.07670000195503235, -0.3479999899864197, 4.376699924468994, 3.7381999492645264, 3.64520001411438, 3.5855000019073486, 3.52239990234375, 3.496500015258789, 3.4093000888824463, 3.406399965286255, 3.3940000534057617, 3.3850998878479004, 3.2952001094818115, 3.2597999572753906, 3.2537999153137207, 3.2423999309539795, 3.222100019454956, 3.212399959564209, 3.206899881362915, 3.1751999855041504, 3.166599988937378, 3.1658999919891357, 3.162400007247925, 3.1547999382019043, 3.141200065612793, 3.1340999603271484, 3.1273000240325928, 3.115999937057495, 3.0913000106811523, 3.08870005607605, 3.088599920272827, 3.0871999263763428, 3.0306999683380127, 2.9935998916625977, 2.8225998878479004, 2.9639999866485596, 3.0281999111175537, 2.649399995803833, 2.5766000747680664, 1.9905999898910522, 1.7590999603271484, 2.5920000076293945, 2.1679000854492188, 1.1663000583648682, 1.2699999809265137, 1.070099949836731, 0.7189000248908997, 0.9192000031471252, 0.4641000032424927, 0.35899999737739563, 2.0569000244140625, 2.4558000564575195, 0.210999995470047, -0.014100000262260437, 0.3483000099658966, 2.0613999366760254, 0.541700005531311, 0.9922000169754028, 1.6958999633789062, 1.4630000591278076, 0.54830002784729, 0.41440001130104065, 0.8428999781608582, 1.0791000127792358, 0.21320000290870667, -0.28700000047683716, 0.7081000208854675, -0.30660000443458557, 0.38609999418258667, 0.7960000038146973, 0.5806999802589417, 0.1624000072479248, 0.13459999859333038, -0.5206000208854675, 0.12449999898672104, -0.17970000207424164, -0.021400000900030136, -0.14309999346733093, 4.314199924468994, 4.002699851989746, 3.558799982070923, 3.55679988861084, 3.4937000274658203, 3.477099895477295, 3.4723000526428223, 3.4138998985290527, 3.400599956512451, 3.396699905395508, 3.3673999309539795, 3.3515000343322754, 3.3326001167297363, 3.3264000415802, 3.303999900817871, 3.2920000553131104, 3.2646000385284424, 3.2464001178741455, 3.2227001190185547, 3.2177999019622803, 3.210200071334839, 3.208400011062622, 3.1956000328063965, 3.1933999061584473, 3.188499927520752, 3.178100109100342, 3.1760001182556152, 3.1658999919891357, 3.161099910736084, 3.139899969100952, 3.1256000995635986, 2.690500020980835, 2.588200092315674, 2.5388998985290527, 2.552299976348877, 1.5403000116348267, 2.612799882888794, 2.810800075531006, 2.191200017929077, 1.294100046157837, 2.063699960708618, 2.2116000652313232, 0.9391999840736389, 0.8152999877929688, 1.3128000497817993, 0.2459000051021576, 1.2496999502182007, 0.2214999943971634, 0.06430000066757202, -0.0746999979019165, 1.4430999755859375, 0.4438000023365021, 2.024399995803833, 0.1039000004529953, 0.4814999997615814, 0.047200001776218414, 1.3014999628067017, -0.26249998807907104, -0.46880000829696655, 0.24740000069141388, 0.17829999327659607, -0.42089998722076416, -0.40869998931884766, 0.19689999520778656, 0.1103999987244606, 0.07360000163316727, 0.24169999361038208, 3.8522000312805176, 3.7083001136779785, 3.5959999561309814, 3.5481998920440674, 3.5016000270843506, 3.474100112915039, 3.4370999336242676, 3.4022998809814453, 3.4019999504089355, 3.398099899291992, 3.3740999698638916, 3.3612000942230225, 3.358599901199341, 3.356300115585327, 3.325700044631958, 3.286900043487549, 3.2471001148223877, 3.1414999961853027, 3.1393001079559326, 3.1324000358581543, 3.1212000846862793, 3.11299991607666, 3.098400115966797, 3.088399887084961, 3.081399917602539, 3.0601999759674072, 3.045300006866455, 3.0429999828338623, 3.0423998832702637, 3.0336999893188477, 3.009700059890747, 2.972399950027466, 2.8664000034332275, 2.9512999057769775, 2.7197999954223633, 2.705199956893921, 2.9381000995635986, 2.378999948501587, 1.8573999404907227, 1.0191999673843384, 0.9290000200271606, 0.8740000128746033, 1.0753999948501587, 1.3166999816894531, 1.3307000398635864, 1.1777000427246094, 0.4458000063896179, 0.5819000005722046, -0.0010999999940395355, 1.5576000213623047, 1.5480999946594238, 0.3310000002384186, 0.5199999809265137, 1.9306999444961548, 0.7376000285148621, -0.18209999799728394, 0.289900004863739, -0.263700008392334, -0.4165000021457672, 0.6202999949455261, 0.6090999841690063, -0.3093999922275543, 0.4072999954223633, 0.179299995303154, 0.8073999881744385, 0.6035000085830688, -0.5042999982833862, 0.19460000097751617, 0.0706000030040741, 3.765199899673462, 3.6707000732421875, 3.651099920272827, 3.6373000144958496, 3.5185000896453857, 3.5136001110076904, 3.371299982070923, 3.338599920272827, 3.316200017929077, 3.315000057220459, 3.300600051879883, 3.2276999950408936, 3.211899995803833, 3.1921000480651855, 3.184799909591675, 3.165299892425537, 3.157399892807007, 3.1572000980377197, 3.1559998989105225, 3.1117000579833984, 3.1089999675750732, 3.085599899291992, 3.0831000804901123, 3.0404000282287598, 2.9918999671936035, 2.9892001152038574, 2.9881999492645264, 2.986999988555908, 2.9795000553131104, 2.974600076675415, 2.9423999786376953, 2.9502999782562256, 2.955199956893921, 2.8849000930786133, 2.9142000675201416, 2.908799886703491, 2.8127999305725098, 2.8879001140594482, 2.564300060272217, 2.414099931716919, 2.4465999603271484, 2.3317999839782715, 1.9247000217437744, 2.587599992752075, 2.2414000034332275, 2.346299886703491, 2.0660998821258545, 2.035599946975708, 2.220599889755249, 1.103600025177002, 1.1850999593734741, 1.3143999576568604, 1.1784000396728516, 1.3072999715805054, 1.8658000230789185, 1.691100001335144, 2.003700017929077, 1.930299997329712, 1.617799997329712, 0.3955000042915344, 2.387399911880493, 1.152899980545044, 1.871500015258789, 0.9990000128746033, 0.8888000249862671, 1.441100001335144, 0.18440000712871552, 0.9282000064849854, 0.8302000164985657, 0.4918999969959259, 0.9416999816894531, 0.08940000087022781, -0.3102000057697296, 0.18950000405311584, 0.4668999910354614, -0.03359999880194664, -0.05389999970793724, 3.782900094985962, 3.693000078201294, 3.652600049972534, 3.628999948501587, 3.611299991607666, 3.559999942779541, 3.5432000160217285, 3.483099937438965, 3.4718000888824463, 3.4553000926971436, 3.400899887084961, 3.3526999950408936, 3.3477001190185547, 3.344099998474121, 3.335400104522705, 3.3269999027252197, 3.274899959564209, 3.2049999237060547, 3.188699960708618, 3.1842000484466553, 3.172300100326538, 3.1631999015808105, 3.1565001010894775, 3.1445999145507812, 3.1440999507904053, 3.132200002670288, 3.1124000549316406, 3.1059999465942383, 3.0987000465393066, 3.097399950027466, 3.0952000617980957, 3.055000066757202, 3.0792999267578125, 2.709199905395508, 2.981800079345703, 2.7792999744415283, 2.3052000999450684, 2.3096001148223877, 2.5961999893188477, 2.312299966812134, 1.8638999462127686, 1.4947999715805054, 2.8136000633239746, 0.4936999976634979, 1.0383000373840332, 2.509999990463257, 0.789900004863739, 0.16940000653266907, 0.3986999988555908, 1.6646000146865845, 0.8603000044822693, 0.5425000190734863, 1.205299973487854, 0.10899999737739563, 1.250499963760376, 0.16110000014305115, 1.073099970817566, 0.795199990272522, 0.5184999704360962, 0.9714000225067139, 2.04229998588562, -0.07289999723434448, 0.43880000710487366, 0.48910000920295715, 0.47909998893737793, 0.1906999945640564, 0.25040000677108765, 0.2946000099182129, -0.4027999937534332, 4.7342000007629395, 4.53439998626709, 4.453199863433838, 4.309000015258789, 4.260200023651123, 4.126200199127197, 3.9911999702453613, 3.9628000259399414, 3.762700080871582, 3.759000062942505, 3.7467000484466553, 3.7218000888824463, 3.69950008392334, 3.691200017929077, 3.6898999214172363, 3.6846001148223877, 3.6810998916625977, 3.6798999309539795, 3.674999952316284, 3.672600030899048, 3.672499895095825, 3.6194000244140625, 3.613100051879883, 3.5875000953674316, 3.584399938583374, 3.55649995803833, 3.5515999794006348, 3.535399913787842, 3.5281999111175537, 3.5244998931884766, 3.5164999961853027, 3.5002999305725098, 3.2435998916625977, 3.3589000701904297, 3.4130001068115234, 3.403899908065796, 3.003999948501587, 3.2244999408721924, 2.8766000270843506, 2.6623001098632812, 2.2423999309539795, 2.367500066757202, 3.0945000648498535, 3.031100034713745, 2.0394999980926514, 2.9433999061584473, 2.556299924850464, 2.439500093460083, 2.871000051498413, 1.9278000593185425, 2.7976999282836914, 1.5954999923706055, 1.9809999465942383, 1.4407999515533447, 0.819100022315979, 0.07900000363588333, 1.1419999599456787, 0.4205999970436096, 0.9144999980926514, -0.43369999527931213, 1.11080002784729, 0.7609999775886536, 0.2775999903678894, 0.2944999933242798, -0.050999999046325684, -0.09049999713897705, -0.4803999960422516, 0.6895999908447266, 0.36890000104904175, 0.02449999935925007, -0.6470000147819519, 4.848599910736084, 4.607999801635742, 4.4293999671936035, 4.2027997970581055, 4.167099952697754, 3.867300033569336, 3.8282999992370605, 3.8241000175476074, 3.8029000759124756, 3.7960000038146973, 3.7869999408721924, 3.7843000888824463, 3.7832000255584717, 3.781100034713745, 3.7720999717712402, 3.756700038909912, 3.6531999111175537, 3.6440000534057617, 3.6305999755859375, 3.613800048828125, 3.6131999492645264, 3.6089000701904297, 3.6082000732421875, 3.6078999042510986, 3.6078999042510986, 3.6064999103546143, 3.6061999797821045, 3.501800060272217, 3.484299898147583, 3.4772000312805176, 3.454900026321411, 3.4618000984191895, 3.3343000411987305, 2.8773999214172363, 3.2079999446868896, 2.9096999168395996, 2.7560999393463135, 2.5357000827789307, 2.4674999713897705, 2.7706000804901123, 2.0127999782562256, 1.750100016593933, 2.564199924468994, 1.8144999742507935, 2.1698999404907227, 2.66129994392395, 2.086400032043457, 2.0678000450134277, 2.700000047683716, 1.5425000190734863, 2.634399890899658, 0.23270000517368317, 2.621000051498413, 0.8664000034332275, 1.132099986076355, 0.9725000262260437, 1.7913999557495117, 0.06030000001192093, 0.2913999855518341, 0.06840000301599503, 0.5212000012397766, 0.4586000144481659, 0.5453000068664551, 1.0443999767303467, 0.7822999954223633, -0.1680999994277954, 0.1770000010728836, -0.2305999994277954, -0.04129999876022339, 0.8191999793052673]}, \"token.table\": {\"Topic\": [1, 15, 3, 5, 6, 1, 4, 9, 1, 3, 9, 10, 1, 3, 8, 10, 1, 15, 1, 2, 3, 4, 5, 6, 7, 8, 9, 10, 11, 12, 13, 14, 2, 5, 6, 7, 1, 3, 9, 10, 1, 2, 3, 4, 5, 6, 7, 8, 9, 1, 3, 4, 9, 11, 14, 1, 2, 3, 4, 5, 6, 7, 8, 9, 10, 11, 12, 15, 1, 9, 2, 3, 8, 12, 1, 9, 1, 5, 15, 1, 2, 3, 9, 10, 3, 8, 4, 1, 4, 7, 1, 2, 3, 4, 5, 6, 7, 8, 9, 10, 12, 1, 2, 6, 7, 1, 5, 10, 2, 4, 5, 9, 13, 1, 2, 3, 4, 5, 6, 7, 8, 9, 10, 11, 12, 14, 3, 8, 9, 3, 7, 12, 1, 2, 3, 4, 11, 1, 3, 4, 10, 5, 1, 11, 1, 2, 10, 15, 1, 2, 3, 4, 5, 6, 7, 8, 9, 10, 11, 12, 14, 15, 1, 15, 5, 7, 4, 1, 4, 12, 1, 2, 3, 5, 6, 7, 8, 9, 12, 1, 2, 3, 4, 5, 6, 7, 9, 12, 13, 4, 2, 7, 12, 13, 1, 2, 3, 5, 6, 7, 8, 9, 10, 12, 15, 1, 2, 3, 4, 5, 6, 7, 8, 9, 12, 1, 3, 11, 13, 4, 1, 2, 3, 4, 5, 6, 7, 8, 9, 10, 11, 12, 13, 14, 1, 15, 3, 9, 2, 3, 5, 8, 3, 5, 6, 7, 13, 2, 3, 5, 6, 3, 5, 6, 1, 2, 3, 4, 10, 11, 2, 1, 4, 10, 1, 15, 1, 3, 13, 14, 1, 6, 1, 2, 3, 4, 5, 6, 7, 8, 9, 12, 13, 1, 1, 2, 3, 4, 5, 6, 7, 8, 9, 10, 12, 13, 14, 15, 1, 2, 3, 4, 5, 6, 8, 9, 10, 11, 14, 1, 2, 3, 6, 2, 3, 7, 8, 9, 12, 2, 1, 3, 4, 9, 1, 2, 3, 4, 5, 6, 7, 8, 9, 10, 11, 12, 13, 14, 15, 5, 7, 1, 3, 4, 10, 1, 4, 11, 1, 10, 2, 3, 7, 9, 12, 1, 2, 3, 4, 6, 10, 11, 1, 6, 7, 9, 5, 7, 1, 3, 4, 5, 7, 8, 9, 11, 1, 4, 10, 1, 2, 3, 4, 5, 6, 7, 9, 10, 11, 13, 15, 1, 4, 10, 1, 4, 1, 4, 2, 7, 12, 1, 2, 3, 4, 5, 6, 7, 9, 11, 13, 3, 4, 11, 13, 2, 3, 5, 10, 12, 1, 3, 4, 6, 10, 14, 1, 3, 4, 10, 13, 1, 1, 3, 4, 9, 10, 11, 14, 1, 4, 7, 15, 3, 7, 8, 2, 5, 7, 1, 2, 3, 4, 5, 6, 7, 8, 9, 10, 11, 12, 14, 15, 1, 10, 1, 4, 1, 3, 14, 1, 4, 10, 1, 10, 1, 11, 1, 3, 4, 11, 1, 3, 10, 14, 3, 4, 3, 6, 1, 4, 6, 14, 1, 2, 3, 4, 10, 11, 13, 14, 1, 2, 3, 4, 5, 6, 7, 8, 9, 10, 11, 12, 13, 14, 15, 3, 6, 3, 5, 6, 1, 3, 4, 9, 11, 2, 3, 7, 12, 13, 2, 3, 7, 13, 14, 1, 4, 10, 11, 1, 4, 11, 1, 2, 3, 4, 5, 6, 7, 8, 9, 10, 11, 12, 13, 15, 1, 2, 3, 4, 5, 6, 7, 8, 9, 10, 12, 13, 1, 2, 3, 4, 5, 6, 7, 8, 9, 10, 11, 12, 13, 14, 15, 3, 5, 6, 1, 2, 3, 7, 12, 2, 3, 6, 3, 8, 11, 12, 1, 2, 5, 13, 1, 2, 3, 4, 5, 6, 7, 8, 9, 10, 11, 14, 1, 2, 3, 4, 5, 6, 7, 8, 9, 10, 11, 12, 13, 1, 4, 1, 2, 3, 4, 5, 7, 10, 11, 12, 13, 14, 3, 5, 6, 7, 3, 5, 7, 2, 3, 5, 6, 12, 1, 10, 12, 2, 5, 1, 2, 3, 4, 5, 6, 10, 12, 15, 1, 2, 3, 4, 6, 7, 9, 10, 11, 13, 14, 15, 1, 7, 10, 11, 1, 2, 3, 7, 8, 12, 15, 1, 2, 3, 4, 10, 3, 5, 6, 2, 3, 7, 12, 13, 1, 2, 3, 4, 5, 6, 7, 8, 10, 12, 1, 11, 13, 1, 2, 3, 4, 5, 6, 7, 8, 9, 10, 11, 12, 13, 14, 15, 1, 4, 1, 6, 1, 6, 1, 2, 3, 4, 5, 6, 7, 8, 9, 10, 12, 13, 14, 3, 5, 6, 7, 1, 4, 9, 10, 12, 1, 4, 5, 15, 1, 10, 1, 4, 13, 1, 4, 6, 1, 7, 8, 12, 1, 2, 3, 4, 7, 8, 9, 12, 13, 15, 3, 1, 13, 1, 15, 3, 7, 5, 7, 8, 1, 2, 3, 4, 5, 6, 7, 8, 9, 10, 12, 13, 14, 1, 4, 10, 11, 14, 1, 2, 3, 4, 6, 11, 1, 2, 4, 12, 1, 4, 14, 1, 2, 3, 4, 7, 4, 2, 3, 4, 7, 8, 9, 12, 1, 2, 3, 4, 5, 6, 7, 9, 10, 11, 14, 2, 3, 5, 8, 9, 10, 2, 8, 1, 2, 3, 4, 5, 6, 7, 8, 9, 10, 12, 13, 1, 2, 3, 5, 6, 8, 9, 12, 1, 2, 3, 4, 5, 6, 7, 8, 9, 10, 11, 12, 13, 14, 15, 1, 2, 3, 4, 5, 6, 7, 8, 9, 10, 11, 12, 13, 15, 1, 2, 3, 4, 5, 6, 7, 8, 9, 10, 11, 12, 13, 1, 2, 4, 8, 9, 1, 4, 6, 1, 2, 3, 4, 5, 6, 7, 9, 10, 11, 12, 2, 3, 7, 12, 1, 13, 2, 7, 8, 12, 1, 7, 12, 1, 4, 14, 1, 10, 1, 5, 8, 12, 1, 3, 1, 6, 7, 9, 14, 1, 11, 15, 1, 2, 3, 4, 5, 6, 7, 8, 9, 10, 4, 1, 2, 3, 9, 10, 14, 2, 7, 9, 1, 3, 6, 10, 14, 5, 11, 12, 1, 13, 4, 13, 1, 2, 8, 1, 2, 8, 12, 1, 2, 3, 8, 3, 6, 1, 2, 3, 4, 10, 11, 1, 10, 1, 2, 3, 4, 6, 7, 8, 9, 10, 11, 13, 14, 15, 1, 2, 3, 4, 5, 6, 7, 8, 9, 10, 12, 13, 15, 1, 2, 3, 4, 10, 11, 13, 1, 6, 1, 4, 9, 13, 1, 15, 1, 2, 3, 5, 7, 8, 10, 12, 14, 1, 5, 1, 9, 11, 1, 2, 3, 5, 7, 8, 9, 10, 12, 1, 2, 3, 4, 5, 6, 7, 8, 9, 12, 1, 4, 9, 11, 2, 4, 7, 3, 5, 6, 7, 3, 5, 6, 7, 1, 4, 10, 11, 1, 2, 3, 5, 6, 7, 13, 3, 9, 13, 2, 3, 4, 5, 6, 7, 8, 12, 1, 4, 5, 6, 9, 10, 11, 13, 1, 4, 9, 3, 5, 6, 7, 1, 2, 3, 4, 9, 10, 12, 15, 1, 4, 11, 1, 3, 4, 5, 9, 1, 2, 3, 5, 7, 8, 9, 12, 14, 1, 2, 12, 1, 4, 11, 1, 4, 9, 10, 11, 4, 1, 1, 2, 3, 4, 5, 6, 7, 8, 9, 10, 11, 13, 14, 15, 1, 7, 9, 1, 9, 10, 11, 1, 2, 5, 8, 10, 1, 2, 3, 6, 8, 9, 11, 14, 15, 1, 7, 8, 9, 10, 1, 9, 15, 1, 2, 5, 7, 10, 12, 1, 2, 5, 8, 1, 2, 3, 4, 5, 6, 7, 10, 11, 12, 13, 15, 4, 9, 1, 2, 3, 4, 5, 6, 7, 8, 9, 10, 11, 13, 14, 1, 2, 3, 4, 5, 6, 7, 8, 9, 10, 11, 14, 15, 1, 3, 4, 5, 6, 7, 9, 11, 1, 3, 5, 12, 1, 2, 4, 5, 7, 8, 9, 10, 11, 13, 1, 2, 3, 4, 5, 6, 7, 8, 9, 10, 12, 13, 14, 15, 3, 14, 1, 4, 13, 1, 4, 10, 12, 13, 14, 15, 1, 5, 1, 2, 3, 4, 5, 6, 7, 8, 9, 10, 11, 12, 13, 2, 5, 8, 10, 1, 14, 6, 7, 1, 2, 3, 4, 5, 6, 7, 8, 9, 10, 11, 12, 13, 15, 1, 2, 3, 4, 5, 6, 7, 8, 9, 10, 11, 12, 13, 14, 15, 2, 3, 7, 8, 12, 1, 14, 1, 4, 11, 1, 5, 8, 13, 1, 2, 4, 10, 2, 7, 3, 4, 6, 9, 1, 2, 3, 4, 5, 6, 7, 9, 12, 1, 3, 4, 15, 3, 1, 4, 10, 11, 14, 2, 7, 1, 2, 12, 2, 3, 7, 8, 12, 1, 2, 3, 5, 6, 7, 8, 9, 10, 12, 13, 15, 6, 7, 8, 1, 4, 10, 14, 1, 4, 11, 1, 1, 2, 3, 4, 5, 6, 7, 8, 1, 2, 3, 4, 5, 6, 7, 9, 10, 11, 15, 1, 2, 4, 5, 9, 11, 3, 1, 2, 3, 4, 5, 6, 7, 8, 9, 10, 12, 13, 14, 15, 1, 2, 3, 4, 5, 6, 7, 8, 9, 10, 11, 13, 15, 1, 4, 14, 1, 2, 3, 4, 5, 6, 7, 8, 9, 10, 11, 13, 14, 15, 4, 2, 7, 8, 12, 1, 4, 9, 14, 5, 7, 4, 10, 11, 1, 5, 13, 1, 4, 13, 1, 2, 3, 4, 5, 6, 7, 8, 9, 10, 11, 12, 13, 14, 1, 2, 3, 4, 5, 6, 7, 8, 9, 10, 11, 12, 13, 15, 1, 1, 3, 4, 10, 1, 2, 3, 4, 5, 7, 9, 10, 11, 12, 13, 3, 5, 6, 13, 1, 11, 1, 2, 3, 4, 5, 6, 7, 8, 9, 10, 12, 15, 1, 2, 3, 4, 5, 6, 7, 8, 9, 10, 11, 12, 13, 14, 3, 8, 12, 1, 2, 4, 5, 10, 12, 13, 1, 3, 4, 6, 10, 11, 13, 3, 1, 3, 5, 6, 9, 1, 2, 3, 4, 5, 6, 7, 8, 9, 10, 12, 13, 15, 4, 1, 2, 3, 4, 5, 6, 9, 11, 2, 9, 1, 4, 6, 11, 5, 7, 1, 2, 3, 5, 6, 10, 1, 2, 3, 4, 5, 6, 7, 8, 9, 10, 11, 12, 14, 1, 2, 3, 4, 5, 6, 7, 9, 10, 15, 1, 2, 3, 4, 5, 6, 7, 8, 9, 10, 11, 12, 14, 15, 1, 3, 11, 1, 2, 3, 4, 5, 6, 7, 8, 9, 10, 11, 12, 13, 15, 1, 4, 14, 2, 1, 5, 11, 12, 13, 3, 1, 2, 3, 5, 6, 7, 3, 5, 6, 7, 13, 1, 2, 3, 4, 5, 6, 7, 8, 9, 10, 11, 12, 13, 14, 15, 3, 5, 6, 1, 4, 11, 15, 1, 2, 3, 4, 5, 6, 7, 8, 9, 10, 11, 12, 15, 1, 2, 3, 4, 5, 6, 7, 8, 9, 10, 11, 13, 14, 15, 1, 2, 3, 4, 5, 6, 7, 8, 9, 10, 11, 12, 13, 14, 15, 1, 2, 3, 4, 5, 6, 7, 8, 9, 10, 11, 12, 13, 14, 15, 1, 2, 3, 10, 14, 1, 1, 6, 9, 1, 1, 3, 4, 5, 6, 8, 3, 5, 6, 7, 13, 1, 2, 3, 4, 5, 6, 7, 8, 9, 10, 11, 13, 14, 15, 1, 2, 3, 4, 5, 6, 7, 8, 9, 10, 11, 12, 13, 14, 15, 1, 2, 14, 1, 2, 3, 4, 5, 6, 7, 8, 9, 10, 11, 12, 13, 15, 2, 6, 8, 1, 2, 3, 7, 9, 12, 1, 10, 11, 14, 2, 12, 2, 4, 1, 2, 3, 4, 5, 7, 8, 11, 1, 3, 4, 13, 2, 3, 15, 4, 1, 2, 3, 5, 7, 8, 1, 7, 10, 1, 3, 5, 12, 1, 4, 11, 1, 2, 3, 5, 6, 7, 8, 12, 13, 2, 7, 1, 1, 2, 6, 11, 1, 7, 1, 3, 1, 7, 1, 11, 3, 7, 1, 2, 4, 5, 10, 1, 3, 5, 2, 7, 9, 1, 2, 6, 7, 1, 3, 9, 12, 1, 2, 3, 7, 15, 1, 7, 11, 1, 4, 7, 15, 2, 5, 8, 2, 1, 2, 3, 5, 6, 7, 8, 1, 2, 3, 4, 10, 12, 14, 1, 9, 3, 5, 6, 7, 1, 4, 13, 1, 2, 3, 4, 5, 6, 7, 8, 9, 11, 12, 14, 15, 1, 4, 2, 13, 2, 3, 5, 10, 1, 2, 3, 4, 5, 6, 7, 8, 9, 10, 11, 13, 15, 1, 3, 5, 1, 2, 3, 4, 5, 7, 8, 15, 1, 2, 3, 4, 5, 6, 7, 8, 9, 10, 11, 12, 15, 1, 2, 3, 4, 5, 6, 7, 8, 9, 10, 11, 13, 15, 1, 2, 3, 4, 5, 6, 7, 8, 9, 10, 11, 12, 13, 14, 2, 3, 7, 8, 9, 12, 1, 1, 2, 3, 4, 5, 6, 7, 8, 9, 10, 11, 12, 13, 15, 3, 5, 6, 7, 13, 5, 1, 4, 10, 1, 2, 3, 4, 5, 6, 7, 8, 9, 10, 11, 12, 13, 14, 15, 1, 2, 3, 4, 5, 6, 7, 8, 9, 10, 11, 12, 13, 15, 1, 2, 3, 4, 6, 11, 1, 3, 4, 6, 9, 15, 1, 2, 3, 4, 5, 6, 7, 11, 12, 13, 14, 1, 2, 3, 4, 5, 6, 7, 8, 9, 10, 11, 12, 13, 2, 3, 4, 12, 13, 2, 7, 2, 6, 8, 3, 6, 1, 2, 3, 4, 5, 6, 7, 8, 9, 10, 12, 13, 15, 1, 2, 3, 6, 15, 1, 2, 3, 4, 5, 6, 7, 8, 9, 11, 12, 13, 15, 1, 2, 3, 4, 5, 6, 7, 8, 9, 10, 11, 12, 13, 15, 1, 5, 8, 12, 1, 4, 1, 2, 3, 4, 5, 6, 7, 8, 9, 12, 13, 1, 7, 10, 14, 1, 2, 3, 4, 5, 6, 7, 8, 9, 10, 11, 12, 13, 15, 1, 2, 3, 4, 6, 7, 9, 10, 11, 12, 13, 15, 1, 2, 3, 4, 5, 6, 7, 8, 9, 10, 11, 12, 13, 14, 15, 1, 2, 3, 4, 5, 6, 7, 9, 10, 11, 12, 13, 14, 2, 3, 4, 5, 10, 12, 1, 2, 3, 7, 13, 1, 2, 3, 4, 5, 6, 7, 8, 9, 10, 11, 12, 13, 14, 15, 1, 2, 3, 4, 5, 6, 7, 8, 9, 10, 11, 12, 13, 14, 15, 1, 2, 3, 4, 5, 6, 7, 8, 11, 12, 2, 3, 4, 7, 8, 9, 12, 1, 2, 3, 4, 8, 9, 14, 4, 9, 14, 1, 3, 4, 1, 2, 3, 4, 5, 6, 7, 8, 9, 10, 11, 12, 13, 14, 2, 3, 7, 8, 12, 3, 8, 1, 2, 3, 4, 5, 6, 7, 8, 9, 10, 11, 12, 13, 14, 1, 2, 3, 4, 5, 6, 7, 8, 9, 10, 11, 12, 13, 14, 15, 1, 2, 3, 4, 5, 6, 7, 8, 9, 10, 11, 13, 14, 15, 1, 2, 3, 4, 5, 6, 7, 8, 9, 10, 11, 12, 13, 15, 4, 9, 1, 4, 10, 11, 2, 7, 8, 2, 12, 1, 2, 3, 4, 6, 7, 8, 10, 12, 13, 2, 3, 7, 8, 9, 12, 1, 2, 4, 6, 9, 10, 11, 13, 1, 4, 10, 11, 2, 5, 4, 1, 2, 3, 4, 6, 9, 13, 1, 2, 3, 4, 5, 6, 7, 8, 9, 10, 11, 12, 13, 14, 15, 3, 5, 6, 1, 2, 1, 2, 3, 5, 7, 8, 9, 10, 1, 4, 9, 1, 2, 3, 5, 6, 7, 8, 9, 10, 11, 12, 15, 1, 2, 3, 4, 5, 6, 7, 8, 9, 11, 12, 13, 1, 2, 3, 4, 5, 6, 7, 8, 9, 10, 11, 15, 3, 5, 6, 3, 5, 6, 1, 2, 3, 4, 7, 8, 10, 11, 12, 15, 1, 3, 4, 11, 15, 1, 6, 10, 1, 5, 6, 13, 1, 4, 1, 2, 3, 6, 14, 1, 9, 1, 2, 3, 4, 5, 6, 7, 9, 10, 15, 1, 2, 4, 5, 6, 7, 9, 10, 13, 2, 3, 5, 8, 2, 1, 2, 3, 11, 2, 7, 8, 1, 2, 3, 4, 5, 6, 7, 8, 9, 10, 11, 12, 13, 14, 15, 2, 4, 6, 10, 2, 3, 7, 1, 2, 3, 4, 5, 6, 7, 8, 9, 10, 13, 14, 15, 1, 15, 2, 7, 15, 1, 7, 1, 2, 3, 4, 5, 7, 8, 9, 10, 11, 12, 13, 15, 1, 15, 1, 4, 9, 10, 11, 1, 3, 4, 10, 1, 4, 15, 1, 15, 1, 2, 3, 4, 5, 6, 7, 8, 9, 10, 11, 12, 13, 15, 1, 2, 3, 4, 5, 6, 7, 8, 9, 10, 11, 12, 13, 1, 2, 3, 5, 6, 7, 8, 10, 12, 2, 3, 4, 9, 1, 4, 15, 1, 9, 3, 3, 5, 1, 2, 3, 4, 5, 6, 7, 8, 9, 10, 11, 12, 13, 14, 1, 1, 4, 11, 1, 2, 3, 4, 5, 6, 7, 8, 9, 10, 11, 13, 14, 15, 1, 11, 14, 1, 3, 5, 12, 1, 4, 11, 2, 3, 7, 9, 12, 1, 2, 3, 5, 6, 7, 8, 9, 12, 15, 1, 2, 3, 6, 7, 8, 2, 3, 6, 12, 15, 1, 2, 3, 4, 5, 6, 7, 8, 9, 10, 11, 12, 13, 14, 15, 2, 8, 9, 1, 4, 9, 11, 3, 4, 7, 1, 2, 3, 4, 5, 6, 7, 8, 9, 10, 11, 12, 13, 14, 15, 1, 2, 3, 4, 5, 6, 7, 8, 9, 10, 11, 12, 13, 14, 1, 3, 11, 12, 1, 15, 4, 1, 15, 1, 2, 6, 9, 10, 1, 6, 1, 2, 3, 4, 5, 6, 7, 8, 9, 10, 11, 12, 13, 3, 10, 1, 4, 5, 6, 8, 11, 12, 14, 1, 2, 3, 10, 1, 4, 10, 2, 3, 5, 2, 1, 2, 3, 4, 5, 6, 8, 10, 1, 2, 3, 7, 8, 2, 3, 9, 1, 4, 11, 13, 1, 2, 3, 4, 10, 11, 13, 3, 1, 4, 10, 11, 15, 1, 4, 9, 12, 2, 7, 8, 12, 1, 3, 14, 4, 1, 2, 3, 4, 5, 6, 7, 8, 9, 10, 11, 12, 13, 14, 15, 3, 5, 6, 7, 4, 14, 4, 1, 4, 9, 11, 1, 6, 12, 2, 3, 7, 8, 1, 3, 4, 6, 7, 11, 1, 4, 1, 10, 3, 1, 2, 3, 4, 5, 6, 7, 8, 9, 10, 11, 12, 13, 14, 15, 1, 3, 6, 1, 4, 8, 1, 3, 4, 1, 7, 12, 1, 2, 3, 4, 5, 6, 7, 8, 9, 10, 12, 13, 14, 1, 3, 11, 14, 1, 2, 3, 5, 6, 7, 8, 9, 12, 15, 1, 14, 2, 4, 6, 13, 2, 3, 5, 8, 3, 11, 1, 2, 3, 5, 6, 8, 9, 13, 1, 6, 9, 5, 7, 12, 1, 2, 3, 4, 5, 6, 7, 8, 9, 10, 12, 13, 15, 3, 4, 3, 5, 8, 1, 2, 3, 4, 5, 6, 7, 8, 9, 11, 12, 1, 2, 10, 1, 2, 3, 12, 1, 2, 4, 5, 8, 12, 13, 1, 2, 3, 4, 5, 6, 11, 12, 4, 2, 4, 5, 8, 3, 10, 11, 1, 2, 6, 7, 1, 2, 3, 4, 5, 6, 7, 8, 9, 12, 14, 1, 2, 3, 5, 7, 11, 12, 13, 1, 3, 5, 7, 1, 3, 4, 11, 1, 4, 11, 2, 4, 13, 1, 4, 9, 11, 1, 4, 11, 1, 10, 3, 5, 6, 7, 13, 1, 3, 4, 9, 10, 14, 2, 1, 3, 12, 14, 1, 6, 9, 13, 1, 2, 4, 7, 10, 15, 2, 3, 7, 1, 5, 6, 13, 1, 3, 4, 9, 14, 4, 1, 2, 5, 6, 12, 3, 6, 11, 1, 2, 3, 4, 6, 7, 8, 12, 1, 7, 12, 1, 2, 3, 4, 5, 6, 7, 8, 9, 10, 12, 14, 1, 2, 3, 7, 14, 15, 1, 2, 3, 4, 5, 6, 7, 8, 9, 10, 11, 12, 14, 15, 6, 9, 10, 1, 3, 4, 5, 2, 3, 7, 1, 13, 1, 3, 9, 1, 11, 3, 4, 15, 3, 6, 7, 4, 11, 1, 3, 9, 11, 15, 3, 4, 1, 7, 9, 1, 2, 3, 5, 6, 7, 8, 12, 1, 3, 4, 9, 11, 14, 15, 1, 2, 3, 4, 5, 6, 7, 8, 9, 10, 11, 12, 13, 14, 15, 1, 2, 3, 4, 5, 6, 7, 10, 11, 1, 4, 11, 2, 7, 1, 10, 11, 1, 4, 10, 13, 1, 2, 3, 7, 9, 10, 12, 1, 5, 9, 13, 1, 3, 5, 6, 14, 2, 1, 12, 1, 4, 10, 11, 6, 9, 10, 1, 2, 3, 4, 5, 6, 7, 8, 9, 10, 11, 12, 13, 15, 1, 10, 1, 4, 10, 15, 1, 4, 10, 14, 1, 1, 2, 3, 4, 5, 7, 10, 11, 13, 1, 2, 3, 7, 9, 12, 7, 8, 9, 10, 11, 4, 10, 11, 1, 1, 8, 2, 3, 7, 8, 1, 6, 1, 2, 3, 4, 5, 6, 7, 8, 9, 10, 11, 12, 13, 14, 5, 1, 2, 3, 4, 5, 6, 7, 8, 9, 11, 13, 14, 1, 1, 2, 3, 4, 5, 7, 8, 9, 14, 1, 8, 1, 2, 4, 9, 10, 1, 2, 3, 4, 5, 6, 7, 8, 9, 10, 11, 12, 13, 14, 15, 2, 3, 5, 6, 7, 8, 1, 2, 3, 4, 6, 7, 9, 10, 15, 3, 7, 1, 2, 3, 4, 6, 9, 15, 3, 4, 1, 2, 3, 4, 5, 6, 7, 8, 9, 10, 11, 12, 13, 1, 2, 3, 4, 5, 6, 7, 8, 9, 10, 12, 13, 1, 2, 3, 4, 5, 6, 7, 8, 9, 11, 15, 4, 5, 8, 1, 6, 10, 13, 1, 1, 2, 3, 5, 6, 7, 10, 13, 1, 4, 13, 1, 3, 13, 1, 13, 15, 1, 2, 3, 4, 5, 6, 7, 8, 9, 10, 11, 12, 13, 14, 15, 1, 3, 1, 2, 5, 6, 8, 9, 13, 2, 4, 10, 1, 4, 14, 1, 2, 14, 1, 2, 3, 4, 6, 9, 11, 15, 1, 4, 9, 1, 4, 9, 2, 4, 5, 7, 14, 1, 7, 13, 2, 3, 2, 5, 1, 10, 9, 1, 1, 2, 3, 4, 5, 6, 7, 8, 9, 10, 11, 12, 13, 15, 1, 1, 1, 2, 3, 4, 5, 6, 7, 8, 9, 10, 11, 12, 13, 1, 3, 7, 15, 1, 2, 5, 9, 14, 3, 5, 6, 1, 7, 8, 9, 11, 15, 1, 1, 11, 15, 3, 6, 12, 3, 8, 14, 3, 6, 10, 13, 1, 2, 3, 4, 5, 6, 7, 8, 9, 10, 11, 12, 13, 14, 1, 2, 3, 4, 5, 6, 7, 8, 1, 2, 3, 4, 5, 6, 7, 8, 9, 10, 12, 13, 14, 15, 1, 2, 3, 15, 5, 6, 6, 7, 9, 13, 1, 4, 1, 1, 2, 3, 4, 5, 6, 7, 8, 9, 11, 13, 14, 4, 1, 2, 3, 4, 5, 6, 7, 8, 9, 10, 11, 13, 14, 1, 4, 9, 13, 1, 10, 11, 2, 3, 5, 6, 7, 1, 2, 3, 4, 5, 6, 7, 11, 13, 14, 1, 2, 3, 4, 5, 6, 7, 8, 9, 10, 11, 12, 13, 14, 15, 1, 2, 3, 4, 10, 14, 1, 2, 3, 4, 5, 6, 7, 8, 9, 10, 11, 12, 13, 14, 1, 2, 3, 4, 5, 6, 7, 8, 9, 10, 11, 12, 13, 14, 15, 1, 3, 9, 11, 15, 1, 2, 3, 4, 5, 6, 7, 8, 9, 10, 11, 12, 13, 14, 15, 2, 1, 2, 3, 4, 5, 7, 8, 9, 12, 15, 1, 2, 3, 4, 5, 6, 7, 8, 9, 10, 11, 12, 13, 14, 15, 1, 2, 3, 4, 5, 6, 7, 8, 9, 10, 11, 12, 13, 14, 15, 4, 11, 13, 1, 4, 14, 1, 2, 3, 4, 5, 6, 7, 8, 9, 10, 11, 12, 13, 14, 15, 1, 2, 3, 4, 5, 6, 7, 8, 10, 12, 14, 1, 2, 4, 10, 1, 15, 1, 3, 4, 14, 1, 10, 12, 3, 6, 4, 11, 1, 4, 14, 1, 2, 3, 4, 5, 6, 7, 8, 12, 13, 15, 3, 1, 4, 1, 5, 9, 10, 13, 3, 6, 6, 7, 2, 6, 13, 1, 2, 12, 1, 2, 3, 12, 1, 5, 14, 2, 1, 1, 1, 9, 1, 11, 3, 4, 13, 3, 5, 6, 1, 10, 11, 1, 2, 5, 7, 14, 4, 1, 15, 1, 4, 3, 1, 4, 11, 1, 10, 11, 1, 4, 9, 1, 11, 13, 1, 2, 3, 4, 5, 6, 7, 8, 9, 12, 13, 15, 1, 1, 2, 3, 4, 5, 6, 7, 8, 9, 10, 11, 12, 13, 14, 15, 1, 5, 14, 1, 2, 3, 4, 5, 6, 7, 8, 9, 10, 11, 12, 13, 14, 3, 5, 6, 7, 13, 3, 5, 1, 11, 14, 1, 15, 1, 2, 3, 4, 5, 10, 11, 13, 14, 1, 3, 10, 11, 13, 1, 2, 3, 7, 8, 9, 12, 1, 7, 1, 2, 3, 5, 7, 9, 3, 6, 7, 1, 6, 15, 1, 2, 3, 4, 5, 6, 7, 8, 11, 1, 2, 3, 4, 5, 6, 7, 8, 9, 10, 11, 12, 13, 14, 1, 4, 15, 3, 5, 6, 7, 13, 1, 2, 3, 4, 5, 6, 7, 10, 11, 13, 14, 1, 4, 13, 1, 2, 3, 4, 5, 6, 7, 8, 9, 10, 11, 12, 13, 14, 1, 2, 3, 4, 5, 6, 7, 8, 9, 10, 11, 12, 13, 14, 15, 1, 7, 10, 11, 3, 7, 1, 2, 3, 4, 5, 6, 7, 8, 9, 10, 11, 12, 13, 14, 1, 4], \"Freq\": [0.7371917366981506, 0.18429793417453766, 0.23058666288852692, 0.6588190197944641, 0.09882285445928574, 0.03990398347377777, 0.9177916646003723, 0.03990398347377777, 0.567294180393219, 0.08104202151298523, 0.2431260645389557, 0.08104202151298523, 0.3352942168712616, 0.22352947294712067, 0.22352947294712067, 0.11176473647356033, 0.7757191061973572, 0.1551438271999359, 0.1938471794128418, 0.3753211498260498, 0.09073697775602341, 0.028870856389403343, 0.12373224645853043, 0.045368488878011703, 0.06599052995443344, 0.020622041076421738, 0.00412440812215209, 0.00824881624430418, 0.00412440812215209, 0.00824881624430418, 0.020622041076421738, 0.00412440812215209, 0.24091343581676483, 0.08030448108911514, 0.16060896217823029, 0.48182687163352966, 0.17126713693141937, 0.34253427386283875, 0.17126713693141937, 0.17126713693141937, 0.31673237681388855, 0.09745611995458603, 0.07309208810329437, 0.048728059977293015, 0.09745611995458603, 0.09745611995458603, 0.024364029988646507, 0.170548215508461, 0.024364029988646507, 0.8347181081771851, 0.05909508466720581, 0.03693442791700363, 0.02216065675020218, 0.014773771166801453, 0.02216065675020218, 0.23711389303207397, 0.4053882658481598, 0.03441976010799408, 0.011473252438008785, 0.04971743002533913, 0.0573662631213665, 0.13385461270809174, 0.02294650487601757, 0.015297669917345047, 0.0076488349586725235, 0.011473252438008785, 0.015297669917345047, 0.0038244174793362617, 0.5635977387428284, 0.18786591291427612, 0.2778491973876953, 0.13892459869384766, 0.2778491973876953, 0.2778491973876953, 0.7312869429588318, 0.18282173573970795, 0.5571488738059998, 0.18571628630161285, 0.18571628630161285, 0.2287604957818985, 0.11438024789094925, 0.2287604957818985, 0.11438024789094925, 0.2287604957818985, 0.7819592356681824, 0.15639184415340424, 0.8933485150337219, 0.15053190290927887, 0.15053190290927887, 0.4515957236289978, 0.11687717586755753, 0.36037129163742065, 0.09739764779806137, 0.02921929396688938, 0.11687717586755753, 0.11687717586755753, 0.048698823899030685, 0.02921929396688938, 0.019479529932141304, 0.009739764966070652, 0.048698823899030685, 0.1899358481168747, 0.09496792405843735, 0.3798716962337494, 0.1899358481168747, 0.19106508791446686, 0.3821301758289337, 0.19106508791446686, 0.16873948276042938, 0.16873948276042938, 0.16873948276042938, 0.16873948276042938, 0.16873948276042938, 0.383088618516922, 0.2001209259033203, 0.14580239355564117, 0.09148385375738144, 0.04860079661011696, 0.034306444227695465, 0.028588702902197838, 0.017153222113847733, 0.014294351451098919, 0.01143548171967268, 0.014294351451098919, 0.00571774085983634, 0.00285887042991817, 0.4973376393318176, 0.3315584361553192, 0.1657792180776596, 0.5018523931503296, 0.1254630982875824, 0.2509261965751648, 0.49958187341690063, 0.16652730107307434, 0.12489546835422516, 0.041631825268268585, 0.12489546835422516, 0.16321617364883423, 0.6120606660842896, 0.16321617364883423, 0.04080404341220856, 0.8881092071533203, 0.7259026169776917, 0.19797343015670776, 0.5577301979064941, 0.13943254947662354, 0.13943254947662354, 0.13943254947662354, 0.5881580710411072, 0.10808032751083374, 0.11562081426382065, 0.098026342689991, 0.012567480094730854, 0.012567480094730854, 0.010053983889520168, 0.005026991944760084, 0.00754048814997077, 0.002513495972380042, 0.022621463984251022, 0.00754048814997077, 0.002513495972380042, 0.00754048814997077, 0.7751973867416382, 0.1550394743680954, 0.17878185212612152, 0.7151274085044861, 0.8929320573806763, 0.5489311218261719, 0.13723278045654297, 0.13723278045654297, 0.17735131084918976, 0.25617411732673645, 0.07882280647754669, 0.11823420971632004, 0.07882280647754669, 0.05911710485816002, 0.15764561295509338, 0.019705701619386673, 0.019705701619386673, 0.08558384329080582, 0.32258525490760803, 0.2106679230928421, 0.03950023651123047, 0.23041804134845734, 0.04608360677957535, 0.026333490386605263, 0.006583372596651316, 0.026333490386605263, 0.013166745193302631, 0.9318055510520935, 0.4166510999202728, 0.13888369500637054, 0.13888369500637054, 0.13888369500637054, 0.06659826636314392, 0.316341757774353, 0.14152130484580994, 0.09157261252403259, 0.09989739209413528, 0.21644435822963715, 0.01664956659078598, 0.00832478329539299, 0.01664956659078598, 0.00832478329539299, 0.00832478329539299, 0.11807031184434891, 0.2586302161216736, 0.19116145372390747, 0.044979166239500046, 0.03373437374830246, 0.11244791746139526, 0.19116145372390747, 0.022489583119750023, 0.011244791559875011, 0.01686718687415123, 0.3343769311904907, 0.3343769311904907, 0.11145897954702377, 0.11145897954702377, 0.9466132521629333, 0.35027557611465454, 0.25314033031463623, 0.17513778805732727, 0.06034158915281296, 0.035321906208992004, 0.044152382761240005, 0.038265399634838104, 0.010302222333848476, 0.008830476552248001, 0.008830476552248001, 0.0044152382761240005, 0.0014717461308464408, 0.008830476552248001, 0.0014717461308464408, 0.775182843208313, 0.1550365686416626, 0.7608602643013, 0.190215066075325, 0.9086905717849731, 0.010948078706860542, 0.010948078706860542, 0.05474039539694786, 0.6717466115951538, 0.09796305000782013, 0.2029234617948532, 0.013994721695780754, 0.006997360847890377, 0.08450902253389359, 0.16901804506778717, 0.6338176727294922, 0.08450902253389359, 0.35848507285118103, 0.23899005353450775, 0.4779801070690155, 0.5125364065170288, 0.04456838592886925, 0.0891367718577385, 0.22284193336963654, 0.0891367718577385, 0.022284192964434624, 0.9067436456680298, 0.6497940421104431, 0.3068471848964691, 0.030083056539297104, 0.7346425652503967, 0.18366064131259918, 0.3910849392414093, 0.19554246962070465, 0.19554246962070465, 0.19554246962070465, 0.5630213618278503, 0.3753475844860077, 0.0068781496956944466, 0.6465460658073425, 0.06878149509429932, 0.013756299391388893, 0.020634448155760765, 0.0481470488011837, 0.12380669265985489, 0.04126889631152153, 0.0068781496956944466, 0.013756299391388893, 0.0068781496956944466, 0.9401429891586304, 0.28289878368377686, 0.2653546631336212, 0.14035287499427795, 0.05482534319162369, 0.08772055059671402, 0.0394742451608181, 0.07456246763467789, 0.026316164061427116, 0.006579041015356779, 0.010965068824589252, 0.004386027343571186, 0.004386027343571186, 0.002193013671785593, 0.002193013671785593, 0.646968424320221, 0.05545443668961525, 0.027727218344807625, 0.17560572922229767, 0.009242406114935875, 0.01848481222987175, 0.009242406114935875, 0.01848481222987175, 0.009242406114935875, 0.009242406114935875, 0.01848481222987175, 0.3784833252429962, 0.09462083131074905, 0.09462083131074905, 0.4731041491031647, 0.8049277663230896, 0.027970463037490845, 0.03729395195841789, 0.06837224215269089, 0.006215658504515886, 0.05283309519290924, 0.9288583993911743, 0.1572921872138977, 0.07078148424625397, 0.7235440611839294, 0.04718765616416931, 0.3302525579929352, 0.17744913697242737, 0.1873074173927307, 0.05093447491526604, 0.08872456848621368, 0.0690079927444458, 0.04271923378109932, 0.008215237408876419, 0.009858285076916218, 0.006572190206497908, 0.008215237408876419, 0.009858285076916218, 0.003286095103248954, 0.003286095103248954, 0.001643047551624477, 0.1797587275505066, 0.5392761826515198, 0.6013039946556091, 0.06681156158447266, 0.1336231231689453, 0.1336231231689453, 0.29094037413597107, 0.6650065183639526, 0.02078145369887352, 0.6332215070724487, 0.31661075353622437, 0.8870536684989929, 0.006427925080060959, 0.08034906536340714, 0.009641887620091438, 0.009641887620091438, 0.7871688604354858, 0.010783134959638119, 0.01617470197379589, 0.1509638875722885, 0.010783134959638119, 0.005391567479819059, 0.01617470197379589, 0.24102796614170074, 0.12051398307085037, 0.4820559322834015, 0.12051398307085037, 0.8244725465774536, 0.11778179556131363, 0.8667317628860474, 0.01111194584518671, 0.02222389169037342, 0.033335838466882706, 0.01111194584518671, 0.01111194584518671, 0.02222389169037342, 0.02222389169037342, 0.37533193826675415, 0.18766596913337708, 0.18766596913337708, 0.0744079127907753, 0.10417108237743378, 0.31623363494873047, 0.011161187663674355, 0.2901908755302429, 0.16369742155075073, 0.01488158293068409, 0.0037203957326710224, 0.0037203957326710224, 0.0037203957326710224, 0.011161187663674355, 0.0037203957326710224, 0.5488417744636536, 0.1097683534026146, 0.2195367068052292, 0.14685417711734772, 0.8076979517936707, 0.10331318527460098, 0.8265054821968079, 0.8798068165779114, 0.025137338787317276, 0.07541201263666153, 0.4338647723197937, 0.08976512402296066, 0.08976512402296066, 0.11968683451414108, 0.04488256201148033, 0.05984341725707054, 0.04488256201148033, 0.02992170862853527, 0.02992170862853527, 0.04488256201148033, 0.20674866437911987, 0.41349732875823975, 0.20674866437911987, 0.10337433218955994, 0.9390580058097839, 0.013511626049876213, 0.020267438143491745, 0.0067558130249381065, 0.0067558130249381065, 0.7134907245635986, 0.027980029582977295, 0.13990014791488647, 0.027980029582977295, 0.04197004437446594, 0.05596005916595459, 0.6977623105049133, 0.004178217612206936, 0.2256237417459488, 0.004178217612206936, 0.06685148179531097, 0.9397646188735962, 0.8264666795730591, 0.026660215109586716, 0.09775412082672119, 0.008886738680303097, 0.008886738680303097, 0.008886738680303097, 0.008886738680303097, 0.37377992272377014, 0.18688996136188507, 0.18688996136188507, 0.18688996136188507, 0.04478006437420845, 0.04478006437420845, 0.8508212566375732, 0.10497038066387177, 0.7347926497459412, 0.10497038066387177, 0.1615925282239914, 0.4320843815803528, 0.07377050071954727, 0.0035128809977322817, 0.06323185563087463, 0.06674473732709885, 0.09133490920066833, 0.05620609596371651, 0.0035128809977322817, 0.010538643226027489, 0.010538643226027489, 0.014051523990929127, 0.007025761995464563, 0.007025761995464563, 0.6559674143791199, 0.2186557948589325, 0.9696033000946045, 0.02620549499988556, 0.6258918642997742, 0.15647296607494354, 0.15647296607494354, 0.37661418318748474, 0.18830709159374237, 0.18830709159374237, 0.5608999729156494, 0.1869666427373886, 0.7611652612686157, 0.19029131531715393, 0.9105119109153748, 0.02276279777288437, 0.02276279777288437, 0.02276279777288437, 0.3340960741043091, 0.037121787667274475, 0.5568268299102783, 0.037121787667274475, 0.7706261277198792, 0.15412522852420807, 0.812178909778595, 0.1353631615638733, 0.3373244106769562, 0.4047892987728119, 0.13492976129055023, 0.06746488064527512, 0.3058057129383087, 0.03822571411728859, 0.15290285646915436, 0.2675800025463104, 0.03822571411728859, 0.03822571411728859, 0.15290285646915436, 0.03822571411728859, 0.4349556267261505, 0.15856242179870605, 0.1774735301733017, 0.08728206157684326, 0.027639320120215416, 0.03636752814054489, 0.027639320120215416, 0.016001712530851364, 0.004364103078842163, 0.004364103078842163, 0.010182907804846764, 0.007273505441844463, 0.004364103078842163, 0.0029094021301716566, 0.0014547010650858283, 0.5931421518325806, 0.3886103630065918, 0.6716310977935791, 0.03950771316885948, 0.2765539884567261, 0.8800942897796631, 0.03143193945288658, 0.04714790731668472, 0.01571596972644329, 0.01571596972644329, 0.8974778652191162, 0.015211489051580429, 0.015211489051580429, 0.060845956206321716, 0.0076057445257902145, 0.4257418215274811, 0.08514836430549622, 0.25544509291648865, 0.17029672861099243, 0.08514836430549622, 0.07828740030527115, 0.8415895700454712, 0.039143700152635574, 0.039143700152635574, 0.05175630375742912, 0.828100860118866, 0.05175630375742912, 0.528971791267395, 0.16750772297382355, 0.044080980122089386, 0.10873308777809143, 0.03232605382800102, 0.011754928156733513, 0.04114224761724472, 0.008816196583211422, 0.0029387320391833782, 0.011754928156733513, 0.008816196583211422, 0.023509856313467026, 0.0029387320391833782, 0.0029387320391833782, 0.20803356170654297, 0.3014979064464569, 0.15376393496990204, 0.05426962673664093, 0.08441941440105438, 0.0814044401049614, 0.045224688947200775, 0.033164769411087036, 0.009044937789440155, 0.006029958371073008, 0.006029958371073008, 0.01808987557888031, 0.38374924659729004, 0.21088923513889313, 0.08297280967235565, 0.08297280967235565, 0.041486404836177826, 0.027657603845000267, 0.07951561361551285, 0.027657603845000267, 0.024200404062867165, 0.01728600263595581, 0.010371601209044456, 0.0034572004806250334, 0.006914400961250067, 0.0034572004806250334, 0.0034572004806250334, 0.7570205330848694, 0.04453061893582344, 0.17812247574329376, 0.01716747134923935, 0.9356272220611572, 0.008583735674619675, 0.025751207023859024, 0.008583735674619675, 0.13271944224834442, 0.39815831184387207, 0.39815831184387207, 0.3367883861064911, 0.3367883861064911, 0.16839419305324554, 0.16839419305324554, 0.2477988600730896, 0.2477988600730896, 0.1238994300365448, 0.1238994300365448, 0.5138362646102905, 0.1209026500582695, 0.07724335789680481, 0.14105309545993805, 0.013433627784252167, 0.05709291622042656, 0.023508848622441292, 0.01679203473031521, 0.023508848622441292, 0.006716813892126083, 0.006716813892126083, 0.0033584069460630417, 0.25529080629348755, 0.1685882806777954, 0.1204201951622963, 0.12523700296878815, 0.03371765464544296, 0.14450423419475555, 0.02890084683895111, 0.06261850148439407, 0.02890084683895111, 0.019267231225967407, 0.004816807806491852, 0.004816807806491852, 0.004816807806491852, 0.08532673865556717, 0.8959307074546814, 0.13504913449287415, 0.3279764652252197, 0.15434186160564423, 0.11575639992952347, 0.07717093080282211, 0.038585465401411057, 0.07717093080282211, 0.019292732700705528, 0.019292732700705528, 0.019292732700705528, 0.019292732700705528, 0.41782739758491516, 0.2300397902727127, 0.16900883615016937, 0.17370352149009705, 0.06594237685203552, 0.46159663796424866, 0.46159663796424866, 0.0994044840335846, 0.4307527542114258, 0.1325393170118332, 0.2982134521007538, 0.0331348292529583, 0.5589149594306946, 0.1863049864768982, 0.1863049864768982, 0.945343554019928, 0.03501272574067116, 0.6609439253807068, 0.09012871980667114, 0.09763944149017334, 0.07510726153850555, 0.00751072634011507, 0.00751072634011507, 0.04506435990333557, 0.00751072634011507, 0.00751072634011507, 0.5458394885063171, 0.06931295245885849, 0.034656476229429245, 0.21660296618938446, 0.008664119057357311, 0.04332059249281883, 0.008664119057357311, 0.017328238114714622, 0.034656476229429245, 0.008664119057357311, 0.008664119057357311, 0.008664119057357311, 0.41892704367637634, 0.13964234292507172, 0.13964234292507172, 0.27928468585014343, 0.4438339173793793, 0.12328720092773438, 0.22191695868968964, 0.04931488260626793, 0.024657441303133965, 0.04931488260626793, 0.07397232204675674, 0.37092509865760803, 0.16485559940338135, 0.061820849776268005, 0.2678903639316559, 0.12364169955253601, 0.7388408184051514, 0.03436468914151192, 0.2233704775571823, 0.8659075498580933, 0.005586500279605389, 0.03351899981498718, 0.08379750698804855, 0.005586500279605389, 0.02270241640508175, 0.6421540975570679, 0.18486253917217255, 0.006486404687166214, 0.016216011717915535, 0.025945618748664856, 0.07135045528411865, 0.012972809374332428, 0.003243202343583107, 0.009729607030749321, 0.3850964605808258, 0.1925482302904129, 0.1925482302904129, 0.44508323073387146, 0.14956726133823395, 0.21590758860111237, 0.06754650920629501, 0.03618562966585159, 0.041010379791259766, 0.008443313650786877, 0.010855688713490963, 0.006030938122421503, 0.00241237529553473, 0.00241237529553473, 0.006030938122421503, 0.003618562826886773, 0.00482475059106946, 0.001206187647767365, 0.2127087563276291, 0.7657515406608582, 0.3960748612880707, 0.3960748612880707, 0.44711995124816895, 0.44711995124816895, 0.19587773084640503, 0.2810419499874115, 0.0510985367000103, 0.034065693616867065, 0.0510985367000103, 0.034065693616867065, 0.2810419499874115, 0.04258211329579353, 0.008516423404216766, 0.008516423404216766, 0.008516423404216766, 0.008516423404216766, 0.008516423404216766, 0.05020881071686745, 0.5020881295204163, 0.3514616787433624, 0.1004176214337349, 0.3589588403701782, 0.1794794201850891, 0.1794794201850891, 0.08973971009254456, 0.1794794201850891, 0.546604335308075, 0.13665108382701874, 0.2733021676540375, 0.13665108382701874, 0.5615549087524414, 0.37436994910240173, 0.38124752044677734, 0.19062376022338867, 0.19062376022338867, 0.4156893491744995, 0.10392233729362488, 0.4156893491744995, 0.2471693903207779, 0.2471693903207779, 0.2471693903207779, 0.2471693903207779, 0.23079831898212433, 0.46159663796424866, 0.03297118842601776, 0.02198079228401184, 0.13188475370407104, 0.01099039614200592, 0.01099039614200592, 0.07693277299404144, 0.01099039614200592, 0.01099039614200592, 0.9601808786392212, 0.5637079477310181, 0.18790265917778015, 0.7756783962249756, 0.15513567626476288, 0.1797633171081543, 0.7190532684326172, 0.1809353083372116, 0.5428059101104736, 0.1809353083372116, 0.1470869779586792, 0.3241361081600189, 0.2533164620399475, 0.09805797785520554, 0.046305157244205475, 0.0381336584687233, 0.027238328009843826, 0.024514494463801384, 0.005447665695101023, 0.005447665695101023, 0.02179066278040409, 0.005447665695101023, 0.0027238328475505114, 0.8705921173095703, 0.02024632878601551, 0.04049265757203102, 0.02024632878601551, 0.03036949411034584, 0.2690272033214569, 0.024457018822431564, 0.6114254593849182, 0.024457018822431564, 0.024457018822431564, 0.024457018822431564, 0.24823670089244843, 0.08274556696414948, 0.41372784972190857, 0.16549113392829895, 0.42952680587768555, 0.42952680587768555, 0.07158780097961426, 0.028977923095226288, 0.34773507714271545, 0.4926247000694275, 0.1014227345585823, 0.014488961547613144, 0.8639858961105347, 0.7526230812072754, 0.0024045465979725122, 0.0024045465979725122, 0.1803409904241562, 0.019236372783780098, 0.012022732757031918, 0.02885456010699272, 0.7887763977050781, 0.013001808896660805, 0.02600361779332161, 0.12135022133588791, 0.004333936143666506, 0.008667872287333012, 0.004333936143666506, 0.008667872287333012, 0.008667872287333012, 0.013001808896660805, 0.004333936143666506, 0.8335646390914917, 0.01975271664559841, 0.003950543235987425, 0.11851629614830017, 0.011851629242300987, 0.00790108647197485, 0.9306477904319763, 0.02658993750810623, 0.2240271270275116, 0.35256728529930115, 0.07712409645318985, 0.04774348810315132, 0.07712409645318985, 0.08079666644334793, 0.036725759506225586, 0.062433790415525436, 0.01101772766560316, 0.0036725758109241724, 0.01101772766560316, 0.01101772766560316, 0.19801919162273407, 0.5186216831207275, 0.04714742675423622, 0.028288457542657852, 0.01885897107422352, 0.1225833147764206, 0.01885897107422352, 0.056576915085315704, 0.44063520431518555, 0.20807774364948273, 0.12145714461803436, 0.07061462104320526, 0.04236876964569092, 0.04331029951572418, 0.033895015716552734, 0.012239866890013218, 0.0018830564804375172, 0.012239866890013218, 0.0037661129608750343, 0.0037661129608750343, 0.0028245847206562757, 0.0018830564804375172, 0.0009415282402187586, 0.4914185404777527, 0.1903381645679474, 0.13496707379817963, 0.031146246939897537, 0.0346069410443306, 0.024224858731031418, 0.031146246939897537, 0.0173034705221653, 0.0034606941044330597, 0.006921388208866119, 0.0173034705221653, 0.006921388208866119, 0.0034606941044330597, 0.006921388208866119, 0.07931744307279587, 0.2827839255332947, 0.34485843777656555, 0.018967213109135628, 0.09311177581548691, 0.08104173094034195, 0.044831596314907074, 0.032761551439762115, 0.010345753282308578, 0.0017242921749129891, 0.0017242921749129891, 0.005172876641154289, 0.0017242921749129891, 0.3027971386909485, 0.15139856934547424, 0.15139856934547424, 0.35326331853866577, 0.05046619102358818, 0.11649342626333237, 0.3494803011417389, 0.46597370505332947, 0.7536896467208862, 0.037955593317747116, 0.05422227829694748, 0.07591118663549423, 0.010844455100595951, 0.021688910201191902, 0.016266683116555214, 0.0054222275502979755, 0.0054222275502979755, 0.016266683116555214, 0.0054222275502979755, 0.8684276342391968, 0.03216398507356644, 0.03216398507356644, 0.03216398507356644, 0.772560179233551, 0.09657002240419388, 0.33717212080955505, 0.08429303020238876, 0.2528790831565857, 0.16858606040477753, 0.31020039319992065, 0.465300589799881, 0.15510019659996033, 0.7700735926628113, 0.11001051217317581, 0.055005256086587906, 0.6878183484077454, 0.2292727828025818, 0.18728867173194885, 0.18728867173194885, 0.3745773434638977, 0.18728867173194885, 0.13420294225215912, 0.6710147261619568, 0.19910463690757751, 0.19910463690757751, 0.39820927381515503, 0.19910463690757751, 0.19910463690757751, 0.8899453282356262, 0.04045205935835838, 0.04045205935835838, 0.6296265721321106, 0.08072135597467422, 0.016144271939992905, 0.03228854387998581, 0.016144271939992905, 0.016144271939992905, 0.03228854387998581, 0.048432815819978714, 0.08072135597467422, 0.016144271939992905, 0.8714972734451294, 0.22578008472919464, 0.27093610167503357, 0.3160921335220337, 0.04515601694583893, 0.04515601694583893, 0.04515601694583893, 0.38524314761161804, 0.48155394196510315, 0.09631078690290451, 0.5524558424949646, 0.15784452855587006, 0.07892226427793503, 0.07892226427793503, 0.07892226427793503, 0.6408634185791016, 0.1602158546447754, 0.1602158546447754, 0.7492108345031738, 0.10703011602163315, 0.5628823041915894, 0.18762743473052979, 0.20775622129440308, 0.41551244258880615, 0.3116343319416046, 0.43493664264678955, 0.21746832132339478, 0.10873416066169739, 0.21746832132339478, 0.1325540989637375, 0.39766231179237366, 0.1325540989637375, 0.265108197927475, 0.6628072261810303, 0.3077319264411926, 0.515977680683136, 0.18575197458267212, 0.02063910849392414, 0.14447376132011414, 0.02063910849392414, 0.12383464723825455, 0.567924439907074, 0.3407546579837799, 0.5953763127326965, 0.09429873526096344, 0.1294296383857727, 0.14052359759807587, 0.014791958034038544, 0.001848994754254818, 0.001848994754254818, 0.005546984262764454, 0.005546984262764454, 0.007395979017019272, 0.001848994754254818, 0.001848994754254818, 0.001848994754254818, 0.3251175284385681, 0.16574619710445404, 0.16255876421928406, 0.05099882930517197, 0.12430964410305023, 0.05418625473976135, 0.07649824023246765, 0.006374853663146496, 0.003187426831573248, 0.006374853663146496, 0.006374853663146496, 0.009562280029058456, 0.006374853663146496, 0.46623799204826355, 0.008796943351626396, 0.008796943351626396, 0.36947160959243774, 0.048383187502622604, 0.030789300799369812, 0.0659770742058754, 0.4478091895580292, 0.4478091895580292, 0.7206336259841919, 0.06005280464887619, 0.06005280464887619, 0.12010560929775238, 0.592040479183197, 0.19734682142734528, 0.11481495946645737, 0.7912923097610474, 0.018618641421198845, 0.006206213962286711, 0.012412427924573421, 0.021721748635172844, 0.009309320710599422, 0.018618641421198845, 0.006206213962286711, 0.17629463970661163, 0.5288839340209961, 0.6844197511672974, 0.09777424484491348, 0.19554848968982697, 0.0014278170419856906, 0.9466426372528076, 0.012850352562963963, 0.005711268167942762, 0.0014278170419856906, 0.02284507267177105, 0.00428345100954175, 0.002855634083971381, 0.0014278170419856906, 0.00462855352088809, 0.7775970101356506, 0.020057065412402153, 0.0015428512124344707, 0.0015428512124344707, 0.0030857024248689413, 0.1249709501862526, 0.038571279495954514, 0.0015428512124344707, 0.02468561939895153, 0.07699646800756454, 0.8469611406326294, 0.03849823400378227, 0.03849823400378227, 0.283842533826828, 0.094614177942276, 0.567685067653656, 0.4283098876476288, 0.35465148091316223, 0.2073347121477127, 0.005456176586449146, 0.2766810953617096, 0.1383405476808548, 0.5072486996650696, 0.0461135171353817, 0.4722292423248291, 0.4722292423248291, 0.02777818962931633, 0.009259396232664585, 0.0012199815828353167, 0.0012199815828353167, 0.3672144412994385, 0.27327588200569153, 0.32085514068603516, 0.030499540269374847, 0.004879926331341267, 0.4826473593711853, 0.24132367968559265, 0.24132367968559265, 0.5549039840698242, 0.06936299800872803, 0.008670374751091003, 0.02601112425327301, 0.08670374751091003, 0.19941861927509308, 0.034681499004364014, 0.008670374751091003, 0.7894441485404968, 0.1544564664363861, 0.01716182939708233, 0.008580914698541164, 0.004290457349270582, 0.008580914698541164, 0.008580914698541164, 0.004290457349270582, 0.5656310319900513, 0.1885436624288559, 0.1885436624288559, 0.22801250219345093, 0.5130281448364258, 0.1710093766450882, 0.0855046883225441, 0.799921989440918, 0.014544036239385605, 0.007272018119692802, 0.14544035494327545, 0.007272018119692802, 0.014544036239385605, 0.007272018119692802, 0.007272018119692802, 0.13667933642864227, 0.8382999300956726, 0.01822391152381897, 0.13056053221225739, 0.26112106442451477, 0.13056053221225739, 0.13056053221225739, 0.26112106442451477, 0.14597690105438232, 0.4014365077018738, 0.10948268324136734, 0.01824711263179779, 0.03649422526359558, 0.1642240285873413, 0.01824711263179779, 0.07298845052719116, 0.01824711263179779, 0.15741164982318878, 0.47223496437072754, 0.15741164982318878, 0.26186811923980713, 0.7070439457893372, 0.026186812669038773, 0.22340698540210724, 0.6937375068664551, 0.011758262291550636, 0.03527478873729706, 0.023516524583101273, 0.8935199975967407, 0.9551865458488464, 0.40607523918151855, 0.2255973517894745, 0.12510399520397186, 0.1045951396226883, 0.038966815918684006, 0.03691593185067177, 0.02050884999334812, 0.002050884999334812, 0.002050884999334812, 0.008203539997339249, 0.004101769998669624, 0.018457965925335884, 0.004101769998669624, 0.002050884999334812, 0.1913592517375946, 0.3827185034751892, 0.1913592517375946, 0.3931337594985962, 0.1965668797492981, 0.1965668797492981, 0.1965668797492981, 0.07772184163331985, 0.23316553235054016, 0.07772184163331985, 0.4663310647010803, 0.07772184163331985, 0.39962852001190186, 0.3774269223213196, 0.02220158278942108, 0.02220158278942108, 0.04440316557884216, 0.02220158278942108, 0.02220158278942108, 0.02220158278942108, 0.02220158278942108, 0.16793842613697052, 0.16793842613697052, 0.33587685227394104, 0.16793842613697052, 0.16793842613697052, 0.6312039494514465, 0.21040131151676178, 0.10520065575838089, 0.335714191198349, 0.20142851769924164, 0.13428567349910736, 0.06714283674955368, 0.06714283674955368, 0.13428567349910736, 0.26379233598709106, 0.26379233598709106, 0.17586156725883484, 0.26379233598709106, 0.6799606680870056, 0.06204020977020264, 0.042187340557575226, 0.1464148908853531, 0.01737125776708126, 0.01985286734998226, 0.004963216837495565, 0.00992643367499113, 0.00992643367499113, 0.0024816084187477827, 0.0024816084187477827, 0.0024816084187477827, 0.4107004404067993, 0.4107004404067993, 0.5791248679161072, 0.13892753422260284, 0.08117114007472992, 0.11239080876111984, 0.012487867847084999, 0.009365901350975037, 0.009365901350975037, 0.0031219669617712498, 0.012487867847084999, 0.010926884599030018, 0.018731802701950073, 0.0062439339235424995, 0.004682950675487518, 0.6966302394866943, 0.06966302543878555, 0.06966302543878555, 0.08558600395917892, 0.011942232958972454, 0.007961488328874111, 0.009951860643923283, 0.001990372082218528, 0.007961488328874111, 0.021894093602895737, 0.011942232958972454, 0.001990372082218528, 0.001990372082218528, 0.1888451874256134, 0.4915529191493988, 0.022217079997062683, 0.013885674998164177, 0.23883362114429474, 0.02499421499669552, 0.008331404998898506, 0.005554269999265671, 0.5327051877975464, 0.08878419548273087, 0.17756839096546173, 0.17756839096546173, 0.4128873646259308, 0.05630281940102577, 0.13137324154376984, 0.01876760646700859, 0.1876760721206665, 0.01876760646700859, 0.07507042586803436, 0.03753521293401718, 0.01876760646700859, 0.01876760646700859, 0.12907978892326355, 0.46626779437065125, 0.09746841341257095, 0.005268562585115433, 0.07639416307210922, 0.03424565866589546, 0.09746841341257095, 0.04478278383612633, 0.005268562585115433, 0.007902843877673149, 0.018439969047904015, 0.0026342812925577164, 0.005268562585115433, 0.0026342812925577164, 0.6282491087913513, 0.31412455439567566, 0.3876650333404541, 0.5286341309547424, 0.07048454880714417, 0.11456311494112015, 0.2291262298822403, 0.2291262298822403, 0.2291262298822403, 0.11456311494112015, 0.11456311494112015, 0.11456311494112015, 0.29660746455192566, 0.6673667430877686, 0.19763948023319244, 0.1290706843137741, 0.1895725578069687, 0.03025094047188759, 0.1129368469119072, 0.11898703128099442, 0.07461898773908615, 0.09075281769037247, 0.018150564283132553, 0.0020167294424027205, 0.0020167294424027205, 0.0282342117279768, 0.004033458884805441, 0.1885720044374466, 0.1885720044374466, 0.3771440088748932, 0.1885720044374466, 0.7309361696243286, 0.18273404240608215, 0.45827314257621765, 0.45827314257621765, 0.2530617415904999, 0.3057829439640045, 0.10807844996452332, 0.02636059746146202, 0.08435391634702682, 0.0738096758723259, 0.09226208925247192, 0.018452418968081474, 0.01318029873073101, 0.0026360598858445883, 0.0026360598858445883, 0.010544239543378353, 0.0052721197716891766, 0.0026360598858445883, 0.4207111895084381, 0.24317702651023865, 0.07011853158473969, 0.07608606666326523, 0.04028085619211197, 0.049232158809900284, 0.05072404071688652, 0.01790260337293148, 0.00447565084323287, 0.007459417916834354, 0.005967534612864256, 0.002983767306432128, 0.00447565084323287, 0.002983767306432128, 0.001491883653216064, 0.8534733653068542, 0.030481191352009773, 0.007620297838002443, 0.05334208533167839, 0.03810148686170578, 0.7313079833984375, 0.18282699584960938, 0.6341601610183716, 0.10569336265325546, 0.21138672530651093, 0.4389687180519104, 0.1097421795129776, 0.2194843590259552, 0.1097421795129776, 0.611309289932251, 0.17465978860855103, 0.08732989430427551, 0.13099484145641327, 0.5714162588119507, 0.380944162607193, 0.20122650265693665, 0.20122650265693665, 0.20122650265693665, 0.20122650265693665, 0.03453850746154785, 0.2763080596923828, 0.2072310447692871, 0.0690770149230957, 0.1381540298461914, 0.03453850746154785, 0.0690770149230957, 0.1381540298461914, 0.0690770149230957, 0.8982980251312256, 0.058584652841091156, 0.019528217613697052, 0.019528217613697052, 0.9476693272590637, 0.8309075236320496, 0.07838749885559082, 0.015677500516176224, 0.04703250154852867, 0.015677500516176224, 0.3475327789783478, 0.5212991833686829, 0.24314439296722412, 0.48628878593444824, 0.16209626197814941, 0.16436424851417542, 0.05478808283805847, 0.13697020709514618, 0.6026689410209656, 0.05478808283805847, 0.2781086266040802, 0.21893657743930817, 0.05325484275817871, 0.1005924791097641, 0.06508924812078476, 0.13609570264816284, 0.09467527270317078, 0.029586022719740868, 0.0059172045439481735, 0.01775161363184452, 0.0059172045439481735, 0.011834409087896347, 0.1806505173444748, 0.5419515371322632, 0.1806505173444748, 0.48504602909088135, 0.16168200969696045, 0.16168200969696045, 0.16168200969696045, 0.9435648918151855, 0.008424686267971992, 0.03369874507188797, 0.9574311375617981, 0.07018508017063141, 0.008773135021328926, 0.4518164396286011, 0.004386567510664463, 0.20616866648197174, 0.12721045315265656, 0.12282388657331467, 0.004386567510664463, 0.5823867321014404, 0.17129020392894745, 0.022838694974780083, 0.05709673836827278, 0.03425804153084755, 0.03425804153084755, 0.022838694974780083, 0.011419347487390041, 0.011419347487390041, 0.022838694974780083, 0.022838694974780083, 0.8274751901626587, 0.0061294459737837315, 0.14097726345062256, 0.0061294459737837315, 0.0061294459737837315, 0.0061294459737837315, 0.9476458430290222, 0.14387430250644684, 0.2807869613170624, 0.1810031533241272, 0.023205533623695374, 0.1670798361301422, 0.09978379309177399, 0.05569327995181084, 0.006961659993976355, 0.004641106817871332, 0.004641106817871332, 0.01856442727148533, 0.006961659993976355, 0.002320553408935666, 0.002320553408935666, 0.23601187765598297, 0.3006726801395416, 0.19074933230876923, 0.07112687081098557, 0.04202951490879059, 0.048495594412088394, 0.038796473294496536, 0.02263127639889717, 0.009699118323624134, 0.009699118323624134, 0.0064660790376365185, 0.019398236647248268, 0.0032330395188182592, 0.5489417314529419, 0.18298056721687317, 0.18298056721687317, 0.3190293610095978, 0.07975734025239944, 0.14356321096420288, 0.07975734025239944, 0.06380587071180344, 0.06380587071180344, 0.11166027933359146, 0.01595146767795086, 0.01595146767795086, 0.07975734025239944, 0.01595146767795086, 0.01595146767795086, 0.01595146767795086, 0.01595146767795086, 0.8711860775947571, 0.3303534984588623, 0.38541242480278015, 0.2092238813638687, 0.07708248496055603, 0.17720220983028412, 0.35440441966056824, 0.17720220983028412, 0.17720220983028412, 0.8236557245254517, 0.11766510456800461, 0.5933423638343811, 0.131853848695755, 0.26370769739151, 0.5407057404518127, 0.13517643511295319, 0.13517643511295319, 0.3057299256324768, 0.583666205406189, 0.09264542907476425, 0.45908108353614807, 0.154120072722435, 0.07542046159505844, 0.07542046159505844, 0.06230385974049568, 0.0655830129981041, 0.03934980556368828, 0.00327915046364069, 0.00327915046364069, 0.03607065603137016, 0.00655830092728138, 0.00327915046364069, 0.00983745139092207, 0.00327915046364069, 0.34297582507133484, 0.24888509511947632, 0.1335480958223343, 0.06070368364453316, 0.057668499648571014, 0.057668499648571014, 0.036422211676836014, 0.01517592091113329, 0.012140736915171146, 0.006070368457585573, 0.006070368457585573, 0.018211105838418007, 0.0030351842287927866, 0.0030351842287927866, 0.9641513824462891, 0.3209265172481537, 0.16046325862407684, 0.16046325862407684, 0.3209265172481537, 0.8252017498016357, 0.017372669652104378, 0.052118007093667984, 0.034745339304208755, 0.008686334826052189, 0.017372669652104378, 0.017372669652104378, 0.008686334826052189, 0.008686334826052189, 0.0043431674130260944, 0.0043431674130260944, 0.3574228882789612, 0.5182631611824036, 0.05361343175172806, 0.05361343175172806, 0.9391237497329712, 0.03238357976078987, 0.2719838321208954, 0.19012463092803955, 0.3010306656360626, 0.04753115773200989, 0.05545301362872124, 0.06601549685001373, 0.03168743848800659, 0.015843719244003296, 0.005281239748001099, 0.005281239748001099, 0.005281239748001099, 0.0026406198740005493, 0.35331323742866516, 0.18521051108837128, 0.165871262550354, 0.06248065456748009, 0.09520861506462097, 0.04686048999428749, 0.04090995341539383, 0.013388711959123611, 0.012644894421100616, 0.004462903831154108, 0.005950538441538811, 0.005950538441538811, 0.007438173051923513, 0.0014876346103847027, 0.34249982237815857, 0.34249982237815857, 0.2283332198858261, 0.45598775148391724, 0.1302822083234787, 0.06514110416173935, 0.06514110416173935, 0.06514110416173935, 0.06514110416173935, 0.1302822083234787, 0.6956226825714111, 0.01795155368745327, 0.228882297873497, 0.0044878884218633175, 0.008975776843726635, 0.0044878884218633175, 0.040390994399785995, 0.9217692017555237, 0.2280372828245163, 0.15202485024929047, 0.07601242512464523, 0.4560745656490326, 0.07601242512464523, 0.2619484066963196, 0.2607300281524658, 0.20955872535705566, 0.04386112838983536, 0.08406715840101242, 0.052389681339263916, 0.038987670093774796, 0.023148927837610245, 0.00609182333573699, 0.0048734587617218494, 0.00609182333573699, 0.00609182333573699, 0.0012183646904304624, 0.8967027068138123, 0.5270277261734009, 0.22101162374019623, 0.03400178998708725, 0.051002684980630875, 0.017000894993543625, 0.03400178998708725, 0.08500447124242783, 0.017000894993543625, 0.6181091666221619, 0.24724367260932922, 0.48871082067489624, 0.09774216264486313, 0.09774216264486313, 0.19548432528972626, 0.45698824524879456, 0.30465883016586304, 0.12777622044086456, 0.0766657292842865, 0.17888669669628143, 0.4855496287345886, 0.0766657292842865, 0.025555243715643883, 0.4185774624347687, 0.12642747163772583, 0.17084793746471405, 0.11617660522460938, 0.029044151306152344, 0.04442046582698822, 0.027335671707987785, 0.02050175331532955, 0.017084794119000435, 0.015376314520835876, 0.006833917926996946, 0.005125438328832388, 0.0017084794817492366, 0.8035765290260315, 0.04591865837574005, 0.07461781799793243, 0.01721949689090252, 0.005739832296967506, 0.005739832296967506, 0.011479664593935013, 0.022959329187870026, 0.005739832296967506, 0.005739832296967506, 0.641413152217865, 0.0727042555809021, 0.06947296112775803, 0.11955811083316803, 0.01777215301990509, 0.01777215301990509, 0.011309551075100899, 0.0016156501369550824, 0.00646260054782033, 0.01292520109564066, 0.02100345306098461, 0.003231300273910165, 0.003231300273910165, 0.0016156501369550824, 0.9074999690055847, 0.0477631576359272, 0.0238815788179636, 0.20206457376480103, 0.40052086114883423, 0.10103228688240051, 0.003608295926824212, 0.04690784588456154, 0.08659910410642624, 0.12629035115242004, 0.007216591853648424, 0.003608295926824212, 0.003608295926824212, 0.003608295926824212, 0.007216591853648424, 0.007216591853648424, 0.003608295926824212, 0.18551155924797058, 0.5565347075462341, 0.18551155924797058, 0.9269390106201172, 0.2929055094718933, 0.14645275473594666, 0.14645275473594666, 0.14645275473594666, 0.14645275473594666, 0.7754151821136475, 0.008011541329324245, 0.0020028853323310614, 0.25636932253837585, 0.4987184703350067, 0.21631161868572235, 0.01402019802480936, 0.2757720649242401, 0.3151680529117584, 0.3808280825614929, 0.0065660011023283005, 0.013132002204656601, 0.31838682293891907, 0.19103208184242249, 0.11049894988536835, 0.0936431810259819, 0.05805877223610878, 0.09926176816225052, 0.07678740471601486, 0.007491454482078552, 0.011237181723117828, 0.005618590861558914, 0.003745727241039276, 0.013110045343637466, 0.003745727241039276, 0.007491454482078552, 0.001872863620519638, 0.26511049270629883, 0.21208840608596802, 0.5302209854125977, 0.32360392808914185, 0.32360392808914185, 0.16180196404457092, 0.16180196404457092, 0.5811368823051453, 0.10698754340410233, 0.09482987225055695, 0.109419085085392, 0.014589210972189903, 0.029178421944379807, 0.01702074520289898, 0.009726140648126602, 0.009726140648126602, 0.007294605486094952, 0.014589210972189903, 0.004863070324063301, 0.0024315351620316505, 0.3057623505592346, 0.25398004055023193, 0.2737066447734833, 0.027124080806970596, 0.039453208446502686, 0.03452155739068985, 0.027124080806970596, 0.004931651055812836, 0.004931651055812836, 0.004931651055812836, 0.0073974765837192535, 0.0073974765837192535, 0.002465825527906418, 0.002465825527906418, 0.4134223461151123, 0.17534254491329193, 0.21234144270420074, 0.06756318360567093, 0.03056429885327816, 0.022521061822772026, 0.038607534021139145, 0.011260530911386013, 0.004825941752642393, 0.00643458915874362, 0.004825941752642393, 0.00321729457937181, 0.00321729457937181, 0.001608647289685905, 0.00321729457937181, 0.5190904140472412, 0.206109419465065, 0.05190904065966606, 0.07481008768081665, 0.024427782744169235, 0.02595452032983303, 0.039695147424936295, 0.00763368234038353, 0.012213891372084618, 0.012213891372084618, 0.010687155649065971, 0.0030534728430211544, 0.004580209497362375, 0.004580209497362375, 0.0015267364215105772, 0.6679257154464722, 0.01712629944086075, 0.10275779664516449, 0.11988409608602524, 0.068505197763443, 0.9472805261611938, 0.508094847202301, 0.12702371180057526, 0.2540474236011505, 0.9782852530479431, 0.03331223502755165, 0.43305906653404236, 0.03331223502755165, 0.03331223502755165, 0.3331223726272583, 0.09993670880794525, 0.2782325744628906, 0.2782325744628906, 0.28666386008262634, 0.12646934390068054, 0.025293869897723198, 0.37387529015541077, 0.19408826529979706, 0.13892634212970734, 0.046989791095256805, 0.05311889573931694, 0.09806565195322037, 0.0286024808883667, 0.024516412988305092, 0.010215171612799168, 0.006129103247076273, 0.006129103247076273, 0.010215171612799168, 0.002043034415692091, 0.006129103247076273, 0.264320433139801, 0.2702825367450714, 0.1609770953655243, 0.009936857968568802, 0.05564640462398529, 0.07750749588012695, 0.09936857968568802, 0.029810573905706406, 0.011924229562282562, 0.0019873715937137604, 0.0019873715937137604, 0.009936857968568802, 0.0019873715937137604, 0.0019873715937137604, 0.0019873715937137604, 0.547247588634491, 0.18241585791110992, 0.18241585791110992, 0.4718310832977295, 0.27018260955810547, 0.07775987684726715, 0.030313171446323395, 0.04481077566742897, 0.027677243575453758, 0.018451495096087456, 0.028995206579566002, 0.010543711483478546, 0.006589819677174091, 0.0013179639354348183, 0.009225747548043728, 0.0013179639354348183, 0.0026359278708696365, 0.4559350609779358, 0.15197834372520447, 0.30395668745040894, 0.3040885031223297, 0.24327081441879272, 0.12163540720939636, 0.06081770360469818, 0.06081770360469818, 0.18245311081409454, 0.8586019277572632, 0.03434407711029053, 0.04808170720934868, 0.04121289402246475, 0.9199891090393066, 0.03833287954330444, 0.9264783263206482, 0.026470810174942017, 0.32216382026672363, 0.09475406259298325, 0.05685243755578995, 0.0379016250371933, 0.1516065001487732, 0.13265569508075714, 0.1516065001487732, 0.01895081251859665, 0.36925217509269714, 0.2461681216955185, 0.12308406084775925, 0.12308406084775925, 0.14291879534721375, 0.42875638604164124, 0.2858375906944275, 0.9098577499389648, 0.08760771155357361, 0.043803855776786804, 0.21901927888393402, 0.1314115673303604, 0.39423471689224243, 0.043803855776786804, 0.5008819699287415, 0.12522049248218536, 0.2504409849643707, 0.1852857768535614, 0.3705715537071228, 0.1852857768535614, 0.1852857768535614, 0.35219666361808777, 0.4402458071708679, 0.17609833180904388, 0.14103589951992035, 0.32236775755882263, 0.020147984847426414, 0.14103589951992035, 0.060443952679634094, 0.04029596969485283, 0.20147985219955444, 0.04029596969485283, 0.020147984847426414, 0.38753172755241394, 0.5167089700698853, 0.9535254240036011, 0.6745525598526001, 0.06132296100258827, 0.06132296100258827, 0.12264592200517654, 0.3505067825317383, 0.5257601737976074, 0.17979268729686737, 0.7191707491874695, 0.30024605989456177, 0.6004921197891235, 0.6691838502883911, 0.267673522233963, 0.11832784116268158, 0.7099670171737671, 0.10042726993560791, 0.20085453987121582, 0.10042726993560791, 0.30128180980682373, 0.20085453987121582, 0.26222071051597595, 0.13111035525798798, 0.5244414210319519, 0.38403311371803284, 0.19201655685901642, 0.19201655685901642, 0.254129558801651, 0.29043376445770264, 0.03630422055721283, 0.3630422055721283, 0.1940886676311493, 0.3881773352622986, 0.1940886676311493, 0.1940886676311493, 0.5789230465888977, 0.09262768924236298, 0.18525537848472595, 0.06947076320648193, 0.04631384462118149, 0.5393196940422058, 0.13482992351055145, 0.2696598470211029, 0.33030474185943604, 0.16515237092971802, 0.16515237092971802, 0.16515237092971802, 0.21180909872055054, 0.5295227766036987, 0.21180909872055054, 0.8571197986602783, 0.1640392541885376, 0.1640392541885376, 0.1093595027923584, 0.0546797513961792, 0.0546797513961792, 0.4374380111694336, 0.0546797513961792, 0.4429683983325958, 0.08053970336914062, 0.12080956250429153, 0.16107940673828125, 0.04026985168457031, 0.04026985168457031, 0.08053970336914062, 0.3982964754104614, 0.3982964754104614, 0.06010640040040016, 0.28550541400909424, 0.6311172246932983, 0.01502660010010004, 0.08271301537752151, 0.8271301984786987, 0.04135650768876076, 0.19607730209827423, 0.15201498568058014, 0.4185919761657715, 0.01432025246322155, 0.004406231455504894, 0.07049970328807831, 0.09142930060625076, 0.017624925822019577, 0.020929599180817604, 0.0033046735916286707, 0.007710905279964209, 0.0011015578638762236, 0.002203115727752447, 0.11186149716377258, 0.8669265508651733, 0.7411903738975525, 0.21176867187023163, 0.9671103358268738, 0.016892757266759872, 0.004223189316689968, 0.004223189316689968, 0.4195215702056885, 0.21699391305446625, 0.06590185314416885, 0.09965646266937256, 0.05143559351563454, 0.0642944946885109, 0.0032147245947271585, 0.02411043457686901, 0.006429449189454317, 0.011251536197960377, 0.01768098585307598, 0.014466260559856892, 0.00482208700850606, 0.13303007185459137, 0.26606014370918274, 0.5321202874183655, 0.15234293043613434, 0.43163830041885376, 0.21581915020942688, 0.012695244513452053, 0.038085732609033585, 0.0888667106628418, 0.012695244513452053, 0.025390489026904106, 0.21997195482254028, 0.20839448273181915, 0.1505071222782135, 0.05788735672831535, 0.02315494231879711, 0.08104229718446732, 0.1157747134566307, 0.011577471159398556, 0.011577471159398556, 0.04630988463759422, 0.02315494231879711, 0.011577471159398556, 0.03473241254687309, 0.5197239518165588, 0.15734760463237762, 0.08582597225904465, 0.09536218643188477, 0.02384054660797119, 0.019072437658905983, 0.019072437658905983, 0.014304328709840775, 0.004768109414726496, 0.03337676450610161, 0.014304328709840775, 0.004768109414726496, 0.004768109414726496, 0.32676711678504944, 0.27271541953086853, 0.14004305005073547, 0.0515948086977005, 0.07370686531066895, 0.027025852352380753, 0.029482746496796608, 0.03193964436650276, 0.012284478172659874, 0.007370686624199152, 0.014741373248398304, 0.004913791082799435, 0.004913791082799435, 0.0024568955413997173, 0.43594229221343994, 0.1265638917684555, 0.09843858331441879, 0.253127783536911, 0.014062655158340931, 0.056250620633363724, 0.9433573484420776, 0.4880959391593933, 0.15538634359836578, 0.1261371523141861, 0.10968447476625443, 0.021936895325779915, 0.021936895325779915, 0.023764969781041145, 0.016452671959996223, 0.010968447662889957, 0.007312298286706209, 0.0018280745716765523, 0.0036561491433531046, 0.010968447662889957, 0.0018280745716765523, 0.35227492451667786, 0.2791101336479187, 0.31975722312927246, 0.035227492451667786, 0.0054196142591536045, 0.7963650822639465, 0.32654184103012085, 0.16327092051506042, 0.32654184103012085, 0.33273327350616455, 0.2018910050392151, 0.19907720386981964, 0.0499451644718647, 0.0696418434381485, 0.040800273418426514, 0.05205552279949188, 0.016179418191313744, 0.006331076845526695, 0.006331076845526695, 0.005627624224871397, 0.004220718052238226, 0.010551795363426208, 0.0014069060562178493, 0.0028138121124356985, 0.27803096175193787, 0.27071434259414673, 0.07682434469461441, 0.03658302128314972, 0.047557927668094635, 0.06950774043798447, 0.1426737755537033, 0.03292471915483475, 0.0073166037909686565, 0.0073166037909686565, 0.0073166037909686565, 0.010974906384944916, 0.014633207581937313, 0.0036583018954843283, 0.1984391063451767, 0.037797924131155014, 0.0661463737487793, 0.6614636778831482, 0.009449481032788754, 0.018898962065577507, 0.6085872054100037, 0.12812362611293793, 0.12812362611293793, 0.03203090652823448, 0.03203090652823448, 0.03203090652823448, 0.2961338758468628, 0.3598588705062866, 0.20616914331912994, 0.048730891197919846, 0.026239709928631783, 0.011245589703321457, 0.007497060112655163, 0.007497060112655163, 0.014994120225310326, 0.022491179406642914, 0.0037485300563275814, 0.2706463932991028, 0.4776113033294678, 0.08915410935878754, 0.025472601875662804, 0.05094520375132561, 0.01751241460442543, 0.022288527339696884, 0.011144263669848442, 0.006368150468915701, 0.004776112735271454, 0.0031840752344578505, 0.012736300937831402, 0.009552225470542908, 0.8686643838882446, 0.017727844417095184, 0.03545568883419037, 0.03545568883419037, 0.017727844417095184, 0.19013364613056183, 0.7605345845222473, 0.3968775272369385, 0.1322925090789795, 0.264585018157959, 0.7666058540344238, 0.15332117676734924, 0.16983936727046967, 0.2830656170845032, 0.10190361738204956, 0.011322624050080776, 0.12454886734485626, 0.033967871218919754, 0.045290496200323105, 0.16983936727046967, 0.011322624050080776, 0.011322624050080776, 0.022645248100161552, 0.011322624050080776, 0.011322624050080776, 0.39511892199516296, 0.09877973049879074, 0.09877973049879074, 0.19755946099758148, 0.09877973049879074, 0.44617006182670593, 0.22438962757587433, 0.14872334897518158, 0.0443560890853405, 0.013045907951891422, 0.03391936048865318, 0.028700998052954674, 0.023482635617256165, 0.018264271318912506, 0.005218363367021084, 0.007827544584870338, 0.002609181683510542, 0.002609181683510542, 0.4972057044506073, 0.23658858239650726, 0.08687236905097961, 0.046208709478378296, 0.036966968327760696, 0.02033183164894581, 0.03511861711740494, 0.014786786399781704, 0.009241742081940174, 0.003696696599945426, 0.003696696599945426, 0.003696696599945426, 0.003696696599945426, 0.001848348299972713, 0.43250778317451477, 0.10812694579362869, 0.3243808448314667, 0.10812694579362869, 0.20361019670963287, 0.7635382413864136, 0.26812905073165894, 0.30105718970298767, 0.0940803736448288, 0.02587210200726986, 0.06585625559091568, 0.05174420401453972, 0.12700849771499634, 0.03998415544629097, 0.002352009294554591, 0.01646406389772892, 0.009408037178218365, 0.16589635610580444, 0.4976890981197357, 0.16589635610580444, 0.16589635610580444, 0.6051074266433716, 0.11965401470661163, 0.05469897761940956, 0.039314888417720795, 0.07008306682109833, 0.023930802941322327, 0.030768174678087234, 0.01709343120455742, 0.006837372202426195, 0.011965401470661163, 0.0034186861012130976, 0.00854671560227871, 0.006837372202426195, 0.0017093430506065488, 0.7235037684440613, 0.038759130984544754, 0.04198905825614929, 0.11627739667892456, 0.012919710017740726, 0.022609492763876915, 0.009689782746136189, 0.012919710017740726, 0.009689782746136189, 0.0032299275044351816, 0.006459855008870363, 0.0032299275044351816, 0.5783579349517822, 0.06777632236480713, 0.10618291050195694, 0.10317062586545944, 0.05045570805668831, 0.032382022589445114, 0.01581447571516037, 0.0022592106834053993, 0.01430833525955677, 0.010542984120547771, 0.007530702743679285, 0.0007530702860094607, 0.004518421366810799, 0.0015061405720189214, 0.0030122811440378428, 0.5839611291885376, 0.1291949450969696, 0.046510178595781326, 0.08785255998373032, 0.02583898790180683, 0.020671190693974495, 0.015503393486142159, 0.005167797673493624, 0.03617458418011665, 0.010335595346987247, 0.010335595346987247, 0.010335595346987247, 0.010335595346987247, 0.2771258056163788, 0.0923752710223198, 0.0923752710223198, 0.1847505420446396, 0.0923752710223198, 0.1847505420446396, 0.35689374804496765, 0.1019696444272995, 0.3059089481830597, 0.1019696444272995, 0.1019696444272995, 0.41126498579978943, 0.1409718543291092, 0.1264086365699768, 0.13980679214000702, 0.05708777531981468, 0.05067996308207512, 0.027961358428001404, 0.010485509410500526, 0.009902981109917164, 0.006407811306416988, 0.005242754705250263, 0.0034951698035001755, 0.0075728679075837135, 0.0017475849017500877, 0.0005825283005833626, 0.5841667652130127, 0.1366196572780609, 0.0659543126821518, 0.02355511300265789, 0.04711022600531578, 0.014133067801594734, 0.018844090402126312, 0.05182124674320221, 0.009422045201063156, 0.014133067801594734, 0.004711022600531578, 0.009422045201063156, 0.004711022600531578, 0.014133067801594734, 0.004711022600531578, 0.48927298188209534, 0.20968841016292572, 0.046597424894571304, 0.029123391956090927, 0.046597424894571304, 0.029123391956090927, 0.07572081685066223, 0.011649356223642826, 0.017474034801125526, 0.04077274724841118, 0.5398806929588318, 0.04319045692682266, 0.010797614231705666, 0.17276182770729065, 0.08638091385364532, 0.05398806929588318, 0.08638091385364532, 0.8199684619903564, 0.0066126491874456406, 0.0727391391992569, 0.06612648814916611, 0.0066126491874456406, 0.013225298374891281, 0.013225298374891281, 0.48072534799575806, 0.2884351909160614, 0.09614507108926773, 0.9197527170181274, 0.027051551267504692, 0.027051551267504692, 0.5138046145439148, 0.17903706431388855, 0.1069984883069992, 0.06250406801700592, 0.022247210144996643, 0.04237563908100128, 0.03601929172873497, 0.007415736559778452, 0.006356345489621162, 0.01059390977025032, 0.004237563814967871, 0.0021187819074839354, 0.00529695488512516, 0.0010593909537419677, 0.5847683548927307, 0.01169536728411913, 0.14034439623355865, 0.1520397663116455, 0.10525830090045929, 0.8485144972801208, 0.12121634930372238, 0.4928784668445587, 0.13215984404087067, 0.17724967002868652, 0.08396036922931671, 0.029541611671447754, 0.041980184614658356, 0.017103038728237152, 0.0015548216179013252, 0.006219286471605301, 0.004664464853703976, 0.004664464853703976, 0.0031096432358026505, 0.004664464853703976, 0.0031096432358026505, 0.5623010396957397, 0.15013578534126282, 0.13030652701854706, 0.08073339611291885, 0.01841288059949875, 0.01982925459742546, 0.01416375394910574, 0.001416375394910574, 0.004249126184731722, 0.004249126184731722, 0.005665501579642296, 0.002832750789821148, 0.002832750789821148, 0.001416375394910574, 0.001416375394910574, 0.5357460975646973, 0.09062371402978897, 0.16258960962295532, 0.10128533095121384, 0.037315648049116135, 0.021323226392269135, 0.01599241979420185, 0.007996209897100925, 0.005330806598067284, 0.005330806598067284, 0.007996209897100925, 0.002665403299033642, 0.005330806598067284, 0.002665403299033642, 0.40363988280296326, 0.19388815760612488, 0.1145702674984932, 0.03701500967144966, 0.05287858843803406, 0.05287858843803406, 0.09694407880306244, 0.008813098073005676, 0.024676673114299774, 0.0017626195913180709, 0.0070504783652722836, 0.0017626195913180709, 0.0035252391826361418, 0.0017626195913180709, 0.638738751411438, 0.25549551844596863, 0.7702069282531738, 0.056356605142354965, 0.1502842754125595, 0.01878553442656994, 0.9125751852989197, 0.05530758574604988, 0.01382689643651247, 0.8236042857170105, 0.13726738095283508, 0.2869894206523895, 0.46602869033813477, 0.021063445135951042, 0.1632416993379593, 0.0026329306419938803, 0.0026329306419938803, 0.01316465251147747, 0.010531722567975521, 0.0052658612839877605, 0.028962235897779465, 0.27342158555984497, 0.05592713877558708, 0.1802096664905548, 0.4598453640937805, 0.006214126478880644, 0.012428252957761288, 0.6143412590026855, 0.002437862101942301, 0.33642497658729553, 0.002437862101942301, 0.004875724203884602, 0.024378621950745583, 0.007313586305826902, 0.002437862101942301, 0.505003035068512, 0.47188806533813477, 0.008278737775981426, 0.008278737775981426, 0.9082252383232117, 0.08256593346595764, 0.8735460042953491, 0.4057910144329071, 0.27052733302116394, 0.04508788883686066, 0.15029296278953552, 0.015029297210276127, 0.015029297210276127, 0.09017577767372131, 0.3604559600353241, 0.19194558262825012, 0.0970887541770935, 0.046870432794094086, 0.1294516772031784, 0.053566209971904755, 0.0546821728348732, 0.010043664835393429, 0.014507515355944633, 0.011159626767039299, 0.003347888123244047, 0.023435216397047043, 0.002231925493106246, 0.001115962746553123, 0.001115962746553123, 0.23061931133270264, 0.6259667277336121, 0.09883684664964676, 0.935858964920044, 0.9574567675590515, 0.001724486704915762, 0.9657125473022461, 0.005173460114747286, 0.008622433990240097, 0.001724486704915762, 0.005173460114747286, 0.006897946819663048, 0.003448973409831524, 0.7474382519721985, 0.1019233986735344, 0.1019233986735344, 0.1757078766822815, 0.389851838350296, 0.027454355731606483, 0.07138132303953171, 0.06589045375585556, 0.1537443846464157, 0.05490871146321297, 0.005490871146321297, 0.005490871146321297, 0.005490871146321297, 0.03843609616160393, 0.010981742292642593, 0.26262134313583374, 0.2708282470703125, 0.1805521696805954, 0.012310374528169632, 0.10668991506099701, 0.020517291501164436, 0.024620749056339264, 0.09437954425811768, 0.008206916972994804, 0.012310374528169632, 0.008206916972994804, 0.004103458486497402, 0.24001742899417877, 0.12500907480716705, 0.14001016318798065, 0.010000726208090782, 0.2050148844718933, 0.04000290483236313, 0.13500981032848358, 0.05000363290309906, 0.015001089312136173, 0.005000363104045391, 0.015001089312136173, 0.015001089312136173, 0.12202243506908417, 0.8053480982780457, 0.04880897328257561, 0.15141624212265015, 0.37854060530662537, 0.37854060530662537, 0.6558883190155029, 0.20078213512897491, 0.03346369042992592, 0.013385475613176823, 0.006692737806588411, 0.04015642777085304, 0.013385475613176823, 0.013385475613176823, 0.013385475613176823, 0.013385475613176823, 0.4394840598106384, 0.40432533621788025, 0.03515872359275818, 0.01757936179637909, 0.08789681643247604, 0.5580949187278748, 0.1395237296819687, 0.2790474593639374, 0.11929109692573547, 0.4771643877029419, 0.23858219385147095, 0.11929109692573547, 0.8238824605941772, 0.1647764891386032, 0.4620744585990906, 0.15402480959892273, 0.15402480959892273, 0.05134160444140434, 0.10268320888280869, 0.496461421251297, 0.330974280834198, 0.5597022175788879, 0.07749723643064499, 0.07749723643064499, 0.13777285814285278, 0.051664821803569794, 0.034443214535713196, 0.025832410901784897, 0.008610803633928299, 0.008610803633928299, 0.017221607267856598, 0.047494035214185715, 0.047494035214185715, 0.14248211681842804, 0.23747017979621887, 0.047494035214185715, 0.18997614085674286, 0.18997614085674286, 0.047494035214185715, 0.047494035214185715, 0.9407427310943604, 0.009502451866865158, 0.019004903733730316, 0.019004903733730316, 0.9343732595443726, 0.3567078411579132, 0.0891769602894783, 0.3567078411579132, 0.1783539205789566, 0.11835968494415283, 0.5917984247207642, 0.23671936988830566, 0.4328994154930115, 0.20862622559070587, 0.10257456451654434, 0.03824814036488533, 0.0904046967625618, 0.0452023483812809, 0.0452023483812809, 0.0069542075507342815, 0.0069542075507342815, 0.0069542075507342815, 0.005215655546635389, 0.0017385518876835704, 0.0069542075507342815, 0.0017385518876835704, 0.0017385518876835704, 0.189836323261261, 0.189836323261261, 0.189836323261261, 0.379672646522522, 0.0962337851524353, 0.1924675703048706, 0.5774027109146118, 0.13195398449897766, 0.2731911838054657, 0.3282272517681122, 0.05105757340788841, 0.06896087527275085, 0.0822225883603096, 0.03646969422698021, 0.0026523414999246597, 0.00397851224988699, 0.009283195249736309, 0.007293939124792814, 0.0033154268749058247, 0.0006630853749811649, 0.7361846566200256, 0.1840461641550064, 0.28962215781211853, 0.28962215781211853, 0.14481107890605927, 0.40027913451194763, 0.48033493757247925, 0.40266573429107666, 0.12155947089195251, 0.15194933116436005, 0.053182266652584076, 0.03038986772298813, 0.06077973544597626, 0.1291569322347641, 0.007597466930747032, 0.015194933861494064, 0.007597466930747032, 0.007597466930747032, 0.007597466930747032, 0.007597466930747032, 0.774872362613678, 0.15497446060180664, 0.5215648412704468, 0.44755902886390686, 0.0035240869037806988, 0.0070481738075613976, 0.010572261177003384, 0.8960129618644714, 0.01280018500983715, 0.0768011063337326, 0.01280018500983715, 0.8644570112228394, 0.03601904213428497, 0.07203808426856995, 0.7958557605743408, 0.0994819700717926, 0.3501751720905304, 0.25236088037490845, 0.19758488237857819, 0.052819717675447464, 0.025431716814637184, 0.033256858587265015, 0.044994574040174484, 0.00782514363527298, 0.00391257181763649, 0.013694001361727715, 0.005868857726454735, 0.00391257181763649, 0.001956285908818245, 0.001956285908818245, 0.20208145678043365, 0.46553581953048706, 0.1062798798084259, 0.0553852878510952, 0.016465896740555763, 0.016465896740555763, 0.026944193989038467, 0.07334808260202408, 0.011975198052823544, 0.004490699153393507, 0.004490699153393507, 0.005987599026411772, 0.010478298179805279, 0.19922997057437897, 0.37632328271865845, 0.08854664862155914, 0.04427332431077957, 0.06640999019145966, 0.04427332431077957, 0.04427332431077957, 0.022136662155389786, 0.08854664862155914, 0.19298462569713593, 0.19298462569713593, 0.19298462569713593, 0.19298462569713593, 0.6229799389839172, 0.1557449847459793, 0.1557449847459793, 0.5774345993995667, 0.2887172996997833, 0.823368489742279, 0.1510138362646103, 0.7550691366195679, 0.5416980981826782, 0.125751331448555, 0.06771226227283478, 0.10318058729171753, 0.038692720234394073, 0.03224393352866173, 0.02257075347006321, 0.009673180058598518, 0.006448786705732346, 0.016121966764330864, 0.006448786705732346, 0.009673180058598518, 0.009673180058598518, 0.009673180058598518, 0.9357458353042603, 0.19360212981700897, 0.746751070022583, 0.02765744738280773, 0.5488664507865906, 0.14618051052093506, 0.14618051052093506, 0.0634368285536766, 0.019306860864162445, 0.0137906139716506, 0.01654873788356781, 0.005516245495527983, 0.008274368941783905, 0.005516245495527983, 0.01654873788356781, 0.005516245495527983, 0.0027581227477639914, 0.0027581227477639914, 0.6936326026916504, 0.0867040753364563, 0.1734081506729126, 0.12131946533918381, 0.12131946533918381, 0.48527786135673523, 0.12131946533918381, 0.4035230576992035, 0.269015371799469, 0.269015371799469, 0.8692303895950317, 0.026745550334453583, 0.06686387956142426, 0.013372775167226791, 0.013372775167226791, 0.14383594691753387, 0.14383594691753387, 0.4890422224998474, 0.019178126007318497, 0.03835625201463699, 0.03835625201463699, 0.07671250402927399, 0.019178126007318497, 0.019178126007318497, 0.009589063003659248, 0.04218912869691849, 0.1898510754108429, 0.4429858326911926, 0.04218912869691849, 0.10547281801700592, 0.1476619392633438, 0.5454258918762207, 0.07791797816753387, 0.07791797816753387, 0.15583595633506775, 0.07791797816753387, 0.7209523916244507, 0.07177623361349106, 0.06699115037918091, 0.054230932146310806, 0.009570164605975151, 0.011165191419422626, 0.023925410583615303, 0.003190054791048169, 0.007975136861205101, 0.009570164605975151, 0.009570164605975151, 0.0015950273955240846, 0.006380109582096338, 0.003190054791048169, 0.0015950273955240846, 0.5789244771003723, 0.36665216088294983, 0.019297482445836067, 0.3754917085170746, 0.1877458542585373, 0.1877458542585373, 0.1877458542585373, 0.13349197804927826, 0.13349197804927826, 0.6674599051475525, 0.24749505519866943, 0.1455853283405304, 0.354864239692688, 0.04003596678376198, 0.0818917453289032, 0.05277468264102936, 0.03093688189983368, 0.01637834869325161, 0.01455853320658207, 0.0018198166508227587, 0.0018198166508227587, 0.0036396333016455173, 0.005459449719637632, 0.0018198166508227587, 0.0018198166508227587, 0.5774021744728088, 0.06485313922166824, 0.10250980406999588, 0.06903721392154694, 0.0585770308971405, 0.046024810522794724, 0.016736295074224472, 0.010460183955729008, 0.02928851544857025, 0.002092036884278059, 0.006276110652834177, 0.002092036884278059, 0.014644257724285126, 0.002092036884278059, 0.6449913382530212, 0.0716657042503357, 0.0716657042503357, 0.1433314085006714, 0.9443896412849426, 0.0325651615858078, 0.8951833844184875, 0.7419515252113342, 0.18548788130283356, 0.5382840037345886, 0.053828395903110504, 0.053828395903110504, 0.21531358361244202, 0.053828395903110504, 0.3520120680332184, 0.5280181169509888, 0.23805178701877594, 0.19713664054870605, 0.1339041292667389, 0.07811074703931808, 0.16366060078144073, 0.06323250383138657, 0.0743911862373352, 0.003719559172168374, 0.0185977965593338, 0.007439118344336748, 0.007439118344336748, 0.007439118344336748, 0.003719559172168374, 0.7523996829986572, 0.1880999207496643, 0.20143911242485046, 0.2517988979816437, 0.050359778106212616, 0.15107934176921844, 0.15107934176921844, 0.10071955621242523, 0.050359778106212616, 0.050359778106212616, 0.3195735812187195, 0.15978679060935974, 0.15978679060935974, 0.3195735812187195, 0.050158366560935974, 0.8526922464370728, 0.10031673312187195, 0.8237265944480896, 0.1267271786928177, 0.03801815211772919, 0.8987796306610107, 0.44493719935417175, 0.0967254787683487, 0.03869019076228142, 0.21279604732990265, 0.03869019076228142, 0.03869019076228142, 0.03869019076228142, 0.0967254787683487, 0.10062701255083084, 0.41927921772003174, 0.11739818006753922, 0.251567542552948, 0.08385584503412247, 0.19601048529148102, 0.19601048529148102, 0.39202097058296204, 0.06729017198085785, 0.8243045806884766, 0.08411271125078201, 0.016822542995214462, 0.5412346124649048, 0.07465305179357529, 0.055989786982536316, 0.11197957396507263, 0.130642831325531, 0.03732652589678764, 0.01866326294839382, 0.9107915163040161, 0.4561355412006378, 0.5050072073936462, 0.00543018477037549, 0.02172073908150196, 0.00543018477037549, 0.6076256036758423, 0.28979068994522095, 0.07478469610214233, 0.009348087012767792, 0.6534807085990906, 0.29873403906822205, 0.018670877441763878, 0.018670877441763878, 0.6250964999198914, 0.15627412497997284, 0.15627412497997284, 0.8200170993804932, 0.28538456559181213, 0.21106566488742828, 0.17539258301258087, 0.056482359766960144, 0.15458330512046814, 0.05053684860467911, 0.01783653534948826, 0.005945511627942324, 0.020809290930628777, 0.005945511627942324, 0.005945511627942324, 0.002972755813971162, 0.002972755813971162, 0.002972755813971162, 0.002972755813971162, 0.5107507109642029, 0.18334640562534332, 0.2750196158885956, 0.02619234286248684, 0.7468794584274292, 0.1867198646068573, 0.9526011347770691, 0.3474929928779602, 0.1737464964389801, 0.3474929928779602, 0.1737464964389801, 0.18520395457744598, 0.5556118488311768, 0.18520395457744598, 0.24651813507080078, 0.647110104560852, 0.030814766883850098, 0.030814766883850098, 0.5752172470092773, 0.023008689284324646, 0.20707820355892181, 0.023008689284324646, 0.04601737856864929, 0.11504344642162323, 0.15934498608112335, 0.7967249155044556, 0.6363986730575562, 0.3181993365287781, 0.8165033459663391, 0.40438970923423767, 0.2081417590379715, 0.10704433917999268, 0.05352216958999634, 0.07136289030313492, 0.02973453886806965, 0.06145137920975685, 0.013876117765903473, 0.015858421102166176, 0.015858421102166176, 0.001982302637770772, 0.007929210551083088, 0.003964605275541544, 0.003964605275541544, 0.001982302637770772, 0.11938519030809402, 0.7163111567497253, 0.11938519030809402, 0.17965185642242432, 0.35930371284484863, 0.35930371284484863, 0.5347492098808289, 0.012436028569936752, 0.4476970434188843, 0.37474220991134644, 0.18737110495567322, 0.37474220991134644, 0.25735872983932495, 0.15756656229496002, 0.15494045615196228, 0.049896080046892166, 0.10241826623678207, 0.1496882438659668, 0.047269970178604126, 0.010504437610507011, 0.036765530705451965, 0.002626109402626753, 0.015756657347083092, 0.010504437610507011, 0.002626109402626753, 0.2803666293621063, 0.14018331468105316, 0.2803666293621063, 0.2803666293621063, 0.13886067271232605, 0.14954225718975067, 0.18158704042434692, 0.01068159006536007, 0.01068159006536007, 0.06408954411745071, 0.3311293125152588, 0.02136318013072014, 0.053407952189445496, 0.03204477205872536, 0.9373266696929932, 0.03749306499958038, 0.1400385946035385, 0.280077189207077, 0.280077189207077, 0.1400385946035385, 0.266548216342926, 0.266548216342926, 0.08884941041469574, 0.266548216342926, 0.7054280042648315, 0.14108560979366302, 0.4244588613510132, 0.0909554660320282, 0.2122294306755066, 0.0909554660320282, 0.03031848929822445, 0.03031848929822445, 0.03031848929822445, 0.0909554660320282, 0.6070513129234314, 0.1011752188205719, 0.2023504376411438, 0.381797730922699, 0.1908988654613495, 0.381797730922699, 0.32847604155540466, 0.21411772072315216, 0.1508556753396988, 0.06082889810204506, 0.043796807527542114, 0.04136365279555321, 0.08516045659780502, 0.038930494338274, 0.0097326235845685, 0.007299467921257019, 0.012165780179202557, 0.002433155896142125, 0.002433155896142125, 0.6777969598770142, 0.27111878991127014, 0.18944285809993744, 0.18944285809993744, 0.5683285593986511, 0.3285274803638458, 0.28846314549446106, 0.04807719215750694, 0.032051462680101395, 0.08012865483760834, 0.016025731340050697, 0.09615438431501389, 0.008012865670025349, 0.02403859607875347, 0.016025731340050697, 0.04807719215750694, 0.44656893610954285, 0.11164223402738571, 0.33492669463157654, 0.13818445801734924, 0.2763689160346985, 0.2763689160346985, 0.2763689160346985, 0.16824042797088623, 0.4626612067222595, 0.12618032097816467, 0.04206010699272156, 0.04206010699272156, 0.12618032097816467, 0.04206010699272156, 0.31744644045829773, 0.4040227234363556, 0.028858765959739685, 0.028858765959739685, 0.028858765959739685, 0.028858765959739685, 0.028858765959739685, 0.11543506383895874, 0.9102230072021484, 0.1523144692182541, 0.3046289384365082, 0.1523144692182541, 0.3046289384365082, 0.5059376955032349, 0.33729177713394165, 0.16864588856697083, 0.11616713553667068, 0.23233427107334137, 0.46466854214668274, 0.11616713553667068, 0.40169963240623474, 0.13389988243579865, 0.022316645830869675, 0.04463329166173935, 0.06694994121789932, 0.06694994121789932, 0.022316645830869675, 0.11158323287963867, 0.022316645830869675, 0.06694994121789932, 0.04463329166173935, 0.12409361451864243, 0.18614041805267334, 0.24818722903728485, 0.06204680725932121, 0.06204680725932121, 0.06204680725932121, 0.18614041805267334, 0.06204680725932121, 0.07551844418048859, 0.30207377672195435, 0.4531106650829315, 0.07551844418048859, 0.4296910762786865, 0.21484553813934326, 0.10742276906967163, 0.21484553813934326, 0.16032792627811432, 0.8016396164894104, 0.032065585255622864, 0.406624972820282, 0.2710833251476288, 0.1355416625738144, 0.11095718294382095, 0.8401044011116028, 0.01585102640092373, 0.03170205280184746, 0.10705233365297318, 0.6423140168190002, 0.21410466730594635, 0.6307542324066162, 0.3153771162033081, 0.4088743329048157, 0.2102782279253006, 0.28037095069885254, 0.07009273767471313, 0.023364247754216194, 0.8034537434577942, 0.039192862808704376, 0.07838572561740875, 0.019596431404352188, 0.019596431404352188, 0.039192862808704376, 0.8737207651138306, 0.19752785563468933, 0.39505571126937866, 0.19752785563468933, 0.19752785563468933, 0.335758239030838, 0.167879119515419, 0.167879119515419, 0.167879119515419, 0.6551201939582825, 0.1191127672791481, 0.05955638363957405, 0.05955638363957405, 0.05955638363957405, 0.029778191819787025, 0.20876222848892212, 0.10438111424446106, 0.5219055414199829, 0.319626122713089, 0.1598130613565445, 0.1598130613565445, 0.1598130613565445, 0.4296053946018219, 0.0468660444021225, 0.4842824637889862, 0.02343302220106125, 0.007811007555574179, 0.8926674127578735, 0.06841929256916046, 0.27367717027664185, 0.20525789260864258, 0.06841929256916046, 0.27367717027664185, 0.1853400021791458, 0.5560200214385986, 0.1853400021791458, 0.040092647075653076, 0.12027793377637863, 0.08018529415130615, 0.040092647075653076, 0.040092647075653076, 0.20046323537826538, 0.44101911783218384, 0.040092647075653076, 0.42245161533355713, 0.14081719517707825, 0.2816343903541565, 0.17032189667224884, 0.49548184871673584, 0.06193523108959198, 0.015483807772397995, 0.015483807772397995, 0.03096761554479599, 0.03096761554479599, 0.015483807772397995, 0.03096761554479599, 0.015483807772397995, 0.07741904258728027, 0.015483807772397995, 0.551708459854126, 0.1451864242553711, 0.11614914238452911, 0.08711186051368713, 0.02903728559613228, 0.02903728559613228, 0.11803224682807922, 0.43758296966552734, 0.21879148483276367, 0.023030681535601616, 0.057576704770326614, 0.04030369222164154, 0.05181903392076492, 0.028788352385163307, 0.005757670383900404, 0.002878835191950202, 0.002878835191950202, 0.011515340767800808, 0.002878835191950202, 0.002878835191950202, 0.21665610373020172, 0.21665610373020172, 0.21665610373020172, 0.3100068271160126, 0.05166780576109886, 0.05166780576109886, 0.5166780352592468, 0.31201043725013733, 0.10400348156690598, 0.4160139262676239, 0.5591651201248169, 0.18638837337493896, 0.330611914396286, 0.330611914396286, 0.165305957198143, 0.6179052591323853, 0.3089526295661926, 0.6455261707305908, 0.18443603813648224, 0.09221801906824112, 0.3808436095714569, 0.5331810116767883, 0.0761687234044075, 0.7207643389701843, 0.24025477468967438, 0.8827921152114868, 0.016976771876215935, 0.050930313766002655, 0.016976771876215935, 0.016976771876215935, 0.8379996418952942, 0.11971423029899597, 0.30187752842903137, 0.15093876421451569, 0.45281627774238586, 0.06624598801136017, 0.092744380235672, 0.17223955690860748, 0.3047315180301666, 0.013249197043478489, 0.2649839520454407, 0.026498394086956978, 0.06624598801136017, 0.818340003490448, 0.1405230313539505, 0.01653212122619152, 0.0027553534600883722, 0.00826606061309576, 0.0055107069201767445, 0.0055107069201767445, 0.40538883209228516, 0.22122327983379364, 0.2043788582086563, 0.09882054477930069, 0.021336255595088005, 0.006737764459103346, 0.012352568097412586, 0.006737764459103346, 0.007860725745558739, 0.004491843283176422, 0.004491843283176422, 0.0011229608207941055, 0.003368882229551673, 0.0011229608207941055, 0.0011229608207941055, 0.7509883046150208, 0.059400204569101334, 0.03394297510385513, 0.10607179254293442, 0.016971487551927567, 0.008485743775963783, 0.004242871887981892, 0.004242871887981892, 0.012728615663945675, 0.5973711609840393, 0.19912372529506683, 0.19912372529506683, 0.8842297792434692, 0.07859820127487183, 0.56836998462677, 0.18945665657520294, 0.18945665657520294, 0.8835917711257935, 0.08032651990652084, 0.013387753628194332, 0.013387753628194332, 0.42385298013687134, 0.26972463726997375, 0.038532089442014694, 0.038532089442014694, 0.11559627205133438, 0.038532089442014694, 0.038532089442014694, 0.3378523588180542, 0.1689261794090271, 0.1689261794090271, 0.1689261794090271, 0.6712175011634827, 0.1258532851934433, 0.08390218764543533, 0.04195109382271767, 0.04195109382271767, 0.8731255531311035, 0.5558416843414307, 0.3705611228942871, 0.4198351800441742, 0.13994506001472473, 0.13994506001472473, 0.27989012002944946, 0.5167059302330017, 0.17223531007766724, 0.17223531007766724, 0.5031697154045105, 0.20537540316581726, 0.12450883537530899, 0.03465709835290909, 0.029522715136408806, 0.015403155237436295, 0.03722429275512695, 0.010268770158290863, 0.008985173888504505, 0.0051343850791454315, 0.011552366428077221, 0.0012835962697863579, 0.011552366428077221, 0.0012835962697863579, 0.15837813913822174, 0.7390979528427124, 0.20102053880691528, 0.20102053880691528, 0.20102053880691528, 0.20102053880691528, 0.44274628162384033, 0.14758209884166718, 0.14758209884166718, 0.14758209884166718, 0.9414704442024231, 0.6425842046737671, 0.0040414100512862206, 0.020207051187753677, 0.23440179228782654, 0.03637269139289856, 0.008082820102572441, 0.024248460307717323, 0.012124230153858662, 0.016165640205144882, 0.15472343564033508, 0.07736171782016754, 0.07736171782016754, 0.46417033672332764, 0.07736171782016754, 0.07736171782016754, 0.20341700315475464, 0.20341700315475464, 0.20341700315475464, 0.20341700315475464, 0.20341700315475464, 0.39211103320121765, 0.19605551660060883, 0.39211103320121765, 0.9473152160644531, 0.9188463687896729, 0.041765742003917694, 0.35879820585250854, 0.14351928234100342, 0.35879820585250854, 0.07175964117050171, 0.4547642767429352, 0.4547642767429352, 0.39405637979507446, 0.21046192944049835, 0.10746992379426956, 0.10523096472024918, 0.04925704747438431, 0.038062263280153275, 0.04030122235417366, 0.013433740474283695, 0.006716870237141848, 0.006716870237141848, 0.002238956745713949, 0.006716870237141848, 0.013433740474283695, 0.002238956745713949, 0.8645640015602112, 0.4238829016685486, 0.14129430055618286, 0.05072103068232536, 0.08695033937692642, 0.10868792235851288, 0.04709810018539429, 0.0760815441608429, 0.014491722919046879, 0.028983445838093758, 0.010868792422115803, 0.0036229307297617197, 0.0036229307297617197, 0.9532182812690735, 0.5126506686210632, 0.2728624641895294, 0.09095415472984314, 0.04134279862046242, 0.016537118703126907, 0.02480567805469036, 0.008268559351563454, 0.016537118703126907, 0.016537118703126907, 0.5327032208442688, 0.3551355004310608, 0.5179082155227661, 0.08631803840398788, 0.08631803840398788, 0.17263607680797577, 0.08631803840398788, 0.33527809381484985, 0.19703030586242676, 0.23621866106987, 0.047896869480609894, 0.05225113406777382, 0.05551682785153389, 0.034834086894989014, 0.013062783516943455, 0.008708521723747253, 0.0010885652154684067, 0.004354260861873627, 0.008708521723747253, 0.0010885652154684067, 0.0032656958792358637, 0.0032656958792358637, 0.08328692615032196, 0.2220984846353531, 0.1943361759185791, 0.30538541078567505, 0.13881154358386993, 0.05552462115883827, 0.5354433655738831, 0.11640073359012604, 0.11640073359012604, 0.11640073359012604, 0.03492021933197975, 0.011640073731541634, 0.023280147463083267, 0.011640073731541634, 0.023280147463083267, 0.621508777141571, 0.15537719428539276, 0.6887590289115906, 0.059892091900110245, 0.11978418380022049, 0.029946045950055122, 0.029946045950055122, 0.029946045950055122, 0.029946045950055122, 0.7719516158103943, 0.15439032018184662, 0.31298691034317017, 0.24531406164169312, 0.3096032738685608, 0.0033836422953754663, 0.057521916925907135, 0.0033836422953754663, 0.005075463559478521, 0.006767284590750933, 0.03214460238814354, 0.0016918211476877332, 0.013534569181501865, 0.005075463559478521, 0.0033836422953754663, 0.06855929642915726, 0.7508079409599304, 0.03846009448170662, 0.001672178041189909, 0.025082670152187347, 0.010033068247139454, 0.05852622911334038, 0.03511573746800423, 0.005016534123569727, 0.001672178041189909, 0.006688712164759636, 0.001672178041189909, 0.18553657829761505, 0.551152765750885, 0.027284791693091393, 0.016370873898267746, 0.04365566745400429, 0.005456958431750536, 0.03274174779653549, 0.049112625420093536, 0.060026541352272034, 0.005456958431750536, 0.021827833727002144, 0.46165043115615845, 0.15388347208499908, 0.30776694416999817, 0.41083720326423645, 0.20541860163211823, 0.20541860163211823, 0.10270930081605911, 0.959122896194458, 0.02767120860517025, 0.036894943565130234, 0.5626478791236877, 0.15680351853370667, 0.12913230061531067, 0.04611868038773537, 0.018447471782565117, 0.02767120860517025, 0.42940452694892883, 0.446580708026886, 0.10305708646774292, 0.3751707673072815, 0.18758538365364075, 0.18758538365364075, 0.5770313143730164, 0.19234377145767212, 0.19234377145767212, 0.25800931453704834, 0.3295581042766571, 0.19513309001922607, 0.032522182911634445, 0.031438108533620834, 0.05962400138378143, 0.04553105682134628, 0.024933673441410065, 0.004336290992796421, 0.0021681454963982105, 0.003252218244597316, 0.007588509004563093, 0.0010840727481991053, 0.003252218244597316, 0.0021681454963982105, 0.9625917673110962, 0.035651545971632004, 0.06740596145391464, 0.20221789181232452, 0.20221789181232452, 0.06740596145391464, 0.06740596145391464, 0.13481192290782928, 0.20221789181232452, 0.37128785252571106, 0.18564392626285553, 0.18564392626285553, 0.549186646938324, 0.18306222558021545, 0.18306222558021545, 0.36467763781547546, 0.36467763781547546, 0.18233881890773773, 0.8043899536132812, 0.040728602558374405, 0.005091075319796801, 0.09163936227560043, 0.005091075319796801, 0.010182150639593601, 0.03054645285010338, 0.010182150639593601, 0.5041711330413818, 0.12604278326034546, 0.2520855665206909, 0.6005820035934448, 0.08579742908477783, 0.2573922872543335, 0.15867604315280914, 0.15867604315280914, 0.15867604315280914, 0.3173520863056183, 0.15867604315280914, 0.1364806890487671, 0.5459227561950684, 0.1364806890487671, 0.9548134207725525, 0.02512666955590248, 0.9177355766296387, 0.03164605423808098, 0.5633857846260071, 0.28169289231300354, 0.7065641283988953, 0.9353700280189514, 0.6691557765007019, 0.04888809472322464, 0.030555058270692825, 0.17721934616565704, 0.021388541907072067, 0.009166517294943333, 0.009166517294943333, 0.00305550592020154, 0.00305550592020154, 0.015277529135346413, 0.009166517294943333, 0.00305550592020154, 0.00305550592020154, 0.00305550592020154, 0.9614235758781433, 0.9482299089431763, 0.7335700392723083, 0.07803936302661896, 0.05462755635380745, 0.042921651154756546, 0.027313778176903725, 0.007803936488926411, 0.007803936488926411, 0.011705905199050903, 0.011705905199050903, 0.007803936488926411, 0.011705905199050903, 0.007803936488926411, 0.0039019682444632053, 0.5456003546714783, 0.13640008866786957, 0.13640008866786957, 0.13640008866786957, 0.16263489425182343, 0.32526978850364685, 0.16263489425182343, 0.16263489425182343, 0.16263489425182343, 0.35369399189949036, 0.5659103989601135, 0.07073879987001419, 0.38953423500061035, 0.03541220352053642, 0.38953423500061035, 0.03541220352053642, 0.03541220352053642, 0.03541220352053642, 0.9353575110435486, 0.6421823501586914, 0.16054558753967285, 0.16054558753967285, 0.38049182295799255, 0.38049182295799255, 0.19024591147899628, 0.5006490349769592, 0.33376604318618774, 0.16688302159309387, 0.16449624300003052, 0.49348869919776917, 0.16449624300003052, 0.16449624300003052, 0.3245944082736969, 0.21054773032665253, 0.16375935077667236, 0.07895539700984955, 0.08480394631624222, 0.04678838700056076, 0.05263693258166313, 0.01462137047201395, 0.0029242741875350475, 0.005848548375070095, 0.0029242741875350475, 0.0029242741875350475, 0.0029242741875350475, 0.008772822096943855, 0.17523354291915894, 0.25033363699913025, 0.05006672814488411, 0.025033364072442055, 0.07510009407997131, 0.07510009407997131, 0.35046708583831787, 0.025033364072442055, 0.2018919587135315, 0.2396441102027893, 0.28888604044914246, 0.029545163735747337, 0.09191828966140747, 0.0689387172460556, 0.021338174119591713, 0.042676348239183426, 0.0049241939559578896, 0.001641398062929511, 0.001641398062929511, 0.001641398062929511, 0.001641398062929511, 0.001641398062929511, 0.3726528286933899, 0.18632641434669495, 0.18632641434669495, 0.18632641434669495, 0.7413809299468994, 0.21182312071323395, 0.1968625783920288, 0.3937251567840576, 0.1968625783920288, 0.1968625783920288, 0.955636739730835, 0.04343803599476814, 0.9362668395042419, 0.4484765827655792, 0.22846919298171997, 0.13538914918899536, 0.08884913474321365, 0.012692732736468315, 0.012692732736468315, 0.00846182182431221, 0.004230910912156105, 0.004230910912156105, 0.02538546547293663, 0.01692364364862442, 0.012692732736468315, 0.9096586108207703, 0.4215020537376404, 0.1391752064228058, 0.14712807536125183, 0.04771721363067627, 0.04771721363067627, 0.05169364809989929, 0.0715758204460144, 0.019882172346115112, 0.0039764344692230225, 0.01590573787689209, 0.011929303407669067, 0.011929303407669067, 0.007952868938446045, 0.3827541768550873, 0.25516945123672485, 0.25516945123672485, 0.12758472561836243, 0.6494135856628418, 0.10823559761047363, 0.21647119522094727, 0.0206221342086792, 0.061866406351327896, 0.4536869525909424, 0.412442684173584, 0.0206221342086792, 0.46178701519966125, 0.1489635556936264, 0.16385990381240845, 0.05213724076747894, 0.05213724076747894, 0.02234453335404396, 0.02234453335404396, 0.014896354638040066, 0.0372408889234066, 0.02979270927608013, 0.4295240342617035, 0.21846480667591095, 0.1462603360414505, 0.06479888409376144, 0.04258212447166443, 0.01666256971657276, 0.01666256971657276, 0.012959777377545834, 0.011108379811048508, 0.009256983175873756, 0.009256983175873756, 0.0037027935031801462, 0.011108379811048508, 0.0018513967515900731, 0.0037027935031801462, 0.5533007979393005, 0.06916259974241257, 0.027665041387081146, 0.23515285551548004, 0.027665041387081146, 0.05533008277416229, 0.12987948954105377, 0.18572767078876495, 0.34807702898979187, 0.02857348695397377, 0.12208671867847443, 0.11429394781589508, 0.031171077862381935, 0.011689153499901295, 0.009091564454138279, 0.0025975897442549467, 0.003896384732797742, 0.003896384732797742, 0.007792769465595484, 0.0012987948721274734, 0.2586856484413147, 0.2163412719964981, 0.20633259415626526, 0.0654413104057312, 0.09315762668848038, 0.059282127767801285, 0.05235304683446884, 0.01616785302758217, 0.007698977366089821, 0.007698977366089821, 0.002309693256393075, 0.00461938651278615, 0.006159182172268629, 0.0015397955430671573, 0.0007698977715335786, 0.8919111490249634, 0.05067677050828934, 0.010135354474186897, 0.010135354474186897, 0.030406061559915543, 0.4827784299850464, 0.11848407983779907, 0.11583144962787628, 0.07515781372785568, 0.053936783224344254, 0.04774731770157814, 0.03802100941538811, 0.01237893383949995, 0.015915771946310997, 0.01237893383949995, 0.004421047866344452, 0.008842095732688904, 0.009726305492222309, 0.0008842095849104226, 0.002652628580108285, 0.872787594795227, 0.19281235337257385, 0.1619623750448227, 0.11568740755319595, 0.007712494116276503, 0.02313748188316822, 0.1619623750448227, 0.20823733508586884, 0.015424988232553005, 0.06169995293021202, 0.04627496376633644, 0.3446815609931946, 0.236242413520813, 0.1820228397846222, 0.0522831566631794, 0.01742771826684475, 0.044537503272295, 0.0464739166200161, 0.02904619835317135, 0.011618479155004025, 0.007745652925223112, 0.013554892502725124, 0.005809239577502012, 0.003872826462611556, 0.003872826462611556, 0.001936413231305778, 0.3591904044151306, 0.25318729877471924, 0.13650760054588318, 0.05719592422246933, 0.05033241584897041, 0.054908089339733124, 0.038130614906549454, 0.013727022334933281, 0.007626123260706663, 0.0068635111674666405, 0.0061008986085653305, 0.011439184658229351, 0.0030504493042826653, 0.0007626123260706663, 0.0007626123260706663, 0.6079613566398621, 0.20265379548072815, 0.10132689774036407, 0.4130854308605194, 0.13769514858722687, 0.27539029717445374, 0.5316040515899658, 0.15045396983623505, 0.09629054367542267, 0.12638133764266968, 0.008024211972951889, 0.024072635918855667, 0.014042370952665806, 0.014042370952665806, 0.006018158979713917, 0.008024211972951889, 0.006018158979713917, 0.006018158979713917, 0.0040121059864759445, 0.0040121059864759445, 0.0020060529932379723, 0.20401117205619812, 0.5329271554946899, 0.083269864320755, 0.012490480206906796, 0.02498096041381359, 0.02081746608018875, 0.05828890576958656, 0.03747143968939781, 0.012490480206906796, 0.012490480206906796, 0.004163493402302265, 0.22839239239692688, 0.11419619619846344, 0.22839239239692688, 0.3425886034965515, 0.7783110737800598, 0.15566220879554749, 0.783818781375885, 0.09221397340297699, 0.046106986701488495, 0.09221397340297699, 0.5623894929885864, 0.18746314942836761, 0.18746314942836761, 0.7277300953865051, 0.18193252384662628, 0.6801550984382629, 0.2720620334148407, 0.6318798661231995, 0.11488724499940872, 0.22977448999881744, 0.18680275976657867, 0.24017497897148132, 0.06004374474287033, 0.033357635140419006, 0.026686109602451324, 0.06004374474287033, 0.1401020735502243, 0.22016039490699768, 0.013343054801225662, 0.006671527400612831, 0.006671527400612831, 0.7252510190010071, 0.10477074235677719, 0.86435866355896, 0.20169107615947723, 0.20169107615947723, 0.20169107615947723, 0.20169107615947723, 0.20169107615947723, 0.40363025665283203, 0.40363025665283203, 0.3575569689273834, 0.5363354086875916, 0.5002427101135254, 0.10004853457212448, 0.20009706914424896, 0.4196433126926422, 0.31473249197006226, 0.10491082817316055, 0.2661559581756592, 0.39923396706581116, 0.1330779790878296, 0.1330779790878296, 0.5549816489219666, 0.18499387800693512, 0.18499387800693512, 0.8567126989364624, 0.9311709403991699, 0.9551140666007996, 0.6552016735076904, 0.3276008367538452, 0.9499505162239075, 0.024998698383569717, 0.37194928526878357, 0.37194928526878357, 0.18597464263439178, 0.1762828677892685, 0.4700876474380493, 0.293804794549942, 0.5111204385757446, 0.09293098747730255, 0.3717239499092102, 0.2505504786968231, 0.2505504786968231, 0.12527523934841156, 0.2505504786968231, 0.12527523934841156, 0.9313795566558838, 0.7783138751983643, 0.15566277503967285, 0.9387509226799011, 0.8722164034843445, 0.9100377559661865, 0.1193193569779396, 0.8522811532020569, 0.017045622691512108, 0.3949291408061981, 0.3949291408061981, 0.19746457040309906, 0.7223649621009827, 0.12747617065906525, 0.12747617065906525, 0.6149196624755859, 0.12298393249511719, 0.12298393249511719, 0.3512248396873474, 0.14297647774219513, 0.15851740539073944, 0.05283913388848305, 0.1118946373462677, 0.05905550345778465, 0.06527186930179596, 0.02175729162991047, 0.015540922060608864, 0.0031081843189895153, 0.009324553422629833, 0.009324553422629833, 0.9421426057815552, 0.41993802785873413, 0.19838452339172363, 0.15494266152381897, 0.05502636358141899, 0.062266673892736435, 0.03475349396467209, 0.03475349396467209, 0.008688373491168022, 0.004344186745584011, 0.005792248994112015, 0.004344186745584011, 0.005792248994112015, 0.008688373491168022, 0.0014480622485280037, 0.0014480622485280037, 0.5543606877326965, 0.18478690087795258, 0.18478690087795258, 0.5360555052757263, 0.16061587631702423, 0.10841571539640427, 0.09436182677745819, 0.01405388955026865, 0.02007698453962803, 0.024092381820082664, 0.01405388955026865, 0.006023095455020666, 0.006023095455020666, 0.004015396814793348, 0.004015396814793348, 0.004015396814793348, 0.004015396814793348, 0.4216267168521881, 0.33059367537498474, 0.17727486789226532, 0.06468137353658676, 0.002395606366917491, 0.35521480441093445, 0.5328221917152405, 0.5731737017631531, 0.19105790555477142, 0.19105790555477142, 0.6578106880187988, 0.2192702293395996, 0.7692029476165771, 0.025219770148396492, 0.02942306362092495, 0.13030214607715607, 0.0042032948695123196, 0.016813179478049278, 0.012609885074198246, 0.0042032948695123196, 0.0042032948695123196, 0.5186545252799988, 0.23051312565803528, 0.05762828141450882, 0.05762828141450882, 0.11525656282901764, 0.9396578669548035, 0.31433191895484924, 0.010839032009243965, 0.3739466071128845, 0.25471726059913635, 0.016258547082543373, 0.032517094165086746, 0.30170708894729614, 0.6034141778945923, 0.004518633242696524, 0.957950234413147, 0.004518633242696524, 0.013555899262428284, 0.004518633242696524, 0.013555899262428284, 0.3067227900028229, 0.4600841701030731, 0.3067227900028229, 0.5636824369430542, 0.18789415061473846, 0.18789415061473846, 0.15356500446796417, 0.37036266922950745, 0.126465305685997, 0.02709970809519291, 0.02709970809519291, 0.02709970809519291, 0.22583089768886566, 0.02709970809519291, 0.018066471442580223, 0.39947524666786194, 0.1933630108833313, 0.07862012833356857, 0.025498420000076294, 0.12961696088314056, 0.05949631333351135, 0.05524657666683197, 0.01912381500005722, 0.012749210000038147, 0.0063746050000190735, 0.0063746050000190735, 0.0063746050000190735, 0.0063746050000190735, 0.002124868333339691, 0.47218057513237, 0.3147870600223541, 0.15739353001117706, 0.37082692980766296, 0.3270019292831421, 0.27306345105171204, 0.010113461874425411, 0.010113461874425411, 0.5285718441009521, 0.12048329412937164, 0.058298368006944656, 0.22153379023075104, 0.015546231530606747, 0.011659673415124416, 0.015546231530606747, 0.007773115765303373, 0.007773115765303373, 0.011659673415124416, 0.007773115765303373, 0.39205116033554077, 0.39205116033554077, 0.19602558016777039, 0.4741440415382385, 0.12092264741659164, 0.06682567298412323, 0.0413682721555233, 0.054096970707178116, 0.08591872453689575, 0.04773262143135071, 0.05727914720773697, 0.01591087505221367, 0.0031821748707443476, 0.009546524845063686, 0.01272869948297739, 0.0031821748707443476, 0.0031821748707443476, 0.4202894866466522, 0.1249053105711937, 0.22955571115016937, 0.047261469066143036, 0.06582847237586975, 0.02869446389377117, 0.033758193254470825, 0.011815367266535759, 0.010127457790076733, 0.0033758191857486963, 0.005063728895038366, 0.005063728895038366, 0.006751638371497393, 0.0033758191857486963, 0.005063728895038366, 0.5498025417327881, 0.07854322344064713, 0.07854322344064713, 0.3141728937625885, 0.1183723509311676, 0.7102341055870056, 0.28833597898483276, 0.22731250524520874, 0.16323783993721008, 0.03356292098760605, 0.12509815394878387, 0.056446727365255356, 0.03661409392952919, 0.013730285689234734, 0.012204698286950588, 0.003051174571737647, 0.006102349143475294, 0.024409396573901176, 0.009153523482382298, 0.0015255872858688235, 0.11394782364368439, 0.8546086549758911], \"Term\": [\"abandon\", \"abandon\", \"abbey\", \"abbey\", \"abbey\", \"abbot\", \"abbot\", \"abbot\", \"abhorred\", \"abhorred\", \"abhorred\", \"abhorred\", \"accommodate\", \"accommodate\", \"accommodate\", \"accommodate\", \"accorded\", \"accorded\", \"acquaintance\", \"acquaintance\", \"acquaintance\", \"acquaintance\", \"acquaintance\", \"acquaintance\", \"acquaintance\", \"acquaintance\", \"acquaintance\", \"acquaintance\", \"acquaintance\", \"acquaintance\", \"acquaintance\", \"acquaintance\", \"acquit\", \"acquit\", \"acquit\", \"acquit\", \"acquitted\", \"acquitted\", \"acquitted\", \"acquitted\", \"addition\", \"addition\", \"addition\", \"addition\", \"addition\", \"addition\", \"addition\", \"addition\", \"addition\", \"adele\", \"adele\", \"adele\", \"adele\", \"adele\", \"adele\", \"affection\", \"affection\", \"affection\", \"affection\", \"affection\", \"affection\", \"affection\", \"affection\", \"affection\", \"affection\", \"affection\", \"affection\", \"affection\", \"affianced\", \"affianced\", \"affording\", \"affording\", \"affording\", \"affording\", \"aged\", \"aged\", \"aghast\", \"aghast\", \"aghast\", \"aimed\", \"aimed\", \"aimed\", \"aimed\", \"aimed\", \"airing\", \"airing\", \"allez\", \"alluding\", \"alluding\", \"alluding\", \"amiable\", \"amiable\", \"amiable\", \"amiable\", \"amiable\", \"amiable\", \"amiable\", \"amiable\", \"amiable\", \"amiable\", \"amiable\", \"amiss\", \"amiss\", \"amiss\", \"amiss\", \"amounted\", \"amounted\", \"amounted\", \"anecdote\", \"anecdote\", \"anecdote\", \"anecdote\", \"anecdote\", \"answer\", \"answer\", \"answer\", \"answer\", \"answer\", \"answer\", \"answer\", \"answer\", \"answer\", \"answer\", \"answer\", \"answer\", \"answer\", \"answerable\", \"answerable\", \"answerable\", \"apologise\", \"apologise\", \"apologise\", \"appetite\", \"appetite\", \"appetite\", \"appetite\", \"appetite\", \"apples\", \"apples\", \"apples\", \"apples\", \"approving\", \"apron\", \"apron\", \"argue\", \"argue\", \"argue\", \"argue\", \"asked\", \"asked\", \"asked\", \"asked\", \"asked\", \"asked\", \"asked\", \"asked\", \"asked\", \"asked\", \"asked\", \"asked\", \"asked\", \"asked\", \"aspirations\", \"aspirations\", \"assertions\", \"assertions\", \"assez\", \"assiduous\", \"assiduous\", \"assiduous\", \"assistance\", \"assistance\", \"assistance\", \"assistance\", \"assistance\", \"assistance\", \"assistance\", \"assistance\", \"assistance\", \"assure\", \"assure\", \"assure\", \"assure\", \"assure\", \"assure\", \"assure\", \"assure\", \"assure\", \"assure\", \"athenee\", \"atonement\", \"atonement\", \"atonement\", \"atonement\", \"attachment\", \"attachment\", \"attachment\", \"attachment\", \"attachment\", \"attachment\", \"attachment\", \"attachment\", \"attachment\", \"attachment\", \"attachment\", \"aunt\", \"aunt\", \"aunt\", \"aunt\", \"aunt\", \"aunt\", \"aunt\", \"aunt\", \"aunt\", \"aunt\", \"averted\", \"averted\", \"averted\", \"averted\", \"avez\", \"away\", \"away\", \"away\", \"away\", \"away\", \"away\", \"away\", \"away\", \"away\", \"away\", \"away\", \"away\", \"away\", \"away\", \"bands\", \"bands\", \"banker\", \"banker\", \"barton\", \"barton\", \"barton\", \"barton\", \"bates\", \"bates\", \"bates\", \"bates\", \"bates\", \"bath\", \"bath\", \"bath\", \"bath\", \"bathing\", \"bathing\", \"bathing\", \"bearing\", \"bearing\", \"bearing\", \"bearing\", \"bearing\", \"bearing\", \"beaux\", \"beck\", \"beck\", \"beck\", \"beckoned\", \"beckoned\", \"beef\", \"beef\", \"beef\", \"beef\", \"beer\", \"beer\", \"behaviour\", \"behaviour\", \"behaviour\", \"behaviour\", \"behaviour\", \"behaviour\", \"behaviour\", \"behaviour\", \"behaviour\", \"behaviour\", \"behaviour\", \"belgium\", \"believe\", \"believe\", \"believe\", \"believe\", \"believe\", \"believe\", \"believe\", \"believe\", \"believe\", \"believe\", \"believe\", \"believe\", \"believe\", \"believe\", \"bell\", \"bell\", \"bell\", \"bell\", \"bell\", \"bell\", \"bell\", \"bell\", \"bell\", \"bell\", \"bell\", \"benefactress\", \"benefactress\", \"benefactress\", \"benefactress\", \"bennet\", \"bennet\", \"bennet\", \"bennet\", \"bennet\", \"bennet\", \"berkeley\", \"bessie\", \"bessie\", \"bessie\", \"bessie\", \"better\", \"better\", \"better\", \"better\", \"better\", \"better\", \"better\", \"better\", \"better\", \"better\", \"better\", \"better\", \"better\", \"better\", \"better\", \"bewitching\", \"bewitching\", \"bible\", \"bible\", \"bible\", \"bible\", \"bien\", \"bien\", \"bien\", \"bigben\", \"bigben\", \"bingley\", \"bingley\", \"bingley\", \"bingley\", \"bingley\", \"black\", \"black\", \"black\", \"black\", \"black\", \"black\", \"black\", \"blameless\", \"blameless\", \"blameless\", \"blameless\", \"blindness\", \"blindness\", \"blood\", \"blood\", \"blood\", \"blood\", \"blood\", \"blood\", \"blood\", \"blood\", \"blossoms\", \"blossoms\", \"blossoms\", \"body\", \"body\", \"body\", \"body\", \"body\", \"body\", \"body\", \"body\", \"body\", \"body\", \"body\", \"body\", \"borders\", \"borders\", \"borders\", \"bouquet\", \"bouquet\", \"bourgeois\", \"bourgeois\", \"bourgh\", \"bourgh\", \"bourgh\", \"boy\", \"boy\", \"boy\", \"boy\", \"boy\", \"boy\", \"boy\", \"boy\", \"boy\", \"boy\", \"bracelet\", \"bracelet\", \"bracelet\", \"bracelet\", \"brandon\", \"brandon\", \"brandon\", \"brandon\", \"brandon\", \"bread\", \"bread\", \"bread\", \"bread\", \"bread\", \"bread\", \"bretton\", \"bretton\", \"bretton\", \"bretton\", \"bretton\", \"briggs\", \"bright\", \"bright\", \"bright\", \"bright\", \"bright\", \"bright\", \"bright\", \"brightening\", \"brightening\", \"brightening\", \"brightening\", \"brighton\", \"brighton\", \"brighton\", \"bristol\", \"bristol\", \"bristol\", \"brother\", \"brother\", \"brother\", \"brother\", \"brother\", \"brother\", \"brother\", \"brother\", \"brother\", \"brother\", \"brother\", \"brother\", \"brother\", \"brother\", \"brush\", \"brush\", \"brussels\", \"brussels\", \"brutal\", \"brutal\", \"brutal\", \"bunch\", \"bunch\", \"bunch\", \"bundle\", \"bundle\", \"burdened\", \"burdened\", \"burning\", \"burning\", \"burning\", \"burning\", \"burns\", \"burns\", \"burns\", \"burns\", \"butcher\", \"butcher\", \"butler\", \"butler\", \"butter\", \"butter\", \"butter\", \"butter\", \"cake\", \"cake\", \"cake\", \"cake\", \"cake\", \"cake\", \"cake\", \"cake\", \"came\", \"came\", \"came\", \"came\", \"came\", \"came\", \"came\", \"came\", \"came\", \"came\", \"came\", \"came\", \"came\", \"came\", \"came\", \"campbell\", \"campbell\", \"campbells\", \"campbells\", \"campbells\", \"candle\", \"candle\", \"candle\", \"candle\", \"candle\", \"catherine\", \"catherine\", \"catherine\", \"catherine\", \"catherine\", \"causes\", \"causes\", \"causes\", \"causes\", \"causes\", \"ce\", \"ce\", \"ce\", \"ce\", \"cela\", \"cela\", \"cela\", \"certain\", \"certain\", \"certain\", \"certain\", \"certain\", \"certain\", \"certain\", \"certain\", \"certain\", \"certain\", \"certain\", \"certain\", \"certain\", \"certain\", \"certainly\", \"certainly\", \"certainly\", \"certainly\", \"certainly\", \"certainly\", \"certainly\", \"certainly\", \"certainly\", \"certainly\", \"certainly\", \"certainly\", \"character\", \"character\", \"character\", \"character\", \"character\", \"character\", \"character\", \"character\", \"character\", \"character\", \"character\", \"character\", \"character\", \"character\", \"character\", \"charade\", \"charade\", \"charade\", \"charlotte\", \"charlotte\", \"charlotte\", \"charlotte\", \"charlotte\", \"charmingly\", \"charmingly\", \"charmingly\", \"cheap\", \"cheap\", \"cheap\", \"cheap\", \"chicken\", \"chicken\", \"chicken\", \"chicken\", \"child\", \"child\", \"child\", \"child\", \"child\", \"child\", \"child\", \"child\", \"child\", \"child\", \"child\", \"child\", \"children\", \"children\", \"children\", \"children\", \"children\", \"children\", \"children\", \"children\", \"children\", \"children\", \"children\", \"children\", \"children\", \"cholmondeley\", \"cholmondeley\", \"chose\", \"chose\", \"chose\", \"chose\", \"chose\", \"chose\", \"chose\", \"chose\", \"chose\", \"chose\", \"chose\", \"churchill\", \"churchill\", \"churchill\", \"churchill\", \"churchills\", \"churchills\", \"churchills\", \"chuse\", \"chuse\", \"chuse\", \"chuse\", \"chuse\", \"clapped\", \"clapped\", \"clapped\", \"cleveland\", \"cleveland\", \"clock\", \"clock\", \"clock\", \"clock\", \"clock\", \"clock\", \"clock\", \"clock\", \"clock\", \"closed\", \"closed\", \"closed\", \"closed\", \"closed\", \"closed\", \"closed\", \"closed\", \"closed\", \"closed\", \"closed\", \"closed\", \"clouded\", \"clouded\", \"clouded\", \"clouded\", \"coach\", \"coach\", \"coach\", \"coach\", \"coach\", \"coach\", \"coach\", \"coffee\", \"coffee\", \"coffee\", \"coffee\", \"coffee\", \"cole\", \"cole\", \"cole\", \"collins\", \"collins\", \"collins\", \"collins\", \"collins\", \"colonel\", \"colonel\", \"colonel\", \"colonel\", \"colonel\", \"colonel\", \"colonel\", \"colonel\", \"colonel\", \"colonel\", \"combine\", \"combine\", \"combine\", \"come\", \"come\", \"come\", \"come\", \"come\", \"come\", \"come\", \"come\", \"come\", \"come\", \"come\", \"come\", \"come\", \"come\", \"come\", \"comme\", \"comme\", \"competent\", \"competent\", \"comprehending\", \"comprehending\", \"conduct\", \"conduct\", \"conduct\", \"conduct\", \"conduct\", \"conduct\", \"conduct\", \"conduct\", \"conduct\", \"conduct\", \"conduct\", \"conduct\", \"conduct\", \"connexion\", \"connexion\", \"connexion\", \"connexion\", \"conscientious\", \"conscientious\", \"conscientious\", \"conscientious\", \"conscientious\", \"contemplate\", \"contemplate\", \"contemplate\", \"contemplate\", \"contrasts\", \"contrasts\", \"cooled\", \"cooled\", \"cooled\", \"cooler\", \"cooler\", \"cooler\", \"corps\", \"corps\", \"corps\", \"corps\", \"cousin\", \"cousin\", \"cousin\", \"cousin\", \"cousin\", \"cousin\", \"cousin\", \"cousin\", \"cousin\", \"cousin\", \"cox\", \"crack\", \"crack\", \"craving\", \"craving\", \"create\", \"create\", \"creditable\", \"creditable\", \"creditable\", \"cried\", \"cried\", \"cried\", \"cried\", \"cried\", \"cried\", \"cried\", \"cried\", \"cried\", \"cried\", \"cried\", \"cried\", \"cried\", \"crimsworth\", \"crimsworth\", \"crimsworth\", \"crimsworth\", \"crimsworth\", \"crown\", \"crown\", \"crown\", \"crown\", \"crown\", \"crown\", \"cruelly\", \"cruelly\", \"cruelly\", \"cruelly\", \"cups\", \"cups\", \"cups\", \"dancing\", \"dancing\", \"dancing\", \"dancing\", \"dancing\", \"dans\", \"darcy\", \"darcy\", \"darcy\", \"darcy\", \"darcy\", \"darcy\", \"darcy\", \"dark\", \"dark\", \"dark\", \"dark\", \"dark\", \"dark\", \"dark\", \"dark\", \"dark\", \"dark\", \"dark\", \"dashwood\", \"dashwood\", \"dashwood\", \"dashwood\", \"dashwood\", \"dashwood\", \"dashwoods\", \"dashwoods\", \"daughter\", \"daughter\", \"daughter\", \"daughter\", \"daughter\", \"daughter\", \"daughter\", \"daughter\", \"daughter\", \"daughter\", \"daughter\", \"daughter\", \"daughters\", \"daughters\", \"daughters\", \"daughters\", \"daughters\", \"daughters\", \"daughters\", \"daughters\", \"day\", \"day\", \"day\", \"day\", \"day\", \"day\", \"day\", \"day\", \"day\", \"day\", \"day\", \"day\", \"day\", \"day\", \"day\", \"days\", \"days\", \"days\", \"days\", \"days\", \"days\", \"days\", \"days\", \"days\", \"days\", \"days\", \"days\", \"days\", \"days\", \"dear\", \"dear\", \"dear\", \"dear\", \"dear\", \"dear\", \"dear\", \"dear\", \"dear\", \"dear\", \"dear\", \"dear\", \"dear\", \"debts\", \"debts\", \"debts\", \"debts\", \"debts\", \"deceit\", \"deceit\", \"deceit\", \"deep\", \"deep\", \"deep\", \"deep\", \"deep\", \"deep\", \"deep\", \"deep\", \"deep\", \"deep\", \"deep\", \"delaford\", \"delaford\", \"delaford\", \"delaford\", \"delirious\", \"delirious\", \"denny\", \"denny\", \"denny\", \"denny\", \"deplorable\", \"deplorable\", \"deplorable\", \"depth\", \"depth\", \"depth\", \"desiree\", \"desiree\", \"despaired\", \"despaired\", \"despaired\", \"despaired\", \"detaining\", \"detaining\", \"deviation\", \"deviation\", \"deviation\", \"deviation\", \"deviation\", \"diana\", \"diana\", \"diana\", \"died\", \"died\", \"died\", \"died\", \"died\", \"died\", \"died\", \"died\", \"died\", \"died\", \"dire\", \"dirty\", \"dirty\", \"dirty\", \"dirty\", \"dirty\", \"dirty\", \"disadvantage\", \"disadvantage\", \"disadvantage\", \"discerned\", \"discerned\", \"discerned\", \"discerned\", \"discerned\", \"disgraced\", \"disgraced\", \"disgraced\", \"disown\", \"disown\", \"displeasing\", \"displeasing\", \"disposal\", \"disposal\", \"disposal\", \"disregarded\", \"disregarded\", \"disregarded\", \"disregarded\", \"distresses\", \"distresses\", \"distresses\", \"distresses\", \"dixon\", \"dixon\", \"doctor\", \"doctor\", \"doctor\", \"doctor\", \"doctor\", \"doctor\", \"doctrine\", \"doctrine\", \"door\", \"door\", \"door\", \"door\", \"door\", \"door\", \"door\", \"door\", \"door\", \"door\", \"door\", \"door\", \"door\", \"doubt\", \"doubt\", \"doubt\", \"doubt\", \"doubt\", \"doubt\", \"doubt\", \"doubt\", \"doubt\", \"doubt\", \"doubt\", \"doubt\", \"doubt\", \"dr\", \"dr\", \"dr\", \"dr\", \"dr\", \"dr\", \"dr\", \"dulness\", \"dulness\", \"dumb\", \"dumb\", \"dumb\", \"dumb\", \"earthquake\", \"earthquake\", \"edward\", \"edward\", \"edward\", \"edward\", \"edward\", \"edward\", \"edward\", \"edward\", \"edward\", \"elegantly\", \"elegantly\", \"elements\", \"elements\", \"elements\", \"elinor\", \"elinor\", \"elinor\", \"elinor\", \"elinor\", \"elinor\", \"elinor\", \"elinor\", \"elinor\", \"elizabeth\", \"elizabeth\", \"elizabeth\", \"elizabeth\", \"elizabeth\", \"elizabeth\", \"elizabeth\", \"elizabeth\", \"elizabeth\", \"elizabeth\", \"elle\", \"elle\", \"elle\", \"elle\", \"elopement\", \"elopement\", \"elopement\", \"elton\", \"elton\", \"elton\", \"elton\", \"eltons\", \"eltons\", \"eltons\", \"eltons\", \"emanuel\", \"emanuel\", \"emanuel\", \"emanuel\", \"emma\", \"emma\", \"emma\", \"emma\", \"emma\", \"emma\", \"emma\", \"encumbrance\", \"encumbrance\", \"encumbrance\", \"engagement\", \"engagement\", \"engagement\", \"engagement\", \"engagement\", \"engagement\", \"engagement\", \"engagement\", \"english\", \"english\", \"english\", \"english\", \"english\", \"english\", \"english\", \"english\", \"enounced\", \"enounced\", \"enounced\", \"enscombe\", \"enscombe\", \"enscombe\", \"enscombe\", \"ere\", \"ere\", \"ere\", \"ere\", \"ere\", \"ere\", \"ere\", \"ere\", \"est\", \"est\", \"est\", \"establish\", \"establish\", \"establish\", \"establish\", \"establish\", \"estate\", \"estate\", \"estate\", \"estate\", \"estate\", \"estate\", \"estate\", \"estate\", \"estate\", \"estates\", \"estates\", \"estates\", \"estrade\", \"estrade\", \"estrade\", \"et\", \"et\", \"et\", \"et\", \"et\", \"etre\", \"europe\", \"evening\", \"evening\", \"evening\", \"evening\", \"evening\", \"evening\", \"evening\", \"evening\", \"evening\", \"evening\", \"evening\", \"evening\", \"evening\", \"evening\", \"exercising\", \"exercising\", \"exercising\", \"expanse\", \"expanse\", \"expanse\", \"expanse\", \"expenses\", \"expenses\", \"expenses\", \"expenses\", \"expenses\", \"explained\", \"explained\", \"explained\", \"explained\", \"explained\", \"explained\", \"explained\", \"explained\", \"explained\", \"expressively\", \"expressively\", \"expressively\", \"expressively\", \"expressively\", \"external\", \"external\", \"external\", \"extravagance\", \"extravagance\", \"extravagance\", \"extravagance\", \"extravagance\", \"extravagance\", \"extravagant\", \"extravagant\", \"extravagant\", \"extravagant\", \"eye\", \"eye\", \"eye\", \"eye\", \"eye\", \"eye\", \"eye\", \"eye\", \"eye\", \"eye\", \"eye\", \"eye\", \"eyelid\", \"eyelid\", \"eyes\", \"eyes\", \"eyes\", \"eyes\", \"eyes\", \"eyes\", \"eyes\", \"eyes\", \"eyes\", \"eyes\", \"eyes\", \"eyes\", \"eyes\", \"face\", \"face\", \"face\", \"face\", \"face\", \"face\", \"face\", \"face\", \"face\", \"face\", \"face\", \"face\", \"face\", \"fairfax\", \"fairfax\", \"fairfax\", \"fairfax\", \"fairfax\", \"fairfax\", \"fairfax\", \"fairfax\", \"falls\", \"falls\", \"falls\", \"falls\", \"false\", \"false\", \"false\", \"false\", \"false\", \"false\", \"false\", \"false\", \"false\", \"false\", \"family\", \"family\", \"family\", \"family\", \"family\", \"family\", \"family\", \"family\", \"family\", \"family\", \"family\", \"family\", \"family\", \"family\", \"famished\", \"famished\", \"fanshawe\", \"fanshawe\", \"fanshawe\", \"fare\", \"fare\", \"fare\", \"fare\", \"fare\", \"fare\", \"fare\", \"farmer\", \"farmer\", \"father\", \"father\", \"father\", \"father\", \"father\", \"father\", \"father\", \"father\", \"father\", \"father\", \"father\", \"father\", \"father\", \"favourites\", \"favourites\", \"favourites\", \"favourites\", \"feasted\", \"feasted\", \"feelingly\", \"feelingly\", \"feelings\", \"feelings\", \"feelings\", \"feelings\", \"feelings\", \"feelings\", \"feelings\", \"feelings\", \"feelings\", \"feelings\", \"feelings\", \"feelings\", \"feelings\", \"feelings\", \"felt\", \"felt\", \"felt\", \"felt\", \"felt\", \"felt\", \"felt\", \"felt\", \"felt\", \"felt\", \"felt\", \"felt\", \"felt\", \"felt\", \"felt\", \"ferrars\", \"ferrars\", \"ferrars\", \"ferrars\", \"ferrars\", \"fervid\", \"fervid\", \"fidelity\", \"fidelity\", \"fidelity\", \"fight\", \"fight\", \"fight\", \"fight\", \"firmness\", \"firmness\", \"firmness\", \"firmness\", \"fitzwilliam\", \"fitzwilliam\", \"flakes\", \"flakes\", \"flakes\", \"flakes\", \"flatter\", \"flatter\", \"flatter\", \"flatter\", \"flatter\", \"flatter\", \"flatter\", \"flatter\", \"flatter\", \"flesh\", \"flesh\", \"flesh\", \"flesh\", \"ford\", \"forehead\", \"forehead\", \"forehead\", \"forehead\", \"forehead\", \"foresaw\", \"foresaw\", \"forgiveness\", \"forgiveness\", \"forgiveness\", \"forster\", \"forster\", \"forster\", \"forster\", \"forster\", \"fortune\", \"fortune\", \"fortune\", \"fortune\", \"fortune\", \"fortune\", \"fortune\", \"fortune\", \"fortune\", \"fortune\", \"fortune\", \"fortune\", \"forwarded\", \"forwarded\", \"forwarded\", \"fragrant\", \"fragrant\", \"fragrant\", \"fragrant\", \"frances\", \"frances\", \"frances\", \"francs\", \"frank\", \"frank\", \"frank\", \"frank\", \"frank\", \"frank\", \"frank\", \"frank\", \"free\", \"free\", \"free\", \"free\", \"free\", \"free\", \"free\", \"free\", \"free\", \"free\", \"free\", \"french\", \"french\", \"french\", \"french\", \"french\", \"french\", \"friday\", \"friend\", \"friend\", \"friend\", \"friend\", \"friend\", \"friend\", \"friend\", \"friend\", \"friend\", \"friend\", \"friend\", \"friend\", \"friend\", \"friend\", \"friends\", \"friends\", \"friends\", \"friends\", \"friends\", \"friends\", \"friends\", \"friends\", \"friends\", \"friends\", \"friends\", \"friends\", \"friends\", \"frigid\", \"frigid\", \"frigid\", \"fully\", \"fully\", \"fully\", \"fully\", \"fully\", \"fully\", \"fully\", \"fully\", \"fully\", \"fully\", \"fully\", \"fully\", \"fully\", \"fully\", \"garcon\", \"gardiner\", \"gardiner\", \"gardiner\", \"gardiner\", \"generation\", \"generation\", \"generation\", \"generation\", \"gentility\", \"gentility\", \"georgette\", \"georgette\", \"georgette\", \"gifted\", \"gifted\", \"gifted\", \"ginevra\", \"ginevra\", \"ginevra\", \"girl\", \"girl\", \"girl\", \"girl\", \"girl\", \"girl\", \"girl\", \"girl\", \"girl\", \"girl\", \"girl\", \"girl\", \"girl\", \"girl\", \"given\", \"given\", \"given\", \"given\", \"given\", \"given\", \"given\", \"given\", \"given\", \"given\", \"given\", \"given\", \"given\", \"given\", \"glorious\", \"glove\", \"glove\", \"glove\", \"glove\", \"god\", \"god\", \"god\", \"god\", \"god\", \"god\", \"god\", \"god\", \"god\", \"god\", \"god\", \"goddard\", \"goddard\", \"goddard\", \"goddard\", \"godmother\", \"godmother\", \"going\", \"going\", \"going\", \"going\", \"going\", \"going\", \"going\", \"going\", \"going\", \"going\", \"going\", \"going\", \"good\", \"good\", \"good\", \"good\", \"good\", \"good\", \"good\", \"good\", \"good\", \"good\", \"good\", \"good\", \"good\", \"good\", \"gracechurch\", \"gracechurch\", \"gracechurch\", \"graces\", \"graces\", \"graces\", \"graces\", \"graces\", \"graces\", \"graces\", \"graham\", \"graham\", \"graham\", \"graham\", \"graham\", \"graham\", \"graham\", \"grandmama\", \"grandmother\", \"grandmother\", \"grandmother\", \"grandmother\", \"grandmother\", \"great\", \"great\", \"great\", \"great\", \"great\", \"great\", \"great\", \"great\", \"great\", \"great\", \"great\", \"great\", \"great\", \"grec\", \"grief\", \"grief\", \"grief\", \"grief\", \"grief\", \"grief\", \"grief\", \"grief\", \"grieving\", \"grieving\", \"grisette\", \"grisette\", \"grisette\", \"grisette\", \"gross\", \"gross\", \"grove\", \"grove\", \"grove\", \"grove\", \"grove\", \"grove\", \"half\", \"half\", \"half\", \"half\", \"half\", \"half\", \"half\", \"half\", \"half\", \"half\", \"half\", \"half\", \"half\", \"hall\", \"hall\", \"hall\", \"hall\", \"hall\", \"hall\", \"hall\", \"hall\", \"hall\", \"hall\", \"hand\", \"hand\", \"hand\", \"hand\", \"hand\", \"hand\", \"hand\", \"hand\", \"hand\", \"hand\", \"hand\", \"hand\", \"hand\", \"hand\", \"hannah\", \"hannah\", \"hannah\", \"happiness\", \"happiness\", \"happiness\", \"happiness\", \"happiness\", \"happiness\", \"happiness\", \"happiness\", \"happiness\", \"happiness\", \"happiness\", \"happiness\", \"happiness\", \"happiness\", \"harass\", \"harass\", \"harass\", \"harley\", \"harmless\", \"harmless\", \"harmless\", \"harmless\", \"harmless\", \"harp\", \"harriet\", \"harriet\", \"harriet\", \"harriet\", \"harriet\", \"harriet\", \"hartfield\", \"hartfield\", \"hartfield\", \"hartfield\", \"hartfield\", \"having\", \"having\", \"having\", \"having\", \"having\", \"having\", \"having\", \"having\", \"having\", \"having\", \"having\", \"having\", \"having\", \"having\", \"having\", \"hawkins\", \"hawkins\", \"hawkins\", \"hazardous\", \"hazardous\", \"hazardous\", \"hazardous\", \"head\", \"head\", \"head\", \"head\", \"head\", \"head\", \"head\", \"head\", \"head\", \"head\", \"head\", \"head\", \"head\", \"hear\", \"hear\", \"hear\", \"hear\", \"hear\", \"hear\", \"hear\", \"hear\", \"hear\", \"hear\", \"hear\", \"hear\", \"hear\", \"hear\", \"heard\", \"heard\", \"heard\", \"heard\", \"heard\", \"heard\", \"heard\", \"heard\", \"heard\", \"heard\", \"heard\", \"heard\", \"heard\", \"heard\", \"heard\", \"heart\", \"heart\", \"heart\", \"heart\", \"heart\", \"heart\", \"heart\", \"heart\", \"heart\", \"heart\", \"heart\", \"heart\", \"heart\", \"heart\", \"heart\", \"helen\", \"helen\", \"helen\", \"helen\", \"helen\", \"hell\", \"henceforth\", \"henceforth\", \"henceforth\", \"henri\", \"henry\", \"henry\", \"henry\", \"henry\", \"henry\", \"henry\", \"highbury\", \"highbury\", \"highbury\", \"highbury\", \"highbury\", \"home\", \"home\", \"home\", \"home\", \"home\", \"home\", \"home\", \"home\", \"home\", \"home\", \"home\", \"home\", \"home\", \"home\", \"hope\", \"hope\", \"hope\", \"hope\", \"hope\", \"hope\", \"hope\", \"hope\", \"hope\", \"hope\", \"hope\", \"hope\", \"hope\", \"hope\", \"hope\", \"hostess\", \"hostess\", \"hostess\", \"house\", \"house\", \"house\", \"house\", \"house\", \"house\", \"house\", \"house\", \"house\", \"house\", \"house\", \"house\", \"house\", \"house\", \"housekeeping\", \"housekeeping\", \"housekeeping\", \"humility\", \"humility\", \"humility\", \"humility\", \"humility\", \"humility\", \"hunsden\", \"hunsden\", \"hunsden\", \"hunsden\", \"hunsford\", \"hunsford\", \"hurst\", \"hurst\", \"ignorant\", \"ignorant\", \"ignorant\", \"ignorant\", \"ignorant\", \"ignorant\", \"ignorant\", \"ignorant\", \"iii\", \"iii\", \"iii\", \"iii\", \"impediment\", \"impediment\", \"impediment\", \"impromptu\", \"imprudent\", \"imprudent\", \"imprudent\", \"imprudent\", \"imprudent\", \"imprudent\", \"impunity\", \"impunity\", \"impunity\", \"inattentive\", \"inattentive\", \"inattentive\", \"inattentive\", \"incapacity\", \"incapacity\", \"incapacity\", \"income\", \"income\", \"income\", \"income\", \"income\", \"income\", \"income\", \"income\", \"income\", \"inconveniences\", \"inconveniences\", \"india\", \"indicated\", \"indicated\", \"indicated\", \"indicated\", \"indolence\", \"indolence\", \"inequality\", \"inequality\", \"inexpressibly\", \"inexpressibly\", \"infallibly\", \"infallibly\", \"infamous\", \"infamous\", \"infection\", \"infection\", \"infection\", \"infection\", \"infection\", \"inferred\", \"inferred\", \"inferred\", \"infirm\", \"infirm\", \"infirm\", \"injured\", \"injured\", \"injured\", \"injured\", \"injurious\", \"injurious\", \"injurious\", \"injurious\", \"inn\", \"inn\", \"inn\", \"inn\", \"inn\", \"inquisitive\", \"inquisitive\", \"inquisitive\", \"insuperable\", \"insuperable\", \"insuperable\", \"insuperable\", \"intimately\", \"intimately\", \"intimately\", \"invariable\", \"involved\", \"involved\", \"involved\", \"involved\", \"involved\", \"involved\", \"involved\", \"irritated\", \"irritated\", \"irritated\", \"irritated\", \"irritated\", \"irritated\", \"irritated\", \"irritating\", \"irritating\", \"isabella\", \"isabella\", \"isabella\", \"isabella\", \"isidore\", \"isidore\", \"isidore\", \"jane\", \"jane\", \"jane\", \"jane\", \"jane\", \"jane\", \"jane\", \"jane\", \"jane\", \"jane\", \"jane\", \"jane\", \"jane\", \"je\", \"je\", \"jenkinson\", \"jenkinson\", \"jennings\", \"jennings\", \"jennings\", \"jennings\", \"john\", \"john\", \"john\", \"john\", \"john\", \"john\", \"john\", \"john\", \"john\", \"john\", \"john\", \"john\", \"john\", \"jokes\", \"jokes\", \"jokes\", \"journey\", \"journey\", \"journey\", \"journey\", \"journey\", \"journey\", \"journey\", \"journey\", \"justice\", \"justice\", \"justice\", \"justice\", \"justice\", \"justice\", \"justice\", \"justice\", \"justice\", \"justice\", \"justice\", \"justice\", \"justice\", \"kept\", \"kept\", \"kept\", \"kept\", \"kept\", \"kept\", \"kept\", \"kept\", \"kept\", \"kept\", \"kept\", \"kept\", \"kept\", \"kind\", \"kind\", \"kind\", \"kind\", \"kind\", \"kind\", \"kind\", \"kind\", \"kind\", \"kind\", \"kind\", \"kind\", \"kind\", \"kind\", \"kitty\", \"kitty\", \"kitty\", \"kitty\", \"kitty\", \"kitty\", \"kneeling\", \"knew\", \"knew\", \"knew\", \"knew\", \"knew\", \"knew\", \"knew\", \"knew\", \"knew\", \"knew\", \"knew\", \"knew\", \"knew\", \"knew\", \"knightley\", \"knightley\", \"knightley\", \"knightley\", \"knightley\", \"knightleys\", \"knoll\", \"knoll\", \"knoll\", \"know\", \"know\", \"know\", \"know\", \"know\", \"know\", \"know\", \"know\", \"know\", \"know\", \"know\", \"know\", \"know\", \"know\", \"know\", \"known\", \"known\", \"known\", \"known\", \"known\", \"known\", \"known\", \"known\", \"known\", \"known\", \"known\", \"known\", \"known\", \"known\", \"la\", \"la\", \"la\", \"la\", \"la\", \"la\", \"labour\", \"labour\", \"labour\", \"labour\", \"labour\", \"labour\", \"ladies\", \"ladies\", \"ladies\", \"ladies\", \"ladies\", \"ladies\", \"ladies\", \"ladies\", \"ladies\", \"ladies\", \"ladies\", \"lady\", \"lady\", \"lady\", \"lady\", \"lady\", \"lady\", \"lady\", \"lady\", \"lady\", \"lady\", \"lady\", \"lady\", \"lady\", \"ladyship\", \"ladyship\", \"ladyship\", \"ladyship\", \"ladyship\", \"lambton\", \"lambton\", \"lamentations\", \"lamentations\", \"lamentations\", \"larkins\", \"larkins\", \"law\", \"law\", \"law\", \"law\", \"law\", \"law\", \"law\", \"law\", \"law\", \"law\", \"law\", \"law\", \"law\", \"lawyer\", \"lawyer\", \"lawyer\", \"lawyer\", \"lawyer\", \"leave\", \"leave\", \"leave\", \"leave\", \"leave\", \"leave\", \"leave\", \"leave\", \"leave\", \"leave\", \"leave\", \"leave\", \"leave\", \"left\", \"left\", \"left\", \"left\", \"left\", \"left\", \"left\", \"left\", \"left\", \"left\", \"left\", \"left\", \"left\", \"left\", \"legal\", \"legal\", \"legal\", \"legal\", \"les\", \"les\", \"letter\", \"letter\", \"letter\", \"letter\", \"letter\", \"letter\", \"letter\", \"letter\", \"letter\", \"letter\", \"letter\", \"liberally\", \"liberally\", \"liberally\", \"liberally\", \"life\", \"life\", \"life\", \"life\", \"life\", \"life\", \"life\", \"life\", \"life\", \"life\", \"life\", \"life\", \"life\", \"life\", \"light\", \"light\", \"light\", \"light\", \"light\", \"light\", \"light\", \"light\", \"light\", \"light\", \"light\", \"light\", \"like\", \"like\", \"like\", \"like\", \"like\", \"like\", \"like\", \"like\", \"like\", \"like\", \"like\", \"like\", \"like\", \"like\", \"like\", \"liked\", \"liked\", \"liked\", \"liked\", \"liked\", \"liked\", \"liked\", \"liked\", \"liked\", \"liked\", \"liked\", \"liked\", \"liked\", \"likelihood\", \"likelihood\", \"likelihood\", \"likelihood\", \"likelihood\", \"likelihood\", \"liking\", \"liking\", \"liking\", \"liking\", \"liking\", \"little\", \"little\", \"little\", \"little\", \"little\", \"little\", \"little\", \"little\", \"little\", \"little\", \"little\", \"little\", \"little\", \"little\", \"little\", \"live\", \"live\", \"live\", \"live\", \"live\", \"live\", \"live\", \"live\", \"live\", \"live\", \"live\", \"live\", \"live\", \"live\", \"live\", \"living\", \"living\", \"living\", \"living\", \"living\", \"living\", \"living\", \"living\", \"living\", \"living\", \"lizzy\", \"lizzy\", \"lizzy\", \"lizzy\", \"lizzy\", \"lizzy\", \"lizzy\", \"ll\", \"ll\", \"ll\", \"ll\", \"ll\", \"ll\", \"ll\", \"lloyd\", \"lloyd\", \"lloyd\", \"lonely\", \"lonely\", \"lonely\", \"long\", \"long\", \"long\", \"long\", \"long\", \"long\", \"long\", \"long\", \"long\", \"long\", \"long\", \"long\", \"long\", \"long\", \"longbourn\", \"longbourn\", \"longbourn\", \"longbourn\", \"longbourn\", \"longstaple\", \"longstaple\", \"look\", \"look\", \"look\", \"look\", \"look\", \"look\", \"look\", \"look\", \"look\", \"look\", \"look\", \"look\", \"look\", \"look\", \"looked\", \"looked\", \"looked\", \"looked\", \"looked\", \"looked\", \"looked\", \"looked\", \"looked\", \"looked\", \"looked\", \"looked\", \"looked\", \"looked\", \"looked\", \"looking\", \"looking\", \"looking\", \"looking\", \"looking\", \"looking\", \"looking\", \"looking\", \"looking\", \"looking\", \"looking\", \"looking\", \"looking\", \"looking\", \"love\", \"love\", \"love\", \"love\", \"love\", \"love\", \"love\", \"love\", \"love\", \"love\", \"love\", \"love\", \"love\", \"love\", \"lowered\", \"lowered\", \"lowood\", \"lowood\", \"lowood\", \"lowood\", \"lucas\", \"lucas\", \"lucas\", \"lucases\", \"lucases\", \"lucy\", \"lucy\", \"lucy\", \"lucy\", \"lucy\", \"lucy\", \"lucy\", \"lucy\", \"lucy\", \"lucy\", \"lydia\", \"lydia\", \"lydia\", \"lydia\", \"lydia\", \"lydia\", \"madame\", \"madame\", \"madame\", \"madame\", \"madame\", \"madame\", \"madame\", \"madame\", \"mademoiselle\", \"mademoiselle\", \"mademoiselle\", \"mademoiselle\", \"magna\", \"magna\", \"mal\", \"mamma\", \"mamma\", \"mamma\", \"mamma\", \"mamma\", \"mamma\", \"mamma\", \"man\", \"man\", \"man\", \"man\", \"man\", \"man\", \"man\", \"man\", \"man\", \"man\", \"man\", \"man\", \"man\", \"man\", \"man\", \"maple\", \"maple\", \"maple\", \"marchmont\", \"margaret\", \"marianne\", \"marianne\", \"marianne\", \"marianne\", \"marianne\", \"marianne\", \"marianne\", \"marianne\", \"marie\", \"marie\", \"marie\", \"marriage\", \"marriage\", \"marriage\", \"marriage\", \"marriage\", \"marriage\", \"marriage\", \"marriage\", \"marriage\", \"marriage\", \"marriage\", \"marriage\", \"married\", \"married\", \"married\", \"married\", \"married\", \"married\", \"married\", \"married\", \"married\", \"married\", \"married\", \"married\", \"marry\", \"marry\", \"marry\", \"marry\", \"marry\", \"marry\", \"marry\", \"marry\", \"marry\", \"marry\", \"marry\", \"marry\", \"martin\", \"martin\", \"martin\", \"martins\", \"martins\", \"martins\", \"mary\", \"mary\", \"mary\", \"mary\", \"mary\", \"mary\", \"mary\", \"mary\", \"mary\", \"mary\", \"mason\", \"mason\", \"mason\", \"mason\", \"mason\", \"matched\", \"matched\", \"matched\", \"matches\", \"matches\", \"matches\", \"matches\", \"mdlle\", \"mdlle\", \"meat\", \"meat\", \"meat\", \"meat\", \"meat\", \"memories\", \"memories\", \"mere\", \"mere\", \"mere\", \"mere\", \"mere\", \"mere\", \"mere\", \"mere\", \"mere\", \"mere\", \"merits\", \"merits\", \"merits\", \"merits\", \"merits\", \"merits\", \"merits\", \"merits\", \"merits\", \"middleton\", \"middleton\", \"middleton\", \"middleton\", \"middletons\", \"midsummer\", \"midsummer\", \"midsummer\", \"midsummer\", \"militia\", \"militia\", \"militia\", \"mind\", \"mind\", \"mind\", \"mind\", \"mind\", \"mind\", \"mind\", \"mind\", \"mind\", \"mind\", \"mind\", \"mind\", \"mind\", \"mind\", \"mind\", \"mischievous\", \"mischievous\", \"mischievous\", \"mischievous\", \"misconduct\", \"misconduct\", \"misconduct\", \"miss\", \"miss\", \"miss\", \"miss\", \"miss\", \"miss\", \"miss\", \"miss\", \"miss\", \"miss\", \"miss\", \"miss\", \"miss\", \"misty\", \"misty\", \"misunderstand\", \"misunderstand\", \"misunderstand\", \"misunderstood\", \"misunderstood\", \"money\", \"money\", \"money\", \"money\", \"money\", \"money\", \"money\", \"money\", \"money\", \"money\", \"money\", \"money\", \"money\", \"monitor\", \"monitor\", \"monsieur\", \"monsieur\", \"monsieur\", \"monsieur\", \"monsieur\", \"moon\", \"moon\", \"moon\", \"moon\", \"moor\", \"moor\", \"moor\", \"moors\", \"moors\", \"morning\", \"morning\", \"morning\", \"morning\", \"morning\", \"morning\", \"morning\", \"morning\", \"morning\", \"morning\", \"morning\", \"morning\", \"morning\", \"morning\", \"mother\", \"mother\", \"mother\", \"mother\", \"mother\", \"mother\", \"mother\", \"mother\", \"mother\", \"mother\", \"mother\", \"mother\", \"mother\", \"motive\", \"motive\", \"motive\", \"motive\", \"motive\", \"motive\", \"motive\", \"motive\", \"motive\", \"mud\", \"mud\", \"mud\", \"mud\", \"musings\", \"musings\", \"musings\", \"mystic\", \"mystic\", \"naivete\", \"nash\", \"nash\", \"nature\", \"nature\", \"nature\", \"nature\", \"nature\", \"nature\", \"nature\", \"nature\", \"nature\", \"nature\", \"nature\", \"nature\", \"nature\", \"nature\", \"natures\", \"ne\", \"ne\", \"ne\", \"near\", \"near\", \"near\", \"near\", \"near\", \"near\", \"near\", \"near\", \"near\", \"near\", \"near\", \"near\", \"near\", \"near\", \"needful\", \"needful\", \"needful\", \"negligent\", \"negligent\", \"negligent\", \"negligent\", \"nest\", \"nest\", \"nest\", \"netherfield\", \"netherfield\", \"netherfield\", \"netherfield\", \"netherfield\", \"news\", \"news\", \"news\", \"news\", \"news\", \"news\", \"news\", \"news\", \"news\", \"news\", \"niece\", \"niece\", \"niece\", \"niece\", \"niece\", \"niece\", \"nieces\", \"nieces\", \"nieces\", \"nieces\", \"nieces\", \"night\", \"night\", \"night\", \"night\", \"night\", \"night\", \"night\", \"night\", \"night\", \"night\", \"night\", \"night\", \"night\", \"night\", \"night\", \"norland\", \"norland\", \"norland\", \"obviously\", \"obviously\", \"obviously\", \"obviously\", \"occurrences\", \"occurrences\", \"occurrences\", \"oh\", \"oh\", \"oh\", \"oh\", \"oh\", \"oh\", \"oh\", \"oh\", \"oh\", \"oh\", \"oh\", \"oh\", \"oh\", \"oh\", \"oh\", \"old\", \"old\", \"old\", \"old\", \"old\", \"old\", \"old\", \"old\", \"old\", \"old\", \"old\", \"old\", \"old\", \"old\", \"olive\", \"olive\", \"olive\", \"olive\", \"oliver\", \"oliver\", \"opaque\", \"ornamented\", \"ornamented\", \"orphan\", \"orphan\", \"orphan\", \"orphan\", \"orphan\", \"ostensible\", \"ostensible\", \"ought\", \"ought\", \"ought\", \"ought\", \"ought\", \"ought\", \"ought\", \"ought\", \"ought\", \"ought\", \"ought\", \"ought\", \"ought\", \"overtaken\", \"overtaken\", \"owing\", \"owing\", \"owing\", \"owing\", \"owing\", \"owing\", \"owing\", \"owing\", \"packing\", \"packing\", \"packing\", \"packing\", \"paletot\", \"paletot\", \"paletot\", \"palmer\", \"palmer\", \"palmer\", \"palmers\", \"parents\", \"parents\", \"parents\", \"parents\", \"parents\", \"parents\", \"parents\", \"parents\", \"particulars\", \"particulars\", \"particulars\", \"particulars\", \"particulars\", \"partners\", \"partners\", \"partners\", \"pas\", \"pas\", \"pas\", \"pas\", \"patient\", \"patient\", \"patient\", \"patient\", \"patient\", \"patient\", \"patient\", \"patty\", \"paul\", \"paul\", \"paul\", \"paul\", \"paul\", \"pelet\", \"pelet\", \"pelet\", \"pelet\", \"pemberley\", \"pemberley\", \"pemberley\", \"pemberley\", \"pencilled\", \"pencilled\", \"pencilled\", \"pens\", \"people\", \"people\", \"people\", \"people\", \"people\", \"people\", \"people\", \"people\", \"people\", \"people\", \"people\", \"people\", \"people\", \"people\", \"people\", \"perry\", \"perry\", \"perry\", \"perry\", \"petit\", \"petit\", \"peu\", \"philanthropist\", \"philanthropist\", \"philanthropist\", \"philanthropist\", \"philosophic\", \"philosophic\", \"philosophic\", \"pianoforte\", \"pianoforte\", \"pianoforte\", \"pianoforte\", \"pictures\", \"pictures\", \"pictures\", \"pictures\", \"pictures\", \"pictures\", \"pierre\", \"pierre\", \"pious\", \"pious\", \"pitcher\", \"place\", \"place\", \"place\", \"place\", \"place\", \"place\", \"place\", \"place\", \"place\", \"place\", \"place\", \"place\", \"place\", \"place\", \"place\", \"pleasanter\", \"pleasanter\", \"pleasanter\", \"pledged\", \"pledged\", \"pledged\", \"polly\", \"polly\", \"polly\", \"pompous\", \"pompous\", \"pompous\", \"poor\", \"poor\", \"poor\", \"poor\", \"poor\", \"poor\", \"poor\", \"poor\", \"poor\", \"poor\", \"poor\", \"poor\", \"poor\", \"portfolio\", \"portfolio\", \"portfolio\", \"portfolio\", \"pounds\", \"pounds\", \"pounds\", \"pounds\", \"pounds\", \"pounds\", \"pounds\", \"pounds\", \"pounds\", \"pounds\", \"practical\", \"practical\", \"practising\", \"practising\", \"practising\", \"practising\", \"pratt\", \"pratt\", \"pratt\", \"pratt\", \"precise\", \"precise\", \"preferred\", \"preferred\", \"preferred\", \"preferred\", \"preferred\", \"preferred\", \"preferred\", \"preferred\", \"prejudices\", \"prejudices\", \"prejudices\", \"prepossession\", \"prepossession\", \"prepossession\", \"present\", \"present\", \"present\", \"present\", \"present\", \"present\", \"present\", \"present\", \"present\", \"present\", \"present\", \"present\", \"present\", \"pretending\", \"pretending\", \"prevailing\", \"prevailing\", \"prevailing\", \"pride\", \"pride\", \"pride\", \"pride\", \"pride\", \"pride\", \"pride\", \"pride\", \"pride\", \"pride\", \"pride\", \"print\", \"print\", \"print\", \"privately\", \"privately\", \"privately\", \"privately\", \"procured\", \"procured\", \"procured\", \"procured\", \"procured\", \"procured\", \"procured\", \"profession\", \"profession\", \"profession\", \"profession\", \"profession\", \"profession\", \"profession\", \"profession\", \"professors\", \"prohibited\", \"prohibited\", \"prohibited\", \"prohibited\", \"projected\", \"projected\", \"projected\", \"promoted\", \"promoted\", \"promoted\", \"promoted\", \"property\", \"property\", \"property\", \"property\", \"property\", \"property\", \"property\", \"property\", \"property\", \"property\", \"property\", \"proposals\", \"proposals\", \"proposals\", \"proposals\", \"proposals\", \"proposals\", \"proposals\", \"proposals\", \"protest\", \"protest\", \"protest\", \"protest\", \"puts\", \"puts\", \"puts\", \"puts\", \"qu\", \"qu\", \"qu\", \"quadrille\", \"quadrille\", \"quadrille\", \"que\", \"que\", \"que\", \"que\", \"quel\", \"quel\", \"quel\", \"quickening\", \"quickening\", \"randalls\", \"randalls\", \"randalls\", \"randalls\", \"randalls\", \"rang\", \"rang\", \"rang\", \"rang\", \"rang\", \"rang\", \"rapturous\", \"rascal\", \"rascal\", \"rascal\", \"rascal\", \"raving\", \"raving\", \"raving\", \"raving\", \"recalled\", \"recalled\", \"recalled\", \"recalled\", \"recalled\", \"recalled\", \"reconciliation\", \"reconciliation\", \"reconciliation\", \"recur\", \"recur\", \"recur\", \"recur\", \"reed\", \"reed\", \"reed\", \"reed\", \"reed\", \"reflex\", \"refusal\", \"refusal\", \"refusal\", \"refusal\", \"refusal\", \"regards\", \"regards\", \"regards\", \"regiment\", \"regiment\", \"regiment\", \"regiment\", \"regiment\", \"regiment\", \"regiment\", \"regiment\", \"reject\", \"reject\", \"reject\", \"relations\", \"relations\", \"relations\", \"relations\", \"relations\", \"relations\", \"relations\", \"relations\", \"relations\", \"relations\", \"relations\", \"relations\", \"repeat\", \"repeat\", \"repeat\", \"repeat\", \"repeat\", \"repeat\", \"replied\", \"replied\", \"replied\", \"replied\", \"replied\", \"replied\", \"replied\", \"replied\", \"replied\", \"replied\", \"replied\", \"replied\", \"replied\", \"replied\", \"reproaching\", \"reproaching\", \"reproaching\", \"resources\", \"resources\", \"resources\", \"resources\", \"respectability\", \"respectability\", \"respectability\", \"restlessly\", \"restlessly\", \"restoration\", \"restoration\", \"restoration\", \"rests\", \"rests\", \"richard\", \"richard\", \"richard\", \"richmond\", \"richmond\", \"richmond\", \"rien\", \"rien\", \"rivers\", \"rivers\", \"rivers\", \"rivers\", \"rivers\", \"rivet\", \"rivet\", \"rob\", \"rob\", \"rob\", \"robert\", \"robert\", \"robert\", \"robert\", \"robert\", \"robert\", \"robert\", \"robert\", \"rochester\", \"rochester\", \"rochester\", \"rochester\", \"rochester\", \"rochester\", \"rochester\", \"room\", \"room\", \"room\", \"room\", \"room\", \"room\", \"room\", \"room\", \"room\", \"room\", \"room\", \"room\", \"room\", \"room\", \"room\", \"rose\", \"rose\", \"rose\", \"rose\", \"rose\", \"rose\", \"rose\", \"rose\", \"rose\", \"rosine\", \"rosine\", \"rosine\", \"rosings\", \"rosings\", \"roved\", \"roved\", \"roved\", \"rue\", \"rue\", \"rue\", \"rue\", \"ruin\", \"ruin\", \"ruin\", \"ruin\", \"ruin\", \"ruin\", \"ruin\", \"sacrificing\", \"sacrificing\", \"sacrificing\", \"sacrificing\", \"salary\", \"salary\", \"salary\", \"salary\", \"salary\", \"salutation\", \"sanctioned\", \"sanctioned\", \"sans\", \"sans\", \"sans\", \"sans\", \"saucy\", \"saucy\", \"saucy\", \"saw\", \"saw\", \"saw\", \"saw\", \"saw\", \"saw\", \"saw\", \"saw\", \"saw\", \"saw\", \"saw\", \"saw\", \"saw\", \"saw\", \"scatcherd\", \"scatcherd\", \"scenery\", \"scenery\", \"scenery\", \"scenery\", \"scent\", \"scent\", \"scent\", \"scent\", \"scholars\", \"school\", \"school\", \"school\", \"school\", \"school\", \"school\", \"school\", \"school\", \"school\", \"scotland\", \"scotland\", \"scotland\", \"scotland\", \"scotland\", \"scotland\", \"scrupled\", \"scrupled\", \"scrupled\", \"scrupled\", \"scrupled\", \"scrutinised\", \"scrutinised\", \"scrutinised\", \"seacombe\", \"seal\", \"seal\", \"secrecy\", \"secrecy\", \"secrecy\", \"secrecy\", \"secresy\", \"secresy\", \"seen\", \"seen\", \"seen\", \"seen\", \"seen\", \"seen\", \"seen\", \"seen\", \"seen\", \"seen\", \"seen\", \"seen\", \"seen\", \"seen\", \"selina\", \"sense\", \"sense\", \"sense\", \"sense\", \"sense\", \"sense\", \"sense\", \"sense\", \"sense\", \"sense\", \"sense\", \"sense\", \"serene\", \"servant\", \"servant\", \"servant\", \"servant\", \"servant\", \"servant\", \"servant\", \"servant\", \"servant\", \"settlement\", \"settlement\", \"severely\", \"severely\", \"severely\", \"severely\", \"severely\", \"shall\", \"shall\", \"shall\", \"shall\", \"shall\", \"shall\", \"shall\", \"shall\", \"shall\", \"shall\", \"shall\", \"shall\", \"shall\", \"shall\", \"shall\", \"shew\", \"shew\", \"shew\", \"shew\", \"shew\", \"shew\", \"shook\", \"shook\", \"shook\", \"shook\", \"shook\", \"shook\", \"shook\", \"shook\", \"shook\", \"shoot\", \"shoot\", \"sign\", \"sign\", \"sign\", \"sign\", \"sign\", \"sign\", \"sign\", \"significantly\", \"significantly\", \"sir\", \"sir\", \"sir\", \"sir\", \"sir\", \"sir\", \"sir\", \"sir\", \"sir\", \"sir\", \"sir\", \"sir\", \"sir\", \"sister\", \"sister\", \"sister\", \"sister\", \"sister\", \"sister\", \"sister\", \"sister\", \"sister\", \"sister\", \"sister\", \"sister\", \"sisters\", \"sisters\", \"sisters\", \"sisters\", \"sisters\", \"sisters\", \"sisters\", \"sisters\", \"sisters\", \"sisters\", \"sisters\", \"sixpence\", \"sixpence\", \"sixpence\", \"slice\", \"slice\", \"slice\", \"slice\", \"slip\", \"smith\", \"smith\", \"smith\", \"smith\", \"smith\", \"smith\", \"smith\", \"smith\", \"snowe\", \"snowe\", \"snowe\", \"softest\", \"softest\", \"softest\", \"solve\", \"solve\", \"solve\", \"soon\", \"soon\", \"soon\", \"soon\", \"soon\", \"soon\", \"soon\", \"soon\", \"soon\", \"soon\", \"soon\", \"soon\", \"soon\", \"soon\", \"soon\", \"sophie\", \"sophie\", \"spending\", \"spending\", \"spending\", \"spending\", \"spending\", \"spending\", \"spending\", \"spots\", \"spots\", \"spots\", \"sprain\", \"sprain\", \"sprain\", \"spurned\", \"spurned\", \"spurned\", \"st\", \"st\", \"st\", \"st\", \"st\", \"st\", \"st\", \"st\", \"staff\", \"staff\", \"staff\", \"stair\", \"stair\", \"stair\", \"statement\", \"statement\", \"statement\", \"statement\", \"statement\", \"stating\", \"stating\", \"stating\", \"steele\", \"steele\", \"steeles\", \"steeles\", \"stem\", \"stem\", \"stick\", \"stile\", \"stood\", \"stood\", \"stood\", \"stood\", \"stood\", \"stood\", \"stood\", \"stood\", \"stood\", \"stood\", \"stood\", \"stood\", \"stood\", \"stood\", \"stool\", \"stooped\", \"strange\", \"strange\", \"strange\", \"strange\", \"strange\", \"strange\", \"strange\", \"strange\", \"strange\", \"strange\", \"strange\", \"strange\", \"strange\", \"strangeness\", \"strangeness\", \"strangeness\", \"strangeness\", \"strikingly\", \"strikingly\", \"strikingly\", \"strikingly\", \"strikingly\", \"suckling\", \"suckling\", \"suckling\", \"sum\", \"sum\", \"sum\", \"sum\", \"sum\", \"sum\", \"sunset\", \"superfluous\", \"superfluous\", \"superfluous\", \"supplanted\", \"supplanted\", \"supplanted\", \"supplication\", \"supplication\", \"supplication\", \"supplying\", \"supplying\", \"supplying\", \"supplying\", \"suppose\", \"suppose\", \"suppose\", \"suppose\", \"suppose\", \"suppose\", \"suppose\", \"suppose\", \"suppose\", \"suppose\", \"suppose\", \"suppose\", \"suppose\", \"suppose\", \"supposing\", \"supposing\", \"supposing\", \"supposing\", \"supposing\", \"supposing\", \"supposing\", \"supposing\", \"sure\", \"sure\", \"sure\", \"sure\", \"sure\", \"sure\", \"sure\", \"sure\", \"sure\", \"sure\", \"sure\", \"sure\", \"sure\", \"sure\", \"surmises\", \"surmises\", \"surmises\", \"surmises\", \"surry\", \"surry\", \"survive\", \"survive\", \"survive\", \"survive\", \"sustained\", \"sustained\", \"swiss\", \"table\", \"table\", \"table\", \"table\", \"table\", \"table\", \"table\", \"table\", \"table\", \"table\", \"table\", \"table\", \"tableau\", \"taken\", \"taken\", \"taken\", \"taken\", \"taken\", \"taken\", \"taken\", \"taken\", \"taken\", \"taken\", \"taken\", \"taken\", \"taken\", \"tap\", \"tap\", \"tap\", \"tap\", \"tasks\", \"tasks\", \"tasks\", \"taylor\", \"taylor\", \"taylor\", \"taylor\", \"taylor\", \"tea\", \"tea\", \"tea\", \"tea\", \"tea\", \"tea\", \"tea\", \"tea\", \"tea\", \"tea\", \"tell\", \"tell\", \"tell\", \"tell\", \"tell\", \"tell\", \"tell\", \"tell\", \"tell\", \"tell\", \"tell\", \"tell\", \"tell\", \"tell\", \"tell\", \"temple\", \"temple\", \"temple\", \"temple\", \"temple\", \"temple\", \"thing\", \"thing\", \"thing\", \"thing\", \"thing\", \"thing\", \"thing\", \"thing\", \"thing\", \"thing\", \"thing\", \"thing\", \"thing\", \"thing\", \"think\", \"think\", \"think\", \"think\", \"think\", \"think\", \"think\", \"think\", \"think\", \"think\", \"think\", \"think\", \"think\", \"think\", \"think\", \"thornfield\", \"thornfield\", \"thornfield\", \"thornfield\", \"thornfield\", \"thought\", \"thought\", \"thought\", \"thought\", \"thought\", \"thought\", \"thought\", \"thought\", \"thought\", \"thought\", \"thought\", \"thought\", \"thought\", \"thought\", \"thought\", \"thoughtfulness\", \"thousand\", \"thousand\", \"thousand\", \"thousand\", \"thousand\", \"thousand\", \"thousand\", \"thousand\", \"thousand\", \"thousand\", \"till\", \"till\", \"till\", \"till\", \"till\", \"till\", \"till\", \"till\", \"till\", \"till\", \"till\", \"till\", \"till\", \"till\", \"till\", \"time\", \"time\", \"time\", \"time\", \"time\", \"time\", \"time\", \"time\", \"time\", \"time\", \"time\", \"time\", \"time\", \"time\", \"time\", \"tints\", \"tints\", \"tints\", \"toast\", \"toast\", \"toast\", \"took\", \"took\", \"took\", \"took\", \"took\", \"took\", \"took\", \"took\", \"took\", \"took\", \"took\", \"took\", \"took\", \"took\", \"took\", \"town\", \"town\", \"town\", \"town\", \"town\", \"town\", \"town\", \"town\", \"town\", \"town\", \"town\", \"tract\", \"tract\", \"tract\", \"tract\", \"traverse\", \"traverse\", \"tray\", \"tray\", \"tray\", \"tray\", \"treasured\", \"treasured\", \"treasured\", \"triumphantly\", \"triumphantly\", \"trop\", \"trop\", \"tyrant\", \"tyrant\", \"tyrant\", \"uncle\", \"uncle\", \"uncle\", \"uncle\", \"uncle\", \"uncle\", \"uncle\", \"uncle\", \"uncle\", \"uncle\", \"uncle\", \"undone\", \"une\", \"une\", \"unequivocal\", \"unequivocal\", \"unequivocal\", \"unequivocal\", \"unequivocal\", \"unexceptionable\", \"unexceptionable\", \"unfair\", \"unfair\", \"unfit\", \"unfit\", \"unfit\", \"unguarded\", \"unguarded\", \"unguarded\", \"uniformly\", \"uniformly\", \"uniformly\", \"uniformly\", \"unlocked\", \"unlocked\", \"unlocked\", \"unwillingly\", \"vale\", \"vandenhuten\", \"vanishing\", \"vanishing\", \"veil\", \"veil\", \"verbal\", \"verbal\", \"verbal\", \"vicarage\", \"vicarage\", \"vicarage\", \"victor\", \"victor\", \"victor\", \"villain\", \"villain\", \"villain\", \"villain\", \"villain\", \"violets\", \"visitation\", \"visitation\", \"vocation\", \"votre\", \"vouchsafe\", \"vous\", \"vous\", \"vous\", \"walnut\", \"walnut\", \"walnut\", \"walravens\", \"walravens\", \"walravens\", \"wanderings\", \"wanderings\", \"wanderings\", \"want\", \"want\", \"want\", \"want\", \"want\", \"want\", \"want\", \"want\", \"want\", \"want\", \"want\", \"want\", \"wardrobe\", \"way\", \"way\", \"way\", \"way\", \"way\", \"way\", \"way\", \"way\", \"way\", \"way\", \"way\", \"way\", \"way\", \"way\", \"way\", \"weekly\", \"weekly\", \"weekly\", \"went\", \"went\", \"went\", \"went\", \"went\", \"went\", \"went\", \"went\", \"went\", \"went\", \"went\", \"went\", \"went\", \"went\", \"weston\", \"weston\", \"weston\", \"weston\", \"weston\", \"westons\", \"westons\", \"wheeled\", \"wheeled\", \"wheeled\", \"whitcross\", \"whitcross\", \"white\", \"white\", \"white\", \"white\", \"white\", \"white\", \"white\", \"white\", \"white\", \"wholesome\", \"wholesome\", \"wholesome\", \"wholesome\", \"wholesome\", \"wicket\", \"wickham\", \"wickham\", \"wickham\", \"wickham\", \"wickham\", \"wickham\", \"wilfully\", \"wilfully\", \"willoughby\", \"willoughby\", \"willoughby\", \"willoughby\", \"willoughby\", \"willoughby\", \"windsor\", \"windsor\", \"windsor\", \"winning\", \"winning\", \"winning\", \"wishes\", \"wishes\", \"wishes\", \"wishes\", \"wishes\", \"wishes\", \"wishes\", \"wishes\", \"wishes\", \"woman\", \"woman\", \"woman\", \"woman\", \"woman\", \"woman\", \"woman\", \"woman\", \"woman\", \"woman\", \"woman\", \"woman\", \"woman\", \"woman\", \"wondrous\", \"wondrous\", \"wondrous\", \"woodhouse\", \"woodhouse\", \"woodhouse\", \"woodhouse\", \"woodhouse\", \"work\", \"work\", \"work\", \"work\", \"work\", \"work\", \"work\", \"work\", \"work\", \"work\", \"work\", \"wouldn\", \"wouldn\", \"wouldn\", \"years\", \"years\", \"years\", \"years\", \"years\", \"years\", \"years\", \"years\", \"years\", \"years\", \"years\", \"years\", \"years\", \"years\", \"yes\", \"yes\", \"yes\", \"yes\", \"yes\", \"yes\", \"yes\", \"yes\", \"yes\", \"yes\", \"yes\", \"yes\", \"yes\", \"yes\", \"yes\", \"yorke\", \"yorke\", \"yorke\", \"yorke\", \"yorkshire\", \"yorkshire\", \"young\", \"young\", \"young\", \"young\", \"young\", \"young\", \"young\", \"young\", \"young\", \"young\", \"young\", \"young\", \"young\", \"young\", \"zelie\", \"zelie\"]}, \"R\": 30, \"lambda.step\": 0.01, \"plot.opts\": {\"xlab\": \"PC1\", \"ylab\": \"PC2\"}, \"topic.order\": [11, 3, 5, 8, 1, 12, 6, 15, 2, 9, 4, 10, 13, 7, 14]};\n",
       "\n",
       "function LDAvis_load_lib(url, callback){\n",
       "  var s = document.createElement('script');\n",
       "  s.src = url;\n",
       "  s.async = true;\n",
       "  s.onreadystatechange = s.onload = callback;\n",
       "  s.onerror = function(){console.warn(\"failed to load library \" + url);};\n",
       "  document.getElementsByTagName(\"head\")[0].appendChild(s);\n",
       "}\n",
       "\n",
       "if(typeof(LDAvis) !== \"undefined\"){\n",
       "   // already loaded: just create the visualization\n",
       "   !function(LDAvis){\n",
       "       new LDAvis(\"#\" + \"ldavis_el7075627959366466322151211260\", ldavis_el7075627959366466322151211260_data);\n",
       "   }(LDAvis);\n",
       "}else if(typeof define === \"function\" && define.amd){\n",
       "   // require.js is available: use it to load d3/LDAvis\n",
       "   require.config({paths: {d3: \"https://cdnjs.cloudflare.com/ajax/libs/d3/3.5.5/d3.min\"}});\n",
       "   require([\"d3\"], function(d3){\n",
       "      window.d3 = d3;\n",
       "      LDAvis_load_lib(\"https://cdn.rawgit.com/bmabey/pyLDAvis/files/ldavis.v1.0.0.js\", function(){\n",
       "        new LDAvis(\"#\" + \"ldavis_el7075627959366466322151211260\", ldavis_el7075627959366466322151211260_data);\n",
       "      });\n",
       "    });\n",
       "}else{\n",
       "    // require.js not available: dynamically load d3 & LDAvis\n",
       "    LDAvis_load_lib(\"https://cdnjs.cloudflare.com/ajax/libs/d3/3.5.5/d3.min.js\", function(){\n",
       "         LDAvis_load_lib(\"https://cdn.rawgit.com/bmabey/pyLDAvis/files/ldavis.v1.0.0.js\", function(){\n",
       "                 new LDAvis(\"#\" + \"ldavis_el7075627959366466322151211260\", ldavis_el7075627959366466322151211260_data);\n",
       "            })\n",
       "         });\n",
       "}\n",
       "</script>"
      ],
      "text/plain": [
       "PreparedData(topic_coordinates=              x         y  topics  cluster       Freq\n",
       "topic                                                \n",
       "10    -0.086109 -0.006008       1        1  41.976734\n",
       "2      0.096106  0.014838       2        1  19.396456\n",
       "4      0.069379 -0.064267       3        1  11.418595\n",
       "7     -0.123732 -0.057420       4        1   8.034630\n",
       "0      0.113208 -0.084783       5        1   4.911840\n",
       "11     0.103097 -0.091142       6        1   4.027915\n",
       "5      0.114385  0.018410       7        1   3.994269\n",
       "14     0.103918  0.106251       8        1   1.489573\n",
       "1     -0.011588  0.029208       9        1   1.013518\n",
       "8     -0.097039 -0.021388      10        1   0.999455\n",
       "3     -0.142886  0.006040      11        1   0.770559\n",
       "9      0.073180  0.104523      12        1   0.767098\n",
       "12    -0.028002 -0.056611      13        1   0.646021\n",
       "6     -0.102658  0.024924      14        1   0.297359\n",
       "13    -0.081258  0.077425      15        1   0.255978, topic_info=       Term         Freq        Total Category  logprob  loglift\n",
       "403    like  1327.000000  1327.000000  Default  30.0000  30.0000\n",
       "159  little  1716.000000  1716.000000  Default  29.0000  29.0000\n",
       "183    miss  1508.000000  1508.000000  Default  28.0000  28.0000\n",
       "399    know  1421.000000  1421.000000  Default  27.0000  27.0000\n",
       "86     emma   819.000000   819.000000  Default  26.0000  26.0000\n",
       "..      ...          ...          ...      ...      ...      ...\n",
       "148    jane     1.964200   907.805237  Topic15  -6.0124  -0.1681\n",
       "856   heard     1.899386   621.640320  Topic15  -6.0460   0.1770\n",
       "260    soon     1.874982   922.447327  Topic15  -6.0589  -0.2306\n",
       "135   house     1.863704   758.746094  Topic15  -6.0650  -0.0413\n",
       "356   doubt     1.821978   313.732697  Topic15  -6.0876   0.8192\n",
       "\n",
       "[1129 rows x 6 columns], token_table=      Topic      Freq     Term\n",
       "term                          \n",
       "7784      1  0.737192  abandon\n",
       "7784     15  0.184298  abandon\n",
       "792       3  0.230587    abbey\n",
       "792       5  0.658819    abbey\n",
       "792       6  0.098823    abbey\n",
       "...     ...       ...      ...\n",
       "611      12  0.024409    young\n",
       "611      13  0.009154    young\n",
       "611      14  0.001526    young\n",
       "8084      1  0.113948    zelie\n",
       "8084      4  0.854609    zelie\n",
       "\n",
       "[4298 rows x 3 columns], R=30, lambda_step=0.01, plot_opts={'xlab': 'PC1', 'ylab': 'PC2'}, topic_order=[11, 3, 5, 8, 1, 12, 6, 15, 2, 9, 4, 10, 13, 7, 14])"
      ]
     },
     "execution_count": 38,
     "metadata": {},
     "output_type": "execute_result"
    }
   ],
   "source": [
    "pyLDAvis.gensim.prepare(lda, corpus, id2word)"
   ]
  },
  {
   "cell_type": "markdown",
   "metadata": {},
   "source": [
    "### Overall Model / Documents"
   ]
  },
  {
   "cell_type": "code",
   "execution_count": 39,
   "metadata": {},
   "outputs": [
    {
     "data": {
      "text/plain": [
       "[(2, 0.23459642), (11, 0.763396)]"
      ]
     },
     "execution_count": 39,
     "metadata": {},
     "output_type": "execute_result"
    }
   ],
   "source": [
    "lda[corpus[0]]"
   ]
  },
  {
   "cell_type": "code",
   "execution_count": 40,
   "metadata": {},
   "outputs": [],
   "source": [
    "distro = [lda[d] for d in corpus]"
   ]
  },
  {
   "cell_type": "code",
   "execution_count": 41,
   "metadata": {},
   "outputs": [
    {
     "data": {
      "text/plain": [
       "[(2, 0.2345985), (11, 0.76339394)]"
      ]
     },
     "execution_count": 41,
     "metadata": {},
     "output_type": "execute_result"
    }
   ],
   "source": [
    "distro[0]"
   ]
  },
  {
   "cell_type": "code",
   "execution_count": 42,
   "metadata": {},
   "outputs": [],
   "source": [
    "distro = [lda[d] for d in corpus]\n",
    "\n",
    "def update(doc):\n",
    "        d_dist = {k:0 for k in range(0,15)}\n",
    "        for t in doc:\n",
    "            d_dist[t[0]] = t[1]\n",
    "        return d_dist\n",
    "    \n",
    "new_distro = [update(d) for d in distro]"
   ]
  },
  {
   "cell_type": "code",
   "execution_count": 43,
   "metadata": {},
   "outputs": [
    {
     "data": {
      "text/plain": [
       "813"
      ]
     },
     "execution_count": 43,
     "metadata": {},
     "output_type": "execute_result"
    }
   ],
   "source": [
    "len(new_distro)"
   ]
  },
  {
   "cell_type": "code",
   "execution_count": 44,
   "metadata": {},
   "outputs": [
    {
     "data": {
      "text/html": [
       "<div>\n",
       "<style scoped>\n",
       "    .dataframe tbody tr th:only-of-type {\n",
       "        vertical-align: middle;\n",
       "    }\n",
       "\n",
       "    .dataframe tbody tr th {\n",
       "        vertical-align: top;\n",
       "    }\n",
       "\n",
       "    .dataframe thead th {\n",
       "        text-align: right;\n",
       "    }\n",
       "</style>\n",
       "<table border=\"1\" class=\"dataframe\">\n",
       "  <thead>\n",
       "    <tr style=\"text-align: right;\">\n",
       "      <th></th>\n",
       "      <th>tokens</th>\n",
       "      <th>author</th>\n",
       "      <th>book</th>\n",
       "      <th>section</th>\n",
       "    </tr>\n",
       "  </thead>\n",
       "  <tbody>\n",
       "    <tr>\n",
       "      <th>Austen_Emma0000</th>\n",
       "      <td>[emma, jane, austen, volume, chapter, emma, wo...</td>\n",
       "      <td>1</td>\n",
       "      <td>Emma</td>\n",
       "      <td>0</td>\n",
       "    </tr>\n",
       "    <tr>\n",
       "      <th>Austen_Emma0001</th>\n",
       "      <td>[taylor, wish, pity, weston, thought, agree, p...</td>\n",
       "      <td>1</td>\n",
       "      <td>Emma</td>\n",
       "      <td>1</td>\n",
       "    </tr>\n",
       "    <tr>\n",
       "      <th>Austen_Emma0002</th>\n",
       "      <td>[behaved, charmingly, body, punctual, body, be...</td>\n",
       "      <td>1</td>\n",
       "      <td>Emma</td>\n",
       "      <td>2</td>\n",
       "    </tr>\n",
       "    <tr>\n",
       "      <th>Austen_Emma0003</th>\n",
       "      <td>[native, highbury, born, respectable, family, ...</td>\n",
       "      <td>1</td>\n",
       "      <td>Emma</td>\n",
       "      <td>3</td>\n",
       "    </tr>\n",
       "    <tr>\n",
       "      <th>Austen_Emma0004</th>\n",
       "      <td>[mention, handsome, letter, weston, received, ...</td>\n",
       "      <td>1</td>\n",
       "      <td>Emma</td>\n",
       "      <td>4</td>\n",
       "    </tr>\n",
       "  </tbody>\n",
       "</table>\n",
       "</div>"
      ],
      "text/plain": [
       "                                                            tokens  author  \\\n",
       "Austen_Emma0000  [emma, jane, austen, volume, chapter, emma, wo...       1   \n",
       "Austen_Emma0001  [taylor, wish, pity, weston, thought, agree, p...       1   \n",
       "Austen_Emma0002  [behaved, charmingly, body, punctual, body, be...       1   \n",
       "Austen_Emma0003  [native, highbury, born, respectable, family, ...       1   \n",
       "Austen_Emma0004  [mention, handsome, letter, weston, received, ...       1   \n",
       "\n",
       "                 book  section  \n",
       "Austen_Emma0000  Emma        0  \n",
       "Austen_Emma0001  Emma        1  \n",
       "Austen_Emma0002  Emma        2  \n",
       "Austen_Emma0003  Emma        3  \n",
       "Austen_Emma0004  Emma        4  "
      ]
     },
     "execution_count": 44,
     "metadata": {},
     "output_type": "execute_result"
    }
   ],
   "source": [
    "df.head()"
   ]
  },
  {
   "cell_type": "code",
   "execution_count": 45,
   "metadata": {},
   "outputs": [],
   "source": [
    "df = pd.DataFrame.from_records(new_distro, index=titles)\n",
    "df.columns = topics\n",
    "df['author'] = df.reset_index()['index'].apply(lambda x: x.split('_')[0]).tolist()"
   ]
  },
  {
   "cell_type": "code",
   "execution_count": 46,
   "metadata": {},
   "outputs": [
    {
     "data": {
      "text/html": [
       "<div>\n",
       "<style scoped>\n",
       "    .dataframe tbody tr th:only-of-type {\n",
       "        vertical-align: middle;\n",
       "    }\n",
       "\n",
       "    .dataframe tbody tr th {\n",
       "        vertical-align: top;\n",
       "    }\n",
       "\n",
       "    .dataframe thead th {\n",
       "        text-align: right;\n",
       "    }\n",
       "</style>\n",
       "<table border=\"1\" class=\"dataframe\">\n",
       "  <thead>\n",
       "    <tr style=\"text-align: right;\">\n",
       "      <th></th>\n",
       "      <th>harriet emma weston elton good</th>\n",
       "      <th>like sir jane thought little</th>\n",
       "      <th>elinor marianne elizabeth sister miss</th>\n",
       "      <th>hand eyes john like saw</th>\n",
       "      <th>miss jane emma know thing</th>\n",
       "      <th>jane elizabeth darcy know wickham</th>\n",
       "      <th>hunsden miss helen temple bread</th>\n",
       "      <th>little madame like monsieur vous</th>\n",
       "      <th>burns thought like scatcherd miss</th>\n",
       "      <th>man bennet young elizabeth collins</th>\n",
       "      <th>like little thought long good</th>\n",
       "      <th>emma miss knightley harriet thing</th>\n",
       "      <th>bretton know dr little lucy</th>\n",
       "      <th>thousand mason like know sisters</th>\n",
       "      <th>lydia mother wickham father uncle</th>\n",
       "      <th>author</th>\n",
       "    </tr>\n",
       "  </thead>\n",
       "  <tbody>\n",
       "    <tr>\n",
       "      <th>Austen_Emma0000</th>\n",
       "      <td>0.000000</td>\n",
       "      <td>0.0</td>\n",
       "      <td>0.234601</td>\n",
       "      <td>0.0</td>\n",
       "      <td>0.000000</td>\n",
       "      <td>0.000000</td>\n",
       "      <td>0.0</td>\n",
       "      <td>0.0</td>\n",
       "      <td>0.0</td>\n",
       "      <td>0.0</td>\n",
       "      <td>0.0</td>\n",
       "      <td>0.763392</td>\n",
       "      <td>0.000000</td>\n",
       "      <td>0.0</td>\n",
       "      <td>0.0</td>\n",
       "      <td>Austen</td>\n",
       "    </tr>\n",
       "    <tr>\n",
       "      <th>Austen_Emma0001</th>\n",
       "      <td>0.339863</td>\n",
       "      <td>0.0</td>\n",
       "      <td>0.000000</td>\n",
       "      <td>0.0</td>\n",
       "      <td>0.427917</td>\n",
       "      <td>0.000000</td>\n",
       "      <td>0.0</td>\n",
       "      <td>0.0</td>\n",
       "      <td>0.0</td>\n",
       "      <td>0.0</td>\n",
       "      <td>0.0</td>\n",
       "      <td>0.229965</td>\n",
       "      <td>0.000000</td>\n",
       "      <td>0.0</td>\n",
       "      <td>0.0</td>\n",
       "      <td>Austen</td>\n",
       "    </tr>\n",
       "    <tr>\n",
       "      <th>Austen_Emma0002</th>\n",
       "      <td>0.669745</td>\n",
       "      <td>0.0</td>\n",
       "      <td>0.000000</td>\n",
       "      <td>0.0</td>\n",
       "      <td>0.000000</td>\n",
       "      <td>0.000000</td>\n",
       "      <td>0.0</td>\n",
       "      <td>0.0</td>\n",
       "      <td>0.0</td>\n",
       "      <td>0.0</td>\n",
       "      <td>0.0</td>\n",
       "      <td>0.327991</td>\n",
       "      <td>0.000000</td>\n",
       "      <td>0.0</td>\n",
       "      <td>0.0</td>\n",
       "      <td>Austen</td>\n",
       "    </tr>\n",
       "    <tr>\n",
       "      <th>Austen_Emma0003</th>\n",
       "      <td>0.191082</td>\n",
       "      <td>0.0</td>\n",
       "      <td>0.000000</td>\n",
       "      <td>0.0</td>\n",
       "      <td>0.000000</td>\n",
       "      <td>0.806787</td>\n",
       "      <td>0.0</td>\n",
       "      <td>0.0</td>\n",
       "      <td>0.0</td>\n",
       "      <td>0.0</td>\n",
       "      <td>0.0</td>\n",
       "      <td>0.000000</td>\n",
       "      <td>0.000000</td>\n",
       "      <td>0.0</td>\n",
       "      <td>0.0</td>\n",
       "      <td>Austen</td>\n",
       "    </tr>\n",
       "    <tr>\n",
       "      <th>Austen_Emma0004</th>\n",
       "      <td>0.485069</td>\n",
       "      <td>0.0</td>\n",
       "      <td>0.000000</td>\n",
       "      <td>0.0</td>\n",
       "      <td>0.000000</td>\n",
       "      <td>0.000000</td>\n",
       "      <td>0.0</td>\n",
       "      <td>0.0</td>\n",
       "      <td>0.0</td>\n",
       "      <td>0.0</td>\n",
       "      <td>0.0</td>\n",
       "      <td>0.106287</td>\n",
       "      <td>0.406796</td>\n",
       "      <td>0.0</td>\n",
       "      <td>0.0</td>\n",
       "      <td>Austen</td>\n",
       "    </tr>\n",
       "  </tbody>\n",
       "</table>\n",
       "</div>"
      ],
      "text/plain": [
       "                 harriet emma weston elton good  like sir jane thought little  \\\n",
       "Austen_Emma0000                        0.000000                           0.0   \n",
       "Austen_Emma0001                        0.339863                           0.0   \n",
       "Austen_Emma0002                        0.669745                           0.0   \n",
       "Austen_Emma0003                        0.191082                           0.0   \n",
       "Austen_Emma0004                        0.485069                           0.0   \n",
       "\n",
       "                 elinor marianne elizabeth sister miss  \\\n",
       "Austen_Emma0000                               0.234601   \n",
       "Austen_Emma0001                               0.000000   \n",
       "Austen_Emma0002                               0.000000   \n",
       "Austen_Emma0003                               0.000000   \n",
       "Austen_Emma0004                               0.000000   \n",
       "\n",
       "                 hand eyes john like saw  miss jane emma know thing  \\\n",
       "Austen_Emma0000                      0.0                   0.000000   \n",
       "Austen_Emma0001                      0.0                   0.427917   \n",
       "Austen_Emma0002                      0.0                   0.000000   \n",
       "Austen_Emma0003                      0.0                   0.000000   \n",
       "Austen_Emma0004                      0.0                   0.000000   \n",
       "\n",
       "                 jane elizabeth darcy know wickham  \\\n",
       "Austen_Emma0000                           0.000000   \n",
       "Austen_Emma0001                           0.000000   \n",
       "Austen_Emma0002                           0.000000   \n",
       "Austen_Emma0003                           0.806787   \n",
       "Austen_Emma0004                           0.000000   \n",
       "\n",
       "                 hunsden miss helen temple bread  \\\n",
       "Austen_Emma0000                              0.0   \n",
       "Austen_Emma0001                              0.0   \n",
       "Austen_Emma0002                              0.0   \n",
       "Austen_Emma0003                              0.0   \n",
       "Austen_Emma0004                              0.0   \n",
       "\n",
       "                 little madame like monsieur vous  \\\n",
       "Austen_Emma0000                               0.0   \n",
       "Austen_Emma0001                               0.0   \n",
       "Austen_Emma0002                               0.0   \n",
       "Austen_Emma0003                               0.0   \n",
       "Austen_Emma0004                               0.0   \n",
       "\n",
       "                 burns thought like scatcherd miss  \\\n",
       "Austen_Emma0000                                0.0   \n",
       "Austen_Emma0001                                0.0   \n",
       "Austen_Emma0002                                0.0   \n",
       "Austen_Emma0003                                0.0   \n",
       "Austen_Emma0004                                0.0   \n",
       "\n",
       "                 man bennet young elizabeth collins  \\\n",
       "Austen_Emma0000                                 0.0   \n",
       "Austen_Emma0001                                 0.0   \n",
       "Austen_Emma0002                                 0.0   \n",
       "Austen_Emma0003                                 0.0   \n",
       "Austen_Emma0004                                 0.0   \n",
       "\n",
       "                 like little thought long good  \\\n",
       "Austen_Emma0000                            0.0   \n",
       "Austen_Emma0001                            0.0   \n",
       "Austen_Emma0002                            0.0   \n",
       "Austen_Emma0003                            0.0   \n",
       "Austen_Emma0004                            0.0   \n",
       "\n",
       "                 emma miss knightley harriet thing  \\\n",
       "Austen_Emma0000                           0.763392   \n",
       "Austen_Emma0001                           0.229965   \n",
       "Austen_Emma0002                           0.327991   \n",
       "Austen_Emma0003                           0.000000   \n",
       "Austen_Emma0004                           0.106287   \n",
       "\n",
       "                 bretton know dr little lucy  \\\n",
       "Austen_Emma0000                     0.000000   \n",
       "Austen_Emma0001                     0.000000   \n",
       "Austen_Emma0002                     0.000000   \n",
       "Austen_Emma0003                     0.000000   \n",
       "Austen_Emma0004                     0.406796   \n",
       "\n",
       "                 thousand mason like know sisters  \\\n",
       "Austen_Emma0000                               0.0   \n",
       "Austen_Emma0001                               0.0   \n",
       "Austen_Emma0002                               0.0   \n",
       "Austen_Emma0003                               0.0   \n",
       "Austen_Emma0004                               0.0   \n",
       "\n",
       "                 lydia mother wickham father uncle  author  \n",
       "Austen_Emma0000                                0.0  Austen  \n",
       "Austen_Emma0001                                0.0  Austen  \n",
       "Austen_Emma0002                                0.0  Austen  \n",
       "Austen_Emma0003                                0.0  Austen  \n",
       "Austen_Emma0004                                0.0  Austen  "
      ]
     },
     "execution_count": 46,
     "metadata": {},
     "output_type": "execute_result"
    }
   ],
   "source": [
    "df.head()"
   ]
  },
  {
   "cell_type": "code",
   "execution_count": 47,
   "metadata": {},
   "outputs": [
    {
     "data": {
      "text/html": [
       "<div>\n",
       "<style scoped>\n",
       "    .dataframe tbody tr th:only-of-type {\n",
       "        vertical-align: middle;\n",
       "    }\n",
       "\n",
       "    .dataframe tbody tr th {\n",
       "        vertical-align: top;\n",
       "    }\n",
       "\n",
       "    .dataframe thead th {\n",
       "        text-align: right;\n",
       "    }\n",
       "</style>\n",
       "<table border=\"1\" class=\"dataframe\">\n",
       "  <thead>\n",
       "    <tr style=\"text-align: right;\">\n",
       "      <th></th>\n",
       "      <th>harriet emma weston elton good</th>\n",
       "      <th>like sir jane thought little</th>\n",
       "      <th>elinor marianne elizabeth sister miss</th>\n",
       "      <th>hand eyes john like saw</th>\n",
       "      <th>miss jane emma know thing</th>\n",
       "      <th>jane elizabeth darcy know wickham</th>\n",
       "      <th>hunsden miss helen temple bread</th>\n",
       "      <th>little madame like monsieur vous</th>\n",
       "      <th>burns thought like scatcherd miss</th>\n",
       "      <th>man bennet young elizabeth collins</th>\n",
       "      <th>like little thought long good</th>\n",
       "      <th>emma miss knightley harriet thing</th>\n",
       "      <th>bretton know dr little lucy</th>\n",
       "      <th>thousand mason like know sisters</th>\n",
       "      <th>lydia mother wickham father uncle</th>\n",
       "    </tr>\n",
       "    <tr>\n",
       "      <th>author</th>\n",
       "      <th></th>\n",
       "      <th></th>\n",
       "      <th></th>\n",
       "      <th></th>\n",
       "      <th></th>\n",
       "      <th></th>\n",
       "      <th></th>\n",
       "      <th></th>\n",
       "      <th></th>\n",
       "      <th></th>\n",
       "      <th></th>\n",
       "      <th></th>\n",
       "      <th></th>\n",
       "      <th></th>\n",
       "      <th></th>\n",
       "    </tr>\n",
       "  </thead>\n",
       "  <tbody>\n",
       "    <tr>\n",
       "      <th>Austen</th>\n",
       "      <td>0.103918</td>\n",
       "      <td>0.006973</td>\n",
       "      <td>0.428128</td>\n",
       "      <td>0.000000</td>\n",
       "      <td>0.211958</td>\n",
       "      <td>0.088507</td>\n",
       "      <td>0.000000</td>\n",
       "      <td>0.000291</td>\n",
       "      <td>0.001807</td>\n",
       "      <td>0.017823</td>\n",
       "      <td>0.013380</td>\n",
       "      <td>0.086611</td>\n",
       "      <td>0.004561</td>\n",
       "      <td>0.000028</td>\n",
       "      <td>0.03330</td>\n",
       "    </tr>\n",
       "    <tr>\n",
       "      <th>CBronte</th>\n",
       "      <td>0.003945</td>\n",
       "      <td>0.012633</td>\n",
       "      <td>0.008016</td>\n",
       "      <td>0.013694</td>\n",
       "      <td>0.036295</td>\n",
       "      <td>0.003886</td>\n",
       "      <td>0.005369</td>\n",
       "      <td>0.137135</td>\n",
       "      <td>0.015776</td>\n",
       "      <td>0.000056</td>\n",
       "      <td>0.746323</td>\n",
       "      <td>0.001341</td>\n",
       "      <td>0.007101</td>\n",
       "      <td>0.004740</td>\n",
       "      <td>0.00102</td>\n",
       "    </tr>\n",
       "  </tbody>\n",
       "</table>\n",
       "</div>"
      ],
      "text/plain": [
       "         harriet emma weston elton good  like sir jane thought little  \\\n",
       "author                                                                  \n",
       "Austen                         0.103918                      0.006973   \n",
       "CBronte                        0.003945                      0.012633   \n",
       "\n",
       "         elinor marianne elizabeth sister miss  hand eyes john like saw  \\\n",
       "author                                                                    \n",
       "Austen                                0.428128                 0.000000   \n",
       "CBronte                               0.008016                 0.013694   \n",
       "\n",
       "         miss jane emma know thing  jane elizabeth darcy know wickham  \\\n",
       "author                                                                  \n",
       "Austen                    0.211958                           0.088507   \n",
       "CBronte                   0.036295                           0.003886   \n",
       "\n",
       "         hunsden miss helen temple bread  little madame like monsieur vous  \\\n",
       "author                                                                       \n",
       "Austen                          0.000000                          0.000291   \n",
       "CBronte                         0.005369                          0.137135   \n",
       "\n",
       "         burns thought like scatcherd miss  \\\n",
       "author                                       \n",
       "Austen                            0.001807   \n",
       "CBronte                           0.015776   \n",
       "\n",
       "         man bennet young elizabeth collins  like little thought long good  \\\n",
       "author                                                                       \n",
       "Austen                             0.017823                       0.013380   \n",
       "CBronte                            0.000056                       0.746323   \n",
       "\n",
       "         emma miss knightley harriet thing  bretton know dr little lucy  \\\n",
       "author                                                                    \n",
       "Austen                            0.086611                     0.004561   \n",
       "CBronte                           0.001341                     0.007101   \n",
       "\n",
       "         thousand mason like know sisters  lydia mother wickham father uncle  \n",
       "author                                                                        \n",
       "Austen                           0.000028                            0.03330  \n",
       "CBronte                          0.004740                            0.00102  "
      ]
     },
     "execution_count": 47,
     "metadata": {},
     "output_type": "execute_result"
    }
   ],
   "source": [
    "df.groupby('author').mean()"
   ]
  },
  {
   "cell_type": "markdown",
   "metadata": {},
   "source": [
    "## Challenge\n",
    "### *Can we see if one of the authors focus more on men than women?*\n",
    "\n",
    "*  Use Spacy for text preprocessing\n",
    "*  Extract the Named Entities from the documents using Spacy (command is fairly straight forward)\n",
    "*  Create unique list of names from the authors (you'll find that there are different types of named entities not all people)\n",
    "*  Label the names with genders (can you this by hand or you use the US census name lists)\n",
    "*  Customize your processing to replace the proper name with your gender from the previous step's lookup table\n",
    "*  Then follow the rest of the LDA flow\n"
   ]
  },
  {
   "cell_type": "markdown",
   "metadata": {},
   "source": [
    "# Selecting the Number of Topics (Learn)\n",
    "<a id=\"#p4\"></a>"
   ]
  },
  {
   "cell_type": "markdown",
   "metadata": {},
   "source": [
    "## Overview"
   ]
  },
  {
   "cell_type": "markdown",
   "metadata": {},
   "source": [
    "## Follow Along"
   ]
  },
  {
   "cell_type": "code",
   "execution_count": 50,
   "metadata": {},
   "outputs": [],
   "source": [
    "from gensim.models.coherencemodel import CoherenceModel\n",
    "\n",
    "def compute_coherence_values(dictionary, corpus, limit, start=2, step=3, passes=5):\n",
    "    \"\"\"\n",
    "    Compute c_v coherence for various number of topics\n",
    "\n",
    "    Parameters:\n",
    "    ----------\n",
    "    dictionary : Gensim dictionary\n",
    "    corpus : Gensim corpus\n",
    "    limit : Max num of topics\n",
    "    passes: the number of times the entire lda model & coherence values are calculated\n",
    "\n",
    "    Returns:\n",
    "    -------\n",
    "    coherence_values : Coherence values corresponding to the LDA model with respective number of topics\n",
    "    \"\"\"\n",
    "    \n",
    "    coherence_values = []\n",
    "    \n",
    "    for iter_ in range(passes):\n",
    "        for num_topics in range(start, limit, step):\n",
    "            model = LdaMulticore(corpus=corpus, num_topics=num_topics, id2word=dictionary, workers=4)\n",
    "            coherencemodel = CoherenceModel(model=model,dictionary=dictionary,corpus=corpus, coherence='u_mass')\n",
    "            coherence_values.append({'pass': iter_, \n",
    "                                     'num_topics': num_topics, \n",
    "                                     'coherence_score': coherencemodel.get_coherence()\n",
    "                                    })\n",
    "\n",
    "    return coherence_values"
   ]
  },
  {
   "cell_type": "code",
   "execution_count": 52,
   "metadata": {},
   "outputs": [],
   "source": [
    "# Can take a long time to run.\n",
    "coherence_values = compute_coherence_values(dictionary=id2word, \n",
    "                                            corpus=corpus,\n",
    "                                            start=2, \n",
    "                                            limit=40, \n",
    "                                            step=2,\n",
    "                                            passes=10)"
   ]
  },
  {
   "cell_type": "code",
   "execution_count": 53,
   "metadata": {},
   "outputs": [],
   "source": [
    "topic_coherence = pd.DataFrame.from_records(coherence_values)"
   ]
  },
  {
   "cell_type": "code",
   "execution_count": 54,
   "metadata": {},
   "outputs": [
    {
     "data": {
      "text/html": [
       "<div>\n",
       "<style scoped>\n",
       "    .dataframe tbody tr th:only-of-type {\n",
       "        vertical-align: middle;\n",
       "    }\n",
       "\n",
       "    .dataframe tbody tr th {\n",
       "        vertical-align: top;\n",
       "    }\n",
       "\n",
       "    .dataframe thead th {\n",
       "        text-align: right;\n",
       "    }\n",
       "</style>\n",
       "<table border=\"1\" class=\"dataframe\">\n",
       "  <thead>\n",
       "    <tr style=\"text-align: right;\">\n",
       "      <th></th>\n",
       "      <th>pass</th>\n",
       "      <th>num_topics</th>\n",
       "      <th>coherence_score</th>\n",
       "    </tr>\n",
       "  </thead>\n",
       "  <tbody>\n",
       "    <tr>\n",
       "      <th>0</th>\n",
       "      <td>0</td>\n",
       "      <td>2</td>\n",
       "      <td>-0.598193</td>\n",
       "    </tr>\n",
       "    <tr>\n",
       "      <th>1</th>\n",
       "      <td>0</td>\n",
       "      <td>4</td>\n",
       "      <td>-0.699555</td>\n",
       "    </tr>\n",
       "    <tr>\n",
       "      <th>2</th>\n",
       "      <td>0</td>\n",
       "      <td>6</td>\n",
       "      <td>-0.781075</td>\n",
       "    </tr>\n",
       "    <tr>\n",
       "      <th>3</th>\n",
       "      <td>0</td>\n",
       "      <td>8</td>\n",
       "      <td>-0.734010</td>\n",
       "    </tr>\n",
       "    <tr>\n",
       "      <th>4</th>\n",
       "      <td>0</td>\n",
       "      <td>10</td>\n",
       "      <td>-0.684397</td>\n",
       "    </tr>\n",
       "  </tbody>\n",
       "</table>\n",
       "</div>"
      ],
      "text/plain": [
       "   pass  num_topics  coherence_score\n",
       "0     0           2        -0.598193\n",
       "1     0           4        -0.699555\n",
       "2     0           6        -0.781075\n",
       "3     0           8        -0.734010\n",
       "4     0          10        -0.684397"
      ]
     },
     "execution_count": 54,
     "metadata": {},
     "output_type": "execute_result"
    }
   ],
   "source": [
    "topic_coherence.head()"
   ]
  },
  {
   "cell_type": "code",
   "execution_count": 55,
   "metadata": {},
   "outputs": [
    {
     "data": {
      "image/png": "[encoded data removed]",
      "text/plain": [
       "<Figure size 432x288 with 1 Axes>"
      ]
     },
     "metadata": {
      "needs_background": "light"
     },
     "output_type": "display_data"
    }
   ],
   "source": [
    "import seaborn as sns\n",
    "\n",
    "ax = sns.lineplot(x=\"num_topics\", y=\"coherence_score\", data=topic_coherence)"
   ]
  },
  {
   "cell_type": "code",
   "execution_count": 60,
   "metadata": {},
   "outputs": [
    {
     "data": {
      "text/html": [
       "<div>\n",
       "<style scoped>\n",
       "    .dataframe tbody tr th:only-of-type {\n",
       "        vertical-align: middle;\n",
       "    }\n",
       "\n",
       "    .dataframe tbody tr th {\n",
       "        vertical-align: top;\n",
       "    }\n",
       "\n",
       "    .dataframe thead th {\n",
       "        text-align: right;\n",
       "    }\n",
       "</style>\n",
       "<table border=\"1\" class=\"dataframe\">\n",
       "  <thead>\n",
       "    <tr style=\"text-align: right;\">\n",
       "      <th></th>\n",
       "      <th>pass</th>\n",
       "      <th>coherence_score</th>\n",
       "    </tr>\n",
       "    <tr>\n",
       "      <th>num_topics</th>\n",
       "      <th></th>\n",
       "      <th></th>\n",
       "    </tr>\n",
       "  </thead>\n",
       "  <tbody>\n",
       "    <tr>\n",
       "      <th>2</th>\n",
       "      <td>4.5</td>\n",
       "      <td>-0.719941</td>\n",
       "    </tr>\n",
       "    <tr>\n",
       "      <th>4</th>\n",
       "      <td>4.5</td>\n",
       "      <td>-0.753785</td>\n",
       "    </tr>\n",
       "    <tr>\n",
       "      <th>6</th>\n",
       "      <td>4.5</td>\n",
       "      <td>-0.751034</td>\n",
       "    </tr>\n",
       "    <tr>\n",
       "      <th>8</th>\n",
       "      <td>4.5</td>\n",
       "      <td>-0.737404</td>\n",
       "    </tr>\n",
       "    <tr>\n",
       "      <th>10</th>\n",
       "      <td>4.5</td>\n",
       "      <td>-0.748132</td>\n",
       "    </tr>\n",
       "    <tr>\n",
       "      <th>12</th>\n",
       "      <td>4.5</td>\n",
       "      <td>-0.744319</td>\n",
       "    </tr>\n",
       "    <tr>\n",
       "      <th>14</th>\n",
       "      <td>4.5</td>\n",
       "      <td>-0.764338</td>\n",
       "    </tr>\n",
       "    <tr>\n",
       "      <th>16</th>\n",
       "      <td>4.5</td>\n",
       "      <td>-0.744966</td>\n",
       "    </tr>\n",
       "    <tr>\n",
       "      <th>18</th>\n",
       "      <td>4.5</td>\n",
       "      <td>-0.777041</td>\n",
       "    </tr>\n",
       "    <tr>\n",
       "      <th>20</th>\n",
       "      <td>4.5</td>\n",
       "      <td>-0.758916</td>\n",
       "    </tr>\n",
       "    <tr>\n",
       "      <th>22</th>\n",
       "      <td>4.5</td>\n",
       "      <td>-0.758328</td>\n",
       "    </tr>\n",
       "    <tr>\n",
       "      <th>24</th>\n",
       "      <td>4.5</td>\n",
       "      <td>-0.781257</td>\n",
       "    </tr>\n",
       "    <tr>\n",
       "      <th>26</th>\n",
       "      <td>4.5</td>\n",
       "      <td>-0.766936</td>\n",
       "    </tr>\n",
       "    <tr>\n",
       "      <th>28</th>\n",
       "      <td>4.5</td>\n",
       "      <td>-0.778760</td>\n",
       "    </tr>\n",
       "    <tr>\n",
       "      <th>30</th>\n",
       "      <td>4.5</td>\n",
       "      <td>-0.792217</td>\n",
       "    </tr>\n",
       "    <tr>\n",
       "      <th>32</th>\n",
       "      <td>4.5</td>\n",
       "      <td>-0.791015</td>\n",
       "    </tr>\n",
       "    <tr>\n",
       "      <th>34</th>\n",
       "      <td>4.5</td>\n",
       "      <td>-0.782623</td>\n",
       "    </tr>\n",
       "    <tr>\n",
       "      <th>36</th>\n",
       "      <td>4.5</td>\n",
       "      <td>-0.799923</td>\n",
       "    </tr>\n",
       "    <tr>\n",
       "      <th>38</th>\n",
       "      <td>4.5</td>\n",
       "      <td>-0.803663</td>\n",
       "    </tr>\n",
       "  </tbody>\n",
       "</table>\n",
       "</div>"
      ],
      "text/plain": [
       "            pass  coherence_score\n",
       "num_topics                       \n",
       "2            4.5        -0.719941\n",
       "4            4.5        -0.753785\n",
       "6            4.5        -0.751034\n",
       "8            4.5        -0.737404\n",
       "10           4.5        -0.748132\n",
       "12           4.5        -0.744319\n",
       "14           4.5        -0.764338\n",
       "16           4.5        -0.744966\n",
       "18           4.5        -0.777041\n",
       "20           4.5        -0.758916\n",
       "22           4.5        -0.758328\n",
       "24           4.5        -0.781257\n",
       "26           4.5        -0.766936\n",
       "28           4.5        -0.778760\n",
       "30           4.5        -0.792217\n",
       "32           4.5        -0.791015\n",
       "34           4.5        -0.782623\n",
       "36           4.5        -0.799923\n",
       "38           4.5        -0.803663"
      ]
     },
     "execution_count": 60,
     "metadata": {},
     "output_type": "execute_result"
    }
   ],
   "source": [
    "# Print the average coherence scores\n",
    "topic_coherence.groupby('num_topics').mean()"
   ]
  },
  {
   "cell_type": "code",
   "execution_count": null,
   "metadata": {},
   "outputs": [],
   "source": [
    "# Print the coherence scores\n",
    "for m, cv in zip(x, coherence_values):\n",
    "    print(\"Num Topics =\", m, \" has Coherence Value of\", round(cv, 4))"
   ]
  },
  {
   "cell_type": "code",
   "execution_count": 57,
   "metadata": {},
   "outputs": [
    {
     "data": {
      "text/plain": [
       "[(0, 0.016701119),\n",
       " (1, 0.01670116),\n",
       " (2, 0.01670115),\n",
       " (3, 0.016701119),\n",
       " (4, 0.016701132),\n",
       " (5, 0.01670112),\n",
       " (6, 0.016701119),\n",
       " (7, 0.016701138),\n",
       " (8, 0.016701119),\n",
       " (9, 0.016701167),\n",
       " (10, 0.7661841),\n",
       " (11, 0.016701164),\n",
       " (12, 0.01670119),\n",
       " (13, 0.016701119),\n",
       " (14, 0.016701119)]"
      ]
     },
     "execution_count": 57,
     "metadata": {},
     "output_type": "execute_result"
    }
   ],
   "source": [
    "lda[id2word.doc2bow(tokenize(\"This is a sample document to score with a topic distribution.\"))]"
   ]
  },
  {
   "cell_type": "markdown",
   "metadata": {},
   "source": [
    "# Sources\n",
    "\n",
    "### *References*\n",
    "* [Andrew Ng et al paper on LDA](https://ai.stanford.edu/~ang/papers/jair03-lda.pdf)\n",
    "* On [Coherence](https://pdfs.semanticscholar.org/1521/8d9c029cbb903ae7c729b2c644c24994c201.pdf)\n",
    "\n",
    "### *Resources*\n",
    "\n",
    "* [Gensim](https://radimrehurek.com/gensim/): Python package for topic modeling, nlp, word vectorization, and few other things. Well maintained and well documented.\n",
    "* [Topic Modeling with Gensim](http://www.machinelearningplus.com/nlp/topic-modeling-gensim-python/#11createthedictionaryandcorpusneededfortopicmodeling): A kind of cookbook for LDA with gensim. Excellent overview, but the you need to be aware of missing import statements and assumed prior knowledge.\n",
    "* [Chinese Restuarant Process](https://en.wikipedia.org/wiki/Chinese_restaurant_process): That really obscure stats thing I mentioned... \n",
    "* [PyLDAvis](https://github.com/bmabey/pyLDAvis): Library for visualizing the topic model and performing some exploratory work. Works well. Has a direct parrell implementation in R as well. \n",
    "* [Rare Technologies](https://rare-technologies.com/): The people that made & maintain gensim and a few other libraries.\n",
    "* [Jane Austen v. Charlotte Bronte](https://www.literaryladiesguide.com/literary-musings/jane-austen-charlotte-bronte-different-alike/)"
   ]
  }
 ],
 "metadata": {
  "kernelspec": {
   "display_name": "U4-S1-NLP (Python3)",
   "language": "python",
   "name": "u4-s1-nlp"
  },
  "language_info": {
   "codemirror_mode": {
    "name": "ipython",
    "version": 3
   },
   "file_extension": ".py",
   "mimetype": "text/x-python",
   "name": "python",
   "nbconvert_exporter": "python",
   "pygments_lexer": "ipython3",
   "version": "3.7.0"
  }
 },
 "nbformat": 4,
 "nbformat_minor": 4
}
